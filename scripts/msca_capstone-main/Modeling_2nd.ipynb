{
 "cells": [
  {
   "cell_type": "code",
   "execution_count": 1,
   "metadata": {},
   "outputs": [],
   "source": [
    "import pandas as pd\n",
    "import seaborn as sns\n",
    "import matplotlib.pyplot as plt\n",
    "import numpy as np\n",
    "import pandas as pd \n",
    "import statsmodels.formula.api as smf \n",
    "import statsmodels.api as sm \n",
    "from sklearn.model_selection import train_test_split \n",
    "import itertools\n",
    "%matplotlib inline\n",
    "import numpy as np\n",
    "from scipy import stats\n",
    "import seaborn as sns\n",
    "from sklearn.ensemble import RandomForestRegressor\n",
    "from sklearn.ensemble import AdaBoostRegressor\n",
    "import warnings\n",
    "warnings.filterwarnings(\"ignore\")\n",
    "from sklearn.preprocessing import StandardScaler\n",
    "from sklearn.linear_model import LinearRegression\n",
    "from sklearn.svm import SVR, LinearSVR\n",
    "from sklearn.tree import DecisionTreeRegressor\n",
    "from sklearn.ensemble import RandomForestRegressor\n",
    "from sklearn.linear_model import SGDRegressor\n",
    "from sklearn.metrics import mean_absolute_error #MAE\n",
    "from sklearn.metrics import mean_squared_error #MSE\n",
    "from sklearn.metrics import make_scorer, r2_score\n",
    "import xgboost as xgb\n",
    "from hyperopt import STATUS_OK, Trials, fmin, hp, tpe"
   ]
  },
  {
   "attachments": {},
   "cell_type": "markdown",
   "metadata": {},
   "source": [
    "# Machine Learning Modeling"
   ]
  },
  {
   "attachments": {},
   "cell_type": "markdown",
   "metadata": {},
   "source": [
    "## LowPrice Small size models"
   ]
  },
  {
   "attachments": {},
   "cell_type": "markdown",
   "metadata": {},
   "source": [
    "### Model with Statistically significant variables"
   ]
  },
  {
   "cell_type": "code",
   "execution_count": 100,
   "metadata": {},
   "outputs": [],
   "source": [
    "model_name = 'LowPrice_Smallsize'"
   ]
  },
  {
   "cell_type": "code",
   "execution_count": 2,
   "metadata": {},
   "outputs": [],
   "source": [
    "df_ml = pd.read_csv('../../01_Outputs/modeling_2nd/df_model_'+model_name+'.csv').dropna()"
   ]
  },
  {
   "cell_type": "code",
   "execution_count": 3,
   "metadata": {},
   "outputs": [],
   "source": [
    "target = 'TARGET_Weighted_RetailPrice'"
   ]
  },
  {
   "cell_type": "code",
   "execution_count": 4,
   "metadata": {},
   "outputs": [],
   "source": [
    "X = df_ml.drop(target, axis=1)"
   ]
  },
  {
   "cell_type": "code",
   "execution_count": 5,
   "metadata": {},
   "outputs": [],
   "source": [
    "y = df_ml[[target]]"
   ]
  },
  {
   "cell_type": "code",
   "execution_count": 6,
   "metadata": {},
   "outputs": [],
   "source": [
    "y = np.log(y)"
   ]
  },
  {
   "cell_type": "code",
   "execution_count": 7,
   "metadata": {},
   "outputs": [],
   "source": [
    "train_X, test_X, train_y, test_y = train_test_split(X, y, train_size=0.7, test_size=0.3, random_state=42)"
   ]
  },
  {
   "cell_type": "code",
   "execution_count": 8,
   "metadata": {},
   "outputs": [],
   "source": [
    "def rmse(y_true,y_pred):\n",
    "    rmse = np.sqrt(mean_squared_error(y_true,y_pred))\n",
    "    print('rmse',rmse)\n",
    "    return rmse"
   ]
  },
  {
   "cell_type": "code",
   "execution_count": 9,
   "metadata": {},
   "outputs": [],
   "source": [
    "def rsquare(y_true,y_pred):\n",
    "    rsquare = r2_score(y_true, y_pred)\n",
    "    print('rsquare',rsquare)\n",
    "    return rsquare"
   ]
  },
  {
   "cell_type": "code",
   "execution_count": 149,
   "metadata": {},
   "outputs": [],
   "source": [
    "def randomsearchRegression(model, parameters):\n",
    "    from sklearn.model_selection import RandomizedSearchCV\n",
    "    searcher = RandomizedSearchCV(model, parameters, cv=10, scoring=make_scorer(rsquare,greater_is_better=True))\n",
    "    searcher.fit(train_X, train_y)\n",
    "    print(\"Best CV params\", searcher.best_params_)\n",
    "    print(\"Best CV Rsquare\", searcher.best_score_)\n",
    "    print(\"Best train Rsquare\", searcher.score(train_X, train_y))\n",
    "    print(\"Test RMSE of best random search hypers:\", searcher.score(test_X, test_y))\n",
    "    return searcher.best_params_,  searcher.best_score_, searcher.score(test_X, test_y), searcher.score(train_X, train_y)"
   ]
  },
  {
   "cell_type": "code",
   "execution_count": 11,
   "metadata": {},
   "outputs": [],
   "source": [
    "models_dict = {}\n",
    "models_dict['random_forest'] = RandomForestRegressor()\n",
    "models_dict['adaboost'] = AdaBoostRegressor()\n",
    "models_dict['xgboost'] = xgb.XGBRegressor()"
   ]
  },
  {
   "cell_type": "code",
   "execution_count": 12,
   "metadata": {},
   "outputs": [],
   "source": [
    "result_dict = {}\n",
    "parameters_dct = {}\n",
    "parameters_dct['random_forest'] = {\"n_estimators\": [10, 100, 300, 500,1000],\n",
    "                                    \"max_depth\": [i for i in range(3,11)],\n",
    "                                    'max_features' : [i for i in range(1,train_X.shape[1])],\n",
    "                                    \"random_state\": [1],\n",
    "                                    \"min_samples_leaf\": [i for i in range(1, 21)]}\n",
    "parameters_dct['adaboost'] = {\"n_estimators\": [10, 100, 300, 500,1000],\n",
    "                                    'learning_rate':[0.0001, 0.001, 0.01, 0.1, 1],\n",
    "                                    'random_state': [1]}\n",
    "parameters_dct['xgboost'] = {\"n_estimators\": [10, 100, 300, 500,1000],\n",
    "                                    'learning_rate':[0.0001, 0.001, 0.01, 0.1, 1],\n",
    "                                    'max_depth':[1,3,5,7,10],\n",
    "                                    'gamma': [0.01*i for i in range(0,1000,100)],\n",
    "                                    'random_state': [1]}\n"
   ]
  },
  {
   "cell_type": "code",
   "execution_count": 13,
   "metadata": {},
   "outputs": [],
   "source": [
    "model_list = ['random_forest', 'adaboost', 'xgboost']"
   ]
  },
  {
   "cell_type": "code",
   "execution_count": 14,
   "metadata": {},
   "outputs": [
    {
     "name": "stdout",
     "output_type": "stream",
     "text": [
      "random_forest\n",
      "rsquare 0.9293552504322073\n",
      "rsquare 0.9180807680511375\n",
      "rsquare 0.9365749749490798\n",
      "rsquare 0.9089752252871253\n",
      "rsquare 0.9287232200971527\n",
      "rsquare 0.9074194681653875\n",
      "rsquare 0.9311473199573728\n",
      "rsquare 0.9165721324419487\n",
      "rsquare 0.9038173317965283\n",
      "rsquare 0.9206326715049596\n",
      "rsquare 0.9425114604486973\n",
      "rsquare 0.9297512607230931\n",
      "rsquare 0.9490270780684547\n",
      "rsquare 0.9413552026654732\n",
      "rsquare 0.9500388774504261\n",
      "rsquare 0.9328499262772579\n",
      "rsquare 0.9519890591191957\n",
      "rsquare 0.9308078225862474\n",
      "rsquare 0.9112499156634687\n",
      "rsquare 0.9446278532625338\n",
      "rsquare 0.9054786746612642\n",
      "rsquare 0.8834978144931571\n",
      "rsquare 0.9050687455218335\n",
      "rsquare 0.8746824347332031\n",
      "rsquare 0.9008701256652992\n",
      "rsquare 0.8794055499474612\n",
      "rsquare 0.902220239304772\n",
      "rsquare 0.8778786307193338\n",
      "rsquare 0.8614482026061354\n",
      "rsquare 0.8959188125471129\n",
      "rsquare 0.919132647708897\n",
      "rsquare 0.9030368887158744\n",
      "rsquare 0.9234192230458212\n",
      "rsquare 0.907708259130274\n",
      "rsquare 0.9343859664829979\n",
      "rsquare 0.9154403145938481\n",
      "rsquare 0.9352187473832575\n",
      "rsquare 0.9044633161194714\n",
      "rsquare 0.8851785526023273\n",
      "rsquare 0.9323556213037917\n",
      "rsquare 0.9133692674534548\n",
      "rsquare 0.902100941537925\n",
      "rsquare 0.9233401758890722\n",
      "rsquare 0.8925048983736263\n",
      "rsquare 0.917257955283735\n",
      "rsquare 0.9037141689797545\n",
      "rsquare 0.9196982211560905\n",
      "rsquare 0.91527131086983\n",
      "rsquare 0.892470294466523\n",
      "rsquare 0.9117218595414193\n",
      "rsquare 0.9391170475439765\n",
      "rsquare 0.9234993935876481\n",
      "rsquare 0.943347569898223\n",
      "rsquare 0.9278393960697923\n",
      "rsquare 0.9470445267635723\n",
      "rsquare 0.9328013266535243\n",
      "rsquare 0.9466431288251197\n",
      "rsquare 0.9190547026695604\n",
      "rsquare 0.8965847003756663\n",
      "rsquare 0.9453634711432605\n",
      "rsquare 0.9114430397203724\n",
      "rsquare 0.8993443374723564\n",
      "rsquare 0.9136971227308585\n",
      "rsquare 0.9060261749868541\n",
      "rsquare 0.9045341311991612\n",
      "rsquare 0.8875700610471333\n",
      "rsquare 0.9093162881993867\n",
      "rsquare 0.9148079085315772\n",
      "rsquare 0.8872087696275054\n",
      "rsquare 0.8968659667982172\n",
      "rsquare 0.9528430718839727\n",
      "rsquare 0.9438722050966666\n",
      "rsquare 0.9626425584553876\n",
      "rsquare 0.9458898744963483\n",
      "rsquare 0.9606877431759301\n",
      "rsquare 0.9475938128805802\n",
      "rsquare 0.9591960399462124\n",
      "rsquare 0.9343575687442776\n",
      "rsquare 0.9196408566274245\n",
      "rsquare 0.9564037571965956\n",
      "rsquare 0.9555175196798822\n",
      "rsquare 0.9449442169841659\n",
      "rsquare 0.9687397411352708\n",
      "rsquare 0.9497799612692417\n",
      "rsquare 0.9633785748992624\n",
      "rsquare 0.9516107915975619\n",
      "rsquare 0.9617958820434066\n",
      "rsquare 0.9407278267760848\n",
      "rsquare 0.923849873118034\n",
      "rsquare 0.9594873630202168\n",
      "rsquare 0.709978691732728\n",
      "rsquare 0.6960017303404339\n",
      "rsquare 0.7530327252615935\n",
      "rsquare 0.741356485328708\n",
      "rsquare 0.7648102478712702\n",
      "rsquare 0.7620514309140739\n",
      "rsquare 0.7491295953146309\n",
      "rsquare 0.689888714530006\n",
      "rsquare 0.7069876791927638\n",
      "rsquare 0.7591143875980332\n",
      "Best CV params {'random_state': 1, 'n_estimators': 100, 'min_samples_leaf': 4, 'max_features': 64, 'max_depth': 8}\n",
      "Best CV Rsquare -0.9519831750523128\n",
      "rsquare 0.9710583011320111\n",
      "Best train Rsquare -0.9710583011320111\n",
      "rsquare 0.9597981556651055\n",
      "Test RMSE of best random search hypers: -0.9597981556651055\n",
      "rsquare 0.9597981556651055\n",
      "rsquare 0.9710583011320111\n",
      "adaboost\n",
      "rsquare 0.8269476591377706\n",
      "rsquare 0.8114897618620949\n",
      "rsquare 0.8227307475926593\n",
      "rsquare 0.7950606127459126\n",
      "rsquare 0.7868951759528051\n",
      "rsquare 0.7649658728583901\n",
      "rsquare 0.795027516367585\n",
      "rsquare 0.8200597906106039\n",
      "rsquare 0.8251733903172873\n",
      "rsquare 0.7740798908082487\n",
      "rsquare 0.8296497238995035\n",
      "rsquare 0.8131184622277797\n",
      "rsquare 0.8177324530334329\n",
      "rsquare 0.7917758013258496\n",
      "rsquare 0.7953371872855397\n",
      "rsquare 0.747452579737212\n",
      "rsquare 0.8101428520427782\n",
      "rsquare 0.820162950881749\n",
      "rsquare 0.8159039597870399\n",
      "rsquare 0.7717641622626182\n",
      "rsquare 0.9123993377064112\n",
      "rsquare 0.8993940892537284\n",
      "rsquare 0.9255904756611079\n",
      "rsquare 0.9115262946119473\n",
      "rsquare 0.914283162738881\n",
      "rsquare 0.8954207328594774\n",
      "rsquare 0.921317068415463\n",
      "rsquare 0.9169323706614785\n",
      "rsquare 0.8938228835505111\n",
      "rsquare 0.9044447385463992\n",
      "rsquare 0.8278702438086644\n",
      "rsquare 0.803146624658871\n",
      "rsquare 0.8204802514900986\n",
      "rsquare 0.7910595867616053\n",
      "rsquare 0.7801354606492221\n",
      "rsquare 0.7504395888999347\n",
      "rsquare 0.7929331171794703\n",
      "rsquare 0.8167135039973484\n",
      "rsquare 0.8207850341358659\n",
      "rsquare 0.770530023951134\n",
      "rsquare 0.8820802635789985\n",
      "rsquare 0.8502404483934778\n",
      "rsquare 0.8755172842173351\n",
      "rsquare 0.8489245314643499\n",
      "rsquare 0.8445600720536548\n",
      "rsquare 0.8398514664902943\n",
      "rsquare 0.8599526910918072\n",
      "rsquare 0.863502984626674\n",
      "rsquare 0.8496693573539271\n",
      "rsquare 0.8433023138252882\n",
      "rsquare 0.9165168450511115\n",
      "rsquare 0.9045046448523412\n",
      "rsquare 0.920803614707599\n",
      "rsquare 0.9095495438990033\n",
      "rsquare 0.9139823913188424\n",
      "rsquare 0.8949846018529757\n",
      "rsquare 0.9227048206626014\n",
      "rsquare 0.9193417467260928\n",
      "rsquare 0.8935427773522878\n",
      "rsquare 0.9051276072574457\n",
      "rsquare 0.832419977533037\n",
      "rsquare 0.8131735346733897\n",
      "rsquare 0.8309181003324628\n",
      "rsquare 0.7984439922559037\n",
      "rsquare 0.7926904254785856\n",
      "rsquare 0.7737603160745945\n",
      "rsquare 0.8048903489204295\n",
      "rsquare 0.8243714126475008\n",
      "rsquare 0.8276013499524362\n",
      "rsquare 0.7787953468356132\n",
      "rsquare 0.9018809813529414\n",
      "rsquare 0.86867756654834\n",
      "rsquare 0.895097553162874\n",
      "rsquare 0.8679901531400367\n",
      "rsquare 0.8701806465255357\n",
      "rsquare 0.8665241800809229\n",
      "rsquare 0.878085947813161\n",
      "rsquare 0.8854560406156478\n",
      "rsquare 0.8722272519535355\n",
      "rsquare 0.8646894339361471\n",
      "rsquare 0.8262915764186981\n",
      "rsquare 0.8076696314183375\n",
      "rsquare 0.8243530690235118\n",
      "rsquare 0.786853536712193\n",
      "rsquare 0.7849896144933994\n",
      "rsquare 0.7563256372640087\n",
      "rsquare 0.7930602894865048\n",
      "rsquare 0.8113394839135178\n",
      "rsquare 0.8198507018954515\n",
      "rsquare 0.7700333373860335\n",
      "rsquare 0.9123510927523253\n",
      "rsquare 0.8949037935991562\n",
      "rsquare 0.9195113025748475\n",
      "rsquare 0.9041923651857656\n",
      "rsquare 0.906239834378258\n",
      "rsquare 0.8935879693760339\n",
      "rsquare 0.9135730735239936\n",
      "rsquare 0.9120074745774819\n",
      "rsquare 0.8920726439825957\n",
      "rsquare 0.8963914024806664\n",
      "Best CV params {'random_state': 1, 'n_estimators': 100, 'learning_rate': 1}\n",
      "Best CV Rsquare -0.9101058593680301\n",
      "rsquare 0.9235229111954836\n",
      "Best train Rsquare -0.9235229111954836\n",
      "rsquare 0.9161432949994871\n",
      "Test RMSE of best random search hypers: -0.9161432949994871\n",
      "rsquare 0.9161432949994871\n",
      "rsquare 0.9235229111954836\n",
      "xgboost\n",
      "rsquare -1638.8395198309606\n",
      "rsquare -1791.9747009978728\n",
      "rsquare -1637.8825261423888\n",
      "rsquare -1696.7713617137638\n",
      "rsquare -1646.7769109517233\n",
      "rsquare -1730.918834477166\n",
      "rsquare -1784.6266859699053\n",
      "rsquare -1800.1817488555018\n",
      "rsquare -1725.7201565629389\n",
      "rsquare -1734.4690636255705\n",
      "rsquare 0.7597351632659941\n",
      "rsquare 0.7449102304446023\n",
      "rsquare 0.7245610205187003\n",
      "rsquare 0.7459447589556938\n",
      "rsquare 0.7232383872964443\n",
      "rsquare 0.7498760397748574\n",
      "rsquare 0.7429619778506253\n",
      "rsquare 0.7513267055438286\n",
      "rsquare 0.7628055050254999\n",
      "rsquare 0.7286409569869672\n",
      "rsquare -1638.8542603504668\n",
      "rsquare -1791.990783824293\n",
      "rsquare -1637.8972613714113\n",
      "rsquare -1696.7866765709996\n",
      "rsquare -1646.79176152314\n",
      "rsquare -1730.9343617221498\n",
      "rsquare -1784.642763454883\n",
      "rsquare -1800.1979171024093\n",
      "rsquare -1725.73565457492\n",
      "rsquare -1734.4846920867808\n",
      "rsquare -1513.0608650801146\n",
      "rsquare -1654.1447317034958\n",
      "rsquare -1511.7659233069276\n",
      "rsquare -1566.0520170472894\n",
      "rsquare -1520.2211348634808\n",
      "rsquare -1598.057192609778\n",
      "rsquare -1647.6273295571873\n",
      "rsquare -1662.0295873752925\n",
      "rsquare -1593.2960606380216\n",
      "rsquare -1601.092842325762\n",
      "rsquare -1369.1943405490324\n",
      "rsquare -1496.5101060136747\n",
      "rsquare -1367.5353401130965\n",
      "rsquare -1416.5611159791952\n",
      "rsquare -1375.474920075429\n",
      "rsquare -1446.0900957865679\n",
      "rsquare -1490.92799597359\n",
      "rsquare -1504.0094484811839\n",
      "rsquare -1441.8269086183832\n",
      "rsquare -1448.5502160491833\n",
      "rsquare -203.63442190750655\n",
      "rsquare -221.80777745595756\n",
      "rsquare -202.42291672548038\n",
      "rsquare -208.97475801668833\n",
      "rsquare -203.86817935391844\n",
      "rsquare -215.1764571222277\n",
      "rsquare -221.91927645949414\n",
      "rsquare -224.15271176492485\n",
      "rsquare -214.67014632694696\n",
      "rsquare -214.57687056387607\n",
      "rsquare 0.5760557451466022\n",
      "rsquare 0.5906053413514711\n",
      "rsquare 0.6148328142100914\n",
      "rsquare 0.6293904681180968\n",
      "rsquare 0.6108712688774627\n",
      "rsquare 0.5792371005796634\n",
      "rsquare 0.5866361317048767\n",
      "rsquare 0.576977450232212\n",
      "rsquare 0.565368502051103\n",
      "rsquare 0.6166207977739231\n",
      "rsquare 0.8637326875838969\n",
      "rsquare 0.8591499742053877\n",
      "rsquare 0.8729506930556665\n",
      "rsquare 0.8595457733453048\n",
      "rsquare 0.8764672885347623\n",
      "rsquare 0.8623171232434065\n",
      "rsquare 0.87328261128568\n",
      "rsquare 0.8521866010526082\n",
      "rsquare 0.8353039113519165\n",
      "rsquare 0.8669129929943534\n",
      "rsquare -1638.8542603504668\n",
      "rsquare -1791.990783824293\n",
      "rsquare -1637.8972613714113\n",
      "rsquare -1696.7866765709996\n",
      "rsquare -1646.79176152314\n",
      "rsquare -1730.9343617221498\n",
      "rsquare -1784.642763454883\n",
      "rsquare -1800.1979171024093\n",
      "rsquare -1725.73565457492\n",
      "rsquare -1734.4846920867808\n",
      "rsquare 0.9277380370887555\n",
      "rsquare 0.9140762052413751\n",
      "rsquare 0.9451440829459452\n",
      "rsquare 0.9465918602679246\n",
      "rsquare 0.9277728279955926\n",
      "rsquare 0.9346421112888799\n",
      "rsquare 0.9516183737653667\n",
      "rsquare 0.922056978819432\n",
      "rsquare 0.9256660215745524\n",
      "rsquare 0.939519936817774\n",
      "Best CV params {'random_state': 1, 'n_estimators': 10, 'max_depth': 7, 'learning_rate': 1, 'gamma': 0.0}\n",
      "Best CV Rsquare -0.9334826435805598\n",
      "rsquare 0.9899227404691753\n",
      "Best train Rsquare -0.9899227404691753\n",
      "rsquare 0.9321876697532843\n",
      "Test RMSE of best random search hypers: -0.9321876697532843\n",
      "rsquare 0.9321876697532843\n",
      "rsquare 0.9899227404691753\n"
     ]
    }
   ],
   "source": [
    "result_dict = {}\n",
    "for model in model_list:\n",
    "    print(model)\n",
    "    result_dict[model + '_param'], \\\n",
    "    result_dict[model + '_cvacc'], \\\n",
    "    result_dict[model + '_testacc'],\\\n",
    "    result_dict[model + '_trainacc'] \\\n",
    "    = randomsearchRegression(models_dict[model], parameters_dct[model])"
   ]
  },
  {
   "attachments": {},
   "cell_type": "markdown",
   "metadata": {},
   "source": [
    "#### Random Forest result"
   ]
  },
  {
   "cell_type": "code",
   "execution_count": 21,
   "metadata": {},
   "outputs": [],
   "source": [
    "best_randomforest = RandomForestRegressor(random_state= 1, n_estimators= 100, min_samples_leaf= 4, max_features= 64, max_depth= 8)"
   ]
  },
  {
   "cell_type": "code",
   "execution_count": 22,
   "metadata": {},
   "outputs": [
    {
     "data": {
      "text/html": [
       "<style>#sk-container-id-2 {color: black;background-color: white;}#sk-container-id-2 pre{padding: 0;}#sk-container-id-2 div.sk-toggleable {background-color: white;}#sk-container-id-2 label.sk-toggleable__label {cursor: pointer;display: block;width: 100%;margin-bottom: 0;padding: 0.3em;box-sizing: border-box;text-align: center;}#sk-container-id-2 label.sk-toggleable__label-arrow:before {content: \"▸\";float: left;margin-right: 0.25em;color: #696969;}#sk-container-id-2 label.sk-toggleable__label-arrow:hover:before {color: black;}#sk-container-id-2 div.sk-estimator:hover label.sk-toggleable__label-arrow:before {color: black;}#sk-container-id-2 div.sk-toggleable__content {max-height: 0;max-width: 0;overflow: hidden;text-align: left;background-color: #f0f8ff;}#sk-container-id-2 div.sk-toggleable__content pre {margin: 0.2em;color: black;border-radius: 0.25em;background-color: #f0f8ff;}#sk-container-id-2 input.sk-toggleable__control:checked~div.sk-toggleable__content {max-height: 200px;max-width: 100%;overflow: auto;}#sk-container-id-2 input.sk-toggleable__control:checked~label.sk-toggleable__label-arrow:before {content: \"▾\";}#sk-container-id-2 div.sk-estimator input.sk-toggleable__control:checked~label.sk-toggleable__label {background-color: #d4ebff;}#sk-container-id-2 div.sk-label input.sk-toggleable__control:checked~label.sk-toggleable__label {background-color: #d4ebff;}#sk-container-id-2 input.sk-hidden--visually {border: 0;clip: rect(1px 1px 1px 1px);clip: rect(1px, 1px, 1px, 1px);height: 1px;margin: -1px;overflow: hidden;padding: 0;position: absolute;width: 1px;}#sk-container-id-2 div.sk-estimator {font-family: monospace;background-color: #f0f8ff;border: 1px dotted black;border-radius: 0.25em;box-sizing: border-box;margin-bottom: 0.5em;}#sk-container-id-2 div.sk-estimator:hover {background-color: #d4ebff;}#sk-container-id-2 div.sk-parallel-item::after {content: \"\";width: 100%;border-bottom: 1px solid gray;flex-grow: 1;}#sk-container-id-2 div.sk-label:hover label.sk-toggleable__label {background-color: #d4ebff;}#sk-container-id-2 div.sk-serial::before {content: \"\";position: absolute;border-left: 1px solid gray;box-sizing: border-box;top: 0;bottom: 0;left: 50%;z-index: 0;}#sk-container-id-2 div.sk-serial {display: flex;flex-direction: column;align-items: center;background-color: white;padding-right: 0.2em;padding-left: 0.2em;position: relative;}#sk-container-id-2 div.sk-item {position: relative;z-index: 1;}#sk-container-id-2 div.sk-parallel {display: flex;align-items: stretch;justify-content: center;background-color: white;position: relative;}#sk-container-id-2 div.sk-item::before, #sk-container-id-2 div.sk-parallel-item::before {content: \"\";position: absolute;border-left: 1px solid gray;box-sizing: border-box;top: 0;bottom: 0;left: 50%;z-index: -1;}#sk-container-id-2 div.sk-parallel-item {display: flex;flex-direction: column;z-index: 1;position: relative;background-color: white;}#sk-container-id-2 div.sk-parallel-item:first-child::after {align-self: flex-end;width: 50%;}#sk-container-id-2 div.sk-parallel-item:last-child::after {align-self: flex-start;width: 50%;}#sk-container-id-2 div.sk-parallel-item:only-child::after {width: 0;}#sk-container-id-2 div.sk-dashed-wrapped {border: 1px dashed gray;margin: 0 0.4em 0.5em 0.4em;box-sizing: border-box;padding-bottom: 0.4em;background-color: white;}#sk-container-id-2 div.sk-label label {font-family: monospace;font-weight: bold;display: inline-block;line-height: 1.2em;}#sk-container-id-2 div.sk-label-container {text-align: center;}#sk-container-id-2 div.sk-container {/* jupyter's `normalize.less` sets `[hidden] { display: none; }` but bootstrap.min.css set `[hidden] { display: none !important; }` so we also need the `!important` here to be able to override the default hidden behavior on the sphinx rendered scikit-learn.org. See: https://github.com/scikit-learn/scikit-learn/issues/21755 */display: inline-block !important;position: relative;}#sk-container-id-2 div.sk-text-repr-fallback {display: none;}</style><div id=\"sk-container-id-2\" class=\"sk-top-container\"><div class=\"sk-text-repr-fallback\"><pre>RandomForestRegressor(max_depth=8, max_features=64, min_samples_leaf=4,\n",
       "                      random_state=1)</pre><b>In a Jupyter environment, please rerun this cell to show the HTML representation or trust the notebook. <br />On GitHub, the HTML representation is unable to render, please try loading this page with nbviewer.org.</b></div><div class=\"sk-container\" hidden><div class=\"sk-item\"><div class=\"sk-estimator sk-toggleable\"><input class=\"sk-toggleable__control sk-hidden--visually\" id=\"sk-estimator-id-2\" type=\"checkbox\" checked><label for=\"sk-estimator-id-2\" class=\"sk-toggleable__label sk-toggleable__label-arrow\">RandomForestRegressor</label><div class=\"sk-toggleable__content\"><pre>RandomForestRegressor(max_depth=8, max_features=64, min_samples_leaf=4,\n",
       "                      random_state=1)</pre></div></div></div></div></div>"
      ],
      "text/plain": [
       "RandomForestRegressor(max_depth=8, max_features=64, min_samples_leaf=4,\n",
       "                      random_state=1)"
      ]
     },
     "execution_count": 22,
     "metadata": {},
     "output_type": "execute_result"
    }
   ],
   "source": [
    "best_randomforest.fit(train_X, train_y)"
   ]
  },
  {
   "cell_type": "code",
   "execution_count": 23,
   "metadata": {},
   "outputs": [],
   "source": [
    "pred_y = best_randomforest.predict(test_X)"
   ]
  },
  {
   "cell_type": "code",
   "execution_count": 24,
   "metadata": {},
   "outputs": [
    {
     "name": "stdout",
     "output_type": "stream",
     "text": [
      "rmse 1395.0881346695846\n"
     ]
    },
    {
     "data": {
      "text/plain": [
       "1395.0881346695846"
      ]
     },
     "execution_count": 24,
     "metadata": {},
     "output_type": "execute_result"
    }
   ],
   "source": [
    "rmse(np.exp(pred_y), np.exp(test_y['TARGET_Weighted_RetailPrice']).values)"
   ]
  },
  {
   "cell_type": "code",
   "execution_count": 25,
   "metadata": {},
   "outputs": [
    {
     "data": {
      "text/plain": [
       "0.9376906830027029"
      ]
     },
     "execution_count": 25,
     "metadata": {},
     "output_type": "execute_result"
    }
   ],
   "source": [
    "r2_score(np.exp(pred_y), np.exp(test_y['TARGET_Weighted_RetailPrice']).values)"
   ]
  },
  {
   "cell_type": "code",
   "execution_count": 26,
   "metadata": {},
   "outputs": [],
   "source": [
    "RF_importances = best_randomforest.feature_importances_"
   ]
  },
  {
   "cell_type": "code",
   "execution_count": 27,
   "metadata": {},
   "outputs": [],
   "source": [
    "feature_names = list(X.columns)"
   ]
  },
  {
   "cell_type": "code",
   "execution_count": 28,
   "metadata": {},
   "outputs": [],
   "source": [
    "RF_importances = pd.DataFrame(RF_importances, columns=['importances'], index=feature_names)"
   ]
  },
  {
   "cell_type": "code",
   "execution_count": 29,
   "metadata": {},
   "outputs": [
    {
     "data": {
      "text/html": [
       "<div>\n",
       "<style scoped>\n",
       "    .dataframe tbody tr th:only-of-type {\n",
       "        vertical-align: middle;\n",
       "    }\n",
       "\n",
       "    .dataframe tbody tr th {\n",
       "        vertical-align: top;\n",
       "    }\n",
       "\n",
       "    .dataframe thead th {\n",
       "        text-align: right;\n",
       "    }\n",
       "</style>\n",
       "<table border=\"1\" class=\"dataframe\">\n",
       "  <thead>\n",
       "    <tr style=\"text-align: right;\">\n",
       "      <th></th>\n",
       "      <th>importances</th>\n",
       "    </tr>\n",
       "  </thead>\n",
       "  <tbody>\n",
       "    <tr>\n",
       "      <th>MSRP_prevMY_WeightedByVol</th>\n",
       "      <td>0.165816</td>\n",
       "    </tr>\n",
       "    <tr>\n",
       "      <th>SPEC_published_kerb_weight_kg</th>\n",
       "      <td>0.153307</td>\n",
       "    </tr>\n",
       "    <tr>\n",
       "      <th>SPEC_maximum_torque_Nm</th>\n",
       "      <td>0.105713</td>\n",
       "    </tr>\n",
       "    <tr>\n",
       "      <th>SPEC_wheelrim_diameter_inch</th>\n",
       "      <td>0.060024</td>\n",
       "    </tr>\n",
       "    <tr>\n",
       "      <th>SPEC_FRDRseat_reclining_manual</th>\n",
       "      <td>0.051802</td>\n",
       "    </tr>\n",
       "    <tr>\n",
       "      <th>...</th>\n",
       "      <td>...</td>\n",
       "    </tr>\n",
       "    <tr>\n",
       "      <th>SPEC_luxurytrim_door_leather</th>\n",
       "      <td>0.000000</td>\n",
       "    </tr>\n",
       "    <tr>\n",
       "      <th>SPEC_folds_electrically</th>\n",
       "      <td>0.000000</td>\n",
       "    </tr>\n",
       "    <tr>\n",
       "      <th>SPEC_MirrorLink</th>\n",
       "      <td>0.000000</td>\n",
       "    </tr>\n",
       "    <tr>\n",
       "      <th>SPEC_Online_entertainment</th>\n",
       "      <td>0.000000</td>\n",
       "    </tr>\n",
       "    <tr>\n",
       "      <th>SPEC_FRPGseat_lumbar_memory</th>\n",
       "      <td>0.000000</td>\n",
       "    </tr>\n",
       "  </tbody>\n",
       "</table>\n",
       "<p>343 rows × 1 columns</p>\n",
       "</div>"
      ],
      "text/plain": [
       "                                importances\n",
       "MSRP_prevMY_WeightedByVol          0.165816\n",
       "SPEC_published_kerb_weight_kg      0.153307\n",
       "SPEC_maximum_torque_Nm             0.105713\n",
       "SPEC_wheelrim_diameter_inch        0.060024\n",
       "SPEC_FRDRseat_reclining_manual     0.051802\n",
       "...                                     ...\n",
       "SPEC_luxurytrim_door_leather       0.000000\n",
       "SPEC_folds_electrically            0.000000\n",
       "SPEC_MirrorLink                    0.000000\n",
       "SPEC_Online_entertainment          0.000000\n",
       "SPEC_FRPGseat_lumbar_memory        0.000000\n",
       "\n",
       "[343 rows x 1 columns]"
      ]
     },
     "execution_count": 29,
     "metadata": {},
     "output_type": "execute_result"
    }
   ],
   "source": [
    "RF_importances.sort_values(by='importances', ascending=False)"
   ]
  },
  {
   "attachments": {},
   "cell_type": "markdown",
   "metadata": {},
   "source": [
    "#### Adaboost result"
   ]
  },
  {
   "cell_type": "code",
   "execution_count": 30,
   "metadata": {},
   "outputs": [],
   "source": [
    "best_adaboost= AdaBoostRegressor(random_state=1, n_estimators=100, learning_rate=1)\n"
   ]
  },
  {
   "cell_type": "code",
   "execution_count": 31,
   "metadata": {},
   "outputs": [
    {
     "data": {
      "text/html": [
       "<style>#sk-container-id-3 {color: black;background-color: white;}#sk-container-id-3 pre{padding: 0;}#sk-container-id-3 div.sk-toggleable {background-color: white;}#sk-container-id-3 label.sk-toggleable__label {cursor: pointer;display: block;width: 100%;margin-bottom: 0;padding: 0.3em;box-sizing: border-box;text-align: center;}#sk-container-id-3 label.sk-toggleable__label-arrow:before {content: \"▸\";float: left;margin-right: 0.25em;color: #696969;}#sk-container-id-3 label.sk-toggleable__label-arrow:hover:before {color: black;}#sk-container-id-3 div.sk-estimator:hover label.sk-toggleable__label-arrow:before {color: black;}#sk-container-id-3 div.sk-toggleable__content {max-height: 0;max-width: 0;overflow: hidden;text-align: left;background-color: #f0f8ff;}#sk-container-id-3 div.sk-toggleable__content pre {margin: 0.2em;color: black;border-radius: 0.25em;background-color: #f0f8ff;}#sk-container-id-3 input.sk-toggleable__control:checked~div.sk-toggleable__content {max-height: 200px;max-width: 100%;overflow: auto;}#sk-container-id-3 input.sk-toggleable__control:checked~label.sk-toggleable__label-arrow:before {content: \"▾\";}#sk-container-id-3 div.sk-estimator input.sk-toggleable__control:checked~label.sk-toggleable__label {background-color: #d4ebff;}#sk-container-id-3 div.sk-label input.sk-toggleable__control:checked~label.sk-toggleable__label {background-color: #d4ebff;}#sk-container-id-3 input.sk-hidden--visually {border: 0;clip: rect(1px 1px 1px 1px);clip: rect(1px, 1px, 1px, 1px);height: 1px;margin: -1px;overflow: hidden;padding: 0;position: absolute;width: 1px;}#sk-container-id-3 div.sk-estimator {font-family: monospace;background-color: #f0f8ff;border: 1px dotted black;border-radius: 0.25em;box-sizing: border-box;margin-bottom: 0.5em;}#sk-container-id-3 div.sk-estimator:hover {background-color: #d4ebff;}#sk-container-id-3 div.sk-parallel-item::after {content: \"\";width: 100%;border-bottom: 1px solid gray;flex-grow: 1;}#sk-container-id-3 div.sk-label:hover label.sk-toggleable__label {background-color: #d4ebff;}#sk-container-id-3 div.sk-serial::before {content: \"\";position: absolute;border-left: 1px solid gray;box-sizing: border-box;top: 0;bottom: 0;left: 50%;z-index: 0;}#sk-container-id-3 div.sk-serial {display: flex;flex-direction: column;align-items: center;background-color: white;padding-right: 0.2em;padding-left: 0.2em;position: relative;}#sk-container-id-3 div.sk-item {position: relative;z-index: 1;}#sk-container-id-3 div.sk-parallel {display: flex;align-items: stretch;justify-content: center;background-color: white;position: relative;}#sk-container-id-3 div.sk-item::before, #sk-container-id-3 div.sk-parallel-item::before {content: \"\";position: absolute;border-left: 1px solid gray;box-sizing: border-box;top: 0;bottom: 0;left: 50%;z-index: -1;}#sk-container-id-3 div.sk-parallel-item {display: flex;flex-direction: column;z-index: 1;position: relative;background-color: white;}#sk-container-id-3 div.sk-parallel-item:first-child::after {align-self: flex-end;width: 50%;}#sk-container-id-3 div.sk-parallel-item:last-child::after {align-self: flex-start;width: 50%;}#sk-container-id-3 div.sk-parallel-item:only-child::after {width: 0;}#sk-container-id-3 div.sk-dashed-wrapped {border: 1px dashed gray;margin: 0 0.4em 0.5em 0.4em;box-sizing: border-box;padding-bottom: 0.4em;background-color: white;}#sk-container-id-3 div.sk-label label {font-family: monospace;font-weight: bold;display: inline-block;line-height: 1.2em;}#sk-container-id-3 div.sk-label-container {text-align: center;}#sk-container-id-3 div.sk-container {/* jupyter's `normalize.less` sets `[hidden] { display: none; }` but bootstrap.min.css set `[hidden] { display: none !important; }` so we also need the `!important` here to be able to override the default hidden behavior on the sphinx rendered scikit-learn.org. See: https://github.com/scikit-learn/scikit-learn/issues/21755 */display: inline-block !important;position: relative;}#sk-container-id-3 div.sk-text-repr-fallback {display: none;}</style><div id=\"sk-container-id-3\" class=\"sk-top-container\"><div class=\"sk-text-repr-fallback\"><pre>AdaBoostRegressor(learning_rate=1, n_estimators=100, random_state=1)</pre><b>In a Jupyter environment, please rerun this cell to show the HTML representation or trust the notebook. <br />On GitHub, the HTML representation is unable to render, please try loading this page with nbviewer.org.</b></div><div class=\"sk-container\" hidden><div class=\"sk-item\"><div class=\"sk-estimator sk-toggleable\"><input class=\"sk-toggleable__control sk-hidden--visually\" id=\"sk-estimator-id-3\" type=\"checkbox\" checked><label for=\"sk-estimator-id-3\" class=\"sk-toggleable__label sk-toggleable__label-arrow\">AdaBoostRegressor</label><div class=\"sk-toggleable__content\"><pre>AdaBoostRegressor(learning_rate=1, n_estimators=100, random_state=1)</pre></div></div></div></div></div>"
      ],
      "text/plain": [
       "AdaBoostRegressor(learning_rate=1, n_estimators=100, random_state=1)"
      ]
     },
     "execution_count": 31,
     "metadata": {},
     "output_type": "execute_result"
    }
   ],
   "source": [
    "best_adaboost.fit(train_X, train_y)"
   ]
  },
  {
   "cell_type": "code",
   "execution_count": 32,
   "metadata": {},
   "outputs": [],
   "source": [
    "pred_y = best_adaboost.predict(test_X)"
   ]
  },
  {
   "cell_type": "code",
   "execution_count": 33,
   "metadata": {},
   "outputs": [
    {
     "name": "stdout",
     "output_type": "stream",
     "text": [
      "rmse 1868.2917764347735\n"
     ]
    },
    {
     "data": {
      "text/plain": [
       "1868.2917764347735"
      ]
     },
     "execution_count": 33,
     "metadata": {},
     "output_type": "execute_result"
    }
   ],
   "source": [
    "rmse(np.exp(pred_y), np.exp(test_y['TARGET_Weighted_RetailPrice']).values)"
   ]
  },
  {
   "cell_type": "code",
   "execution_count": 34,
   "metadata": {},
   "outputs": [
    {
     "data": {
      "text/plain": [
       "0.8740406167084673"
      ]
     },
     "execution_count": 34,
     "metadata": {},
     "output_type": "execute_result"
    }
   ],
   "source": [
    "r2_score(np.exp(pred_y), np.exp(test_y['TARGET_Weighted_RetailPrice']).values)"
   ]
  },
  {
   "cell_type": "code",
   "execution_count": 35,
   "metadata": {},
   "outputs": [],
   "source": [
    "AB_importances = best_adaboost.feature_importances_"
   ]
  },
  {
   "cell_type": "code",
   "execution_count": 36,
   "metadata": {},
   "outputs": [],
   "source": [
    "AB_importances = pd.DataFrame(AB_importances, columns=['importances'], index=feature_names)"
   ]
  },
  {
   "cell_type": "code",
   "execution_count": 37,
   "metadata": {},
   "outputs": [
    {
     "data": {
      "text/html": [
       "<div>\n",
       "<style scoped>\n",
       "    .dataframe tbody tr th:only-of-type {\n",
       "        vertical-align: middle;\n",
       "    }\n",
       "\n",
       "    .dataframe tbody tr th {\n",
       "        vertical-align: top;\n",
       "    }\n",
       "\n",
       "    .dataframe thead th {\n",
       "        text-align: right;\n",
       "    }\n",
       "</style>\n",
       "<table border=\"1\" class=\"dataframe\">\n",
       "  <thead>\n",
       "    <tr style=\"text-align: right;\">\n",
       "      <th></th>\n",
       "      <th>importances</th>\n",
       "    </tr>\n",
       "  </thead>\n",
       "  <tbody>\n",
       "    <tr>\n",
       "      <th>SPEC_published_kerb_weight_kg</th>\n",
       "      <td>0.238833</td>\n",
       "    </tr>\n",
       "    <tr>\n",
       "      <th>SPEC_maximum_torque_Nm</th>\n",
       "      <td>0.215234</td>\n",
       "    </tr>\n",
       "    <tr>\n",
       "      <th>MSRP_prevMY_WeightedByVol</th>\n",
       "      <td>0.111470</td>\n",
       "    </tr>\n",
       "    <tr>\n",
       "      <th>SPEC_Seatmaterial_cloth</th>\n",
       "      <td>0.040783</td>\n",
       "    </tr>\n",
       "    <tr>\n",
       "      <th>SPEC_LED_lights</th>\n",
       "      <td>0.034269</td>\n",
       "    </tr>\n",
       "    <tr>\n",
       "      <th>...</th>\n",
       "      <td>...</td>\n",
       "    </tr>\n",
       "    <tr>\n",
       "      <th>PROFILE_Make_JEEP</th>\n",
       "      <td>0.000000</td>\n",
       "    </tr>\n",
       "    <tr>\n",
       "      <th>SPEC_RRseat_type_split_bench</th>\n",
       "      <td>0.000000</td>\n",
       "    </tr>\n",
       "    <tr>\n",
       "      <th>SPEC_memory</th>\n",
       "      <td>0.000000</td>\n",
       "    </tr>\n",
       "    <tr>\n",
       "      <th>SPEC_BelowseatStorage_passenger</th>\n",
       "      <td>0.000000</td>\n",
       "    </tr>\n",
       "    <tr>\n",
       "      <th>SPEC_FRDRseat_reclining_electric</th>\n",
       "      <td>0.000000</td>\n",
       "    </tr>\n",
       "  </tbody>\n",
       "</table>\n",
       "<p>343 rows × 1 columns</p>\n",
       "</div>"
      ],
      "text/plain": [
       "                                  importances\n",
       "SPEC_published_kerb_weight_kg        0.238833\n",
       "SPEC_maximum_torque_Nm               0.215234\n",
       "MSRP_prevMY_WeightedByVol            0.111470\n",
       "SPEC_Seatmaterial_cloth              0.040783\n",
       "SPEC_LED_lights                      0.034269\n",
       "...                                       ...\n",
       "PROFILE_Make_JEEP                    0.000000\n",
       "SPEC_RRseat_type_split_bench         0.000000\n",
       "SPEC_memory                          0.000000\n",
       "SPEC_BelowseatStorage_passenger      0.000000\n",
       "SPEC_FRDRseat_reclining_electric     0.000000\n",
       "\n",
       "[343 rows x 1 columns]"
      ]
     },
     "execution_count": 37,
     "metadata": {},
     "output_type": "execute_result"
    }
   ],
   "source": [
    "AB_importances.sort_values(by='importances', ascending=False)"
   ]
  },
  {
   "attachments": {},
   "cell_type": "markdown",
   "metadata": {},
   "source": [
    "#### XGboost result"
   ]
  },
  {
   "cell_type": "code",
   "execution_count": 41,
   "metadata": {},
   "outputs": [],
   "source": [
    "best_xgboost = xgb.XGBRegressor(random_state=1, n_estimators=10,max_depth=7, learning_rate=1, gamma=0)"
   ]
  },
  {
   "cell_type": "code",
   "execution_count": 42,
   "metadata": {},
   "outputs": [
    {
     "data": {
      "text/html": [
       "<style>#sk-container-id-4 {color: black;background-color: white;}#sk-container-id-4 pre{padding: 0;}#sk-container-id-4 div.sk-toggleable {background-color: white;}#sk-container-id-4 label.sk-toggleable__label {cursor: pointer;display: block;width: 100%;margin-bottom: 0;padding: 0.3em;box-sizing: border-box;text-align: center;}#sk-container-id-4 label.sk-toggleable__label-arrow:before {content: \"▸\";float: left;margin-right: 0.25em;color: #696969;}#sk-container-id-4 label.sk-toggleable__label-arrow:hover:before {color: black;}#sk-container-id-4 div.sk-estimator:hover label.sk-toggleable__label-arrow:before {color: black;}#sk-container-id-4 div.sk-toggleable__content {max-height: 0;max-width: 0;overflow: hidden;text-align: left;background-color: #f0f8ff;}#sk-container-id-4 div.sk-toggleable__content pre {margin: 0.2em;color: black;border-radius: 0.25em;background-color: #f0f8ff;}#sk-container-id-4 input.sk-toggleable__control:checked~div.sk-toggleable__content {max-height: 200px;max-width: 100%;overflow: auto;}#sk-container-id-4 input.sk-toggleable__control:checked~label.sk-toggleable__label-arrow:before {content: \"▾\";}#sk-container-id-4 div.sk-estimator input.sk-toggleable__control:checked~label.sk-toggleable__label {background-color: #d4ebff;}#sk-container-id-4 div.sk-label input.sk-toggleable__control:checked~label.sk-toggleable__label {background-color: #d4ebff;}#sk-container-id-4 input.sk-hidden--visually {border: 0;clip: rect(1px 1px 1px 1px);clip: rect(1px, 1px, 1px, 1px);height: 1px;margin: -1px;overflow: hidden;padding: 0;position: absolute;width: 1px;}#sk-container-id-4 div.sk-estimator {font-family: monospace;background-color: #f0f8ff;border: 1px dotted black;border-radius: 0.25em;box-sizing: border-box;margin-bottom: 0.5em;}#sk-container-id-4 div.sk-estimator:hover {background-color: #d4ebff;}#sk-container-id-4 div.sk-parallel-item::after {content: \"\";width: 100%;border-bottom: 1px solid gray;flex-grow: 1;}#sk-container-id-4 div.sk-label:hover label.sk-toggleable__label {background-color: #d4ebff;}#sk-container-id-4 div.sk-serial::before {content: \"\";position: absolute;border-left: 1px solid gray;box-sizing: border-box;top: 0;bottom: 0;left: 50%;z-index: 0;}#sk-container-id-4 div.sk-serial {display: flex;flex-direction: column;align-items: center;background-color: white;padding-right: 0.2em;padding-left: 0.2em;position: relative;}#sk-container-id-4 div.sk-item {position: relative;z-index: 1;}#sk-container-id-4 div.sk-parallel {display: flex;align-items: stretch;justify-content: center;background-color: white;position: relative;}#sk-container-id-4 div.sk-item::before, #sk-container-id-4 div.sk-parallel-item::before {content: \"\";position: absolute;border-left: 1px solid gray;box-sizing: border-box;top: 0;bottom: 0;left: 50%;z-index: -1;}#sk-container-id-4 div.sk-parallel-item {display: flex;flex-direction: column;z-index: 1;position: relative;background-color: white;}#sk-container-id-4 div.sk-parallel-item:first-child::after {align-self: flex-end;width: 50%;}#sk-container-id-4 div.sk-parallel-item:last-child::after {align-self: flex-start;width: 50%;}#sk-container-id-4 div.sk-parallel-item:only-child::after {width: 0;}#sk-container-id-4 div.sk-dashed-wrapped {border: 1px dashed gray;margin: 0 0.4em 0.5em 0.4em;box-sizing: border-box;padding-bottom: 0.4em;background-color: white;}#sk-container-id-4 div.sk-label label {font-family: monospace;font-weight: bold;display: inline-block;line-height: 1.2em;}#sk-container-id-4 div.sk-label-container {text-align: center;}#sk-container-id-4 div.sk-container {/* jupyter's `normalize.less` sets `[hidden] { display: none; }` but bootstrap.min.css set `[hidden] { display: none !important; }` so we also need the `!important` here to be able to override the default hidden behavior on the sphinx rendered scikit-learn.org. See: https://github.com/scikit-learn/scikit-learn/issues/21755 */display: inline-block !important;position: relative;}#sk-container-id-4 div.sk-text-repr-fallback {display: none;}</style><div id=\"sk-container-id-4\" class=\"sk-top-container\"><div class=\"sk-text-repr-fallback\"><pre>XGBRegressor(base_score=None, booster=None, callbacks=None,\n",
       "             colsample_bylevel=None, colsample_bynode=None,\n",
       "             colsample_bytree=None, early_stopping_rounds=None,\n",
       "             enable_categorical=False, eval_metric=None, feature_types=None,\n",
       "             gamma=0, gpu_id=None, grow_policy=None, importance_type=None,\n",
       "             interaction_constraints=None, learning_rate=1, max_bin=None,\n",
       "             max_cat_threshold=None, max_cat_to_onehot=None,\n",
       "             max_delta_step=None, max_depth=7, max_leaves=None,\n",
       "             min_child_weight=None, missing=nan, monotone_constraints=None,\n",
       "             n_estimators=10, n_jobs=None, num_parallel_tree=None,\n",
       "             predictor=None, random_state=1, ...)</pre><b>In a Jupyter environment, please rerun this cell to show the HTML representation or trust the notebook. <br />On GitHub, the HTML representation is unable to render, please try loading this page with nbviewer.org.</b></div><div class=\"sk-container\" hidden><div class=\"sk-item\"><div class=\"sk-estimator sk-toggleable\"><input class=\"sk-toggleable__control sk-hidden--visually\" id=\"sk-estimator-id-4\" type=\"checkbox\" checked><label for=\"sk-estimator-id-4\" class=\"sk-toggleable__label sk-toggleable__label-arrow\">XGBRegressor</label><div class=\"sk-toggleable__content\"><pre>XGBRegressor(base_score=None, booster=None, callbacks=None,\n",
       "             colsample_bylevel=None, colsample_bynode=None,\n",
       "             colsample_bytree=None, early_stopping_rounds=None,\n",
       "             enable_categorical=False, eval_metric=None, feature_types=None,\n",
       "             gamma=0, gpu_id=None, grow_policy=None, importance_type=None,\n",
       "             interaction_constraints=None, learning_rate=1, max_bin=None,\n",
       "             max_cat_threshold=None, max_cat_to_onehot=None,\n",
       "             max_delta_step=None, max_depth=7, max_leaves=None,\n",
       "             min_child_weight=None, missing=nan, monotone_constraints=None,\n",
       "             n_estimators=10, n_jobs=None, num_parallel_tree=None,\n",
       "             predictor=None, random_state=1, ...)</pre></div></div></div></div></div>"
      ],
      "text/plain": [
       "XGBRegressor(base_score=None, booster=None, callbacks=None,\n",
       "             colsample_bylevel=None, colsample_bynode=None,\n",
       "             colsample_bytree=None, early_stopping_rounds=None,\n",
       "             enable_categorical=False, eval_metric=None, feature_types=None,\n",
       "             gamma=0, gpu_id=None, grow_policy=None, importance_type=None,\n",
       "             interaction_constraints=None, learning_rate=1, max_bin=None,\n",
       "             max_cat_threshold=None, max_cat_to_onehot=None,\n",
       "             max_delta_step=None, max_depth=7, max_leaves=None,\n",
       "             min_child_weight=None, missing=nan, monotone_constraints=None,\n",
       "             n_estimators=10, n_jobs=None, num_parallel_tree=None,\n",
       "             predictor=None, random_state=1, ...)"
      ]
     },
     "execution_count": 42,
     "metadata": {},
     "output_type": "execute_result"
    }
   ],
   "source": [
    "best_xgboost.fit(train_X, train_y)"
   ]
  },
  {
   "cell_type": "code",
   "execution_count": 43,
   "metadata": {},
   "outputs": [],
   "source": [
    "pred_y = best_xgboost.predict(test_X)"
   ]
  },
  {
   "cell_type": "code",
   "execution_count": 44,
   "metadata": {},
   "outputs": [
    {
     "name": "stdout",
     "output_type": "stream",
     "text": [
      "rmse 1853.4247931516516\n"
     ]
    },
    {
     "data": {
      "text/plain": [
       "1853.4247931516516"
      ]
     },
     "execution_count": 44,
     "metadata": {},
     "output_type": "execute_result"
    }
   ],
   "source": [
    "rmse(np.exp(pred_y), np.exp(test_y['TARGET_Weighted_RetailPrice']).values)"
   ]
  },
  {
   "cell_type": "code",
   "execution_count": 45,
   "metadata": {},
   "outputs": [
    {
     "data": {
      "text/plain": [
       "0.912724310886108"
      ]
     },
     "execution_count": 45,
     "metadata": {},
     "output_type": "execute_result"
    }
   ],
   "source": [
    "r2_score(np.exp(pred_y), np.exp(test_y['TARGET_Weighted_RetailPrice']).values)"
   ]
  },
  {
   "cell_type": "code",
   "execution_count": 46,
   "metadata": {},
   "outputs": [],
   "source": [
    "XGB_importances = best_xgboost.feature_importances_"
   ]
  },
  {
   "cell_type": "code",
   "execution_count": 47,
   "metadata": {},
   "outputs": [],
   "source": [
    "XGB_importances = pd.DataFrame(XGB_importances, columns=['importances'], index=feature_names)"
   ]
  },
  {
   "cell_type": "code",
   "execution_count": 48,
   "metadata": {},
   "outputs": [
    {
     "data": {
      "text/html": [
       "<div>\n",
       "<style scoped>\n",
       "    .dataframe tbody tr th:only-of-type {\n",
       "        vertical-align: middle;\n",
       "    }\n",
       "\n",
       "    .dataframe tbody tr th {\n",
       "        vertical-align: top;\n",
       "    }\n",
       "\n",
       "    .dataframe thead th {\n",
       "        text-align: right;\n",
       "    }\n",
       "</style>\n",
       "<table border=\"1\" class=\"dataframe\">\n",
       "  <thead>\n",
       "    <tr style=\"text-align: right;\">\n",
       "      <th></th>\n",
       "      <th>importances</th>\n",
       "    </tr>\n",
       "  </thead>\n",
       "  <tbody>\n",
       "    <tr>\n",
       "      <th>SPEC_FRDRseat_reclining_manual</th>\n",
       "      <td>0.362564</td>\n",
       "    </tr>\n",
       "    <tr>\n",
       "      <th>SPEC_actively_heated_cooled_battery</th>\n",
       "      <td>0.102917</td>\n",
       "    </tr>\n",
       "    <tr>\n",
       "      <th>SPEC_published_kerb_weight_kg</th>\n",
       "      <td>0.082386</td>\n",
       "    </tr>\n",
       "    <tr>\n",
       "      <th>SPEC_wheelrim_alloy</th>\n",
       "      <td>0.046211</td>\n",
       "    </tr>\n",
       "    <tr>\n",
       "      <th>SPEC_maximum_torque_Nm</th>\n",
       "      <td>0.045668</td>\n",
       "    </tr>\n",
       "    <tr>\n",
       "      <th>...</th>\n",
       "      <td>...</td>\n",
       "    </tr>\n",
       "    <tr>\n",
       "      <th>SPEC_configuration_horizontal</th>\n",
       "      <td>0.000000</td>\n",
       "    </tr>\n",
       "    <tr>\n",
       "      <th>SPEC_headrestraints_num</th>\n",
       "      <td>0.000000</td>\n",
       "    </tr>\n",
       "    <tr>\n",
       "      <th>SPEC_Console_other</th>\n",
       "      <td>0.000000</td>\n",
       "    </tr>\n",
       "    <tr>\n",
       "      <th>SPEC_includes_TR_ESP_adjustment</th>\n",
       "      <td>0.000000</td>\n",
       "    </tr>\n",
       "    <tr>\n",
       "      <th>SPEC_RRseatbelt_centerreel</th>\n",
       "      <td>0.000000</td>\n",
       "    </tr>\n",
       "  </tbody>\n",
       "</table>\n",
       "<p>343 rows × 1 columns</p>\n",
       "</div>"
      ],
      "text/plain": [
       "                                     importances\n",
       "SPEC_FRDRseat_reclining_manual          0.362564\n",
       "SPEC_actively_heated_cooled_battery     0.102917\n",
       "SPEC_published_kerb_weight_kg           0.082386\n",
       "SPEC_wheelrim_alloy                     0.046211\n",
       "SPEC_maximum_torque_Nm                  0.045668\n",
       "...                                          ...\n",
       "SPEC_configuration_horizontal           0.000000\n",
       "SPEC_headrestraints_num                 0.000000\n",
       "SPEC_Console_other                      0.000000\n",
       "SPEC_includes_TR_ESP_adjustment         0.000000\n",
       "SPEC_RRseatbelt_centerreel              0.000000\n",
       "\n",
       "[343 rows x 1 columns]"
      ]
     },
     "execution_count": 48,
     "metadata": {},
     "output_type": "execute_result"
    }
   ],
   "source": [
    "XGB_importances.sort_values(by='importances', ascending=False)"
   ]
  },
  {
   "cell_type": "code",
   "execution_count": 49,
   "metadata": {},
   "outputs": [],
   "source": [
    "RF_vars = list(RF_importances.sort_values(by='importances', ascending=False)[:200].index)"
   ]
  },
  {
   "cell_type": "code",
   "execution_count": 50,
   "metadata": {},
   "outputs": [],
   "source": [
    "AB_vars = list(AB_importances.sort_values(by='importances', ascending=False)[:200].index)"
   ]
  },
  {
   "cell_type": "code",
   "execution_count": 51,
   "metadata": {},
   "outputs": [],
   "source": [
    "XGB_vars = list(XGB_importances.sort_values(by='importances', ascending=False)[:200].index)"
   ]
  },
  {
   "cell_type": "code",
   "execution_count": 98,
   "metadata": {},
   "outputs": [],
   "source": [
    "intercection1 = set(RF_vars).intersection(set(AB_vars))\n",
    "intercection2 = set(AB_vars).intersection(set(XGB_vars))\n",
    "intercection3 = set(RF_vars).intersection(set(XGB_vars))\n",
    "featureimp_variables = list(intercection1.union(intercection2).union(intercection3))"
   ]
  },
  {
   "cell_type": "code",
   "execution_count": 101,
   "metadata": {},
   "outputs": [],
   "source": [
    "pd.DataFrame(featureimp_variables).to_csv('variables_union'+ model_name +'.csv', index=False)"
   ]
  },
  {
   "cell_type": "code",
   "execution_count": 95,
   "metadata": {},
   "outputs": [
    {
     "data": {
      "text/plain": [
       "205"
      ]
     },
     "execution_count": 95,
     "metadata": {},
     "output_type": "execute_result"
    }
   ],
   "source": [
    "len(featureimp_variables)"
   ]
  },
  {
   "attachments": {},
   "cell_type": "markdown",
   "metadata": {},
   "source": [
    "### Model with reduced variables Union of Intersections (205 variables)"
   ]
  },
  {
   "cell_type": "code",
   "execution_count": 54,
   "metadata": {},
   "outputs": [],
   "source": [
    "X = df_ml.drop(target, axis=1)"
   ]
  },
  {
   "cell_type": "code",
   "execution_count": 55,
   "metadata": {},
   "outputs": [],
   "source": [
    "X_featureimp = X[featureimp_variables]"
   ]
  },
  {
   "cell_type": "code",
   "execution_count": 56,
   "metadata": {},
   "outputs": [],
   "source": [
    "y = df_ml[[target]]"
   ]
  },
  {
   "cell_type": "code",
   "execution_count": 57,
   "metadata": {},
   "outputs": [],
   "source": [
    "y = np.log(y)"
   ]
  },
  {
   "cell_type": "code",
   "execution_count": 58,
   "metadata": {},
   "outputs": [],
   "source": [
    "train_X, test_X, train_y, test_y = train_test_split(X_featureimp, y, train_size=0.7, test_size=0.3, random_state=42)"
   ]
  },
  {
   "cell_type": "code",
   "execution_count": 88,
   "metadata": {},
   "outputs": [
    {
     "name": "stdout",
     "output_type": "stream",
     "text": [
      "random_forest\n",
      "rsquare 0.9469395345229977\n",
      "rsquare 0.936403000875249\n",
      "rsquare 0.956510054583549\n",
      "rsquare 0.9548458966252434\n",
      "rsquare 0.9488158323156597\n",
      "rsquare 0.9349009947421657\n",
      "rsquare 0.9583512806644868\n",
      "rsquare 0.9423531853892028\n",
      "rsquare 0.9243016997677412\n",
      "rsquare 0.9496056236297234\n",
      "rsquare 0.9459593688742531\n",
      "rsquare 0.9333846504797504\n",
      "rsquare 0.9529576840478209\n",
      "rsquare 0.9476033108066096\n",
      "rsquare 0.9521829531662256\n",
      "rsquare 0.9355267864010257\n",
      "rsquare 0.9561874113187978\n",
      "rsquare 0.9360497895532689\n",
      "rsquare 0.9200592440396618\n",
      "rsquare 0.9476656033032141\n",
      "rsquare 0.9136556680546201\n",
      "rsquare 0.9056392357077768\n",
      "rsquare 0.9241343947565246\n",
      "rsquare 0.9119593392297168\n",
      "rsquare 0.9058334773842462\n",
      "rsquare 0.88839594882276\n",
      "rsquare 0.9197765548426194\n",
      "rsquare 0.9086190272347037\n",
      "rsquare 0.8929346276674308\n",
      "rsquare 0.9048341422202143\n",
      "rsquare 0.9327196298148388\n",
      "rsquare 0.9121864806007818\n",
      "rsquare 0.9343700874075807\n",
      "rsquare 0.907543490242686\n",
      "rsquare 0.9359363303257403\n",
      "rsquare 0.9195831255556677\n",
      "rsquare 0.9410964272134992\n",
      "rsquare 0.9024917850971048\n",
      "rsquare 0.894012422913447\n",
      "rsquare 0.9271334732189105\n",
      "rsquare 0.9505684499944254\n",
      "rsquare 0.9407483612188771\n",
      "rsquare 0.9591851629152714\n",
      "rsquare 0.9495667209794075\n",
      "rsquare 0.951752438836915\n",
      "rsquare 0.9388738882699877\n",
      "rsquare 0.95647634123833\n",
      "rsquare 0.9428651634663716\n",
      "rsquare 0.9291717350588645\n",
      "rsquare 0.950133729542849\n",
      "rsquare 0.9192558640313359\n",
      "rsquare 0.901995267914753\n",
      "rsquare 0.9263112073654156\n",
      "rsquare 0.9024762132293448\n",
      "rsquare 0.9262095231462342\n",
      "rsquare 0.9018255659437653\n",
      "rsquare 0.925047112576504\n",
      "rsquare 0.8926344924859558\n",
      "rsquare 0.8789860204329264\n",
      "rsquare 0.9202721908939314\n",
      "rsquare 0.8496004152211314\n",
      "rsquare 0.8343381037404215\n",
      "rsquare 0.8422689054954753\n",
      "rsquare 0.8254253486954617\n",
      "rsquare 0.8144447885483034\n",
      "rsquare 0.7977880766776195\n",
      "rsquare 0.8274501623650351\n",
      "rsquare 0.8316321629276276\n",
      "rsquare 0.8254117379244336\n",
      "rsquare 0.8087138991624472\n",
      "rsquare 0.9460613536028034\n",
      "rsquare 0.93345153632467\n",
      "rsquare 0.9546080784730915\n",
      "rsquare 0.929551044544985\n",
      "rsquare 0.9501316713329087\n",
      "rsquare 0.9312228029866744\n",
      "rsquare 0.9495094875569661\n",
      "rsquare 0.9296443296848893\n",
      "rsquare 0.9177577608657893\n",
      "rsquare 0.9419459098196409\n",
      "rsquare 0.9371981679572957\n",
      "rsquare 0.9259440434234596\n",
      "rsquare 0.94287504178845\n",
      "rsquare 0.9340654063339207\n",
      "rsquare 0.9346518418855808\n",
      "rsquare 0.9210005453044403\n",
      "rsquare 0.9430159124428399\n",
      "rsquare 0.9367659070121344\n",
      "rsquare 0.9129374961068135\n",
      "rsquare 0.9355557598277914\n",
      "rsquare 0.8062265392965327\n",
      "rsquare 0.8160147427762933\n",
      "rsquare 0.8255839439593475\n",
      "rsquare 0.8298104006605059\n",
      "rsquare 0.8417193692874018\n",
      "rsquare 0.8337684818106836\n",
      "rsquare 0.836146686099028\n",
      "rsquare 0.794294210776636\n",
      "rsquare 0.7878070068664399\n",
      "rsquare 0.8372075782428023\n",
      "Best CV params {'random_state': 1, 'n_estimators': 1000, 'min_samples_leaf': 6, 'max_features': 160, 'max_depth': 7}\n",
      "Best CV Rsquare -0.9469341991521298\n",
      "rsquare 0.9661373226270864\n",
      "Best train Rsquare -0.9661373226270864\n",
      "rsquare 0.951502759246716\n",
      "Test RMSE of best random search hypers: -0.951502759246716\n",
      "rsquare 0.951502759246716\n",
      "rsquare 0.9661373226270864\n",
      "adaboost\n",
      "rsquare 0.82724643674018\n",
      "rsquare 0.8076791001536893\n",
      "rsquare 0.8219134138302604\n",
      "rsquare 0.7937850686492437\n",
      "rsquare 0.7878029512217406\n",
      "rsquare 0.7600690401242091\n",
      "rsquare 0.7920026852365059\n",
      "rsquare 0.8153234953543331\n",
      "rsquare 0.8222057435858853\n",
      "rsquare 0.7728341993286844\n",
      "rsquare 0.8244059309330526\n",
      "rsquare 0.8055521187946338\n",
      "rsquare 0.8121372521672281\n",
      "rsquare 0.7936382167017966\n",
      "rsquare 0.7845990263809586\n",
      "rsquare 0.7509885151373799\n",
      "rsquare 0.7915527372436012\n",
      "rsquare 0.8153252846865006\n",
      "rsquare 0.8220024664220046\n",
      "rsquare 0.7704458971690415\n",
      "rsquare 0.9018107978368695\n",
      "rsquare 0.8720281371010332\n",
      "rsquare 0.9005167662661274\n",
      "rsquare 0.8686066105390389\n",
      "rsquare 0.8692517541858138\n",
      "rsquare 0.8716189007257934\n",
      "rsquare 0.8799220144634756\n",
      "rsquare 0.8852158827648343\n",
      "rsquare 0.8717438397031508\n",
      "rsquare 0.8668230143775426\n",
      "rsquare 0.9203295876017189\n",
      "rsquare 0.9083109123653557\n",
      "rsquare 0.9275601348073889\n",
      "rsquare 0.9195795114697798\n",
      "rsquare 0.9186992585963685\n",
      "rsquare 0.9039953161756533\n",
      "rsquare 0.9299306801980998\n",
      "rsquare 0.924577037925978\n",
      "rsquare 0.9001147687962141\n",
      "rsquare 0.9143132786409445\n",
      "rsquare 0.9124347193121092\n",
      "rsquare 0.8879687319637691\n",
      "rsquare 0.9138163891720605\n",
      "rsquare 0.8957769250385443\n",
      "rsquare 0.8963738819193207\n",
      "rsquare 0.8887249512890043\n",
      "rsquare 0.9072363539134776\n",
      "rsquare 0.9089806666227376\n",
      "rsquare 0.8857269482060981\n",
      "rsquare 0.8863661029339303\n",
      "rsquare 0.8973260055012449\n",
      "rsquare 0.8715938042470274\n",
      "rsquare 0.8952808198557511\n",
      "rsquare 0.8668455044116998\n",
      "rsquare 0.8549905167257376\n",
      "rsquare 0.8608788371951183\n",
      "rsquare 0.8728172794206047\n",
      "rsquare 0.8747788327328536\n",
      "rsquare 0.8560083055657008\n",
      "rsquare 0.85392757894933\n",
      "rsquare 0.9133867852959809\n",
      "rsquare 0.9000675693626532\n",
      "rsquare 0.9226632376563235\n",
      "rsquare 0.910363410096951\n",
      "rsquare 0.9128804546390714\n",
      "rsquare 0.8953488515668308\n",
      "rsquare 0.9229043356817864\n",
      "rsquare 0.9173067290567721\n",
      "rsquare 0.8936978252417257\n",
      "rsquare 0.9011943116239243\n",
      "rsquare 0.8102487017891827\n",
      "rsquare 0.7964629228013903\n",
      "rsquare 0.8129925424631872\n",
      "rsquare 0.7947085953816593\n",
      "rsquare 0.7858999416746626\n",
      "rsquare 0.7743530513632713\n",
      "rsquare 0.7801228825794756\n",
      "rsquare 0.8096060069577813\n",
      "rsquare 0.7961865607074773\n",
      "rsquare 0.7769819849070985\n",
      "rsquare 0.8340424570573477\n",
      "rsquare 0.8134781044040058\n",
      "rsquare 0.830401638297828\n",
      "rsquare 0.7974598232212174\n",
      "rsquare 0.7947371661731594\n",
      "rsquare 0.7738971194163595\n",
      "rsquare 0.8039418680785501\n",
      "rsquare 0.8247459682848357\n",
      "rsquare 0.8278721965499725\n",
      "rsquare 0.7804707067039254\n",
      "rsquare 0.9172395473233641\n",
      "rsquare 0.9036160564273399\n",
      "rsquare 0.9234549480285834\n",
      "rsquare 0.9105986893528294\n",
      "rsquare 0.9135637434545653\n",
      "rsquare 0.9011650941887868\n",
      "rsquare 0.9223191667919824\n",
      "rsquare 0.91707908024695\n",
      "rsquare 0.8969901619330618\n",
      "rsquare 0.9073615821636651\n",
      "Best CV params {'random_state': 1, 'n_estimators': 500, 'learning_rate': 1}\n",
      "Best CV Rsquare -0.9167410486577502\n",
      "rsquare 0.9270477967441533\n",
      "Best train Rsquare -0.9270477967441533\n",
      "rsquare 0.9186000149871747\n",
      "Test RMSE of best random search hypers: -0.9186000149871747\n",
      "rsquare 0.9186000149871747\n",
      "rsquare 0.9270477967441533\n",
      "xgboost\n",
      "rsquare 0.726971123005171\n",
      "rsquare 0.7108392439475877\n",
      "rsquare 0.6714590910886225\n",
      "rsquare 0.7033885011954052\n",
      "rsquare 0.671677656150043\n",
      "rsquare 0.6915253563795998\n",
      "rsquare 0.7028810978058517\n",
      "rsquare 0.7151297326545527\n",
      "rsquare 0.7246050347262465\n",
      "rsquare 0.7135842024059207\n",
      "rsquare -224.46234943391548\n",
      "rsquare -244.521722069026\n",
      "rsquare -223.19664565306644\n",
      "rsquare -230.41239630713414\n",
      "rsquare -224.69111388181003\n",
      "rsquare -237.1349020672763\n",
      "rsquare -244.5869554959191\n",
      "rsquare -246.98210407309358\n",
      "rsquare -236.44250946619272\n",
      "rsquare -236.5970082839998\n",
      "rsquare 0.7622688981927213\n",
      "rsquare 0.7612903131835549\n",
      "rsquare 0.7717773794814051\n",
      "rsquare 0.7654327726255516\n",
      "rsquare 0.7837396103290961\n",
      "rsquare 0.763103414574356\n",
      "rsquare 0.7831352157233642\n",
      "rsquare 0.7559241052080184\n",
      "rsquare 0.7542269088037779\n",
      "rsquare 0.7800075535428268\n",
      "rsquare -226.4963956359954\n",
      "rsquare -246.7693085241572\n",
      "rsquare -225.2622075390138\n",
      "rsquare -232.53391326594522\n",
      "rsquare -226.72552551683253\n",
      "rsquare -239.26475761236514\n",
      "rsquare -246.8010659288977\n",
      "rsquare -249.21653179476914\n",
      "rsquare -238.5793008450794\n",
      "rsquare -238.76636316713277\n",
      "rsquare -1574.7011572278\n",
      "rsquare -1721.6894054779011\n",
      "rsquare -1573.5696349821887\n",
      "rsquare -1630.1110103802703\n",
      "rsquare -1582.241390482705\n",
      "rsquare -1663.168513775839\n",
      "rsquare -1714.7663536681787\n",
      "rsquare -1729.7337365607061\n",
      "rsquare -1658.1931765882073\n",
      "rsquare -1666.4550973958603\n",
      "rsquare 0.726971123005171\n",
      "rsquare 0.7108392439475877\n",
      "rsquare 0.757272152986473\n",
      "rsquare 0.7033885011954052\n",
      "rsquare 0.7040925669458046\n",
      "rsquare 0.6915253563795998\n",
      "rsquare 0.7028810978058517\n",
      "rsquare 0.7151297326545527\n",
      "rsquare 0.7246050347262465\n",
      "rsquare 0.7135842024059207\n",
      "rsquare -1668.5701228932085\n",
      "rsquare -1824.5556126741183\n",
      "rsquare -1667.695416568228\n",
      "rsquare -1727.672744051891\n",
      "rsquare -1676.6922274316394\n",
      "rsquare -1762.3237079666633\n",
      "rsquare -1817.0097597445192\n",
      "rsquare -1832.8370578641873\n",
      "rsquare -1757.0214405743302\n",
      "rsquare -1765.9970474293102\n",
      "rsquare 0.6657430315878008\n",
      "rsquare 0.6722256072548072\n",
      "rsquare 0.6977912455776334\n",
      "rsquare 0.7114642379694665\n",
      "rsquare 0.7024828114950283\n",
      "rsquare 0.666456133137652\n",
      "rsquare 0.6704807993744448\n",
      "rsquare 0.6559452996113582\n",
      "rsquare 0.6433922821431555\n",
      "rsquare 0.700071600778895\n",
      "rsquare 0.5758666150796112\n",
      "rsquare 0.5906096325607871\n",
      "rsquare 0.6148328142100914\n",
      "rsquare 0.6293904681180968\n",
      "rsquare 0.6108712688774627\n",
      "rsquare 0.579241702074613\n",
      "rsquare 0.5866334114507187\n",
      "rsquare 0.576977450232212\n",
      "rsquare 0.565368502051103\n",
      "rsquare 0.6166207977739231\n",
      "rsquare 0.8463036970927645\n",
      "rsquare 0.81503972584882\n",
      "rsquare 0.812974131997738\n",
      "rsquare 0.842173361112541\n",
      "rsquare 0.8079626598204067\n",
      "rsquare 0.7914609949322851\n",
      "rsquare 0.8338814232475291\n",
      "rsquare 0.8268636884717396\n",
      "rsquare 0.8214809601316859\n",
      "rsquare 0.8325979473142427\n",
      "Best CV params {'random_state': 1, 'n_estimators': 1000, 'max_depth': 3, 'learning_rate': 1, 'gamma': 1.0}\n",
      "Best CV Rsquare -0.8230738589969754\n",
      "rsquare 0.8425634591288478\n",
      "Best train Rsquare -0.8425634591288478\n",
      "rsquare 0.8335206070845209\n",
      "Test RMSE of best random search hypers: -0.8335206070845209\n",
      "rsquare 0.8335206070845209\n",
      "rsquare 0.8425634591288478\n"
     ]
    }
   ],
   "source": [
    "result_dict_2 = {}\n",
    "for model in model_list:\n",
    "    print(model)\n",
    "    result_dict[model + '_param'], \\\n",
    "    result_dict[model + '_cvacc'], \\\n",
    "    result_dict[model + '_testacc'],\\\n",
    "    result_dict[model + '_trainacc'] \\\n",
    "    = randomsearchRegression(models_dict[model], parameters_dct[model])"
   ]
  },
  {
   "attachments": {},
   "cell_type": "markdown",
   "metadata": {},
   "source": [
    "#### Random Forest result"
   ]
  },
  {
   "cell_type": "code",
   "execution_count": 60,
   "metadata": {},
   "outputs": [],
   "source": [
    "best_randomforest = RandomForestRegressor(random_state= 1, n_estimators= 100, min_samples_leaf= 1, max_features= 55, max_depth= 9)"
   ]
  },
  {
   "cell_type": "code",
   "execution_count": 61,
   "metadata": {},
   "outputs": [
    {
     "data": {
      "text/html": [
       "<style>#sk-container-id-5 {color: black;background-color: white;}#sk-container-id-5 pre{padding: 0;}#sk-container-id-5 div.sk-toggleable {background-color: white;}#sk-container-id-5 label.sk-toggleable__label {cursor: pointer;display: block;width: 100%;margin-bottom: 0;padding: 0.3em;box-sizing: border-box;text-align: center;}#sk-container-id-5 label.sk-toggleable__label-arrow:before {content: \"▸\";float: left;margin-right: 0.25em;color: #696969;}#sk-container-id-5 label.sk-toggleable__label-arrow:hover:before {color: black;}#sk-container-id-5 div.sk-estimator:hover label.sk-toggleable__label-arrow:before {color: black;}#sk-container-id-5 div.sk-toggleable__content {max-height: 0;max-width: 0;overflow: hidden;text-align: left;background-color: #f0f8ff;}#sk-container-id-5 div.sk-toggleable__content pre {margin: 0.2em;color: black;border-radius: 0.25em;background-color: #f0f8ff;}#sk-container-id-5 input.sk-toggleable__control:checked~div.sk-toggleable__content {max-height: 200px;max-width: 100%;overflow: auto;}#sk-container-id-5 input.sk-toggleable__control:checked~label.sk-toggleable__label-arrow:before {content: \"▾\";}#sk-container-id-5 div.sk-estimator input.sk-toggleable__control:checked~label.sk-toggleable__label {background-color: #d4ebff;}#sk-container-id-5 div.sk-label input.sk-toggleable__control:checked~label.sk-toggleable__label {background-color: #d4ebff;}#sk-container-id-5 input.sk-hidden--visually {border: 0;clip: rect(1px 1px 1px 1px);clip: rect(1px, 1px, 1px, 1px);height: 1px;margin: -1px;overflow: hidden;padding: 0;position: absolute;width: 1px;}#sk-container-id-5 div.sk-estimator {font-family: monospace;background-color: #f0f8ff;border: 1px dotted black;border-radius: 0.25em;box-sizing: border-box;margin-bottom: 0.5em;}#sk-container-id-5 div.sk-estimator:hover {background-color: #d4ebff;}#sk-container-id-5 div.sk-parallel-item::after {content: \"\";width: 100%;border-bottom: 1px solid gray;flex-grow: 1;}#sk-container-id-5 div.sk-label:hover label.sk-toggleable__label {background-color: #d4ebff;}#sk-container-id-5 div.sk-serial::before {content: \"\";position: absolute;border-left: 1px solid gray;box-sizing: border-box;top: 0;bottom: 0;left: 50%;z-index: 0;}#sk-container-id-5 div.sk-serial {display: flex;flex-direction: column;align-items: center;background-color: white;padding-right: 0.2em;padding-left: 0.2em;position: relative;}#sk-container-id-5 div.sk-item {position: relative;z-index: 1;}#sk-container-id-5 div.sk-parallel {display: flex;align-items: stretch;justify-content: center;background-color: white;position: relative;}#sk-container-id-5 div.sk-item::before, #sk-container-id-5 div.sk-parallel-item::before {content: \"\";position: absolute;border-left: 1px solid gray;box-sizing: border-box;top: 0;bottom: 0;left: 50%;z-index: -1;}#sk-container-id-5 div.sk-parallel-item {display: flex;flex-direction: column;z-index: 1;position: relative;background-color: white;}#sk-container-id-5 div.sk-parallel-item:first-child::after {align-self: flex-end;width: 50%;}#sk-container-id-5 div.sk-parallel-item:last-child::after {align-self: flex-start;width: 50%;}#sk-container-id-5 div.sk-parallel-item:only-child::after {width: 0;}#sk-container-id-5 div.sk-dashed-wrapped {border: 1px dashed gray;margin: 0 0.4em 0.5em 0.4em;box-sizing: border-box;padding-bottom: 0.4em;background-color: white;}#sk-container-id-5 div.sk-label label {font-family: monospace;font-weight: bold;display: inline-block;line-height: 1.2em;}#sk-container-id-5 div.sk-label-container {text-align: center;}#sk-container-id-5 div.sk-container {/* jupyter's `normalize.less` sets `[hidden] { display: none; }` but bootstrap.min.css set `[hidden] { display: none !important; }` so we also need the `!important` here to be able to override the default hidden behavior on the sphinx rendered scikit-learn.org. See: https://github.com/scikit-learn/scikit-learn/issues/21755 */display: inline-block !important;position: relative;}#sk-container-id-5 div.sk-text-repr-fallback {display: none;}</style><div id=\"sk-container-id-5\" class=\"sk-top-container\"><div class=\"sk-text-repr-fallback\"><pre>RandomForestRegressor(max_depth=9, max_features=55, random_state=1)</pre><b>In a Jupyter environment, please rerun this cell to show the HTML representation or trust the notebook. <br />On GitHub, the HTML representation is unable to render, please try loading this page with nbviewer.org.</b></div><div class=\"sk-container\" hidden><div class=\"sk-item\"><div class=\"sk-estimator sk-toggleable\"><input class=\"sk-toggleable__control sk-hidden--visually\" id=\"sk-estimator-id-5\" type=\"checkbox\" checked><label for=\"sk-estimator-id-5\" class=\"sk-toggleable__label sk-toggleable__label-arrow\">RandomForestRegressor</label><div class=\"sk-toggleable__content\"><pre>RandomForestRegressor(max_depth=9, max_features=55, random_state=1)</pre></div></div></div></div></div>"
      ],
      "text/plain": [
       "RandomForestRegressor(max_depth=9, max_features=55, random_state=1)"
      ]
     },
     "execution_count": 61,
     "metadata": {},
     "output_type": "execute_result"
    }
   ],
   "source": [
    "best_randomforest.fit(train_X, train_y)"
   ]
  },
  {
   "cell_type": "code",
   "execution_count": 62,
   "metadata": {},
   "outputs": [],
   "source": [
    "pred_y = best_randomforest.predict(test_X)"
   ]
  },
  {
   "cell_type": "code",
   "execution_count": 63,
   "metadata": {},
   "outputs": [
    {
     "name": "stdout",
     "output_type": "stream",
     "text": [
      "rmse 1213.6408649976984\n"
     ]
    },
    {
     "data": {
      "text/plain": [
       "1213.6408649976984"
      ]
     },
     "execution_count": 63,
     "metadata": {},
     "output_type": "execute_result"
    }
   ],
   "source": [
    "rmse(np.exp(pred_y), np.exp(test_y['TARGET_Weighted_RetailPrice']).values)"
   ]
  },
  {
   "cell_type": "code",
   "execution_count": 64,
   "metadata": {},
   "outputs": [
    {
     "data": {
      "text/plain": [
       "0.9542656608541551"
      ]
     },
     "execution_count": 64,
     "metadata": {},
     "output_type": "execute_result"
    }
   ],
   "source": [
    "r2_score(np.exp(pred_y), np.exp(test_y['TARGET_Weighted_RetailPrice']).values)"
   ]
  },
  {
   "cell_type": "code",
   "execution_count": 65,
   "metadata": {},
   "outputs": [],
   "source": [
    "RF_importances = best_randomforest.feature_importances_"
   ]
  },
  {
   "cell_type": "code",
   "execution_count": 66,
   "metadata": {},
   "outputs": [],
   "source": [
    "feature_names = list(X_featureimp.columns)"
   ]
  },
  {
   "cell_type": "code",
   "execution_count": 67,
   "metadata": {},
   "outputs": [],
   "source": [
    "RF_importances = pd.DataFrame(RF_importances, columns=['importances'], index=feature_names)"
   ]
  },
  {
   "cell_type": "code",
   "execution_count": 68,
   "metadata": {},
   "outputs": [
    {
     "data": {
      "text/html": [
       "<div>\n",
       "<style scoped>\n",
       "    .dataframe tbody tr th:only-of-type {\n",
       "        vertical-align: middle;\n",
       "    }\n",
       "\n",
       "    .dataframe tbody tr th {\n",
       "        vertical-align: top;\n",
       "    }\n",
       "\n",
       "    .dataframe thead th {\n",
       "        text-align: right;\n",
       "    }\n",
       "</style>\n",
       "<table border=\"1\" class=\"dataframe\">\n",
       "  <thead>\n",
       "    <tr style=\"text-align: right;\">\n",
       "      <th></th>\n",
       "      <th>importances</th>\n",
       "    </tr>\n",
       "  </thead>\n",
       "  <tbody>\n",
       "    <tr>\n",
       "      <th>SPEC_published_kerb_weight_kg</th>\n",
       "      <td>1.819446e-01</td>\n",
       "    </tr>\n",
       "    <tr>\n",
       "      <th>MSRP_prevMY_WeightedByVol</th>\n",
       "      <td>1.789520e-01</td>\n",
       "    </tr>\n",
       "    <tr>\n",
       "      <th>SPEC_maximum_torque_Nm</th>\n",
       "      <td>1.271290e-01</td>\n",
       "    </tr>\n",
       "    <tr>\n",
       "      <th>SPEC_FRDRseat_reclining_manual</th>\n",
       "      <td>5.873769e-02</td>\n",
       "    </tr>\n",
       "    <tr>\n",
       "      <th>Segment_ENTRY</th>\n",
       "      <td>4.585014e-02</td>\n",
       "    </tr>\n",
       "    <tr>\n",
       "      <th>...</th>\n",
       "      <td>...</td>\n",
       "    </tr>\n",
       "    <tr>\n",
       "      <th>SPEC_Emission_control_level</th>\n",
       "      <td>9.920326e-06</td>\n",
       "    </tr>\n",
       "    <tr>\n",
       "      <th>SPEC_emergency_driver_intervention_system</th>\n",
       "      <td>3.888368e-06</td>\n",
       "    </tr>\n",
       "    <tr>\n",
       "      <th>SPEC_rooftype_None</th>\n",
       "      <td>2.678553e-06</td>\n",
       "    </tr>\n",
       "    <tr>\n",
       "      <th>SPEC_crawl_control</th>\n",
       "      <td>1.481962e-06</td>\n",
       "    </tr>\n",
       "    <tr>\n",
       "      <th>PROFILE_Make_TESLA</th>\n",
       "      <td>8.071509e-07</td>\n",
       "    </tr>\n",
       "  </tbody>\n",
       "</table>\n",
       "<p>205 rows × 1 columns</p>\n",
       "</div>"
      ],
      "text/plain": [
       "                                            importances\n",
       "SPEC_published_kerb_weight_kg              1.819446e-01\n",
       "MSRP_prevMY_WeightedByVol                  1.789520e-01\n",
       "SPEC_maximum_torque_Nm                     1.271290e-01\n",
       "SPEC_FRDRseat_reclining_manual             5.873769e-02\n",
       "Segment_ENTRY                              4.585014e-02\n",
       "...                                                 ...\n",
       "SPEC_Emission_control_level                9.920326e-06\n",
       "SPEC_emergency_driver_intervention_system  3.888368e-06\n",
       "SPEC_rooftype_None                         2.678553e-06\n",
       "SPEC_crawl_control                         1.481962e-06\n",
       "PROFILE_Make_TESLA                         8.071509e-07\n",
       "\n",
       "[205 rows x 1 columns]"
      ]
     },
     "execution_count": 68,
     "metadata": {},
     "output_type": "execute_result"
    }
   ],
   "source": [
    "RF_importances.sort_values(by='importances', ascending=False)"
   ]
  },
  {
   "attachments": {},
   "cell_type": "markdown",
   "metadata": {},
   "source": [
    "#### Adaboost result"
   ]
  },
  {
   "cell_type": "code",
   "execution_count": 69,
   "metadata": {},
   "outputs": [],
   "source": [
    "best_adaboost= AdaBoostRegressor(random_state=1, n_estimators=500, learning_rate=1)\n"
   ]
  },
  {
   "cell_type": "code",
   "execution_count": 70,
   "metadata": {},
   "outputs": [
    {
     "data": {
      "text/html": [
       "<style>#sk-container-id-6 {color: black;background-color: white;}#sk-container-id-6 pre{padding: 0;}#sk-container-id-6 div.sk-toggleable {background-color: white;}#sk-container-id-6 label.sk-toggleable__label {cursor: pointer;display: block;width: 100%;margin-bottom: 0;padding: 0.3em;box-sizing: border-box;text-align: center;}#sk-container-id-6 label.sk-toggleable__label-arrow:before {content: \"▸\";float: left;margin-right: 0.25em;color: #696969;}#sk-container-id-6 label.sk-toggleable__label-arrow:hover:before {color: black;}#sk-container-id-6 div.sk-estimator:hover label.sk-toggleable__label-arrow:before {color: black;}#sk-container-id-6 div.sk-toggleable__content {max-height: 0;max-width: 0;overflow: hidden;text-align: left;background-color: #f0f8ff;}#sk-container-id-6 div.sk-toggleable__content pre {margin: 0.2em;color: black;border-radius: 0.25em;background-color: #f0f8ff;}#sk-container-id-6 input.sk-toggleable__control:checked~div.sk-toggleable__content {max-height: 200px;max-width: 100%;overflow: auto;}#sk-container-id-6 input.sk-toggleable__control:checked~label.sk-toggleable__label-arrow:before {content: \"▾\";}#sk-container-id-6 div.sk-estimator input.sk-toggleable__control:checked~label.sk-toggleable__label {background-color: #d4ebff;}#sk-container-id-6 div.sk-label input.sk-toggleable__control:checked~label.sk-toggleable__label {background-color: #d4ebff;}#sk-container-id-6 input.sk-hidden--visually {border: 0;clip: rect(1px 1px 1px 1px);clip: rect(1px, 1px, 1px, 1px);height: 1px;margin: -1px;overflow: hidden;padding: 0;position: absolute;width: 1px;}#sk-container-id-6 div.sk-estimator {font-family: monospace;background-color: #f0f8ff;border: 1px dotted black;border-radius: 0.25em;box-sizing: border-box;margin-bottom: 0.5em;}#sk-container-id-6 div.sk-estimator:hover {background-color: #d4ebff;}#sk-container-id-6 div.sk-parallel-item::after {content: \"\";width: 100%;border-bottom: 1px solid gray;flex-grow: 1;}#sk-container-id-6 div.sk-label:hover label.sk-toggleable__label {background-color: #d4ebff;}#sk-container-id-6 div.sk-serial::before {content: \"\";position: absolute;border-left: 1px solid gray;box-sizing: border-box;top: 0;bottom: 0;left: 50%;z-index: 0;}#sk-container-id-6 div.sk-serial {display: flex;flex-direction: column;align-items: center;background-color: white;padding-right: 0.2em;padding-left: 0.2em;position: relative;}#sk-container-id-6 div.sk-item {position: relative;z-index: 1;}#sk-container-id-6 div.sk-parallel {display: flex;align-items: stretch;justify-content: center;background-color: white;position: relative;}#sk-container-id-6 div.sk-item::before, #sk-container-id-6 div.sk-parallel-item::before {content: \"\";position: absolute;border-left: 1px solid gray;box-sizing: border-box;top: 0;bottom: 0;left: 50%;z-index: -1;}#sk-container-id-6 div.sk-parallel-item {display: flex;flex-direction: column;z-index: 1;position: relative;background-color: white;}#sk-container-id-6 div.sk-parallel-item:first-child::after {align-self: flex-end;width: 50%;}#sk-container-id-6 div.sk-parallel-item:last-child::after {align-self: flex-start;width: 50%;}#sk-container-id-6 div.sk-parallel-item:only-child::after {width: 0;}#sk-container-id-6 div.sk-dashed-wrapped {border: 1px dashed gray;margin: 0 0.4em 0.5em 0.4em;box-sizing: border-box;padding-bottom: 0.4em;background-color: white;}#sk-container-id-6 div.sk-label label {font-family: monospace;font-weight: bold;display: inline-block;line-height: 1.2em;}#sk-container-id-6 div.sk-label-container {text-align: center;}#sk-container-id-6 div.sk-container {/* jupyter's `normalize.less` sets `[hidden] { display: none; }` but bootstrap.min.css set `[hidden] { display: none !important; }` so we also need the `!important` here to be able to override the default hidden behavior on the sphinx rendered scikit-learn.org. See: https://github.com/scikit-learn/scikit-learn/issues/21755 */display: inline-block !important;position: relative;}#sk-container-id-6 div.sk-text-repr-fallback {display: none;}</style><div id=\"sk-container-id-6\" class=\"sk-top-container\"><div class=\"sk-text-repr-fallback\"><pre>AdaBoostRegressor(learning_rate=1, n_estimators=500, random_state=1)</pre><b>In a Jupyter environment, please rerun this cell to show the HTML representation or trust the notebook. <br />On GitHub, the HTML representation is unable to render, please try loading this page with nbviewer.org.</b></div><div class=\"sk-container\" hidden><div class=\"sk-item\"><div class=\"sk-estimator sk-toggleable\"><input class=\"sk-toggleable__control sk-hidden--visually\" id=\"sk-estimator-id-6\" type=\"checkbox\" checked><label for=\"sk-estimator-id-6\" class=\"sk-toggleable__label sk-toggleable__label-arrow\">AdaBoostRegressor</label><div class=\"sk-toggleable__content\"><pre>AdaBoostRegressor(learning_rate=1, n_estimators=500, random_state=1)</pre></div></div></div></div></div>"
      ],
      "text/plain": [
       "AdaBoostRegressor(learning_rate=1, n_estimators=500, random_state=1)"
      ]
     },
     "execution_count": 70,
     "metadata": {},
     "output_type": "execute_result"
    }
   ],
   "source": [
    "best_adaboost.fit(train_X, train_y)"
   ]
  },
  {
   "cell_type": "code",
   "execution_count": 71,
   "metadata": {},
   "outputs": [],
   "source": [
    "pred_y = best_adaboost.predict(test_X)"
   ]
  },
  {
   "cell_type": "code",
   "execution_count": 72,
   "metadata": {},
   "outputs": [
    {
     "name": "stdout",
     "output_type": "stream",
     "text": [
      "rmse 1812.8070719061852\n"
     ]
    },
    {
     "data": {
      "text/plain": [
       "1812.8070719061852"
      ]
     },
     "execution_count": 72,
     "metadata": {},
     "output_type": "execute_result"
    }
   ],
   "source": [
    "rmse(np.exp(pred_y), np.exp(test_y['TARGET_Weighted_RetailPrice']).values)"
   ]
  },
  {
   "cell_type": "code",
   "execution_count": 73,
   "metadata": {},
   "outputs": [
    {
     "data": {
      "text/plain": [
       "0.8785589227398382"
      ]
     },
     "execution_count": 73,
     "metadata": {},
     "output_type": "execute_result"
    }
   ],
   "source": [
    "r2_score(np.exp(pred_y), np.exp(test_y['TARGET_Weighted_RetailPrice']).values)"
   ]
  },
  {
   "cell_type": "code",
   "execution_count": 74,
   "metadata": {},
   "outputs": [],
   "source": [
    "AB_importances = best_adaboost.feature_importances_"
   ]
  },
  {
   "cell_type": "code",
   "execution_count": 75,
   "metadata": {},
   "outputs": [],
   "source": [
    "AB_importances = pd.DataFrame(AB_importances, columns=['importances'], index=feature_names)"
   ]
  },
  {
   "cell_type": "code",
   "execution_count": 76,
   "metadata": {},
   "outputs": [
    {
     "data": {
      "text/html": [
       "<div>\n",
       "<style scoped>\n",
       "    .dataframe tbody tr th:only-of-type {\n",
       "        vertical-align: middle;\n",
       "    }\n",
       "\n",
       "    .dataframe tbody tr th {\n",
       "        vertical-align: top;\n",
       "    }\n",
       "\n",
       "    .dataframe thead th {\n",
       "        text-align: right;\n",
       "    }\n",
       "</style>\n",
       "<table border=\"1\" class=\"dataframe\">\n",
       "  <thead>\n",
       "    <tr style=\"text-align: right;\">\n",
       "      <th></th>\n",
       "      <th>importances</th>\n",
       "    </tr>\n",
       "  </thead>\n",
       "  <tbody>\n",
       "    <tr>\n",
       "      <th>SPEC_published_kerb_weight_kg</th>\n",
       "      <td>0.225385</td>\n",
       "    </tr>\n",
       "    <tr>\n",
       "      <th>SPEC_maximum_torque_Nm</th>\n",
       "      <td>0.177923</td>\n",
       "    </tr>\n",
       "    <tr>\n",
       "      <th>MSRP_prevMY_WeightedByVol</th>\n",
       "      <td>0.100661</td>\n",
       "    </tr>\n",
       "    <tr>\n",
       "      <th>SPEC_Seatmaterial_cloth</th>\n",
       "      <td>0.038140</td>\n",
       "    </tr>\n",
       "    <tr>\n",
       "      <th>SPEC_LED_lights</th>\n",
       "      <td>0.030715</td>\n",
       "    </tr>\n",
       "    <tr>\n",
       "      <th>...</th>\n",
       "      <td>...</td>\n",
       "    </tr>\n",
       "    <tr>\n",
       "      <th>SPEC_rooftype_standard</th>\n",
       "      <td>0.000000</td>\n",
       "    </tr>\n",
       "    <tr>\n",
       "      <th>SPEC_FRDRseat_reclining_memory</th>\n",
       "      <td>0.000000</td>\n",
       "    </tr>\n",
       "    <tr>\n",
       "      <th>SPEC_configuration_V</th>\n",
       "      <td>0.000000</td>\n",
       "    </tr>\n",
       "    <tr>\n",
       "      <th>SPEC_Knee_airbags</th>\n",
       "      <td>0.000000</td>\n",
       "    </tr>\n",
       "    <tr>\n",
       "      <th>SPEC_Automatic_hazard_lights</th>\n",
       "      <td>0.000000</td>\n",
       "    </tr>\n",
       "  </tbody>\n",
       "</table>\n",
       "<p>205 rows × 1 columns</p>\n",
       "</div>"
      ],
      "text/plain": [
       "                                importances\n",
       "SPEC_published_kerb_weight_kg      0.225385\n",
       "SPEC_maximum_torque_Nm             0.177923\n",
       "MSRP_prevMY_WeightedByVol          0.100661\n",
       "SPEC_Seatmaterial_cloth            0.038140\n",
       "SPEC_LED_lights                    0.030715\n",
       "...                                     ...\n",
       "SPEC_rooftype_standard             0.000000\n",
       "SPEC_FRDRseat_reclining_memory     0.000000\n",
       "SPEC_configuration_V               0.000000\n",
       "SPEC_Knee_airbags                  0.000000\n",
       "SPEC_Automatic_hazard_lights       0.000000\n",
       "\n",
       "[205 rows x 1 columns]"
      ]
     },
     "execution_count": 76,
     "metadata": {},
     "output_type": "execute_result"
    }
   ],
   "source": [
    "AB_importances.sort_values(by='importances', ascending=False)"
   ]
  },
  {
   "attachments": {},
   "cell_type": "markdown",
   "metadata": {},
   "source": [
    "#### XGboost result"
   ]
  },
  {
   "cell_type": "code",
   "execution_count": 89,
   "metadata": {},
   "outputs": [],
   "source": [
    "best_xgboost = xgb.XGBRegressor(random_state=1, n_estimators=1000, max_depth=3, learning_rate=1, gamma=1.0)"
   ]
  },
  {
   "cell_type": "code",
   "execution_count": 90,
   "metadata": {},
   "outputs": [
    {
     "data": {
      "text/html": [
       "<style>#sk-container-id-9 {color: black;background-color: white;}#sk-container-id-9 pre{padding: 0;}#sk-container-id-9 div.sk-toggleable {background-color: white;}#sk-container-id-9 label.sk-toggleable__label {cursor: pointer;display: block;width: 100%;margin-bottom: 0;padding: 0.3em;box-sizing: border-box;text-align: center;}#sk-container-id-9 label.sk-toggleable__label-arrow:before {content: \"▸\";float: left;margin-right: 0.25em;color: #696969;}#sk-container-id-9 label.sk-toggleable__label-arrow:hover:before {color: black;}#sk-container-id-9 div.sk-estimator:hover label.sk-toggleable__label-arrow:before {color: black;}#sk-container-id-9 div.sk-toggleable__content {max-height: 0;max-width: 0;overflow: hidden;text-align: left;background-color: #f0f8ff;}#sk-container-id-9 div.sk-toggleable__content pre {margin: 0.2em;color: black;border-radius: 0.25em;background-color: #f0f8ff;}#sk-container-id-9 input.sk-toggleable__control:checked~div.sk-toggleable__content {max-height: 200px;max-width: 100%;overflow: auto;}#sk-container-id-9 input.sk-toggleable__control:checked~label.sk-toggleable__label-arrow:before {content: \"▾\";}#sk-container-id-9 div.sk-estimator input.sk-toggleable__control:checked~label.sk-toggleable__label {background-color: #d4ebff;}#sk-container-id-9 div.sk-label input.sk-toggleable__control:checked~label.sk-toggleable__label {background-color: #d4ebff;}#sk-container-id-9 input.sk-hidden--visually {border: 0;clip: rect(1px 1px 1px 1px);clip: rect(1px, 1px, 1px, 1px);height: 1px;margin: -1px;overflow: hidden;padding: 0;position: absolute;width: 1px;}#sk-container-id-9 div.sk-estimator {font-family: monospace;background-color: #f0f8ff;border: 1px dotted black;border-radius: 0.25em;box-sizing: border-box;margin-bottom: 0.5em;}#sk-container-id-9 div.sk-estimator:hover {background-color: #d4ebff;}#sk-container-id-9 div.sk-parallel-item::after {content: \"\";width: 100%;border-bottom: 1px solid gray;flex-grow: 1;}#sk-container-id-9 div.sk-label:hover label.sk-toggleable__label {background-color: #d4ebff;}#sk-container-id-9 div.sk-serial::before {content: \"\";position: absolute;border-left: 1px solid gray;box-sizing: border-box;top: 0;bottom: 0;left: 50%;z-index: 0;}#sk-container-id-9 div.sk-serial {display: flex;flex-direction: column;align-items: center;background-color: white;padding-right: 0.2em;padding-left: 0.2em;position: relative;}#sk-container-id-9 div.sk-item {position: relative;z-index: 1;}#sk-container-id-9 div.sk-parallel {display: flex;align-items: stretch;justify-content: center;background-color: white;position: relative;}#sk-container-id-9 div.sk-item::before, #sk-container-id-9 div.sk-parallel-item::before {content: \"\";position: absolute;border-left: 1px solid gray;box-sizing: border-box;top: 0;bottom: 0;left: 50%;z-index: -1;}#sk-container-id-9 div.sk-parallel-item {display: flex;flex-direction: column;z-index: 1;position: relative;background-color: white;}#sk-container-id-9 div.sk-parallel-item:first-child::after {align-self: flex-end;width: 50%;}#sk-container-id-9 div.sk-parallel-item:last-child::after {align-self: flex-start;width: 50%;}#sk-container-id-9 div.sk-parallel-item:only-child::after {width: 0;}#sk-container-id-9 div.sk-dashed-wrapped {border: 1px dashed gray;margin: 0 0.4em 0.5em 0.4em;box-sizing: border-box;padding-bottom: 0.4em;background-color: white;}#sk-container-id-9 div.sk-label label {font-family: monospace;font-weight: bold;display: inline-block;line-height: 1.2em;}#sk-container-id-9 div.sk-label-container {text-align: center;}#sk-container-id-9 div.sk-container {/* jupyter's `normalize.less` sets `[hidden] { display: none; }` but bootstrap.min.css set `[hidden] { display: none !important; }` so we also need the `!important` here to be able to override the default hidden behavior on the sphinx rendered scikit-learn.org. See: https://github.com/scikit-learn/scikit-learn/issues/21755 */display: inline-block !important;position: relative;}#sk-container-id-9 div.sk-text-repr-fallback {display: none;}</style><div id=\"sk-container-id-9\" class=\"sk-top-container\"><div class=\"sk-text-repr-fallback\"><pre>XGBRegressor(base_score=None, booster=None, callbacks=None,\n",
       "             colsample_bylevel=None, colsample_bynode=None,\n",
       "             colsample_bytree=None, early_stopping_rounds=None,\n",
       "             enable_categorical=False, eval_metric=None, feature_types=None,\n",
       "             gamma=1.0, gpu_id=None, grow_policy=None, importance_type=None,\n",
       "             interaction_constraints=None, learning_rate=1, max_bin=None,\n",
       "             max_cat_threshold=None, max_cat_to_onehot=None,\n",
       "             max_delta_step=None, max_depth=3, max_leaves=None,\n",
       "             min_child_weight=None, missing=nan, monotone_constraints=None,\n",
       "             n_estimators=1000, n_jobs=None, num_parallel_tree=None,\n",
       "             predictor=None, random_state=1, ...)</pre><b>In a Jupyter environment, please rerun this cell to show the HTML representation or trust the notebook. <br />On GitHub, the HTML representation is unable to render, please try loading this page with nbviewer.org.</b></div><div class=\"sk-container\" hidden><div class=\"sk-item\"><div class=\"sk-estimator sk-toggleable\"><input class=\"sk-toggleable__control sk-hidden--visually\" id=\"sk-estimator-id-9\" type=\"checkbox\" checked><label for=\"sk-estimator-id-9\" class=\"sk-toggleable__label sk-toggleable__label-arrow\">XGBRegressor</label><div class=\"sk-toggleable__content\"><pre>XGBRegressor(base_score=None, booster=None, callbacks=None,\n",
       "             colsample_bylevel=None, colsample_bynode=None,\n",
       "             colsample_bytree=None, early_stopping_rounds=None,\n",
       "             enable_categorical=False, eval_metric=None, feature_types=None,\n",
       "             gamma=1.0, gpu_id=None, grow_policy=None, importance_type=None,\n",
       "             interaction_constraints=None, learning_rate=1, max_bin=None,\n",
       "             max_cat_threshold=None, max_cat_to_onehot=None,\n",
       "             max_delta_step=None, max_depth=3, max_leaves=None,\n",
       "             min_child_weight=None, missing=nan, monotone_constraints=None,\n",
       "             n_estimators=1000, n_jobs=None, num_parallel_tree=None,\n",
       "             predictor=None, random_state=1, ...)</pre></div></div></div></div></div>"
      ],
      "text/plain": [
       "XGBRegressor(base_score=None, booster=None, callbacks=None,\n",
       "             colsample_bylevel=None, colsample_bynode=None,\n",
       "             colsample_bytree=None, early_stopping_rounds=None,\n",
       "             enable_categorical=False, eval_metric=None, feature_types=None,\n",
       "             gamma=1.0, gpu_id=None, grow_policy=None, importance_type=None,\n",
       "             interaction_constraints=None, learning_rate=1, max_bin=None,\n",
       "             max_cat_threshold=None, max_cat_to_onehot=None,\n",
       "             max_delta_step=None, max_depth=3, max_leaves=None,\n",
       "             min_child_weight=None, missing=nan, monotone_constraints=None,\n",
       "             n_estimators=1000, n_jobs=None, num_parallel_tree=None,\n",
       "             predictor=None, random_state=1, ...)"
      ]
     },
     "execution_count": 90,
     "metadata": {},
     "output_type": "execute_result"
    }
   ],
   "source": [
    "best_xgboost.fit(train_X, train_y)"
   ]
  },
  {
   "cell_type": "code",
   "execution_count": 91,
   "metadata": {},
   "outputs": [],
   "source": [
    "pred_y = best_xgboost.predict(test_X)"
   ]
  },
  {
   "cell_type": "code",
   "execution_count": 92,
   "metadata": {},
   "outputs": [
    {
     "name": "stdout",
     "output_type": "stream",
     "text": [
      "rmse 2739.1887245458006\n"
     ]
    },
    {
     "data": {
      "text/plain": [
       "2739.1887245458006"
      ]
     },
     "execution_count": 92,
     "metadata": {},
     "output_type": "execute_result"
    }
   ],
   "source": [
    "rmse(np.exp(pred_y), np.exp(test_y['TARGET_Weighted_RetailPrice']).values)"
   ]
  },
  {
   "cell_type": "code",
   "execution_count": 93,
   "metadata": {},
   "outputs": [
    {
     "data": {
      "text/plain": [
       "0.8062818540252187"
      ]
     },
     "execution_count": 93,
     "metadata": {},
     "output_type": "execute_result"
    }
   ],
   "source": [
    "r2_score(np.exp(pred_y), np.exp(test_y['TARGET_Weighted_RetailPrice']).values)"
   ]
  },
  {
   "attachments": {},
   "cell_type": "markdown",
   "metadata": {},
   "source": [
    "### Model with reduced variables of Intersections (99 variables)"
   ]
  },
  {
   "cell_type": "code",
   "execution_count": 102,
   "metadata": {},
   "outputs": [],
   "source": [
    "featureimp_variables = list(set(RF_vars).intersection(set(XGB_vars)).intersection(set(AB_vars)))"
   ]
  },
  {
   "cell_type": "code",
   "execution_count": 103,
   "metadata": {},
   "outputs": [
    {
     "data": {
      "text/plain": [
       "99"
      ]
     },
     "execution_count": 103,
     "metadata": {},
     "output_type": "execute_result"
    }
   ],
   "source": [
    "len(featureimp_variables)"
   ]
  },
  {
   "cell_type": "code",
   "execution_count": 105,
   "metadata": {},
   "outputs": [],
   "source": [
    "pd.DataFrame(featureimp_variables).to_csv('variables_intersections_'+model_name+'.csv', index=False)"
   ]
  },
  {
   "cell_type": "code",
   "execution_count": 106,
   "metadata": {},
   "outputs": [],
   "source": [
    "X = df_ml.drop(target, axis=1)"
   ]
  },
  {
   "cell_type": "code",
   "execution_count": 107,
   "metadata": {},
   "outputs": [],
   "source": [
    "X_featureimp = X[featureimp_variables]"
   ]
  },
  {
   "cell_type": "code",
   "execution_count": 108,
   "metadata": {},
   "outputs": [],
   "source": [
    "y = df_ml[[target]]"
   ]
  },
  {
   "cell_type": "code",
   "execution_count": 109,
   "metadata": {},
   "outputs": [],
   "source": [
    "y = np.log(y)"
   ]
  },
  {
   "cell_type": "code",
   "execution_count": 110,
   "metadata": {},
   "outputs": [],
   "source": [
    "train_X, test_X, train_y, test_y = train_test_split(X_featureimp, y, train_size=0.7, test_size=0.3, random_state=42)"
   ]
  },
  {
   "cell_type": "code",
   "execution_count": 111,
   "metadata": {},
   "outputs": [
    {
     "name": "stdout",
     "output_type": "stream",
     "text": [
      "random_forest\n",
      "rsquare 0.9333453544707748\n",
      "rsquare 0.920331910768384\n",
      "rsquare 0.9410949191859446\n",
      "rsquare 0.9367162279529111\n",
      "rsquare 0.9317357047278408\n",
      "rsquare 0.9222621427740156\n",
      "rsquare 0.943473255898287\n",
      "rsquare 0.9249270255251091\n",
      "rsquare 0.9102840722858225\n",
      "rsquare 0.9343554863171163\n",
      "rsquare 0.9305691340490021\n",
      "rsquare 0.9184721506063032\n",
      "rsquare 0.9392118933666486\n",
      "rsquare 0.9313355897735773\n",
      "rsquare 0.9247540747197066\n",
      "rsquare 0.9138696558833458\n",
      "rsquare 0.9398913463579077\n",
      "rsquare 0.9255772134311727\n",
      "rsquare 0.9093057103683466\n",
      "rsquare 0.9276247978247861\n",
      "rsquare 0.9468171994188245\n",
      "rsquare 0.9365684572469727\n",
      "rsquare 0.9575656013846781\n",
      "rsquare 0.954046729774031\n",
      "rsquare 0.9492983583989543\n",
      "rsquare 0.9373553697567532\n",
      "rsquare 0.9579038730601708\n",
      "rsquare 0.9416863752606267\n",
      "rsquare 0.9265647715226952\n",
      "rsquare 0.9492179082124095\n",
      "rsquare 0.9161233426745932\n",
      "rsquare 0.9047021589607375\n",
      "rsquare 0.924012812133894\n",
      "rsquare 0.9104803387716317\n",
      "rsquare 0.9066062347642775\n",
      "rsquare 0.8913209118689516\n",
      "rsquare 0.9173625986323175\n",
      "rsquare 0.9072289877942262\n",
      "rsquare 0.8952532812598615\n",
      "rsquare 0.9067532875577515\n",
      "rsquare 0.847408733557817\n",
      "rsquare 0.8344336707130737\n",
      "rsquare 0.8374005658930034\n",
      "rsquare 0.8253043410890655\n",
      "rsquare 0.8145461138320513\n",
      "rsquare 0.7989208434101083\n",
      "rsquare 0.8271569048389704\n",
      "rsquare 0.8295834591212532\n",
      "rsquare 0.8204192328317058\n",
      "rsquare 0.8126452329277054\n",
      "rsquare 0.9423530607213186\n",
      "rsquare 0.9320461001490814\n",
      "rsquare 0.951323947270902\n",
      "rsquare 0.9444552844562866\n",
      "rsquare 0.9399485592126992\n",
      "rsquare 0.9301025861023939\n",
      "rsquare 0.9501392911344384\n",
      "rsquare 0.9363652478371093\n",
      "rsquare 0.921508560402305\n",
      "rsquare 0.9422545140634055\n",
      "rsquare 0.952927618502322\n",
      "rsquare 0.9391449725995512\n",
      "rsquare 0.9616261765837654\n",
      "rsquare 0.9410284409724772\n",
      "rsquare 0.9586079474232304\n",
      "rsquare 0.9432115077601443\n",
      "rsquare 0.9571199916637466\n",
      "rsquare 0.9417463782292943\n",
      "rsquare 0.9261318101861009\n",
      "rsquare 0.9531995696654124\n",
      "rsquare 0.9317195076788978\n",
      "rsquare 0.9196528945801227\n",
      "rsquare 0.9398961394796734\n",
      "rsquare 0.9363955879035673\n",
      "rsquare 0.9295301348276628\n",
      "rsquare 0.921410385049539\n",
      "rsquare 0.9429048558245802\n",
      "rsquare 0.92385061738562\n",
      "rsquare 0.9085904235539978\n",
      "rsquare 0.9344764233848888\n",
      "rsquare 0.9654306254138602\n",
      "rsquare 0.9551645449383918\n",
      "rsquare 0.9736133483971492\n",
      "rsquare 0.9668000489137262\n",
      "rsquare 0.9707716176382231\n",
      "rsquare 0.9588689474896379\n",
      "rsquare 0.9710727268196983\n",
      "rsquare 0.9588688185777966\n",
      "rsquare 0.9444828219686942\n",
      "rsquare 0.9664149422010425\n",
      "rsquare 0.9450913366479304\n",
      "rsquare 0.9338820958875895\n",
      "rsquare 0.9553375950533437\n",
      "rsquare 0.9512914574046806\n",
      "rsquare 0.9465857528067678\n",
      "rsquare 0.9348875173817193\n",
      "rsquare 0.9561289111777631\n",
      "rsquare 0.9395189443511136\n",
      "rsquare 0.9247050126787049\n",
      "rsquare 0.9466830288024095\n",
      "Best CV params {'random_state': 1, 'n_estimators': 500, 'min_samples_leaf': 4, 'max_features': 66, 'max_depth': 10}\n",
      "Best CV Rsquare -0.963148844235822\n",
      "rsquare 0.9847846224646118\n",
      "Best train Rsquare -0.9847846224646118\n",
      "rsquare 0.9683248944053636\n",
      "Test RMSE of best random search hypers: -0.9683248944053636\n",
      "rsquare 0.9683248944053636\n",
      "rsquare 0.9847846224646118\n",
      "adaboost\n",
      "rsquare 0.9171800812680819\n",
      "rsquare 0.909390378732964\n",
      "rsquare 0.9254732074319739\n",
      "rsquare 0.9152512282275992\n",
      "rsquare 0.9194242952216787\n",
      "rsquare 0.90433117161307\n",
      "rsquare 0.9271157237991167\n",
      "rsquare 0.9227592198688707\n",
      "rsquare 0.8972128001342864\n",
      "rsquare 0.9094206625614565\n",
      "rsquare 0.915112628740693\n",
      "rsquare 0.9035016506444946\n",
      "rsquare 0.9221454470993807\n",
      "rsquare 0.911764337354287\n",
      "rsquare 0.9138908387160445\n",
      "rsquare 0.8980190843925056\n",
      "rsquare 0.9221330761882054\n",
      "rsquare 0.9182557656497241\n",
      "rsquare 0.8926593335959798\n",
      "rsquare 0.8994711253586815\n",
      "rsquare 0.8280435249679844\n",
      "rsquare 0.8066874132821087\n",
      "rsquare 0.8223999023258224\n",
      "rsquare 0.7945358230161335\n",
      "rsquare 0.78671914277695\n",
      "rsquare 0.7591180829076019\n",
      "rsquare 0.7938685504736733\n",
      "rsquare 0.8140263253495228\n",
      "rsquare 0.8236195052660042\n",
      "rsquare 0.7724125160531242\n",
      "rsquare 0.8296497238995066\n",
      "rsquare 0.8131184622277892\n",
      "rsquare 0.8177247522712215\n",
      "rsquare 0.7976421770335227\n",
      "rsquare 0.7931413861749093\n",
      "rsquare 0.7474525797372117\n",
      "rsquare 0.8101428520427815\n",
      "rsquare 0.7992087343507014\n",
      "rsquare 0.8221255017645843\n",
      "rsquare 0.7849229656129193\n",
      "rsquare 0.8852572714194018\n",
      "rsquare 0.8475664850211726\n",
      "rsquare 0.874906276815666\n",
      "rsquare 0.8475714645335792\n",
      "rsquare 0.8445571758628545\n",
      "rsquare 0.8382269401289378\n",
      "rsquare 0.8600503747626955\n",
      "rsquare 0.8624066108320637\n",
      "rsquare 0.8511952872055126\n",
      "rsquare 0.8428386232263616\n",
      "rsquare 0.9185855013466343\n",
      "rsquare 0.9092845063568119\n",
      "rsquare 0.9276968378430965\n",
      "rsquare 0.917415744189286\n",
      "rsquare 0.9192774417715941\n",
      "rsquare 0.9056920911376364\n",
      "rsquare 0.9280688890830981\n",
      "rsquare 0.9237865465682685\n",
      "rsquare 0.9006880104080552\n",
      "rsquare 0.911820165675986\n",
      "rsquare 0.861605675874856\n",
      "rsquare 0.8272527512389817\n",
      "rsquare 0.8564802587571738\n",
      "rsquare 0.828811372063149\n",
      "rsquare 0.8188761258578614\n",
      "rsquare 0.8047252736654669\n",
      "rsquare 0.8413154655134671\n",
      "rsquare 0.84353015486383\n",
      "rsquare 0.8358688269906163\n",
      "rsquare 0.8177498024013545\n",
      "rsquare 0.8243308410449804\n",
      "rsquare 0.8053140317101904\n",
      "rsquare 0.8121324975455824\n",
      "rsquare 0.7937473318187916\n",
      "rsquare 0.7844479403343623\n",
      "rsquare 0.7509200862499352\n",
      "rsquare 0.7934302367371062\n",
      "rsquare 0.8145711337799505\n",
      "rsquare 0.8222149094421403\n",
      "rsquare 0.7703407045748016\n",
      "rsquare 0.9123370836155147\n",
      "rsquare 0.9079705233070428\n",
      "rsquare 0.92526198149034\n",
      "rsquare 0.9193694395754817\n",
      "rsquare 0.9129718749767176\n",
      "rsquare 0.8976333122493829\n",
      "rsquare 0.9212793438296657\n",
      "rsquare 0.9170075250067794\n",
      "rsquare 0.8959987425878301\n",
      "rsquare 0.9039059649537556\n",
      "rsquare 0.8266968891014295\n",
      "rsquare 0.8049793104999807\n",
      "rsquare 0.822546111329969\n",
      "rsquare 0.7883476431110883\n",
      "rsquare 0.7848554252710862\n",
      "rsquare 0.7575929080730486\n",
      "rsquare 0.7931770227683348\n",
      "rsquare 0.8114335838903464\n",
      "rsquare 0.820350538811895\n",
      "rsquare 0.7705275666919461\n",
      "Best CV params {'random_state': 1, 'n_estimators': 500, 'learning_rate': 1}\n",
      "Best CV Rsquare -0.9162315734380467\n",
      "rsquare 0.9289607901863807\n",
      "Best train Rsquare -0.9289607901863807\n",
      "rsquare 0.919516296099074\n",
      "Test RMSE of best random search hypers: -0.919516296099074\n",
      "rsquare 0.919516296099074\n",
      "rsquare 0.9289607901863807\n",
      "xgboost\n",
      "rsquare 0.8319503446568338\n",
      "rsquare 0.826998553332353\n",
      "rsquare 0.8407788093660685\n",
      "rsquare 0.8239412751700239\n",
      "rsquare 0.8408554106833229\n",
      "rsquare 0.8285373024386187\n",
      "rsquare 0.8413535566304272\n",
      "rsquare 0.8230131867118754\n",
      "rsquare 0.808710388560389\n",
      "rsquare 0.8359712972949354\n",
      "rsquare 0.726971123005171\n",
      "rsquare 0.7108392439475877\n",
      "rsquare 0.6714590910886225\n",
      "rsquare 0.7033885011954052\n",
      "rsquare 0.671677656150043\n",
      "rsquare 0.6915253563795998\n",
      "rsquare 0.7028810978058517\n",
      "rsquare 0.7151297326545527\n",
      "rsquare 0.7246050347262465\n",
      "rsquare 0.7135842024059207\n",
      "rsquare 0.5523220475083134\n",
      "rsquare 0.5678771323982722\n",
      "rsquare 0.5950622109516857\n",
      "rsquare 0.6078100063069105\n",
      "rsquare 0.5860230689994315\n",
      "rsquare 0.5577128864681843\n",
      "rsquare 0.5616959279633205\n",
      "rsquare 0.5540644932092902\n",
      "rsquare 0.5400404828523319\n",
      "rsquare 0.593624394149913\n",
      "rsquare 0.5862539078397482\n",
      "rsquare 0.5808336397733082\n",
      "rsquare 0.583438792876714\n",
      "rsquare 0.6427722508243119\n",
      "rsquare 0.5751356885720367\n",
      "rsquare 0.6202763713474658\n",
      "rsquare 0.609353737480198\n",
      "rsquare 0.607718631606737\n",
      "rsquare 0.5863445094495316\n",
      "rsquare 0.643357839788413\n",
      "rsquare 0.6613477956979252\n",
      "rsquare 0.6435603384988269\n",
      "rsquare 0.6742958386218756\n",
      "rsquare 0.6601767818731605\n",
      "rsquare 0.6614066338876416\n",
      "rsquare 0.6707083914057106\n",
      "rsquare 0.6818955678607626\n",
      "rsquare 0.6701146896278329\n",
      "rsquare 0.6578045506745691\n",
      "rsquare 0.6831361679992957\n",
      "rsquare -615.6843440333977\n",
      "rsquare -671.8476920139675\n",
      "rsquare -613.5301730680708\n",
      "rsquare -635.0211784188848\n",
      "rsquare -617.7389195131666\n",
      "rsquare -650.5269103223441\n",
      "rsquare -670.509054240771\n",
      "rsquare -676.6733784798051\n",
      "rsquare -648.4171811692621\n",
      "rsquare -650.2505595172596\n",
      "rsquare 0.817661124604532\n",
      "rsquare 0.7676784242788848\n",
      "rsquare 0.7540683491133258\n",
      "rsquare 0.7898622039404685\n",
      "rsquare 0.7680032374534411\n",
      "rsquare 0.7831364061756484\n",
      "rsquare 0.783414741740804\n",
      "rsquare 0.7659746129113764\n",
      "rsquare 0.7961825522575247\n",
      "rsquare 0.7538478573831846\n",
      "rsquare -224.46671888521607\n",
      "rsquare -244.51830993275016\n",
      "rsquare -223.17705700070962\n",
      "rsquare -230.4127521416901\n",
      "rsquare -224.69957272160738\n",
      "rsquare -237.1485588718633\n",
      "rsquare -244.6062536047442\n",
      "rsquare -246.99591946046277\n",
      "rsquare -236.45633426082014\n",
      "rsquare -236.5889839222351\n",
      "rsquare -1574.7011572278\n",
      "rsquare -1721.6894054779011\n",
      "rsquare -1573.5696349821887\n",
      "rsquare -1630.1110103802703\n",
      "rsquare -1582.241390482705\n",
      "rsquare -1663.168513775839\n",
      "rsquare -1714.7663536681787\n",
      "rsquare -1729.7337365607061\n",
      "rsquare -1658.1931765882073\n",
      "rsquare -1666.4550973958603\n",
      "rsquare 0.9777123888508745\n",
      "rsquare 0.9742126722969949\n",
      "rsquare 0.982838500484583\n",
      "rsquare 0.9797030962578903\n",
      "rsquare 0.978638109338096\n",
      "rsquare 0.9679318245057196\n",
      "rsquare 0.9818291506733656\n",
      "rsquare 0.9755974036523786\n",
      "rsquare 0.9658258148193228\n",
      "rsquare 0.9790648641569039\n",
      "Best CV params {'random_state': 1, 'n_estimators': 100, 'max_depth': 5, 'learning_rate': 0.1, 'gamma': 0.0}\n",
      "Best CV Rsquare -0.9763353825036131\n",
      "rsquare 0.9914276321816716\n",
      "Best train Rsquare -0.9914276321816716\n",
      "rsquare 0.9817293571930917\n",
      "Test RMSE of best random search hypers: -0.9817293571930917\n",
      "rsquare 0.9817293571930917\n",
      "rsquare 0.9914276321816716\n"
     ]
    }
   ],
   "source": [
    "result_dict_3 = {}\n",
    "for model in model_list:\n",
    "    print(model)\n",
    "    result_dict[model + '_param'], \\\n",
    "    result_dict[model + '_cvacc'], \\\n",
    "    result_dict[model + '_testacc'],\\\n",
    "    result_dict[model + '_trainacc'] \\\n",
    "    = randomsearchRegression(models_dict[model], parameters_dct[model])"
   ]
  },
  {
   "attachments": {},
   "cell_type": "markdown",
   "metadata": {},
   "source": [
    "#### Random Forest result"
   ]
  },
  {
   "cell_type": "code",
   "execution_count": 112,
   "metadata": {},
   "outputs": [],
   "source": [
    "best_randomforest = RandomForestRegressor(random_state= 1, n_estimators= 1000, min_samples_leaf= 6, max_features= 160, max_depth= 7)"
   ]
  },
  {
   "cell_type": "code",
   "execution_count": 113,
   "metadata": {},
   "outputs": [
    {
     "data": {
      "text/html": [
       "<style>#sk-container-id-10 {color: black;background-color: white;}#sk-container-id-10 pre{padding: 0;}#sk-container-id-10 div.sk-toggleable {background-color: white;}#sk-container-id-10 label.sk-toggleable__label {cursor: pointer;display: block;width: 100%;margin-bottom: 0;padding: 0.3em;box-sizing: border-box;text-align: center;}#sk-container-id-10 label.sk-toggleable__label-arrow:before {content: \"▸\";float: left;margin-right: 0.25em;color: #696969;}#sk-container-id-10 label.sk-toggleable__label-arrow:hover:before {color: black;}#sk-container-id-10 div.sk-estimator:hover label.sk-toggleable__label-arrow:before {color: black;}#sk-container-id-10 div.sk-toggleable__content {max-height: 0;max-width: 0;overflow: hidden;text-align: left;background-color: #f0f8ff;}#sk-container-id-10 div.sk-toggleable__content pre {margin: 0.2em;color: black;border-radius: 0.25em;background-color: #f0f8ff;}#sk-container-id-10 input.sk-toggleable__control:checked~div.sk-toggleable__content {max-height: 200px;max-width: 100%;overflow: auto;}#sk-container-id-10 input.sk-toggleable__control:checked~label.sk-toggleable__label-arrow:before {content: \"▾\";}#sk-container-id-10 div.sk-estimator input.sk-toggleable__control:checked~label.sk-toggleable__label {background-color: #d4ebff;}#sk-container-id-10 div.sk-label input.sk-toggleable__control:checked~label.sk-toggleable__label {background-color: #d4ebff;}#sk-container-id-10 input.sk-hidden--visually {border: 0;clip: rect(1px 1px 1px 1px);clip: rect(1px, 1px, 1px, 1px);height: 1px;margin: -1px;overflow: hidden;padding: 0;position: absolute;width: 1px;}#sk-container-id-10 div.sk-estimator {font-family: monospace;background-color: #f0f8ff;border: 1px dotted black;border-radius: 0.25em;box-sizing: border-box;margin-bottom: 0.5em;}#sk-container-id-10 div.sk-estimator:hover {background-color: #d4ebff;}#sk-container-id-10 div.sk-parallel-item::after {content: \"\";width: 100%;border-bottom: 1px solid gray;flex-grow: 1;}#sk-container-id-10 div.sk-label:hover label.sk-toggleable__label {background-color: #d4ebff;}#sk-container-id-10 div.sk-serial::before {content: \"\";position: absolute;border-left: 1px solid gray;box-sizing: border-box;top: 0;bottom: 0;left: 50%;z-index: 0;}#sk-container-id-10 div.sk-serial {display: flex;flex-direction: column;align-items: center;background-color: white;padding-right: 0.2em;padding-left: 0.2em;position: relative;}#sk-container-id-10 div.sk-item {position: relative;z-index: 1;}#sk-container-id-10 div.sk-parallel {display: flex;align-items: stretch;justify-content: center;background-color: white;position: relative;}#sk-container-id-10 div.sk-item::before, #sk-container-id-10 div.sk-parallel-item::before {content: \"\";position: absolute;border-left: 1px solid gray;box-sizing: border-box;top: 0;bottom: 0;left: 50%;z-index: -1;}#sk-container-id-10 div.sk-parallel-item {display: flex;flex-direction: column;z-index: 1;position: relative;background-color: white;}#sk-container-id-10 div.sk-parallel-item:first-child::after {align-self: flex-end;width: 50%;}#sk-container-id-10 div.sk-parallel-item:last-child::after {align-self: flex-start;width: 50%;}#sk-container-id-10 div.sk-parallel-item:only-child::after {width: 0;}#sk-container-id-10 div.sk-dashed-wrapped {border: 1px dashed gray;margin: 0 0.4em 0.5em 0.4em;box-sizing: border-box;padding-bottom: 0.4em;background-color: white;}#sk-container-id-10 div.sk-label label {font-family: monospace;font-weight: bold;display: inline-block;line-height: 1.2em;}#sk-container-id-10 div.sk-label-container {text-align: center;}#sk-container-id-10 div.sk-container {/* jupyter's `normalize.less` sets `[hidden] { display: none; }` but bootstrap.min.css set `[hidden] { display: none !important; }` so we also need the `!important` here to be able to override the default hidden behavior on the sphinx rendered scikit-learn.org. See: https://github.com/scikit-learn/scikit-learn/issues/21755 */display: inline-block !important;position: relative;}#sk-container-id-10 div.sk-text-repr-fallback {display: none;}</style><div id=\"sk-container-id-10\" class=\"sk-top-container\"><div class=\"sk-text-repr-fallback\"><pre>RandomForestRegressor(max_depth=7, max_features=160, min_samples_leaf=6,\n",
       "                      n_estimators=1000, random_state=1)</pre><b>In a Jupyter environment, please rerun this cell to show the HTML representation or trust the notebook. <br />On GitHub, the HTML representation is unable to render, please try loading this page with nbviewer.org.</b></div><div class=\"sk-container\" hidden><div class=\"sk-item\"><div class=\"sk-estimator sk-toggleable\"><input class=\"sk-toggleable__control sk-hidden--visually\" id=\"sk-estimator-id-10\" type=\"checkbox\" checked><label for=\"sk-estimator-id-10\" class=\"sk-toggleable__label sk-toggleable__label-arrow\">RandomForestRegressor</label><div class=\"sk-toggleable__content\"><pre>RandomForestRegressor(max_depth=7, max_features=160, min_samples_leaf=6,\n",
       "                      n_estimators=1000, random_state=1)</pre></div></div></div></div></div>"
      ],
      "text/plain": [
       "RandomForestRegressor(max_depth=7, max_features=160, min_samples_leaf=6,\n",
       "                      n_estimators=1000, random_state=1)"
      ]
     },
     "execution_count": 113,
     "metadata": {},
     "output_type": "execute_result"
    }
   ],
   "source": [
    "best_randomforest.fit(train_X, train_y)"
   ]
  },
  {
   "cell_type": "code",
   "execution_count": 114,
   "metadata": {},
   "outputs": [],
   "source": [
    "pred_y = best_randomforest.predict(test_X)"
   ]
  },
  {
   "cell_type": "code",
   "execution_count": 115,
   "metadata": {},
   "outputs": [
    {
     "name": "stdout",
     "output_type": "stream",
     "text": [
      "rmse 1555.7526828921777\n"
     ]
    },
    {
     "data": {
      "text/plain": [
       "1555.7526828921777"
      ]
     },
     "execution_count": 115,
     "metadata": {},
     "output_type": "execute_result"
    }
   ],
   "source": [
    "rmse(np.exp(pred_y), np.exp(test_y['TARGET_Weighted_RetailPrice']).values)"
   ]
  },
  {
   "cell_type": "code",
   "execution_count": 116,
   "metadata": {},
   "outputs": [
    {
     "data": {
      "text/plain": [
       "0.9238220178125645"
      ]
     },
     "execution_count": 116,
     "metadata": {},
     "output_type": "execute_result"
    }
   ],
   "source": [
    "r2_score(np.exp(pred_y), np.exp(test_y['TARGET_Weighted_RetailPrice']).values)"
   ]
  },
  {
   "cell_type": "code",
   "execution_count": 117,
   "metadata": {},
   "outputs": [],
   "source": [
    "RF_importances = best_randomforest.feature_importances_"
   ]
  },
  {
   "cell_type": "code",
   "execution_count": 118,
   "metadata": {},
   "outputs": [],
   "source": [
    "feature_names = list(X_featureimp.columns)"
   ]
  },
  {
   "cell_type": "code",
   "execution_count": 119,
   "metadata": {},
   "outputs": [],
   "source": [
    "RF_importances = pd.DataFrame(RF_importances, columns=['importances'], index=feature_names)"
   ]
  },
  {
   "cell_type": "code",
   "execution_count": 120,
   "metadata": {},
   "outputs": [
    {
     "data": {
      "text/html": [
       "<div>\n",
       "<style scoped>\n",
       "    .dataframe tbody tr th:only-of-type {\n",
       "        vertical-align: middle;\n",
       "    }\n",
       "\n",
       "    .dataframe tbody tr th {\n",
       "        vertical-align: top;\n",
       "    }\n",
       "\n",
       "    .dataframe thead th {\n",
       "        text-align: right;\n",
       "    }\n",
       "</style>\n",
       "<table border=\"1\" class=\"dataframe\">\n",
       "  <thead>\n",
       "    <tr style=\"text-align: right;\">\n",
       "      <th></th>\n",
       "      <th>importances</th>\n",
       "    </tr>\n",
       "  </thead>\n",
       "  <tbody>\n",
       "    <tr>\n",
       "      <th>SPEC_published_kerb_weight_kg</th>\n",
       "      <td>4.817074e-01</td>\n",
       "    </tr>\n",
       "    <tr>\n",
       "      <th>MSRP_prevMY_WeightedByVol</th>\n",
       "      <td>1.686413e-01</td>\n",
       "    </tr>\n",
       "    <tr>\n",
       "      <th>SPEC_maximum_torque_Nm</th>\n",
       "      <td>8.458342e-02</td>\n",
       "    </tr>\n",
       "    <tr>\n",
       "      <th>SPEC_FRDRseat_reclining_manual</th>\n",
       "      <td>6.154642e-02</td>\n",
       "    </tr>\n",
       "    <tr>\n",
       "      <th>SPEC_wheelrim_alloy</th>\n",
       "      <td>2.579668e-02</td>\n",
       "    </tr>\n",
       "    <tr>\n",
       "      <th>...</th>\n",
       "      <td>...</td>\n",
       "    </tr>\n",
       "    <tr>\n",
       "      <th>SPEC_IIHS_smalloverlapFRDR_Marginal</th>\n",
       "      <td>4.376902e-05</td>\n",
       "    </tr>\n",
       "    <tr>\n",
       "      <th>SPEC_RRseat_reclining_manual</th>\n",
       "      <td>2.733765e-05</td>\n",
       "    </tr>\n",
       "    <tr>\n",
       "      <th>PROFILE_MY_2023</th>\n",
       "      <td>1.837291e-05</td>\n",
       "    </tr>\n",
       "    <tr>\n",
       "      <th>SPEC_height_adjustment865</th>\n",
       "      <td>1.627500e-06</td>\n",
       "    </tr>\n",
       "    <tr>\n",
       "      <th>SPEC_configuration_V</th>\n",
       "      <td>7.835700e-07</td>\n",
       "    </tr>\n",
       "  </tbody>\n",
       "</table>\n",
       "<p>99 rows × 1 columns</p>\n",
       "</div>"
      ],
      "text/plain": [
       "                                      importances\n",
       "SPEC_published_kerb_weight_kg        4.817074e-01\n",
       "MSRP_prevMY_WeightedByVol            1.686413e-01\n",
       "SPEC_maximum_torque_Nm               8.458342e-02\n",
       "SPEC_FRDRseat_reclining_manual       6.154642e-02\n",
       "SPEC_wheelrim_alloy                  2.579668e-02\n",
       "...                                           ...\n",
       "SPEC_IIHS_smalloverlapFRDR_Marginal  4.376902e-05\n",
       "SPEC_RRseat_reclining_manual         2.733765e-05\n",
       "PROFILE_MY_2023                      1.837291e-05\n",
       "SPEC_height_adjustment865            1.627500e-06\n",
       "SPEC_configuration_V                 7.835700e-07\n",
       "\n",
       "[99 rows x 1 columns]"
      ]
     },
     "execution_count": 120,
     "metadata": {},
     "output_type": "execute_result"
    }
   ],
   "source": [
    "RF_importances.sort_values(by='importances', ascending=False)"
   ]
  },
  {
   "attachments": {},
   "cell_type": "markdown",
   "metadata": {},
   "source": [
    "#### Adaboost result"
   ]
  },
  {
   "cell_type": "code",
   "execution_count": 121,
   "metadata": {},
   "outputs": [],
   "source": [
    "best_adaboost= AdaBoostRegressor(random_state=1, n_estimators=500, learning_rate=1)\n"
   ]
  },
  {
   "cell_type": "code",
   "execution_count": 122,
   "metadata": {},
   "outputs": [
    {
     "data": {
      "text/html": [
       "<style>#sk-container-id-11 {color: black;background-color: white;}#sk-container-id-11 pre{padding: 0;}#sk-container-id-11 div.sk-toggleable {background-color: white;}#sk-container-id-11 label.sk-toggleable__label {cursor: pointer;display: block;width: 100%;margin-bottom: 0;padding: 0.3em;box-sizing: border-box;text-align: center;}#sk-container-id-11 label.sk-toggleable__label-arrow:before {content: \"▸\";float: left;margin-right: 0.25em;color: #696969;}#sk-container-id-11 label.sk-toggleable__label-arrow:hover:before {color: black;}#sk-container-id-11 div.sk-estimator:hover label.sk-toggleable__label-arrow:before {color: black;}#sk-container-id-11 div.sk-toggleable__content {max-height: 0;max-width: 0;overflow: hidden;text-align: left;background-color: #f0f8ff;}#sk-container-id-11 div.sk-toggleable__content pre {margin: 0.2em;color: black;border-radius: 0.25em;background-color: #f0f8ff;}#sk-container-id-11 input.sk-toggleable__control:checked~div.sk-toggleable__content {max-height: 200px;max-width: 100%;overflow: auto;}#sk-container-id-11 input.sk-toggleable__control:checked~label.sk-toggleable__label-arrow:before {content: \"▾\";}#sk-container-id-11 div.sk-estimator input.sk-toggleable__control:checked~label.sk-toggleable__label {background-color: #d4ebff;}#sk-container-id-11 div.sk-label input.sk-toggleable__control:checked~label.sk-toggleable__label {background-color: #d4ebff;}#sk-container-id-11 input.sk-hidden--visually {border: 0;clip: rect(1px 1px 1px 1px);clip: rect(1px, 1px, 1px, 1px);height: 1px;margin: -1px;overflow: hidden;padding: 0;position: absolute;width: 1px;}#sk-container-id-11 div.sk-estimator {font-family: monospace;background-color: #f0f8ff;border: 1px dotted black;border-radius: 0.25em;box-sizing: border-box;margin-bottom: 0.5em;}#sk-container-id-11 div.sk-estimator:hover {background-color: #d4ebff;}#sk-container-id-11 div.sk-parallel-item::after {content: \"\";width: 100%;border-bottom: 1px solid gray;flex-grow: 1;}#sk-container-id-11 div.sk-label:hover label.sk-toggleable__label {background-color: #d4ebff;}#sk-container-id-11 div.sk-serial::before {content: \"\";position: absolute;border-left: 1px solid gray;box-sizing: border-box;top: 0;bottom: 0;left: 50%;z-index: 0;}#sk-container-id-11 div.sk-serial {display: flex;flex-direction: column;align-items: center;background-color: white;padding-right: 0.2em;padding-left: 0.2em;position: relative;}#sk-container-id-11 div.sk-item {position: relative;z-index: 1;}#sk-container-id-11 div.sk-parallel {display: flex;align-items: stretch;justify-content: center;background-color: white;position: relative;}#sk-container-id-11 div.sk-item::before, #sk-container-id-11 div.sk-parallel-item::before {content: \"\";position: absolute;border-left: 1px solid gray;box-sizing: border-box;top: 0;bottom: 0;left: 50%;z-index: -1;}#sk-container-id-11 div.sk-parallel-item {display: flex;flex-direction: column;z-index: 1;position: relative;background-color: white;}#sk-container-id-11 div.sk-parallel-item:first-child::after {align-self: flex-end;width: 50%;}#sk-container-id-11 div.sk-parallel-item:last-child::after {align-self: flex-start;width: 50%;}#sk-container-id-11 div.sk-parallel-item:only-child::after {width: 0;}#sk-container-id-11 div.sk-dashed-wrapped {border: 1px dashed gray;margin: 0 0.4em 0.5em 0.4em;box-sizing: border-box;padding-bottom: 0.4em;background-color: white;}#sk-container-id-11 div.sk-label label {font-family: monospace;font-weight: bold;display: inline-block;line-height: 1.2em;}#sk-container-id-11 div.sk-label-container {text-align: center;}#sk-container-id-11 div.sk-container {/* jupyter's `normalize.less` sets `[hidden] { display: none; }` but bootstrap.min.css set `[hidden] { display: none !important; }` so we also need the `!important` here to be able to override the default hidden behavior on the sphinx rendered scikit-learn.org. See: https://github.com/scikit-learn/scikit-learn/issues/21755 */display: inline-block !important;position: relative;}#sk-container-id-11 div.sk-text-repr-fallback {display: none;}</style><div id=\"sk-container-id-11\" class=\"sk-top-container\"><div class=\"sk-text-repr-fallback\"><pre>AdaBoostRegressor(learning_rate=1, n_estimators=500, random_state=1)</pre><b>In a Jupyter environment, please rerun this cell to show the HTML representation or trust the notebook. <br />On GitHub, the HTML representation is unable to render, please try loading this page with nbviewer.org.</b></div><div class=\"sk-container\" hidden><div class=\"sk-item\"><div class=\"sk-estimator sk-toggleable\"><input class=\"sk-toggleable__control sk-hidden--visually\" id=\"sk-estimator-id-11\" type=\"checkbox\" checked><label for=\"sk-estimator-id-11\" class=\"sk-toggleable__label sk-toggleable__label-arrow\">AdaBoostRegressor</label><div class=\"sk-toggleable__content\"><pre>AdaBoostRegressor(learning_rate=1, n_estimators=500, random_state=1)</pre></div></div></div></div></div>"
      ],
      "text/plain": [
       "AdaBoostRegressor(learning_rate=1, n_estimators=500, random_state=1)"
      ]
     },
     "execution_count": 122,
     "metadata": {},
     "output_type": "execute_result"
    }
   ],
   "source": [
    "best_adaboost.fit(train_X, train_y)"
   ]
  },
  {
   "cell_type": "code",
   "execution_count": 123,
   "metadata": {},
   "outputs": [],
   "source": [
    "pred_y = best_adaboost.predict(test_X)"
   ]
  },
  {
   "cell_type": "code",
   "execution_count": 124,
   "metadata": {},
   "outputs": [
    {
     "name": "stdout",
     "output_type": "stream",
     "text": [
      "rmse 1814.2418599001905\n"
     ]
    },
    {
     "data": {
      "text/plain": [
       "1814.2418599001905"
      ]
     },
     "execution_count": 124,
     "metadata": {},
     "output_type": "execute_result"
    }
   ],
   "source": [
    "rmse(np.exp(pred_y), np.exp(test_y['TARGET_Weighted_RetailPrice']).values)"
   ]
  },
  {
   "cell_type": "code",
   "execution_count": 125,
   "metadata": {},
   "outputs": [
    {
     "data": {
      "text/plain": [
       "0.8806618571637091"
      ]
     },
     "execution_count": 125,
     "metadata": {},
     "output_type": "execute_result"
    }
   ],
   "source": [
    "r2_score(np.exp(pred_y), np.exp(test_y['TARGET_Weighted_RetailPrice']).values)"
   ]
  },
  {
   "cell_type": "code",
   "execution_count": 126,
   "metadata": {},
   "outputs": [],
   "source": [
    "AB_importances = best_adaboost.feature_importances_"
   ]
  },
  {
   "cell_type": "code",
   "execution_count": 127,
   "metadata": {},
   "outputs": [],
   "source": [
    "AB_importances = pd.DataFrame(AB_importances, columns=['importances'], index=feature_names)"
   ]
  },
  {
   "cell_type": "code",
   "execution_count": 128,
   "metadata": {},
   "outputs": [
    {
     "data": {
      "text/html": [
       "<div>\n",
       "<style scoped>\n",
       "    .dataframe tbody tr th:only-of-type {\n",
       "        vertical-align: middle;\n",
       "    }\n",
       "\n",
       "    .dataframe tbody tr th {\n",
       "        vertical-align: top;\n",
       "    }\n",
       "\n",
       "    .dataframe thead th {\n",
       "        text-align: right;\n",
       "    }\n",
       "</style>\n",
       "<table border=\"1\" class=\"dataframe\">\n",
       "  <thead>\n",
       "    <tr style=\"text-align: right;\">\n",
       "      <th></th>\n",
       "      <th>importances</th>\n",
       "    </tr>\n",
       "  </thead>\n",
       "  <tbody>\n",
       "    <tr>\n",
       "      <th>SPEC_published_kerb_weight_kg</th>\n",
       "      <td>0.220508</td>\n",
       "    </tr>\n",
       "    <tr>\n",
       "      <th>SPEC_maximum_torque_Nm</th>\n",
       "      <td>0.193887</td>\n",
       "    </tr>\n",
       "    <tr>\n",
       "      <th>MSRP_prevMY_WeightedByVol</th>\n",
       "      <td>0.098155</td>\n",
       "    </tr>\n",
       "    <tr>\n",
       "      <th>SPEC_wheelrim_width_inch</th>\n",
       "      <td>0.041293</td>\n",
       "    </tr>\n",
       "    <tr>\n",
       "      <th>SPEC_Seatmaterial_cloth</th>\n",
       "      <td>0.040722</td>\n",
       "    </tr>\n",
       "    <tr>\n",
       "      <th>...</th>\n",
       "      <td>...</td>\n",
       "    </tr>\n",
       "    <tr>\n",
       "      <th>SPEC_configuration_V</th>\n",
       "      <td>0.000000</td>\n",
       "    </tr>\n",
       "    <tr>\n",
       "      <th>SPEC_programmable_distance</th>\n",
       "      <td>0.000000</td>\n",
       "    </tr>\n",
       "    <tr>\n",
       "      <th>SPEC_in_dash_CD</th>\n",
       "      <td>0.000000</td>\n",
       "    </tr>\n",
       "    <tr>\n",
       "      <th>SPEC_rooftype_standard</th>\n",
       "      <td>0.000000</td>\n",
       "    </tr>\n",
       "    <tr>\n",
       "      <th>SPEC_FRPGseat_reach_electric</th>\n",
       "      <td>0.000000</td>\n",
       "    </tr>\n",
       "  </tbody>\n",
       "</table>\n",
       "<p>99 rows × 1 columns</p>\n",
       "</div>"
      ],
      "text/plain": [
       "                               importances\n",
       "SPEC_published_kerb_weight_kg     0.220508\n",
       "SPEC_maximum_torque_Nm            0.193887\n",
       "MSRP_prevMY_WeightedByVol         0.098155\n",
       "SPEC_wheelrim_width_inch          0.041293\n",
       "SPEC_Seatmaterial_cloth           0.040722\n",
       "...                                    ...\n",
       "SPEC_configuration_V              0.000000\n",
       "SPEC_programmable_distance        0.000000\n",
       "SPEC_in_dash_CD                   0.000000\n",
       "SPEC_rooftype_standard            0.000000\n",
       "SPEC_FRPGseat_reach_electric      0.000000\n",
       "\n",
       "[99 rows x 1 columns]"
      ]
     },
     "execution_count": 128,
     "metadata": {},
     "output_type": "execute_result"
    }
   ],
   "source": [
    "AB_importances.sort_values(by='importances', ascending=False)"
   ]
  },
  {
   "attachments": {},
   "cell_type": "markdown",
   "metadata": {},
   "source": [
    "#### XGboost result"
   ]
  },
  {
   "cell_type": "code",
   "execution_count": 134,
   "metadata": {},
   "outputs": [],
   "source": [
    "best_xgboost = xgb.XGBRegressor(random_state=1, n_estimators=100, max_depth=5, learning_rate=0.1, gamma=0)"
   ]
  },
  {
   "cell_type": "code",
   "execution_count": 135,
   "metadata": {},
   "outputs": [
    {
     "data": {
      "text/html": [
       "<style>#sk-container-id-13 {color: black;background-color: white;}#sk-container-id-13 pre{padding: 0;}#sk-container-id-13 div.sk-toggleable {background-color: white;}#sk-container-id-13 label.sk-toggleable__label {cursor: pointer;display: block;width: 100%;margin-bottom: 0;padding: 0.3em;box-sizing: border-box;text-align: center;}#sk-container-id-13 label.sk-toggleable__label-arrow:before {content: \"▸\";float: left;margin-right: 0.25em;color: #696969;}#sk-container-id-13 label.sk-toggleable__label-arrow:hover:before {color: black;}#sk-container-id-13 div.sk-estimator:hover label.sk-toggleable__label-arrow:before {color: black;}#sk-container-id-13 div.sk-toggleable__content {max-height: 0;max-width: 0;overflow: hidden;text-align: left;background-color: #f0f8ff;}#sk-container-id-13 div.sk-toggleable__content pre {margin: 0.2em;color: black;border-radius: 0.25em;background-color: #f0f8ff;}#sk-container-id-13 input.sk-toggleable__control:checked~div.sk-toggleable__content {max-height: 200px;max-width: 100%;overflow: auto;}#sk-container-id-13 input.sk-toggleable__control:checked~label.sk-toggleable__label-arrow:before {content: \"▾\";}#sk-container-id-13 div.sk-estimator input.sk-toggleable__control:checked~label.sk-toggleable__label {background-color: #d4ebff;}#sk-container-id-13 div.sk-label input.sk-toggleable__control:checked~label.sk-toggleable__label {background-color: #d4ebff;}#sk-container-id-13 input.sk-hidden--visually {border: 0;clip: rect(1px 1px 1px 1px);clip: rect(1px, 1px, 1px, 1px);height: 1px;margin: -1px;overflow: hidden;padding: 0;position: absolute;width: 1px;}#sk-container-id-13 div.sk-estimator {font-family: monospace;background-color: #f0f8ff;border: 1px dotted black;border-radius: 0.25em;box-sizing: border-box;margin-bottom: 0.5em;}#sk-container-id-13 div.sk-estimator:hover {background-color: #d4ebff;}#sk-container-id-13 div.sk-parallel-item::after {content: \"\";width: 100%;border-bottom: 1px solid gray;flex-grow: 1;}#sk-container-id-13 div.sk-label:hover label.sk-toggleable__label {background-color: #d4ebff;}#sk-container-id-13 div.sk-serial::before {content: \"\";position: absolute;border-left: 1px solid gray;box-sizing: border-box;top: 0;bottom: 0;left: 50%;z-index: 0;}#sk-container-id-13 div.sk-serial {display: flex;flex-direction: column;align-items: center;background-color: white;padding-right: 0.2em;padding-left: 0.2em;position: relative;}#sk-container-id-13 div.sk-item {position: relative;z-index: 1;}#sk-container-id-13 div.sk-parallel {display: flex;align-items: stretch;justify-content: center;background-color: white;position: relative;}#sk-container-id-13 div.sk-item::before, #sk-container-id-13 div.sk-parallel-item::before {content: \"\";position: absolute;border-left: 1px solid gray;box-sizing: border-box;top: 0;bottom: 0;left: 50%;z-index: -1;}#sk-container-id-13 div.sk-parallel-item {display: flex;flex-direction: column;z-index: 1;position: relative;background-color: white;}#sk-container-id-13 div.sk-parallel-item:first-child::after {align-self: flex-end;width: 50%;}#sk-container-id-13 div.sk-parallel-item:last-child::after {align-self: flex-start;width: 50%;}#sk-container-id-13 div.sk-parallel-item:only-child::after {width: 0;}#sk-container-id-13 div.sk-dashed-wrapped {border: 1px dashed gray;margin: 0 0.4em 0.5em 0.4em;box-sizing: border-box;padding-bottom: 0.4em;background-color: white;}#sk-container-id-13 div.sk-label label {font-family: monospace;font-weight: bold;display: inline-block;line-height: 1.2em;}#sk-container-id-13 div.sk-label-container {text-align: center;}#sk-container-id-13 div.sk-container {/* jupyter's `normalize.less` sets `[hidden] { display: none; }` but bootstrap.min.css set `[hidden] { display: none !important; }` so we also need the `!important` here to be able to override the default hidden behavior on the sphinx rendered scikit-learn.org. See: https://github.com/scikit-learn/scikit-learn/issues/21755 */display: inline-block !important;position: relative;}#sk-container-id-13 div.sk-text-repr-fallback {display: none;}</style><div id=\"sk-container-id-13\" class=\"sk-top-container\"><div class=\"sk-text-repr-fallback\"><pre>XGBRegressor(base_score=None, booster=None, callbacks=None,\n",
       "             colsample_bylevel=None, colsample_bynode=None,\n",
       "             colsample_bytree=None, early_stopping_rounds=None,\n",
       "             enable_categorical=False, eval_metric=None, feature_types=None,\n",
       "             gamma=0, gpu_id=None, grow_policy=None, importance_type=None,\n",
       "             interaction_constraints=None, learning_rate=0.1, max_bin=None,\n",
       "             max_cat_threshold=None, max_cat_to_onehot=None,\n",
       "             max_delta_step=None, max_depth=5, max_leaves=None,\n",
       "             min_child_weight=None, missing=nan, monotone_constraints=None,\n",
       "             n_estimators=100, n_jobs=None, num_parallel_tree=None,\n",
       "             predictor=None, random_state=1, ...)</pre><b>In a Jupyter environment, please rerun this cell to show the HTML representation or trust the notebook. <br />On GitHub, the HTML representation is unable to render, please try loading this page with nbviewer.org.</b></div><div class=\"sk-container\" hidden><div class=\"sk-item\"><div class=\"sk-estimator sk-toggleable\"><input class=\"sk-toggleable__control sk-hidden--visually\" id=\"sk-estimator-id-13\" type=\"checkbox\" checked><label for=\"sk-estimator-id-13\" class=\"sk-toggleable__label sk-toggleable__label-arrow\">XGBRegressor</label><div class=\"sk-toggleable__content\"><pre>XGBRegressor(base_score=None, booster=None, callbacks=None,\n",
       "             colsample_bylevel=None, colsample_bynode=None,\n",
       "             colsample_bytree=None, early_stopping_rounds=None,\n",
       "             enable_categorical=False, eval_metric=None, feature_types=None,\n",
       "             gamma=0, gpu_id=None, grow_policy=None, importance_type=None,\n",
       "             interaction_constraints=None, learning_rate=0.1, max_bin=None,\n",
       "             max_cat_threshold=None, max_cat_to_onehot=None,\n",
       "             max_delta_step=None, max_depth=5, max_leaves=None,\n",
       "             min_child_weight=None, missing=nan, monotone_constraints=None,\n",
       "             n_estimators=100, n_jobs=None, num_parallel_tree=None,\n",
       "             predictor=None, random_state=1, ...)</pre></div></div></div></div></div>"
      ],
      "text/plain": [
       "XGBRegressor(base_score=None, booster=None, callbacks=None,\n",
       "             colsample_bylevel=None, colsample_bynode=None,\n",
       "             colsample_bytree=None, early_stopping_rounds=None,\n",
       "             enable_categorical=False, eval_metric=None, feature_types=None,\n",
       "             gamma=0, gpu_id=None, grow_policy=None, importance_type=None,\n",
       "             interaction_constraints=None, learning_rate=0.1, max_bin=None,\n",
       "             max_cat_threshold=None, max_cat_to_onehot=None,\n",
       "             max_delta_step=None, max_depth=5, max_leaves=None,\n",
       "             min_child_weight=None, missing=nan, monotone_constraints=None,\n",
       "             n_estimators=100, n_jobs=None, num_parallel_tree=None,\n",
       "             predictor=None, random_state=1, ...)"
      ]
     },
     "execution_count": 135,
     "metadata": {},
     "output_type": "execute_result"
    }
   ],
   "source": [
    "best_xgboost.fit(train_X, train_y)"
   ]
  },
  {
   "cell_type": "code",
   "execution_count": 136,
   "metadata": {},
   "outputs": [],
   "source": [
    "pred_y = best_xgboost.predict(test_X)"
   ]
  },
  {
   "cell_type": "code",
   "execution_count": 137,
   "metadata": {},
   "outputs": [
    {
     "name": "stdout",
     "output_type": "stream",
     "text": [
      "rmse 933.4605882485242\n"
     ]
    },
    {
     "data": {
      "text/plain": [
       "933.4605882485242"
      ]
     },
     "execution_count": 137,
     "metadata": {},
     "output_type": "execute_result"
    }
   ],
   "source": [
    "rmse(np.exp(pred_y), np.exp(test_y['TARGET_Weighted_RetailPrice']).values)"
   ]
  },
  {
   "cell_type": "code",
   "execution_count": 138,
   "metadata": {},
   "outputs": [
    {
     "data": {
      "text/plain": [
       "0.9751137063120483"
      ]
     },
     "execution_count": 138,
     "metadata": {},
     "output_type": "execute_result"
    }
   ],
   "source": [
    "r2_score(np.exp(pred_y), np.exp(test_y['TARGET_Weighted_RetailPrice']).values)"
   ]
  },
  {
   "cell_type": "code",
   "execution_count": null,
   "metadata": {},
   "outputs": [],
   "source": []
  },
  {
   "cell_type": "code",
   "execution_count": null,
   "metadata": {},
   "outputs": [],
   "source": []
  },
  {
   "attachments": {},
   "cell_type": "markdown",
   "metadata": {},
   "source": [
    "## MidPrice_Largesize models"
   ]
  },
  {
   "attachments": {},
   "cell_type": "markdown",
   "metadata": {},
   "source": [
    "### Model with Statistically significant variables"
   ]
  },
  {
   "cell_type": "code",
   "execution_count": 139,
   "metadata": {},
   "outputs": [],
   "source": [
    "model_name = 'MidPrice_Largesize'"
   ]
  },
  {
   "cell_type": "code",
   "execution_count": 140,
   "metadata": {},
   "outputs": [],
   "source": [
    "df_ml = pd.read_csv('../../01_Outputs/modeling_2nd/df_model_'+model_name+'.csv').dropna()"
   ]
  },
  {
   "cell_type": "code",
   "execution_count": 141,
   "metadata": {},
   "outputs": [],
   "source": [
    "target = 'TARGET_Weighted_RetailPrice'"
   ]
  },
  {
   "cell_type": "code",
   "execution_count": 142,
   "metadata": {},
   "outputs": [],
   "source": [
    "X = df_ml.drop(target, axis=1)"
   ]
  },
  {
   "cell_type": "code",
   "execution_count": 143,
   "metadata": {},
   "outputs": [],
   "source": [
    "y = df_ml[[target]]"
   ]
  },
  {
   "cell_type": "code",
   "execution_count": 144,
   "metadata": {},
   "outputs": [],
   "source": [
    "y = np.log(y)"
   ]
  },
  {
   "cell_type": "code",
   "execution_count": 145,
   "metadata": {},
   "outputs": [],
   "source": [
    "train_X, test_X, train_y, test_y = train_test_split(X, y, train_size=0.7, test_size=0.3, random_state=42)"
   ]
  },
  {
   "cell_type": "code",
   "execution_count": 150,
   "metadata": {},
   "outputs": [
    {
     "name": "stdout",
     "output_type": "stream",
     "text": [
      "random_forest\n",
      "rsquare 0.8438714614967406\n",
      "rsquare 0.8179503714803709\n",
      "rsquare 0.8183687689112238\n",
      "rsquare 0.8278466982480295\n",
      "rsquare 0.8011508331724854\n",
      "rsquare 0.7967354813498743\n",
      "rsquare 0.816545856209854\n",
      "rsquare 0.8046946615272093\n",
      "rsquare 0.8073942252257846\n",
      "rsquare 0.7900418517867455\n",
      "rsquare 0.7784587430985991\n",
      "rsquare 0.7403821582948648\n",
      "rsquare 0.7532346311191885\n",
      "rsquare 0.7429473738431437\n",
      "rsquare 0.7127369907111003\n",
      "rsquare 0.709220031313329\n",
      "rsquare 0.7335918060637632\n",
      "rsquare 0.7205465186962057\n",
      "rsquare 0.7059542939922475\n",
      "rsquare 0.7265255714682586\n",
      "rsquare 0.9014287310224707\n",
      "rsquare 0.8863732014962118\n",
      "rsquare 0.8941461364624462\n",
      "rsquare 0.8959412967098432\n",
      "rsquare 0.8820958353137736\n",
      "rsquare 0.8758722302571701\n",
      "rsquare 0.8837992955209706\n",
      "rsquare 0.8854970432125578\n",
      "rsquare 0.88218932347475\n",
      "rsquare 0.8509831387787015\n",
      "rsquare 0.9186132711674655\n",
      "rsquare 0.9151681879449814\n",
      "rsquare 0.911878980878971\n",
      "rsquare 0.9102507674584565\n",
      "rsquare 0.9034439711973711\n",
      "rsquare 0.9013093015744001\n",
      "rsquare 0.9237050939409838\n",
      "rsquare 0.9071763576053853\n",
      "rsquare 0.9162909241007647\n",
      "rsquare 0.8791003799557425\n",
      "rsquare 0.44880793069121394\n",
      "rsquare 0.45277813315454063\n",
      "rsquare 0.47521550296816595\n",
      "rsquare 0.47781287185361987\n",
      "rsquare 0.45240953988915333\n",
      "rsquare 0.44488972773063695\n",
      "rsquare 0.45378861919188784\n",
      "rsquare 0.450605606064729\n",
      "rsquare 0.45748502704821525\n",
      "rsquare 0.45004880990803886\n",
      "rsquare 0.9032456165466454\n",
      "rsquare 0.8956877573603428\n",
      "rsquare 0.8988186644609946\n",
      "rsquare 0.8999791401499521\n",
      "rsquare 0.8872532256705314\n",
      "rsquare 0.88277516977248\n",
      "rsquare 0.8988678485883742\n",
      "rsquare 0.8913204589882784\n",
      "rsquare 0.8937701464887969\n",
      "rsquare 0.8610889571299241\n",
      "rsquare 0.7788488634720393\n",
      "rsquare 0.7393604149138797\n",
      "rsquare 0.7434033162550631\n",
      "rsquare 0.7549527481197649\n",
      "rsquare 0.7323695870509752\n",
      "rsquare 0.7226521235584513\n",
      "rsquare 0.7454655717639698\n",
      "rsquare 0.7140899205345748\n",
      "rsquare 0.7281992325570719\n",
      "rsquare 0.7313982915837396\n",
      "rsquare 0.9265611503680524\n",
      "rsquare 0.9225502509030336\n",
      "rsquare 0.9176331437897524\n",
      "rsquare 0.916658295396577\n",
      "rsquare 0.9122854080983084\n",
      "rsquare 0.9099231623580746\n",
      "rsquare 0.9314881561458279\n",
      "rsquare 0.91581065523723\n",
      "rsquare 0.9210478184624635\n",
      "rsquare 0.8855906625605835\n",
      "rsquare 0.9565447991903946\n",
      "rsquare 0.9472522465607753\n",
      "rsquare 0.9531073019817855\n",
      "rsquare 0.948023417470679\n",
      "rsquare 0.9446801583685223\n",
      "rsquare 0.9419269181465401\n",
      "rsquare 0.9551348892429773\n",
      "rsquare 0.9527164604933674\n",
      "rsquare 0.9461136921962267\n",
      "rsquare 0.912008361931357\n",
      "rsquare 0.7806777216962381\n",
      "rsquare 0.74042029300596\n",
      "rsquare 0.7454535076190676\n",
      "rsquare 0.7594027239704548\n",
      "rsquare 0.7358459938970805\n",
      "rsquare 0.7245284150964879\n",
      "rsquare 0.739387079129153\n",
      "rsquare 0.7136129128330402\n",
      "rsquare 0.7315262480559432\n",
      "rsquare 0.7235615579884302\n",
      "Best CV params {'random_state': 1, 'n_estimators': 1000, 'min_samples_leaf': 2, 'max_features': 109, 'max_depth': 9}\n",
      "Best CV Rsquare 0.9457508245582623\n",
      "rsquare 0.9712770991952298\n",
      "Best train Rsquare 0.9712770991952298\n",
      "rsquare 0.9482698785447687\n",
      "Test RMSE of best random search hypers: 0.9482698785447687\n",
      "rsquare 0.9482698785447687\n",
      "rsquare 0.9712770991952298\n",
      "adaboost\n",
      "rsquare 0.7664526619027333\n",
      "rsquare 0.7293639897408611\n",
      "rsquare 0.7146342137231015\n",
      "rsquare 0.7321950424067547\n",
      "rsquare 0.698250025837512\n",
      "rsquare 0.7001729844763828\n",
      "rsquare 0.7339026813989329\n",
      "rsquare 0.6793669841940486\n",
      "rsquare 0.7106427049578717\n",
      "rsquare 0.7161731266955113\n",
      "rsquare 0.7672146366641986\n",
      "rsquare 0.7277806340742745\n",
      "rsquare 0.7151847052528724\n",
      "rsquare 0.7268477504513349\n",
      "rsquare 0.7080193078962396\n",
      "rsquare 0.6896663111827879\n",
      "rsquare 0.7253245537684765\n",
      "rsquare 0.6943852763278991\n",
      "rsquare 0.677842076719922\n",
      "rsquare 0.708779097712088\n",
      "rsquare 0.8956011600240026\n",
      "rsquare 0.8784409092622363\n",
      "rsquare 0.8794695618146655\n",
      "rsquare 0.8781692619374073\n",
      "rsquare 0.874594266240508\n",
      "rsquare 0.8688573143053104\n",
      "rsquare 0.8808469706478275\n",
      "rsquare 0.8551104785396424\n",
      "rsquare 0.8708604784688574\n",
      "rsquare 0.8600471894824866\n",
      "rsquare 0.7792989511790587\n",
      "rsquare 0.7406907455250298\n",
      "rsquare 0.7279131195151954\n",
      "rsquare 0.7456636218377835\n",
      "rsquare 0.7183624398610824\n",
      "rsquare 0.7157463546142309\n",
      "rsquare 0.7429622985834959\n",
      "rsquare 0.6874912213140445\n",
      "rsquare 0.721378410738478\n",
      "rsquare 0.7252067999011459\n",
      "rsquare 0.9088647171729068\n",
      "rsquare 0.8934855746828751\n",
      "rsquare 0.892426880707298\n",
      "rsquare 0.8921463185492151\n",
      "rsquare 0.8864366834708534\n",
      "rsquare 0.8878375727824905\n",
      "rsquare 0.8898394585352853\n",
      "rsquare 0.8713796453334397\n",
      "rsquare 0.8837935524564433\n",
      "rsquare 0.8663216483228675\n",
      "rsquare 0.7571473919065965\n",
      "rsquare 0.7180699052892519\n",
      "rsquare 0.7103137068329127\n",
      "rsquare 0.7306429227994518\n",
      "rsquare 0.6980363773073581\n",
      "rsquare 0.6861033258597045\n",
      "rsquare 0.7312392144586902\n",
      "rsquare 0.6781397233163099\n",
      "rsquare 0.7056616260380282\n",
      "rsquare 0.7149097138760139\n",
      "rsquare 0.7534951041088842\n",
      "rsquare 0.7087410655757204\n",
      "rsquare 0.7340229725620319\n",
      "rsquare 0.7451943426653723\n",
      "rsquare 0.6972159526342121\n",
      "rsquare 0.7104823794310742\n",
      "rsquare 0.7120043925060201\n",
      "rsquare 0.6574557308112915\n",
      "rsquare 0.6818403920046231\n",
      "rsquare 0.7072507863114421\n",
      "rsquare 0.7497617006486582\n",
      "rsquare 0.7098275684682314\n",
      "rsquare 0.7239678049813916\n",
      "rsquare 0.7446685332321086\n",
      "rsquare 0.6995650718398567\n",
      "rsquare 0.7102396112231947\n",
      "rsquare 0.7238589203745474\n",
      "rsquare 0.6659883150229533\n",
      "rsquare 0.6812523791815462\n",
      "rsquare 0.7064095388254203\n",
      "rsquare 0.9048705030784177\n",
      "rsquare 0.8892007934693299\n",
      "rsquare 0.8866806925751625\n",
      "rsquare 0.8858022103731938\n",
      "rsquare 0.8861209304740154\n",
      "rsquare 0.8808364105000092\n",
      "rsquare 0.8896975047069398\n",
      "rsquare 0.868607311396107\n",
      "rsquare 0.8789850138523119\n",
      "rsquare 0.8686481730456131\n",
      "rsquare 0.794082719714749\n",
      "rsquare 0.7590418933058631\n",
      "rsquare 0.7652464775640306\n",
      "rsquare 0.767177556819876\n",
      "rsquare 0.7451878147817668\n",
      "rsquare 0.7515619130891369\n",
      "rsquare 0.7645431228914759\n",
      "rsquare 0.7188483958452738\n",
      "rsquare 0.7580573419234512\n",
      "rsquare 0.7459749979640264\n",
      "Best CV params {'random_state': 1, 'n_estimators': 100, 'learning_rate': 1}\n",
      "Best CV Rsquare 0.8872532052013675\n",
      "rsquare 0.8961687360839601\n",
      "Best train Rsquare 0.8961687360839601\n",
      "rsquare 0.8795648933555948\n",
      "Test RMSE of best random search hypers: 0.8795648933555948\n",
      "rsquare 0.8795648933555948\n",
      "rsquare 0.8961687360839601\n",
      "xgboost\n",
      "rsquare 0.3711770273068268\n",
      "rsquare 0.47744042459727554\n",
      "rsquare 0.47376851854516555\n",
      "rsquare 0.4688311595449226\n",
      "rsquare 0.46760960258805717\n",
      "rsquare 0.4426628766069479\n",
      "rsquare 0.44877709511479025\n",
      "rsquare 0.4684601063791147\n",
      "rsquare 0.41853769242900374\n",
      "rsquare 0.40781447184799513\n",
      "rsquare 0.48619085908569537\n",
      "rsquare 0.48591986154255684\n",
      "rsquare 0.5497676202462884\n",
      "rsquare 0.5025473189629506\n",
      "rsquare 0.4979411990952467\n",
      "rsquare 0.5214970122405775\n",
      "rsquare 0.5438645385668242\n",
      "rsquare 0.5001773400595214\n",
      "rsquare 0.4998979256773317\n",
      "rsquare 0.486227152555204\n",
      "rsquare -2121.9968681527635\n",
      "rsquare -2208.242127743181\n",
      "rsquare -2560.2687469342827\n",
      "rsquare -2143.39328665251\n",
      "rsquare -2564.839965727266\n",
      "rsquare -2654.2330247688183\n",
      "rsquare -2548.6133372979125\n",
      "rsquare -2656.6815358957488\n",
      "rsquare -2510.5990107364673\n",
      "rsquare -2224.778942739116\n",
      "rsquare 0.9336315563248148\n",
      "rsquare 0.9326690067681982\n",
      "rsquare 0.9214935571288372\n",
      "rsquare 0.9374277262177412\n",
      "rsquare 0.9288982837200661\n",
      "rsquare 0.9179837613825877\n",
      "rsquare 0.9304568625453841\n",
      "rsquare 0.9201474655745415\n",
      "rsquare 0.9370178190306901\n",
      "rsquare 0.8898783672670663\n",
      "rsquare 0.3711770273068268\n",
      "rsquare 0.47744042459727554\n",
      "rsquare 0.47376851854516555\n",
      "rsquare 0.4688311595449226\n",
      "rsquare 0.46760960258805717\n",
      "rsquare 0.4426628766069479\n",
      "rsquare 0.44877709511479025\n",
      "rsquare 0.4684601063791147\n",
      "rsquare 0.41853769242900374\n",
      "rsquare 0.40781447184799513\n",
      "rsquare -1742.2958403653672\n",
      "rsquare -1810.8572779165597\n",
      "rsquare -2100.8596408312374\n",
      "rsquare -1758.5557994275812\n",
      "rsquare -2103.4813989171585\n",
      "rsquare -2177.720860718337\n",
      "rsquare -2091.220628901265\n",
      "rsquare -2178.718723435496\n",
      "rsquare -2059.5187876085774\n",
      "rsquare -1825.684358159319\n",
      "rsquare -2084.2964968347105\n",
      "rsquare -2168.7753391511314\n",
      "rsquare -2514.648142873245\n",
      "rsquare -2105.176781624918\n",
      "rsquare -2519.0204517670977\n",
      "rsquare -2606.9128955980846\n",
      "rsquare -2503.1925951634425\n",
      "rsquare -2609.2126182817324\n",
      "rsquare -2465.8027491960975\n",
      "rsquare -2185.148241626143\n",
      "rsquare -2084.277811860353\n",
      "rsquare -2168.755765039249\n",
      "rsquare -2514.625479578682\n",
      "rsquare -2105.1578479322407\n",
      "rsquare -2518.997785987512\n",
      "rsquare -2606.8894514642625\n",
      "rsquare -2503.1700315751264\n",
      "rsquare -2609.1891058937917\n",
      "rsquare -2465.780498590323\n",
      "rsquare -2185.128605412521\n",
      "rsquare 0.5200189617546456\n",
      "rsquare 0.5262964643533722\n",
      "rsquare 0.5795684220407371\n",
      "rsquare 0.522918233523435\n",
      "rsquare 0.5349386339754462\n",
      "rsquare 0.5660938484016722\n",
      "rsquare 0.5319616418910749\n",
      "rsquare 0.5159441369542852\n",
      "rsquare 0.5029689550799923\n",
      "rsquare 0.48553124556397476\n",
      "rsquare -2121.9968681527635\n",
      "rsquare -2208.242127743181\n",
      "rsquare -2560.2687469342827\n",
      "rsquare -2143.39328665251\n",
      "rsquare -2564.839965727266\n",
      "rsquare -2654.2330247688183\n",
      "rsquare -2548.6133372979125\n",
      "rsquare -2656.6815358957488\n",
      "rsquare -2510.5990107364673\n",
      "rsquare -2224.778942739116\n",
      "Best CV params {'random_state': 1, 'n_estimators': 500, 'max_depth': 7, 'learning_rate': 1, 'gamma': 0.0}\n",
      "Best CV Rsquare 0.9249604405959927\n",
      "rsquare 0.9999851923751106\n",
      "Best train Rsquare 0.9999851923751106\n",
      "rsquare 0.9342834424925602\n",
      "Test RMSE of best random search hypers: 0.9342834424925602\n",
      "rsquare 0.9342834424925602\n",
      "rsquare 0.9999851923751106\n"
     ]
    }
   ],
   "source": [
    "result_dict = {}\n",
    "for model in model_list:\n",
    "    print(model)\n",
    "    result_dict[model + '_param'], \\\n",
    "    result_dict[model + '_cvacc'], \\\n",
    "    result_dict[model + '_testacc'],\\\n",
    "    result_dict[model + '_trainacc'] \\\n",
    "    = randomsearchRegression(models_dict[model], parameters_dct[model])"
   ]
  },
  {
   "attachments": {},
   "cell_type": "markdown",
   "metadata": {},
   "source": [
    "#### Random Forest result"
   ]
  },
  {
   "cell_type": "code",
   "execution_count": 151,
   "metadata": {},
   "outputs": [],
   "source": [
    "best_randomforest = RandomForestRegressor(random_state= 1, n_estimators= 1000, min_samples_leaf= 2, max_features= 100, max_depth= 9)"
   ]
  },
  {
   "cell_type": "code",
   "execution_count": 152,
   "metadata": {},
   "outputs": [
    {
     "data": {
      "text/html": [
       "<style>#sk-container-id-14 {color: black;background-color: white;}#sk-container-id-14 pre{padding: 0;}#sk-container-id-14 div.sk-toggleable {background-color: white;}#sk-container-id-14 label.sk-toggleable__label {cursor: pointer;display: block;width: 100%;margin-bottom: 0;padding: 0.3em;box-sizing: border-box;text-align: center;}#sk-container-id-14 label.sk-toggleable__label-arrow:before {content: \"▸\";float: left;margin-right: 0.25em;color: #696969;}#sk-container-id-14 label.sk-toggleable__label-arrow:hover:before {color: black;}#sk-container-id-14 div.sk-estimator:hover label.sk-toggleable__label-arrow:before {color: black;}#sk-container-id-14 div.sk-toggleable__content {max-height: 0;max-width: 0;overflow: hidden;text-align: left;background-color: #f0f8ff;}#sk-container-id-14 div.sk-toggleable__content pre {margin: 0.2em;color: black;border-radius: 0.25em;background-color: #f0f8ff;}#sk-container-id-14 input.sk-toggleable__control:checked~div.sk-toggleable__content {max-height: 200px;max-width: 100%;overflow: auto;}#sk-container-id-14 input.sk-toggleable__control:checked~label.sk-toggleable__label-arrow:before {content: \"▾\";}#sk-container-id-14 div.sk-estimator input.sk-toggleable__control:checked~label.sk-toggleable__label {background-color: #d4ebff;}#sk-container-id-14 div.sk-label input.sk-toggleable__control:checked~label.sk-toggleable__label {background-color: #d4ebff;}#sk-container-id-14 input.sk-hidden--visually {border: 0;clip: rect(1px 1px 1px 1px);clip: rect(1px, 1px, 1px, 1px);height: 1px;margin: -1px;overflow: hidden;padding: 0;position: absolute;width: 1px;}#sk-container-id-14 div.sk-estimator {font-family: monospace;background-color: #f0f8ff;border: 1px dotted black;border-radius: 0.25em;box-sizing: border-box;margin-bottom: 0.5em;}#sk-container-id-14 div.sk-estimator:hover {background-color: #d4ebff;}#sk-container-id-14 div.sk-parallel-item::after {content: \"\";width: 100%;border-bottom: 1px solid gray;flex-grow: 1;}#sk-container-id-14 div.sk-label:hover label.sk-toggleable__label {background-color: #d4ebff;}#sk-container-id-14 div.sk-serial::before {content: \"\";position: absolute;border-left: 1px solid gray;box-sizing: border-box;top: 0;bottom: 0;left: 50%;z-index: 0;}#sk-container-id-14 div.sk-serial {display: flex;flex-direction: column;align-items: center;background-color: white;padding-right: 0.2em;padding-left: 0.2em;position: relative;}#sk-container-id-14 div.sk-item {position: relative;z-index: 1;}#sk-container-id-14 div.sk-parallel {display: flex;align-items: stretch;justify-content: center;background-color: white;position: relative;}#sk-container-id-14 div.sk-item::before, #sk-container-id-14 div.sk-parallel-item::before {content: \"\";position: absolute;border-left: 1px solid gray;box-sizing: border-box;top: 0;bottom: 0;left: 50%;z-index: -1;}#sk-container-id-14 div.sk-parallel-item {display: flex;flex-direction: column;z-index: 1;position: relative;background-color: white;}#sk-container-id-14 div.sk-parallel-item:first-child::after {align-self: flex-end;width: 50%;}#sk-container-id-14 div.sk-parallel-item:last-child::after {align-self: flex-start;width: 50%;}#sk-container-id-14 div.sk-parallel-item:only-child::after {width: 0;}#sk-container-id-14 div.sk-dashed-wrapped {border: 1px dashed gray;margin: 0 0.4em 0.5em 0.4em;box-sizing: border-box;padding-bottom: 0.4em;background-color: white;}#sk-container-id-14 div.sk-label label {font-family: monospace;font-weight: bold;display: inline-block;line-height: 1.2em;}#sk-container-id-14 div.sk-label-container {text-align: center;}#sk-container-id-14 div.sk-container {/* jupyter's `normalize.less` sets `[hidden] { display: none; }` but bootstrap.min.css set `[hidden] { display: none !important; }` so we also need the `!important` here to be able to override the default hidden behavior on the sphinx rendered scikit-learn.org. See: https://github.com/scikit-learn/scikit-learn/issues/21755 */display: inline-block !important;position: relative;}#sk-container-id-14 div.sk-text-repr-fallback {display: none;}</style><div id=\"sk-container-id-14\" class=\"sk-top-container\"><div class=\"sk-text-repr-fallback\"><pre>RandomForestRegressor(max_depth=9, max_features=100, min_samples_leaf=2,\n",
       "                      n_estimators=1000, random_state=1)</pre><b>In a Jupyter environment, please rerun this cell to show the HTML representation or trust the notebook. <br />On GitHub, the HTML representation is unable to render, please try loading this page with nbviewer.org.</b></div><div class=\"sk-container\" hidden><div class=\"sk-item\"><div class=\"sk-estimator sk-toggleable\"><input class=\"sk-toggleable__control sk-hidden--visually\" id=\"sk-estimator-id-14\" type=\"checkbox\" checked><label for=\"sk-estimator-id-14\" class=\"sk-toggleable__label sk-toggleable__label-arrow\">RandomForestRegressor</label><div class=\"sk-toggleable__content\"><pre>RandomForestRegressor(max_depth=9, max_features=100, min_samples_leaf=2,\n",
       "                      n_estimators=1000, random_state=1)</pre></div></div></div></div></div>"
      ],
      "text/plain": [
       "RandomForestRegressor(max_depth=9, max_features=100, min_samples_leaf=2,\n",
       "                      n_estimators=1000, random_state=1)"
      ]
     },
     "execution_count": 152,
     "metadata": {},
     "output_type": "execute_result"
    }
   ],
   "source": [
    "best_randomforest.fit(train_X, train_y)"
   ]
  },
  {
   "cell_type": "code",
   "execution_count": 153,
   "metadata": {},
   "outputs": [],
   "source": [
    "pred_y = best_randomforest.predict(test_X)"
   ]
  },
  {
   "cell_type": "code",
   "execution_count": 154,
   "metadata": {},
   "outputs": [
    {
     "name": "stdout",
     "output_type": "stream",
     "text": [
      "rmse 2026.2631329861422\n"
     ]
    },
    {
     "data": {
      "text/plain": [
       "2026.2631329861422"
      ]
     },
     "execution_count": 154,
     "metadata": {},
     "output_type": "execute_result"
    }
   ],
   "source": [
    "rmse(np.exp(pred_y), np.exp(test_y['TARGET_Weighted_RetailPrice']).values)"
   ]
  },
  {
   "cell_type": "code",
   "execution_count": 155,
   "metadata": {},
   "outputs": [
    {
     "data": {
      "text/plain": [
       "0.9376237679641425"
      ]
     },
     "execution_count": 155,
     "metadata": {},
     "output_type": "execute_result"
    }
   ],
   "source": [
    "r2_score(np.exp(pred_y), np.exp(test_y['TARGET_Weighted_RetailPrice']).values)"
   ]
  },
  {
   "cell_type": "code",
   "execution_count": 156,
   "metadata": {},
   "outputs": [],
   "source": [
    "RF_importances = best_randomforest.feature_importances_"
   ]
  },
  {
   "cell_type": "code",
   "execution_count": 157,
   "metadata": {},
   "outputs": [],
   "source": [
    "feature_names = list(X.columns)"
   ]
  },
  {
   "cell_type": "code",
   "execution_count": 158,
   "metadata": {},
   "outputs": [],
   "source": [
    "RF_importances = pd.DataFrame(RF_importances, columns=['importances'], index=feature_names)"
   ]
  },
  {
   "cell_type": "code",
   "execution_count": 159,
   "metadata": {},
   "outputs": [
    {
     "data": {
      "text/html": [
       "<div>\n",
       "<style scoped>\n",
       "    .dataframe tbody tr th:only-of-type {\n",
       "        vertical-align: middle;\n",
       "    }\n",
       "\n",
       "    .dataframe tbody tr th {\n",
       "        vertical-align: top;\n",
       "    }\n",
       "\n",
       "    .dataframe thead th {\n",
       "        text-align: right;\n",
       "    }\n",
       "</style>\n",
       "<table border=\"1\" class=\"dataframe\">\n",
       "  <thead>\n",
       "    <tr style=\"text-align: right;\">\n",
       "      <th></th>\n",
       "      <th>importances</th>\n",
       "    </tr>\n",
       "  </thead>\n",
       "  <tbody>\n",
       "    <tr>\n",
       "      <th>SPEC_Autoairconditioner_zones</th>\n",
       "      <td>1.456682e-01</td>\n",
       "    </tr>\n",
       "    <tr>\n",
       "      <th>SPEC_Airconditioningtype_auto</th>\n",
       "      <td>1.455779e-01</td>\n",
       "    </tr>\n",
       "    <tr>\n",
       "      <th>SPEC_Airconditioningtype_manual</th>\n",
       "      <td>6.695405e-02</td>\n",
       "    </tr>\n",
       "    <tr>\n",
       "      <th>SPEC_LED_lowbeam</th>\n",
       "      <td>2.716684e-02</td>\n",
       "    </tr>\n",
       "    <tr>\n",
       "      <th>SPEC_FRPGseat_heated</th>\n",
       "      <td>2.513421e-02</td>\n",
       "    </tr>\n",
       "    <tr>\n",
       "      <th>...</th>\n",
       "      <td>...</td>\n",
       "    </tr>\n",
       "    <tr>\n",
       "      <th>SPEC_virtualassist_Google</th>\n",
       "      <td>2.773181e-06</td>\n",
       "    </tr>\n",
       "    <tr>\n",
       "      <th>SPEC_includes_steering_wheel_heating</th>\n",
       "      <td>1.210215e-06</td>\n",
       "    </tr>\n",
       "    <tr>\n",
       "      <th>SPEC_MP3_player</th>\n",
       "      <td>1.484162e-07</td>\n",
       "    </tr>\n",
       "    <tr>\n",
       "      <th>SPEC_Ground_view</th>\n",
       "      <td>0.000000e+00</td>\n",
       "    </tr>\n",
       "    <tr>\n",
       "      <th>SPEC_illuminated367</th>\n",
       "      <td>0.000000e+00</td>\n",
       "    </tr>\n",
       "  </tbody>\n",
       "</table>\n",
       "<p>269 rows × 1 columns</p>\n",
       "</div>"
      ],
      "text/plain": [
       "                                       importances\n",
       "SPEC_Autoairconditioner_zones         1.456682e-01\n",
       "SPEC_Airconditioningtype_auto         1.455779e-01\n",
       "SPEC_Airconditioningtype_manual       6.695405e-02\n",
       "SPEC_LED_lowbeam                      2.716684e-02\n",
       "SPEC_FRPGseat_heated                  2.513421e-02\n",
       "...                                            ...\n",
       "SPEC_virtualassist_Google             2.773181e-06\n",
       "SPEC_includes_steering_wheel_heating  1.210215e-06\n",
       "SPEC_MP3_player                       1.484162e-07\n",
       "SPEC_Ground_view                      0.000000e+00\n",
       "SPEC_illuminated367                   0.000000e+00\n",
       "\n",
       "[269 rows x 1 columns]"
      ]
     },
     "execution_count": 159,
     "metadata": {},
     "output_type": "execute_result"
    }
   ],
   "source": [
    "RF_importances.sort_values(by='importances', ascending=False)"
   ]
  },
  {
   "attachments": {},
   "cell_type": "markdown",
   "metadata": {},
   "source": [
    "#### Adaboost result"
   ]
  },
  {
   "cell_type": "code",
   "execution_count": 160,
   "metadata": {},
   "outputs": [],
   "source": [
    "best_adaboost= AdaBoostRegressor(random_state=1, n_estimators=100, learning_rate=1)\n"
   ]
  },
  {
   "cell_type": "code",
   "execution_count": 161,
   "metadata": {},
   "outputs": [
    {
     "data": {
      "text/html": [
       "<style>#sk-container-id-15 {color: black;background-color: white;}#sk-container-id-15 pre{padding: 0;}#sk-container-id-15 div.sk-toggleable {background-color: white;}#sk-container-id-15 label.sk-toggleable__label {cursor: pointer;display: block;width: 100%;margin-bottom: 0;padding: 0.3em;box-sizing: border-box;text-align: center;}#sk-container-id-15 label.sk-toggleable__label-arrow:before {content: \"▸\";float: left;margin-right: 0.25em;color: #696969;}#sk-container-id-15 label.sk-toggleable__label-arrow:hover:before {color: black;}#sk-container-id-15 div.sk-estimator:hover label.sk-toggleable__label-arrow:before {color: black;}#sk-container-id-15 div.sk-toggleable__content {max-height: 0;max-width: 0;overflow: hidden;text-align: left;background-color: #f0f8ff;}#sk-container-id-15 div.sk-toggleable__content pre {margin: 0.2em;color: black;border-radius: 0.25em;background-color: #f0f8ff;}#sk-container-id-15 input.sk-toggleable__control:checked~div.sk-toggleable__content {max-height: 200px;max-width: 100%;overflow: auto;}#sk-container-id-15 input.sk-toggleable__control:checked~label.sk-toggleable__label-arrow:before {content: \"▾\";}#sk-container-id-15 div.sk-estimator input.sk-toggleable__control:checked~label.sk-toggleable__label {background-color: #d4ebff;}#sk-container-id-15 div.sk-label input.sk-toggleable__control:checked~label.sk-toggleable__label {background-color: #d4ebff;}#sk-container-id-15 input.sk-hidden--visually {border: 0;clip: rect(1px 1px 1px 1px);clip: rect(1px, 1px, 1px, 1px);height: 1px;margin: -1px;overflow: hidden;padding: 0;position: absolute;width: 1px;}#sk-container-id-15 div.sk-estimator {font-family: monospace;background-color: #f0f8ff;border: 1px dotted black;border-radius: 0.25em;box-sizing: border-box;margin-bottom: 0.5em;}#sk-container-id-15 div.sk-estimator:hover {background-color: #d4ebff;}#sk-container-id-15 div.sk-parallel-item::after {content: \"\";width: 100%;border-bottom: 1px solid gray;flex-grow: 1;}#sk-container-id-15 div.sk-label:hover label.sk-toggleable__label {background-color: #d4ebff;}#sk-container-id-15 div.sk-serial::before {content: \"\";position: absolute;border-left: 1px solid gray;box-sizing: border-box;top: 0;bottom: 0;left: 50%;z-index: 0;}#sk-container-id-15 div.sk-serial {display: flex;flex-direction: column;align-items: center;background-color: white;padding-right: 0.2em;padding-left: 0.2em;position: relative;}#sk-container-id-15 div.sk-item {position: relative;z-index: 1;}#sk-container-id-15 div.sk-parallel {display: flex;align-items: stretch;justify-content: center;background-color: white;position: relative;}#sk-container-id-15 div.sk-item::before, #sk-container-id-15 div.sk-parallel-item::before {content: \"\";position: absolute;border-left: 1px solid gray;box-sizing: border-box;top: 0;bottom: 0;left: 50%;z-index: -1;}#sk-container-id-15 div.sk-parallel-item {display: flex;flex-direction: column;z-index: 1;position: relative;background-color: white;}#sk-container-id-15 div.sk-parallel-item:first-child::after {align-self: flex-end;width: 50%;}#sk-container-id-15 div.sk-parallel-item:last-child::after {align-self: flex-start;width: 50%;}#sk-container-id-15 div.sk-parallel-item:only-child::after {width: 0;}#sk-container-id-15 div.sk-dashed-wrapped {border: 1px dashed gray;margin: 0 0.4em 0.5em 0.4em;box-sizing: border-box;padding-bottom: 0.4em;background-color: white;}#sk-container-id-15 div.sk-label label {font-family: monospace;font-weight: bold;display: inline-block;line-height: 1.2em;}#sk-container-id-15 div.sk-label-container {text-align: center;}#sk-container-id-15 div.sk-container {/* jupyter's `normalize.less` sets `[hidden] { display: none; }` but bootstrap.min.css set `[hidden] { display: none !important; }` so we also need the `!important` here to be able to override the default hidden behavior on the sphinx rendered scikit-learn.org. See: https://github.com/scikit-learn/scikit-learn/issues/21755 */display: inline-block !important;position: relative;}#sk-container-id-15 div.sk-text-repr-fallback {display: none;}</style><div id=\"sk-container-id-15\" class=\"sk-top-container\"><div class=\"sk-text-repr-fallback\"><pre>AdaBoostRegressor(learning_rate=1, n_estimators=100, random_state=1)</pre><b>In a Jupyter environment, please rerun this cell to show the HTML representation or trust the notebook. <br />On GitHub, the HTML representation is unable to render, please try loading this page with nbviewer.org.</b></div><div class=\"sk-container\" hidden><div class=\"sk-item\"><div class=\"sk-estimator sk-toggleable\"><input class=\"sk-toggleable__control sk-hidden--visually\" id=\"sk-estimator-id-15\" type=\"checkbox\" checked><label for=\"sk-estimator-id-15\" class=\"sk-toggleable__label sk-toggleable__label-arrow\">AdaBoostRegressor</label><div class=\"sk-toggleable__content\"><pre>AdaBoostRegressor(learning_rate=1, n_estimators=100, random_state=1)</pre></div></div></div></div></div>"
      ],
      "text/plain": [
       "AdaBoostRegressor(learning_rate=1, n_estimators=100, random_state=1)"
      ]
     },
     "execution_count": 161,
     "metadata": {},
     "output_type": "execute_result"
    }
   ],
   "source": [
    "best_adaboost.fit(train_X, train_y)"
   ]
  },
  {
   "cell_type": "code",
   "execution_count": 162,
   "metadata": {},
   "outputs": [],
   "source": [
    "pred_y = best_adaboost.predict(test_X)"
   ]
  },
  {
   "cell_type": "code",
   "execution_count": 163,
   "metadata": {},
   "outputs": [
    {
     "name": "stdout",
     "output_type": "stream",
     "text": [
      "rmse 3047.9036885865144\n"
     ]
    },
    {
     "data": {
      "text/plain": [
       "3047.9036885865144"
      ]
     },
     "execution_count": 163,
     "metadata": {},
     "output_type": "execute_result"
    }
   ],
   "source": [
    "rmse(np.exp(pred_y), np.exp(test_y['TARGET_Weighted_RetailPrice']).values)"
   ]
  },
  {
   "cell_type": "code",
   "execution_count": 164,
   "metadata": {},
   "outputs": [
    {
     "data": {
      "text/plain": [
       "0.8277226324334617"
      ]
     },
     "execution_count": 164,
     "metadata": {},
     "output_type": "execute_result"
    }
   ],
   "source": [
    "r2_score(np.exp(pred_y), np.exp(test_y['TARGET_Weighted_RetailPrice']).values)"
   ]
  },
  {
   "cell_type": "code",
   "execution_count": 165,
   "metadata": {},
   "outputs": [],
   "source": [
    "AB_importances = best_adaboost.feature_importances_"
   ]
  },
  {
   "cell_type": "code",
   "execution_count": 166,
   "metadata": {},
   "outputs": [],
   "source": [
    "AB_importances = pd.DataFrame(AB_importances, columns=['importances'], index=feature_names)"
   ]
  },
  {
   "cell_type": "code",
   "execution_count": 167,
   "metadata": {},
   "outputs": [
    {
     "data": {
      "text/html": [
       "<div>\n",
       "<style scoped>\n",
       "    .dataframe tbody tr th:only-of-type {\n",
       "        vertical-align: middle;\n",
       "    }\n",
       "\n",
       "    .dataframe tbody tr th {\n",
       "        vertical-align: top;\n",
       "    }\n",
       "\n",
       "    .dataframe thead th {\n",
       "        text-align: right;\n",
       "    }\n",
       "</style>\n",
       "<table border=\"1\" class=\"dataframe\">\n",
       "  <thead>\n",
       "    <tr style=\"text-align: right;\">\n",
       "      <th></th>\n",
       "      <th>importances</th>\n",
       "    </tr>\n",
       "  </thead>\n",
       "  <tbody>\n",
       "    <tr>\n",
       "      <th>MSRP_prevMY_WeightedByVol</th>\n",
       "      <td>0.084050</td>\n",
       "    </tr>\n",
       "    <tr>\n",
       "      <th>SPEC_Autoairconditioner_zones</th>\n",
       "      <td>0.068537</td>\n",
       "    </tr>\n",
       "    <tr>\n",
       "      <th>SPEC_Airconditioningtype_auto</th>\n",
       "      <td>0.061107</td>\n",
       "    </tr>\n",
       "    <tr>\n",
       "      <th>SPEC_overall_height_mm</th>\n",
       "      <td>0.060333</td>\n",
       "    </tr>\n",
       "    <tr>\n",
       "      <th>SPEC_subwoofer</th>\n",
       "      <td>0.052427</td>\n",
       "    </tr>\n",
       "    <tr>\n",
       "      <th>...</th>\n",
       "      <td>...</td>\n",
       "    </tr>\n",
       "    <tr>\n",
       "      <th>SPEC_motortorquelbft_max</th>\n",
       "      <td>0.000000</td>\n",
       "    </tr>\n",
       "    <tr>\n",
       "      <th>SPEC_RR_suspension_beam</th>\n",
       "      <td>0.000000</td>\n",
       "    </tr>\n",
       "    <tr>\n",
       "      <th>SPEC_AutomaticEmergencyBrake_lowspeed_front</th>\n",
       "      <td>0.000000</td>\n",
       "    </tr>\n",
       "    <tr>\n",
       "      <th>SPEC_touch_screen_controls</th>\n",
       "      <td>0.000000</td>\n",
       "    </tr>\n",
       "    <tr>\n",
       "      <th>SPEC_Doors</th>\n",
       "      <td>0.000000</td>\n",
       "    </tr>\n",
       "  </tbody>\n",
       "</table>\n",
       "<p>269 rows × 1 columns</p>\n",
       "</div>"
      ],
      "text/plain": [
       "                                             importances\n",
       "MSRP_prevMY_WeightedByVol                       0.084050\n",
       "SPEC_Autoairconditioner_zones                   0.068537\n",
       "SPEC_Airconditioningtype_auto                   0.061107\n",
       "SPEC_overall_height_mm                          0.060333\n",
       "SPEC_subwoofer                                  0.052427\n",
       "...                                                  ...\n",
       "SPEC_motortorquelbft_max                        0.000000\n",
       "SPEC_RR_suspension_beam                         0.000000\n",
       "SPEC_AutomaticEmergencyBrake_lowspeed_front     0.000000\n",
       "SPEC_touch_screen_controls                      0.000000\n",
       "SPEC_Doors                                      0.000000\n",
       "\n",
       "[269 rows x 1 columns]"
      ]
     },
     "execution_count": 167,
     "metadata": {},
     "output_type": "execute_result"
    }
   ],
   "source": [
    "AB_importances.sort_values(by='importances', ascending=False)"
   ]
  },
  {
   "attachments": {},
   "cell_type": "markdown",
   "metadata": {},
   "source": [
    "#### XGboost result"
   ]
  },
  {
   "cell_type": "code",
   "execution_count": 168,
   "metadata": {},
   "outputs": [],
   "source": [
    "best_xgboost = xgb.XGBRegressor(random_state=1, n_estimators=500,max_depth=7, learning_rate=1, gamma=0)"
   ]
  },
  {
   "cell_type": "code",
   "execution_count": 169,
   "metadata": {},
   "outputs": [
    {
     "data": {
      "text/html": [
       "<style>#sk-container-id-16 {color: black;background-color: white;}#sk-container-id-16 pre{padding: 0;}#sk-container-id-16 div.sk-toggleable {background-color: white;}#sk-container-id-16 label.sk-toggleable__label {cursor: pointer;display: block;width: 100%;margin-bottom: 0;padding: 0.3em;box-sizing: border-box;text-align: center;}#sk-container-id-16 label.sk-toggleable__label-arrow:before {content: \"▸\";float: left;margin-right: 0.25em;color: #696969;}#sk-container-id-16 label.sk-toggleable__label-arrow:hover:before {color: black;}#sk-container-id-16 div.sk-estimator:hover label.sk-toggleable__label-arrow:before {color: black;}#sk-container-id-16 div.sk-toggleable__content {max-height: 0;max-width: 0;overflow: hidden;text-align: left;background-color: #f0f8ff;}#sk-container-id-16 div.sk-toggleable__content pre {margin: 0.2em;color: black;border-radius: 0.25em;background-color: #f0f8ff;}#sk-container-id-16 input.sk-toggleable__control:checked~div.sk-toggleable__content {max-height: 200px;max-width: 100%;overflow: auto;}#sk-container-id-16 input.sk-toggleable__control:checked~label.sk-toggleable__label-arrow:before {content: \"▾\";}#sk-container-id-16 div.sk-estimator input.sk-toggleable__control:checked~label.sk-toggleable__label {background-color: #d4ebff;}#sk-container-id-16 div.sk-label input.sk-toggleable__control:checked~label.sk-toggleable__label {background-color: #d4ebff;}#sk-container-id-16 input.sk-hidden--visually {border: 0;clip: rect(1px 1px 1px 1px);clip: rect(1px, 1px, 1px, 1px);height: 1px;margin: -1px;overflow: hidden;padding: 0;position: absolute;width: 1px;}#sk-container-id-16 div.sk-estimator {font-family: monospace;background-color: #f0f8ff;border: 1px dotted black;border-radius: 0.25em;box-sizing: border-box;margin-bottom: 0.5em;}#sk-container-id-16 div.sk-estimator:hover {background-color: #d4ebff;}#sk-container-id-16 div.sk-parallel-item::after {content: \"\";width: 100%;border-bottom: 1px solid gray;flex-grow: 1;}#sk-container-id-16 div.sk-label:hover label.sk-toggleable__label {background-color: #d4ebff;}#sk-container-id-16 div.sk-serial::before {content: \"\";position: absolute;border-left: 1px solid gray;box-sizing: border-box;top: 0;bottom: 0;left: 50%;z-index: 0;}#sk-container-id-16 div.sk-serial {display: flex;flex-direction: column;align-items: center;background-color: white;padding-right: 0.2em;padding-left: 0.2em;position: relative;}#sk-container-id-16 div.sk-item {position: relative;z-index: 1;}#sk-container-id-16 div.sk-parallel {display: flex;align-items: stretch;justify-content: center;background-color: white;position: relative;}#sk-container-id-16 div.sk-item::before, #sk-container-id-16 div.sk-parallel-item::before {content: \"\";position: absolute;border-left: 1px solid gray;box-sizing: border-box;top: 0;bottom: 0;left: 50%;z-index: -1;}#sk-container-id-16 div.sk-parallel-item {display: flex;flex-direction: column;z-index: 1;position: relative;background-color: white;}#sk-container-id-16 div.sk-parallel-item:first-child::after {align-self: flex-end;width: 50%;}#sk-container-id-16 div.sk-parallel-item:last-child::after {align-self: flex-start;width: 50%;}#sk-container-id-16 div.sk-parallel-item:only-child::after {width: 0;}#sk-container-id-16 div.sk-dashed-wrapped {border: 1px dashed gray;margin: 0 0.4em 0.5em 0.4em;box-sizing: border-box;padding-bottom: 0.4em;background-color: white;}#sk-container-id-16 div.sk-label label {font-family: monospace;font-weight: bold;display: inline-block;line-height: 1.2em;}#sk-container-id-16 div.sk-label-container {text-align: center;}#sk-container-id-16 div.sk-container {/* jupyter's `normalize.less` sets `[hidden] { display: none; }` but bootstrap.min.css set `[hidden] { display: none !important; }` so we also need the `!important` here to be able to override the default hidden behavior on the sphinx rendered scikit-learn.org. See: https://github.com/scikit-learn/scikit-learn/issues/21755 */display: inline-block !important;position: relative;}#sk-container-id-16 div.sk-text-repr-fallback {display: none;}</style><div id=\"sk-container-id-16\" class=\"sk-top-container\"><div class=\"sk-text-repr-fallback\"><pre>XGBRegressor(base_score=None, booster=None, callbacks=None,\n",
       "             colsample_bylevel=None, colsample_bynode=None,\n",
       "             colsample_bytree=None, early_stopping_rounds=None,\n",
       "             enable_categorical=False, eval_metric=None, feature_types=None,\n",
       "             gamma=0, gpu_id=None, grow_policy=None, importance_type=None,\n",
       "             interaction_constraints=None, learning_rate=1, max_bin=None,\n",
       "             max_cat_threshold=None, max_cat_to_onehot=None,\n",
       "             max_delta_step=None, max_depth=7, max_leaves=None,\n",
       "             min_child_weight=None, missing=nan, monotone_constraints=None,\n",
       "             n_estimators=500, n_jobs=None, num_parallel_tree=None,\n",
       "             predictor=None, random_state=1, ...)</pre><b>In a Jupyter environment, please rerun this cell to show the HTML representation or trust the notebook. <br />On GitHub, the HTML representation is unable to render, please try loading this page with nbviewer.org.</b></div><div class=\"sk-container\" hidden><div class=\"sk-item\"><div class=\"sk-estimator sk-toggleable\"><input class=\"sk-toggleable__control sk-hidden--visually\" id=\"sk-estimator-id-16\" type=\"checkbox\" checked><label for=\"sk-estimator-id-16\" class=\"sk-toggleable__label sk-toggleable__label-arrow\">XGBRegressor</label><div class=\"sk-toggleable__content\"><pre>XGBRegressor(base_score=None, booster=None, callbacks=None,\n",
       "             colsample_bylevel=None, colsample_bynode=None,\n",
       "             colsample_bytree=None, early_stopping_rounds=None,\n",
       "             enable_categorical=False, eval_metric=None, feature_types=None,\n",
       "             gamma=0, gpu_id=None, grow_policy=None, importance_type=None,\n",
       "             interaction_constraints=None, learning_rate=1, max_bin=None,\n",
       "             max_cat_threshold=None, max_cat_to_onehot=None,\n",
       "             max_delta_step=None, max_depth=7, max_leaves=None,\n",
       "             min_child_weight=None, missing=nan, monotone_constraints=None,\n",
       "             n_estimators=500, n_jobs=None, num_parallel_tree=None,\n",
       "             predictor=None, random_state=1, ...)</pre></div></div></div></div></div>"
      ],
      "text/plain": [
       "XGBRegressor(base_score=None, booster=None, callbacks=None,\n",
       "             colsample_bylevel=None, colsample_bynode=None,\n",
       "             colsample_bytree=None, early_stopping_rounds=None,\n",
       "             enable_categorical=False, eval_metric=None, feature_types=None,\n",
       "             gamma=0, gpu_id=None, grow_policy=None, importance_type=None,\n",
       "             interaction_constraints=None, learning_rate=1, max_bin=None,\n",
       "             max_cat_threshold=None, max_cat_to_onehot=None,\n",
       "             max_delta_step=None, max_depth=7, max_leaves=None,\n",
       "             min_child_weight=None, missing=nan, monotone_constraints=None,\n",
       "             n_estimators=500, n_jobs=None, num_parallel_tree=None,\n",
       "             predictor=None, random_state=1, ...)"
      ]
     },
     "execution_count": 169,
     "metadata": {},
     "output_type": "execute_result"
    }
   ],
   "source": [
    "best_xgboost.fit(train_X, train_y)"
   ]
  },
  {
   "cell_type": "code",
   "execution_count": 170,
   "metadata": {},
   "outputs": [],
   "source": [
    "pred_y = best_xgboost.predict(test_X)"
   ]
  },
  {
   "cell_type": "code",
   "execution_count": 171,
   "metadata": {},
   "outputs": [
    {
     "name": "stdout",
     "output_type": "stream",
     "text": [
      "rmse 2268.558626276856\n"
     ]
    },
    {
     "data": {
      "text/plain": [
       "2268.558626276856"
      ]
     },
     "execution_count": 171,
     "metadata": {},
     "output_type": "execute_result"
    }
   ],
   "source": [
    "rmse(np.exp(pred_y), np.exp(test_y['TARGET_Weighted_RetailPrice']).values)"
   ]
  },
  {
   "cell_type": "code",
   "execution_count": 172,
   "metadata": {},
   "outputs": [
    {
     "data": {
      "text/plain": [
       "0.9351162242932783"
      ]
     },
     "execution_count": 172,
     "metadata": {},
     "output_type": "execute_result"
    }
   ],
   "source": [
    "r2_score(np.exp(pred_y), np.exp(test_y['TARGET_Weighted_RetailPrice']).values)"
   ]
  },
  {
   "cell_type": "code",
   "execution_count": 173,
   "metadata": {},
   "outputs": [],
   "source": [
    "XGB_importances = best_xgboost.feature_importances_"
   ]
  },
  {
   "cell_type": "code",
   "execution_count": 174,
   "metadata": {},
   "outputs": [],
   "source": [
    "XGB_importances = pd.DataFrame(XGB_importances, columns=['importances'], index=feature_names)"
   ]
  },
  {
   "cell_type": "code",
   "execution_count": 175,
   "metadata": {},
   "outputs": [
    {
     "data": {
      "text/html": [
       "<div>\n",
       "<style scoped>\n",
       "    .dataframe tbody tr th:only-of-type {\n",
       "        vertical-align: middle;\n",
       "    }\n",
       "\n",
       "    .dataframe tbody tr th {\n",
       "        vertical-align: top;\n",
       "    }\n",
       "\n",
       "    .dataframe thead th {\n",
       "        text-align: right;\n",
       "    }\n",
       "</style>\n",
       "<table border=\"1\" class=\"dataframe\">\n",
       "  <thead>\n",
       "    <tr style=\"text-align: right;\">\n",
       "      <th></th>\n",
       "      <th>importances</th>\n",
       "    </tr>\n",
       "  </thead>\n",
       "  <tbody>\n",
       "    <tr>\n",
       "      <th>SPEC_Airconditioningtype_auto</th>\n",
       "      <td>0.551901</td>\n",
       "    </tr>\n",
       "    <tr>\n",
       "      <th>SPEC_Anti_collision_system</th>\n",
       "      <td>0.315233</td>\n",
       "    </tr>\n",
       "    <tr>\n",
       "      <th>SPEC_parkingdistsys_FRRRSide</th>\n",
       "      <td>0.024976</td>\n",
       "    </tr>\n",
       "    <tr>\n",
       "      <th>SPEC_local_number_of_doors</th>\n",
       "      <td>0.017079</td>\n",
       "    </tr>\n",
       "    <tr>\n",
       "      <th>SPEC_Wheel_opening_moldings</th>\n",
       "      <td>0.015145</td>\n",
       "    </tr>\n",
       "    <tr>\n",
       "      <th>...</th>\n",
       "      <td>...</td>\n",
       "    </tr>\n",
       "    <tr>\n",
       "      <th>SPEC_configuration_V</th>\n",
       "      <td>0.000000</td>\n",
       "    </tr>\n",
       "    <tr>\n",
       "      <th>SPEC_luxurytrim_instrumentpanel_leather</th>\n",
       "      <td>0.000000</td>\n",
       "    </tr>\n",
       "    <tr>\n",
       "      <th>SPEC_Multi_collision_braking</th>\n",
       "      <td>0.000000</td>\n",
       "    </tr>\n",
       "    <tr>\n",
       "      <th>SPEC_Head_restraints</th>\n",
       "      <td>0.000000</td>\n",
       "    </tr>\n",
       "    <tr>\n",
       "      <th>SPEC_Doors</th>\n",
       "      <td>0.000000</td>\n",
       "    </tr>\n",
       "  </tbody>\n",
       "</table>\n",
       "<p>269 rows × 1 columns</p>\n",
       "</div>"
      ],
      "text/plain": [
       "                                         importances\n",
       "SPEC_Airconditioningtype_auto               0.551901\n",
       "SPEC_Anti_collision_system                  0.315233\n",
       "SPEC_parkingdistsys_FRRRSide                0.024976\n",
       "SPEC_local_number_of_doors                  0.017079\n",
       "SPEC_Wheel_opening_moldings                 0.015145\n",
       "...                                              ...\n",
       "SPEC_configuration_V                        0.000000\n",
       "SPEC_luxurytrim_instrumentpanel_leather     0.000000\n",
       "SPEC_Multi_collision_braking                0.000000\n",
       "SPEC_Head_restraints                        0.000000\n",
       "SPEC_Doors                                  0.000000\n",
       "\n",
       "[269 rows x 1 columns]"
      ]
     },
     "execution_count": 175,
     "metadata": {},
     "output_type": "execute_result"
    }
   ],
   "source": [
    "XGB_importances.sort_values(by='importances', ascending=False)"
   ]
  },
  {
   "cell_type": "code",
   "execution_count": 176,
   "metadata": {},
   "outputs": [],
   "source": [
    "RF_vars = list(RF_importances.sort_values(by='importances', ascending=False)[:200].index)"
   ]
  },
  {
   "cell_type": "code",
   "execution_count": 177,
   "metadata": {},
   "outputs": [],
   "source": [
    "AB_vars = list(AB_importances.sort_values(by='importances', ascending=False)[:200].index)"
   ]
  },
  {
   "cell_type": "code",
   "execution_count": 178,
   "metadata": {},
   "outputs": [],
   "source": [
    "XGB_vars = list(XGB_importances.sort_values(by='importances', ascending=False)[:200].index)"
   ]
  },
  {
   "cell_type": "code",
   "execution_count": 179,
   "metadata": {},
   "outputs": [],
   "source": [
    "intercection1 = set(RF_vars).intersection(set(AB_vars))\n",
    "intercection2 = set(AB_vars).intersection(set(XGB_vars))\n",
    "intercection3 = set(RF_vars).intersection(set(XGB_vars))\n",
    "featureimp_variables = list(intercection1.union(intercection2).union(intercection3))"
   ]
  },
  {
   "cell_type": "code",
   "execution_count": 180,
   "metadata": {},
   "outputs": [],
   "source": [
    "pd.DataFrame(featureimp_variables).to_csv('variables_union'+ model_name +'.csv', index=False)"
   ]
  },
  {
   "cell_type": "code",
   "execution_count": 181,
   "metadata": {},
   "outputs": [
    {
     "data": {
      "text/plain": [
       "213"
      ]
     },
     "execution_count": 181,
     "metadata": {},
     "output_type": "execute_result"
    }
   ],
   "source": [
    "len(featureimp_variables)"
   ]
  },
  {
   "attachments": {},
   "cell_type": "markdown",
   "metadata": {},
   "source": [
    "### Model with reduced variables Union of Intersections (213 variables)"
   ]
  },
  {
   "cell_type": "code",
   "execution_count": 182,
   "metadata": {},
   "outputs": [],
   "source": [
    "X = df_ml.drop(target, axis=1)"
   ]
  },
  {
   "cell_type": "code",
   "execution_count": 183,
   "metadata": {},
   "outputs": [],
   "source": [
    "X_featureimp = X[featureimp_variables]"
   ]
  },
  {
   "cell_type": "code",
   "execution_count": 184,
   "metadata": {},
   "outputs": [],
   "source": [
    "y = df_ml[[target]]"
   ]
  },
  {
   "cell_type": "code",
   "execution_count": 185,
   "metadata": {},
   "outputs": [],
   "source": [
    "y = np.log(y)"
   ]
  },
  {
   "cell_type": "code",
   "execution_count": 186,
   "metadata": {},
   "outputs": [],
   "source": [
    "train_X, test_X, train_y, test_y = train_test_split(X_featureimp, y, train_size=0.7, test_size=0.3, random_state=42)"
   ]
  },
  {
   "cell_type": "code",
   "execution_count": 187,
   "metadata": {},
   "outputs": [
    {
     "name": "stdout",
     "output_type": "stream",
     "text": [
      "random_forest\n",
      "rsquare 0.9138317105503381\n",
      "rsquare 0.9104369710339888\n",
      "rsquare 0.9102056847036707\n",
      "rsquare 0.9095488063411435\n",
      "rsquare 0.8986645238774087\n",
      "rsquare 0.8971019605135769\n",
      "rsquare 0.9151085719148746\n",
      "rsquare 0.9055637564660859\n",
      "rsquare 0.9107090936839946\n",
      "rsquare 0.8742844491943088\n",
      "rsquare 0.9309306166527151\n",
      "rsquare 0.921968955739559\n",
      "rsquare 0.9193874986567723\n",
      "rsquare 0.9165911034184461\n",
      "rsquare 0.9143925807354912\n",
      "rsquare 0.9117415988696321\n",
      "rsquare 0.9306807740728366\n",
      "rsquare 0.9179377964449388\n",
      "rsquare 0.9162595376592152\n",
      "rsquare 0.8851025255058127\n",
      "rsquare 0.8478170273520691\n",
      "rsquare 0.8200889685610192\n",
      "rsquare 0.8173276330469254\n",
      "rsquare 0.8277802536910669\n",
      "rsquare 0.8086035247737582\n",
      "rsquare 0.8001075444525996\n",
      "rsquare 0.8182915273344902\n",
      "rsquare 0.8035863580963868\n",
      "rsquare 0.8047512533744021\n",
      "rsquare 0.7899564114785949\n",
      "rsquare 0.9550454789919949\n",
      "rsquare 0.9482020482143914\n",
      "rsquare 0.9502701887898193\n",
      "rsquare 0.945569674007398\n",
      "rsquare 0.9459104009703168\n",
      "rsquare 0.9439950736129973\n",
      "rsquare 0.9582494809874498\n",
      "rsquare 0.9525275437358532\n",
      "rsquare 0.9478948985157036\n",
      "rsquare 0.9100083867514552\n",
      "rsquare 0.8473671975108896\n",
      "rsquare 0.8206101819232898\n",
      "rsquare 0.8130804888355658\n",
      "rsquare 0.8258884152543733\n",
      "rsquare 0.8063621871141133\n",
      "rsquare 0.7958255383994465\n",
      "rsquare 0.8192069214009424\n",
      "rsquare 0.8027264721288877\n",
      "rsquare 0.8099562100277851\n",
      "rsquare 0.796436895360215\n",
      "rsquare 0.9292698030068309\n",
      "rsquare 0.9203280558107536\n",
      "rsquare 0.9211539262716482\n",
      "rsquare 0.9190796709796784\n",
      "rsquare 0.9116537210906444\n",
      "rsquare 0.9090455870610294\n",
      "rsquare 0.9255526194531587\n",
      "rsquare 0.9207302940057571\n",
      "rsquare 0.9193737544670163\n",
      "rsquare 0.8810787860769755\n",
      "rsquare 0.9346283961422177\n",
      "rsquare 0.9260211572783033\n",
      "rsquare 0.9225306946719051\n",
      "rsquare 0.9224304553930389\n",
      "rsquare 0.9084337044939003\n",
      "rsquare 0.9139180909319449\n",
      "rsquare 0.9339141616583382\n",
      "rsquare 0.9177576070618247\n",
      "rsquare 0.9252987136799049\n",
      "rsquare 0.8828439758395313\n",
      "rsquare 0.8789901717259796\n",
      "rsquare 0.8563363802320538\n",
      "rsquare 0.8608642987016046\n",
      "rsquare 0.8666481788074597\n",
      "rsquare 0.8471904234617671\n",
      "rsquare 0.8426948578520721\n",
      "rsquare 0.8566961242361557\n",
      "rsquare 0.8524885436916795\n",
      "rsquare 0.8499370515212494\n",
      "rsquare 0.8242968052008266\n",
      "rsquare 0.8405973054698401\n",
      "rsquare 0.8177636887283459\n",
      "rsquare 0.820139157587289\n",
      "rsquare 0.8196470696746581\n",
      "rsquare 0.8017060045114299\n",
      "rsquare 0.7915233442339837\n",
      "rsquare 0.8031999217389165\n",
      "rsquare 0.7976950470639645\n",
      "rsquare 0.8000882582203669\n",
      "rsquare 0.7964207616895584\n",
      "rsquare 0.924095892389186\n",
      "rsquare 0.9149082348541683\n",
      "rsquare 0.9149768845304954\n",
      "rsquare 0.9143526106465926\n",
      "rsquare 0.9066504261310211\n",
      "rsquare 0.9020690036163663\n",
      "rsquare 0.9222590570884163\n",
      "rsquare 0.9123308762834105\n",
      "rsquare 0.910452078904137\n",
      "rsquare 0.8786789003103856\n",
      "Best CV params {'random_state': 1, 'n_estimators': 1000, 'min_samples_leaf': 4, 'max_features': 184, 'max_depth': 9}\n",
      "Best CV Rsquare 0.945767317457738\n",
      "rsquare 0.971080440757851\n",
      "Best train Rsquare 0.971080440757851\n",
      "rsquare 0.9475584575394801\n",
      "Test RMSE of best random search hypers: 0.9475584575394801\n",
      "rsquare 0.9475584575394801\n",
      "rsquare 0.971080440757851\n",
      "adaboost\n",
      "rsquare 0.7798626886806204\n",
      "rsquare 0.7437693771556707\n",
      "rsquare 0.718392176317084\n",
      "rsquare 0.7493528680261872\n",
      "rsquare 0.7210904609515247\n",
      "rsquare 0.7234586312879883\n",
      "rsquare 0.7444856252820911\n",
      "rsquare 0.6919521736518799\n",
      "rsquare 0.7189318183552273\n",
      "rsquare 0.7243357107566416\n",
      "rsquare 0.9062228980210815\n",
      "rsquare 0.8897831891459191\n",
      "rsquare 0.8931787600929719\n",
      "rsquare 0.8855092857123443\n",
      "rsquare 0.883303314068348\n",
      "rsquare 0.8815558996063139\n",
      "rsquare 0.8882076384016062\n",
      "rsquare 0.8709308777785938\n",
      "rsquare 0.8788938990815739\n",
      "rsquare 0.8690460690156264\n",
      "rsquare 0.9126316191026101\n",
      "rsquare 0.8971133274393406\n",
      "rsquare 0.8966902444187637\n",
      "rsquare 0.8956989609601922\n",
      "rsquare 0.8878542666664148\n",
      "rsquare 0.8916746272468186\n",
      "rsquare 0.9007679648843376\n",
      "rsquare 0.8794244265749133\n",
      "rsquare 0.887137350762387\n",
      "rsquare 0.8812782064867288\n",
      "rsquare 0.9112214898076149\n",
      "rsquare 0.8947912377567269\n",
      "rsquare 0.897252040286873\n",
      "rsquare 0.8912793624209351\n",
      "rsquare 0.8908203853058048\n",
      "rsquare 0.8885512360617838\n",
      "rsquare 0.8989698899580787\n",
      "rsquare 0.8761327030372734\n",
      "rsquare 0.8840295265852167\n",
      "rsquare 0.8775562801271495\n",
      "rsquare 0.7642331328308289\n",
      "rsquare 0.7160637074898971\n",
      "rsquare 0.7115175918445358\n",
      "rsquare 0.7292101900835195\n",
      "rsquare 0.6962827001846035\n",
      "rsquare 0.6900594172903656\n",
      "rsquare 0.7329410812902809\n",
      "rsquare 0.6797905668363853\n",
      "rsquare 0.705513730600845\n",
      "rsquare 0.7162927291300871\n",
      "rsquare 0.8038227350345435\n",
      "rsquare 0.7739456382802512\n",
      "rsquare 0.7832733491870689\n",
      "rsquare 0.785455453670341\n",
      "rsquare 0.7634647482544019\n",
      "rsquare 0.7758600836405621\n",
      "rsquare 0.7813998504955535\n",
      "rsquare 0.7419773795113244\n",
      "rsquare 0.7693798267014197\n",
      "rsquare 0.7651944310811383\n",
      "rsquare 0.7672146366642002\n",
      "rsquare 0.727780634074281\n",
      "rsquare 0.7151847052528679\n",
      "rsquare 0.7268477504513343\n",
      "rsquare 0.7080193078962268\n",
      "rsquare 0.6896663111827868\n",
      "rsquare 0.725324553768465\n",
      "rsquare 0.6943852763279179\n",
      "rsquare 0.6778420767199111\n",
      "rsquare 0.7087790977120901\n",
      "rsquare 0.7641438743205639\n",
      "rsquare 0.7315858934347497\n",
      "rsquare 0.7136140031559975\n",
      "rsquare 0.7286258845794553\n",
      "rsquare 0.6976041140747639\n",
      "rsquare 0.6991807244726898\n",
      "rsquare 0.7332978756764685\n",
      "rsquare 0.6782970724874575\n",
      "rsquare 0.7084013546009583\n",
      "rsquare 0.7155569222073779\n",
      "rsquare 0.7571462244336815\n",
      "rsquare 0.718069905289241\n",
      "rsquare 0.7103137068329071\n",
      "rsquare 0.7306413819614324\n",
      "rsquare 0.6980363773073603\n",
      "rsquare 0.6861033258597147\n",
      "rsquare 0.7310105209805375\n",
      "rsquare 0.6781397233162991\n",
      "rsquare 0.7056704825905644\n",
      "rsquare 0.7149097138760189\n",
      "rsquare 0.7609394265292759\n",
      "rsquare 0.7367304158543033\n",
      "rsquare 0.7069717952154719\n",
      "rsquare 0.7302080401180622\n",
      "rsquare 0.7077145976515204\n",
      "rsquare 0.6905593584573144\n",
      "rsquare 0.7332749850225653\n",
      "rsquare 0.6805015326416635\n",
      "rsquare 0.7099448501480834\n",
      "rsquare 0.7160536956452299\n",
      "Best CV params {'random_state': 1, 'n_estimators': 1000, 'learning_rate': 1}\n",
      "Best CV Rsquare 0.8930270994542505\n",
      "rsquare 0.9046262253781024\n",
      "Best train Rsquare 0.9046262253781024\n",
      "rsquare 0.8922499277194834\n",
      "Test RMSE of best random search hypers: 0.8922499277194834\n",
      "rsquare 0.8922499277194834\n",
      "rsquare 0.9046262253781024\n",
      "xgboost\n",
      "rsquare 0.7543246237122148\n",
      "rsquare 0.7624803374280068\n",
      "rsquare 0.8026212048591512\n",
      "rsquare 0.7878077642957118\n",
      "rsquare 0.7577975397572106\n",
      "rsquare 0.7717158763633438\n",
      "rsquare 0.7919152120398567\n",
      "rsquare 0.7614843682970092\n",
      "rsquare 0.7585473580754929\n",
      "rsquare 0.7407476133352995\n",
      "rsquare -1169.8760656054287\n",
      "rsquare -1212.3669849811652\n",
      "rsquare -1408.60956387797\n",
      "rsquare -1178.7338269391932\n",
      "rsquare -1408.5901627279943\n",
      "rsquare -1459.7648376756197\n",
      "rsquare -1402.0288998716528\n",
      "rsquare -1458.8414022487584\n",
      "rsquare -1379.9723799261105\n",
      "rsquare -1224.2884551531865\n",
      "rsquare -1740.568875096464\n",
      "rsquare -1809.0504191189289\n",
      "rsquare -2098.7700029123243\n",
      "rsquare -1756.805571161047\n",
      "rsquare -2101.383457602684\n",
      "rsquare -2175.5540646652353\n",
      "rsquare -2089.1402728760336\n",
      "rsquare -2176.5456823574173\n",
      "rsquare -2057.467413523002\n",
      "rsquare -1823.8693122987443\n",
      "rsquare -2002.9030472216464\n",
      "rsquare -2083.575704047019\n",
      "rsquare -2416.1594081041276\n",
      "rsquare -2022.6732684947604\n",
      "rsquare -2420.106046655656\n",
      "rsquare -2504.7558168199093\n",
      "rsquare -2405.135558085102\n",
      "rsquare -2506.7377334951325\n",
      "rsquare -2369.0955100221363\n",
      "rsquare -2099.5903392359155\n",
      "rsquare -1924.6938500897465\n",
      "rsquare -2001.719304959237\n",
      "rsquare -2321.529526224509\n",
      "rsquare -1943.4032767309623\n",
      "rsquare -2325.072218251321\n",
      "rsquare -2406.6025906336044\n",
      "rsquare -2310.920875945409\n",
      "rsquare -2408.283566262314\n",
      "rsquare -2276.1799571836286\n",
      "rsquare -2017.3844873236696\n",
      "rsquare 0.7655083854511627\n",
      "rsquare 0.7909032451287179\n",
      "rsquare 0.7520893937321925\n",
      "rsquare 0.7497776693067513\n",
      "rsquare 0.717649215602584\n",
      "rsquare 0.6991932861751368\n",
      "rsquare 0.7669567137345107\n",
      "rsquare 0.67165020635234\n",
      "rsquare 0.7690607327187786\n",
      "rsquare 0.722205158370896\n",
      "rsquare 0.5221949378319324\n",
      "rsquare 0.5199589132061689\n",
      "rsquare 0.5638019364570088\n",
      "rsquare 0.5193991257264593\n",
      "rsquare 0.5415406661220297\n",
      "rsquare 0.5651396753075459\n",
      "rsquare 0.5710786657161693\n",
      "rsquare 0.5487015054241653\n",
      "rsquare 0.5158127937364072\n",
      "rsquare 0.5166898525562083\n",
      "rsquare 0.6005217449655678\n",
      "rsquare 0.5816069147403449\n",
      "rsquare 0.598465971422044\n",
      "rsquare 0.6022514556271483\n",
      "rsquare 0.5613018919850311\n",
      "rsquare 0.5359722699546323\n",
      "rsquare 0.5717656825343856\n",
      "rsquare 0.5451297465768115\n",
      "rsquare 0.5453258833344291\n",
      "rsquare 0.5778003091145796\n",
      "rsquare -290.8234696789262\n",
      "rsquare -297.502509788051\n",
      "rsquare -347.0917181683201\n",
      "rsquare -290.2349743402504\n",
      "rsquare -345.836268260955\n",
      "rsquare -359.60845605153264\n",
      "rsquare -345.7276647775074\n",
      "rsquare -358.75293917698974\n",
      "rsquare -340.13145183175146\n",
      "rsquare -302.69411386093975\n",
      "rsquare 0.7456271385770731\n",
      "rsquare 0.7431988727319903\n",
      "rsquare 0.769005691793009\n",
      "rsquare 0.7521081343672581\n",
      "rsquare 0.729380245578771\n",
      "rsquare 0.7485292697818808\n",
      "rsquare 0.765894266014871\n",
      "rsquare 0.747574344689063\n",
      "rsquare 0.7316448244240181\n",
      "rsquare 0.7258977790940546\n",
      "Best CV params {'random_state': 1, 'n_estimators': 500, 'max_depth': 10, 'learning_rate': 0.1, 'gamma': 2.0}\n",
      "Best CV Rsquare 0.7689441898163297\n",
      "rsquare 0.7871565966288069\n",
      "Best train Rsquare 0.7871565966288069\n",
      "rsquare 0.7645516770539037\n",
      "Test RMSE of best random search hypers: 0.7645516770539037\n",
      "rsquare 0.7645516770539037\n",
      "rsquare 0.7871565966288069\n"
     ]
    }
   ],
   "source": [
    "result_dict_2 = {}\n",
    "for model in model_list:\n",
    "    print(model)\n",
    "    result_dict[model + '_param'], \\\n",
    "    result_dict[model + '_cvacc'], \\\n",
    "    result_dict[model + '_testacc'],\\\n",
    "    result_dict[model + '_trainacc'] \\\n",
    "    = randomsearchRegression(models_dict[model], parameters_dct[model])"
   ]
  },
  {
   "attachments": {},
   "cell_type": "markdown",
   "metadata": {},
   "source": [
    "#### Random Forest result"
   ]
  },
  {
   "cell_type": "code",
   "execution_count": 188,
   "metadata": {},
   "outputs": [],
   "source": [
    "best_randomforest = RandomForestRegressor(random_state= 1, n_estimators= 1000, min_samples_leaf=4, max_features= 184, max_depth= 9)"
   ]
  },
  {
   "cell_type": "code",
   "execution_count": 189,
   "metadata": {},
   "outputs": [
    {
     "data": {
      "text/html": [
       "<style>#sk-container-id-17 {color: black;background-color: white;}#sk-container-id-17 pre{padding: 0;}#sk-container-id-17 div.sk-toggleable {background-color: white;}#sk-container-id-17 label.sk-toggleable__label {cursor: pointer;display: block;width: 100%;margin-bottom: 0;padding: 0.3em;box-sizing: border-box;text-align: center;}#sk-container-id-17 label.sk-toggleable__label-arrow:before {content: \"▸\";float: left;margin-right: 0.25em;color: #696969;}#sk-container-id-17 label.sk-toggleable__label-arrow:hover:before {color: black;}#sk-container-id-17 div.sk-estimator:hover label.sk-toggleable__label-arrow:before {color: black;}#sk-container-id-17 div.sk-toggleable__content {max-height: 0;max-width: 0;overflow: hidden;text-align: left;background-color: #f0f8ff;}#sk-container-id-17 div.sk-toggleable__content pre {margin: 0.2em;color: black;border-radius: 0.25em;background-color: #f0f8ff;}#sk-container-id-17 input.sk-toggleable__control:checked~div.sk-toggleable__content {max-height: 200px;max-width: 100%;overflow: auto;}#sk-container-id-17 input.sk-toggleable__control:checked~label.sk-toggleable__label-arrow:before {content: \"▾\";}#sk-container-id-17 div.sk-estimator input.sk-toggleable__control:checked~label.sk-toggleable__label {background-color: #d4ebff;}#sk-container-id-17 div.sk-label input.sk-toggleable__control:checked~label.sk-toggleable__label {background-color: #d4ebff;}#sk-container-id-17 input.sk-hidden--visually {border: 0;clip: rect(1px 1px 1px 1px);clip: rect(1px, 1px, 1px, 1px);height: 1px;margin: -1px;overflow: hidden;padding: 0;position: absolute;width: 1px;}#sk-container-id-17 div.sk-estimator {font-family: monospace;background-color: #f0f8ff;border: 1px dotted black;border-radius: 0.25em;box-sizing: border-box;margin-bottom: 0.5em;}#sk-container-id-17 div.sk-estimator:hover {background-color: #d4ebff;}#sk-container-id-17 div.sk-parallel-item::after {content: \"\";width: 100%;border-bottom: 1px solid gray;flex-grow: 1;}#sk-container-id-17 div.sk-label:hover label.sk-toggleable__label {background-color: #d4ebff;}#sk-container-id-17 div.sk-serial::before {content: \"\";position: absolute;border-left: 1px solid gray;box-sizing: border-box;top: 0;bottom: 0;left: 50%;z-index: 0;}#sk-container-id-17 div.sk-serial {display: flex;flex-direction: column;align-items: center;background-color: white;padding-right: 0.2em;padding-left: 0.2em;position: relative;}#sk-container-id-17 div.sk-item {position: relative;z-index: 1;}#sk-container-id-17 div.sk-parallel {display: flex;align-items: stretch;justify-content: center;background-color: white;position: relative;}#sk-container-id-17 div.sk-item::before, #sk-container-id-17 div.sk-parallel-item::before {content: \"\";position: absolute;border-left: 1px solid gray;box-sizing: border-box;top: 0;bottom: 0;left: 50%;z-index: -1;}#sk-container-id-17 div.sk-parallel-item {display: flex;flex-direction: column;z-index: 1;position: relative;background-color: white;}#sk-container-id-17 div.sk-parallel-item:first-child::after {align-self: flex-end;width: 50%;}#sk-container-id-17 div.sk-parallel-item:last-child::after {align-self: flex-start;width: 50%;}#sk-container-id-17 div.sk-parallel-item:only-child::after {width: 0;}#sk-container-id-17 div.sk-dashed-wrapped {border: 1px dashed gray;margin: 0 0.4em 0.5em 0.4em;box-sizing: border-box;padding-bottom: 0.4em;background-color: white;}#sk-container-id-17 div.sk-label label {font-family: monospace;font-weight: bold;display: inline-block;line-height: 1.2em;}#sk-container-id-17 div.sk-label-container {text-align: center;}#sk-container-id-17 div.sk-container {/* jupyter's `normalize.less` sets `[hidden] { display: none; }` but bootstrap.min.css set `[hidden] { display: none !important; }` so we also need the `!important` here to be able to override the default hidden behavior on the sphinx rendered scikit-learn.org. See: https://github.com/scikit-learn/scikit-learn/issues/21755 */display: inline-block !important;position: relative;}#sk-container-id-17 div.sk-text-repr-fallback {display: none;}</style><div id=\"sk-container-id-17\" class=\"sk-top-container\"><div class=\"sk-text-repr-fallback\"><pre>RandomForestRegressor(max_depth=9, max_features=184, min_samples_leaf=4,\n",
       "                      n_estimators=1000, random_state=1)</pre><b>In a Jupyter environment, please rerun this cell to show the HTML representation or trust the notebook. <br />On GitHub, the HTML representation is unable to render, please try loading this page with nbviewer.org.</b></div><div class=\"sk-container\" hidden><div class=\"sk-item\"><div class=\"sk-estimator sk-toggleable\"><input class=\"sk-toggleable__control sk-hidden--visually\" id=\"sk-estimator-id-17\" type=\"checkbox\" checked><label for=\"sk-estimator-id-17\" class=\"sk-toggleable__label sk-toggleable__label-arrow\">RandomForestRegressor</label><div class=\"sk-toggleable__content\"><pre>RandomForestRegressor(max_depth=9, max_features=184, min_samples_leaf=4,\n",
       "                      n_estimators=1000, random_state=1)</pre></div></div></div></div></div>"
      ],
      "text/plain": [
       "RandomForestRegressor(max_depth=9, max_features=184, min_samples_leaf=4,\n",
       "                      n_estimators=1000, random_state=1)"
      ]
     },
     "execution_count": 189,
     "metadata": {},
     "output_type": "execute_result"
    }
   ],
   "source": [
    "best_randomforest.fit(train_X, train_y)"
   ]
  },
  {
   "cell_type": "code",
   "execution_count": 190,
   "metadata": {},
   "outputs": [],
   "source": [
    "pred_y = best_randomforest.predict(test_X)"
   ]
  },
  {
   "cell_type": "code",
   "execution_count": 191,
   "metadata": {},
   "outputs": [
    {
     "name": "stdout",
     "output_type": "stream",
     "text": [
      "rmse 2093.7936280731888\n"
     ]
    },
    {
     "data": {
      "text/plain": [
       "2093.7936280731888"
      ]
     },
     "execution_count": 191,
     "metadata": {},
     "output_type": "execute_result"
    }
   ],
   "source": [
    "rmse(np.exp(pred_y), np.exp(test_y['TARGET_Weighted_RetailPrice']).values)"
   ]
  },
  {
   "cell_type": "code",
   "execution_count": 192,
   "metadata": {},
   "outputs": [
    {
     "data": {
      "text/plain": [
       "0.9341567865603697"
      ]
     },
     "execution_count": 192,
     "metadata": {},
     "output_type": "execute_result"
    }
   ],
   "source": [
    "r2_score(np.exp(pred_y), np.exp(test_y['TARGET_Weighted_RetailPrice']).values)"
   ]
  },
  {
   "cell_type": "code",
   "execution_count": null,
   "metadata": {},
   "outputs": [],
   "source": [
    "RF_importances = best_randomforest.feature_importances_"
   ]
  },
  {
   "cell_type": "code",
   "execution_count": null,
   "metadata": {},
   "outputs": [],
   "source": [
    "feature_names = list(X_featureimp.columns)"
   ]
  },
  {
   "cell_type": "code",
   "execution_count": null,
   "metadata": {},
   "outputs": [],
   "source": [
    "RF_importances = pd.DataFrame(RF_importances, columns=['importances'], index=feature_names)"
   ]
  },
  {
   "cell_type": "code",
   "execution_count": null,
   "metadata": {},
   "outputs": [
    {
     "data": {
      "text/html": [
       "<div>\n",
       "<style scoped>\n",
       "    .dataframe tbody tr th:only-of-type {\n",
       "        vertical-align: middle;\n",
       "    }\n",
       "\n",
       "    .dataframe tbody tr th {\n",
       "        vertical-align: top;\n",
       "    }\n",
       "\n",
       "    .dataframe thead th {\n",
       "        text-align: right;\n",
       "    }\n",
       "</style>\n",
       "<table border=\"1\" class=\"dataframe\">\n",
       "  <thead>\n",
       "    <tr style=\"text-align: right;\">\n",
       "      <th></th>\n",
       "      <th>importances</th>\n",
       "    </tr>\n",
       "  </thead>\n",
       "  <tbody>\n",
       "    <tr>\n",
       "      <th>SPEC_published_kerb_weight_kg</th>\n",
       "      <td>1.819446e-01</td>\n",
       "    </tr>\n",
       "    <tr>\n",
       "      <th>MSRP_prevMY_WeightedByVol</th>\n",
       "      <td>1.789520e-01</td>\n",
       "    </tr>\n",
       "    <tr>\n",
       "      <th>SPEC_maximum_torque_Nm</th>\n",
       "      <td>1.271290e-01</td>\n",
       "    </tr>\n",
       "    <tr>\n",
       "      <th>SPEC_FRDRseat_reclining_manual</th>\n",
       "      <td>5.873769e-02</td>\n",
       "    </tr>\n",
       "    <tr>\n",
       "      <th>Segment_ENTRY</th>\n",
       "      <td>4.585014e-02</td>\n",
       "    </tr>\n",
       "    <tr>\n",
       "      <th>...</th>\n",
       "      <td>...</td>\n",
       "    </tr>\n",
       "    <tr>\n",
       "      <th>SPEC_Emission_control_level</th>\n",
       "      <td>9.920326e-06</td>\n",
       "    </tr>\n",
       "    <tr>\n",
       "      <th>SPEC_emergency_driver_intervention_system</th>\n",
       "      <td>3.888368e-06</td>\n",
       "    </tr>\n",
       "    <tr>\n",
       "      <th>SPEC_rooftype_None</th>\n",
       "      <td>2.678553e-06</td>\n",
       "    </tr>\n",
       "    <tr>\n",
       "      <th>SPEC_crawl_control</th>\n",
       "      <td>1.481962e-06</td>\n",
       "    </tr>\n",
       "    <tr>\n",
       "      <th>PROFILE_Make_TESLA</th>\n",
       "      <td>8.071509e-07</td>\n",
       "    </tr>\n",
       "  </tbody>\n",
       "</table>\n",
       "<p>205 rows × 1 columns</p>\n",
       "</div>"
      ],
      "text/plain": [
       "                                            importances\n",
       "SPEC_published_kerb_weight_kg              1.819446e-01\n",
       "MSRP_prevMY_WeightedByVol                  1.789520e-01\n",
       "SPEC_maximum_torque_Nm                     1.271290e-01\n",
       "SPEC_FRDRseat_reclining_manual             5.873769e-02\n",
       "Segment_ENTRY                              4.585014e-02\n",
       "...                                                 ...\n",
       "SPEC_Emission_control_level                9.920326e-06\n",
       "SPEC_emergency_driver_intervention_system  3.888368e-06\n",
       "SPEC_rooftype_None                         2.678553e-06\n",
       "SPEC_crawl_control                         1.481962e-06\n",
       "PROFILE_Make_TESLA                         8.071509e-07\n",
       "\n",
       "[205 rows x 1 columns]"
      ]
     },
     "metadata": {},
     "output_type": "display_data"
    }
   ],
   "source": [
    "RF_importances.sort_values(by='importances', ascending=False)"
   ]
  },
  {
   "attachments": {},
   "cell_type": "markdown",
   "metadata": {},
   "source": [
    "#### Adaboost result"
   ]
  },
  {
   "cell_type": "code",
   "execution_count": 193,
   "metadata": {},
   "outputs": [],
   "source": [
    "best_adaboost= AdaBoostRegressor(random_state=1, n_estimators=1000, learning_rate=1)\n"
   ]
  },
  {
   "cell_type": "code",
   "execution_count": 194,
   "metadata": {},
   "outputs": [
    {
     "data": {
      "text/html": [
       "<style>#sk-container-id-18 {color: black;background-color: white;}#sk-container-id-18 pre{padding: 0;}#sk-container-id-18 div.sk-toggleable {background-color: white;}#sk-container-id-18 label.sk-toggleable__label {cursor: pointer;display: block;width: 100%;margin-bottom: 0;padding: 0.3em;box-sizing: border-box;text-align: center;}#sk-container-id-18 label.sk-toggleable__label-arrow:before {content: \"▸\";float: left;margin-right: 0.25em;color: #696969;}#sk-container-id-18 label.sk-toggleable__label-arrow:hover:before {color: black;}#sk-container-id-18 div.sk-estimator:hover label.sk-toggleable__label-arrow:before {color: black;}#sk-container-id-18 div.sk-toggleable__content {max-height: 0;max-width: 0;overflow: hidden;text-align: left;background-color: #f0f8ff;}#sk-container-id-18 div.sk-toggleable__content pre {margin: 0.2em;color: black;border-radius: 0.25em;background-color: #f0f8ff;}#sk-container-id-18 input.sk-toggleable__control:checked~div.sk-toggleable__content {max-height: 200px;max-width: 100%;overflow: auto;}#sk-container-id-18 input.sk-toggleable__control:checked~label.sk-toggleable__label-arrow:before {content: \"▾\";}#sk-container-id-18 div.sk-estimator input.sk-toggleable__control:checked~label.sk-toggleable__label {background-color: #d4ebff;}#sk-container-id-18 div.sk-label input.sk-toggleable__control:checked~label.sk-toggleable__label {background-color: #d4ebff;}#sk-container-id-18 input.sk-hidden--visually {border: 0;clip: rect(1px 1px 1px 1px);clip: rect(1px, 1px, 1px, 1px);height: 1px;margin: -1px;overflow: hidden;padding: 0;position: absolute;width: 1px;}#sk-container-id-18 div.sk-estimator {font-family: monospace;background-color: #f0f8ff;border: 1px dotted black;border-radius: 0.25em;box-sizing: border-box;margin-bottom: 0.5em;}#sk-container-id-18 div.sk-estimator:hover {background-color: #d4ebff;}#sk-container-id-18 div.sk-parallel-item::after {content: \"\";width: 100%;border-bottom: 1px solid gray;flex-grow: 1;}#sk-container-id-18 div.sk-label:hover label.sk-toggleable__label {background-color: #d4ebff;}#sk-container-id-18 div.sk-serial::before {content: \"\";position: absolute;border-left: 1px solid gray;box-sizing: border-box;top: 0;bottom: 0;left: 50%;z-index: 0;}#sk-container-id-18 div.sk-serial {display: flex;flex-direction: column;align-items: center;background-color: white;padding-right: 0.2em;padding-left: 0.2em;position: relative;}#sk-container-id-18 div.sk-item {position: relative;z-index: 1;}#sk-container-id-18 div.sk-parallel {display: flex;align-items: stretch;justify-content: center;background-color: white;position: relative;}#sk-container-id-18 div.sk-item::before, #sk-container-id-18 div.sk-parallel-item::before {content: \"\";position: absolute;border-left: 1px solid gray;box-sizing: border-box;top: 0;bottom: 0;left: 50%;z-index: -1;}#sk-container-id-18 div.sk-parallel-item {display: flex;flex-direction: column;z-index: 1;position: relative;background-color: white;}#sk-container-id-18 div.sk-parallel-item:first-child::after {align-self: flex-end;width: 50%;}#sk-container-id-18 div.sk-parallel-item:last-child::after {align-self: flex-start;width: 50%;}#sk-container-id-18 div.sk-parallel-item:only-child::after {width: 0;}#sk-container-id-18 div.sk-dashed-wrapped {border: 1px dashed gray;margin: 0 0.4em 0.5em 0.4em;box-sizing: border-box;padding-bottom: 0.4em;background-color: white;}#sk-container-id-18 div.sk-label label {font-family: monospace;font-weight: bold;display: inline-block;line-height: 1.2em;}#sk-container-id-18 div.sk-label-container {text-align: center;}#sk-container-id-18 div.sk-container {/* jupyter's `normalize.less` sets `[hidden] { display: none; }` but bootstrap.min.css set `[hidden] { display: none !important; }` so we also need the `!important` here to be able to override the default hidden behavior on the sphinx rendered scikit-learn.org. See: https://github.com/scikit-learn/scikit-learn/issues/21755 */display: inline-block !important;position: relative;}#sk-container-id-18 div.sk-text-repr-fallback {display: none;}</style><div id=\"sk-container-id-18\" class=\"sk-top-container\"><div class=\"sk-text-repr-fallback\"><pre>AdaBoostRegressor(learning_rate=1, n_estimators=1000, random_state=1)</pre><b>In a Jupyter environment, please rerun this cell to show the HTML representation or trust the notebook. <br />On GitHub, the HTML representation is unable to render, please try loading this page with nbviewer.org.</b></div><div class=\"sk-container\" hidden><div class=\"sk-item\"><div class=\"sk-estimator sk-toggleable\"><input class=\"sk-toggleable__control sk-hidden--visually\" id=\"sk-estimator-id-18\" type=\"checkbox\" checked><label for=\"sk-estimator-id-18\" class=\"sk-toggleable__label sk-toggleable__label-arrow\">AdaBoostRegressor</label><div class=\"sk-toggleable__content\"><pre>AdaBoostRegressor(learning_rate=1, n_estimators=1000, random_state=1)</pre></div></div></div></div></div>"
      ],
      "text/plain": [
       "AdaBoostRegressor(learning_rate=1, n_estimators=1000, random_state=1)"
      ]
     },
     "execution_count": 194,
     "metadata": {},
     "output_type": "execute_result"
    }
   ],
   "source": [
    "best_adaboost.fit(train_X, train_y)"
   ]
  },
  {
   "cell_type": "code",
   "execution_count": 195,
   "metadata": {},
   "outputs": [],
   "source": [
    "pred_y = best_adaboost.predict(test_X)"
   ]
  },
  {
   "cell_type": "code",
   "execution_count": 196,
   "metadata": {},
   "outputs": [
    {
     "name": "stdout",
     "output_type": "stream",
     "text": [
      "rmse 2873.1047430442136\n"
     ]
    },
    {
     "data": {
      "text/plain": [
       "2873.1047430442136"
      ]
     },
     "execution_count": 196,
     "metadata": {},
     "output_type": "execute_result"
    }
   ],
   "source": [
    "rmse(np.exp(pred_y), np.exp(test_y['TARGET_Weighted_RetailPrice']).values)"
   ]
  },
  {
   "cell_type": "code",
   "execution_count": 197,
   "metadata": {},
   "outputs": [
    {
     "data": {
      "text/plain": [
       "0.8498588651789698"
      ]
     },
     "execution_count": 197,
     "metadata": {},
     "output_type": "execute_result"
    }
   ],
   "source": [
    "r2_score(np.exp(pred_y), np.exp(test_y['TARGET_Weighted_RetailPrice']).values)"
   ]
  },
  {
   "cell_type": "code",
   "execution_count": null,
   "metadata": {},
   "outputs": [],
   "source": [
    "AB_importances = best_adaboost.feature_importances_"
   ]
  },
  {
   "cell_type": "code",
   "execution_count": null,
   "metadata": {},
   "outputs": [],
   "source": [
    "AB_importances = pd.DataFrame(AB_importances, columns=['importances'], index=feature_names)"
   ]
  },
  {
   "cell_type": "code",
   "execution_count": null,
   "metadata": {},
   "outputs": [
    {
     "data": {
      "text/html": [
       "<div>\n",
       "<style scoped>\n",
       "    .dataframe tbody tr th:only-of-type {\n",
       "        vertical-align: middle;\n",
       "    }\n",
       "\n",
       "    .dataframe tbody tr th {\n",
       "        vertical-align: top;\n",
       "    }\n",
       "\n",
       "    .dataframe thead th {\n",
       "        text-align: right;\n",
       "    }\n",
       "</style>\n",
       "<table border=\"1\" class=\"dataframe\">\n",
       "  <thead>\n",
       "    <tr style=\"text-align: right;\">\n",
       "      <th></th>\n",
       "      <th>importances</th>\n",
       "    </tr>\n",
       "  </thead>\n",
       "  <tbody>\n",
       "    <tr>\n",
       "      <th>SPEC_published_kerb_weight_kg</th>\n",
       "      <td>0.225385</td>\n",
       "    </tr>\n",
       "    <tr>\n",
       "      <th>SPEC_maximum_torque_Nm</th>\n",
       "      <td>0.177923</td>\n",
       "    </tr>\n",
       "    <tr>\n",
       "      <th>MSRP_prevMY_WeightedByVol</th>\n",
       "      <td>0.100661</td>\n",
       "    </tr>\n",
       "    <tr>\n",
       "      <th>SPEC_Seatmaterial_cloth</th>\n",
       "      <td>0.038140</td>\n",
       "    </tr>\n",
       "    <tr>\n",
       "      <th>SPEC_LED_lights</th>\n",
       "      <td>0.030715</td>\n",
       "    </tr>\n",
       "    <tr>\n",
       "      <th>...</th>\n",
       "      <td>...</td>\n",
       "    </tr>\n",
       "    <tr>\n",
       "      <th>SPEC_rooftype_standard</th>\n",
       "      <td>0.000000</td>\n",
       "    </tr>\n",
       "    <tr>\n",
       "      <th>SPEC_FRDRseat_reclining_memory</th>\n",
       "      <td>0.000000</td>\n",
       "    </tr>\n",
       "    <tr>\n",
       "      <th>SPEC_configuration_V</th>\n",
       "      <td>0.000000</td>\n",
       "    </tr>\n",
       "    <tr>\n",
       "      <th>SPEC_Knee_airbags</th>\n",
       "      <td>0.000000</td>\n",
       "    </tr>\n",
       "    <tr>\n",
       "      <th>SPEC_Automatic_hazard_lights</th>\n",
       "      <td>0.000000</td>\n",
       "    </tr>\n",
       "  </tbody>\n",
       "</table>\n",
       "<p>205 rows × 1 columns</p>\n",
       "</div>"
      ],
      "text/plain": [
       "                                importances\n",
       "SPEC_published_kerb_weight_kg      0.225385\n",
       "SPEC_maximum_torque_Nm             0.177923\n",
       "MSRP_prevMY_WeightedByVol          0.100661\n",
       "SPEC_Seatmaterial_cloth            0.038140\n",
       "SPEC_LED_lights                    0.030715\n",
       "...                                     ...\n",
       "SPEC_rooftype_standard             0.000000\n",
       "SPEC_FRDRseat_reclining_memory     0.000000\n",
       "SPEC_configuration_V               0.000000\n",
       "SPEC_Knee_airbags                  0.000000\n",
       "SPEC_Automatic_hazard_lights       0.000000\n",
       "\n",
       "[205 rows x 1 columns]"
      ]
     },
     "metadata": {},
     "output_type": "display_data"
    }
   ],
   "source": [
    "AB_importances.sort_values(by='importances', ascending=False)"
   ]
  },
  {
   "attachments": {},
   "cell_type": "markdown",
   "metadata": {},
   "source": [
    "#### XGboost result"
   ]
  },
  {
   "cell_type": "code",
   "execution_count": 198,
   "metadata": {},
   "outputs": [],
   "source": [
    "best_xgboost = xgb.XGBRegressor(random_state=1, n_estimators=500, max_depth=10, learning_rate=0.1, gamma=2.0)"
   ]
  },
  {
   "cell_type": "code",
   "execution_count": 199,
   "metadata": {},
   "outputs": [
    {
     "data": {
      "text/html": [
       "<style>#sk-container-id-19 {color: black;background-color: white;}#sk-container-id-19 pre{padding: 0;}#sk-container-id-19 div.sk-toggleable {background-color: white;}#sk-container-id-19 label.sk-toggleable__label {cursor: pointer;display: block;width: 100%;margin-bottom: 0;padding: 0.3em;box-sizing: border-box;text-align: center;}#sk-container-id-19 label.sk-toggleable__label-arrow:before {content: \"▸\";float: left;margin-right: 0.25em;color: #696969;}#sk-container-id-19 label.sk-toggleable__label-arrow:hover:before {color: black;}#sk-container-id-19 div.sk-estimator:hover label.sk-toggleable__label-arrow:before {color: black;}#sk-container-id-19 div.sk-toggleable__content {max-height: 0;max-width: 0;overflow: hidden;text-align: left;background-color: #f0f8ff;}#sk-container-id-19 div.sk-toggleable__content pre {margin: 0.2em;color: black;border-radius: 0.25em;background-color: #f0f8ff;}#sk-container-id-19 input.sk-toggleable__control:checked~div.sk-toggleable__content {max-height: 200px;max-width: 100%;overflow: auto;}#sk-container-id-19 input.sk-toggleable__control:checked~label.sk-toggleable__label-arrow:before {content: \"▾\";}#sk-container-id-19 div.sk-estimator input.sk-toggleable__control:checked~label.sk-toggleable__label {background-color: #d4ebff;}#sk-container-id-19 div.sk-label input.sk-toggleable__control:checked~label.sk-toggleable__label {background-color: #d4ebff;}#sk-container-id-19 input.sk-hidden--visually {border: 0;clip: rect(1px 1px 1px 1px);clip: rect(1px, 1px, 1px, 1px);height: 1px;margin: -1px;overflow: hidden;padding: 0;position: absolute;width: 1px;}#sk-container-id-19 div.sk-estimator {font-family: monospace;background-color: #f0f8ff;border: 1px dotted black;border-radius: 0.25em;box-sizing: border-box;margin-bottom: 0.5em;}#sk-container-id-19 div.sk-estimator:hover {background-color: #d4ebff;}#sk-container-id-19 div.sk-parallel-item::after {content: \"\";width: 100%;border-bottom: 1px solid gray;flex-grow: 1;}#sk-container-id-19 div.sk-label:hover label.sk-toggleable__label {background-color: #d4ebff;}#sk-container-id-19 div.sk-serial::before {content: \"\";position: absolute;border-left: 1px solid gray;box-sizing: border-box;top: 0;bottom: 0;left: 50%;z-index: 0;}#sk-container-id-19 div.sk-serial {display: flex;flex-direction: column;align-items: center;background-color: white;padding-right: 0.2em;padding-left: 0.2em;position: relative;}#sk-container-id-19 div.sk-item {position: relative;z-index: 1;}#sk-container-id-19 div.sk-parallel {display: flex;align-items: stretch;justify-content: center;background-color: white;position: relative;}#sk-container-id-19 div.sk-item::before, #sk-container-id-19 div.sk-parallel-item::before {content: \"\";position: absolute;border-left: 1px solid gray;box-sizing: border-box;top: 0;bottom: 0;left: 50%;z-index: -1;}#sk-container-id-19 div.sk-parallel-item {display: flex;flex-direction: column;z-index: 1;position: relative;background-color: white;}#sk-container-id-19 div.sk-parallel-item:first-child::after {align-self: flex-end;width: 50%;}#sk-container-id-19 div.sk-parallel-item:last-child::after {align-self: flex-start;width: 50%;}#sk-container-id-19 div.sk-parallel-item:only-child::after {width: 0;}#sk-container-id-19 div.sk-dashed-wrapped {border: 1px dashed gray;margin: 0 0.4em 0.5em 0.4em;box-sizing: border-box;padding-bottom: 0.4em;background-color: white;}#sk-container-id-19 div.sk-label label {font-family: monospace;font-weight: bold;display: inline-block;line-height: 1.2em;}#sk-container-id-19 div.sk-label-container {text-align: center;}#sk-container-id-19 div.sk-container {/* jupyter's `normalize.less` sets `[hidden] { display: none; }` but bootstrap.min.css set `[hidden] { display: none !important; }` so we also need the `!important` here to be able to override the default hidden behavior on the sphinx rendered scikit-learn.org. See: https://github.com/scikit-learn/scikit-learn/issues/21755 */display: inline-block !important;position: relative;}#sk-container-id-19 div.sk-text-repr-fallback {display: none;}</style><div id=\"sk-container-id-19\" class=\"sk-top-container\"><div class=\"sk-text-repr-fallback\"><pre>XGBRegressor(base_score=None, booster=None, callbacks=None,\n",
       "             colsample_bylevel=None, colsample_bynode=None,\n",
       "             colsample_bytree=None, early_stopping_rounds=None,\n",
       "             enable_categorical=False, eval_metric=None, feature_types=None,\n",
       "             gamma=2.0, gpu_id=None, grow_policy=None, importance_type=None,\n",
       "             interaction_constraints=None, learning_rate=0.1, max_bin=None,\n",
       "             max_cat_threshold=None, max_cat_to_onehot=None,\n",
       "             max_delta_step=None, max_depth=10, max_leaves=None,\n",
       "             min_child_weight=None, missing=nan, monotone_constraints=None,\n",
       "             n_estimators=500, n_jobs=None, num_parallel_tree=None,\n",
       "             predictor=None, random_state=1, ...)</pre><b>In a Jupyter environment, please rerun this cell to show the HTML representation or trust the notebook. <br />On GitHub, the HTML representation is unable to render, please try loading this page with nbviewer.org.</b></div><div class=\"sk-container\" hidden><div class=\"sk-item\"><div class=\"sk-estimator sk-toggleable\"><input class=\"sk-toggleable__control sk-hidden--visually\" id=\"sk-estimator-id-19\" type=\"checkbox\" checked><label for=\"sk-estimator-id-19\" class=\"sk-toggleable__label sk-toggleable__label-arrow\">XGBRegressor</label><div class=\"sk-toggleable__content\"><pre>XGBRegressor(base_score=None, booster=None, callbacks=None,\n",
       "             colsample_bylevel=None, colsample_bynode=None,\n",
       "             colsample_bytree=None, early_stopping_rounds=None,\n",
       "             enable_categorical=False, eval_metric=None, feature_types=None,\n",
       "             gamma=2.0, gpu_id=None, grow_policy=None, importance_type=None,\n",
       "             interaction_constraints=None, learning_rate=0.1, max_bin=None,\n",
       "             max_cat_threshold=None, max_cat_to_onehot=None,\n",
       "             max_delta_step=None, max_depth=10, max_leaves=None,\n",
       "             min_child_weight=None, missing=nan, monotone_constraints=None,\n",
       "             n_estimators=500, n_jobs=None, num_parallel_tree=None,\n",
       "             predictor=None, random_state=1, ...)</pre></div></div></div></div></div>"
      ],
      "text/plain": [
       "XGBRegressor(base_score=None, booster=None, callbacks=None,\n",
       "             colsample_bylevel=None, colsample_bynode=None,\n",
       "             colsample_bytree=None, early_stopping_rounds=None,\n",
       "             enable_categorical=False, eval_metric=None, feature_types=None,\n",
       "             gamma=2.0, gpu_id=None, grow_policy=None, importance_type=None,\n",
       "             interaction_constraints=None, learning_rate=0.1, max_bin=None,\n",
       "             max_cat_threshold=None, max_cat_to_onehot=None,\n",
       "             max_delta_step=None, max_depth=10, max_leaves=None,\n",
       "             min_child_weight=None, missing=nan, monotone_constraints=None,\n",
       "             n_estimators=500, n_jobs=None, num_parallel_tree=None,\n",
       "             predictor=None, random_state=1, ...)"
      ]
     },
     "execution_count": 199,
     "metadata": {},
     "output_type": "execute_result"
    }
   ],
   "source": [
    "best_xgboost.fit(train_X, train_y)"
   ]
  },
  {
   "cell_type": "code",
   "execution_count": 200,
   "metadata": {},
   "outputs": [],
   "source": [
    "pred_y = best_xgboost.predict(test_X)"
   ]
  },
  {
   "cell_type": "code",
   "execution_count": 201,
   "metadata": {},
   "outputs": [
    {
     "name": "stdout",
     "output_type": "stream",
     "text": [
      "rmse 4349.793696847234\n"
     ]
    },
    {
     "data": {
      "text/plain": [
       "4349.793696847234"
      ]
     },
     "execution_count": 201,
     "metadata": {},
     "output_type": "execute_result"
    }
   ],
   "source": [
    "rmse(np.exp(pred_y), np.exp(test_y['TARGET_Weighted_RetailPrice']).values)"
   ]
  },
  {
   "cell_type": "code",
   "execution_count": 202,
   "metadata": {},
   "outputs": [
    {
     "data": {
      "text/plain": [
       "0.47950174880771246"
      ]
     },
     "execution_count": 202,
     "metadata": {},
     "output_type": "execute_result"
    }
   ],
   "source": [
    "r2_score(np.exp(pred_y), np.exp(test_y['TARGET_Weighted_RetailPrice']).values)"
   ]
  },
  {
   "attachments": {},
   "cell_type": "markdown",
   "metadata": {},
   "source": [
    "### Model with reduced variables of Intersections (128 variables)"
   ]
  },
  {
   "cell_type": "code",
   "execution_count": 203,
   "metadata": {},
   "outputs": [],
   "source": [
    "featureimp_variables = list(set(RF_vars).intersection(set(XGB_vars)).intersection(set(AB_vars)))"
   ]
  },
  {
   "cell_type": "code",
   "execution_count": 204,
   "metadata": {},
   "outputs": [
    {
     "data": {
      "text/plain": [
       "128"
      ]
     },
     "execution_count": 204,
     "metadata": {},
     "output_type": "execute_result"
    }
   ],
   "source": [
    "len(featureimp_variables)"
   ]
  },
  {
   "cell_type": "code",
   "execution_count": 205,
   "metadata": {},
   "outputs": [],
   "source": [
    "pd.DataFrame(featureimp_variables).to_csv('variables_intersections_'+model_name+'.csv', index=False)"
   ]
  },
  {
   "cell_type": "code",
   "execution_count": 206,
   "metadata": {},
   "outputs": [],
   "source": [
    "X = df_ml.drop(target, axis=1)"
   ]
  },
  {
   "cell_type": "code",
   "execution_count": 207,
   "metadata": {},
   "outputs": [],
   "source": [
    "X_featureimp = X[featureimp_variables]"
   ]
  },
  {
   "cell_type": "code",
   "execution_count": 208,
   "metadata": {},
   "outputs": [],
   "source": [
    "y = df_ml[[target]]"
   ]
  },
  {
   "cell_type": "code",
   "execution_count": 209,
   "metadata": {},
   "outputs": [],
   "source": [
    "y = np.log(y)"
   ]
  },
  {
   "cell_type": "code",
   "execution_count": 210,
   "metadata": {},
   "outputs": [],
   "source": [
    "train_X, test_X, train_y, test_y = train_test_split(X_featureimp, y, train_size=0.7, test_size=0.3, random_state=42)"
   ]
  },
  {
   "cell_type": "code",
   "execution_count": 211,
   "metadata": {},
   "outputs": [
    {
     "name": "stdout",
     "output_type": "stream",
     "text": [
      "random_forest\n",
      "rsquare 0.9348196974523717\n",
      "rsquare 0.9308772097522776\n",
      "rsquare 0.9246552414016018\n",
      "rsquare 0.9231134285350039\n",
      "rsquare 0.9231982806238247\n",
      "rsquare 0.9176412063931524\n",
      "rsquare 0.9383388128857262\n",
      "rsquare 0.9240940216231124\n",
      "rsquare 0.927945744465775\n",
      "rsquare 0.8920564358539841\n",
      "rsquare 0.940219874123268\n",
      "rsquare 0.9335428399884964\n",
      "rsquare 0.9352215983176834\n",
      "rsquare 0.9336953506352236\n",
      "rsquare 0.9302520263691731\n",
      "rsquare 0.9249179902244505\n",
      "rsquare 0.9375761537081828\n",
      "rsquare 0.9327954326284889\n",
      "rsquare 0.9297312997942261\n",
      "rsquare 0.8930436747972192\n",
      "rsquare 0.7791381376025025\n",
      "rsquare 0.7460016936111133\n",
      "rsquare 0.7602858583326211\n",
      "rsquare 0.7644588461857234\n",
      "rsquare 0.7563703193748939\n",
      "rsquare 0.7399384591336973\n",
      "rsquare 0.7450827360689829\n",
      "rsquare 0.7336399681586935\n",
      "rsquare 0.7326977962448131\n",
      "rsquare 0.7283761543231186\n",
      "rsquare 0.936011892459667\n",
      "rsquare 0.9281696843993549\n",
      "rsquare 0.9232803559441258\n",
      "rsquare 0.9242376315021023\n",
      "rsquare 0.9134211196343277\n",
      "rsquare 0.9184110942268634\n",
      "rsquare 0.932767490936746\n",
      "rsquare 0.9194273601893399\n",
      "rsquare 0.9259853231592414\n",
      "rsquare 0.8883150027578373\n",
      "rsquare 0.9134174645802505\n",
      "rsquare 0.9004152997577108\n",
      "rsquare 0.8997844599031343\n",
      "rsquare 0.9011772659785254\n",
      "rsquare 0.8952927682931983\n",
      "rsquare 0.8887119772373834\n",
      "rsquare 0.9051330695135353\n",
      "rsquare 0.897052881252921\n",
      "rsquare 0.8938853057086595\n",
      "rsquare 0.8663255659823222\n",
      "rsquare 0.9397994006031681\n",
      "rsquare 0.934246398009583\n",
      "rsquare 0.9382012724209112\n",
      "rsquare 0.9372194348507974\n",
      "rsquare 0.9325168801375113\n",
      "rsquare 0.9260003890265026\n",
      "rsquare 0.9361871928916222\n",
      "rsquare 0.9353695703105079\n",
      "rsquare 0.9350327933768758\n",
      "rsquare 0.8972390899066486\n",
      "rsquare 0.7750289340251058\n",
      "rsquare 0.7406934454916694\n",
      "rsquare 0.7601067222016749\n",
      "rsquare 0.7596364933172759\n",
      "rsquare 0.7455585087119001\n",
      "rsquare 0.7397622477995025\n",
      "rsquare 0.7410360332550464\n",
      "rsquare 0.7365025589133826\n",
      "rsquare 0.725652464841846\n",
      "rsquare 0.7279208784931475\n",
      "rsquare 0.9293434616930007\n",
      "rsquare 0.9246798461474299\n",
      "rsquare 0.9176844891215558\n",
      "rsquare 0.9161963682912115\n",
      "rsquare 0.915510824439043\n",
      "rsquare 0.9104950316235136\n",
      "rsquare 0.9317024774126379\n",
      "rsquare 0.9173754961743694\n",
      "rsquare 0.9212098861929353\n",
      "rsquare 0.8861742181703889\n",
      "rsquare 0.9202033686127863\n",
      "rsquare 0.9177564940961571\n",
      "rsquare 0.9149186709627152\n",
      "rsquare 0.9143359494597507\n",
      "rsquare 0.908613755279343\n",
      "rsquare 0.9029598494638191\n",
      "rsquare 0.9231215646703052\n",
      "rsquare 0.9117306154211372\n",
      "rsquare 0.9165442307150176\n",
      "rsquare 0.8799647103022673\n",
      "rsquare 0.9279831750350118\n",
      "rsquare 0.9186339079588145\n",
      "rsquare 0.9209185819458375\n",
      "rsquare 0.9204395917720786\n",
      "rsquare 0.9148640672116193\n",
      "rsquare 0.9092611127131466\n",
      "rsquare 0.9233944273547011\n",
      "rsquare 0.9174081383949124\n",
      "rsquare 0.9140498212312819\n",
      "rsquare 0.8837063636826085\n",
      "Best CV params {'random_state': 1, 'n_estimators': 300, 'min_samples_leaf': 8, 'max_features': 26, 'max_depth': 10}\n",
      "Best CV Rsquare 0.9311812421534128\n",
      "rsquare 0.9516790827956908\n",
      "Best train Rsquare 0.9516790827956908\n",
      "rsquare 0.929884779657307\n",
      "Test RMSE of best random search hypers: 0.929884779657307\n",
      "rsquare 0.929884779657307\n",
      "rsquare 0.9516790827956908\n",
      "adaboost\n",
      "rsquare 0.7497617006486651\n",
      "rsquare 0.7097923664256796\n",
      "rsquare 0.7253078676307307\n",
      "rsquare 0.7444777932500741\n",
      "rsquare 0.6915847589778364\n",
      "rsquare 0.7102396112232015\n",
      "rsquare 0.7186413724267546\n",
      "rsquare 0.665988315022951\n",
      "rsquare 0.6818771473138111\n",
      "rsquare 0.7059777695680104\n",
      "rsquare 0.7578015830515544\n",
      "rsquare 0.732582394307568\n",
      "rsquare 0.7096002640138492\n",
      "rsquare 0.7305957331420736\n",
      "rsquare 0.6992597891516297\n",
      "rsquare 0.6864151934782653\n",
      "rsquare 0.7309432082968566\n",
      "rsquare 0.6763607998677802\n",
      "rsquare 0.705066175997864\n",
      "rsquare 0.715439095813508\n",
      "rsquare 0.9090536433392309\n",
      "rsquare 0.8944155371954658\n",
      "rsquare 0.8852491020652042\n",
      "rsquare 0.8887840545381849\n",
      "rsquare 0.8834776720617722\n",
      "rsquare 0.8823475314299588\n",
      "rsquare 0.8867183269865097\n",
      "rsquare 0.8722678493728747\n",
      "rsquare 0.8821074063452375\n",
      "rsquare 0.8682635171879363\n",
      "rsquare 0.7616178778624696\n",
      "rsquare 0.7367419290947035\n",
      "rsquare 0.7105735408771412\n",
      "rsquare 0.7320597800242853\n",
      "rsquare 0.7079742693872377\n",
      "rsquare 0.6927979997580975\n",
      "rsquare 0.7332081106148278\n",
      "rsquare 0.6722010392940239\n",
      "rsquare 0.7080140305482876\n",
      "rsquare 0.716265880378737\n",
      "rsquare 0.7740227122710188\n",
      "rsquare 0.7361944732467482\n",
      "rsquare 0.7167042490667911\n",
      "rsquare 0.7444211186477492\n",
      "rsquare 0.7084012640609446\n",
      "rsquare 0.7116145896925846\n",
      "rsquare 0.7420913689688935\n",
      "rsquare 0.6822318530301097\n",
      "rsquare 0.7157500038256162\n",
      "rsquare 0.7206158424863174\n",
      "rsquare 0.8384960516831085\n",
      "rsquare 0.8128784399539997\n",
      "rsquare 0.8197964572150352\n",
      "rsquare 0.8221869508661996\n",
      "rsquare 0.8047993501682681\n",
      "rsquare 0.8036861116522841\n",
      "rsquare 0.8194984795679022\n",
      "rsquare 0.785500996888143\n",
      "rsquare 0.8135656968819693\n",
      "rsquare 0.807641836760093\n",
      "rsquare 0.7654396862802004\n",
      "rsquare 0.7312188961546493\n",
      "rsquare 0.7372960324116642\n",
      "rsquare 0.7533036461780777\n",
      "rsquare 0.7397364526829164\n",
      "rsquare 0.6953579599767241\n",
      "rsquare 0.7410686743809275\n",
      "rsquare 0.6966083347754415\n",
      "rsquare 0.7128784711803398\n",
      "rsquare 0.7249653242805966\n",
      "rsquare 0.9114729284463182\n",
      "rsquare 0.8989954261494757\n",
      "rsquare 0.8981730651961861\n",
      "rsquare 0.8949158656152227\n",
      "rsquare 0.8911832227369602\n",
      "rsquare 0.8934850499694267\n",
      "rsquare 0.8967934659110001\n",
      "rsquare 0.8775744547595495\n",
      "rsquare 0.8854926429607083\n",
      "rsquare 0.8785503679181728\n",
      "rsquare 0.7748536209657997\n",
      "rsquare 0.7429187209189031\n",
      "rsquare 0.726018602679589\n",
      "rsquare 0.7517138222907738\n",
      "rsquare 0.7217665179089721\n",
      "rsquare 0.7188764533801435\n",
      "rsquare 0.7406245170228369\n",
      "rsquare 0.6950433766138442\n",
      "rsquare 0.7215637473484773\n",
      "rsquare 0.7233675393902298\n",
      "rsquare 0.8271096068410018\n",
      "rsquare 0.8085544984665448\n",
      "rsquare 0.7864363706059118\n",
      "rsquare 0.8126836964639735\n",
      "rsquare 0.790137955725326\n",
      "rsquare 0.7995266194414407\n",
      "rsquare 0.7927214945859576\n",
      "rsquare 0.7658269019581214\n",
      "rsquare 0.7984268994092524\n",
      "rsquare 0.7876708421716831\n",
      "Best CV params {'random_state': 1, 'n_estimators': 500, 'learning_rate': 1}\n",
      "Best CV Rsquare 0.892663648966302\n",
      "rsquare 0.9055510939586957\n",
      "Best train Rsquare 0.9055510939586957\n",
      "rsquare 0.8922780236794908\n",
      "Test RMSE of best random search hypers: 0.8922780236794908\n",
      "rsquare 0.8922780236794908\n",
      "rsquare 0.9055510939586957\n",
      "xgboost\n",
      "rsquare -1924.6938500897465\n",
      "rsquare -2001.719304959237\n",
      "rsquare -2321.529526224509\n",
      "rsquare -1943.4032767309623\n",
      "rsquare -2325.072218251321\n",
      "rsquare -2406.6025906336044\n",
      "rsquare -2310.920875945409\n",
      "rsquare -2408.283566262314\n",
      "rsquare -2276.1799571836286\n",
      "rsquare -2017.3844873236696\n",
      "rsquare -785.8359164094212\n",
      "rsquare -811.6462998796052\n",
      "rsquare -944.4575096856668\n",
      "rsquare -790.1004852075579\n",
      "rsquare -943.2347805800538\n",
      "rsquare -978.5244505325263\n",
      "rsquare -940.0241687394258\n",
      "rsquare -976.9662920521624\n",
      "rsquare -924.7880213481213\n",
      "rsquare -821.1742434449666\n",
      "rsquare 0.9761803873053742\n",
      "rsquare 0.9695556768447865\n",
      "rsquare 0.9723523508847292\n",
      "rsquare 0.9705713484537734\n",
      "rsquare 0.9716815591331363\n",
      "rsquare 0.9668095109334608\n",
      "rsquare 0.97419493914216\n",
      "rsquare 0.9677544488635662\n",
      "rsquare 0.9693474559716831\n",
      "rsquare 0.9417262514360939\n",
      "rsquare 0.6131650941920164\n",
      "rsquare 0.6148644224261806\n",
      "rsquare 0.664435021249407\n",
      "rsquare 0.6463688003513278\n",
      "rsquare 0.620717951916798\n",
      "rsquare 0.6392619937428683\n",
      "rsquare 0.6577741161683882\n",
      "rsquare 0.6460478507818568\n",
      "rsquare 0.6226829100935085\n",
      "rsquare 0.6075450700145102\n",
      "rsquare 0.6053739395293469\n",
      "rsquare 0.6148070131291912\n",
      "rsquare 0.6351137642401004\n",
      "rsquare 0.522918233523435\n",
      "rsquare 0.5811375199408562\n",
      "rsquare 0.5660938484016722\n",
      "rsquare 0.610215610765976\n",
      "rsquare 0.5159441369542852\n",
      "rsquare 0.5630396689795543\n",
      "rsquare 0.5685507942202037\n",
      "rsquare 0.7435239133155069\n",
      "rsquare 0.742303314307247\n",
      "rsquare 0.7722303108180135\n",
      "rsquare 0.7533817804424313\n",
      "rsquare 0.7396605933143686\n",
      "rsquare 0.7448728012186216\n",
      "rsquare 0.7645861882911371\n",
      "rsquare 0.7430180924938595\n",
      "rsquare 0.7354307511830958\n",
      "rsquare 0.7257920899182816\n",
      "rsquare -1742.2958403653672\n",
      "rsquare -1810.8572779165597\n",
      "rsquare -2100.8596408312374\n",
      "rsquare -1758.5557994275812\n",
      "rsquare -2103.4813989171585\n",
      "rsquare -2177.720860718337\n",
      "rsquare -2091.220628901265\n",
      "rsquare -2178.718723435496\n",
      "rsquare -2059.5187876085774\n",
      "rsquare -1825.684358159319\n",
      "rsquare -1924.6938500897465\n",
      "rsquare -2001.719304959237\n",
      "rsquare -2321.529526224509\n",
      "rsquare -1943.4032767309623\n",
      "rsquare -2325.072218251321\n",
      "rsquare -2406.6025906336044\n",
      "rsquare -2310.920875945409\n",
      "rsquare -2408.283566262314\n",
      "rsquare -2276.1799571836286\n",
      "rsquare -2017.3844873236696\n",
      "rsquare 0.7619879566608708\n",
      "rsquare 0.7653769682200591\n",
      "rsquare 0.7943999069497589\n",
      "rsquare 0.7788988634629342\n",
      "rsquare 0.7603527169024116\n",
      "rsquare 0.7717158763633438\n",
      "rsquare 0.7831004397533188\n",
      "rsquare 0.7725473614541344\n",
      "rsquare 0.7600222429014794\n",
      "rsquare 0.742236461390891\n",
      "rsquare 0.7256535243196252\n",
      "rsquare 0.7177350873040165\n",
      "rsquare 0.7485173980420621\n",
      "rsquare 0.7357942068123431\n",
      "rsquare 0.7205377627332502\n",
      "rsquare 0.7173552431586008\n",
      "rsquare 0.7468404842267793\n",
      "rsquare 0.7177488144305959\n",
      "rsquare 0.7040376654869906\n",
      "rsquare 0.7036955775959278\n",
      "Best CV params {'random_state': 1, 'n_estimators': 100, 'max_depth': 5, 'learning_rate': 0.1, 'gamma': 0.0}\n",
      "Best CV Rsquare 0.9680173928968763\n",
      "rsquare 0.9822809774370442\n",
      "Best train Rsquare 0.9822809774370442\n",
      "rsquare 0.9700228143702804\n",
      "Test RMSE of best random search hypers: 0.9700228143702804\n",
      "rsquare 0.9700228143702804\n",
      "rsquare 0.9822809774370442\n"
     ]
    }
   ],
   "source": [
    "result_dict_3 = {}\n",
    "for model in model_list:\n",
    "    print(model)\n",
    "    result_dict[model + '_param'], \\\n",
    "    result_dict[model + '_cvacc'], \\\n",
    "    result_dict[model + '_testacc'],\\\n",
    "    result_dict[model + '_trainacc'] \\\n",
    "    = randomsearchRegression(models_dict[model], parameters_dct[model])"
   ]
  },
  {
   "attachments": {},
   "cell_type": "markdown",
   "metadata": {},
   "source": [
    "#### Random Forest result"
   ]
  },
  {
   "cell_type": "code",
   "execution_count": 212,
   "metadata": {},
   "outputs": [],
   "source": [
    "best_randomforest = RandomForestRegressor(random_state= 1, n_estimators= 300, min_samples_leaf= 8, max_features= 26, max_depth= 10)"
   ]
  },
  {
   "cell_type": "code",
   "execution_count": 213,
   "metadata": {},
   "outputs": [
    {
     "data": {
      "text/html": [
       "<style>#sk-container-id-20 {color: black;background-color: white;}#sk-container-id-20 pre{padding: 0;}#sk-container-id-20 div.sk-toggleable {background-color: white;}#sk-container-id-20 label.sk-toggleable__label {cursor: pointer;display: block;width: 100%;margin-bottom: 0;padding: 0.3em;box-sizing: border-box;text-align: center;}#sk-container-id-20 label.sk-toggleable__label-arrow:before {content: \"▸\";float: left;margin-right: 0.25em;color: #696969;}#sk-container-id-20 label.sk-toggleable__label-arrow:hover:before {color: black;}#sk-container-id-20 div.sk-estimator:hover label.sk-toggleable__label-arrow:before {color: black;}#sk-container-id-20 div.sk-toggleable__content {max-height: 0;max-width: 0;overflow: hidden;text-align: left;background-color: #f0f8ff;}#sk-container-id-20 div.sk-toggleable__content pre {margin: 0.2em;color: black;border-radius: 0.25em;background-color: #f0f8ff;}#sk-container-id-20 input.sk-toggleable__control:checked~div.sk-toggleable__content {max-height: 200px;max-width: 100%;overflow: auto;}#sk-container-id-20 input.sk-toggleable__control:checked~label.sk-toggleable__label-arrow:before {content: \"▾\";}#sk-container-id-20 div.sk-estimator input.sk-toggleable__control:checked~label.sk-toggleable__label {background-color: #d4ebff;}#sk-container-id-20 div.sk-label input.sk-toggleable__control:checked~label.sk-toggleable__label {background-color: #d4ebff;}#sk-container-id-20 input.sk-hidden--visually {border: 0;clip: rect(1px 1px 1px 1px);clip: rect(1px, 1px, 1px, 1px);height: 1px;margin: -1px;overflow: hidden;padding: 0;position: absolute;width: 1px;}#sk-container-id-20 div.sk-estimator {font-family: monospace;background-color: #f0f8ff;border: 1px dotted black;border-radius: 0.25em;box-sizing: border-box;margin-bottom: 0.5em;}#sk-container-id-20 div.sk-estimator:hover {background-color: #d4ebff;}#sk-container-id-20 div.sk-parallel-item::after {content: \"\";width: 100%;border-bottom: 1px solid gray;flex-grow: 1;}#sk-container-id-20 div.sk-label:hover label.sk-toggleable__label {background-color: #d4ebff;}#sk-container-id-20 div.sk-serial::before {content: \"\";position: absolute;border-left: 1px solid gray;box-sizing: border-box;top: 0;bottom: 0;left: 50%;z-index: 0;}#sk-container-id-20 div.sk-serial {display: flex;flex-direction: column;align-items: center;background-color: white;padding-right: 0.2em;padding-left: 0.2em;position: relative;}#sk-container-id-20 div.sk-item {position: relative;z-index: 1;}#sk-container-id-20 div.sk-parallel {display: flex;align-items: stretch;justify-content: center;background-color: white;position: relative;}#sk-container-id-20 div.sk-item::before, #sk-container-id-20 div.sk-parallel-item::before {content: \"\";position: absolute;border-left: 1px solid gray;box-sizing: border-box;top: 0;bottom: 0;left: 50%;z-index: -1;}#sk-container-id-20 div.sk-parallel-item {display: flex;flex-direction: column;z-index: 1;position: relative;background-color: white;}#sk-container-id-20 div.sk-parallel-item:first-child::after {align-self: flex-end;width: 50%;}#sk-container-id-20 div.sk-parallel-item:last-child::after {align-self: flex-start;width: 50%;}#sk-container-id-20 div.sk-parallel-item:only-child::after {width: 0;}#sk-container-id-20 div.sk-dashed-wrapped {border: 1px dashed gray;margin: 0 0.4em 0.5em 0.4em;box-sizing: border-box;padding-bottom: 0.4em;background-color: white;}#sk-container-id-20 div.sk-label label {font-family: monospace;font-weight: bold;display: inline-block;line-height: 1.2em;}#sk-container-id-20 div.sk-label-container {text-align: center;}#sk-container-id-20 div.sk-container {/* jupyter's `normalize.less` sets `[hidden] { display: none; }` but bootstrap.min.css set `[hidden] { display: none !important; }` so we also need the `!important` here to be able to override the default hidden behavior on the sphinx rendered scikit-learn.org. See: https://github.com/scikit-learn/scikit-learn/issues/21755 */display: inline-block !important;position: relative;}#sk-container-id-20 div.sk-text-repr-fallback {display: none;}</style><div id=\"sk-container-id-20\" class=\"sk-top-container\"><div class=\"sk-text-repr-fallback\"><pre>RandomForestRegressor(max_depth=10, max_features=26, min_samples_leaf=8,\n",
       "                      n_estimators=300, random_state=1)</pre><b>In a Jupyter environment, please rerun this cell to show the HTML representation or trust the notebook. <br />On GitHub, the HTML representation is unable to render, please try loading this page with nbviewer.org.</b></div><div class=\"sk-container\" hidden><div class=\"sk-item\"><div class=\"sk-estimator sk-toggleable\"><input class=\"sk-toggleable__control sk-hidden--visually\" id=\"sk-estimator-id-20\" type=\"checkbox\" checked><label for=\"sk-estimator-id-20\" class=\"sk-toggleable__label sk-toggleable__label-arrow\">RandomForestRegressor</label><div class=\"sk-toggleable__content\"><pre>RandomForestRegressor(max_depth=10, max_features=26, min_samples_leaf=8,\n",
       "                      n_estimators=300, random_state=1)</pre></div></div></div></div></div>"
      ],
      "text/plain": [
       "RandomForestRegressor(max_depth=10, max_features=26, min_samples_leaf=8,\n",
       "                      n_estimators=300, random_state=1)"
      ]
     },
     "execution_count": 213,
     "metadata": {},
     "output_type": "execute_result"
    }
   ],
   "source": [
    "best_randomforest.fit(train_X, train_y)"
   ]
  },
  {
   "cell_type": "code",
   "execution_count": 214,
   "metadata": {},
   "outputs": [],
   "source": [
    "pred_y = best_randomforest.predict(test_X)"
   ]
  },
  {
   "cell_type": "code",
   "execution_count": 215,
   "metadata": {},
   "outputs": [
    {
     "name": "stdout",
     "output_type": "stream",
     "text": [
      "rmse 2443.782426067423\n"
     ]
    },
    {
     "data": {
      "text/plain": [
       "2443.782426067423"
      ]
     },
     "execution_count": 215,
     "metadata": {},
     "output_type": "execute_result"
    }
   ],
   "source": [
    "rmse(np.exp(pred_y), np.exp(test_y['TARGET_Weighted_RetailPrice']).values)"
   ]
  },
  {
   "cell_type": "code",
   "execution_count": 216,
   "metadata": {},
   "outputs": [
    {
     "data": {
      "text/plain": [
       "0.9047212553030742"
      ]
     },
     "execution_count": 216,
     "metadata": {},
     "output_type": "execute_result"
    }
   ],
   "source": [
    "r2_score(np.exp(pred_y), np.exp(test_y['TARGET_Weighted_RetailPrice']).values)"
   ]
  },
  {
   "cell_type": "code",
   "execution_count": 217,
   "metadata": {},
   "outputs": [],
   "source": [
    "RF_importances = best_randomforest.feature_importances_"
   ]
  },
  {
   "cell_type": "code",
   "execution_count": 218,
   "metadata": {},
   "outputs": [],
   "source": [
    "feature_names = list(X_featureimp.columns)"
   ]
  },
  {
   "cell_type": "code",
   "execution_count": 219,
   "metadata": {},
   "outputs": [],
   "source": [
    "RF_importances = pd.DataFrame(RF_importances, columns=['importances'], index=feature_names)"
   ]
  },
  {
   "cell_type": "code",
   "execution_count": 220,
   "metadata": {},
   "outputs": [
    {
     "data": {
      "text/html": [
       "<div>\n",
       "<style scoped>\n",
       "    .dataframe tbody tr th:only-of-type {\n",
       "        vertical-align: middle;\n",
       "    }\n",
       "\n",
       "    .dataframe tbody tr th {\n",
       "        vertical-align: top;\n",
       "    }\n",
       "\n",
       "    .dataframe thead th {\n",
       "        text-align: right;\n",
       "    }\n",
       "</style>\n",
       "<table border=\"1\" class=\"dataframe\">\n",
       "  <thead>\n",
       "    <tr style=\"text-align: right;\">\n",
       "      <th></th>\n",
       "      <th>importances</th>\n",
       "    </tr>\n",
       "  </thead>\n",
       "  <tbody>\n",
       "    <tr>\n",
       "      <th>SPEC_Airconditioningtype_auto</th>\n",
       "      <td>0.124265</td>\n",
       "    </tr>\n",
       "    <tr>\n",
       "      <th>SPEC_LED_lowbeam</th>\n",
       "      <td>0.079095</td>\n",
       "    </tr>\n",
       "    <tr>\n",
       "      <th>SPEC_FRPGseat_heated</th>\n",
       "      <td>0.048915</td>\n",
       "    </tr>\n",
       "    <tr>\n",
       "      <th>SPEC_subwoofer</th>\n",
       "      <td>0.046460</td>\n",
       "    </tr>\n",
       "    <tr>\n",
       "      <th>SPEC_local_number_of_doors</th>\n",
       "      <td>0.036268</td>\n",
       "    </tr>\n",
       "    <tr>\n",
       "      <th>...</th>\n",
       "      <td>...</td>\n",
       "    </tr>\n",
       "    <tr>\n",
       "      <th>SPEC_12v_power_outlet</th>\n",
       "      <td>0.000038</td>\n",
       "    </tr>\n",
       "    <tr>\n",
       "      <th>SPEC_Electronic_traction_control</th>\n",
       "      <td>0.000032</td>\n",
       "    </tr>\n",
       "    <tr>\n",
       "      <th>SPEC_Front_airbag</th>\n",
       "      <td>0.000030</td>\n",
       "    </tr>\n",
       "    <tr>\n",
       "      <th>SPEC_gearchange_paddles</th>\n",
       "      <td>0.000009</td>\n",
       "    </tr>\n",
       "    <tr>\n",
       "      <th>SPEC_Parking_space_information</th>\n",
       "      <td>0.000000</td>\n",
       "    </tr>\n",
       "  </tbody>\n",
       "</table>\n",
       "<p>128 rows × 1 columns</p>\n",
       "</div>"
      ],
      "text/plain": [
       "                                  importances\n",
       "SPEC_Airconditioningtype_auto        0.124265\n",
       "SPEC_LED_lowbeam                     0.079095\n",
       "SPEC_FRPGseat_heated                 0.048915\n",
       "SPEC_subwoofer                       0.046460\n",
       "SPEC_local_number_of_doors           0.036268\n",
       "...                                       ...\n",
       "SPEC_12v_power_outlet                0.000038\n",
       "SPEC_Electronic_traction_control     0.000032\n",
       "SPEC_Front_airbag                    0.000030\n",
       "SPEC_gearchange_paddles              0.000009\n",
       "SPEC_Parking_space_information       0.000000\n",
       "\n",
       "[128 rows x 1 columns]"
      ]
     },
     "execution_count": 220,
     "metadata": {},
     "output_type": "execute_result"
    }
   ],
   "source": [
    "RF_importances.sort_values(by='importances', ascending=False)"
   ]
  },
  {
   "attachments": {},
   "cell_type": "markdown",
   "metadata": {},
   "source": [
    "#### Adaboost result"
   ]
  },
  {
   "cell_type": "code",
   "execution_count": 221,
   "metadata": {},
   "outputs": [],
   "source": [
    "best_adaboost= AdaBoostRegressor(random_state=1, n_estimators=500, learning_rate=1)\n"
   ]
  },
  {
   "cell_type": "code",
   "execution_count": 222,
   "metadata": {},
   "outputs": [
    {
     "data": {
      "text/html": [
       "<style>#sk-container-id-21 {color: black;background-color: white;}#sk-container-id-21 pre{padding: 0;}#sk-container-id-21 div.sk-toggleable {background-color: white;}#sk-container-id-21 label.sk-toggleable__label {cursor: pointer;display: block;width: 100%;margin-bottom: 0;padding: 0.3em;box-sizing: border-box;text-align: center;}#sk-container-id-21 label.sk-toggleable__label-arrow:before {content: \"▸\";float: left;margin-right: 0.25em;color: #696969;}#sk-container-id-21 label.sk-toggleable__label-arrow:hover:before {color: black;}#sk-container-id-21 div.sk-estimator:hover label.sk-toggleable__label-arrow:before {color: black;}#sk-container-id-21 div.sk-toggleable__content {max-height: 0;max-width: 0;overflow: hidden;text-align: left;background-color: #f0f8ff;}#sk-container-id-21 div.sk-toggleable__content pre {margin: 0.2em;color: black;border-radius: 0.25em;background-color: #f0f8ff;}#sk-container-id-21 input.sk-toggleable__control:checked~div.sk-toggleable__content {max-height: 200px;max-width: 100%;overflow: auto;}#sk-container-id-21 input.sk-toggleable__control:checked~label.sk-toggleable__label-arrow:before {content: \"▾\";}#sk-container-id-21 div.sk-estimator input.sk-toggleable__control:checked~label.sk-toggleable__label {background-color: #d4ebff;}#sk-container-id-21 div.sk-label input.sk-toggleable__control:checked~label.sk-toggleable__label {background-color: #d4ebff;}#sk-container-id-21 input.sk-hidden--visually {border: 0;clip: rect(1px 1px 1px 1px);clip: rect(1px, 1px, 1px, 1px);height: 1px;margin: -1px;overflow: hidden;padding: 0;position: absolute;width: 1px;}#sk-container-id-21 div.sk-estimator {font-family: monospace;background-color: #f0f8ff;border: 1px dotted black;border-radius: 0.25em;box-sizing: border-box;margin-bottom: 0.5em;}#sk-container-id-21 div.sk-estimator:hover {background-color: #d4ebff;}#sk-container-id-21 div.sk-parallel-item::after {content: \"\";width: 100%;border-bottom: 1px solid gray;flex-grow: 1;}#sk-container-id-21 div.sk-label:hover label.sk-toggleable__label {background-color: #d4ebff;}#sk-container-id-21 div.sk-serial::before {content: \"\";position: absolute;border-left: 1px solid gray;box-sizing: border-box;top: 0;bottom: 0;left: 50%;z-index: 0;}#sk-container-id-21 div.sk-serial {display: flex;flex-direction: column;align-items: center;background-color: white;padding-right: 0.2em;padding-left: 0.2em;position: relative;}#sk-container-id-21 div.sk-item {position: relative;z-index: 1;}#sk-container-id-21 div.sk-parallel {display: flex;align-items: stretch;justify-content: center;background-color: white;position: relative;}#sk-container-id-21 div.sk-item::before, #sk-container-id-21 div.sk-parallel-item::before {content: \"\";position: absolute;border-left: 1px solid gray;box-sizing: border-box;top: 0;bottom: 0;left: 50%;z-index: -1;}#sk-container-id-21 div.sk-parallel-item {display: flex;flex-direction: column;z-index: 1;position: relative;background-color: white;}#sk-container-id-21 div.sk-parallel-item:first-child::after {align-self: flex-end;width: 50%;}#sk-container-id-21 div.sk-parallel-item:last-child::after {align-self: flex-start;width: 50%;}#sk-container-id-21 div.sk-parallel-item:only-child::after {width: 0;}#sk-container-id-21 div.sk-dashed-wrapped {border: 1px dashed gray;margin: 0 0.4em 0.5em 0.4em;box-sizing: border-box;padding-bottom: 0.4em;background-color: white;}#sk-container-id-21 div.sk-label label {font-family: monospace;font-weight: bold;display: inline-block;line-height: 1.2em;}#sk-container-id-21 div.sk-label-container {text-align: center;}#sk-container-id-21 div.sk-container {/* jupyter's `normalize.less` sets `[hidden] { display: none; }` but bootstrap.min.css set `[hidden] { display: none !important; }` so we also need the `!important` here to be able to override the default hidden behavior on the sphinx rendered scikit-learn.org. See: https://github.com/scikit-learn/scikit-learn/issues/21755 */display: inline-block !important;position: relative;}#sk-container-id-21 div.sk-text-repr-fallback {display: none;}</style><div id=\"sk-container-id-21\" class=\"sk-top-container\"><div class=\"sk-text-repr-fallback\"><pre>AdaBoostRegressor(learning_rate=1, n_estimators=500, random_state=1)</pre><b>In a Jupyter environment, please rerun this cell to show the HTML representation or trust the notebook. <br />On GitHub, the HTML representation is unable to render, please try loading this page with nbviewer.org.</b></div><div class=\"sk-container\" hidden><div class=\"sk-item\"><div class=\"sk-estimator sk-toggleable\"><input class=\"sk-toggleable__control sk-hidden--visually\" id=\"sk-estimator-id-21\" type=\"checkbox\" checked><label for=\"sk-estimator-id-21\" class=\"sk-toggleable__label sk-toggleable__label-arrow\">AdaBoostRegressor</label><div class=\"sk-toggleable__content\"><pre>AdaBoostRegressor(learning_rate=1, n_estimators=500, random_state=1)</pre></div></div></div></div></div>"
      ],
      "text/plain": [
       "AdaBoostRegressor(learning_rate=1, n_estimators=500, random_state=1)"
      ]
     },
     "execution_count": 222,
     "metadata": {},
     "output_type": "execute_result"
    }
   ],
   "source": [
    "best_adaboost.fit(train_X, train_y)"
   ]
  },
  {
   "cell_type": "code",
   "execution_count": 223,
   "metadata": {},
   "outputs": [],
   "source": [
    "pred_y = best_adaboost.predict(test_X)"
   ]
  },
  {
   "cell_type": "code",
   "execution_count": 224,
   "metadata": {},
   "outputs": [
    {
     "name": "stdout",
     "output_type": "stream",
     "text": [
      "rmse 2878.6656245816016\n"
     ]
    },
    {
     "data": {
      "text/plain": [
       "2878.6656245816016"
      ]
     },
     "execution_count": 224,
     "metadata": {},
     "output_type": "execute_result"
    }
   ],
   "source": [
    "rmse(np.exp(pred_y), np.exp(test_y['TARGET_Weighted_RetailPrice']).values)"
   ]
  },
  {
   "cell_type": "code",
   "execution_count": 225,
   "metadata": {},
   "outputs": [
    {
     "data": {
      "text/plain": [
       "0.8482909391988239"
      ]
     },
     "execution_count": 225,
     "metadata": {},
     "output_type": "execute_result"
    }
   ],
   "source": [
    "r2_score(np.exp(pred_y), np.exp(test_y['TARGET_Weighted_RetailPrice']).values)"
   ]
  },
  {
   "cell_type": "code",
   "execution_count": 226,
   "metadata": {},
   "outputs": [],
   "source": [
    "AB_importances = best_adaboost.feature_importances_"
   ]
  },
  {
   "cell_type": "code",
   "execution_count": 227,
   "metadata": {},
   "outputs": [],
   "source": [
    "AB_importances = pd.DataFrame(AB_importances, columns=['importances'], index=feature_names)"
   ]
  },
  {
   "cell_type": "code",
   "execution_count": 228,
   "metadata": {},
   "outputs": [
    {
     "data": {
      "text/html": [
       "<div>\n",
       "<style scoped>\n",
       "    .dataframe tbody tr th:only-of-type {\n",
       "        vertical-align: middle;\n",
       "    }\n",
       "\n",
       "    .dataframe tbody tr th {\n",
       "        vertical-align: top;\n",
       "    }\n",
       "\n",
       "    .dataframe thead th {\n",
       "        text-align: right;\n",
       "    }\n",
       "</style>\n",
       "<table border=\"1\" class=\"dataframe\">\n",
       "  <thead>\n",
       "    <tr style=\"text-align: right;\">\n",
       "      <th></th>\n",
       "      <th>importances</th>\n",
       "    </tr>\n",
       "  </thead>\n",
       "  <tbody>\n",
       "    <tr>\n",
       "      <th>SPEC_Airconditioningtype_auto</th>\n",
       "      <td>0.098101</td>\n",
       "    </tr>\n",
       "    <tr>\n",
       "      <th>MSRP_prevMY_WeightedByVol</th>\n",
       "      <td>0.075583</td>\n",
       "    </tr>\n",
       "    <tr>\n",
       "      <th>SPEC_overall_height_mm</th>\n",
       "      <td>0.068973</td>\n",
       "    </tr>\n",
       "    <tr>\n",
       "      <th>SPEC_local_number_of_doors</th>\n",
       "      <td>0.065946</td>\n",
       "    </tr>\n",
       "    <tr>\n",
       "      <th>SPEC_subwoofer</th>\n",
       "      <td>0.056360</td>\n",
       "    </tr>\n",
       "    <tr>\n",
       "      <th>...</th>\n",
       "      <td>...</td>\n",
       "    </tr>\n",
       "    <tr>\n",
       "      <th>SPEC_remote_lock_unlock</th>\n",
       "      <td>0.000000</td>\n",
       "    </tr>\n",
       "    <tr>\n",
       "      <th>SPEC_Load_restraint</th>\n",
       "      <td>0.000000</td>\n",
       "    </tr>\n",
       "    <tr>\n",
       "      <th>SPEC_Alternate_suspension</th>\n",
       "      <td>0.000000</td>\n",
       "    </tr>\n",
       "    <tr>\n",
       "      <th>SPEC_auto_dimming</th>\n",
       "      <td>0.000000</td>\n",
       "    </tr>\n",
       "    <tr>\n",
       "      <th>SPEC_Windscreen_wiper_de_icer</th>\n",
       "      <td>0.000000</td>\n",
       "    </tr>\n",
       "  </tbody>\n",
       "</table>\n",
       "<p>128 rows × 1 columns</p>\n",
       "</div>"
      ],
      "text/plain": [
       "                               importances\n",
       "SPEC_Airconditioningtype_auto     0.098101\n",
       "MSRP_prevMY_WeightedByVol         0.075583\n",
       "SPEC_overall_height_mm            0.068973\n",
       "SPEC_local_number_of_doors        0.065946\n",
       "SPEC_subwoofer                    0.056360\n",
       "...                                    ...\n",
       "SPEC_remote_lock_unlock           0.000000\n",
       "SPEC_Load_restraint               0.000000\n",
       "SPEC_Alternate_suspension         0.000000\n",
       "SPEC_auto_dimming                 0.000000\n",
       "SPEC_Windscreen_wiper_de_icer     0.000000\n",
       "\n",
       "[128 rows x 1 columns]"
      ]
     },
     "execution_count": 228,
     "metadata": {},
     "output_type": "execute_result"
    }
   ],
   "source": [
    "AB_importances.sort_values(by='importances', ascending=False)"
   ]
  },
  {
   "attachments": {},
   "cell_type": "markdown",
   "metadata": {},
   "source": [
    "#### XGboost result"
   ]
  },
  {
   "cell_type": "code",
   "execution_count": 229,
   "metadata": {},
   "outputs": [],
   "source": [
    "best_xgboost = xgb.XGBRegressor(random_state=1, n_estimators=100, max_depth=5, learning_rate=0.1, gamma=0)"
   ]
  },
  {
   "cell_type": "code",
   "execution_count": 230,
   "metadata": {},
   "outputs": [
    {
     "data": {
      "text/html": [
       "<style>#sk-container-id-22 {color: black;background-color: white;}#sk-container-id-22 pre{padding: 0;}#sk-container-id-22 div.sk-toggleable {background-color: white;}#sk-container-id-22 label.sk-toggleable__label {cursor: pointer;display: block;width: 100%;margin-bottom: 0;padding: 0.3em;box-sizing: border-box;text-align: center;}#sk-container-id-22 label.sk-toggleable__label-arrow:before {content: \"▸\";float: left;margin-right: 0.25em;color: #696969;}#sk-container-id-22 label.sk-toggleable__label-arrow:hover:before {color: black;}#sk-container-id-22 div.sk-estimator:hover label.sk-toggleable__label-arrow:before {color: black;}#sk-container-id-22 div.sk-toggleable__content {max-height: 0;max-width: 0;overflow: hidden;text-align: left;background-color: #f0f8ff;}#sk-container-id-22 div.sk-toggleable__content pre {margin: 0.2em;color: black;border-radius: 0.25em;background-color: #f0f8ff;}#sk-container-id-22 input.sk-toggleable__control:checked~div.sk-toggleable__content {max-height: 200px;max-width: 100%;overflow: auto;}#sk-container-id-22 input.sk-toggleable__control:checked~label.sk-toggleable__label-arrow:before {content: \"▾\";}#sk-container-id-22 div.sk-estimator input.sk-toggleable__control:checked~label.sk-toggleable__label {background-color: #d4ebff;}#sk-container-id-22 div.sk-label input.sk-toggleable__control:checked~label.sk-toggleable__label {background-color: #d4ebff;}#sk-container-id-22 input.sk-hidden--visually {border: 0;clip: rect(1px 1px 1px 1px);clip: rect(1px, 1px, 1px, 1px);height: 1px;margin: -1px;overflow: hidden;padding: 0;position: absolute;width: 1px;}#sk-container-id-22 div.sk-estimator {font-family: monospace;background-color: #f0f8ff;border: 1px dotted black;border-radius: 0.25em;box-sizing: border-box;margin-bottom: 0.5em;}#sk-container-id-22 div.sk-estimator:hover {background-color: #d4ebff;}#sk-container-id-22 div.sk-parallel-item::after {content: \"\";width: 100%;border-bottom: 1px solid gray;flex-grow: 1;}#sk-container-id-22 div.sk-label:hover label.sk-toggleable__label {background-color: #d4ebff;}#sk-container-id-22 div.sk-serial::before {content: \"\";position: absolute;border-left: 1px solid gray;box-sizing: border-box;top: 0;bottom: 0;left: 50%;z-index: 0;}#sk-container-id-22 div.sk-serial {display: flex;flex-direction: column;align-items: center;background-color: white;padding-right: 0.2em;padding-left: 0.2em;position: relative;}#sk-container-id-22 div.sk-item {position: relative;z-index: 1;}#sk-container-id-22 div.sk-parallel {display: flex;align-items: stretch;justify-content: center;background-color: white;position: relative;}#sk-container-id-22 div.sk-item::before, #sk-container-id-22 div.sk-parallel-item::before {content: \"\";position: absolute;border-left: 1px solid gray;box-sizing: border-box;top: 0;bottom: 0;left: 50%;z-index: -1;}#sk-container-id-22 div.sk-parallel-item {display: flex;flex-direction: column;z-index: 1;position: relative;background-color: white;}#sk-container-id-22 div.sk-parallel-item:first-child::after {align-self: flex-end;width: 50%;}#sk-container-id-22 div.sk-parallel-item:last-child::after {align-self: flex-start;width: 50%;}#sk-container-id-22 div.sk-parallel-item:only-child::after {width: 0;}#sk-container-id-22 div.sk-dashed-wrapped {border: 1px dashed gray;margin: 0 0.4em 0.5em 0.4em;box-sizing: border-box;padding-bottom: 0.4em;background-color: white;}#sk-container-id-22 div.sk-label label {font-family: monospace;font-weight: bold;display: inline-block;line-height: 1.2em;}#sk-container-id-22 div.sk-label-container {text-align: center;}#sk-container-id-22 div.sk-container {/* jupyter's `normalize.less` sets `[hidden] { display: none; }` but bootstrap.min.css set `[hidden] { display: none !important; }` so we also need the `!important` here to be able to override the default hidden behavior on the sphinx rendered scikit-learn.org. See: https://github.com/scikit-learn/scikit-learn/issues/21755 */display: inline-block !important;position: relative;}#sk-container-id-22 div.sk-text-repr-fallback {display: none;}</style><div id=\"sk-container-id-22\" class=\"sk-top-container\"><div class=\"sk-text-repr-fallback\"><pre>XGBRegressor(base_score=None, booster=None, callbacks=None,\n",
       "             colsample_bylevel=None, colsample_bynode=None,\n",
       "             colsample_bytree=None, early_stopping_rounds=None,\n",
       "             enable_categorical=False, eval_metric=None, feature_types=None,\n",
       "             gamma=0, gpu_id=None, grow_policy=None, importance_type=None,\n",
       "             interaction_constraints=None, learning_rate=0.1, max_bin=None,\n",
       "             max_cat_threshold=None, max_cat_to_onehot=None,\n",
       "             max_delta_step=None, max_depth=5, max_leaves=None,\n",
       "             min_child_weight=None, missing=nan, monotone_constraints=None,\n",
       "             n_estimators=100, n_jobs=None, num_parallel_tree=None,\n",
       "             predictor=None, random_state=1, ...)</pre><b>In a Jupyter environment, please rerun this cell to show the HTML representation or trust the notebook. <br />On GitHub, the HTML representation is unable to render, please try loading this page with nbviewer.org.</b></div><div class=\"sk-container\" hidden><div class=\"sk-item\"><div class=\"sk-estimator sk-toggleable\"><input class=\"sk-toggleable__control sk-hidden--visually\" id=\"sk-estimator-id-22\" type=\"checkbox\" checked><label for=\"sk-estimator-id-22\" class=\"sk-toggleable__label sk-toggleable__label-arrow\">XGBRegressor</label><div class=\"sk-toggleable__content\"><pre>XGBRegressor(base_score=None, booster=None, callbacks=None,\n",
       "             colsample_bylevel=None, colsample_bynode=None,\n",
       "             colsample_bytree=None, early_stopping_rounds=None,\n",
       "             enable_categorical=False, eval_metric=None, feature_types=None,\n",
       "             gamma=0, gpu_id=None, grow_policy=None, importance_type=None,\n",
       "             interaction_constraints=None, learning_rate=0.1, max_bin=None,\n",
       "             max_cat_threshold=None, max_cat_to_onehot=None,\n",
       "             max_delta_step=None, max_depth=5, max_leaves=None,\n",
       "             min_child_weight=None, missing=nan, monotone_constraints=None,\n",
       "             n_estimators=100, n_jobs=None, num_parallel_tree=None,\n",
       "             predictor=None, random_state=1, ...)</pre></div></div></div></div></div>"
      ],
      "text/plain": [
       "XGBRegressor(base_score=None, booster=None, callbacks=None,\n",
       "             colsample_bylevel=None, colsample_bynode=None,\n",
       "             colsample_bytree=None, early_stopping_rounds=None,\n",
       "             enable_categorical=False, eval_metric=None, feature_types=None,\n",
       "             gamma=0, gpu_id=None, grow_policy=None, importance_type=None,\n",
       "             interaction_constraints=None, learning_rate=0.1, max_bin=None,\n",
       "             max_cat_threshold=None, max_cat_to_onehot=None,\n",
       "             max_delta_step=None, max_depth=5, max_leaves=None,\n",
       "             min_child_weight=None, missing=nan, monotone_constraints=None,\n",
       "             n_estimators=100, n_jobs=None, num_parallel_tree=None,\n",
       "             predictor=None, random_state=1, ...)"
      ]
     },
     "execution_count": 230,
     "metadata": {},
     "output_type": "execute_result"
    }
   ],
   "source": [
    "best_xgboost.fit(train_X, train_y)"
   ]
  },
  {
   "cell_type": "code",
   "execution_count": 231,
   "metadata": {},
   "outputs": [],
   "source": [
    "pred_y = best_xgboost.predict(test_X)"
   ]
  },
  {
   "cell_type": "code",
   "execution_count": 232,
   "metadata": {},
   "outputs": [
    {
     "name": "stdout",
     "output_type": "stream",
     "text": [
      "rmse 1587.381805150787\n"
     ]
    },
    {
     "data": {
      "text/plain": [
       "1587.381805150787"
      ]
     },
     "execution_count": 232,
     "metadata": {},
     "output_type": "execute_result"
    }
   ],
   "source": [
    "rmse(np.exp(pred_y), np.exp(test_y['TARGET_Weighted_RetailPrice']).values)"
   ]
  },
  {
   "cell_type": "code",
   "execution_count": 233,
   "metadata": {},
   "outputs": [
    {
     "data": {
      "text/plain": [
       "0.9658049468433322"
      ]
     },
     "execution_count": 233,
     "metadata": {},
     "output_type": "execute_result"
    }
   ],
   "source": [
    "r2_score(np.exp(pred_y), np.exp(test_y['TARGET_Weighted_RetailPrice']).values)"
   ]
  },
  {
   "cell_type": "code",
   "execution_count": null,
   "metadata": {},
   "outputs": [],
   "source": []
  },
  {
   "attachments": {},
   "cell_type": "markdown",
   "metadata": {},
   "source": [
    "## MidPrice_Midsize models"
   ]
  },
  {
   "attachments": {},
   "cell_type": "markdown",
   "metadata": {},
   "source": [
    "### Model with Statistically significant variables"
   ]
  },
  {
   "cell_type": "code",
   "execution_count": 234,
   "metadata": {},
   "outputs": [],
   "source": [
    "model_name = 'MidPrice_Midsize'"
   ]
  },
  {
   "cell_type": "code",
   "execution_count": 235,
   "metadata": {},
   "outputs": [],
   "source": [
    "df_ml = pd.read_csv('../../01_Outputs/modeling_2nd/df_model_'+model_name+'.csv').dropna()"
   ]
  },
  {
   "cell_type": "code",
   "execution_count": 236,
   "metadata": {},
   "outputs": [],
   "source": [
    "target = 'TARGET_Weighted_RetailPrice'"
   ]
  },
  {
   "cell_type": "code",
   "execution_count": 237,
   "metadata": {},
   "outputs": [],
   "source": [
    "X = df_ml.drop(target, axis=1)"
   ]
  },
  {
   "cell_type": "code",
   "execution_count": 238,
   "metadata": {},
   "outputs": [],
   "source": [
    "y = df_ml[[target]]"
   ]
  },
  {
   "cell_type": "code",
   "execution_count": 239,
   "metadata": {},
   "outputs": [],
   "source": [
    "y = np.log(y)"
   ]
  },
  {
   "cell_type": "code",
   "execution_count": 240,
   "metadata": {},
   "outputs": [],
   "source": [
    "train_X, test_X, train_y, test_y = train_test_split(X, y, train_size=0.7, test_size=0.3, random_state=42)"
   ]
  },
  {
   "cell_type": "code",
   "execution_count": 241,
   "metadata": {},
   "outputs": [
    {
     "name": "stdout",
     "output_type": "stream",
     "text": [
      "random_forest\n",
      "rsquare 0.9319502216341343\n",
      "rsquare 0.9246972182215212\n",
      "rsquare 0.9247055867187148\n",
      "rsquare 0.9312540475443628\n",
      "rsquare 0.9249107809252943\n",
      "rsquare 0.9096379581417415\n",
      "rsquare 0.923681388940431\n",
      "rsquare 0.9202535826665218\n",
      "rsquare 0.9041252136565392\n",
      "rsquare 0.9177660628005329\n",
      "rsquare 0.9077716701754313\n",
      "rsquare 0.9066359699932286\n",
      "rsquare 0.903863422532428\n",
      "rsquare 0.9067185501263003\n",
      "rsquare 0.9036448949463453\n",
      "rsquare 0.8879427357653152\n",
      "rsquare 0.9043024755166394\n",
      "rsquare 0.8875327027826176\n",
      "rsquare 0.8832787804403416\n",
      "rsquare 0.8928781556400472\n",
      "rsquare 0.8679803630261518\n",
      "rsquare 0.8560209921069086\n",
      "rsquare 0.8694983839876591\n",
      "rsquare 0.8631274875082598\n",
      "rsquare 0.8576265184518032\n",
      "rsquare 0.8498385497999992\n",
      "rsquare 0.8546890521236713\n",
      "rsquare 0.8544552571941719\n",
      "rsquare 0.8388059505505573\n",
      "rsquare 0.8540857715452834\n",
      "rsquare 0.9532268635577605\n",
      "rsquare 0.9527440227953808\n",
      "rsquare 0.9489812009780727\n",
      "rsquare 0.9521373238380605\n",
      "rsquare 0.9520868312966537\n",
      "rsquare 0.9368108469816221\n",
      "rsquare 0.9487576698086615\n",
      "rsquare 0.9411603093147437\n",
      "rsquare 0.939462455288834\n",
      "rsquare 0.9418348092014946\n",
      "rsquare 0.8575496655497608\n",
      "rsquare 0.8473130922608664\n",
      "rsquare 0.861664876498164\n",
      "rsquare 0.850041720321369\n",
      "rsquare 0.8450344103866171\n",
      "rsquare 0.8425888349920319\n",
      "rsquare 0.8417787775435115\n",
      "rsquare 0.8431863331763216\n",
      "rsquare 0.8274408752486848\n",
      "rsquare 0.8391757086237042\n",
      "rsquare 0.9710878457098382\n",
      "rsquare 0.9735582907645203\n",
      "rsquare 0.9719324829892454\n",
      "rsquare 0.9713831201893484\n",
      "rsquare 0.9677629739890935\n",
      "rsquare 0.9622897533754684\n",
      "rsquare 0.9681931961783415\n",
      "rsquare 0.9641625042066825\n",
      "rsquare 0.964658992972862\n",
      "rsquare 0.9643505019771048\n",
      "rsquare 0.9035037051545911\n",
      "rsquare 0.8848135840404837\n",
      "rsquare 0.9049926900824734\n",
      "rsquare 0.8864462694648948\n",
      "rsquare 0.8889163579158651\n",
      "rsquare 0.8919978674191179\n",
      "rsquare 0.8890011321674971\n",
      "rsquare 0.8954110476410206\n",
      "rsquare 0.8677487491682503\n",
      "rsquare 0.8885510287199482\n",
      "rsquare 0.7731900718542286\n",
      "rsquare 0.7707820863563154\n",
      "rsquare 0.7916587075348889\n",
      "rsquare 0.7738516537403145\n",
      "rsquare 0.7727197541444935\n",
      "rsquare 0.7687075739323412\n",
      "rsquare 0.7609714327474026\n",
      "rsquare 0.7736849913034769\n",
      "rsquare 0.7431163571362869\n",
      "rsquare 0.7500939572328162\n",
      "rsquare 0.8782285598079659\n",
      "rsquare 0.8496112450371306\n",
      "rsquare 0.8580832240189746\n",
      "rsquare 0.8702371051578893\n",
      "rsquare 0.8623240877094269\n",
      "rsquare 0.8518187643476259\n",
      "rsquare 0.8592725476218446\n",
      "rsquare 0.8617711804426016\n",
      "rsquare 0.8392115753148714\n",
      "rsquare 0.8607200010285826\n",
      "rsquare 0.8624459330955045\n",
      "rsquare 0.8550760027529105\n",
      "rsquare 0.8615501133959683\n",
      "rsquare 0.8653603605234528\n",
      "rsquare 0.850527499469836\n",
      "rsquare 0.8432869986257686\n",
      "rsquare 0.8463760593804787\n",
      "rsquare 0.8411884222911538\n",
      "rsquare 0.8362517458934089\n",
      "rsquare 0.8529188705946613\n",
      "Best CV params {'random_state': 1, 'n_estimators': 1000, 'min_samples_leaf': 1, 'max_features': 143, 'max_depth': 8}\n",
      "Best CV Rsquare 0.9679379662352504\n",
      "rsquare 0.9817341753233232\n",
      "Best train Rsquare 0.9817341753233232\n",
      "rsquare 0.9674464288360981\n",
      "Test RMSE of best random search hypers: 0.9674464288360981\n",
      "rsquare 0.9674464288360981\n",
      "rsquare 0.9817341753233232\n",
      "adaboost\n",
      "rsquare 0.89008618247971\n",
      "rsquare 0.8832053784000723\n",
      "rsquare 0.8787889002305153\n",
      "rsquare 0.892675904695461\n",
      "rsquare 0.8856287313643006\n",
      "rsquare 0.8678432949803392\n",
      "rsquare 0.8816392905650645\n",
      "rsquare 0.8766729813877395\n",
      "rsquare 0.8695962341193493\n",
      "rsquare 0.8768452296220147\n",
      "rsquare 0.8305063936983147\n",
      "rsquare 0.7956576551608519\n",
      "rsquare 0.7937518757402118\n",
      "rsquare 0.8214439387587092\n",
      "rsquare 0.8230169271046965\n",
      "rsquare 0.8108120364563807\n",
      "rsquare 0.8127197801542638\n",
      "rsquare 0.8182500982470206\n",
      "rsquare 0.7696747837888334\n",
      "rsquare 0.803762100856586\n",
      "rsquare 0.9402647758157775\n",
      "rsquare 0.9381818511314305\n",
      "rsquare 0.932463149639292\n",
      "rsquare 0.9407711372089186\n",
      "rsquare 0.9330462678226973\n",
      "rsquare 0.9237065080448447\n",
      "rsquare 0.9299504521008349\n",
      "rsquare 0.9300353365059536\n",
      "rsquare 0.927969836061224\n",
      "rsquare 0.9306764105827031\n",
      "rsquare 0.8376697201946671\n",
      "rsquare 0.8021338722304013\n",
      "rsquare 0.7941414422152138\n",
      "rsquare 0.8185274925754424\n",
      "rsquare 0.8151019643250395\n",
      "rsquare 0.8041695700959319\n",
      "rsquare 0.8159554098809153\n",
      "rsquare 0.8110042331210412\n",
      "rsquare 0.7628232655379144\n",
      "rsquare 0.7967043055303297\n",
      "rsquare 0.9407163655439138\n",
      "rsquare 0.9389902548144724\n",
      "rsquare 0.9339608633699364\n",
      "rsquare 0.9402152387272333\n",
      "rsquare 0.9346047798558893\n",
      "rsquare 0.9263199221077456\n",
      "rsquare 0.9308372441549917\n",
      "rsquare 0.9295969398878261\n",
      "rsquare 0.929351378171597\n",
      "rsquare 0.9324624733695712\n",
      "rsquare 0.8328820832349587\n",
      "rsquare 0.7989182584015341\n",
      "rsquare 0.7855934755396977\n",
      "rsquare 0.8176732508910557\n",
      "rsquare 0.8156260390734206\n",
      "rsquare 0.802232323780544\n",
      "rsquare 0.8019299558157977\n",
      "rsquare 0.8097958037499161\n",
      "rsquare 0.7608589228363387\n",
      "rsquare 0.8076569555125235\n",
      "rsquare 0.8374174678483003\n",
      "rsquare 0.7993745662460604\n",
      "rsquare 0.7941207382082652\n",
      "rsquare 0.8176696248479087\n",
      "rsquare 0.8122979352023637\n",
      "rsquare 0.8054819935614426\n",
      "rsquare 0.8002544818170464\n",
      "rsquare 0.8119482143913869\n",
      "rsquare 0.7613994379787562\n",
      "rsquare 0.801861343951155\n",
      "rsquare 0.8459535342055984\n",
      "rsquare 0.8088968390458308\n",
      "rsquare 0.8009428691701554\n",
      "rsquare 0.8300595517812173\n",
      "rsquare 0.8309110867801334\n",
      "rsquare 0.8197257412414599\n",
      "rsquare 0.8233738374292721\n",
      "rsquare 0.8225059317812522\n",
      "rsquare 0.790185634155929\n",
      "rsquare 0.8197850108346704\n",
      "rsquare 0.9012156063016351\n",
      "rsquare 0.9025879860985716\n",
      "rsquare 0.8927562942461684\n",
      "rsquare 0.907885393519859\n",
      "rsquare 0.9009238250737719\n",
      "rsquare 0.8795285961249442\n",
      "rsquare 0.8937427913356779\n",
      "rsquare 0.8932313973574532\n",
      "rsquare 0.8862956636894992\n",
      "rsquare 0.894198136870226\n",
      "rsquare 0.8330106239433313\n",
      "rsquare 0.7962183765271493\n",
      "rsquare 0.791205891740877\n",
      "rsquare 0.8175008726001387\n",
      "rsquare 0.8259105518045582\n",
      "rsquare 0.8122572440013279\n",
      "rsquare 0.8156670119715321\n",
      "rsquare 0.8197845489542654\n",
      "rsquare 0.7802120434093858\n",
      "rsquare 0.8097675999152578\n",
      "Best CV params {'random_state': 1, 'n_estimators': 500, 'learning_rate': 1}\n",
      "Best CV Rsquare 0.9337055460003179\n",
      "rsquare 0.937851906803883\n",
      "Best train Rsquare 0.937851906803883\n",
      "rsquare 0.9368605931362525\n",
      "Test RMSE of best random search hypers: 0.9368605931362525\n",
      "rsquare 0.9368605931362525\n",
      "rsquare 0.937851906803883\n",
      "xgboost\n",
      "rsquare 0.7603765322801015\n",
      "rsquare 0.7397824579300869\n",
      "rsquare 0.7789088236130105\n",
      "rsquare 0.7577949898181652\n",
      "rsquare 0.7549586426032696\n",
      "rsquare 0.7457095922637353\n",
      "rsquare 0.7351014426299168\n",
      "rsquare 0.7800505067256814\n",
      "rsquare 0.7443626696844656\n",
      "rsquare 0.7600829141314125\n",
      "rsquare 0.8412215796878666\n",
      "rsquare 0.8132796112549934\n",
      "rsquare 0.846436081752066\n",
      "rsquare 0.8359764027466687\n",
      "rsquare 0.8276472855502724\n",
      "rsquare 0.8224698027902259\n",
      "rsquare 0.812789150347702\n",
      "rsquare 0.8512245276622334\n",
      "rsquare 0.8137756823817281\n",
      "rsquare 0.8324774208195966\n",
      "rsquare 0.7457539794486514\n",
      "rsquare 0.6883087821541527\n",
      "rsquare 0.6908632716557426\n",
      "rsquare 0.7196576930905976\n",
      "rsquare 0.6986420076782709\n",
      "rsquare 0.7112305729955487\n",
      "rsquare 0.7119575584462133\n",
      "rsquare 0.7195753569926879\n",
      "rsquare 0.6905411054434687\n",
      "rsquare 0.7035489634565504\n",
      "rsquare 0.8778380471422776\n",
      "rsquare 0.8553995395842058\n",
      "rsquare 0.8800739781114336\n",
      "rsquare 0.8769727145811468\n",
      "rsquare 0.8678965026387846\n",
      "rsquare 0.8582576777655415\n",
      "rsquare 0.8536743617228448\n",
      "rsquare 0.8818711597167219\n",
      "rsquare 0.8505593344607417\n",
      "rsquare 0.8720854490029922\n",
      "rsquare -1231.4241738139694\n",
      "rsquare -1326.3209466516957\n",
      "rsquare -1552.7711740719628\n",
      "rsquare -1264.0806206152708\n",
      "rsquare -1413.0592797145175\n",
      "rsquare -1320.9072639845247\n",
      "rsquare -1265.4531942227168\n",
      "rsquare -1593.2256917835734\n",
      "rsquare -1461.1218065753128\n",
      "rsquare -1471.15595280327\n",
      "rsquare -151.57797845053216\n",
      "rsquare -164.6968825728199\n",
      "rsquare -191.4698180907742\n",
      "rsquare -156.38896507665834\n",
      "rsquare -175.31478912250276\n",
      "rsquare -163.83691851443697\n",
      "rsquare -156.2380747546797\n",
      "rsquare -197.02925546595765\n",
      "rsquare -182.19968741118225\n",
      "rsquare -182.9289631282455\n",
      "rsquare 0.8007917744189323\n",
      "rsquare 0.7811171433643098\n",
      "rsquare 0.8200095713908414\n",
      "rsquare 0.806106316996841\n",
      "rsquare 0.7994258034136938\n",
      "rsquare 0.7917333058000328\n",
      "rsquare 0.7811728117471088\n",
      "rsquare 0.8232719588532216\n",
      "rsquare 0.7797531860458758\n",
      "rsquare 0.8036489544250411\n",
      "rsquare 0.8192511352306945\n",
      "rsquare 0.798419108364961\n",
      "rsquare 0.8326675722057368\n",
      "rsquare 0.8158037346844078\n",
      "rsquare 0.8114201443174175\n",
      "rsquare 0.8084699364008522\n",
      "rsquare 0.7947024406805165\n",
      "rsquare 0.8282566312866604\n",
      "rsquare 0.7988892951709272\n",
      "rsquare 0.8190241308235789\n",
      "rsquare -167.1793454764766\n",
      "rsquare -181.46993136129595\n",
      "rsquare -211.10876990686813\n",
      "rsquare -172.33679657797006\n",
      "rsquare -193.12666796355907\n",
      "rsquare -180.58164208116878\n",
      "rsquare -172.18293106925148\n",
      "rsquare -217.2906219554299\n",
      "rsquare -200.77543463921572\n",
      "rsquare -201.59741825119832\n",
      "rsquare 0.9500792937155358\n",
      "rsquare 0.9494296970694664\n",
      "rsquare 0.9648053388194499\n",
      "rsquare 0.9480871040000022\n",
      "rsquare 0.9425190410186967\n",
      "rsquare 0.9567040452291898\n",
      "rsquare 0.959468446954467\n",
      "rsquare 0.9493563887829002\n",
      "rsquare 0.9520748451432862\n",
      "rsquare 0.9553809261450127\n",
      "Best CV params {'random_state': 1, 'n_estimators': 10, 'max_depth': 10, 'learning_rate': 1, 'gamma': 0.0}\n",
      "Best CV Rsquare 0.9527905126878007\n",
      "rsquare 0.9976741670817867\n",
      "Best train Rsquare 0.9976741670817867\n",
      "rsquare 0.9583081932078307\n",
      "Test RMSE of best random search hypers: 0.9583081932078307\n",
      "rsquare 0.9583081932078307\n",
      "rsquare 0.9976741670817867\n"
     ]
    }
   ],
   "source": [
    "result_dict = {}\n",
    "for model in model_list:\n",
    "    print(model)\n",
    "    result_dict[model + '_param'], \\\n",
    "    result_dict[model + '_cvacc'], \\\n",
    "    result_dict[model + '_testacc'],\\\n",
    "    result_dict[model + '_trainacc'] \\\n",
    "    = randomsearchRegression(models_dict[model], parameters_dct[model])"
   ]
  },
  {
   "attachments": {},
   "cell_type": "markdown",
   "metadata": {},
   "source": [
    "#### Random Forest result"
   ]
  },
  {
   "cell_type": "code",
   "execution_count": 242,
   "metadata": {},
   "outputs": [],
   "source": [
    "# best_randomforest = RandomForestRegressor(random_state= 1, n_estimators= 1000, min_samples_leaf= 2, max_features= 100, max_depth= 9)\n",
    "best_randomforest = RandomForestRegressor(**result_dict['random_forest_param'])"
   ]
  },
  {
   "cell_type": "code",
   "execution_count": 243,
   "metadata": {},
   "outputs": [
    {
     "data": {
      "text/html": [
       "<style>#sk-container-id-23 {color: black;background-color: white;}#sk-container-id-23 pre{padding: 0;}#sk-container-id-23 div.sk-toggleable {background-color: white;}#sk-container-id-23 label.sk-toggleable__label {cursor: pointer;display: block;width: 100%;margin-bottom: 0;padding: 0.3em;box-sizing: border-box;text-align: center;}#sk-container-id-23 label.sk-toggleable__label-arrow:before {content: \"▸\";float: left;margin-right: 0.25em;color: #696969;}#sk-container-id-23 label.sk-toggleable__label-arrow:hover:before {color: black;}#sk-container-id-23 div.sk-estimator:hover label.sk-toggleable__label-arrow:before {color: black;}#sk-container-id-23 div.sk-toggleable__content {max-height: 0;max-width: 0;overflow: hidden;text-align: left;background-color: #f0f8ff;}#sk-container-id-23 div.sk-toggleable__content pre {margin: 0.2em;color: black;border-radius: 0.25em;background-color: #f0f8ff;}#sk-container-id-23 input.sk-toggleable__control:checked~div.sk-toggleable__content {max-height: 200px;max-width: 100%;overflow: auto;}#sk-container-id-23 input.sk-toggleable__control:checked~label.sk-toggleable__label-arrow:before {content: \"▾\";}#sk-container-id-23 div.sk-estimator input.sk-toggleable__control:checked~label.sk-toggleable__label {background-color: #d4ebff;}#sk-container-id-23 div.sk-label input.sk-toggleable__control:checked~label.sk-toggleable__label {background-color: #d4ebff;}#sk-container-id-23 input.sk-hidden--visually {border: 0;clip: rect(1px 1px 1px 1px);clip: rect(1px, 1px, 1px, 1px);height: 1px;margin: -1px;overflow: hidden;padding: 0;position: absolute;width: 1px;}#sk-container-id-23 div.sk-estimator {font-family: monospace;background-color: #f0f8ff;border: 1px dotted black;border-radius: 0.25em;box-sizing: border-box;margin-bottom: 0.5em;}#sk-container-id-23 div.sk-estimator:hover {background-color: #d4ebff;}#sk-container-id-23 div.sk-parallel-item::after {content: \"\";width: 100%;border-bottom: 1px solid gray;flex-grow: 1;}#sk-container-id-23 div.sk-label:hover label.sk-toggleable__label {background-color: #d4ebff;}#sk-container-id-23 div.sk-serial::before {content: \"\";position: absolute;border-left: 1px solid gray;box-sizing: border-box;top: 0;bottom: 0;left: 50%;z-index: 0;}#sk-container-id-23 div.sk-serial {display: flex;flex-direction: column;align-items: center;background-color: white;padding-right: 0.2em;padding-left: 0.2em;position: relative;}#sk-container-id-23 div.sk-item {position: relative;z-index: 1;}#sk-container-id-23 div.sk-parallel {display: flex;align-items: stretch;justify-content: center;background-color: white;position: relative;}#sk-container-id-23 div.sk-item::before, #sk-container-id-23 div.sk-parallel-item::before {content: \"\";position: absolute;border-left: 1px solid gray;box-sizing: border-box;top: 0;bottom: 0;left: 50%;z-index: -1;}#sk-container-id-23 div.sk-parallel-item {display: flex;flex-direction: column;z-index: 1;position: relative;background-color: white;}#sk-container-id-23 div.sk-parallel-item:first-child::after {align-self: flex-end;width: 50%;}#sk-container-id-23 div.sk-parallel-item:last-child::after {align-self: flex-start;width: 50%;}#sk-container-id-23 div.sk-parallel-item:only-child::after {width: 0;}#sk-container-id-23 div.sk-dashed-wrapped {border: 1px dashed gray;margin: 0 0.4em 0.5em 0.4em;box-sizing: border-box;padding-bottom: 0.4em;background-color: white;}#sk-container-id-23 div.sk-label label {font-family: monospace;font-weight: bold;display: inline-block;line-height: 1.2em;}#sk-container-id-23 div.sk-label-container {text-align: center;}#sk-container-id-23 div.sk-container {/* jupyter's `normalize.less` sets `[hidden] { display: none; }` but bootstrap.min.css set `[hidden] { display: none !important; }` so we also need the `!important` here to be able to override the default hidden behavior on the sphinx rendered scikit-learn.org. See: https://github.com/scikit-learn/scikit-learn/issues/21755 */display: inline-block !important;position: relative;}#sk-container-id-23 div.sk-text-repr-fallback {display: none;}</style><div id=\"sk-container-id-23\" class=\"sk-top-container\"><div class=\"sk-text-repr-fallback\"><pre>RandomForestRegressor(max_depth=8, max_features=143, n_estimators=1000,\n",
       "                      random_state=1)</pre><b>In a Jupyter environment, please rerun this cell to show the HTML representation or trust the notebook. <br />On GitHub, the HTML representation is unable to render, please try loading this page with nbviewer.org.</b></div><div class=\"sk-container\" hidden><div class=\"sk-item\"><div class=\"sk-estimator sk-toggleable\"><input class=\"sk-toggleable__control sk-hidden--visually\" id=\"sk-estimator-id-23\" type=\"checkbox\" checked><label for=\"sk-estimator-id-23\" class=\"sk-toggleable__label sk-toggleable__label-arrow\">RandomForestRegressor</label><div class=\"sk-toggleable__content\"><pre>RandomForestRegressor(max_depth=8, max_features=143, n_estimators=1000,\n",
       "                      random_state=1)</pre></div></div></div></div></div>"
      ],
      "text/plain": [
       "RandomForestRegressor(max_depth=8, max_features=143, n_estimators=1000,\n",
       "                      random_state=1)"
      ]
     },
     "execution_count": 243,
     "metadata": {},
     "output_type": "execute_result"
    }
   ],
   "source": [
    "best_randomforest.fit(train_X, train_y)"
   ]
  },
  {
   "cell_type": "code",
   "execution_count": 244,
   "metadata": {},
   "outputs": [],
   "source": [
    "pred_y = best_randomforest.predict(test_X)"
   ]
  },
  {
   "cell_type": "code",
   "execution_count": 245,
   "metadata": {},
   "outputs": [
    {
     "name": "stdout",
     "output_type": "stream",
     "text": [
      "rmse 2735.6289860109046\n"
     ]
    },
    {
     "data": {
      "text/plain": [
       "2735.6289860109046"
      ]
     },
     "execution_count": 245,
     "metadata": {},
     "output_type": "execute_result"
    }
   ],
   "source": [
    "rmse(np.exp(pred_y), np.exp(test_y['TARGET_Weighted_RetailPrice']).values)"
   ]
  },
  {
   "cell_type": "code",
   "execution_count": 246,
   "metadata": {},
   "outputs": [
    {
     "data": {
      "text/plain": [
       "0.9443971779788827"
      ]
     },
     "execution_count": 246,
     "metadata": {},
     "output_type": "execute_result"
    }
   ],
   "source": [
    "r2_score(np.exp(pred_y), np.exp(test_y['TARGET_Weighted_RetailPrice']).values)"
   ]
  },
  {
   "cell_type": "code",
   "execution_count": 247,
   "metadata": {},
   "outputs": [],
   "source": [
    "RF_importances = best_randomforest.feature_importances_"
   ]
  },
  {
   "cell_type": "code",
   "execution_count": 248,
   "metadata": {},
   "outputs": [],
   "source": [
    "feature_names = list(X.columns)"
   ]
  },
  {
   "cell_type": "code",
   "execution_count": 249,
   "metadata": {},
   "outputs": [],
   "source": [
    "RF_importances = pd.DataFrame(RF_importances, columns=['importances'], index=feature_names)"
   ]
  },
  {
   "cell_type": "code",
   "execution_count": 250,
   "metadata": {},
   "outputs": [
    {
     "data": {
      "text/html": [
       "<div>\n",
       "<style scoped>\n",
       "    .dataframe tbody tr th:only-of-type {\n",
       "        vertical-align: middle;\n",
       "    }\n",
       "\n",
       "    .dataframe tbody tr th {\n",
       "        vertical-align: top;\n",
       "    }\n",
       "\n",
       "    .dataframe thead th {\n",
       "        text-align: right;\n",
       "    }\n",
       "</style>\n",
       "<table border=\"1\" class=\"dataframe\">\n",
       "  <thead>\n",
       "    <tr style=\"text-align: right;\">\n",
       "      <th></th>\n",
       "      <th>importances</th>\n",
       "    </tr>\n",
       "  </thead>\n",
       "  <tbody>\n",
       "    <tr>\n",
       "      <th>MSRP_prevMY_WeightedByVol</th>\n",
       "      <td>3.025205e-01</td>\n",
       "    </tr>\n",
       "    <tr>\n",
       "      <th>SPEC_maximum_torque_Nm</th>\n",
       "      <td>1.575391e-01</td>\n",
       "    </tr>\n",
       "    <tr>\n",
       "      <th>SPEC_rain_sensor</th>\n",
       "      <td>1.158070e-01</td>\n",
       "    </tr>\n",
       "    <tr>\n",
       "      <th>SPEC_doormirror_autodimming</th>\n",
       "      <td>6.633047e-02</td>\n",
       "    </tr>\n",
       "    <tr>\n",
       "      <th>SPEC_FRPGseat_reach_manual</th>\n",
       "      <td>5.578661e-02</td>\n",
       "    </tr>\n",
       "    <tr>\n",
       "      <th>...</th>\n",
       "      <td>...</td>\n",
       "    </tr>\n",
       "    <tr>\n",
       "      <th>SPEC_FRseatbelt_Center</th>\n",
       "      <td>6.909029e-07</td>\n",
       "    </tr>\n",
       "    <tr>\n",
       "      <th>SPEC_Mudflaps_FR</th>\n",
       "      <td>3.287054e-07</td>\n",
       "    </tr>\n",
       "    <tr>\n",
       "      <th>SPEC_includes_augmented_reality</th>\n",
       "      <td>8.925636e-08</td>\n",
       "    </tr>\n",
       "    <tr>\n",
       "      <th>SPEC_Side_airbag</th>\n",
       "      <td>1.626775e-08</td>\n",
       "    </tr>\n",
       "    <tr>\n",
       "      <th>SPEC_injection_diesel_direct_injection</th>\n",
       "      <td>0.000000e+00</td>\n",
       "    </tr>\n",
       "  </tbody>\n",
       "</table>\n",
       "<p>333 rows × 1 columns</p>\n",
       "</div>"
      ],
      "text/plain": [
       "                                         importances\n",
       "MSRP_prevMY_WeightedByVol               3.025205e-01\n",
       "SPEC_maximum_torque_Nm                  1.575391e-01\n",
       "SPEC_rain_sensor                        1.158070e-01\n",
       "SPEC_doormirror_autodimming             6.633047e-02\n",
       "SPEC_FRPGseat_reach_manual              5.578661e-02\n",
       "...                                              ...\n",
       "SPEC_FRseatbelt_Center                  6.909029e-07\n",
       "SPEC_Mudflaps_FR                        3.287054e-07\n",
       "SPEC_includes_augmented_reality         8.925636e-08\n",
       "SPEC_Side_airbag                        1.626775e-08\n",
       "SPEC_injection_diesel_direct_injection  0.000000e+00\n",
       "\n",
       "[333 rows x 1 columns]"
      ]
     },
     "execution_count": 250,
     "metadata": {},
     "output_type": "execute_result"
    }
   ],
   "source": [
    "RF_importances.sort_values(by='importances', ascending=False)"
   ]
  },
  {
   "attachments": {},
   "cell_type": "markdown",
   "metadata": {},
   "source": [
    "#### Adaboost result"
   ]
  },
  {
   "cell_type": "code",
   "execution_count": 251,
   "metadata": {},
   "outputs": [],
   "source": [
    "# best_adaboost= AdaBoostRegressor(random_state=1, n_estimators=100, learning_rate=1)\n",
    "best_adaboost= AdaBoostRegressor(**result_dict['adaboost_param'])\n"
   ]
  },
  {
   "cell_type": "code",
   "execution_count": 252,
   "metadata": {},
   "outputs": [
    {
     "data": {
      "text/html": [
       "<style>#sk-container-id-24 {color: black;background-color: white;}#sk-container-id-24 pre{padding: 0;}#sk-container-id-24 div.sk-toggleable {background-color: white;}#sk-container-id-24 label.sk-toggleable__label {cursor: pointer;display: block;width: 100%;margin-bottom: 0;padding: 0.3em;box-sizing: border-box;text-align: center;}#sk-container-id-24 label.sk-toggleable__label-arrow:before {content: \"▸\";float: left;margin-right: 0.25em;color: #696969;}#sk-container-id-24 label.sk-toggleable__label-arrow:hover:before {color: black;}#sk-container-id-24 div.sk-estimator:hover label.sk-toggleable__label-arrow:before {color: black;}#sk-container-id-24 div.sk-toggleable__content {max-height: 0;max-width: 0;overflow: hidden;text-align: left;background-color: #f0f8ff;}#sk-container-id-24 div.sk-toggleable__content pre {margin: 0.2em;color: black;border-radius: 0.25em;background-color: #f0f8ff;}#sk-container-id-24 input.sk-toggleable__control:checked~div.sk-toggleable__content {max-height: 200px;max-width: 100%;overflow: auto;}#sk-container-id-24 input.sk-toggleable__control:checked~label.sk-toggleable__label-arrow:before {content: \"▾\";}#sk-container-id-24 div.sk-estimator input.sk-toggleable__control:checked~label.sk-toggleable__label {background-color: #d4ebff;}#sk-container-id-24 div.sk-label input.sk-toggleable__control:checked~label.sk-toggleable__label {background-color: #d4ebff;}#sk-container-id-24 input.sk-hidden--visually {border: 0;clip: rect(1px 1px 1px 1px);clip: rect(1px, 1px, 1px, 1px);height: 1px;margin: -1px;overflow: hidden;padding: 0;position: absolute;width: 1px;}#sk-container-id-24 div.sk-estimator {font-family: monospace;background-color: #f0f8ff;border: 1px dotted black;border-radius: 0.25em;box-sizing: border-box;margin-bottom: 0.5em;}#sk-container-id-24 div.sk-estimator:hover {background-color: #d4ebff;}#sk-container-id-24 div.sk-parallel-item::after {content: \"\";width: 100%;border-bottom: 1px solid gray;flex-grow: 1;}#sk-container-id-24 div.sk-label:hover label.sk-toggleable__label {background-color: #d4ebff;}#sk-container-id-24 div.sk-serial::before {content: \"\";position: absolute;border-left: 1px solid gray;box-sizing: border-box;top: 0;bottom: 0;left: 50%;z-index: 0;}#sk-container-id-24 div.sk-serial {display: flex;flex-direction: column;align-items: center;background-color: white;padding-right: 0.2em;padding-left: 0.2em;position: relative;}#sk-container-id-24 div.sk-item {position: relative;z-index: 1;}#sk-container-id-24 div.sk-parallel {display: flex;align-items: stretch;justify-content: center;background-color: white;position: relative;}#sk-container-id-24 div.sk-item::before, #sk-container-id-24 div.sk-parallel-item::before {content: \"\";position: absolute;border-left: 1px solid gray;box-sizing: border-box;top: 0;bottom: 0;left: 50%;z-index: -1;}#sk-container-id-24 div.sk-parallel-item {display: flex;flex-direction: column;z-index: 1;position: relative;background-color: white;}#sk-container-id-24 div.sk-parallel-item:first-child::after {align-self: flex-end;width: 50%;}#sk-container-id-24 div.sk-parallel-item:last-child::after {align-self: flex-start;width: 50%;}#sk-container-id-24 div.sk-parallel-item:only-child::after {width: 0;}#sk-container-id-24 div.sk-dashed-wrapped {border: 1px dashed gray;margin: 0 0.4em 0.5em 0.4em;box-sizing: border-box;padding-bottom: 0.4em;background-color: white;}#sk-container-id-24 div.sk-label label {font-family: monospace;font-weight: bold;display: inline-block;line-height: 1.2em;}#sk-container-id-24 div.sk-label-container {text-align: center;}#sk-container-id-24 div.sk-container {/* jupyter's `normalize.less` sets `[hidden] { display: none; }` but bootstrap.min.css set `[hidden] { display: none !important; }` so we also need the `!important` here to be able to override the default hidden behavior on the sphinx rendered scikit-learn.org. See: https://github.com/scikit-learn/scikit-learn/issues/21755 */display: inline-block !important;position: relative;}#sk-container-id-24 div.sk-text-repr-fallback {display: none;}</style><div id=\"sk-container-id-24\" class=\"sk-top-container\"><div class=\"sk-text-repr-fallback\"><pre>AdaBoostRegressor(learning_rate=1, n_estimators=500, random_state=1)</pre><b>In a Jupyter environment, please rerun this cell to show the HTML representation or trust the notebook. <br />On GitHub, the HTML representation is unable to render, please try loading this page with nbviewer.org.</b></div><div class=\"sk-container\" hidden><div class=\"sk-item\"><div class=\"sk-estimator sk-toggleable\"><input class=\"sk-toggleable__control sk-hidden--visually\" id=\"sk-estimator-id-24\" type=\"checkbox\" checked><label for=\"sk-estimator-id-24\" class=\"sk-toggleable__label sk-toggleable__label-arrow\">AdaBoostRegressor</label><div class=\"sk-toggleable__content\"><pre>AdaBoostRegressor(learning_rate=1, n_estimators=500, random_state=1)</pre></div></div></div></div></div>"
      ],
      "text/plain": [
       "AdaBoostRegressor(learning_rate=1, n_estimators=500, random_state=1)"
      ]
     },
     "execution_count": 252,
     "metadata": {},
     "output_type": "execute_result"
    }
   ],
   "source": [
    "best_adaboost.fit(train_X, train_y)"
   ]
  },
  {
   "cell_type": "code",
   "execution_count": 253,
   "metadata": {},
   "outputs": [],
   "source": [
    "pred_y = best_adaboost.predict(test_X)"
   ]
  },
  {
   "cell_type": "code",
   "execution_count": 254,
   "metadata": {},
   "outputs": [
    {
     "name": "stdout",
     "output_type": "stream",
     "text": [
      "rmse 3413.514492225525\n"
     ]
    },
    {
     "data": {
      "text/plain": [
       "3413.514492225525"
      ]
     },
     "execution_count": 254,
     "metadata": {},
     "output_type": "execute_result"
    }
   ],
   "source": [
    "rmse(np.exp(pred_y), np.exp(test_y['TARGET_Weighted_RetailPrice']).values)"
   ]
  },
  {
   "cell_type": "code",
   "execution_count": 255,
   "metadata": {},
   "outputs": [
    {
     "data": {
      "text/plain": [
       "0.9114678264092403"
      ]
     },
     "execution_count": 255,
     "metadata": {},
     "output_type": "execute_result"
    }
   ],
   "source": [
    "r2_score(np.exp(pred_y), np.exp(test_y['TARGET_Weighted_RetailPrice']).values)"
   ]
  },
  {
   "cell_type": "code",
   "execution_count": 256,
   "metadata": {},
   "outputs": [],
   "source": [
    "AB_importances = best_adaboost.feature_importances_"
   ]
  },
  {
   "cell_type": "code",
   "execution_count": 257,
   "metadata": {},
   "outputs": [],
   "source": [
    "AB_importances = pd.DataFrame(AB_importances, columns=['importances'], index=feature_names)"
   ]
  },
  {
   "cell_type": "code",
   "execution_count": 258,
   "metadata": {},
   "outputs": [
    {
     "data": {
      "text/html": [
       "<div>\n",
       "<style scoped>\n",
       "    .dataframe tbody tr th:only-of-type {\n",
       "        vertical-align: middle;\n",
       "    }\n",
       "\n",
       "    .dataframe tbody tr th {\n",
       "        vertical-align: top;\n",
       "    }\n",
       "\n",
       "    .dataframe thead th {\n",
       "        text-align: right;\n",
       "    }\n",
       "</style>\n",
       "<table border=\"1\" class=\"dataframe\">\n",
       "  <thead>\n",
       "    <tr style=\"text-align: right;\">\n",
       "      <th></th>\n",
       "      <th>importances</th>\n",
       "    </tr>\n",
       "  </thead>\n",
       "  <tbody>\n",
       "    <tr>\n",
       "      <th>SPEC_maximum_torque_Nm</th>\n",
       "      <td>0.326566</td>\n",
       "    </tr>\n",
       "    <tr>\n",
       "      <th>MSRP_prevMY_WeightedByVol</th>\n",
       "      <td>0.216973</td>\n",
       "    </tr>\n",
       "    <tr>\n",
       "      <th>SPEC_wheelrim_width_inch</th>\n",
       "      <td>0.117433</td>\n",
       "    </tr>\n",
       "    <tr>\n",
       "      <th>SPEC_rain_sensor</th>\n",
       "      <td>0.050637</td>\n",
       "    </tr>\n",
       "    <tr>\n",
       "      <th>SPEC_doormirror_autodimming</th>\n",
       "      <td>0.048729</td>\n",
       "    </tr>\n",
       "    <tr>\n",
       "      <th>...</th>\n",
       "      <td>...</td>\n",
       "    </tr>\n",
       "    <tr>\n",
       "      <th>SPEC_engine_heater</th>\n",
       "      <td>0.000000</td>\n",
       "    </tr>\n",
       "    <tr>\n",
       "      <th>SPEC_Convertibleroof_glassRRwindow</th>\n",
       "      <td>0.000000</td>\n",
       "    </tr>\n",
       "    <tr>\n",
       "      <th>SPEC_FRPGseat_folding</th>\n",
       "      <td>0.000000</td>\n",
       "    </tr>\n",
       "    <tr>\n",
       "      <th>SPEC_towingclass_IV</th>\n",
       "      <td>0.000000</td>\n",
       "    </tr>\n",
       "    <tr>\n",
       "      <th>SPEC_Convertibleroof_electric</th>\n",
       "      <td>0.000000</td>\n",
       "    </tr>\n",
       "  </tbody>\n",
       "</table>\n",
       "<p>333 rows × 1 columns</p>\n",
       "</div>"
      ],
      "text/plain": [
       "                                    importances\n",
       "SPEC_maximum_torque_Nm                 0.326566\n",
       "MSRP_prevMY_WeightedByVol              0.216973\n",
       "SPEC_wheelrim_width_inch               0.117433\n",
       "SPEC_rain_sensor                       0.050637\n",
       "SPEC_doormirror_autodimming            0.048729\n",
       "...                                         ...\n",
       "SPEC_engine_heater                     0.000000\n",
       "SPEC_Convertibleroof_glassRRwindow     0.000000\n",
       "SPEC_FRPGseat_folding                  0.000000\n",
       "SPEC_towingclass_IV                    0.000000\n",
       "SPEC_Convertibleroof_electric          0.000000\n",
       "\n",
       "[333 rows x 1 columns]"
      ]
     },
     "execution_count": 258,
     "metadata": {},
     "output_type": "execute_result"
    }
   ],
   "source": [
    "AB_importances.sort_values(by='importances', ascending=False)"
   ]
  },
  {
   "attachments": {},
   "cell_type": "markdown",
   "metadata": {},
   "source": [
    "#### XGboost result"
   ]
  },
  {
   "cell_type": "code",
   "execution_count": 259,
   "metadata": {},
   "outputs": [],
   "source": [
    "# best_xgboost = xgb.XGBRegressor(random_state=1, n_estimators=500,max_depth=7, learning_rate=1, gamma=0)\n",
    "best_xgboost = xgb.XGBRegressor(**result_dict['xgboost_param'])"
   ]
  },
  {
   "cell_type": "code",
   "execution_count": 260,
   "metadata": {},
   "outputs": [
    {
     "data": {
      "text/html": [
       "<style>#sk-container-id-25 {color: black;background-color: white;}#sk-container-id-25 pre{padding: 0;}#sk-container-id-25 div.sk-toggleable {background-color: white;}#sk-container-id-25 label.sk-toggleable__label {cursor: pointer;display: block;width: 100%;margin-bottom: 0;padding: 0.3em;box-sizing: border-box;text-align: center;}#sk-container-id-25 label.sk-toggleable__label-arrow:before {content: \"▸\";float: left;margin-right: 0.25em;color: #696969;}#sk-container-id-25 label.sk-toggleable__label-arrow:hover:before {color: black;}#sk-container-id-25 div.sk-estimator:hover label.sk-toggleable__label-arrow:before {color: black;}#sk-container-id-25 div.sk-toggleable__content {max-height: 0;max-width: 0;overflow: hidden;text-align: left;background-color: #f0f8ff;}#sk-container-id-25 div.sk-toggleable__content pre {margin: 0.2em;color: black;border-radius: 0.25em;background-color: #f0f8ff;}#sk-container-id-25 input.sk-toggleable__control:checked~div.sk-toggleable__content {max-height: 200px;max-width: 100%;overflow: auto;}#sk-container-id-25 input.sk-toggleable__control:checked~label.sk-toggleable__label-arrow:before {content: \"▾\";}#sk-container-id-25 div.sk-estimator input.sk-toggleable__control:checked~label.sk-toggleable__label {background-color: #d4ebff;}#sk-container-id-25 div.sk-label input.sk-toggleable__control:checked~label.sk-toggleable__label {background-color: #d4ebff;}#sk-container-id-25 input.sk-hidden--visually {border: 0;clip: rect(1px 1px 1px 1px);clip: rect(1px, 1px, 1px, 1px);height: 1px;margin: -1px;overflow: hidden;padding: 0;position: absolute;width: 1px;}#sk-container-id-25 div.sk-estimator {font-family: monospace;background-color: #f0f8ff;border: 1px dotted black;border-radius: 0.25em;box-sizing: border-box;margin-bottom: 0.5em;}#sk-container-id-25 div.sk-estimator:hover {background-color: #d4ebff;}#sk-container-id-25 div.sk-parallel-item::after {content: \"\";width: 100%;border-bottom: 1px solid gray;flex-grow: 1;}#sk-container-id-25 div.sk-label:hover label.sk-toggleable__label {background-color: #d4ebff;}#sk-container-id-25 div.sk-serial::before {content: \"\";position: absolute;border-left: 1px solid gray;box-sizing: border-box;top: 0;bottom: 0;left: 50%;z-index: 0;}#sk-container-id-25 div.sk-serial {display: flex;flex-direction: column;align-items: center;background-color: white;padding-right: 0.2em;padding-left: 0.2em;position: relative;}#sk-container-id-25 div.sk-item {position: relative;z-index: 1;}#sk-container-id-25 div.sk-parallel {display: flex;align-items: stretch;justify-content: center;background-color: white;position: relative;}#sk-container-id-25 div.sk-item::before, #sk-container-id-25 div.sk-parallel-item::before {content: \"\";position: absolute;border-left: 1px solid gray;box-sizing: border-box;top: 0;bottom: 0;left: 50%;z-index: -1;}#sk-container-id-25 div.sk-parallel-item {display: flex;flex-direction: column;z-index: 1;position: relative;background-color: white;}#sk-container-id-25 div.sk-parallel-item:first-child::after {align-self: flex-end;width: 50%;}#sk-container-id-25 div.sk-parallel-item:last-child::after {align-self: flex-start;width: 50%;}#sk-container-id-25 div.sk-parallel-item:only-child::after {width: 0;}#sk-container-id-25 div.sk-dashed-wrapped {border: 1px dashed gray;margin: 0 0.4em 0.5em 0.4em;box-sizing: border-box;padding-bottom: 0.4em;background-color: white;}#sk-container-id-25 div.sk-label label {font-family: monospace;font-weight: bold;display: inline-block;line-height: 1.2em;}#sk-container-id-25 div.sk-label-container {text-align: center;}#sk-container-id-25 div.sk-container {/* jupyter's `normalize.less` sets `[hidden] { display: none; }` but bootstrap.min.css set `[hidden] { display: none !important; }` so we also need the `!important` here to be able to override the default hidden behavior on the sphinx rendered scikit-learn.org. See: https://github.com/scikit-learn/scikit-learn/issues/21755 */display: inline-block !important;position: relative;}#sk-container-id-25 div.sk-text-repr-fallback {display: none;}</style><div id=\"sk-container-id-25\" class=\"sk-top-container\"><div class=\"sk-text-repr-fallback\"><pre>XGBRegressor(base_score=None, booster=None, callbacks=None,\n",
       "             colsample_bylevel=None, colsample_bynode=None,\n",
       "             colsample_bytree=None, early_stopping_rounds=None,\n",
       "             enable_categorical=False, eval_metric=None, feature_types=None,\n",
       "             gamma=0.0, gpu_id=None, grow_policy=None, importance_type=None,\n",
       "             interaction_constraints=None, learning_rate=1, max_bin=None,\n",
       "             max_cat_threshold=None, max_cat_to_onehot=None,\n",
       "             max_delta_step=None, max_depth=10, max_leaves=None,\n",
       "             min_child_weight=None, missing=nan, monotone_constraints=None,\n",
       "             n_estimators=10, n_jobs=None, num_parallel_tree=None,\n",
       "             predictor=None, random_state=1, ...)</pre><b>In a Jupyter environment, please rerun this cell to show the HTML representation or trust the notebook. <br />On GitHub, the HTML representation is unable to render, please try loading this page with nbviewer.org.</b></div><div class=\"sk-container\" hidden><div class=\"sk-item\"><div class=\"sk-estimator sk-toggleable\"><input class=\"sk-toggleable__control sk-hidden--visually\" id=\"sk-estimator-id-25\" type=\"checkbox\" checked><label for=\"sk-estimator-id-25\" class=\"sk-toggleable__label sk-toggleable__label-arrow\">XGBRegressor</label><div class=\"sk-toggleable__content\"><pre>XGBRegressor(base_score=None, booster=None, callbacks=None,\n",
       "             colsample_bylevel=None, colsample_bynode=None,\n",
       "             colsample_bytree=None, early_stopping_rounds=None,\n",
       "             enable_categorical=False, eval_metric=None, feature_types=None,\n",
       "             gamma=0.0, gpu_id=None, grow_policy=None, importance_type=None,\n",
       "             interaction_constraints=None, learning_rate=1, max_bin=None,\n",
       "             max_cat_threshold=None, max_cat_to_onehot=None,\n",
       "             max_delta_step=None, max_depth=10, max_leaves=None,\n",
       "             min_child_weight=None, missing=nan, monotone_constraints=None,\n",
       "             n_estimators=10, n_jobs=None, num_parallel_tree=None,\n",
       "             predictor=None, random_state=1, ...)</pre></div></div></div></div></div>"
      ],
      "text/plain": [
       "XGBRegressor(base_score=None, booster=None, callbacks=None,\n",
       "             colsample_bylevel=None, colsample_bynode=None,\n",
       "             colsample_bytree=None, early_stopping_rounds=None,\n",
       "             enable_categorical=False, eval_metric=None, feature_types=None,\n",
       "             gamma=0.0, gpu_id=None, grow_policy=None, importance_type=None,\n",
       "             interaction_constraints=None, learning_rate=1, max_bin=None,\n",
       "             max_cat_threshold=None, max_cat_to_onehot=None,\n",
       "             max_delta_step=None, max_depth=10, max_leaves=None,\n",
       "             min_child_weight=None, missing=nan, monotone_constraints=None,\n",
       "             n_estimators=10, n_jobs=None, num_parallel_tree=None,\n",
       "             predictor=None, random_state=1, ...)"
      ]
     },
     "execution_count": 260,
     "metadata": {},
     "output_type": "execute_result"
    }
   ],
   "source": [
    "best_xgboost.fit(train_X, train_y)"
   ]
  },
  {
   "cell_type": "code",
   "execution_count": 261,
   "metadata": {},
   "outputs": [],
   "source": [
    "pred_y = best_xgboost.predict(test_X)"
   ]
  },
  {
   "cell_type": "code",
   "execution_count": 262,
   "metadata": {},
   "outputs": [
    {
     "name": "stdout",
     "output_type": "stream",
     "text": [
      "rmse 2785.285448084341\n"
     ]
    },
    {
     "data": {
      "text/plain": [
       "2785.285448084341"
      ]
     },
     "execution_count": 262,
     "metadata": {},
     "output_type": "execute_result"
    }
   ],
   "source": [
    "rmse(np.exp(pred_y), np.exp(test_y['TARGET_Weighted_RetailPrice']).values)"
   ]
  },
  {
   "cell_type": "code",
   "execution_count": 263,
   "metadata": {},
   "outputs": [
    {
     "data": {
      "text/plain": [
       "0.9489091952895724"
      ]
     },
     "execution_count": 263,
     "metadata": {},
     "output_type": "execute_result"
    }
   ],
   "source": [
    "r2_score(np.exp(pred_y), np.exp(test_y['TARGET_Weighted_RetailPrice']).values)"
   ]
  },
  {
   "cell_type": "code",
   "execution_count": 264,
   "metadata": {},
   "outputs": [],
   "source": [
    "XGB_importances = best_xgboost.feature_importances_"
   ]
  },
  {
   "cell_type": "code",
   "execution_count": 265,
   "metadata": {},
   "outputs": [],
   "source": [
    "XGB_importances = pd.DataFrame(XGB_importances, columns=['importances'], index=feature_names)"
   ]
  },
  {
   "cell_type": "code",
   "execution_count": 266,
   "metadata": {},
   "outputs": [
    {
     "data": {
      "text/html": [
       "<div>\n",
       "<style scoped>\n",
       "    .dataframe tbody tr th:only-of-type {\n",
       "        vertical-align: middle;\n",
       "    }\n",
       "\n",
       "    .dataframe tbody tr th {\n",
       "        vertical-align: top;\n",
       "    }\n",
       "\n",
       "    .dataframe thead th {\n",
       "        text-align: right;\n",
       "    }\n",
       "</style>\n",
       "<table border=\"1\" class=\"dataframe\">\n",
       "  <thead>\n",
       "    <tr style=\"text-align: right;\">\n",
       "      <th></th>\n",
       "      <th>importances</th>\n",
       "    </tr>\n",
       "  </thead>\n",
       "  <tbody>\n",
       "    <tr>\n",
       "      <th>SPEC_Steering_plastic</th>\n",
       "      <td>0.158943</td>\n",
       "    </tr>\n",
       "    <tr>\n",
       "      <th>SPEC_maximum_torque_Nm</th>\n",
       "      <td>0.135754</td>\n",
       "    </tr>\n",
       "    <tr>\n",
       "      <th>SPEC_screen_size_in</th>\n",
       "      <td>0.124438</td>\n",
       "    </tr>\n",
       "    <tr>\n",
       "      <th>SPEC_Headlight_cleaners</th>\n",
       "      <td>0.069801</td>\n",
       "    </tr>\n",
       "    <tr>\n",
       "      <th>MSRP_prevMY_WeightedByVol</th>\n",
       "      <td>0.057183</td>\n",
       "    </tr>\n",
       "    <tr>\n",
       "      <th>...</th>\n",
       "      <td>...</td>\n",
       "    </tr>\n",
       "    <tr>\n",
       "      <th>SPEC_Charging_information</th>\n",
       "      <td>0.000000</td>\n",
       "    </tr>\n",
       "    <tr>\n",
       "      <th>SPEC_Electric_motor</th>\n",
       "      <td>0.000000</td>\n",
       "    </tr>\n",
       "    <tr>\n",
       "      <th>SPEC_instantaneous_fuel_consumption</th>\n",
       "      <td>0.000000</td>\n",
       "    </tr>\n",
       "    <tr>\n",
       "      <th>SPEC_Storage_box</th>\n",
       "      <td>0.000000</td>\n",
       "    </tr>\n",
       "    <tr>\n",
       "      <th>PROFILE_MY_2016</th>\n",
       "      <td>0.000000</td>\n",
       "    </tr>\n",
       "  </tbody>\n",
       "</table>\n",
       "<p>333 rows × 1 columns</p>\n",
       "</div>"
      ],
      "text/plain": [
       "                                     importances\n",
       "SPEC_Steering_plastic                   0.158943\n",
       "SPEC_maximum_torque_Nm                  0.135754\n",
       "SPEC_screen_size_in                     0.124438\n",
       "SPEC_Headlight_cleaners                 0.069801\n",
       "MSRP_prevMY_WeightedByVol               0.057183\n",
       "...                                          ...\n",
       "SPEC_Charging_information               0.000000\n",
       "SPEC_Electric_motor                     0.000000\n",
       "SPEC_instantaneous_fuel_consumption     0.000000\n",
       "SPEC_Storage_box                        0.000000\n",
       "PROFILE_MY_2016                         0.000000\n",
       "\n",
       "[333 rows x 1 columns]"
      ]
     },
     "execution_count": 266,
     "metadata": {},
     "output_type": "execute_result"
    }
   ],
   "source": [
    "XGB_importances.sort_values(by='importances', ascending=False)"
   ]
  },
  {
   "cell_type": "code",
   "execution_count": 267,
   "metadata": {},
   "outputs": [],
   "source": [
    "RF_vars = list(RF_importances.sort_values(by='importances', ascending=False)[:200].index)"
   ]
  },
  {
   "cell_type": "code",
   "execution_count": 268,
   "metadata": {},
   "outputs": [],
   "source": [
    "AB_vars = list(AB_importances.sort_values(by='importances', ascending=False)[:200].index)"
   ]
  },
  {
   "cell_type": "code",
   "execution_count": 269,
   "metadata": {},
   "outputs": [],
   "source": [
    "XGB_vars = list(XGB_importances.sort_values(by='importances', ascending=False)[:200].index)"
   ]
  },
  {
   "cell_type": "code",
   "execution_count": 270,
   "metadata": {},
   "outputs": [],
   "source": [
    "intercection1 = set(RF_vars).intersection(set(AB_vars))\n",
    "intercection2 = set(AB_vars).intersection(set(XGB_vars))\n",
    "intercection3 = set(RF_vars).intersection(set(XGB_vars))\n",
    "featureimp_variables = list(intercection1.union(intercection2).union(intercection3))"
   ]
  },
  {
   "cell_type": "code",
   "execution_count": 271,
   "metadata": {},
   "outputs": [],
   "source": [
    "pd.DataFrame(featureimp_variables).to_csv('variables_union'+ model_name +'.csv', index=False)"
   ]
  },
  {
   "cell_type": "code",
   "execution_count": 272,
   "metadata": {},
   "outputs": [
    {
     "data": {
      "text/plain": [
       "203"
      ]
     },
     "execution_count": 272,
     "metadata": {},
     "output_type": "execute_result"
    }
   ],
   "source": [
    "len(featureimp_variables)"
   ]
  },
  {
   "attachments": {},
   "cell_type": "markdown",
   "metadata": {},
   "source": [
    "### Model with reduced variables Union of Intersections (203 variables)"
   ]
  },
  {
   "cell_type": "code",
   "execution_count": 273,
   "metadata": {},
   "outputs": [],
   "source": [
    "X = df_ml.drop(target, axis=1)"
   ]
  },
  {
   "cell_type": "code",
   "execution_count": 274,
   "metadata": {},
   "outputs": [],
   "source": [
    "X_featureimp = X[featureimp_variables]"
   ]
  },
  {
   "cell_type": "code",
   "execution_count": 275,
   "metadata": {},
   "outputs": [],
   "source": [
    "y = df_ml[[target]]"
   ]
  },
  {
   "cell_type": "code",
   "execution_count": 276,
   "metadata": {},
   "outputs": [],
   "source": [
    "y = np.log(y)"
   ]
  },
  {
   "cell_type": "code",
   "execution_count": 277,
   "metadata": {},
   "outputs": [],
   "source": [
    "train_X, test_X, train_y, test_y = train_test_split(X_featureimp, y, train_size=0.7, test_size=0.3, random_state=42)"
   ]
  },
  {
   "cell_type": "code",
   "execution_count": 278,
   "metadata": {},
   "outputs": [
    {
     "name": "stdout",
     "output_type": "stream",
     "text": [
      "random_forest\n",
      "rsquare 0.9308354959842812\n",
      "rsquare 0.9201635269765\n",
      "rsquare 0.9199034370044293\n",
      "rsquare 0.9241341331118672\n",
      "rsquare 0.9222317922100569\n",
      "rsquare 0.9074330162007604\n",
      "rsquare 0.9184495128073874\n",
      "rsquare 0.9132660469084568\n",
      "rsquare 0.8889125190357279\n",
      "rsquare 0.9112571597438083\n",
      "rsquare 0.9637610093110398\n",
      "rsquare 0.9645322272128686\n",
      "rsquare 0.9619603479907054\n",
      "rsquare 0.9642847911562095\n",
      "rsquare 0.9632347952164677\n",
      "rsquare 0.9515952107722977\n",
      "rsquare 0.9596383478779069\n",
      "rsquare 0.9532190644899038\n",
      "rsquare 0.9560121087481629\n",
      "rsquare 0.9559215020714474\n",
      "rsquare 0.9657082682929055\n",
      "rsquare 0.9668461009028784\n",
      "rsquare 0.9663458412539924\n",
      "rsquare 0.9639244873284114\n",
      "rsquare 0.9602752543772712\n",
      "rsquare 0.9540065604340137\n",
      "rsquare 0.9608463724684385\n",
      "rsquare 0.9607431193795997\n",
      "rsquare 0.9503517999456941\n",
      "rsquare 0.9579983777049077\n",
      "rsquare 0.8592856115379022\n",
      "rsquare 0.8233752479683462\n",
      "rsquare 0.8193377787723275\n",
      "rsquare 0.8445010693145144\n",
      "rsquare 0.8440106782169366\n",
      "rsquare 0.8298573273514147\n",
      "rsquare 0.8351415663352013\n",
      "rsquare 0.8368166402719784\n",
      "rsquare 0.8023313633063704\n",
      "rsquare 0.8358702672484284\n",
      "rsquare 0.9678601783540658\n",
      "rsquare 0.9690436350730974\n",
      "rsquare 0.9684239524824838\n",
      "rsquare 0.9663749631553096\n",
      "rsquare 0.9614618402058133\n",
      "rsquare 0.9575061023738444\n",
      "rsquare 0.9635133128821748\n",
      "rsquare 0.9633573670846733\n",
      "rsquare 0.9486949844294958\n",
      "rsquare 0.9614792227560294\n",
      "rsquare 0.9623846794740565\n",
      "rsquare 0.9604349778383151\n",
      "rsquare 0.9634045779050542\n",
      "rsquare 0.959287153925237\n",
      "rsquare 0.955939819709035\n",
      "rsquare 0.9495773678400493\n",
      "rsquare 0.9549711335905678\n",
      "rsquare 0.9573443876869983\n",
      "rsquare 0.9441295391822184\n",
      "rsquare 0.9523473970929048\n",
      "rsquare 0.937654836168082\n",
      "rsquare 0.9360143750143737\n",
      "rsquare 0.9315968939400812\n",
      "rsquare 0.935982347000165\n",
      "rsquare 0.9349173039859754\n",
      "rsquare 0.9158499402809047\n",
      "rsquare 0.9310671777380587\n",
      "rsquare 0.9235120540875625\n",
      "rsquare 0.9155485197382983\n",
      "rsquare 0.9259802727057194\n",
      "rsquare 0.9501810668191264\n",
      "rsquare 0.9485306731646554\n",
      "rsquare 0.9522779993991333\n",
      "rsquare 0.9491508716744825\n",
      "rsquare 0.9442281793583388\n",
      "rsquare 0.9385705430599346\n",
      "rsquare 0.9450920738252826\n",
      "rsquare 0.9433543756859692\n",
      "rsquare 0.9204112805704062\n",
      "rsquare 0.9405220385085541\n",
      "rsquare 0.9469313584959567\n",
      "rsquare 0.938900494604675\n",
      "rsquare 0.9376631836672533\n",
      "rsquare 0.9385756818157817\n",
      "rsquare 0.9378280081009293\n",
      "rsquare 0.9239945129399676\n",
      "rsquare 0.9427741655491353\n",
      "rsquare 0.9289728868324756\n",
      "rsquare 0.9232288601295622\n",
      "rsquare 0.932948600353953\n",
      "rsquare 0.9606772883044039\n",
      "rsquare 0.9588271411239391\n",
      "rsquare 0.962022648760823\n",
      "rsquare 0.9547379071703335\n",
      "rsquare 0.9552894138743193\n",
      "rsquare 0.9489727217132616\n",
      "rsquare 0.952396686857538\n",
      "rsquare 0.95574103276323\n",
      "rsquare 0.9461941809149244\n",
      "rsquare 0.9515527941456573\n",
      "Best CV params {'random_state': 1, 'n_estimators': 100, 'min_samples_leaf': 7, 'max_features': 328, 'max_depth': 9}\n",
      "Best CV Rsquare 0.9627715558796988\n",
      "rsquare 0.9790819919179765\n",
      "Best train Rsquare 0.9790819919179765\n",
      "rsquare 0.9628224777402808\n",
      "Test RMSE of best random search hypers: 0.9628224777402808\n",
      "rsquare 0.9628224777402808\n",
      "rsquare 0.9790819919179765\n",
      "adaboost\n",
      "rsquare 0.8388768010611387\n",
      "rsquare 0.7996753039288569\n",
      "rsquare 0.7974746397122698\n",
      "rsquare 0.8221313649681254\n",
      "rsquare 0.8280479002283521\n",
      "rsquare 0.8166440457113018\n",
      "rsquare 0.8190542435533641\n",
      "rsquare 0.8215991322767726\n",
      "rsquare 0.7841140102434065\n",
      "rsquare 0.8159602973713067\n",
      "rsquare 0.8312931189820097\n",
      "rsquare 0.794525296372959\n",
      "rsquare 0.7901976067758123\n",
      "rsquare 0.8150524932269594\n",
      "rsquare 0.8241317593540946\n",
      "rsquare 0.811943717584108\n",
      "rsquare 0.8148193685782582\n",
      "rsquare 0.8194291081911776\n",
      "rsquare 0.7723736637594931\n",
      "rsquare 0.8101671858180507\n",
      "rsquare 0.9426860170958363\n",
      "rsquare 0.9381524011372423\n",
      "rsquare 0.9320249223967471\n",
      "rsquare 0.9390662310783146\n",
      "rsquare 0.9336306247734427\n",
      "rsquare 0.9248982522855044\n",
      "rsquare 0.9283000372991537\n",
      "rsquare 0.9273482449058421\n",
      "rsquare 0.928031184994819\n",
      "rsquare 0.9313941438266148\n",
      "rsquare 0.8291759275698173\n",
      "rsquare 0.7966780794669319\n",
      "rsquare 0.7933689975105517\n",
      "rsquare 0.8182592169549396\n",
      "rsquare 0.8222558943989862\n",
      "rsquare 0.8094545738929682\n",
      "rsquare 0.8140234073825424\n",
      "rsquare 0.8195810466572606\n",
      "rsquare 0.7696150245128215\n",
      "rsquare 0.8065888586781433\n",
      "rsquare 0.9437587643071087\n",
      "rsquare 0.9391709306785279\n",
      "rsquare 0.9332837126466867\n",
      "rsquare 0.9403967029284039\n",
      "rsquare 0.9350574865012732\n",
      "rsquare 0.9248546825613428\n",
      "rsquare 0.9309305077558802\n",
      "rsquare 0.9278740534582827\n",
      "rsquare 0.9282169218512863\n",
      "rsquare 0.9303115895368267\n",
      "rsquare 0.9435768535376117\n",
      "rsquare 0.9398400067189883\n",
      "rsquare 0.9338851260465678\n",
      "rsquare 0.9397515316537284\n",
      "rsquare 0.9350564586747653\n",
      "rsquare 0.9265691892384372\n",
      "rsquare 0.9305920154876135\n",
      "rsquare 0.9290276819294138\n",
      "rsquare 0.9295430619346746\n",
      "rsquare 0.930820178839481\n",
      "rsquare 0.8376697201946696\n",
      "rsquare 0.8021338722304058\n",
      "rsquare 0.7941414422152162\n",
      "rsquare 0.8185274925754447\n",
      "rsquare 0.815101964325039\n",
      "rsquare 0.8041695700959313\n",
      "rsquare 0.8159554098809155\n",
      "rsquare 0.8110042331210456\n",
      "rsquare 0.7628232655379092\n",
      "rsquare 0.7967043055303321\n",
      "rsquare 0.8871880791571864\n",
      "rsquare 0.8927008018853155\n",
      "rsquare 0.8844778766062826\n",
      "rsquare 0.8891335691480325\n",
      "rsquare 0.8913929331067982\n",
      "rsquare 0.8778627832610202\n",
      "rsquare 0.89107220389592\n",
      "rsquare 0.8875890192613368\n",
      "rsquare 0.8736632272572261\n",
      "rsquare 0.8854155718065504\n",
      "rsquare 0.845953534205598\n",
      "rsquare 0.8088968390458307\n",
      "rsquare 0.8009428691701551\n",
      "rsquare 0.8300595517812149\n",
      "rsquare 0.8309110867801369\n",
      "rsquare 0.8197257412414571\n",
      "rsquare 0.8233738374292722\n",
      "rsquare 0.822505931781252\n",
      "rsquare 0.7901856341559235\n",
      "rsquare 0.8197850108346727\n",
      "rsquare 0.9009252259186525\n",
      "rsquare 0.8996772169233158\n",
      "rsquare 0.8871977081782223\n",
      "rsquare 0.9068403645384042\n",
      "rsquare 0.9024901516440057\n",
      "rsquare 0.8813956004088837\n",
      "rsquare 0.8930890453418932\n",
      "rsquare 0.8892711127831514\n",
      "rsquare 0.8848801271888758\n",
      "rsquare 0.8940378942577019\n",
      "Best CV params {'random_state': 1, 'n_estimators': 1000, 'learning_rate': 1}\n",
      "Best CV Rsquare 0.9338662104061282\n",
      "rsquare 0.9390256713152875\n",
      "Best train Rsquare 0.9390256713152875\n",
      "rsquare 0.9379053932208228\n",
      "Test RMSE of best random search hypers: 0.9379053932208228\n",
      "rsquare 0.9379053932208228\n",
      "rsquare 0.9390256713152875\n",
      "xgboost\n",
      "rsquare -1231.4241738139694\n",
      "rsquare -1326.3209466516957\n",
      "rsquare -1552.7711740719628\n",
      "rsquare -1264.0806206152708\n",
      "rsquare -1413.0592797145175\n",
      "rsquare -1320.9072639845247\n",
      "rsquare -1265.4531942227168\n",
      "rsquare -1593.2256917835734\n",
      "rsquare -1461.1218065753128\n",
      "rsquare -1471.15595280327\n",
      "rsquare 0.9882327882012453\n",
      "rsquare 0.988457488213299\n",
      "rsquare 0.9885754785577722\n",
      "rsquare 0.9870355664509818\n",
      "rsquare 0.9857949537593539\n",
      "rsquare 0.9864519692934258\n",
      "rsquare 0.9845184755688068\n",
      "rsquare 0.9863799874742888\n",
      "rsquare 0.9862770625351222\n",
      "rsquare 0.9855939873969252\n",
      "rsquare 0.9506184776433856\n",
      "rsquare 0.9518469203505504\n",
      "rsquare 0.9560045149428296\n",
      "rsquare 0.953666461451252\n",
      "rsquare 0.9462112219841512\n",
      "rsquare 0.9636341205980875\n",
      "rsquare 0.957664473586361\n",
      "rsquare 0.948661401672253\n",
      "rsquare 0.9352257486646905\n",
      "rsquare 0.9477650181524743\n",
      "rsquare 0.7860015760051539\n",
      "rsquare 0.7461773304858581\n",
      "rsquare 0.7346174754125221\n",
      "rsquare 0.7827482214411998\n",
      "rsquare 0.7696197903925797\n",
      "rsquare 0.7818193709007775\n",
      "rsquare 0.7610110787196851\n",
      "rsquare 0.7669303622780679\n",
      "rsquare 0.7387167361312715\n",
      "rsquare 0.7457345848818248\n",
      "rsquare 0.7457539794486514\n",
      "rsquare 0.6883087821541527\n",
      "rsquare 0.6908632716557426\n",
      "rsquare 0.7196576930905976\n",
      "rsquare 0.6986420076782709\n",
      "rsquare 0.7112305729955487\n",
      "rsquare 0.7119575584462133\n",
      "rsquare 0.7195753569926879\n",
      "rsquare 0.6905411054434687\n",
      "rsquare 0.7035489634565504\n",
      "rsquare 0.8453218561733847\n",
      "rsquare 0.8202114511191325\n",
      "rsquare 0.8163137800672156\n",
      "rsquare 0.8489499422713407\n",
      "rsquare 0.8320616363565474\n",
      "rsquare 0.8387069005918621\n",
      "rsquare 0.8408932529159077\n",
      "rsquare 0.8321415276394101\n",
      "rsquare 0.7981029621157556\n",
      "rsquare 0.8102120423527208\n",
      "rsquare -1183.0612649467485\n",
      "rsquare -1274.3544684756137\n",
      "rsquare -1491.765895385953\n",
      "rsquare -1214.570539660221\n",
      "rsquare -1357.6470121789707\n",
      "rsquare -1269.2033038716118\n",
      "rsquare -1215.7275191651242\n",
      "rsquare -1530.7462662731057\n",
      "rsquare -1404.0335415318405\n",
      "rsquare -1413.5702926748581\n",
      "rsquare 0.9498365945261795\n",
      "rsquare 0.9730644167120719\n",
      "rsquare 0.9627818368965643\n",
      "rsquare 0.9653801332373814\n",
      "rsquare 0.9631808018306677\n",
      "rsquare 0.9618009286887813\n",
      "rsquare 0.9625163369020905\n",
      "rsquare 0.9637257166998691\n",
      "rsquare 0.9562802767066465\n",
      "rsquare 0.9703911271522159\n",
      "rsquare 0.878568780556511\n",
      "rsquare 0.8536222213978871\n",
      "rsquare 0.88529054922875\n",
      "rsquare 0.8788668086668993\n",
      "rsquare 0.8676395527941912\n",
      "rsquare 0.867766684360747\n",
      "rsquare 0.8541965686984481\n",
      "rsquare 0.8818562827257636\n",
      "rsquare 0.8555356517364191\n",
      "rsquare 0.8700487621147517\n",
      "rsquare -151.57797845053216\n",
      "rsquare -164.6968825728199\n",
      "rsquare -191.4698180907742\n",
      "rsquare -156.38896507665834\n",
      "rsquare -175.31478912250276\n",
      "rsquare -163.83691851443697\n",
      "rsquare -156.2380747546797\n",
      "rsquare -197.02925546595765\n",
      "rsquare -182.19968741118225\n",
      "rsquare -182.9289631282455\n",
      "Best CV params {'random_state': 1, 'n_estimators': 1000, 'max_depth': 3, 'learning_rate': 0.1, 'gamma': 0.0}\n",
      "Best CV Rsquare 0.9867317757451219\n",
      "rsquare 0.9971585332923723\n",
      "Best train Rsquare 0.9971585332923723\n",
      "rsquare 0.986678331267568\n",
      "Test RMSE of best random search hypers: 0.986678331267568\n",
      "rsquare 0.986678331267568\n",
      "rsquare 0.9971585332923723\n"
     ]
    }
   ],
   "source": [
    "result_dict_2 = {}\n",
    "for model in model_list:\n",
    "    print(model)\n",
    "    result_dict[model + '_param'], \\\n",
    "    result_dict[model + '_cvacc'], \\\n",
    "    result_dict[model + '_testacc'],\\\n",
    "    result_dict[model + '_trainacc'] \\\n",
    "    = randomsearchRegression(models_dict[model], parameters_dct[model])"
   ]
  },
  {
   "attachments": {},
   "cell_type": "markdown",
   "metadata": {},
   "source": [
    "#### Random Forest result"
   ]
  },
  {
   "cell_type": "code",
   "execution_count": 282,
   "metadata": {},
   "outputs": [
    {
     "data": {
      "text/plain": [
       "{}"
      ]
     },
     "execution_count": 282,
     "metadata": {},
     "output_type": "execute_result"
    }
   ],
   "source": [
    "result_dict_2"
   ]
  },
  {
   "cell_type": "code",
   "execution_count": 283,
   "metadata": {},
   "outputs": [],
   "source": [
    "best_randomforest = RandomForestRegressor(random_state= 1, n_estimators= 100, min_samples_leaf=7, max_features= 328, max_depth= 9)\n",
    "# best_randomforest = RandomForestRegressor(**result_dict_2['random_forest_param'])"
   ]
  },
  {
   "cell_type": "code",
   "execution_count": 284,
   "metadata": {},
   "outputs": [
    {
     "data": {
      "text/html": [
       "<style>#sk-container-id-26 {color: black;background-color: white;}#sk-container-id-26 pre{padding: 0;}#sk-container-id-26 div.sk-toggleable {background-color: white;}#sk-container-id-26 label.sk-toggleable__label {cursor: pointer;display: block;width: 100%;margin-bottom: 0;padding: 0.3em;box-sizing: border-box;text-align: center;}#sk-container-id-26 label.sk-toggleable__label-arrow:before {content: \"▸\";float: left;margin-right: 0.25em;color: #696969;}#sk-container-id-26 label.sk-toggleable__label-arrow:hover:before {color: black;}#sk-container-id-26 div.sk-estimator:hover label.sk-toggleable__label-arrow:before {color: black;}#sk-container-id-26 div.sk-toggleable__content {max-height: 0;max-width: 0;overflow: hidden;text-align: left;background-color: #f0f8ff;}#sk-container-id-26 div.sk-toggleable__content pre {margin: 0.2em;color: black;border-radius: 0.25em;background-color: #f0f8ff;}#sk-container-id-26 input.sk-toggleable__control:checked~div.sk-toggleable__content {max-height: 200px;max-width: 100%;overflow: auto;}#sk-container-id-26 input.sk-toggleable__control:checked~label.sk-toggleable__label-arrow:before {content: \"▾\";}#sk-container-id-26 div.sk-estimator input.sk-toggleable__control:checked~label.sk-toggleable__label {background-color: #d4ebff;}#sk-container-id-26 div.sk-label input.sk-toggleable__control:checked~label.sk-toggleable__label {background-color: #d4ebff;}#sk-container-id-26 input.sk-hidden--visually {border: 0;clip: rect(1px 1px 1px 1px);clip: rect(1px, 1px, 1px, 1px);height: 1px;margin: -1px;overflow: hidden;padding: 0;position: absolute;width: 1px;}#sk-container-id-26 div.sk-estimator {font-family: monospace;background-color: #f0f8ff;border: 1px dotted black;border-radius: 0.25em;box-sizing: border-box;margin-bottom: 0.5em;}#sk-container-id-26 div.sk-estimator:hover {background-color: #d4ebff;}#sk-container-id-26 div.sk-parallel-item::after {content: \"\";width: 100%;border-bottom: 1px solid gray;flex-grow: 1;}#sk-container-id-26 div.sk-label:hover label.sk-toggleable__label {background-color: #d4ebff;}#sk-container-id-26 div.sk-serial::before {content: \"\";position: absolute;border-left: 1px solid gray;box-sizing: border-box;top: 0;bottom: 0;left: 50%;z-index: 0;}#sk-container-id-26 div.sk-serial {display: flex;flex-direction: column;align-items: center;background-color: white;padding-right: 0.2em;padding-left: 0.2em;position: relative;}#sk-container-id-26 div.sk-item {position: relative;z-index: 1;}#sk-container-id-26 div.sk-parallel {display: flex;align-items: stretch;justify-content: center;background-color: white;position: relative;}#sk-container-id-26 div.sk-item::before, #sk-container-id-26 div.sk-parallel-item::before {content: \"\";position: absolute;border-left: 1px solid gray;box-sizing: border-box;top: 0;bottom: 0;left: 50%;z-index: -1;}#sk-container-id-26 div.sk-parallel-item {display: flex;flex-direction: column;z-index: 1;position: relative;background-color: white;}#sk-container-id-26 div.sk-parallel-item:first-child::after {align-self: flex-end;width: 50%;}#sk-container-id-26 div.sk-parallel-item:last-child::after {align-self: flex-start;width: 50%;}#sk-container-id-26 div.sk-parallel-item:only-child::after {width: 0;}#sk-container-id-26 div.sk-dashed-wrapped {border: 1px dashed gray;margin: 0 0.4em 0.5em 0.4em;box-sizing: border-box;padding-bottom: 0.4em;background-color: white;}#sk-container-id-26 div.sk-label label {font-family: monospace;font-weight: bold;display: inline-block;line-height: 1.2em;}#sk-container-id-26 div.sk-label-container {text-align: center;}#sk-container-id-26 div.sk-container {/* jupyter's `normalize.less` sets `[hidden] { display: none; }` but bootstrap.min.css set `[hidden] { display: none !important; }` so we also need the `!important` here to be able to override the default hidden behavior on the sphinx rendered scikit-learn.org. See: https://github.com/scikit-learn/scikit-learn/issues/21755 */display: inline-block !important;position: relative;}#sk-container-id-26 div.sk-text-repr-fallback {display: none;}</style><div id=\"sk-container-id-26\" class=\"sk-top-container\"><div class=\"sk-text-repr-fallback\"><pre>RandomForestRegressor(max_depth=9, max_features=328, min_samples_leaf=7,\n",
       "                      random_state=1)</pre><b>In a Jupyter environment, please rerun this cell to show the HTML representation or trust the notebook. <br />On GitHub, the HTML representation is unable to render, please try loading this page with nbviewer.org.</b></div><div class=\"sk-container\" hidden><div class=\"sk-item\"><div class=\"sk-estimator sk-toggleable\"><input class=\"sk-toggleable__control sk-hidden--visually\" id=\"sk-estimator-id-26\" type=\"checkbox\" checked><label for=\"sk-estimator-id-26\" class=\"sk-toggleable__label sk-toggleable__label-arrow\">RandomForestRegressor</label><div class=\"sk-toggleable__content\"><pre>RandomForestRegressor(max_depth=9, max_features=328, min_samples_leaf=7,\n",
       "                      random_state=1)</pre></div></div></div></div></div>"
      ],
      "text/plain": [
       "RandomForestRegressor(max_depth=9, max_features=328, min_samples_leaf=7,\n",
       "                      random_state=1)"
      ]
     },
     "execution_count": 284,
     "metadata": {},
     "output_type": "execute_result"
    }
   ],
   "source": [
    "best_randomforest.fit(train_X, train_y)"
   ]
  },
  {
   "cell_type": "code",
   "execution_count": 285,
   "metadata": {},
   "outputs": [],
   "source": [
    "pred_y = best_randomforest.predict(test_X)"
   ]
  },
  {
   "cell_type": "code",
   "execution_count": 286,
   "metadata": {},
   "outputs": [
    {
     "name": "stdout",
     "output_type": "stream",
     "text": [
      "rmse 2915.580361255957\n"
     ]
    },
    {
     "data": {
      "text/plain": [
       "2915.580361255957"
      ]
     },
     "execution_count": 286,
     "metadata": {},
     "output_type": "execute_result"
    }
   ],
   "source": [
    "rmse(np.exp(pred_y), np.exp(test_y['TARGET_Weighted_RetailPrice']).values)"
   ]
  },
  {
   "cell_type": "code",
   "execution_count": 287,
   "metadata": {},
   "outputs": [
    {
     "data": {
      "text/plain": [
       "0.9382879750239846"
      ]
     },
     "execution_count": 287,
     "metadata": {},
     "output_type": "execute_result"
    }
   ],
   "source": [
    "r2_score(np.exp(pred_y), np.exp(test_y['TARGET_Weighted_RetailPrice']).values)"
   ]
  },
  {
   "cell_type": "code",
   "execution_count": 288,
   "metadata": {},
   "outputs": [],
   "source": [
    "RF_importances = best_randomforest.feature_importances_"
   ]
  },
  {
   "cell_type": "code",
   "execution_count": 289,
   "metadata": {},
   "outputs": [],
   "source": [
    "feature_names = list(X_featureimp.columns)"
   ]
  },
  {
   "cell_type": "code",
   "execution_count": 290,
   "metadata": {},
   "outputs": [],
   "source": [
    "RF_importances = pd.DataFrame(RF_importances, columns=['importances'], index=feature_names)"
   ]
  },
  {
   "cell_type": "code",
   "execution_count": 291,
   "metadata": {},
   "outputs": [
    {
     "data": {
      "text/html": [
       "<div>\n",
       "<style scoped>\n",
       "    .dataframe tbody tr th:only-of-type {\n",
       "        vertical-align: middle;\n",
       "    }\n",
       "\n",
       "    .dataframe tbody tr th {\n",
       "        vertical-align: top;\n",
       "    }\n",
       "\n",
       "    .dataframe thead th {\n",
       "        text-align: right;\n",
       "    }\n",
       "</style>\n",
       "<table border=\"1\" class=\"dataframe\">\n",
       "  <thead>\n",
       "    <tr style=\"text-align: right;\">\n",
       "      <th></th>\n",
       "      <th>importances</th>\n",
       "    </tr>\n",
       "  </thead>\n",
       "  <tbody>\n",
       "    <tr>\n",
       "      <th>MSRP_prevMY_WeightedByVol</th>\n",
       "      <td>0.528051</td>\n",
       "    </tr>\n",
       "    <tr>\n",
       "      <th>SPEC_maximum_torque_Nm</th>\n",
       "      <td>0.199531</td>\n",
       "    </tr>\n",
       "    <tr>\n",
       "      <th>SPEC_FRPGseat_reach_manual</th>\n",
       "      <td>0.109335</td>\n",
       "    </tr>\n",
       "    <tr>\n",
       "      <th>SPEC_Steering_plastic</th>\n",
       "      <td>0.014743</td>\n",
       "    </tr>\n",
       "    <tr>\n",
       "      <th>SPEC_wheelrim_width_inch</th>\n",
       "      <td>0.009937</td>\n",
       "    </tr>\n",
       "    <tr>\n",
       "      <th>...</th>\n",
       "      <td>...</td>\n",
       "    </tr>\n",
       "    <tr>\n",
       "      <th>SPEC_luxurytrim_instrumentpanel_suede</th>\n",
       "      <td>0.000000</td>\n",
       "    </tr>\n",
       "    <tr>\n",
       "      <th>SPEC_remote_air_conditioning_control</th>\n",
       "      <td>0.000000</td>\n",
       "    </tr>\n",
       "    <tr>\n",
       "      <th>SPEC_Charges</th>\n",
       "      <td>0.000000</td>\n",
       "    </tr>\n",
       "    <tr>\n",
       "      <th>SPEC_luxurytrim_centerconsole_suede</th>\n",
       "      <td>0.000000</td>\n",
       "    </tr>\n",
       "    <tr>\n",
       "      <th>SPEC_Rear_seat_belts</th>\n",
       "      <td>0.000000</td>\n",
       "    </tr>\n",
       "  </tbody>\n",
       "</table>\n",
       "<p>203 rows × 1 columns</p>\n",
       "</div>"
      ],
      "text/plain": [
       "                                       importances\n",
       "MSRP_prevMY_WeightedByVol                 0.528051\n",
       "SPEC_maximum_torque_Nm                    0.199531\n",
       "SPEC_FRPGseat_reach_manual                0.109335\n",
       "SPEC_Steering_plastic                     0.014743\n",
       "SPEC_wheelrim_width_inch                  0.009937\n",
       "...                                            ...\n",
       "SPEC_luxurytrim_instrumentpanel_suede     0.000000\n",
       "SPEC_remote_air_conditioning_control      0.000000\n",
       "SPEC_Charges                              0.000000\n",
       "SPEC_luxurytrim_centerconsole_suede       0.000000\n",
       "SPEC_Rear_seat_belts                      0.000000\n",
       "\n",
       "[203 rows x 1 columns]"
      ]
     },
     "execution_count": 291,
     "metadata": {},
     "output_type": "execute_result"
    }
   ],
   "source": [
    "RF_importances.sort_values(by='importances', ascending=False)"
   ]
  },
  {
   "attachments": {},
   "cell_type": "markdown",
   "metadata": {},
   "source": [
    "#### Adaboost result"
   ]
  },
  {
   "cell_type": "code",
   "execution_count": 292,
   "metadata": {},
   "outputs": [],
   "source": [
    "best_adaboost= AdaBoostRegressor(random_state=1, n_estimators=1000, learning_rate=1)\n",
    "# best_adaboost= AdaBoostRegressor(**result_dict_2['adaboost_param'])\n"
   ]
  },
  {
   "cell_type": "code",
   "execution_count": 293,
   "metadata": {},
   "outputs": [
    {
     "data": {
      "text/html": [
       "<style>#sk-container-id-27 {color: black;background-color: white;}#sk-container-id-27 pre{padding: 0;}#sk-container-id-27 div.sk-toggleable {background-color: white;}#sk-container-id-27 label.sk-toggleable__label {cursor: pointer;display: block;width: 100%;margin-bottom: 0;padding: 0.3em;box-sizing: border-box;text-align: center;}#sk-container-id-27 label.sk-toggleable__label-arrow:before {content: \"▸\";float: left;margin-right: 0.25em;color: #696969;}#sk-container-id-27 label.sk-toggleable__label-arrow:hover:before {color: black;}#sk-container-id-27 div.sk-estimator:hover label.sk-toggleable__label-arrow:before {color: black;}#sk-container-id-27 div.sk-toggleable__content {max-height: 0;max-width: 0;overflow: hidden;text-align: left;background-color: #f0f8ff;}#sk-container-id-27 div.sk-toggleable__content pre {margin: 0.2em;color: black;border-radius: 0.25em;background-color: #f0f8ff;}#sk-container-id-27 input.sk-toggleable__control:checked~div.sk-toggleable__content {max-height: 200px;max-width: 100%;overflow: auto;}#sk-container-id-27 input.sk-toggleable__control:checked~label.sk-toggleable__label-arrow:before {content: \"▾\";}#sk-container-id-27 div.sk-estimator input.sk-toggleable__control:checked~label.sk-toggleable__label {background-color: #d4ebff;}#sk-container-id-27 div.sk-label input.sk-toggleable__control:checked~label.sk-toggleable__label {background-color: #d4ebff;}#sk-container-id-27 input.sk-hidden--visually {border: 0;clip: rect(1px 1px 1px 1px);clip: rect(1px, 1px, 1px, 1px);height: 1px;margin: -1px;overflow: hidden;padding: 0;position: absolute;width: 1px;}#sk-container-id-27 div.sk-estimator {font-family: monospace;background-color: #f0f8ff;border: 1px dotted black;border-radius: 0.25em;box-sizing: border-box;margin-bottom: 0.5em;}#sk-container-id-27 div.sk-estimator:hover {background-color: #d4ebff;}#sk-container-id-27 div.sk-parallel-item::after {content: \"\";width: 100%;border-bottom: 1px solid gray;flex-grow: 1;}#sk-container-id-27 div.sk-label:hover label.sk-toggleable__label {background-color: #d4ebff;}#sk-container-id-27 div.sk-serial::before {content: \"\";position: absolute;border-left: 1px solid gray;box-sizing: border-box;top: 0;bottom: 0;left: 50%;z-index: 0;}#sk-container-id-27 div.sk-serial {display: flex;flex-direction: column;align-items: center;background-color: white;padding-right: 0.2em;padding-left: 0.2em;position: relative;}#sk-container-id-27 div.sk-item {position: relative;z-index: 1;}#sk-container-id-27 div.sk-parallel {display: flex;align-items: stretch;justify-content: center;background-color: white;position: relative;}#sk-container-id-27 div.sk-item::before, #sk-container-id-27 div.sk-parallel-item::before {content: \"\";position: absolute;border-left: 1px solid gray;box-sizing: border-box;top: 0;bottom: 0;left: 50%;z-index: -1;}#sk-container-id-27 div.sk-parallel-item {display: flex;flex-direction: column;z-index: 1;position: relative;background-color: white;}#sk-container-id-27 div.sk-parallel-item:first-child::after {align-self: flex-end;width: 50%;}#sk-container-id-27 div.sk-parallel-item:last-child::after {align-self: flex-start;width: 50%;}#sk-container-id-27 div.sk-parallel-item:only-child::after {width: 0;}#sk-container-id-27 div.sk-dashed-wrapped {border: 1px dashed gray;margin: 0 0.4em 0.5em 0.4em;box-sizing: border-box;padding-bottom: 0.4em;background-color: white;}#sk-container-id-27 div.sk-label label {font-family: monospace;font-weight: bold;display: inline-block;line-height: 1.2em;}#sk-container-id-27 div.sk-label-container {text-align: center;}#sk-container-id-27 div.sk-container {/* jupyter's `normalize.less` sets `[hidden] { display: none; }` but bootstrap.min.css set `[hidden] { display: none !important; }` so we also need the `!important` here to be able to override the default hidden behavior on the sphinx rendered scikit-learn.org. See: https://github.com/scikit-learn/scikit-learn/issues/21755 */display: inline-block !important;position: relative;}#sk-container-id-27 div.sk-text-repr-fallback {display: none;}</style><div id=\"sk-container-id-27\" class=\"sk-top-container\"><div class=\"sk-text-repr-fallback\"><pre>AdaBoostRegressor(learning_rate=1, n_estimators=1000, random_state=1)</pre><b>In a Jupyter environment, please rerun this cell to show the HTML representation or trust the notebook. <br />On GitHub, the HTML representation is unable to render, please try loading this page with nbviewer.org.</b></div><div class=\"sk-container\" hidden><div class=\"sk-item\"><div class=\"sk-estimator sk-toggleable\"><input class=\"sk-toggleable__control sk-hidden--visually\" id=\"sk-estimator-id-27\" type=\"checkbox\" checked><label for=\"sk-estimator-id-27\" class=\"sk-toggleable__label sk-toggleable__label-arrow\">AdaBoostRegressor</label><div class=\"sk-toggleable__content\"><pre>AdaBoostRegressor(learning_rate=1, n_estimators=1000, random_state=1)</pre></div></div></div></div></div>"
      ],
      "text/plain": [
       "AdaBoostRegressor(learning_rate=1, n_estimators=1000, random_state=1)"
      ]
     },
     "execution_count": 293,
     "metadata": {},
     "output_type": "execute_result"
    }
   ],
   "source": [
    "best_adaboost.fit(train_X, train_y)"
   ]
  },
  {
   "cell_type": "code",
   "execution_count": 294,
   "metadata": {},
   "outputs": [],
   "source": [
    "pred_y = best_adaboost.predict(test_X)"
   ]
  },
  {
   "cell_type": "code",
   "execution_count": 295,
   "metadata": {},
   "outputs": [
    {
     "name": "stdout",
     "output_type": "stream",
     "text": [
      "rmse 3359.025785689877\n"
     ]
    },
    {
     "data": {
      "text/plain": [
       "3359.025785689877"
      ]
     },
     "execution_count": 295,
     "metadata": {},
     "output_type": "execute_result"
    }
   ],
   "source": [
    "rmse(np.exp(pred_y), np.exp(test_y['TARGET_Weighted_RetailPrice']).values)"
   ]
  },
  {
   "cell_type": "code",
   "execution_count": 296,
   "metadata": {},
   "outputs": [
    {
     "data": {
      "text/plain": [
       "0.9145764109510816"
      ]
     },
     "execution_count": 296,
     "metadata": {},
     "output_type": "execute_result"
    }
   ],
   "source": [
    "r2_score(np.exp(pred_y), np.exp(test_y['TARGET_Weighted_RetailPrice']).values)"
   ]
  },
  {
   "cell_type": "code",
   "execution_count": 297,
   "metadata": {},
   "outputs": [],
   "source": [
    "AB_importances = best_adaboost.feature_importances_"
   ]
  },
  {
   "cell_type": "code",
   "execution_count": 298,
   "metadata": {},
   "outputs": [],
   "source": [
    "AB_importances = pd.DataFrame(AB_importances, columns=['importances'], index=feature_names)"
   ]
  },
  {
   "cell_type": "code",
   "execution_count": 299,
   "metadata": {},
   "outputs": [
    {
     "data": {
      "text/html": [
       "<div>\n",
       "<style scoped>\n",
       "    .dataframe tbody tr th:only-of-type {\n",
       "        vertical-align: middle;\n",
       "    }\n",
       "\n",
       "    .dataframe tbody tr th {\n",
       "        vertical-align: top;\n",
       "    }\n",
       "\n",
       "    .dataframe thead th {\n",
       "        text-align: right;\n",
       "    }\n",
       "</style>\n",
       "<table border=\"1\" class=\"dataframe\">\n",
       "  <thead>\n",
       "    <tr style=\"text-align: right;\">\n",
       "      <th></th>\n",
       "      <th>importances</th>\n",
       "    </tr>\n",
       "  </thead>\n",
       "  <tbody>\n",
       "    <tr>\n",
       "      <th>SPEC_maximum_torque_Nm</th>\n",
       "      <td>0.326744</td>\n",
       "    </tr>\n",
       "    <tr>\n",
       "      <th>MSRP_prevMY_WeightedByVol</th>\n",
       "      <td>0.208722</td>\n",
       "    </tr>\n",
       "    <tr>\n",
       "      <th>SPEC_wheelrim_width_inch</th>\n",
       "      <td>0.118713</td>\n",
       "    </tr>\n",
       "    <tr>\n",
       "      <th>SPEC_rain_sensor</th>\n",
       "      <td>0.051773</td>\n",
       "    </tr>\n",
       "    <tr>\n",
       "      <th>SPEC_doormirror_autodimming</th>\n",
       "      <td>0.050974</td>\n",
       "    </tr>\n",
       "    <tr>\n",
       "      <th>...</th>\n",
       "      <td>...</td>\n",
       "    </tr>\n",
       "    <tr>\n",
       "      <th>SPEC_Tachometer</th>\n",
       "      <td>0.000000</td>\n",
       "    </tr>\n",
       "    <tr>\n",
       "      <th>SPEC_luxurytrim_centerconsole_gloss</th>\n",
       "      <td>0.000000</td>\n",
       "    </tr>\n",
       "    <tr>\n",
       "      <th>SPEC_configuration_V</th>\n",
       "      <td>0.000000</td>\n",
       "    </tr>\n",
       "    <tr>\n",
       "      <th>SPEC_Differential_lock</th>\n",
       "      <td>0.000000</td>\n",
       "    </tr>\n",
       "    <tr>\n",
       "      <th>SPEC_Enginetype_combustion</th>\n",
       "      <td>0.000000</td>\n",
       "    </tr>\n",
       "  </tbody>\n",
       "</table>\n",
       "<p>203 rows × 1 columns</p>\n",
       "</div>"
      ],
      "text/plain": [
       "                                     importances\n",
       "SPEC_maximum_torque_Nm                  0.326744\n",
       "MSRP_prevMY_WeightedByVol               0.208722\n",
       "SPEC_wheelrim_width_inch                0.118713\n",
       "SPEC_rain_sensor                        0.051773\n",
       "SPEC_doormirror_autodimming             0.050974\n",
       "...                                          ...\n",
       "SPEC_Tachometer                         0.000000\n",
       "SPEC_luxurytrim_centerconsole_gloss     0.000000\n",
       "SPEC_configuration_V                    0.000000\n",
       "SPEC_Differential_lock                  0.000000\n",
       "SPEC_Enginetype_combustion              0.000000\n",
       "\n",
       "[203 rows x 1 columns]"
      ]
     },
     "execution_count": 299,
     "metadata": {},
     "output_type": "execute_result"
    }
   ],
   "source": [
    "AB_importances.sort_values(by='importances', ascending=False)"
   ]
  },
  {
   "attachments": {},
   "cell_type": "markdown",
   "metadata": {},
   "source": [
    "#### XGboost result"
   ]
  },
  {
   "cell_type": "code",
   "execution_count": 300,
   "metadata": {},
   "outputs": [],
   "source": [
    "best_xgboost = xgb.XGBRegressor(random_state=1, n_estimators=1000, max_depth=3, learning_rate=0.1, gamma=0.0)\n",
    "# best_xgboost = xgb.XGBRegressor(**result_dict_2['xgboost_param'])"
   ]
  },
  {
   "cell_type": "code",
   "execution_count": 301,
   "metadata": {},
   "outputs": [
    {
     "data": {
      "text/html": [
       "<style>#sk-container-id-28 {color: black;background-color: white;}#sk-container-id-28 pre{padding: 0;}#sk-container-id-28 div.sk-toggleable {background-color: white;}#sk-container-id-28 label.sk-toggleable__label {cursor: pointer;display: block;width: 100%;margin-bottom: 0;padding: 0.3em;box-sizing: border-box;text-align: center;}#sk-container-id-28 label.sk-toggleable__label-arrow:before {content: \"▸\";float: left;margin-right: 0.25em;color: #696969;}#sk-container-id-28 label.sk-toggleable__label-arrow:hover:before {color: black;}#sk-container-id-28 div.sk-estimator:hover label.sk-toggleable__label-arrow:before {color: black;}#sk-container-id-28 div.sk-toggleable__content {max-height: 0;max-width: 0;overflow: hidden;text-align: left;background-color: #f0f8ff;}#sk-container-id-28 div.sk-toggleable__content pre {margin: 0.2em;color: black;border-radius: 0.25em;background-color: #f0f8ff;}#sk-container-id-28 input.sk-toggleable__control:checked~div.sk-toggleable__content {max-height: 200px;max-width: 100%;overflow: auto;}#sk-container-id-28 input.sk-toggleable__control:checked~label.sk-toggleable__label-arrow:before {content: \"▾\";}#sk-container-id-28 div.sk-estimator input.sk-toggleable__control:checked~label.sk-toggleable__label {background-color: #d4ebff;}#sk-container-id-28 div.sk-label input.sk-toggleable__control:checked~label.sk-toggleable__label {background-color: #d4ebff;}#sk-container-id-28 input.sk-hidden--visually {border: 0;clip: rect(1px 1px 1px 1px);clip: rect(1px, 1px, 1px, 1px);height: 1px;margin: -1px;overflow: hidden;padding: 0;position: absolute;width: 1px;}#sk-container-id-28 div.sk-estimator {font-family: monospace;background-color: #f0f8ff;border: 1px dotted black;border-radius: 0.25em;box-sizing: border-box;margin-bottom: 0.5em;}#sk-container-id-28 div.sk-estimator:hover {background-color: #d4ebff;}#sk-container-id-28 div.sk-parallel-item::after {content: \"\";width: 100%;border-bottom: 1px solid gray;flex-grow: 1;}#sk-container-id-28 div.sk-label:hover label.sk-toggleable__label {background-color: #d4ebff;}#sk-container-id-28 div.sk-serial::before {content: \"\";position: absolute;border-left: 1px solid gray;box-sizing: border-box;top: 0;bottom: 0;left: 50%;z-index: 0;}#sk-container-id-28 div.sk-serial {display: flex;flex-direction: column;align-items: center;background-color: white;padding-right: 0.2em;padding-left: 0.2em;position: relative;}#sk-container-id-28 div.sk-item {position: relative;z-index: 1;}#sk-container-id-28 div.sk-parallel {display: flex;align-items: stretch;justify-content: center;background-color: white;position: relative;}#sk-container-id-28 div.sk-item::before, #sk-container-id-28 div.sk-parallel-item::before {content: \"\";position: absolute;border-left: 1px solid gray;box-sizing: border-box;top: 0;bottom: 0;left: 50%;z-index: -1;}#sk-container-id-28 div.sk-parallel-item {display: flex;flex-direction: column;z-index: 1;position: relative;background-color: white;}#sk-container-id-28 div.sk-parallel-item:first-child::after {align-self: flex-end;width: 50%;}#sk-container-id-28 div.sk-parallel-item:last-child::after {align-self: flex-start;width: 50%;}#sk-container-id-28 div.sk-parallel-item:only-child::after {width: 0;}#sk-container-id-28 div.sk-dashed-wrapped {border: 1px dashed gray;margin: 0 0.4em 0.5em 0.4em;box-sizing: border-box;padding-bottom: 0.4em;background-color: white;}#sk-container-id-28 div.sk-label label {font-family: monospace;font-weight: bold;display: inline-block;line-height: 1.2em;}#sk-container-id-28 div.sk-label-container {text-align: center;}#sk-container-id-28 div.sk-container {/* jupyter's `normalize.less` sets `[hidden] { display: none; }` but bootstrap.min.css set `[hidden] { display: none !important; }` so we also need the `!important` here to be able to override the default hidden behavior on the sphinx rendered scikit-learn.org. See: https://github.com/scikit-learn/scikit-learn/issues/21755 */display: inline-block !important;position: relative;}#sk-container-id-28 div.sk-text-repr-fallback {display: none;}</style><div id=\"sk-container-id-28\" class=\"sk-top-container\"><div class=\"sk-text-repr-fallback\"><pre>XGBRegressor(base_score=None, booster=None, callbacks=None,\n",
       "             colsample_bylevel=None, colsample_bynode=None,\n",
       "             colsample_bytree=None, early_stopping_rounds=None,\n",
       "             enable_categorical=False, eval_metric=None, feature_types=None,\n",
       "             gamma=0.0, gpu_id=None, grow_policy=None, importance_type=None,\n",
       "             interaction_constraints=None, learning_rate=0.1, max_bin=None,\n",
       "             max_cat_threshold=None, max_cat_to_onehot=None,\n",
       "             max_delta_step=None, max_depth=3, max_leaves=None,\n",
       "             min_child_weight=None, missing=nan, monotone_constraints=None,\n",
       "             n_estimators=1000, n_jobs=None, num_parallel_tree=None,\n",
       "             predictor=None, random_state=1, ...)</pre><b>In a Jupyter environment, please rerun this cell to show the HTML representation or trust the notebook. <br />On GitHub, the HTML representation is unable to render, please try loading this page with nbviewer.org.</b></div><div class=\"sk-container\" hidden><div class=\"sk-item\"><div class=\"sk-estimator sk-toggleable\"><input class=\"sk-toggleable__control sk-hidden--visually\" id=\"sk-estimator-id-28\" type=\"checkbox\" checked><label for=\"sk-estimator-id-28\" class=\"sk-toggleable__label sk-toggleable__label-arrow\">XGBRegressor</label><div class=\"sk-toggleable__content\"><pre>XGBRegressor(base_score=None, booster=None, callbacks=None,\n",
       "             colsample_bylevel=None, colsample_bynode=None,\n",
       "             colsample_bytree=None, early_stopping_rounds=None,\n",
       "             enable_categorical=False, eval_metric=None, feature_types=None,\n",
       "             gamma=0.0, gpu_id=None, grow_policy=None, importance_type=None,\n",
       "             interaction_constraints=None, learning_rate=0.1, max_bin=None,\n",
       "             max_cat_threshold=None, max_cat_to_onehot=None,\n",
       "             max_delta_step=None, max_depth=3, max_leaves=None,\n",
       "             min_child_weight=None, missing=nan, monotone_constraints=None,\n",
       "             n_estimators=1000, n_jobs=None, num_parallel_tree=None,\n",
       "             predictor=None, random_state=1, ...)</pre></div></div></div></div></div>"
      ],
      "text/plain": [
       "XGBRegressor(base_score=None, booster=None, callbacks=None,\n",
       "             colsample_bylevel=None, colsample_bynode=None,\n",
       "             colsample_bytree=None, early_stopping_rounds=None,\n",
       "             enable_categorical=False, eval_metric=None, feature_types=None,\n",
       "             gamma=0.0, gpu_id=None, grow_policy=None, importance_type=None,\n",
       "             interaction_constraints=None, learning_rate=0.1, max_bin=None,\n",
       "             max_cat_threshold=None, max_cat_to_onehot=None,\n",
       "             max_delta_step=None, max_depth=3, max_leaves=None,\n",
       "             min_child_weight=None, missing=nan, monotone_constraints=None,\n",
       "             n_estimators=1000, n_jobs=None, num_parallel_tree=None,\n",
       "             predictor=None, random_state=1, ...)"
      ]
     },
     "execution_count": 301,
     "metadata": {},
     "output_type": "execute_result"
    }
   ],
   "source": [
    "best_xgboost.fit(train_X, train_y)"
   ]
  },
  {
   "cell_type": "code",
   "execution_count": 302,
   "metadata": {},
   "outputs": [],
   "source": [
    "pred_y = best_xgboost.predict(test_X)"
   ]
  },
  {
   "cell_type": "code",
   "execution_count": 303,
   "metadata": {},
   "outputs": [
    {
     "name": "stdout",
     "output_type": "stream",
     "text": [
      "rmse 2042.8702972557899\n"
     ]
    },
    {
     "data": {
      "text/plain": [
       "2042.8702972557899"
      ]
     },
     "execution_count": 303,
     "metadata": {},
     "output_type": "execute_result"
    }
   ],
   "source": [
    "rmse(np.exp(pred_y), np.exp(test_y['TARGET_Weighted_RetailPrice']).values)"
   ]
  },
  {
   "cell_type": "code",
   "execution_count": 304,
   "metadata": {},
   "outputs": [
    {
     "data": {
      "text/plain": [
       "0.9715187576450373"
      ]
     },
     "execution_count": 304,
     "metadata": {},
     "output_type": "execute_result"
    }
   ],
   "source": [
    "r2_score(np.exp(pred_y), np.exp(test_y['TARGET_Weighted_RetailPrice']).values)"
   ]
  },
  {
   "attachments": {},
   "cell_type": "markdown",
   "metadata": {},
   "source": [
    "### Model with reduced variables of Intersections (109 variables)"
   ]
  },
  {
   "cell_type": "code",
   "execution_count": 305,
   "metadata": {},
   "outputs": [],
   "source": [
    "featureimp_variables = list(set(RF_vars).intersection(set(XGB_vars)).intersection(set(AB_vars)))"
   ]
  },
  {
   "cell_type": "code",
   "execution_count": 306,
   "metadata": {},
   "outputs": [
    {
     "data": {
      "text/plain": [
       "109"
      ]
     },
     "execution_count": 306,
     "metadata": {},
     "output_type": "execute_result"
    }
   ],
   "source": [
    "len(featureimp_variables)"
   ]
  },
  {
   "cell_type": "code",
   "execution_count": 307,
   "metadata": {},
   "outputs": [],
   "source": [
    "pd.DataFrame(featureimp_variables).to_csv('variables_intersections_'+model_name+'.csv', index=False)"
   ]
  },
  {
   "cell_type": "code",
   "execution_count": 308,
   "metadata": {},
   "outputs": [],
   "source": [
    "X = df_ml.drop(target, axis=1)"
   ]
  },
  {
   "cell_type": "code",
   "execution_count": 309,
   "metadata": {},
   "outputs": [],
   "source": [
    "X_featureimp = X[featureimp_variables]"
   ]
  },
  {
   "cell_type": "code",
   "execution_count": 310,
   "metadata": {},
   "outputs": [],
   "source": [
    "y = df_ml[[target]]"
   ]
  },
  {
   "cell_type": "code",
   "execution_count": 311,
   "metadata": {},
   "outputs": [],
   "source": [
    "y = np.log(y)"
   ]
  },
  {
   "cell_type": "code",
   "execution_count": 312,
   "metadata": {},
   "outputs": [],
   "source": [
    "train_X, test_X, train_y, test_y = train_test_split(X_featureimp, y, train_size=0.7, test_size=0.3, random_state=42)"
   ]
  },
  {
   "cell_type": "code",
   "execution_count": 313,
   "metadata": {},
   "outputs": [
    {
     "name": "stdout",
     "output_type": "stream",
     "text": [
      "random_forest\n",
      "rsquare 0.9573679493397602\n",
      "rsquare 0.9530318111758034\n",
      "rsquare 0.9561363077640179\n",
      "rsquare 0.954421740054278\n",
      "rsquare 0.9493070792508518\n",
      "rsquare 0.9426181645854552\n",
      "rsquare 0.9488527458725826\n",
      "rsquare 0.9515924814350262\n",
      "rsquare 0.9262424135558188\n",
      "rsquare 0.9447946779919868\n",
      "rsquare 0.9431117176709859\n",
      "rsquare 0.9356308864377189\n",
      "rsquare 0.9390215696446282\n",
      "rsquare 0.9401094359267453\n",
      "rsquare 0.9358293936634692\n",
      "rsquare 0.9239212678433095\n",
      "rsquare 0.9340473041262596\n",
      "rsquare 0.9331702267351469\n",
      "rsquare 0.9072668673613585\n",
      "rsquare 0.9267821957326141\n",
      "rsquare 0.9483455067014428\n",
      "rsquare 0.9412829157866107\n",
      "rsquare 0.9475319495703973\n",
      "rsquare 0.945758823944639\n",
      "rsquare 0.9413835222952609\n",
      "rsquare 0.9316742579917959\n",
      "rsquare 0.9383801641323531\n",
      "rsquare 0.9420726167414077\n",
      "rsquare 0.9153903353553097\n",
      "rsquare 0.933232163358506\n",
      "rsquare 0.8773842934424833\n",
      "rsquare 0.8494488857964756\n",
      "rsquare 0.8551477188206915\n",
      "rsquare 0.8653785230556997\n",
      "rsquare 0.8596555062429384\n",
      "rsquare 0.8501381976328223\n",
      "rsquare 0.8558424834120137\n",
      "rsquare 0.859042295809797\n",
      "rsquare 0.8358300423456834\n",
      "rsquare 0.856905838076882\n",
      "rsquare 0.8584315045344513\n",
      "rsquare 0.8221334362533783\n",
      "rsquare 0.8175157487435768\n",
      "rsquare 0.8437837531515877\n",
      "rsquare 0.8434516692991811\n",
      "rsquare 0.8302255685594045\n",
      "rsquare 0.834443024758509\n",
      "rsquare 0.8374411513122911\n",
      "rsquare 0.8037904966582233\n",
      "rsquare 0.8354586497330395\n",
      "rsquare 0.9486651429421186\n",
      "rsquare 0.9467353394540691\n",
      "rsquare 0.9427450320602077\n",
      "rsquare 0.9453206940532848\n",
      "rsquare 0.9439479002481312\n",
      "rsquare 0.9327434923400987\n",
      "rsquare 0.9426453500881689\n",
      "rsquare 0.9363909749840174\n",
      "rsquare 0.9236668634870399\n",
      "rsquare 0.9363246853734306\n",
      "rsquare 0.9364074456625794\n",
      "rsquare 0.9283071529418461\n",
      "rsquare 0.9316131945045955\n",
      "rsquare 0.9297730058734991\n",
      "rsquare 0.9302427435888684\n",
      "rsquare 0.9144840116420877\n",
      "rsquare 0.925102454372383\n",
      "rsquare 0.9266587113133273\n",
      "rsquare 0.9124360404956188\n",
      "rsquare 0.9220382686408317\n",
      "rsquare 0.9565284356272357\n",
      "rsquare 0.9515473807161783\n",
      "rsquare 0.9552259086371945\n",
      "rsquare 0.9531410286801422\n",
      "rsquare 0.9483921538146208\n",
      "rsquare 0.9414202633528285\n",
      "rsquare 0.9476744967991733\n",
      "rsquare 0.950440038905914\n",
      "rsquare 0.9247822021358405\n",
      "rsquare 0.943395722782991\n",
      "rsquare 0.9310289338476382\n",
      "rsquare 0.9263717491452551\n",
      "rsquare 0.9209138604147432\n",
      "rsquare 0.9256327139163399\n",
      "rsquare 0.9268788972768022\n",
      "rsquare 0.9095002824116984\n",
      "rsquare 0.9234453014161883\n",
      "rsquare 0.9116933890862453\n",
      "rsquare 0.9009295701643802\n",
      "rsquare 0.9163839989090392\n",
      "rsquare 0.95664557213984\n",
      "rsquare 0.9498731279869362\n",
      "rsquare 0.954227206694929\n",
      "rsquare 0.9513150981810046\n",
      "rsquare 0.9479767733830923\n",
      "rsquare 0.9407250680761249\n",
      "rsquare 0.9455716535649559\n",
      "rsquare 0.9496118687848825\n",
      "rsquare 0.9219905421443383\n",
      "rsquare 0.9418467955466322\n",
      "Best CV params {'random_state': 1, 'n_estimators': 100, 'min_samples_leaf': 15, 'max_features': 124, 'max_depth': 9}\n",
      "Best CV Rsquare 0.948436537102558\n",
      "rsquare 0.963024423093375\n",
      "Best train Rsquare 0.963024423093375\n",
      "rsquare 0.9501349767242545\n",
      "Test RMSE of best random search hypers: 0.9501349767242545\n",
      "rsquare 0.9501349767242545\n",
      "rsquare 0.963024423093375\n",
      "adaboost\n",
      "rsquare 0.8380312765049629\n",
      "rsquare 0.8003373620416674\n",
      "rsquare 0.7966132624300777\n",
      "rsquare 0.8224026812105227\n",
      "rsquare 0.8281031215432705\n",
      "rsquare 0.8152169373393382\n",
      "rsquare 0.8190968155368601\n",
      "rsquare 0.8198965130066688\n",
      "rsquare 0.7850090835888193\n",
      "rsquare 0.8168250823340484\n",
      "rsquare 0.8619557162385119\n",
      "rsquare 0.8277464104053897\n",
      "rsquare 0.8242108297245297\n",
      "rsquare 0.8421439109462171\n",
      "rsquare 0.837911778702024\n",
      "rsquare 0.8262393646503177\n",
      "rsquare 0.8279362720125931\n",
      "rsquare 0.8396803758696225\n",
      "rsquare 0.795793996219078\n",
      "rsquare 0.8296799836753276\n",
      "rsquare 0.9379574333661231\n",
      "rsquare 0.9338734129405474\n",
      "rsquare 0.9270364319042607\n",
      "rsquare 0.9381500555115478\n",
      "rsquare 0.9321570389888656\n",
      "rsquare 0.9204837740298308\n",
      "rsquare 0.92641042197941\n",
      "rsquare 0.9250353203667697\n",
      "rsquare 0.9235652112488417\n",
      "rsquare 0.926165728579684\n",
      "rsquare 0.8653379171765123\n",
      "rsquare 0.8087437836426787\n",
      "rsquare 0.8268976803360271\n",
      "rsquare 0.8572355122172146\n",
      "rsquare 0.8314254806154837\n",
      "rsquare 0.8308285235740549\n",
      "rsquare 0.8199665914570414\n",
      "rsquare 0.8418547965457388\n",
      "rsquare 0.7958666911783928\n",
      "rsquare 0.8239545051112162\n",
      "rsquare 0.8986611767671161\n",
      "rsquare 0.9006109487478294\n",
      "rsquare 0.8866088897155763\n",
      "rsquare 0.9067308938697647\n",
      "rsquare 0.9000903198581313\n",
      "rsquare 0.8803879353380957\n",
      "rsquare 0.8937427181051484\n",
      "rsquare 0.8908108232487445\n",
      "rsquare 0.8850725878504226\n",
      "rsquare 0.8918763443143839\n",
      "rsquare 0.8315475241575785\n",
      "rsquare 0.7950174841973281\n",
      "rsquare 0.7919145428975121\n",
      "rsquare 0.8150866068970146\n",
      "rsquare 0.8239891926396462\n",
      "rsquare 0.8120484107832466\n",
      "rsquare 0.814622508060181\n",
      "rsquare 0.8193658618191626\n",
      "rsquare 0.7765804056180698\n",
      "rsquare 0.8091904690887644\n",
      "rsquare 0.9012909353177023\n",
      "rsquare 0.9011166895602783\n",
      "rsquare 0.8916227045019172\n",
      "rsquare 0.907180702328078\n",
      "rsquare 0.9007500222538011\n",
      "rsquare 0.879096059786532\n",
      "rsquare 0.894334899013612\n",
      "rsquare 0.8925051963297881\n",
      "rsquare 0.8854291049770749\n",
      "rsquare 0.8933907503192857\n",
      "rsquare 0.8291289172034153\n",
      "rsquare 0.7967183082486419\n",
      "rsquare 0.7937177746204194\n",
      "rsquare 0.818259216954944\n",
      "rsquare 0.8222558943989913\n",
      "rsquare 0.8094545738929597\n",
      "rsquare 0.8140234073825425\n",
      "rsquare 0.8195810466572637\n",
      "rsquare 0.7696150245128225\n",
      "rsquare 0.8063425780869882\n",
      "rsquare 0.8900936525328257\n",
      "rsquare 0.8807394508122003\n",
      "rsquare 0.8793790267099519\n",
      "rsquare 0.8911325356456656\n",
      "rsquare 0.8851690216719703\n",
      "rsquare 0.8679445784644579\n",
      "rsquare 0.8821104318714861\n",
      "rsquare 0.877087866789063\n",
      "rsquare 0.8682091974339703\n",
      "rsquare 0.8752388382705345\n",
      "rsquare 0.8307830477875937\n",
      "rsquare 0.7946579309198201\n",
      "rsquare 0.7905017572537842\n",
      "rsquare 0.8151870881896217\n",
      "rsquare 0.8241131398343375\n",
      "rsquare 0.8120281020895312\n",
      "rsquare 0.814809371849837\n",
      "rsquare 0.8194243719455032\n",
      "rsquare 0.7721757376037639\n",
      "rsquare 0.8102131561121018\n",
      "Best CV params {'random_state': 1, 'n_estimators': 1000, 'learning_rate': 0.1}\n",
      "Best CV Rsquare 0.9290834828915882\n",
      "rsquare 0.9341878484353198\n",
      "Best train Rsquare 0.9341878484353198\n",
      "rsquare 0.9315335649525687\n",
      "Test RMSE of best random search hypers: 0.9315335649525687\n",
      "rsquare 0.9315335649525687\n",
      "rsquare 0.9341878484353198\n",
      "xgboost\n",
      "rsquare 0.9261441581491072\n",
      "rsquare 0.9058139080320758\n",
      "rsquare 0.9243573919650836\n",
      "rsquare 0.9262468304520608\n",
      "rsquare 0.9136436917162132\n",
      "rsquare 0.9102399135993305\n",
      "rsquare 0.9072702870157627\n",
      "rsquare 0.9200363921426052\n",
      "rsquare 0.9039790423823391\n",
      "rsquare 0.9154675025205327\n",
      "rsquare 0.8549548926823944\n",
      "rsquare 0.8297676433286059\n",
      "rsquare 0.8608808958689222\n",
      "rsquare 0.8529330061248689\n",
      "rsquare 0.8478371878456525\n",
      "rsquare 0.8417031372686885\n",
      "rsquare 0.829496630857703\n",
      "rsquare 0.8633842840053185\n",
      "rsquare 0.8296683541580646\n",
      "rsquare 0.8495602134197744\n",
      "rsquare 0.9842270037205859\n",
      "rsquare 0.9846224526123386\n",
      "rsquare 0.9843529266734585\n",
      "rsquare 0.9817864098192771\n",
      "rsquare 0.9813848048647416\n",
      "rsquare 0.97877686755517\n",
      "rsquare 0.9747885751566382\n",
      "rsquare 0.980379074419037\n",
      "rsquare 0.9801702071038743\n",
      "rsquare 0.9807515434690107\n",
      "rsquare 0.8496253628065188\n",
      "rsquare 0.829054289850641\n",
      "rsquare 0.8560881377960061\n",
      "rsquare 0.8383703956219517\n",
      "rsquare 0.8314711877040966\n",
      "rsquare 0.8305637133367679\n",
      "rsquare 0.8527857196826107\n",
      "rsquare 0.8504681437160803\n",
      "rsquare 0.7918195844688231\n",
      "rsquare 0.8618774927103858\n",
      "rsquare 0.7860015760051539\n",
      "rsquare 0.7461773304858581\n",
      "rsquare 0.7346174754125221\n",
      "rsquare 0.7827482214411998\n",
      "rsquare 0.7696197903925797\n",
      "rsquare 0.7818193709007775\n",
      "rsquare 0.7610110787196851\n",
      "rsquare 0.7669303622780679\n",
      "rsquare 0.7387167361312715\n",
      "rsquare 0.7457345848818248\n",
      "rsquare -460.9186945754716\n",
      "rsquare -498.0258342776486\n",
      "rsquare -581.5826953151804\n",
      "rsquare -474.05475467672085\n",
      "rsquare -530.5204957746681\n",
      "rsquare -495.8003736092801\n",
      "rsquare -474.09239801792745\n",
      "rsquare -597.4554525957507\n",
      "rsquare -549.5017293631442\n",
      "rsquare -552.680151956141\n",
      "rsquare 0.8549548926823944\n",
      "rsquare 0.8297676433286059\n",
      "rsquare 0.8608808958689222\n",
      "rsquare 0.8529330061248689\n",
      "rsquare 0.8478371878456525\n",
      "rsquare 0.8417031372686885\n",
      "rsquare 0.829496630857703\n",
      "rsquare 0.8633842840053185\n",
      "rsquare 0.8296683541580646\n",
      "rsquare 0.8495602134197744\n",
      "rsquare -1136.5958891224905\n",
      "rsquare -1224.4245087762044\n",
      "rsquare -1433.1546374794552\n",
      "rsquare -1167.0005223142684\n",
      "rsquare -1304.4074006357737\n",
      "rsquare -1219.5246581763886\n",
      "rsquare -1167.9534460526372\n",
      "rsquare -1470.7165219032224\n",
      "rsquare -1349.179383949557\n",
      "rsquare -1358.2404159645341\n",
      "rsquare -688.4194899454369\n",
      "rsquare -742.8885947963557\n",
      "rsquare -868.4750502784397\n",
      "rsquare -707.5152374382544\n",
      "rsquare -791.5448748219704\n",
      "rsquare -739.5929736558556\n",
      "rsquare -707.8601354483463\n",
      "rsquare -891.7132277857586\n",
      "rsquare -819.0472602208495\n",
      "rsquare -824.2172389479283\n",
      "rsquare -1027.2090368296776\n",
      "rsquare -1106.9479615948746\n",
      "rsquare -1295.436826013374\n",
      "rsquare -1054.797331969692\n",
      "rsquare -1179.3932151122347\n",
      "rsquare -1102.391846427829\n",
      "rsquare -1055.5740912490382\n",
      "rsquare -1329.4568128603305\n",
      "rsquare -1219.8336958130467\n",
      "rsquare -1227.979615338467\n",
      "Best CV params {'random_state': 1, 'n_estimators': 100, 'max_depth': 7, 'learning_rate': 0.1, 'gamma': 0.0}\n",
      "Best CV Rsquare 0.9811239865394132\n",
      "rsquare 0.9946869901568309\n",
      "Best train Rsquare 0.9946869901568309\n",
      "rsquare 0.9822197536742625\n",
      "Test RMSE of best random search hypers: 0.9822197536742625\n",
      "rsquare 0.9822197536742625\n",
      "rsquare 0.9946869901568309\n"
     ]
    }
   ],
   "source": [
    "result_dict_3 = {}\n",
    "for model in model_list:\n",
    "    print(model)\n",
    "    result_dict_3[model + '_param'], \\\n",
    "    result_dict_3[model + '_cvacc'], \\\n",
    "    result_dict_3[model + '_testacc'],\\\n",
    "    result_dict_3[model + '_trainacc'] \\\n",
    "    = randomsearchRegression(models_dict[model], parameters_dct[model])"
   ]
  },
  {
   "attachments": {},
   "cell_type": "markdown",
   "metadata": {},
   "source": [
    "#### Random Forest result"
   ]
  },
  {
   "cell_type": "code",
   "execution_count": 314,
   "metadata": {},
   "outputs": [],
   "source": [
    "# best_randomforest = RandomForestRegressor(random_state= 1, n_estimators= 300, min_samples_leaf= 8, max_features= 26, max_depth= 10)\n",
    "best_randomforest = RandomForestRegressor(**result_dict_3['random_forest_param'])"
   ]
  },
  {
   "cell_type": "code",
   "execution_count": 315,
   "metadata": {},
   "outputs": [
    {
     "data": {
      "text/html": [
       "<style>#sk-container-id-29 {color: black;background-color: white;}#sk-container-id-29 pre{padding: 0;}#sk-container-id-29 div.sk-toggleable {background-color: white;}#sk-container-id-29 label.sk-toggleable__label {cursor: pointer;display: block;width: 100%;margin-bottom: 0;padding: 0.3em;box-sizing: border-box;text-align: center;}#sk-container-id-29 label.sk-toggleable__label-arrow:before {content: \"▸\";float: left;margin-right: 0.25em;color: #696969;}#sk-container-id-29 label.sk-toggleable__label-arrow:hover:before {color: black;}#sk-container-id-29 div.sk-estimator:hover label.sk-toggleable__label-arrow:before {color: black;}#sk-container-id-29 div.sk-toggleable__content {max-height: 0;max-width: 0;overflow: hidden;text-align: left;background-color: #f0f8ff;}#sk-container-id-29 div.sk-toggleable__content pre {margin: 0.2em;color: black;border-radius: 0.25em;background-color: #f0f8ff;}#sk-container-id-29 input.sk-toggleable__control:checked~div.sk-toggleable__content {max-height: 200px;max-width: 100%;overflow: auto;}#sk-container-id-29 input.sk-toggleable__control:checked~label.sk-toggleable__label-arrow:before {content: \"▾\";}#sk-container-id-29 div.sk-estimator input.sk-toggleable__control:checked~label.sk-toggleable__label {background-color: #d4ebff;}#sk-container-id-29 div.sk-label input.sk-toggleable__control:checked~label.sk-toggleable__label {background-color: #d4ebff;}#sk-container-id-29 input.sk-hidden--visually {border: 0;clip: rect(1px 1px 1px 1px);clip: rect(1px, 1px, 1px, 1px);height: 1px;margin: -1px;overflow: hidden;padding: 0;position: absolute;width: 1px;}#sk-container-id-29 div.sk-estimator {font-family: monospace;background-color: #f0f8ff;border: 1px dotted black;border-radius: 0.25em;box-sizing: border-box;margin-bottom: 0.5em;}#sk-container-id-29 div.sk-estimator:hover {background-color: #d4ebff;}#sk-container-id-29 div.sk-parallel-item::after {content: \"\";width: 100%;border-bottom: 1px solid gray;flex-grow: 1;}#sk-container-id-29 div.sk-label:hover label.sk-toggleable__label {background-color: #d4ebff;}#sk-container-id-29 div.sk-serial::before {content: \"\";position: absolute;border-left: 1px solid gray;box-sizing: border-box;top: 0;bottom: 0;left: 50%;z-index: 0;}#sk-container-id-29 div.sk-serial {display: flex;flex-direction: column;align-items: center;background-color: white;padding-right: 0.2em;padding-left: 0.2em;position: relative;}#sk-container-id-29 div.sk-item {position: relative;z-index: 1;}#sk-container-id-29 div.sk-parallel {display: flex;align-items: stretch;justify-content: center;background-color: white;position: relative;}#sk-container-id-29 div.sk-item::before, #sk-container-id-29 div.sk-parallel-item::before {content: \"\";position: absolute;border-left: 1px solid gray;box-sizing: border-box;top: 0;bottom: 0;left: 50%;z-index: -1;}#sk-container-id-29 div.sk-parallel-item {display: flex;flex-direction: column;z-index: 1;position: relative;background-color: white;}#sk-container-id-29 div.sk-parallel-item:first-child::after {align-self: flex-end;width: 50%;}#sk-container-id-29 div.sk-parallel-item:last-child::after {align-self: flex-start;width: 50%;}#sk-container-id-29 div.sk-parallel-item:only-child::after {width: 0;}#sk-container-id-29 div.sk-dashed-wrapped {border: 1px dashed gray;margin: 0 0.4em 0.5em 0.4em;box-sizing: border-box;padding-bottom: 0.4em;background-color: white;}#sk-container-id-29 div.sk-label label {font-family: monospace;font-weight: bold;display: inline-block;line-height: 1.2em;}#sk-container-id-29 div.sk-label-container {text-align: center;}#sk-container-id-29 div.sk-container {/* jupyter's `normalize.less` sets `[hidden] { display: none; }` but bootstrap.min.css set `[hidden] { display: none !important; }` so we also need the `!important` here to be able to override the default hidden behavior on the sphinx rendered scikit-learn.org. See: https://github.com/scikit-learn/scikit-learn/issues/21755 */display: inline-block !important;position: relative;}#sk-container-id-29 div.sk-text-repr-fallback {display: none;}</style><div id=\"sk-container-id-29\" class=\"sk-top-container\"><div class=\"sk-text-repr-fallback\"><pre>RandomForestRegressor(max_depth=9, max_features=124, min_samples_leaf=15,\n",
       "                      random_state=1)</pre><b>In a Jupyter environment, please rerun this cell to show the HTML representation or trust the notebook. <br />On GitHub, the HTML representation is unable to render, please try loading this page with nbviewer.org.</b></div><div class=\"sk-container\" hidden><div class=\"sk-item\"><div class=\"sk-estimator sk-toggleable\"><input class=\"sk-toggleable__control sk-hidden--visually\" id=\"sk-estimator-id-29\" type=\"checkbox\" checked><label for=\"sk-estimator-id-29\" class=\"sk-toggleable__label sk-toggleable__label-arrow\">RandomForestRegressor</label><div class=\"sk-toggleable__content\"><pre>RandomForestRegressor(max_depth=9, max_features=124, min_samples_leaf=15,\n",
       "                      random_state=1)</pre></div></div></div></div></div>"
      ],
      "text/plain": [
       "RandomForestRegressor(max_depth=9, max_features=124, min_samples_leaf=15,\n",
       "                      random_state=1)"
      ]
     },
     "execution_count": 315,
     "metadata": {},
     "output_type": "execute_result"
    }
   ],
   "source": [
    "best_randomforest.fit(train_X, train_y)"
   ]
  },
  {
   "cell_type": "code",
   "execution_count": 316,
   "metadata": {},
   "outputs": [],
   "source": [
    "pred_y = best_randomforest.predict(test_X)"
   ]
  },
  {
   "cell_type": "code",
   "execution_count": 317,
   "metadata": {},
   "outputs": [
    {
     "name": "stdout",
     "output_type": "stream",
     "text": [
      "rmse 3323.4505241282554\n"
     ]
    },
    {
     "data": {
      "text/plain": [
       "3323.4505241282554"
      ]
     },
     "execution_count": 317,
     "metadata": {},
     "output_type": "execute_result"
    }
   ],
   "source": [
    "rmse(np.exp(pred_y), np.exp(test_y['TARGET_Weighted_RetailPrice']).values)"
   ]
  },
  {
   "cell_type": "code",
   "execution_count": 318,
   "metadata": {},
   "outputs": [
    {
     "data": {
      "text/plain": [
       "0.9160285423833608"
      ]
     },
     "execution_count": 318,
     "metadata": {},
     "output_type": "execute_result"
    }
   ],
   "source": [
    "r2_score(np.exp(pred_y), np.exp(test_y['TARGET_Weighted_RetailPrice']).values)"
   ]
  },
  {
   "cell_type": "code",
   "execution_count": 319,
   "metadata": {},
   "outputs": [],
   "source": [
    "RF_importances = best_randomforest.feature_importances_"
   ]
  },
  {
   "cell_type": "code",
   "execution_count": 320,
   "metadata": {},
   "outputs": [],
   "source": [
    "feature_names = list(X_featureimp.columns)"
   ]
  },
  {
   "cell_type": "code",
   "execution_count": 321,
   "metadata": {},
   "outputs": [],
   "source": [
    "RF_importances = pd.DataFrame(RF_importances, columns=['importances'], index=feature_names)"
   ]
  },
  {
   "cell_type": "code",
   "execution_count": 322,
   "metadata": {},
   "outputs": [
    {
     "data": {
      "text/html": [
       "<div>\n",
       "<style scoped>\n",
       "    .dataframe tbody tr th:only-of-type {\n",
       "        vertical-align: middle;\n",
       "    }\n",
       "\n",
       "    .dataframe tbody tr th {\n",
       "        vertical-align: top;\n",
       "    }\n",
       "\n",
       "    .dataframe thead th {\n",
       "        text-align: right;\n",
       "    }\n",
       "</style>\n",
       "<table border=\"1\" class=\"dataframe\">\n",
       "  <thead>\n",
       "    <tr style=\"text-align: right;\">\n",
       "      <th></th>\n",
       "      <th>importances</th>\n",
       "    </tr>\n",
       "  </thead>\n",
       "  <tbody>\n",
       "    <tr>\n",
       "      <th>MSRP_prevMY_WeightedByVol</th>\n",
       "      <td>0.539498</td>\n",
       "    </tr>\n",
       "    <tr>\n",
       "      <th>SPEC_maximum_torque_Nm</th>\n",
       "      <td>0.203162</td>\n",
       "    </tr>\n",
       "    <tr>\n",
       "      <th>SPEC_FRPGseat_reach_manual</th>\n",
       "      <td>0.111875</td>\n",
       "    </tr>\n",
       "    <tr>\n",
       "      <th>SPEC_wheelrim_diameter_inch</th>\n",
       "      <td>0.019835</td>\n",
       "    </tr>\n",
       "    <tr>\n",
       "      <th>SPEC_Steering_plastic</th>\n",
       "      <td>0.015223</td>\n",
       "    </tr>\n",
       "    <tr>\n",
       "      <th>...</th>\n",
       "      <td>...</td>\n",
       "    </tr>\n",
       "    <tr>\n",
       "      <th>SPEC_Ceramic_brakes</th>\n",
       "      <td>0.000000</td>\n",
       "    </tr>\n",
       "    <tr>\n",
       "      <th>SPEC_Charges</th>\n",
       "      <td>0.000000</td>\n",
       "    </tr>\n",
       "    <tr>\n",
       "      <th>SPEC_parkingassist_auto</th>\n",
       "      <td>0.000000</td>\n",
       "    </tr>\n",
       "    <tr>\n",
       "      <th>SPEC_Luxury_inner_roof_upholstery</th>\n",
       "      <td>0.000000</td>\n",
       "    </tr>\n",
       "    <tr>\n",
       "      <th>SPEC_includes_music_streaming</th>\n",
       "      <td>0.000000</td>\n",
       "    </tr>\n",
       "  </tbody>\n",
       "</table>\n",
       "<p>109 rows × 1 columns</p>\n",
       "</div>"
      ],
      "text/plain": [
       "                                   importances\n",
       "MSRP_prevMY_WeightedByVol             0.539498\n",
       "SPEC_maximum_torque_Nm                0.203162\n",
       "SPEC_FRPGseat_reach_manual            0.111875\n",
       "SPEC_wheelrim_diameter_inch           0.019835\n",
       "SPEC_Steering_plastic                 0.015223\n",
       "...                                        ...\n",
       "SPEC_Ceramic_brakes                   0.000000\n",
       "SPEC_Charges                          0.000000\n",
       "SPEC_parkingassist_auto               0.000000\n",
       "SPEC_Luxury_inner_roof_upholstery     0.000000\n",
       "SPEC_includes_music_streaming         0.000000\n",
       "\n",
       "[109 rows x 1 columns]"
      ]
     },
     "execution_count": 322,
     "metadata": {},
     "output_type": "execute_result"
    }
   ],
   "source": [
    "RF_importances.sort_values(by='importances', ascending=False)"
   ]
  },
  {
   "attachments": {},
   "cell_type": "markdown",
   "metadata": {},
   "source": [
    "#### Adaboost result"
   ]
  },
  {
   "cell_type": "code",
   "execution_count": 325,
   "metadata": {},
   "outputs": [],
   "source": [
    "# best_adaboost= AdaBoostRegressor(random_state=1, n_estimators=500, learning_rate=1)\n",
    "best_adaboost= AdaBoostRegressor(**result_dict_3['adaboost_param'])"
   ]
  },
  {
   "cell_type": "code",
   "execution_count": 326,
   "metadata": {},
   "outputs": [
    {
     "data": {
      "text/html": [
       "<style>#sk-container-id-31 {color: black;background-color: white;}#sk-container-id-31 pre{padding: 0;}#sk-container-id-31 div.sk-toggleable {background-color: white;}#sk-container-id-31 label.sk-toggleable__label {cursor: pointer;display: block;width: 100%;margin-bottom: 0;padding: 0.3em;box-sizing: border-box;text-align: center;}#sk-container-id-31 label.sk-toggleable__label-arrow:before {content: \"▸\";float: left;margin-right: 0.25em;color: #696969;}#sk-container-id-31 label.sk-toggleable__label-arrow:hover:before {color: black;}#sk-container-id-31 div.sk-estimator:hover label.sk-toggleable__label-arrow:before {color: black;}#sk-container-id-31 div.sk-toggleable__content {max-height: 0;max-width: 0;overflow: hidden;text-align: left;background-color: #f0f8ff;}#sk-container-id-31 div.sk-toggleable__content pre {margin: 0.2em;color: black;border-radius: 0.25em;background-color: #f0f8ff;}#sk-container-id-31 input.sk-toggleable__control:checked~div.sk-toggleable__content {max-height: 200px;max-width: 100%;overflow: auto;}#sk-container-id-31 input.sk-toggleable__control:checked~label.sk-toggleable__label-arrow:before {content: \"▾\";}#sk-container-id-31 div.sk-estimator input.sk-toggleable__control:checked~label.sk-toggleable__label {background-color: #d4ebff;}#sk-container-id-31 div.sk-label input.sk-toggleable__control:checked~label.sk-toggleable__label {background-color: #d4ebff;}#sk-container-id-31 input.sk-hidden--visually {border: 0;clip: rect(1px 1px 1px 1px);clip: rect(1px, 1px, 1px, 1px);height: 1px;margin: -1px;overflow: hidden;padding: 0;position: absolute;width: 1px;}#sk-container-id-31 div.sk-estimator {font-family: monospace;background-color: #f0f8ff;border: 1px dotted black;border-radius: 0.25em;box-sizing: border-box;margin-bottom: 0.5em;}#sk-container-id-31 div.sk-estimator:hover {background-color: #d4ebff;}#sk-container-id-31 div.sk-parallel-item::after {content: \"\";width: 100%;border-bottom: 1px solid gray;flex-grow: 1;}#sk-container-id-31 div.sk-label:hover label.sk-toggleable__label {background-color: #d4ebff;}#sk-container-id-31 div.sk-serial::before {content: \"\";position: absolute;border-left: 1px solid gray;box-sizing: border-box;top: 0;bottom: 0;left: 50%;z-index: 0;}#sk-container-id-31 div.sk-serial {display: flex;flex-direction: column;align-items: center;background-color: white;padding-right: 0.2em;padding-left: 0.2em;position: relative;}#sk-container-id-31 div.sk-item {position: relative;z-index: 1;}#sk-container-id-31 div.sk-parallel {display: flex;align-items: stretch;justify-content: center;background-color: white;position: relative;}#sk-container-id-31 div.sk-item::before, #sk-container-id-31 div.sk-parallel-item::before {content: \"\";position: absolute;border-left: 1px solid gray;box-sizing: border-box;top: 0;bottom: 0;left: 50%;z-index: -1;}#sk-container-id-31 div.sk-parallel-item {display: flex;flex-direction: column;z-index: 1;position: relative;background-color: white;}#sk-container-id-31 div.sk-parallel-item:first-child::after {align-self: flex-end;width: 50%;}#sk-container-id-31 div.sk-parallel-item:last-child::after {align-self: flex-start;width: 50%;}#sk-container-id-31 div.sk-parallel-item:only-child::after {width: 0;}#sk-container-id-31 div.sk-dashed-wrapped {border: 1px dashed gray;margin: 0 0.4em 0.5em 0.4em;box-sizing: border-box;padding-bottom: 0.4em;background-color: white;}#sk-container-id-31 div.sk-label label {font-family: monospace;font-weight: bold;display: inline-block;line-height: 1.2em;}#sk-container-id-31 div.sk-label-container {text-align: center;}#sk-container-id-31 div.sk-container {/* jupyter's `normalize.less` sets `[hidden] { display: none; }` but bootstrap.min.css set `[hidden] { display: none !important; }` so we also need the `!important` here to be able to override the default hidden behavior on the sphinx rendered scikit-learn.org. See: https://github.com/scikit-learn/scikit-learn/issues/21755 */display: inline-block !important;position: relative;}#sk-container-id-31 div.sk-text-repr-fallback {display: none;}</style><div id=\"sk-container-id-31\" class=\"sk-top-container\"><div class=\"sk-text-repr-fallback\"><pre>AdaBoostRegressor(learning_rate=0.1, n_estimators=1000, random_state=1)</pre><b>In a Jupyter environment, please rerun this cell to show the HTML representation or trust the notebook. <br />On GitHub, the HTML representation is unable to render, please try loading this page with nbviewer.org.</b></div><div class=\"sk-container\" hidden><div class=\"sk-item\"><div class=\"sk-estimator sk-toggleable\"><input class=\"sk-toggleable__control sk-hidden--visually\" id=\"sk-estimator-id-31\" type=\"checkbox\" checked><label for=\"sk-estimator-id-31\" class=\"sk-toggleable__label sk-toggleable__label-arrow\">AdaBoostRegressor</label><div class=\"sk-toggleable__content\"><pre>AdaBoostRegressor(learning_rate=0.1, n_estimators=1000, random_state=1)</pre></div></div></div></div></div>"
      ],
      "text/plain": [
       "AdaBoostRegressor(learning_rate=0.1, n_estimators=1000, random_state=1)"
      ]
     },
     "execution_count": 326,
     "metadata": {},
     "output_type": "execute_result"
    }
   ],
   "source": [
    "best_adaboost.fit(train_X, train_y)"
   ]
  },
  {
   "cell_type": "code",
   "execution_count": 327,
   "metadata": {},
   "outputs": [],
   "source": [
    "pred_y = best_adaboost.predict(test_X)"
   ]
  },
  {
   "cell_type": "code",
   "execution_count": 328,
   "metadata": {},
   "outputs": [
    {
     "name": "stdout",
     "output_type": "stream",
     "text": [
      "rmse 3548.8820708973\n"
     ]
    },
    {
     "data": {
      "text/plain": [
       "3548.8820708973"
      ]
     },
     "execution_count": 328,
     "metadata": {},
     "output_type": "execute_result"
    }
   ],
   "source": [
    "rmse(np.exp(pred_y), np.exp(test_y['TARGET_Weighted_RetailPrice']).values)"
   ]
  },
  {
   "cell_type": "code",
   "execution_count": 329,
   "metadata": {},
   "outputs": [
    {
     "data": {
      "text/plain": [
       "0.9042696969384765"
      ]
     },
     "execution_count": 329,
     "metadata": {},
     "output_type": "execute_result"
    }
   ],
   "source": [
    "r2_score(np.exp(pred_y), np.exp(test_y['TARGET_Weighted_RetailPrice']).values)"
   ]
  },
  {
   "cell_type": "code",
   "execution_count": 330,
   "metadata": {},
   "outputs": [],
   "source": [
    "AB_importances = best_adaboost.feature_importances_"
   ]
  },
  {
   "cell_type": "code",
   "execution_count": 331,
   "metadata": {},
   "outputs": [],
   "source": [
    "AB_importances = pd.DataFrame(AB_importances, columns=['importances'], index=feature_names)"
   ]
  },
  {
   "cell_type": "code",
   "execution_count": 332,
   "metadata": {},
   "outputs": [
    {
     "data": {
      "text/html": [
       "<div>\n",
       "<style scoped>\n",
       "    .dataframe tbody tr th:only-of-type {\n",
       "        vertical-align: middle;\n",
       "    }\n",
       "\n",
       "    .dataframe tbody tr th {\n",
       "        vertical-align: top;\n",
       "    }\n",
       "\n",
       "    .dataframe thead th {\n",
       "        text-align: right;\n",
       "    }\n",
       "</style>\n",
       "<table border=\"1\" class=\"dataframe\">\n",
       "  <thead>\n",
       "    <tr style=\"text-align: right;\">\n",
       "      <th></th>\n",
       "      <th>importances</th>\n",
       "    </tr>\n",
       "  </thead>\n",
       "  <tbody>\n",
       "    <tr>\n",
       "      <th>SPEC_maximum_torque_Nm</th>\n",
       "      <td>0.348195</td>\n",
       "    </tr>\n",
       "    <tr>\n",
       "      <th>MSRP_prevMY_WeightedByVol</th>\n",
       "      <td>0.214599</td>\n",
       "    </tr>\n",
       "    <tr>\n",
       "      <th>SPEC_wheelrim_width_inch</th>\n",
       "      <td>0.117130</td>\n",
       "    </tr>\n",
       "    <tr>\n",
       "      <th>SPEC_rain_sensor</th>\n",
       "      <td>0.049198</td>\n",
       "    </tr>\n",
       "    <tr>\n",
       "      <th>SPEC_doormirror_autodimming</th>\n",
       "      <td>0.046044</td>\n",
       "    </tr>\n",
       "    <tr>\n",
       "      <th>...</th>\n",
       "      <td>...</td>\n",
       "    </tr>\n",
       "    <tr>\n",
       "      <th>PROFILE_Make_HYUNDAI</th>\n",
       "      <td>0.000000</td>\n",
       "    </tr>\n",
       "    <tr>\n",
       "      <th>SPEC_suspentionleveling_rear</th>\n",
       "      <td>0.000000</td>\n",
       "    </tr>\n",
       "    <tr>\n",
       "      <th>SPEC_in_dash_CD</th>\n",
       "      <td>0.000000</td>\n",
       "    </tr>\n",
       "    <tr>\n",
       "      <th>SPEC_average_speed</th>\n",
       "      <td>0.000000</td>\n",
       "    </tr>\n",
       "    <tr>\n",
       "      <th>SPEC_Steering_alloy</th>\n",
       "      <td>0.000000</td>\n",
       "    </tr>\n",
       "  </tbody>\n",
       "</table>\n",
       "<p>109 rows × 1 columns</p>\n",
       "</div>"
      ],
      "text/plain": [
       "                              importances\n",
       "SPEC_maximum_torque_Nm           0.348195\n",
       "MSRP_prevMY_WeightedByVol        0.214599\n",
       "SPEC_wheelrim_width_inch         0.117130\n",
       "SPEC_rain_sensor                 0.049198\n",
       "SPEC_doormirror_autodimming      0.046044\n",
       "...                                   ...\n",
       "PROFILE_Make_HYUNDAI             0.000000\n",
       "SPEC_suspentionleveling_rear     0.000000\n",
       "SPEC_in_dash_CD                  0.000000\n",
       "SPEC_average_speed               0.000000\n",
       "SPEC_Steering_alloy              0.000000\n",
       "\n",
       "[109 rows x 1 columns]"
      ]
     },
     "execution_count": 332,
     "metadata": {},
     "output_type": "execute_result"
    }
   ],
   "source": [
    "AB_importances.sort_values(by='importances', ascending=False)"
   ]
  },
  {
   "attachments": {},
   "cell_type": "markdown",
   "metadata": {},
   "source": [
    "#### XGboost result"
   ]
  },
  {
   "cell_type": "code",
   "execution_count": 336,
   "metadata": {},
   "outputs": [],
   "source": [
    "# best_xgboost = xgb.XGBRegressor(random_state=1, n_estimators=100, max_depth=5, learning_rate=0.1, gamma=0)\n",
    "best_xgboost = xgb.XGBRegressor(**result_dict_3['xgboost_param'])"
   ]
  },
  {
   "cell_type": "code",
   "execution_count": 337,
   "metadata": {},
   "outputs": [
    {
     "data": {
      "text/html": [
       "<style>#sk-container-id-32 {color: black;background-color: white;}#sk-container-id-32 pre{padding: 0;}#sk-container-id-32 div.sk-toggleable {background-color: white;}#sk-container-id-32 label.sk-toggleable__label {cursor: pointer;display: block;width: 100%;margin-bottom: 0;padding: 0.3em;box-sizing: border-box;text-align: center;}#sk-container-id-32 label.sk-toggleable__label-arrow:before {content: \"▸\";float: left;margin-right: 0.25em;color: #696969;}#sk-container-id-32 label.sk-toggleable__label-arrow:hover:before {color: black;}#sk-container-id-32 div.sk-estimator:hover label.sk-toggleable__label-arrow:before {color: black;}#sk-container-id-32 div.sk-toggleable__content {max-height: 0;max-width: 0;overflow: hidden;text-align: left;background-color: #f0f8ff;}#sk-container-id-32 div.sk-toggleable__content pre {margin: 0.2em;color: black;border-radius: 0.25em;background-color: #f0f8ff;}#sk-container-id-32 input.sk-toggleable__control:checked~div.sk-toggleable__content {max-height: 200px;max-width: 100%;overflow: auto;}#sk-container-id-32 input.sk-toggleable__control:checked~label.sk-toggleable__label-arrow:before {content: \"▾\";}#sk-container-id-32 div.sk-estimator input.sk-toggleable__control:checked~label.sk-toggleable__label {background-color: #d4ebff;}#sk-container-id-32 div.sk-label input.sk-toggleable__control:checked~label.sk-toggleable__label {background-color: #d4ebff;}#sk-container-id-32 input.sk-hidden--visually {border: 0;clip: rect(1px 1px 1px 1px);clip: rect(1px, 1px, 1px, 1px);height: 1px;margin: -1px;overflow: hidden;padding: 0;position: absolute;width: 1px;}#sk-container-id-32 div.sk-estimator {font-family: monospace;background-color: #f0f8ff;border: 1px dotted black;border-radius: 0.25em;box-sizing: border-box;margin-bottom: 0.5em;}#sk-container-id-32 div.sk-estimator:hover {background-color: #d4ebff;}#sk-container-id-32 div.sk-parallel-item::after {content: \"\";width: 100%;border-bottom: 1px solid gray;flex-grow: 1;}#sk-container-id-32 div.sk-label:hover label.sk-toggleable__label {background-color: #d4ebff;}#sk-container-id-32 div.sk-serial::before {content: \"\";position: absolute;border-left: 1px solid gray;box-sizing: border-box;top: 0;bottom: 0;left: 50%;z-index: 0;}#sk-container-id-32 div.sk-serial {display: flex;flex-direction: column;align-items: center;background-color: white;padding-right: 0.2em;padding-left: 0.2em;position: relative;}#sk-container-id-32 div.sk-item {position: relative;z-index: 1;}#sk-container-id-32 div.sk-parallel {display: flex;align-items: stretch;justify-content: center;background-color: white;position: relative;}#sk-container-id-32 div.sk-item::before, #sk-container-id-32 div.sk-parallel-item::before {content: \"\";position: absolute;border-left: 1px solid gray;box-sizing: border-box;top: 0;bottom: 0;left: 50%;z-index: -1;}#sk-container-id-32 div.sk-parallel-item {display: flex;flex-direction: column;z-index: 1;position: relative;background-color: white;}#sk-container-id-32 div.sk-parallel-item:first-child::after {align-self: flex-end;width: 50%;}#sk-container-id-32 div.sk-parallel-item:last-child::after {align-self: flex-start;width: 50%;}#sk-container-id-32 div.sk-parallel-item:only-child::after {width: 0;}#sk-container-id-32 div.sk-dashed-wrapped {border: 1px dashed gray;margin: 0 0.4em 0.5em 0.4em;box-sizing: border-box;padding-bottom: 0.4em;background-color: white;}#sk-container-id-32 div.sk-label label {font-family: monospace;font-weight: bold;display: inline-block;line-height: 1.2em;}#sk-container-id-32 div.sk-label-container {text-align: center;}#sk-container-id-32 div.sk-container {/* jupyter's `normalize.less` sets `[hidden] { display: none; }` but bootstrap.min.css set `[hidden] { display: none !important; }` so we also need the `!important` here to be able to override the default hidden behavior on the sphinx rendered scikit-learn.org. See: https://github.com/scikit-learn/scikit-learn/issues/21755 */display: inline-block !important;position: relative;}#sk-container-id-32 div.sk-text-repr-fallback {display: none;}</style><div id=\"sk-container-id-32\" class=\"sk-top-container\"><div class=\"sk-text-repr-fallback\"><pre>XGBRegressor(base_score=None, booster=None, callbacks=None,\n",
       "             colsample_bylevel=None, colsample_bynode=None,\n",
       "             colsample_bytree=None, early_stopping_rounds=None,\n",
       "             enable_categorical=False, eval_metric=None, feature_types=None,\n",
       "             gamma=0.0, gpu_id=None, grow_policy=None, importance_type=None,\n",
       "             interaction_constraints=None, learning_rate=0.1, max_bin=None,\n",
       "             max_cat_threshold=None, max_cat_to_onehot=None,\n",
       "             max_delta_step=None, max_depth=7, max_leaves=None,\n",
       "             min_child_weight=None, missing=nan, monotone_constraints=None,\n",
       "             n_estimators=100, n_jobs=None, num_parallel_tree=None,\n",
       "             predictor=None, random_state=1, ...)</pre><b>In a Jupyter environment, please rerun this cell to show the HTML representation or trust the notebook. <br />On GitHub, the HTML representation is unable to render, please try loading this page with nbviewer.org.</b></div><div class=\"sk-container\" hidden><div class=\"sk-item\"><div class=\"sk-estimator sk-toggleable\"><input class=\"sk-toggleable__control sk-hidden--visually\" id=\"sk-estimator-id-32\" type=\"checkbox\" checked><label for=\"sk-estimator-id-32\" class=\"sk-toggleable__label sk-toggleable__label-arrow\">XGBRegressor</label><div class=\"sk-toggleable__content\"><pre>XGBRegressor(base_score=None, booster=None, callbacks=None,\n",
       "             colsample_bylevel=None, colsample_bynode=None,\n",
       "             colsample_bytree=None, early_stopping_rounds=None,\n",
       "             enable_categorical=False, eval_metric=None, feature_types=None,\n",
       "             gamma=0.0, gpu_id=None, grow_policy=None, importance_type=None,\n",
       "             interaction_constraints=None, learning_rate=0.1, max_bin=None,\n",
       "             max_cat_threshold=None, max_cat_to_onehot=None,\n",
       "             max_delta_step=None, max_depth=7, max_leaves=None,\n",
       "             min_child_weight=None, missing=nan, monotone_constraints=None,\n",
       "             n_estimators=100, n_jobs=None, num_parallel_tree=None,\n",
       "             predictor=None, random_state=1, ...)</pre></div></div></div></div></div>"
      ],
      "text/plain": [
       "XGBRegressor(base_score=None, booster=None, callbacks=None,\n",
       "             colsample_bylevel=None, colsample_bynode=None,\n",
       "             colsample_bytree=None, early_stopping_rounds=None,\n",
       "             enable_categorical=False, eval_metric=None, feature_types=None,\n",
       "             gamma=0.0, gpu_id=None, grow_policy=None, importance_type=None,\n",
       "             interaction_constraints=None, learning_rate=0.1, max_bin=None,\n",
       "             max_cat_threshold=None, max_cat_to_onehot=None,\n",
       "             max_delta_step=None, max_depth=7, max_leaves=None,\n",
       "             min_child_weight=None, missing=nan, monotone_constraints=None,\n",
       "             n_estimators=100, n_jobs=None, num_parallel_tree=None,\n",
       "             predictor=None, random_state=1, ...)"
      ]
     },
     "execution_count": 337,
     "metadata": {},
     "output_type": "execute_result"
    }
   ],
   "source": [
    "best_xgboost.fit(train_X, train_y)"
   ]
  },
  {
   "cell_type": "code",
   "execution_count": 338,
   "metadata": {},
   "outputs": [],
   "source": [
    "pred_y = best_xgboost.predict(test_X)"
   ]
  },
  {
   "cell_type": "code",
   "execution_count": 339,
   "metadata": {},
   "outputs": [
    {
     "name": "stdout",
     "output_type": "stream",
     "text": [
      "rmse 2153.882330082875\n"
     ]
    },
    {
     "data": {
      "text/plain": [
       "2153.882330082875"
      ]
     },
     "execution_count": 339,
     "metadata": {},
     "output_type": "execute_result"
    }
   ],
   "source": [
    "rmse(np.exp(pred_y), np.exp(test_y['TARGET_Weighted_RetailPrice']).values)"
   ]
  },
  {
   "cell_type": "code",
   "execution_count": 340,
   "metadata": {},
   "outputs": [
    {
     "data": {
      "text/plain": [
       "0.9680535419476987"
      ]
     },
     "execution_count": 340,
     "metadata": {},
     "output_type": "execute_result"
    }
   ],
   "source": [
    "r2_score(np.exp(pred_y), np.exp(test_y['TARGET_Weighted_RetailPrice']).values)"
   ]
  },
  {
   "cell_type": "code",
   "execution_count": null,
   "metadata": {},
   "outputs": [],
   "source": []
  }
 ],
 "metadata": {
  "kernelspec": {
   "display_name": "NLP_env",
   "language": "python",
   "name": "python3"
  },
  "language_info": {
   "codemirror_mode": {
    "name": "ipython",
    "version": 3
   },
   "file_extension": ".py",
   "mimetype": "text/x-python",
   "name": "python",
   "nbconvert_exporter": "python",
   "pygments_lexer": "ipython3",
   "version": "3.8.16"
  },
  "orig_nbformat": 4
 },
 "nbformat": 4,
 "nbformat_minor": 2
}
