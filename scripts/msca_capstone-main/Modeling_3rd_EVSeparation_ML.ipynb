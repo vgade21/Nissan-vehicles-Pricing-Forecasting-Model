{
 "cells": [
  {
   "cell_type": "code",
   "execution_count": 19,
   "metadata": {},
   "outputs": [],
   "source": [
    "import pandas as pd\n",
    "import seaborn as sns\n",
    "import matplotlib.pyplot as plt\n",
    "import numpy as np\n",
    "import pandas as pd \n",
    "import statsmodels.formula.api as smf \n",
    "import statsmodels.api as sm \n",
    "from sklearn.model_selection import train_test_split \n",
    "import itertools\n",
    "%matplotlib inline\n",
    "import numpy as np\n",
    "from scipy import stats\n",
    "import seaborn as sns\n",
    "from sklearn.ensemble import RandomForestRegressor\n",
    "from sklearn.ensemble import AdaBoostRegressor\n",
    "import warnings\n",
    "warnings.filterwarnings(\"ignore\")\n",
    "from sklearn.preprocessing import StandardScaler\n",
    "from sklearn.linear_model import LinearRegression\n",
    "from sklearn.svm import SVR, LinearSVR\n",
    "from sklearn.tree import DecisionTreeRegressor\n",
    "from sklearn.ensemble import RandomForestRegressor\n",
    "from sklearn.linear_model import SGDRegressor\n",
    "from sklearn.metrics import mean_absolute_error #MAE\n",
    "from sklearn.metrics import mean_squared_error #MSE\n",
    "from sklearn.metrics import make_scorer, r2_score\n",
    "import xgboost as xgb\n",
    "from hyperopt import STATUS_OK, Trials, fmin, hp, tpe"
   ]
  },
  {
   "cell_type": "code",
   "execution_count": 20,
   "metadata": {},
   "outputs": [],
   "source": [
    "model_gen = '3rd'"
   ]
  },
  {
   "attachments": {},
   "cell_type": "markdown",
   "metadata": {},
   "source": [
    "# Machine Learning Modeling"
   ]
  },
  {
   "attachments": {},
   "cell_type": "markdown",
   "metadata": {},
   "source": [
    "## LowPrice Small size models"
   ]
  },
  {
   "attachments": {},
   "cell_type": "markdown",
   "metadata": {},
   "source": [
    "### Model with Statistically significant variables"
   ]
  },
  {
   "cell_type": "code",
   "execution_count": 21,
   "metadata": {},
   "outputs": [],
   "source": [
    "model_name = 'LowPrice_Smallsize'"
   ]
  },
  {
   "cell_type": "code",
   "execution_count": 22,
   "metadata": {},
   "outputs": [],
   "source": [
    "df_ml = pd.read_csv('../../01_Outputs/modeling_'+ model_gen + '/df_model_'+model_name+'.csv').dropna()"
   ]
  },
  {
   "cell_type": "code",
   "execution_count": 23,
   "metadata": {},
   "outputs": [],
   "source": [
    "target = 'TARGET_Weighted_RetailPrice'"
   ]
  },
  {
   "cell_type": "code",
   "execution_count": 24,
   "metadata": {},
   "outputs": [],
   "source": [
    "X = df_ml.drop(target, axis=1)"
   ]
  },
  {
   "cell_type": "code",
   "execution_count": 25,
   "metadata": {},
   "outputs": [],
   "source": [
    "y = df_ml[[target]]"
   ]
  },
  {
   "cell_type": "code",
   "execution_count": 26,
   "metadata": {},
   "outputs": [],
   "source": [
    "y = np.log(y)"
   ]
  },
  {
   "cell_type": "code",
   "execution_count": 27,
   "metadata": {},
   "outputs": [],
   "source": [
    "train_X, test_X, train_y, test_y = train_test_split(X, y, train_size=0.7, test_size=0.3, random_state=42)"
   ]
  },
  {
   "cell_type": "code",
   "execution_count": 28,
   "metadata": {},
   "outputs": [],
   "source": [
    "def rmse(y_true,y_pred):\n",
    "    rmse = np.sqrt(mean_squared_error(y_true,y_pred))\n",
    "    print('rmse',rmse)\n",
    "    return rmse"
   ]
  },
  {
   "cell_type": "code",
   "execution_count": 29,
   "metadata": {},
   "outputs": [],
   "source": [
    "def rsquare(y_true,y_pred):\n",
    "    rsquare = r2_score(y_true, y_pred)\n",
    "    print('rsquare',rsquare)\n",
    "    return rsquare"
   ]
  },
  {
   "cell_type": "code",
   "execution_count": 30,
   "metadata": {},
   "outputs": [],
   "source": [
    "def RandomsearchRegression(model, parameters):\n",
    "    # from sklearn.model_selection import RandomizedSearchCV\n",
    "    from sklearn.model_selection import RandomizedSearchCV\n",
    "    searcher = RandomizedSearchCV(model, parameters, cv=10, scoring=make_scorer(rsquare,greater_is_better=True))\n",
    "    searcher.fit(train_X, train_y)\n",
    "    print(\"Best CV params\", searcher.best_params_)\n",
    "    print(\"Best CV Rsquare\", searcher.best_score_)\n",
    "    print(\"Best train Rsquare\", searcher.score(train_X, train_y))\n",
    "    print(\"Test RMSE of best grid search hypers:\", searcher.score(test_X, test_y))\n",
    "    return searcher.best_params_,  searcher.best_score_, searcher.score(test_X, test_y), searcher.score(train_X, train_y)"
   ]
  },
  {
   "cell_type": "code",
   "execution_count": 31,
   "metadata": {},
   "outputs": [],
   "source": [
    "models_dict = {}\n",
    "models_dict['random_forest'] = RandomForestRegressor()\n",
    "models_dict['adaboost'] = AdaBoostRegressor()\n",
    "models_dict['xgboost'] = xgb.XGBRegressor()"
   ]
  },
  {
   "cell_type": "code",
   "execution_count": 32,
   "metadata": {},
   "outputs": [],
   "source": [
    "result_dict = {}\n",
    "parameters_dct = {}\n",
    "parameters_dct['random_forest'] = {\"n_estimators\": [10, 100, 300, 500,1000],\n",
    "                                    \"max_depth\": [i for i in range(3,11)],\n",
    "                                    'max_features' : [i for i in range(1,train_X.shape[1])],\n",
    "                                    \"random_state\": [1],\n",
    "                                    \"min_samples_leaf\": [i for i in range(1, 21)]}\n",
    "parameters_dct['adaboost'] = {\"n_estimators\": [10, 100, 300, 500,1000],\n",
    "                                    'learning_rate':[0.0001, 0.001, 0.01, 0.1, 1],\n",
    "                                    'random_state': [1]}\n",
    "parameters_dct['xgboost'] = {\"n_estimators\": [10, 100, 300, 500,1000],\n",
    "                                    'learning_rate':[0.0001, 0.001, 0.01, 0.1, 1],\n",
    "                                    'max_depth':[1,3,5,7,10],\n",
    "                                    'gamma': [0.01*i for i in range(0,1000,100)],\n",
    "                                    'random_state': [1]}\n"
   ]
  },
  {
   "cell_type": "code",
   "execution_count": 33,
   "metadata": {},
   "outputs": [],
   "source": [
    "model_list = ['random_forest', 'adaboost', 'xgboost']"
   ]
  },
  {
   "cell_type": "code",
   "execution_count": 34,
   "metadata": {},
   "outputs": [
    {
     "name": "stdout",
     "output_type": "stream",
     "text": [
      "random_forest\n",
      "rsquare 0.9492614227667212\n",
      "rsquare 0.9544771052776626\n",
      "rsquare 0.9574435037032237\n",
      "rsquare 0.951451864123307\n",
      "rsquare 0.9397319663283201\n",
      "rsquare 0.9500682018404325\n",
      "rsquare 0.9466130394748293\n",
      "rsquare 0.9428665329553508\n",
      "rsquare 0.946399289453751\n",
      "rsquare 0.9360427399196143\n",
      "rsquare 0.8995561395421042\n",
      "rsquare 0.9146093169579262\n",
      "rsquare 0.914850306137822\n",
      "rsquare 0.8904044410194877\n",
      "rsquare 0.8682742179162906\n",
      "rsquare 0.8891672285214475\n",
      "rsquare 0.8886343874793915\n",
      "rsquare 0.8804142005639434\n",
      "rsquare 0.8900357700462855\n",
      "rsquare 0.8735295640471298\n",
      "rsquare 0.9566486266004626\n",
      "rsquare 0.9602308312611971\n",
      "rsquare 0.9683573319118426\n",
      "rsquare 0.9588870065882554\n",
      "rsquare 0.948326868722548\n",
      "rsquare 0.9535492613360933\n",
      "rsquare 0.9553578801906026\n",
      "rsquare 0.9539570349550084\n",
      "rsquare 0.9533163205087217\n",
      "rsquare 0.9391242324854592\n",
      "rsquare 0.9712288289144555\n",
      "rsquare 0.9713951375920835\n",
      "rsquare 0.9786699142483332\n",
      "rsquare 0.9734607753855226\n",
      "rsquare 0.9648304469224669\n",
      "rsquare 0.9738887859270612\n",
      "rsquare 0.9692736053783942\n",
      "rsquare 0.9670164991601796\n",
      "rsquare 0.9717028505773582\n",
      "rsquare 0.9613969547502351\n",
      "rsquare 0.9087222337744463\n",
      "rsquare 0.9179462607883175\n",
      "rsquare 0.9252653542706869\n",
      "rsquare 0.9087365121789792\n",
      "rsquare 0.8854806786093328\n",
      "rsquare 0.9001507097056451\n",
      "rsquare 0.906302512059132\n",
      "rsquare 0.9005019350845805\n",
      "rsquare 0.8988659100436528\n",
      "rsquare 0.8843573330251681\n",
      "rsquare 0.9401222404808696\n",
      "rsquare 0.9395948114373027\n",
      "rsquare 0.9517020248057967\n",
      "rsquare 0.9316639879487988\n",
      "rsquare 0.9157939090300584\n",
      "rsquare 0.9283122413990672\n",
      "rsquare 0.9349783563041354\n",
      "rsquare 0.9301075462800216\n",
      "rsquare 0.9254292561763595\n",
      "rsquare 0.9065148888084386\n",
      "rsquare 0.8906424190140284\n",
      "rsquare 0.9048847802065966\n",
      "rsquare 0.902879754738794\n",
      "rsquare 0.890811282715403\n",
      "rsquare 0.8664046192603367\n",
      "rsquare 0.8827410177575163\n",
      "rsquare 0.8882251365363635\n",
      "rsquare 0.876067890060153\n",
      "rsquare 0.8783177441749761\n",
      "rsquare 0.8739483167503004\n",
      "rsquare 0.9556801662599743\n",
      "rsquare 0.9609517811187238\n",
      "rsquare 0.964981366807294\n",
      "rsquare 0.9542639427302746\n",
      "rsquare 0.9474707002258977\n",
      "rsquare 0.9583747551781007\n",
      "rsquare 0.9515858888391917\n",
      "rsquare 0.9449612192418619\n",
      "rsquare 0.9554428145341927\n",
      "rsquare 0.9420800036159304\n",
      "rsquare 0.9474006735747549\n",
      "rsquare 0.9525013057417764\n",
      "rsquare 0.9604322842883107\n",
      "rsquare 0.9467241140706171\n",
      "rsquare 0.9344339352222315\n",
      "rsquare 0.9421221942197456\n",
      "rsquare 0.9449571965110632\n",
      "rsquare 0.9432240783944787\n",
      "rsquare 0.9429453751320069\n",
      "rsquare 0.9262242807817203\n",
      "rsquare 0.8928648741211936\n",
      "rsquare 0.907755131097644\n",
      "rsquare 0.9072168970094832\n",
      "rsquare 0.8943682767626521\n",
      "rsquare 0.8675293358409774\n",
      "rsquare 0.8864897195307154\n",
      "rsquare 0.8945884103478687\n",
      "rsquare 0.8807286081539213\n",
      "rsquare 0.8817337543920098\n",
      "rsquare 0.8766793726316346\n",
      "Best CV params {'random_state': 1, 'n_estimators': 1000, 'min_samples_leaf': 1, 'max_features': 121, 'max_depth': 10}\n",
      "Best CV Rsquare 0.970286379885609\n",
      "rsquare 0.9915913851431103\n",
      "Best train Rsquare 0.9915913851431103\n",
      "rsquare 0.9672520807741127\n",
      "Test RMSE of best grid search hypers: 0.9672520807741127\n",
      "rsquare 0.9672520807741127\n",
      "rsquare 0.9915913851431103\n",
      "adaboost\n",
      "rsquare 0.921836789513535\n",
      "rsquare 0.9343577795855476\n",
      "rsquare 0.920318709524556\n",
      "rsquare 0.9226228307037709\n",
      "rsquare 0.9109894252900637\n",
      "rsquare 0.9258601138067397\n",
      "rsquare 0.9191020768493942\n",
      "rsquare 0.91120896113424\n",
      "rsquare 0.9236355081654447\n",
      "rsquare 0.9072022827202851\n",
      "rsquare 0.870154459731787\n",
      "rsquare 0.9001826068816171\n",
      "rsquare 0.8866171237290507\n",
      "rsquare 0.8834826267456074\n",
      "rsquare 0.8539889390504626\n",
      "rsquare 0.883619992133293\n",
      "rsquare 0.8750595499654636\n",
      "rsquare 0.8647170544003515\n",
      "rsquare 0.8732210855802394\n",
      "rsquare 0.8648619334638532\n",
      "rsquare 0.9214962007034809\n",
      "rsquare 0.9353971001059079\n",
      "rsquare 0.9206389939886764\n",
      "rsquare 0.9207686535650256\n",
      "rsquare 0.9095284775107441\n",
      "rsquare 0.9250941677371602\n",
      "rsquare 0.9172594163255609\n",
      "rsquare 0.9083333830284946\n",
      "rsquare 0.9232659281832685\n",
      "rsquare 0.9078219861144562\n",
      "rsquare 0.8258303995630302\n",
      "rsquare 0.8249804116356535\n",
      "rsquare 0.834778256545765\n",
      "rsquare 0.8252770942058497\n",
      "rsquare 0.7731162933571998\n",
      "rsquare 0.7985752051197949\n",
      "rsquare 0.7944521468215553\n",
      "rsquare 0.8259674502400326\n",
      "rsquare 0.7981489135540238\n",
      "rsquare 0.8097409607885646\n",
      "rsquare 0.8590054856590729\n",
      "rsquare 0.8984925385725859\n",
      "rsquare 0.8869033531543691\n",
      "rsquare 0.8713210002534126\n",
      "rsquare 0.8478841969907823\n",
      "rsquare 0.8846192955606782\n",
      "rsquare 0.869216036057514\n",
      "rsquare 0.8650404362139826\n",
      "rsquare 0.8638349240166782\n",
      "rsquare 0.8634743883138729\n",
      "rsquare 0.8418261327200441\n",
      "rsquare 0.8575269279683597\n",
      "rsquare 0.8557548174263565\n",
      "rsquare 0.8439652878572762\n",
      "rsquare 0.8061085802291529\n",
      "rsquare 0.8216362005990492\n",
      "rsquare 0.8235849668180082\n",
      "rsquare 0.8434768914686432\n",
      "rsquare 0.8303623038428956\n",
      "rsquare 0.8296620855248993\n",
      "rsquare 0.8803744325961208\n",
      "rsquare 0.9076376728272755\n",
      "rsquare 0.8934258601773286\n",
      "rsquare 0.887761674938981\n",
      "rsquare 0.872622590106173\n",
      "rsquare 0.894638690601609\n",
      "rsquare 0.8795006338214904\n",
      "rsquare 0.8730342588052739\n",
      "rsquare 0.8924272324799423\n",
      "rsquare 0.8799403516668066\n",
      "rsquare 0.8192400159309485\n",
      "rsquare 0.8441140339791045\n",
      "rsquare 0.8343026440868495\n",
      "rsquare 0.8334161010774258\n",
      "rsquare 0.8025294443036176\n",
      "rsquare 0.8103320556487424\n",
      "rsquare 0.8259508098520286\n",
      "rsquare 0.8270522170393921\n",
      "rsquare 0.8070388543563034\n",
      "rsquare 0.8165880648569076\n",
      "rsquare 0.8331178229952285\n",
      "rsquare 0.8309113847751138\n",
      "rsquare 0.8409311508655997\n",
      "rsquare 0.8286296288850421\n",
      "rsquare 0.7833265285880364\n",
      "rsquare 0.8032806630597908\n",
      "rsquare 0.7977529833292618\n",
      "rsquare 0.8305806006559022\n",
      "rsquare 0.8141956790517944\n",
      "rsquare 0.8133121462120039\n",
      "rsquare 0.9079106038544184\n",
      "rsquare 0.9261102469746503\n",
      "rsquare 0.9125465089307613\n",
      "rsquare 0.9068073591824044\n",
      "rsquare 0.89247804383206\n",
      "rsquare 0.9207501695039456\n",
      "rsquare 0.9020384226287468\n",
      "rsquare 0.895882268015325\n",
      "rsquare 0.9147685425343544\n",
      "rsquare 0.8991806471411982\n",
      "Best CV params {'random_state': 1, 'n_estimators': 1000, 'learning_rate': 1}\n",
      "Best CV Rsquare 0.9197134477293576\n",
      "rsquare 0.9273106372576976\n",
      "Best train Rsquare 0.9273106372576976\n",
      "rsquare 0.9137097184016494\n",
      "Test RMSE of best grid search hypers: 0.9137097184016494\n",
      "rsquare 0.9137097184016494\n",
      "rsquare 0.9273106372576976\n",
      "xgboost\n",
      "rsquare -1033.6579519866361\n",
      "rsquare -1158.0083847232195\n",
      "rsquare -1022.1150153690447\n",
      "rsquare -1008.7394062263999\n",
      "rsquare -1109.55840381004\n",
      "rsquare -958.1636015407313\n",
      "rsquare -1093.5891476065638\n",
      "rsquare -1031.441990366729\n",
      "rsquare -1100.8275471268182\n",
      "rsquare -1179.5646690518433\n",
      "rsquare -1543.035011115703\n",
      "rsquare -1726.613478645674\n",
      "rsquare -1525.4136222797595\n",
      "rsquare -1506.7222787947617\n",
      "rsquare -1655.132858242102\n",
      "rsquare -1429.9398009970303\n",
      "rsquare -1632.4154968355992\n",
      "rsquare -1536.5745086583192\n",
      "rsquare -1642.0211795024259\n",
      "rsquare -1758.030303821985\n",
      "rsquare -3.7228501935997294\n",
      "rsquare -4.3499648505648585\n",
      "rsquare -3.5540901740430844\n",
      "rsquare -3.5625147169525295\n",
      "rsquare -4.087263485814812\n",
      "rsquare -3.3502221926185634\n",
      "rsquare -3.809591856874513\n",
      "rsquare -3.73530399392601\n",
      "rsquare -3.9763822792876446\n",
      "rsquare -4.438706226758426\n",
      "rsquare 0.6803921046616974\n",
      "rsquare 0.706836417394511\n",
      "rsquare 0.6853661807776512\n",
      "rsquare 0.6899790066022744\n",
      "rsquare 0.6777033976125497\n",
      "rsquare 0.6612918536881921\n",
      "rsquare 0.6914295807116935\n",
      "rsquare 0.6667617211866793\n",
      "rsquare 0.6673190059906673\n",
      "rsquare 0.6689781267917208\n",
      "rsquare 0.6711050876480426\n",
      "rsquare 0.6963180652443816\n",
      "rsquare 0.6742524017361053\n",
      "rsquare 0.681540747307402\n",
      "rsquare 0.6679167198738498\n",
      "rsquare 0.6533001950532474\n",
      "rsquare 0.6842832555825225\n",
      "rsquare 0.654377359802057\n",
      "rsquare 0.6653274979802839\n",
      "rsquare 0.6613244403419869\n",
      "rsquare -1543.174363221109\n",
      "rsquare -1726.7685107921172\n",
      "rsquare -1525.5507257973738\n",
      "rsquare -1506.8581846665431\n",
      "rsquare -1655.2815672597935\n",
      "rsquare -1430.0685916455777\n",
      "rsquare -1632.562636839391\n",
      "rsquare -1536.712064700251\n",
      "rsquare -1642.1690087008146\n",
      "rsquare -1758.1882152336188\n",
      "rsquare 0.6447475874696948\n",
      "rsquare 0.5825190754897132\n",
      "rsquare 0.626929822096164\n",
      "rsquare 0.6645696016820362\n",
      "rsquare 0.6113407899200751\n",
      "rsquare 0.6737953646938708\n",
      "rsquare 0.6178232489020206\n",
      "rsquare 0.6188189075006003\n",
      "rsquare 0.5969529125401811\n",
      "rsquare 0.6323681065244056\n",
      "rsquare -1881.4233187314903\n",
      "rsquare -2104.196556451392\n",
      "rsquare -1859.7352908810387\n",
      "rsquare -1837.6064400280388\n",
      "rsquare -2017.479017265827\n",
      "rsquare -1743.3197980349357\n",
      "rsquare -1990.3610499574008\n",
      "rsquare -1871.911362587995\n",
      "rsquare -2001.4510737605215\n",
      "rsquare -2142.1081448885675\n",
      "rsquare 0.6826939626260462\n",
      "rsquare 0.681235779258337\n",
      "rsquare 0.7308821326681165\n",
      "rsquare 0.7118975855639879\n",
      "rsquare 0.5935558555411007\n",
      "rsquare 0.6926510078236142\n",
      "rsquare 0.7385573115982403\n",
      "rsquare 0.6771728778439383\n",
      "rsquare 0.6249447107340367\n",
      "rsquare 0.6435174887955654\n",
      "rsquare 0.6826939626260462\n",
      "rsquare 0.681235779258337\n",
      "rsquare 0.7308821326681165\n",
      "rsquare 0.7118975855639879\n",
      "rsquare 0.5935558555411007\n",
      "rsquare 0.6926510078236142\n",
      "rsquare 0.7385573115982403\n",
      "rsquare 0.6771728778439383\n",
      "rsquare 0.6249447107340367\n",
      "rsquare 0.6435174887955654\n",
      "Best CV params {'random_state': 1, 'n_estimators': 500, 'max_depth': 1, 'learning_rate': 0.1, 'gamma': 8.0}\n",
      "Best CV Rsquare 0.6796057395417636\n",
      "rsquare 0.7149410102243992\n",
      "Best train Rsquare 0.7149410102243992\n",
      "rsquare 0.6887183999343451\n",
      "Test RMSE of best grid search hypers: 0.6887183999343451\n",
      "rsquare 0.6887183999343451\n",
      "rsquare 0.7149410102243992\n"
     ]
    }
   ],
   "source": [
    "result_dict = {}\n",
    "for model in model_list:\n",
    "    print(model)\n",
    "    result_dict[model + '_param'], \\\n",
    "    result_dict[model + '_cvacc'], \\\n",
    "    result_dict[model + '_testacc'],\\\n",
    "    result_dict[model + '_trainacc'] \\\n",
    "    = RandomsearchRegression(models_dict[model], parameters_dct[model])"
   ]
  },
  {
   "attachments": {},
   "cell_type": "markdown",
   "metadata": {},
   "source": [
    "#### Random Forest result"
   ]
  },
  {
   "cell_type": "code",
   "execution_count": 35,
   "metadata": {},
   "outputs": [],
   "source": [
    "best_randomforest = RandomForestRegressor(**result_dict['random_forest_param'])"
   ]
  },
  {
   "cell_type": "code",
   "execution_count": 36,
   "metadata": {},
   "outputs": [
    {
     "data": {
      "text/html": [
       "<style>#sk-container-id-1 {color: black;background-color: white;}#sk-container-id-1 pre{padding: 0;}#sk-container-id-1 div.sk-toggleable {background-color: white;}#sk-container-id-1 label.sk-toggleable__label {cursor: pointer;display: block;width: 100%;margin-bottom: 0;padding: 0.3em;box-sizing: border-box;text-align: center;}#sk-container-id-1 label.sk-toggleable__label-arrow:before {content: \"▸\";float: left;margin-right: 0.25em;color: #696969;}#sk-container-id-1 label.sk-toggleable__label-arrow:hover:before {color: black;}#sk-container-id-1 div.sk-estimator:hover label.sk-toggleable__label-arrow:before {color: black;}#sk-container-id-1 div.sk-toggleable__content {max-height: 0;max-width: 0;overflow: hidden;text-align: left;background-color: #f0f8ff;}#sk-container-id-1 div.sk-toggleable__content pre {margin: 0.2em;color: black;border-radius: 0.25em;background-color: #f0f8ff;}#sk-container-id-1 input.sk-toggleable__control:checked~div.sk-toggleable__content {max-height: 200px;max-width: 100%;overflow: auto;}#sk-container-id-1 input.sk-toggleable__control:checked~label.sk-toggleable__label-arrow:before {content: \"▾\";}#sk-container-id-1 div.sk-estimator input.sk-toggleable__control:checked~label.sk-toggleable__label {background-color: #d4ebff;}#sk-container-id-1 div.sk-label input.sk-toggleable__control:checked~label.sk-toggleable__label {background-color: #d4ebff;}#sk-container-id-1 input.sk-hidden--visually {border: 0;clip: rect(1px 1px 1px 1px);clip: rect(1px, 1px, 1px, 1px);height: 1px;margin: -1px;overflow: hidden;padding: 0;position: absolute;width: 1px;}#sk-container-id-1 div.sk-estimator {font-family: monospace;background-color: #f0f8ff;border: 1px dotted black;border-radius: 0.25em;box-sizing: border-box;margin-bottom: 0.5em;}#sk-container-id-1 div.sk-estimator:hover {background-color: #d4ebff;}#sk-container-id-1 div.sk-parallel-item::after {content: \"\";width: 100%;border-bottom: 1px solid gray;flex-grow: 1;}#sk-container-id-1 div.sk-label:hover label.sk-toggleable__label {background-color: #d4ebff;}#sk-container-id-1 div.sk-serial::before {content: \"\";position: absolute;border-left: 1px solid gray;box-sizing: border-box;top: 0;bottom: 0;left: 50%;z-index: 0;}#sk-container-id-1 div.sk-serial {display: flex;flex-direction: column;align-items: center;background-color: white;padding-right: 0.2em;padding-left: 0.2em;position: relative;}#sk-container-id-1 div.sk-item {position: relative;z-index: 1;}#sk-container-id-1 div.sk-parallel {display: flex;align-items: stretch;justify-content: center;background-color: white;position: relative;}#sk-container-id-1 div.sk-item::before, #sk-container-id-1 div.sk-parallel-item::before {content: \"\";position: absolute;border-left: 1px solid gray;box-sizing: border-box;top: 0;bottom: 0;left: 50%;z-index: -1;}#sk-container-id-1 div.sk-parallel-item {display: flex;flex-direction: column;z-index: 1;position: relative;background-color: white;}#sk-container-id-1 div.sk-parallel-item:first-child::after {align-self: flex-end;width: 50%;}#sk-container-id-1 div.sk-parallel-item:last-child::after {align-self: flex-start;width: 50%;}#sk-container-id-1 div.sk-parallel-item:only-child::after {width: 0;}#sk-container-id-1 div.sk-dashed-wrapped {border: 1px dashed gray;margin: 0 0.4em 0.5em 0.4em;box-sizing: border-box;padding-bottom: 0.4em;background-color: white;}#sk-container-id-1 div.sk-label label {font-family: monospace;font-weight: bold;display: inline-block;line-height: 1.2em;}#sk-container-id-1 div.sk-label-container {text-align: center;}#sk-container-id-1 div.sk-container {/* jupyter's `normalize.less` sets `[hidden] { display: none; }` but bootstrap.min.css set `[hidden] { display: none !important; }` so we also need the `!important` here to be able to override the default hidden behavior on the sphinx rendered scikit-learn.org. See: https://github.com/scikit-learn/scikit-learn/issues/21755 */display: inline-block !important;position: relative;}#sk-container-id-1 div.sk-text-repr-fallback {display: none;}</style><div id=\"sk-container-id-1\" class=\"sk-top-container\"><div class=\"sk-text-repr-fallback\"><pre>RandomForestRegressor(max_depth=10, max_features=121, n_estimators=1000,\n",
       "                      random_state=1)</pre><b>In a Jupyter environment, please rerun this cell to show the HTML representation or trust the notebook. <br />On GitHub, the HTML representation is unable to render, please try loading this page with nbviewer.org.</b></div><div class=\"sk-container\" hidden><div class=\"sk-item\"><div class=\"sk-estimator sk-toggleable\"><input class=\"sk-toggleable__control sk-hidden--visually\" id=\"sk-estimator-id-1\" type=\"checkbox\" checked><label for=\"sk-estimator-id-1\" class=\"sk-toggleable__label sk-toggleable__label-arrow\">RandomForestRegressor</label><div class=\"sk-toggleable__content\"><pre>RandomForestRegressor(max_depth=10, max_features=121, n_estimators=1000,\n",
       "                      random_state=1)</pre></div></div></div></div></div>"
      ],
      "text/plain": [
       "RandomForestRegressor(max_depth=10, max_features=121, n_estimators=1000,\n",
       "                      random_state=1)"
      ]
     },
     "execution_count": 36,
     "metadata": {},
     "output_type": "execute_result"
    }
   ],
   "source": [
    "best_randomforest.fit(train_X, train_y)"
   ]
  },
  {
   "cell_type": "code",
   "execution_count": 37,
   "metadata": {},
   "outputs": [],
   "source": [
    "pred_y = best_randomforest.predict(test_X)"
   ]
  },
  {
   "cell_type": "code",
   "execution_count": 38,
   "metadata": {},
   "outputs": [
    {
     "name": "stdout",
     "output_type": "stream",
     "text": [
      "rmse 1230.5790612203912\n"
     ]
    },
    {
     "data": {
      "text/plain": [
       "1230.5790612203912"
      ]
     },
     "execution_count": 38,
     "metadata": {},
     "output_type": "execute_result"
    }
   ],
   "source": [
    "rmse(np.exp(pred_y), np.exp(test_y['TARGET_Weighted_RetailPrice']).values)"
   ]
  },
  {
   "cell_type": "code",
   "execution_count": 39,
   "metadata": {},
   "outputs": [
    {
     "data": {
      "text/plain": [
       "0.9425653438777508"
      ]
     },
     "execution_count": 39,
     "metadata": {},
     "output_type": "execute_result"
    }
   ],
   "source": [
    "r2_score(np.exp(pred_y), np.exp(test_y['TARGET_Weighted_RetailPrice']).values)"
   ]
  },
  {
   "cell_type": "code",
   "execution_count": 40,
   "metadata": {},
   "outputs": [],
   "source": [
    "RF_importances = best_randomforest.feature_importances_"
   ]
  },
  {
   "cell_type": "code",
   "execution_count": 41,
   "metadata": {},
   "outputs": [],
   "source": [
    "feature_names = list(X.columns)"
   ]
  },
  {
   "cell_type": "code",
   "execution_count": 42,
   "metadata": {},
   "outputs": [],
   "source": [
    "RF_importances = pd.DataFrame(RF_importances, columns=['importances'], index=feature_names)"
   ]
  },
  {
   "cell_type": "code",
   "execution_count": 43,
   "metadata": {},
   "outputs": [
    {
     "data": {
      "text/html": [
       "<div>\n",
       "<style scoped>\n",
       "    .dataframe tbody tr th:only-of-type {\n",
       "        vertical-align: middle;\n",
       "    }\n",
       "\n",
       "    .dataframe tbody tr th {\n",
       "        vertical-align: top;\n",
       "    }\n",
       "\n",
       "    .dataframe thead th {\n",
       "        text-align: right;\n",
       "    }\n",
       "</style>\n",
       "<table border=\"1\" class=\"dataframe\">\n",
       "  <thead>\n",
       "    <tr style=\"text-align: right;\">\n",
       "      <th></th>\n",
       "      <th>importances</th>\n",
       "    </tr>\n",
       "  </thead>\n",
       "  <tbody>\n",
       "    <tr>\n",
       "      <th>SPEC_published_kerb_weight_kg</th>\n",
       "      <td>3.531514e-01</td>\n",
       "    </tr>\n",
       "    <tr>\n",
       "      <th>MSRP_prevMY_WeightedByVol</th>\n",
       "      <td>2.353835e-01</td>\n",
       "    </tr>\n",
       "    <tr>\n",
       "      <th>SPEC_maximum_torque_Nm</th>\n",
       "      <td>8.822391e-02</td>\n",
       "    </tr>\n",
       "    <tr>\n",
       "      <th>SPEC_Secondary_ventilation_controls</th>\n",
       "      <td>3.995785e-02</td>\n",
       "    </tr>\n",
       "    <tr>\n",
       "      <th>SPEC_FRPGseat_heated</th>\n",
       "      <td>3.784726e-02</td>\n",
       "    </tr>\n",
       "    <tr>\n",
       "      <th>...</th>\n",
       "      <td>...</td>\n",
       "    </tr>\n",
       "    <tr>\n",
       "      <th>SPEC_concierge_service</th>\n",
       "      <td>3.160866e-06</td>\n",
       "    </tr>\n",
       "    <tr>\n",
       "      <th>SPEC_Selective_catalytic_reduction</th>\n",
       "      <td>2.856285e-06</td>\n",
       "    </tr>\n",
       "    <tr>\n",
       "      <th>SPEC_folds_electrically</th>\n",
       "      <td>1.205491e-06</td>\n",
       "    </tr>\n",
       "    <tr>\n",
       "      <th>SPEC_multi_coat</th>\n",
       "      <td>6.681488e-07</td>\n",
       "    </tr>\n",
       "    <tr>\n",
       "      <th>SPEC_Low_tire_pressure_indicator</th>\n",
       "      <td>3.072597e-07</td>\n",
       "    </tr>\n",
       "  </tbody>\n",
       "</table>\n",
       "<p>216 rows × 1 columns</p>\n",
       "</div>"
      ],
      "text/plain": [
       "                                      importances\n",
       "SPEC_published_kerb_weight_kg        3.531514e-01\n",
       "MSRP_prevMY_WeightedByVol            2.353835e-01\n",
       "SPEC_maximum_torque_Nm               8.822391e-02\n",
       "SPEC_Secondary_ventilation_controls  3.995785e-02\n",
       "SPEC_FRPGseat_heated                 3.784726e-02\n",
       "...                                           ...\n",
       "SPEC_concierge_service               3.160866e-06\n",
       "SPEC_Selective_catalytic_reduction   2.856285e-06\n",
       "SPEC_folds_electrically              1.205491e-06\n",
       "SPEC_multi_coat                      6.681488e-07\n",
       "SPEC_Low_tire_pressure_indicator     3.072597e-07\n",
       "\n",
       "[216 rows x 1 columns]"
      ]
     },
     "execution_count": 43,
     "metadata": {},
     "output_type": "execute_result"
    }
   ],
   "source": [
    "RF_importances.sort_values(by='importances', ascending=False)"
   ]
  },
  {
   "attachments": {},
   "cell_type": "markdown",
   "metadata": {},
   "source": [
    "#### Adaboost result"
   ]
  },
  {
   "cell_type": "code",
   "execution_count": 44,
   "metadata": {},
   "outputs": [],
   "source": [
    "best_adaboost= AdaBoostRegressor(**result_dict['adaboost_param'])\n"
   ]
  },
  {
   "cell_type": "code",
   "execution_count": 45,
   "metadata": {},
   "outputs": [
    {
     "data": {
      "text/html": [
       "<style>#sk-container-id-2 {color: black;background-color: white;}#sk-container-id-2 pre{padding: 0;}#sk-container-id-2 div.sk-toggleable {background-color: white;}#sk-container-id-2 label.sk-toggleable__label {cursor: pointer;display: block;width: 100%;margin-bottom: 0;padding: 0.3em;box-sizing: border-box;text-align: center;}#sk-container-id-2 label.sk-toggleable__label-arrow:before {content: \"▸\";float: left;margin-right: 0.25em;color: #696969;}#sk-container-id-2 label.sk-toggleable__label-arrow:hover:before {color: black;}#sk-container-id-2 div.sk-estimator:hover label.sk-toggleable__label-arrow:before {color: black;}#sk-container-id-2 div.sk-toggleable__content {max-height: 0;max-width: 0;overflow: hidden;text-align: left;background-color: #f0f8ff;}#sk-container-id-2 div.sk-toggleable__content pre {margin: 0.2em;color: black;border-radius: 0.25em;background-color: #f0f8ff;}#sk-container-id-2 input.sk-toggleable__control:checked~div.sk-toggleable__content {max-height: 200px;max-width: 100%;overflow: auto;}#sk-container-id-2 input.sk-toggleable__control:checked~label.sk-toggleable__label-arrow:before {content: \"▾\";}#sk-container-id-2 div.sk-estimator input.sk-toggleable__control:checked~label.sk-toggleable__label {background-color: #d4ebff;}#sk-container-id-2 div.sk-label input.sk-toggleable__control:checked~label.sk-toggleable__label {background-color: #d4ebff;}#sk-container-id-2 input.sk-hidden--visually {border: 0;clip: rect(1px 1px 1px 1px);clip: rect(1px, 1px, 1px, 1px);height: 1px;margin: -1px;overflow: hidden;padding: 0;position: absolute;width: 1px;}#sk-container-id-2 div.sk-estimator {font-family: monospace;background-color: #f0f8ff;border: 1px dotted black;border-radius: 0.25em;box-sizing: border-box;margin-bottom: 0.5em;}#sk-container-id-2 div.sk-estimator:hover {background-color: #d4ebff;}#sk-container-id-2 div.sk-parallel-item::after {content: \"\";width: 100%;border-bottom: 1px solid gray;flex-grow: 1;}#sk-container-id-2 div.sk-label:hover label.sk-toggleable__label {background-color: #d4ebff;}#sk-container-id-2 div.sk-serial::before {content: \"\";position: absolute;border-left: 1px solid gray;box-sizing: border-box;top: 0;bottom: 0;left: 50%;z-index: 0;}#sk-container-id-2 div.sk-serial {display: flex;flex-direction: column;align-items: center;background-color: white;padding-right: 0.2em;padding-left: 0.2em;position: relative;}#sk-container-id-2 div.sk-item {position: relative;z-index: 1;}#sk-container-id-2 div.sk-parallel {display: flex;align-items: stretch;justify-content: center;background-color: white;position: relative;}#sk-container-id-2 div.sk-item::before, #sk-container-id-2 div.sk-parallel-item::before {content: \"\";position: absolute;border-left: 1px solid gray;box-sizing: border-box;top: 0;bottom: 0;left: 50%;z-index: -1;}#sk-container-id-2 div.sk-parallel-item {display: flex;flex-direction: column;z-index: 1;position: relative;background-color: white;}#sk-container-id-2 div.sk-parallel-item:first-child::after {align-self: flex-end;width: 50%;}#sk-container-id-2 div.sk-parallel-item:last-child::after {align-self: flex-start;width: 50%;}#sk-container-id-2 div.sk-parallel-item:only-child::after {width: 0;}#sk-container-id-2 div.sk-dashed-wrapped {border: 1px dashed gray;margin: 0 0.4em 0.5em 0.4em;box-sizing: border-box;padding-bottom: 0.4em;background-color: white;}#sk-container-id-2 div.sk-label label {font-family: monospace;font-weight: bold;display: inline-block;line-height: 1.2em;}#sk-container-id-2 div.sk-label-container {text-align: center;}#sk-container-id-2 div.sk-container {/* jupyter's `normalize.less` sets `[hidden] { display: none; }` but bootstrap.min.css set `[hidden] { display: none !important; }` so we also need the `!important` here to be able to override the default hidden behavior on the sphinx rendered scikit-learn.org. See: https://github.com/scikit-learn/scikit-learn/issues/21755 */display: inline-block !important;position: relative;}#sk-container-id-2 div.sk-text-repr-fallback {display: none;}</style><div id=\"sk-container-id-2\" class=\"sk-top-container\"><div class=\"sk-text-repr-fallback\"><pre>AdaBoostRegressor(learning_rate=1, n_estimators=1000, random_state=1)</pre><b>In a Jupyter environment, please rerun this cell to show the HTML representation or trust the notebook. <br />On GitHub, the HTML representation is unable to render, please try loading this page with nbviewer.org.</b></div><div class=\"sk-container\" hidden><div class=\"sk-item\"><div class=\"sk-estimator sk-toggleable\"><input class=\"sk-toggleable__control sk-hidden--visually\" id=\"sk-estimator-id-2\" type=\"checkbox\" checked><label for=\"sk-estimator-id-2\" class=\"sk-toggleable__label sk-toggleable__label-arrow\">AdaBoostRegressor</label><div class=\"sk-toggleable__content\"><pre>AdaBoostRegressor(learning_rate=1, n_estimators=1000, random_state=1)</pre></div></div></div></div></div>"
      ],
      "text/plain": [
       "AdaBoostRegressor(learning_rate=1, n_estimators=1000, random_state=1)"
      ]
     },
     "execution_count": 45,
     "metadata": {},
     "output_type": "execute_result"
    }
   ],
   "source": [
    "best_adaboost.fit(train_X, train_y)"
   ]
  },
  {
   "cell_type": "code",
   "execution_count": 46,
   "metadata": {},
   "outputs": [],
   "source": [
    "pred_y = best_adaboost.predict(test_X)"
   ]
  },
  {
   "cell_type": "code",
   "execution_count": 47,
   "metadata": {},
   "outputs": [
    {
     "name": "stdout",
     "output_type": "stream",
     "text": [
      "rmse 1794.5433826890182\n"
     ]
    },
    {
     "data": {
      "text/plain": [
       "1794.5433826890182"
      ]
     },
     "execution_count": 47,
     "metadata": {},
     "output_type": "execute_result"
    }
   ],
   "source": [
    "rmse(np.exp(pred_y), np.exp(test_y['TARGET_Weighted_RetailPrice']).values)"
   ]
  },
  {
   "cell_type": "code",
   "execution_count": 48,
   "metadata": {},
   "outputs": [
    {
     "data": {
      "text/plain": [
       "0.8573689787889646"
      ]
     },
     "execution_count": 48,
     "metadata": {},
     "output_type": "execute_result"
    }
   ],
   "source": [
    "r2_score(np.exp(pred_y), np.exp(test_y['TARGET_Weighted_RetailPrice']).values)"
   ]
  },
  {
   "cell_type": "code",
   "execution_count": 49,
   "metadata": {},
   "outputs": [],
   "source": [
    "AB_importances = best_adaboost.feature_importances_"
   ]
  },
  {
   "cell_type": "code",
   "execution_count": 50,
   "metadata": {},
   "outputs": [],
   "source": [
    "AB_importances = pd.DataFrame(AB_importances, columns=['importances'], index=feature_names)"
   ]
  },
  {
   "cell_type": "code",
   "execution_count": 51,
   "metadata": {},
   "outputs": [
    {
     "data": {
      "text/html": [
       "<div>\n",
       "<style scoped>\n",
       "    .dataframe tbody tr th:only-of-type {\n",
       "        vertical-align: middle;\n",
       "    }\n",
       "\n",
       "    .dataframe tbody tr th {\n",
       "        vertical-align: top;\n",
       "    }\n",
       "\n",
       "    .dataframe thead th {\n",
       "        text-align: right;\n",
       "    }\n",
       "</style>\n",
       "<table border=\"1\" class=\"dataframe\">\n",
       "  <thead>\n",
       "    <tr style=\"text-align: right;\">\n",
       "      <th></th>\n",
       "      <th>importances</th>\n",
       "    </tr>\n",
       "  </thead>\n",
       "  <tbody>\n",
       "    <tr>\n",
       "      <th>MSRP_prevMY_WeightedByVol</th>\n",
       "      <td>0.237068</td>\n",
       "    </tr>\n",
       "    <tr>\n",
       "      <th>SPEC_published_kerb_weight_kg</th>\n",
       "      <td>0.234726</td>\n",
       "    </tr>\n",
       "    <tr>\n",
       "      <th>SPEC_maximum_torque_Nm</th>\n",
       "      <td>0.089003</td>\n",
       "    </tr>\n",
       "    <tr>\n",
       "      <th>SPEC_length_x_width</th>\n",
       "      <td>0.054316</td>\n",
       "    </tr>\n",
       "    <tr>\n",
       "      <th>SPEC_Steering_plastic</th>\n",
       "      <td>0.050979</td>\n",
       "    </tr>\n",
       "    <tr>\n",
       "      <th>...</th>\n",
       "      <td>...</td>\n",
       "    </tr>\n",
       "    <tr>\n",
       "      <th>SPEC_removablecargomat_textile</th>\n",
       "      <td>0.000000</td>\n",
       "    </tr>\n",
       "    <tr>\n",
       "      <th>SPEC_includes_engine_shut_down</th>\n",
       "      <td>0.000000</td>\n",
       "    </tr>\n",
       "    <tr>\n",
       "      <th>SPEC_Heated_washer</th>\n",
       "      <td>0.000000</td>\n",
       "    </tr>\n",
       "    <tr>\n",
       "      <th>SPEC_folds_electrically</th>\n",
       "      <td>0.000000</td>\n",
       "    </tr>\n",
       "    <tr>\n",
       "      <th>SPEC_Steering_alloy</th>\n",
       "      <td>0.000000</td>\n",
       "    </tr>\n",
       "  </tbody>\n",
       "</table>\n",
       "<p>216 rows × 1 columns</p>\n",
       "</div>"
      ],
      "text/plain": [
       "                                importances\n",
       "MSRP_prevMY_WeightedByVol          0.237068\n",
       "SPEC_published_kerb_weight_kg      0.234726\n",
       "SPEC_maximum_torque_Nm             0.089003\n",
       "SPEC_length_x_width                0.054316\n",
       "SPEC_Steering_plastic              0.050979\n",
       "...                                     ...\n",
       "SPEC_removablecargomat_textile     0.000000\n",
       "SPEC_includes_engine_shut_down     0.000000\n",
       "SPEC_Heated_washer                 0.000000\n",
       "SPEC_folds_electrically            0.000000\n",
       "SPEC_Steering_alloy                0.000000\n",
       "\n",
       "[216 rows x 1 columns]"
      ]
     },
     "execution_count": 51,
     "metadata": {},
     "output_type": "execute_result"
    }
   ],
   "source": [
    "AB_importances.sort_values(by='importances', ascending=False)"
   ]
  },
  {
   "attachments": {},
   "cell_type": "markdown",
   "metadata": {},
   "source": [
    "#### XGboost result"
   ]
  },
  {
   "cell_type": "code",
   "execution_count": 52,
   "metadata": {},
   "outputs": [],
   "source": [
    "best_xgboost = xgb.XGBRegressor(**result_dict['xgboost_param'])"
   ]
  },
  {
   "cell_type": "code",
   "execution_count": 53,
   "metadata": {},
   "outputs": [
    {
     "data": {
      "text/html": [
       "<style>#sk-container-id-3 {color: black;background-color: white;}#sk-container-id-3 pre{padding: 0;}#sk-container-id-3 div.sk-toggleable {background-color: white;}#sk-container-id-3 label.sk-toggleable__label {cursor: pointer;display: block;width: 100%;margin-bottom: 0;padding: 0.3em;box-sizing: border-box;text-align: center;}#sk-container-id-3 label.sk-toggleable__label-arrow:before {content: \"▸\";float: left;margin-right: 0.25em;color: #696969;}#sk-container-id-3 label.sk-toggleable__label-arrow:hover:before {color: black;}#sk-container-id-3 div.sk-estimator:hover label.sk-toggleable__label-arrow:before {color: black;}#sk-container-id-3 div.sk-toggleable__content {max-height: 0;max-width: 0;overflow: hidden;text-align: left;background-color: #f0f8ff;}#sk-container-id-3 div.sk-toggleable__content pre {margin: 0.2em;color: black;border-radius: 0.25em;background-color: #f0f8ff;}#sk-container-id-3 input.sk-toggleable__control:checked~div.sk-toggleable__content {max-height: 200px;max-width: 100%;overflow: auto;}#sk-container-id-3 input.sk-toggleable__control:checked~label.sk-toggleable__label-arrow:before {content: \"▾\";}#sk-container-id-3 div.sk-estimator input.sk-toggleable__control:checked~label.sk-toggleable__label {background-color: #d4ebff;}#sk-container-id-3 div.sk-label input.sk-toggleable__control:checked~label.sk-toggleable__label {background-color: #d4ebff;}#sk-container-id-3 input.sk-hidden--visually {border: 0;clip: rect(1px 1px 1px 1px);clip: rect(1px, 1px, 1px, 1px);height: 1px;margin: -1px;overflow: hidden;padding: 0;position: absolute;width: 1px;}#sk-container-id-3 div.sk-estimator {font-family: monospace;background-color: #f0f8ff;border: 1px dotted black;border-radius: 0.25em;box-sizing: border-box;margin-bottom: 0.5em;}#sk-container-id-3 div.sk-estimator:hover {background-color: #d4ebff;}#sk-container-id-3 div.sk-parallel-item::after {content: \"\";width: 100%;border-bottom: 1px solid gray;flex-grow: 1;}#sk-container-id-3 div.sk-label:hover label.sk-toggleable__label {background-color: #d4ebff;}#sk-container-id-3 div.sk-serial::before {content: \"\";position: absolute;border-left: 1px solid gray;box-sizing: border-box;top: 0;bottom: 0;left: 50%;z-index: 0;}#sk-container-id-3 div.sk-serial {display: flex;flex-direction: column;align-items: center;background-color: white;padding-right: 0.2em;padding-left: 0.2em;position: relative;}#sk-container-id-3 div.sk-item {position: relative;z-index: 1;}#sk-container-id-3 div.sk-parallel {display: flex;align-items: stretch;justify-content: center;background-color: white;position: relative;}#sk-container-id-3 div.sk-item::before, #sk-container-id-3 div.sk-parallel-item::before {content: \"\";position: absolute;border-left: 1px solid gray;box-sizing: border-box;top: 0;bottom: 0;left: 50%;z-index: -1;}#sk-container-id-3 div.sk-parallel-item {display: flex;flex-direction: column;z-index: 1;position: relative;background-color: white;}#sk-container-id-3 div.sk-parallel-item:first-child::after {align-self: flex-end;width: 50%;}#sk-container-id-3 div.sk-parallel-item:last-child::after {align-self: flex-start;width: 50%;}#sk-container-id-3 div.sk-parallel-item:only-child::after {width: 0;}#sk-container-id-3 div.sk-dashed-wrapped {border: 1px dashed gray;margin: 0 0.4em 0.5em 0.4em;box-sizing: border-box;padding-bottom: 0.4em;background-color: white;}#sk-container-id-3 div.sk-label label {font-family: monospace;font-weight: bold;display: inline-block;line-height: 1.2em;}#sk-container-id-3 div.sk-label-container {text-align: center;}#sk-container-id-3 div.sk-container {/* jupyter's `normalize.less` sets `[hidden] { display: none; }` but bootstrap.min.css set `[hidden] { display: none !important; }` so we also need the `!important` here to be able to override the default hidden behavior on the sphinx rendered scikit-learn.org. See: https://github.com/scikit-learn/scikit-learn/issues/21755 */display: inline-block !important;position: relative;}#sk-container-id-3 div.sk-text-repr-fallback {display: none;}</style><div id=\"sk-container-id-3\" class=\"sk-top-container\"><div class=\"sk-text-repr-fallback\"><pre>XGBRegressor(base_score=None, booster=None, callbacks=None,\n",
       "             colsample_bylevel=None, colsample_bynode=None,\n",
       "             colsample_bytree=None, early_stopping_rounds=None,\n",
       "             enable_categorical=False, eval_metric=None, feature_types=None,\n",
       "             gamma=8.0, gpu_id=None, grow_policy=None, importance_type=None,\n",
       "             interaction_constraints=None, learning_rate=0.1, max_bin=None,\n",
       "             max_cat_threshold=None, max_cat_to_onehot=None,\n",
       "             max_delta_step=None, max_depth=1, max_leaves=None,\n",
       "             min_child_weight=None, missing=nan, monotone_constraints=None,\n",
       "             n_estimators=500, n_jobs=None, num_parallel_tree=None,\n",
       "             predictor=None, random_state=1, ...)</pre><b>In a Jupyter environment, please rerun this cell to show the HTML representation or trust the notebook. <br />On GitHub, the HTML representation is unable to render, please try loading this page with nbviewer.org.</b></div><div class=\"sk-container\" hidden><div class=\"sk-item\"><div class=\"sk-estimator sk-toggleable\"><input class=\"sk-toggleable__control sk-hidden--visually\" id=\"sk-estimator-id-3\" type=\"checkbox\" checked><label for=\"sk-estimator-id-3\" class=\"sk-toggleable__label sk-toggleable__label-arrow\">XGBRegressor</label><div class=\"sk-toggleable__content\"><pre>XGBRegressor(base_score=None, booster=None, callbacks=None,\n",
       "             colsample_bylevel=None, colsample_bynode=None,\n",
       "             colsample_bytree=None, early_stopping_rounds=None,\n",
       "             enable_categorical=False, eval_metric=None, feature_types=None,\n",
       "             gamma=8.0, gpu_id=None, grow_policy=None, importance_type=None,\n",
       "             interaction_constraints=None, learning_rate=0.1, max_bin=None,\n",
       "             max_cat_threshold=None, max_cat_to_onehot=None,\n",
       "             max_delta_step=None, max_depth=1, max_leaves=None,\n",
       "             min_child_weight=None, missing=nan, monotone_constraints=None,\n",
       "             n_estimators=500, n_jobs=None, num_parallel_tree=None,\n",
       "             predictor=None, random_state=1, ...)</pre></div></div></div></div></div>"
      ],
      "text/plain": [
       "XGBRegressor(base_score=None, booster=None, callbacks=None,\n",
       "             colsample_bylevel=None, colsample_bynode=None,\n",
       "             colsample_bytree=None, early_stopping_rounds=None,\n",
       "             enable_categorical=False, eval_metric=None, feature_types=None,\n",
       "             gamma=8.0, gpu_id=None, grow_policy=None, importance_type=None,\n",
       "             interaction_constraints=None, learning_rate=0.1, max_bin=None,\n",
       "             max_cat_threshold=None, max_cat_to_onehot=None,\n",
       "             max_delta_step=None, max_depth=1, max_leaves=None,\n",
       "             min_child_weight=None, missing=nan, monotone_constraints=None,\n",
       "             n_estimators=500, n_jobs=None, num_parallel_tree=None,\n",
       "             predictor=None, random_state=1, ...)"
      ]
     },
     "execution_count": 53,
     "metadata": {},
     "output_type": "execute_result"
    }
   ],
   "source": [
    "best_xgboost.fit(train_X, train_y)"
   ]
  },
  {
   "cell_type": "code",
   "execution_count": 54,
   "metadata": {},
   "outputs": [],
   "source": [
    "pred_y = best_xgboost.predict(test_X)"
   ]
  },
  {
   "cell_type": "code",
   "execution_count": 55,
   "metadata": {},
   "outputs": [
    {
     "name": "stdout",
     "output_type": "stream",
     "text": [
      "rmse 3304.163901589459\n"
     ]
    },
    {
     "data": {
      "text/plain": [
       "3304.163901589459"
      ]
     },
     "execution_count": 55,
     "metadata": {},
     "output_type": "execute_result"
    }
   ],
   "source": [
    "rmse(np.exp(pred_y), np.exp(test_y['TARGET_Weighted_RetailPrice']).values)"
   ]
  },
  {
   "cell_type": "code",
   "execution_count": 56,
   "metadata": {},
   "outputs": [
    {
     "data": {
      "text/plain": [
       "-0.2565833113143443"
      ]
     },
     "execution_count": 56,
     "metadata": {},
     "output_type": "execute_result"
    }
   ],
   "source": [
    "r2_score(np.exp(pred_y), np.exp(test_y['TARGET_Weighted_RetailPrice']).values)"
   ]
  },
  {
   "cell_type": "code",
   "execution_count": 57,
   "metadata": {},
   "outputs": [],
   "source": [
    "XGB_importances = best_xgboost.feature_importances_"
   ]
  },
  {
   "cell_type": "code",
   "execution_count": 58,
   "metadata": {},
   "outputs": [],
   "source": [
    "XGB_importances = pd.DataFrame(XGB_importances, columns=['importances'], index=feature_names)"
   ]
  },
  {
   "cell_type": "code",
   "execution_count": 59,
   "metadata": {},
   "outputs": [
    {
     "data": {
      "text/html": [
       "<div>\n",
       "<style scoped>\n",
       "    .dataframe tbody tr th:only-of-type {\n",
       "        vertical-align: middle;\n",
       "    }\n",
       "\n",
       "    .dataframe tbody tr th {\n",
       "        vertical-align: top;\n",
       "    }\n",
       "\n",
       "    .dataframe thead th {\n",
       "        text-align: right;\n",
       "    }\n",
       "</style>\n",
       "<table border=\"1\" class=\"dataframe\">\n",
       "  <thead>\n",
       "    <tr style=\"text-align: right;\">\n",
       "      <th></th>\n",
       "      <th>importances</th>\n",
       "    </tr>\n",
       "  </thead>\n",
       "  <tbody>\n",
       "    <tr>\n",
       "      <th>SPEC_FRPGseat_heated</th>\n",
       "      <td>0.162022</td>\n",
       "    </tr>\n",
       "    <tr>\n",
       "      <th>SPEC_Airconditioningtype_manual</th>\n",
       "      <td>0.145088</td>\n",
       "    </tr>\n",
       "    <tr>\n",
       "      <th>MSRP_prevMY_WeightedByVol</th>\n",
       "      <td>0.143259</td>\n",
       "    </tr>\n",
       "    <tr>\n",
       "      <th>SPEC_Secondary_ventilation_controls</th>\n",
       "      <td>0.140080</td>\n",
       "    </tr>\n",
       "    <tr>\n",
       "      <th>SPEC_Steering_plastic</th>\n",
       "      <td>0.136904</td>\n",
       "    </tr>\n",
       "    <tr>\n",
       "      <th>...</th>\n",
       "      <td>...</td>\n",
       "    </tr>\n",
       "    <tr>\n",
       "      <th>SPEC_variable_rack</th>\n",
       "      <td>0.000000</td>\n",
       "    </tr>\n",
       "    <tr>\n",
       "      <th>SPEC_remote_lock_unlock</th>\n",
       "      <td>0.000000</td>\n",
       "    </tr>\n",
       "    <tr>\n",
       "      <th>SPEC_Differential_lock</th>\n",
       "      <td>0.000000</td>\n",
       "    </tr>\n",
       "    <tr>\n",
       "      <th>SPEC_FRPGseat_height_manual</th>\n",
       "      <td>0.000000</td>\n",
       "    </tr>\n",
       "    <tr>\n",
       "      <th>SPEC_activates_steering</th>\n",
       "      <td>0.000000</td>\n",
       "    </tr>\n",
       "  </tbody>\n",
       "</table>\n",
       "<p>216 rows × 1 columns</p>\n",
       "</div>"
      ],
      "text/plain": [
       "                                     importances\n",
       "SPEC_FRPGseat_heated                    0.162022\n",
       "SPEC_Airconditioningtype_manual         0.145088\n",
       "MSRP_prevMY_WeightedByVol               0.143259\n",
       "SPEC_Secondary_ventilation_controls     0.140080\n",
       "SPEC_Steering_plastic                   0.136904\n",
       "...                                          ...\n",
       "SPEC_variable_rack                      0.000000\n",
       "SPEC_remote_lock_unlock                 0.000000\n",
       "SPEC_Differential_lock                  0.000000\n",
       "SPEC_FRPGseat_height_manual             0.000000\n",
       "SPEC_activates_steering                 0.000000\n",
       "\n",
       "[216 rows x 1 columns]"
      ]
     },
     "execution_count": 59,
     "metadata": {},
     "output_type": "execute_result"
    }
   ],
   "source": [
    "XGB_importances.sort_values(by='importances', ascending=False)"
   ]
  },
  {
   "cell_type": "code",
   "execution_count": 60,
   "metadata": {},
   "outputs": [],
   "source": [
    "RF_vars = list(RF_importances.sort_values(by='importances', ascending=False)[:200].index)"
   ]
  },
  {
   "cell_type": "code",
   "execution_count": 61,
   "metadata": {},
   "outputs": [],
   "source": [
    "AB_vars = list(AB_importances.sort_values(by='importances', ascending=False)[:200].index)"
   ]
  },
  {
   "cell_type": "code",
   "execution_count": 62,
   "metadata": {},
   "outputs": [],
   "source": [
    "XGB_vars = list(XGB_importances.sort_values(by='importances', ascending=False)[:200].index)"
   ]
  },
  {
   "cell_type": "code",
   "execution_count": 63,
   "metadata": {},
   "outputs": [],
   "source": [
    "intercection1 = set(RF_vars).intersection(set(AB_vars))\n",
    "intercection2 = set(AB_vars).intersection(set(XGB_vars))\n",
    "intercection3 = set(RF_vars).intersection(set(XGB_vars))\n",
    "featureimp_variables = list(intercection1.union(intercection2).union(intercection3))"
   ]
  },
  {
   "cell_type": "code",
   "execution_count": 64,
   "metadata": {},
   "outputs": [],
   "source": [
    "pd.DataFrame(featureimp_variables).to_csv('variables_union'+ model_name +'.csv', index=False)"
   ]
  },
  {
   "cell_type": "code",
   "execution_count": 65,
   "metadata": {},
   "outputs": [
    {
     "data": {
      "text/plain": [
       "211"
      ]
     },
     "execution_count": 65,
     "metadata": {},
     "output_type": "execute_result"
    }
   ],
   "source": [
    "len(featureimp_variables)"
   ]
  },
  {
   "cell_type": "code",
   "execution_count": 66,
   "metadata": {},
   "outputs": [
    {
     "name": "stdout",
     "output_type": "stream",
     "text": [
      "random_forest\n",
      "Best parameter: {'random_state': 1, 'n_estimators': 1000, 'min_samples_leaf': 1, 'max_features': 121, 'max_depth': 10}\n",
      "Best Train accuracy: 0.9915913851431103\n",
      "Best Test accuracy: 0.9672520807741127\n",
      "Best CV accuracy: 0.970286379885609\n",
      "adaboost\n",
      "Best parameter: {'random_state': 1, 'n_estimators': 1000, 'learning_rate': 1}\n",
      "Best Train accuracy: 0.9273106372576976\n",
      "Best Test accuracy: 0.9137097184016494\n",
      "Best CV accuracy: 0.9197134477293576\n",
      "xgboost\n",
      "Best parameter: {'random_state': 1, 'n_estimators': 500, 'max_depth': 1, 'learning_rate': 0.1, 'gamma': 8.0}\n",
      "Best Train accuracy: 0.7149410102243992\n",
      "Best Test accuracy: 0.6887183999343451\n",
      "Best CV accuracy: 0.6796057395417636\n"
     ]
    }
   ],
   "source": [
    "for model in model_list:\n",
    "    print(model)\n",
    "    print('Best parameter:', result_dict[model + '_param'])\n",
    "    print('Best Train accuracy:',result_dict[model + '_trainacc'])\n",
    "    print('Best Test accuracy:',result_dict[model + '_testacc'])\n",
    "    print('Best CV accuracy:',result_dict[model + '_cvacc'])"
   ]
  },
  {
   "attachments": {},
   "cell_type": "markdown",
   "metadata": {},
   "source": [
    "### Model with reduced variables Union of Intersections (211 variables)"
   ]
  },
  {
   "cell_type": "code",
   "execution_count": 67,
   "metadata": {},
   "outputs": [],
   "source": [
    "X = df_ml.drop(target, axis=1)"
   ]
  },
  {
   "cell_type": "code",
   "execution_count": 68,
   "metadata": {},
   "outputs": [],
   "source": [
    "X_featureimp = X[featureimp_variables]"
   ]
  },
  {
   "cell_type": "code",
   "execution_count": 69,
   "metadata": {},
   "outputs": [],
   "source": [
    "y = df_ml[[target]]"
   ]
  },
  {
   "cell_type": "code",
   "execution_count": 70,
   "metadata": {},
   "outputs": [],
   "source": [
    "y = np.log(y)"
   ]
  },
  {
   "cell_type": "code",
   "execution_count": 71,
   "metadata": {},
   "outputs": [],
   "source": [
    "train_X, test_X, train_y, test_y = train_test_split(X_featureimp, y, train_size=0.7, test_size=0.3, random_state=42)"
   ]
  },
  {
   "cell_type": "code",
   "execution_count": 72,
   "metadata": {},
   "outputs": [
    {
     "name": "stdout",
     "output_type": "stream",
     "text": [
      "random_forest\n",
      "rsquare 0.9473213349502568\n",
      "rsquare 0.9529178625942578\n",
      "rsquare 0.9607723255786554\n",
      "rsquare 0.9455837630604113\n",
      "rsquare 0.9357484927592669\n",
      "rsquare 0.9428922006772273\n",
      "rsquare 0.942146290944599\n",
      "rsquare 0.9400580887015555\n",
      "rsquare 0.940913076650279\n",
      "rsquare 0.9287465669214118\n",
      "rsquare 0.9351628116490653\n",
      "rsquare 0.9424645349378225\n",
      "rsquare 0.9503886476784968\n",
      "rsquare 0.9314483404915122\n",
      "rsquare 0.9182853483375479\n",
      "rsquare 0.9265497434973641\n",
      "rsquare 0.9249178888200639\n",
      "rsquare 0.9257319223227065\n",
      "rsquare 0.9280639079818401\n",
      "rsquare 0.911245676632519\n",
      "rsquare 0.8527711578850025\n",
      "rsquare 0.8688245103198501\n",
      "rsquare 0.87148211472146\n",
      "rsquare 0.856927365952839\n",
      "rsquare 0.816056921586978\n",
      "rsquare 0.8423607454933063\n",
      "rsquare 0.8540179895402267\n",
      "rsquare 0.8359726068033391\n",
      "rsquare 0.8396409276404833\n",
      "rsquare 0.8307519894851109\n",
      "rsquare 0.9306208494538688\n",
      "rsquare 0.9396829917871169\n",
      "rsquare 0.94976413236166\n",
      "rsquare 0.9322211410816933\n",
      "rsquare 0.9152597591165624\n",
      "rsquare 0.9216104973678012\n",
      "rsquare 0.9312814529682459\n",
      "rsquare 0.9332427266104206\n",
      "rsquare 0.9259198093963362\n",
      "rsquare 0.9053884447843308\n",
      "rsquare 0.9216223710077762\n",
      "rsquare 0.920442866306905\n",
      "rsquare 0.9331453926822445\n",
      "rsquare 0.9270770214068369\n",
      "rsquare 0.8885753803667443\n",
      "rsquare 0.9136751438222447\n",
      "rsquare 0.9107871092606387\n",
      "rsquare 0.9223894219093177\n",
      "rsquare 0.9049255486998361\n",
      "rsquare 0.8914693563379785\n",
      "rsquare 0.9425311248132084\n",
      "rsquare 0.9489085503978427\n",
      "rsquare 0.9580132812685819\n",
      "rsquare 0.9419671010980759\n",
      "rsquare 0.9286457549640914\n",
      "rsquare 0.9368694918205734\n",
      "rsquare 0.9419229392349847\n",
      "rsquare 0.9413714343718844\n",
      "rsquare 0.9369266992247723\n",
      "rsquare 0.9211674377121263\n",
      "rsquare 0.9566119356458406\n",
      "rsquare 0.9609574244374741\n",
      "rsquare 0.9667188331243919\n",
      "rsquare 0.958827471218698\n",
      "rsquare 0.9479324492744318\n",
      "rsquare 0.9583619400126691\n",
      "rsquare 0.9549473309536672\n",
      "rsquare 0.9530916776279006\n",
      "rsquare 0.9558162811738302\n",
      "rsquare 0.9423564058967517\n",
      "rsquare 0.9405096780761141\n",
      "rsquare 0.9472605145452703\n",
      "rsquare 0.9573467581295746\n",
      "rsquare 0.9415520131090229\n",
      "rsquare 0.927049677577032\n",
      "rsquare 0.936157297156548\n",
      "rsquare 0.9400828657054585\n",
      "rsquare 0.9390330959738988\n",
      "rsquare 0.936825681075535\n",
      "rsquare 0.9204098342757567\n",
      "rsquare 0.9367421455606136\n",
      "rsquare 0.9455880399211369\n",
      "rsquare 0.951409021434593\n",
      "rsquare 0.934759708511092\n",
      "rsquare 0.9189400547504845\n",
      "rsquare 0.928354898561333\n",
      "rsquare 0.9349388915738033\n",
      "rsquare 0.9321790750637478\n",
      "rsquare 0.9299056305879264\n",
      "rsquare 0.9131770794577954\n",
      "rsquare 0.830011083666397\n",
      "rsquare 0.851321891906708\n",
      "rsquare 0.8501556041965386\n",
      "rsquare 0.8394916364869366\n",
      "rsquare 0.8056042256238247\n",
      "rsquare 0.8195452709815225\n",
      "rsquare 0.8350275276403135\n",
      "rsquare 0.815279121753782\n",
      "rsquare 0.8229347834028523\n",
      "rsquare 0.8060328557820304\n",
      "Best CV params {'random_state': 1, 'n_estimators': 300, 'min_samples_leaf': 2, 'max_features': 32, 'max_depth': 8}\n",
      "Best CV Rsquare 0.9555621749365655\n",
      "rsquare 0.9746160858924879\n",
      "Best train Rsquare 0.9746160858924879\n",
      "rsquare 0.9512092093228174\n",
      "Test RMSE of best grid search hypers: 0.9512092093228174\n",
      "rsquare 0.9512092093228174\n",
      "rsquare 0.9746160858924879\n",
      "adaboost\n",
      "rsquare 0.8590054856590779\n",
      "rsquare 0.8984925385725911\n",
      "rsquare 0.8869033531543661\n",
      "rsquare 0.8713210002534124\n",
      "rsquare 0.8478841969907857\n",
      "rsquare 0.8829060534252151\n",
      "rsquare 0.869216036057515\n",
      "rsquare 0.8650404362139847\n",
      "rsquare 0.8638349240166792\n",
      "rsquare 0.863474388313868\n",
      "rsquare 0.9161242598380319\n",
      "rsquare 0.9256199192298309\n",
      "rsquare 0.9151500268021827\n",
      "rsquare 0.911768366080156\n",
      "rsquare 0.9044087269412797\n",
      "rsquare 0.9224108395673545\n",
      "rsquare 0.9126517060347171\n",
      "rsquare 0.9029606340226171\n",
      "rsquare 0.9237138014148067\n",
      "rsquare 0.9056290373984487\n",
      "rsquare 0.8309156294547557\n",
      "rsquare 0.8293350689026932\n",
      "rsquare 0.8366870392375855\n",
      "rsquare 0.8264750143880755\n",
      "rsquare 0.7775854503173892\n",
      "rsquare 0.8044908178848545\n",
      "rsquare 0.7871354224384297\n",
      "rsquare 0.8246584228400097\n",
      "rsquare 0.8003774956487447\n",
      "rsquare 0.8079630396501014\n",
      "rsquare 0.8324367522970166\n",
      "rsquare 0.8309062734198338\n",
      "rsquare 0.8409311508655992\n",
      "rsquare 0.8286296288850392\n",
      "rsquare 0.7833265285880324\n",
      "rsquare 0.8032827004471813\n",
      "rsquare 0.7977529833292649\n",
      "rsquare 0.8305806006558991\n",
      "rsquare 0.8153102640849559\n",
      "rsquare 0.8133015726184519\n",
      "rsquare 0.9051376177002755\n",
      "rsquare 0.9241967460565499\n",
      "rsquare 0.9111123478076829\n",
      "rsquare 0.902379507789858\n",
      "rsquare 0.8925865770046592\n",
      "rsquare 0.9199187509148912\n",
      "rsquare 0.9017662176701419\n",
      "rsquare 0.8962356263345158\n",
      "rsquare 0.9151690614769253\n",
      "rsquare 0.9001616696292006\n",
      "rsquare 0.8697348547341962\n",
      "rsquare 0.9001826068816187\n",
      "rsquare 0.8863569709313525\n",
      "rsquare 0.8832658711880098\n",
      "rsquare 0.8534904969354711\n",
      "rsquare 0.8817313916064304\n",
      "rsquare 0.8758646462468697\n",
      "rsquare 0.8653127491188901\n",
      "rsquare 0.8727948907085853\n",
      "rsquare 0.86620973036915\n",
      "rsquare 0.8214068682233818\n",
      "rsquare 0.8166850798548027\n",
      "rsquare 0.8227166353042922\n",
      "rsquare 0.8200752413987696\n",
      "rsquare 0.7831187236275667\n",
      "rsquare 0.8027577243971242\n",
      "rsquare 0.7653005671892231\n",
      "rsquare 0.8004396027347285\n",
      "rsquare 0.7912952605901278\n",
      "rsquare 0.7879330894189793\n",
      "rsquare 0.8993790169616567\n",
      "rsquare 0.9191765965643239\n",
      "rsquare 0.9084919119083493\n",
      "rsquare 0.8981009266584118\n",
      "rsquare 0.8844078640539743\n",
      "rsquare 0.9153273142706496\n",
      "rsquare 0.8938399737460923\n",
      "rsquare 0.8930151774959687\n",
      "rsquare 0.9121478656863639\n",
      "rsquare 0.8961081266077514\n",
      "rsquare 0.9113019372061408\n",
      "rsquare 0.9290930642056915\n",
      "rsquare 0.9151375789872114\n",
      "rsquare 0.910329139845482\n",
      "rsquare 0.8989165074523864\n",
      "rsquare 0.9230178935791891\n",
      "rsquare 0.9079338328324367\n",
      "rsquare 0.9014210520146521\n",
      "rsquare 0.9159661051372161\n",
      "rsquare 0.9022013957948126\n",
      "rsquare 0.8419038809099704\n",
      "rsquare 0.8575256520272859\n",
      "rsquare 0.8563381654205542\n",
      "rsquare 0.8439652878572763\n",
      "rsquare 0.806572994853576\n",
      "rsquare 0.8203848332781211\n",
      "rsquare 0.8238463500369241\n",
      "rsquare 0.8436982406354893\n",
      "rsquare 0.8302911102147246\n",
      "rsquare 0.8279245312960741\n",
      "Best CV params {'random_state': 1, 'n_estimators': 100, 'learning_rate': 1}\n",
      "Best CV Rsquare 0.9140437317329425\n",
      "rsquare 0.918528712350765\n",
      "Best train Rsquare 0.918528712350765\n",
      "rsquare 0.9055986688919314\n",
      "Test RMSE of best grid search hypers: 0.9055986688919314\n",
      "rsquare 0.9055986688919314\n",
      "rsquare 0.918528712350765\n",
      "xgboost\n",
      "rsquare -1847.8145879543843\n",
      "rsquare -2066.6990932887597\n",
      "rsquare -1826.5312234741496\n",
      "rsquare -1804.7412751289874\n",
      "rsquare -1981.4932383617004\n",
      "rsquare -1712.1956619197074\n",
      "rsquare -1954.8100996805235\n",
      "rsquare -1838.6120013913055\n",
      "rsquare -1965.7550759820585\n",
      "rsquare -2103.967134023552\n",
      "rsquare -1543.174363221109\n",
      "rsquare -1726.7685107921172\n",
      "rsquare -1525.5507257973738\n",
      "rsquare -1506.8581846665431\n",
      "rsquare -1655.2815672597935\n",
      "rsquare -1430.0685916455777\n",
      "rsquare -1632.562636839391\n",
      "rsquare -1536.712064700251\n",
      "rsquare -1642.1690087008146\n",
      "rsquare -1758.1882152336188\n",
      "rsquare 0.9819694736527931\n",
      "rsquare 0.9828461770519064\n",
      "rsquare 0.9849087865965471\n",
      "rsquare 0.9847791658612226\n",
      "rsquare 0.9765878202531442\n",
      "rsquare 0.983621602376557\n",
      "rsquare 0.9807287382551967\n",
      "rsquare 0.9801934964220598\n",
      "rsquare 0.9809360589078533\n",
      "rsquare 0.9787728125896674\n",
      "rsquare 0.6025918187669494\n",
      "rsquare 0.6038702239438167\n",
      "rsquare 0.6367501669776248\n",
      "rsquare 0.6192202431985003\n",
      "rsquare 0.5507346029886693\n",
      "rsquare 0.6154541421223592\n",
      "rsquare 0.7278935820953782\n",
      "rsquare 0.6348743622784424\n",
      "rsquare 0.5426387028236543\n",
      "rsquare 0.5549559967973274\n",
      "rsquare -1881.4233187314903\n",
      "rsquare -2104.196556451392\n",
      "rsquare -1859.7352908810387\n",
      "rsquare -1837.6064400280388\n",
      "rsquare -2017.479017265827\n",
      "rsquare -1743.3197980349357\n",
      "rsquare -1990.3610499574008\n",
      "rsquare -1871.911362587995\n",
      "rsquare -2001.4510737605215\n",
      "rsquare -2142.1081448885675\n",
      "rsquare 0.6647963878396921\n",
      "rsquare 0.6897310818333454\n",
      "rsquare 0.6694715163013899\n",
      "rsquare 0.6753139514188833\n",
      "rsquare 0.6608050466440203\n",
      "rsquare 0.6463513114629995\n",
      "rsquare 0.6758304444051046\n",
      "rsquare 0.6501191307486985\n",
      "rsquare 0.6525278604711506\n",
      "rsquare 0.6534061249570293\n",
      "rsquare -1775.312623857235\n",
      "rsquare -1985.805230470785\n",
      "rsquare -1754.9015963419017\n",
      "rsquare -1733.844474969939\n",
      "rsquare -1903.86158473683\n",
      "rsquare -1645.053071179602\n",
      "rsquare -1878.1180886888978\n",
      "rsquare -1766.772975077093\n",
      "rsquare -1888.7484683349205\n",
      "rsquare -2021.6839263678064\n",
      "rsquare 0.6647476130731792\n",
      "rsquare 0.6898471666603329\n",
      "rsquare 0.6693863542164848\n",
      "rsquare 0.6752237375025814\n",
      "rsquare 0.6608664750302646\n",
      "rsquare 0.6463369533551382\n",
      "rsquare 0.6757291633878736\n",
      "rsquare 0.6502537548810197\n",
      "rsquare 0.652495970317897\n",
      "rsquare 0.6535084024183432\n",
      "rsquare -692.5041429385386\n",
      "rsquare -776.6503102292262\n",
      "rsquare -684.5680198791692\n",
      "rsquare -675.8406725641869\n",
      "rsquare -744.1011077359474\n",
      "rsquare -642.4443667533359\n",
      "rsquare -732.3235101296812\n",
      "rsquare -691.9706094561526\n",
      "rsquare -737.5530133066451\n",
      "rsquare -790.9857140798091\n",
      "rsquare -1775.312623857235\n",
      "rsquare -1985.805230470785\n",
      "rsquare -1754.9015963419017\n",
      "rsquare -1733.844474969939\n",
      "rsquare -1903.86158473683\n",
      "rsquare -1645.053071179602\n",
      "rsquare -1878.1180886888978\n",
      "rsquare -1766.772975077093\n",
      "rsquare -1888.7484683349205\n",
      "rsquare -2021.6839263678064\n",
      "Best CV params {'random_state': 1, 'n_estimators': 500, 'max_depth': 3, 'learning_rate': 0.1, 'gamma': 0.0}\n",
      "Best CV Rsquare 0.9815344131966948\n",
      "rsquare 0.9938041515175394\n",
      "Best train Rsquare 0.9938041515175394\n",
      "rsquare 0.9812559652803046\n",
      "Test RMSE of best grid search hypers: 0.9812559652803046\n",
      "rsquare 0.9812559652803046\n",
      "rsquare 0.9938041515175394\n"
     ]
    }
   ],
   "source": [
    "result_dict = {}\n",
    "for model in model_list:\n",
    "    print(model)\n",
    "    result_dict[model + '_param'], \\\n",
    "    result_dict[model + '_cvacc'], \\\n",
    "    result_dict[model + '_testacc'],\\\n",
    "    result_dict[model + '_trainacc'] \\\n",
    "    = RandomsearchRegression(models_dict[model], parameters_dct[model])"
   ]
  },
  {
   "attachments": {},
   "cell_type": "markdown",
   "metadata": {},
   "source": [
    "#### Random Forest result"
   ]
  },
  {
   "cell_type": "code",
   "execution_count": 73,
   "metadata": {},
   "outputs": [],
   "source": [
    "best_randomforest = RandomForestRegressor(**result_dict['random_forest_param'])"
   ]
  },
  {
   "cell_type": "code",
   "execution_count": 74,
   "metadata": {},
   "outputs": [
    {
     "data": {
      "text/html": [
       "<style>#sk-container-id-4 {color: black;background-color: white;}#sk-container-id-4 pre{padding: 0;}#sk-container-id-4 div.sk-toggleable {background-color: white;}#sk-container-id-4 label.sk-toggleable__label {cursor: pointer;display: block;width: 100%;margin-bottom: 0;padding: 0.3em;box-sizing: border-box;text-align: center;}#sk-container-id-4 label.sk-toggleable__label-arrow:before {content: \"▸\";float: left;margin-right: 0.25em;color: #696969;}#sk-container-id-4 label.sk-toggleable__label-arrow:hover:before {color: black;}#sk-container-id-4 div.sk-estimator:hover label.sk-toggleable__label-arrow:before {color: black;}#sk-container-id-4 div.sk-toggleable__content {max-height: 0;max-width: 0;overflow: hidden;text-align: left;background-color: #f0f8ff;}#sk-container-id-4 div.sk-toggleable__content pre {margin: 0.2em;color: black;border-radius: 0.25em;background-color: #f0f8ff;}#sk-container-id-4 input.sk-toggleable__control:checked~div.sk-toggleable__content {max-height: 200px;max-width: 100%;overflow: auto;}#sk-container-id-4 input.sk-toggleable__control:checked~label.sk-toggleable__label-arrow:before {content: \"▾\";}#sk-container-id-4 div.sk-estimator input.sk-toggleable__control:checked~label.sk-toggleable__label {background-color: #d4ebff;}#sk-container-id-4 div.sk-label input.sk-toggleable__control:checked~label.sk-toggleable__label {background-color: #d4ebff;}#sk-container-id-4 input.sk-hidden--visually {border: 0;clip: rect(1px 1px 1px 1px);clip: rect(1px, 1px, 1px, 1px);height: 1px;margin: -1px;overflow: hidden;padding: 0;position: absolute;width: 1px;}#sk-container-id-4 div.sk-estimator {font-family: monospace;background-color: #f0f8ff;border: 1px dotted black;border-radius: 0.25em;box-sizing: border-box;margin-bottom: 0.5em;}#sk-container-id-4 div.sk-estimator:hover {background-color: #d4ebff;}#sk-container-id-4 div.sk-parallel-item::after {content: \"\";width: 100%;border-bottom: 1px solid gray;flex-grow: 1;}#sk-container-id-4 div.sk-label:hover label.sk-toggleable__label {background-color: #d4ebff;}#sk-container-id-4 div.sk-serial::before {content: \"\";position: absolute;border-left: 1px solid gray;box-sizing: border-box;top: 0;bottom: 0;left: 50%;z-index: 0;}#sk-container-id-4 div.sk-serial {display: flex;flex-direction: column;align-items: center;background-color: white;padding-right: 0.2em;padding-left: 0.2em;position: relative;}#sk-container-id-4 div.sk-item {position: relative;z-index: 1;}#sk-container-id-4 div.sk-parallel {display: flex;align-items: stretch;justify-content: center;background-color: white;position: relative;}#sk-container-id-4 div.sk-item::before, #sk-container-id-4 div.sk-parallel-item::before {content: \"\";position: absolute;border-left: 1px solid gray;box-sizing: border-box;top: 0;bottom: 0;left: 50%;z-index: -1;}#sk-container-id-4 div.sk-parallel-item {display: flex;flex-direction: column;z-index: 1;position: relative;background-color: white;}#sk-container-id-4 div.sk-parallel-item:first-child::after {align-self: flex-end;width: 50%;}#sk-container-id-4 div.sk-parallel-item:last-child::after {align-self: flex-start;width: 50%;}#sk-container-id-4 div.sk-parallel-item:only-child::after {width: 0;}#sk-container-id-4 div.sk-dashed-wrapped {border: 1px dashed gray;margin: 0 0.4em 0.5em 0.4em;box-sizing: border-box;padding-bottom: 0.4em;background-color: white;}#sk-container-id-4 div.sk-label label {font-family: monospace;font-weight: bold;display: inline-block;line-height: 1.2em;}#sk-container-id-4 div.sk-label-container {text-align: center;}#sk-container-id-4 div.sk-container {/* jupyter's `normalize.less` sets `[hidden] { display: none; }` but bootstrap.min.css set `[hidden] { display: none !important; }` so we also need the `!important` here to be able to override the default hidden behavior on the sphinx rendered scikit-learn.org. See: https://github.com/scikit-learn/scikit-learn/issues/21755 */display: inline-block !important;position: relative;}#sk-container-id-4 div.sk-text-repr-fallback {display: none;}</style><div id=\"sk-container-id-4\" class=\"sk-top-container\"><div class=\"sk-text-repr-fallback\"><pre>RandomForestRegressor(max_depth=8, max_features=32, min_samples_leaf=2,\n",
       "                      n_estimators=300, random_state=1)</pre><b>In a Jupyter environment, please rerun this cell to show the HTML representation or trust the notebook. <br />On GitHub, the HTML representation is unable to render, please try loading this page with nbviewer.org.</b></div><div class=\"sk-container\" hidden><div class=\"sk-item\"><div class=\"sk-estimator sk-toggleable\"><input class=\"sk-toggleable__control sk-hidden--visually\" id=\"sk-estimator-id-4\" type=\"checkbox\" checked><label for=\"sk-estimator-id-4\" class=\"sk-toggleable__label sk-toggleable__label-arrow\">RandomForestRegressor</label><div class=\"sk-toggleable__content\"><pre>RandomForestRegressor(max_depth=8, max_features=32, min_samples_leaf=2,\n",
       "                      n_estimators=300, random_state=1)</pre></div></div></div></div></div>"
      ],
      "text/plain": [
       "RandomForestRegressor(max_depth=8, max_features=32, min_samples_leaf=2,\n",
       "                      n_estimators=300, random_state=1)"
      ]
     },
     "execution_count": 74,
     "metadata": {},
     "output_type": "execute_result"
    }
   ],
   "source": [
    "best_randomforest.fit(train_X, train_y)"
   ]
  },
  {
   "cell_type": "code",
   "execution_count": 75,
   "metadata": {},
   "outputs": [],
   "source": [
    "pred_y = best_randomforest.predict(test_X)"
   ]
  },
  {
   "cell_type": "code",
   "execution_count": 76,
   "metadata": {},
   "outputs": [
    {
     "name": "stdout",
     "output_type": "stream",
     "text": [
      "rmse 1467.0587505596936\n"
     ]
    },
    {
     "data": {
      "text/plain": [
       "1467.0587505596936"
      ]
     },
     "execution_count": 76,
     "metadata": {},
     "output_type": "execute_result"
    }
   ],
   "source": [
    "rmse(np.exp(pred_y), np.exp(test_y['TARGET_Weighted_RetailPrice']).values)"
   ]
  },
  {
   "cell_type": "code",
   "execution_count": 77,
   "metadata": {},
   "outputs": [
    {
     "data": {
      "text/plain": [
       "0.9102178219353045"
      ]
     },
     "execution_count": 77,
     "metadata": {},
     "output_type": "execute_result"
    }
   ],
   "source": [
    "r2_score(np.exp(pred_y), np.exp(test_y['TARGET_Weighted_RetailPrice']).values)"
   ]
  },
  {
   "cell_type": "code",
   "execution_count": 78,
   "metadata": {},
   "outputs": [],
   "source": [
    "RF_importances = best_randomforest.feature_importances_"
   ]
  },
  {
   "cell_type": "code",
   "execution_count": 79,
   "metadata": {},
   "outputs": [],
   "source": [
    "feature_names = list(X_featureimp.columns)"
   ]
  },
  {
   "cell_type": "code",
   "execution_count": 80,
   "metadata": {},
   "outputs": [],
   "source": [
    "RF_importances = pd.DataFrame(RF_importances, columns=['importances'], index=feature_names)"
   ]
  },
  {
   "cell_type": "code",
   "execution_count": 81,
   "metadata": {},
   "outputs": [
    {
     "data": {
      "text/html": [
       "<div>\n",
       "<style scoped>\n",
       "    .dataframe tbody tr th:only-of-type {\n",
       "        vertical-align: middle;\n",
       "    }\n",
       "\n",
       "    .dataframe tbody tr th {\n",
       "        vertical-align: top;\n",
       "    }\n",
       "\n",
       "    .dataframe thead th {\n",
       "        text-align: right;\n",
       "    }\n",
       "</style>\n",
       "<table border=\"1\" class=\"dataframe\">\n",
       "  <thead>\n",
       "    <tr style=\"text-align: right;\">\n",
       "      <th></th>\n",
       "      <th>importances</th>\n",
       "    </tr>\n",
       "  </thead>\n",
       "  <tbody>\n",
       "    <tr>\n",
       "      <th>MSRP_prevMY_WeightedByVol</th>\n",
       "      <td>1.652925e-01</td>\n",
       "    </tr>\n",
       "    <tr>\n",
       "      <th>SPEC_published_kerb_weight_kg</th>\n",
       "      <td>1.650915e-01</td>\n",
       "    </tr>\n",
       "    <tr>\n",
       "      <th>SPEC_maximum_torque_Nm</th>\n",
       "      <td>9.476505e-02</td>\n",
       "    </tr>\n",
       "    <tr>\n",
       "      <th>SPEC_length_x_width</th>\n",
       "      <td>5.538767e-02</td>\n",
       "    </tr>\n",
       "    <tr>\n",
       "      <th>SPEC_Airconditioningtype_manual</th>\n",
       "      <td>5.183005e-02</td>\n",
       "    </tr>\n",
       "    <tr>\n",
       "      <th>...</th>\n",
       "      <td>...</td>\n",
       "    </tr>\n",
       "    <tr>\n",
       "      <th>SPEC_rooftype_None</th>\n",
       "      <td>8.158401e-07</td>\n",
       "    </tr>\n",
       "    <tr>\n",
       "      <th>SPEC_Selective_catalytic_reduction</th>\n",
       "      <td>7.259858e-07</td>\n",
       "    </tr>\n",
       "    <tr>\n",
       "      <th>SPEC_painted_callipers</th>\n",
       "      <td>0.000000e+00</td>\n",
       "    </tr>\n",
       "    <tr>\n",
       "      <th>SPEC_multi_coat</th>\n",
       "      <td>0.000000e+00</td>\n",
       "    </tr>\n",
       "    <tr>\n",
       "      <th>SPEC_Low_tire_pressure_indicator</th>\n",
       "      <td>0.000000e+00</td>\n",
       "    </tr>\n",
       "  </tbody>\n",
       "</table>\n",
       "<p>211 rows × 1 columns</p>\n",
       "</div>"
      ],
      "text/plain": [
       "                                     importances\n",
       "MSRP_prevMY_WeightedByVol           1.652925e-01\n",
       "SPEC_published_kerb_weight_kg       1.650915e-01\n",
       "SPEC_maximum_torque_Nm              9.476505e-02\n",
       "SPEC_length_x_width                 5.538767e-02\n",
       "SPEC_Airconditioningtype_manual     5.183005e-02\n",
       "...                                          ...\n",
       "SPEC_rooftype_None                  8.158401e-07\n",
       "SPEC_Selective_catalytic_reduction  7.259858e-07\n",
       "SPEC_painted_callipers              0.000000e+00\n",
       "SPEC_multi_coat                     0.000000e+00\n",
       "SPEC_Low_tire_pressure_indicator    0.000000e+00\n",
       "\n",
       "[211 rows x 1 columns]"
      ]
     },
     "execution_count": 81,
     "metadata": {},
     "output_type": "execute_result"
    }
   ],
   "source": [
    "RF_importances.sort_values(by='importances', ascending=False)"
   ]
  },
  {
   "attachments": {},
   "cell_type": "markdown",
   "metadata": {},
   "source": [
    "#### Adaboost result"
   ]
  },
  {
   "cell_type": "code",
   "execution_count": 82,
   "metadata": {},
   "outputs": [],
   "source": [
    "best_adaboost= AdaBoostRegressor(**result_dict['adaboost_param'])\n"
   ]
  },
  {
   "cell_type": "code",
   "execution_count": 83,
   "metadata": {},
   "outputs": [
    {
     "data": {
      "text/html": [
       "<style>#sk-container-id-5 {color: black;background-color: white;}#sk-container-id-5 pre{padding: 0;}#sk-container-id-5 div.sk-toggleable {background-color: white;}#sk-container-id-5 label.sk-toggleable__label {cursor: pointer;display: block;width: 100%;margin-bottom: 0;padding: 0.3em;box-sizing: border-box;text-align: center;}#sk-container-id-5 label.sk-toggleable__label-arrow:before {content: \"▸\";float: left;margin-right: 0.25em;color: #696969;}#sk-container-id-5 label.sk-toggleable__label-arrow:hover:before {color: black;}#sk-container-id-5 div.sk-estimator:hover label.sk-toggleable__label-arrow:before {color: black;}#sk-container-id-5 div.sk-toggleable__content {max-height: 0;max-width: 0;overflow: hidden;text-align: left;background-color: #f0f8ff;}#sk-container-id-5 div.sk-toggleable__content pre {margin: 0.2em;color: black;border-radius: 0.25em;background-color: #f0f8ff;}#sk-container-id-5 input.sk-toggleable__control:checked~div.sk-toggleable__content {max-height: 200px;max-width: 100%;overflow: auto;}#sk-container-id-5 input.sk-toggleable__control:checked~label.sk-toggleable__label-arrow:before {content: \"▾\";}#sk-container-id-5 div.sk-estimator input.sk-toggleable__control:checked~label.sk-toggleable__label {background-color: #d4ebff;}#sk-container-id-5 div.sk-label input.sk-toggleable__control:checked~label.sk-toggleable__label {background-color: #d4ebff;}#sk-container-id-5 input.sk-hidden--visually {border: 0;clip: rect(1px 1px 1px 1px);clip: rect(1px, 1px, 1px, 1px);height: 1px;margin: -1px;overflow: hidden;padding: 0;position: absolute;width: 1px;}#sk-container-id-5 div.sk-estimator {font-family: monospace;background-color: #f0f8ff;border: 1px dotted black;border-radius: 0.25em;box-sizing: border-box;margin-bottom: 0.5em;}#sk-container-id-5 div.sk-estimator:hover {background-color: #d4ebff;}#sk-container-id-5 div.sk-parallel-item::after {content: \"\";width: 100%;border-bottom: 1px solid gray;flex-grow: 1;}#sk-container-id-5 div.sk-label:hover label.sk-toggleable__label {background-color: #d4ebff;}#sk-container-id-5 div.sk-serial::before {content: \"\";position: absolute;border-left: 1px solid gray;box-sizing: border-box;top: 0;bottom: 0;left: 50%;z-index: 0;}#sk-container-id-5 div.sk-serial {display: flex;flex-direction: column;align-items: center;background-color: white;padding-right: 0.2em;padding-left: 0.2em;position: relative;}#sk-container-id-5 div.sk-item {position: relative;z-index: 1;}#sk-container-id-5 div.sk-parallel {display: flex;align-items: stretch;justify-content: center;background-color: white;position: relative;}#sk-container-id-5 div.sk-item::before, #sk-container-id-5 div.sk-parallel-item::before {content: \"\";position: absolute;border-left: 1px solid gray;box-sizing: border-box;top: 0;bottom: 0;left: 50%;z-index: -1;}#sk-container-id-5 div.sk-parallel-item {display: flex;flex-direction: column;z-index: 1;position: relative;background-color: white;}#sk-container-id-5 div.sk-parallel-item:first-child::after {align-self: flex-end;width: 50%;}#sk-container-id-5 div.sk-parallel-item:last-child::after {align-self: flex-start;width: 50%;}#sk-container-id-5 div.sk-parallel-item:only-child::after {width: 0;}#sk-container-id-5 div.sk-dashed-wrapped {border: 1px dashed gray;margin: 0 0.4em 0.5em 0.4em;box-sizing: border-box;padding-bottom: 0.4em;background-color: white;}#sk-container-id-5 div.sk-label label {font-family: monospace;font-weight: bold;display: inline-block;line-height: 1.2em;}#sk-container-id-5 div.sk-label-container {text-align: center;}#sk-container-id-5 div.sk-container {/* jupyter's `normalize.less` sets `[hidden] { display: none; }` but bootstrap.min.css set `[hidden] { display: none !important; }` so we also need the `!important` here to be able to override the default hidden behavior on the sphinx rendered scikit-learn.org. See: https://github.com/scikit-learn/scikit-learn/issues/21755 */display: inline-block !important;position: relative;}#sk-container-id-5 div.sk-text-repr-fallback {display: none;}</style><div id=\"sk-container-id-5\" class=\"sk-top-container\"><div class=\"sk-text-repr-fallback\"><pre>AdaBoostRegressor(learning_rate=1, n_estimators=100, random_state=1)</pre><b>In a Jupyter environment, please rerun this cell to show the HTML representation or trust the notebook. <br />On GitHub, the HTML representation is unable to render, please try loading this page with nbviewer.org.</b></div><div class=\"sk-container\" hidden><div class=\"sk-item\"><div class=\"sk-estimator sk-toggleable\"><input class=\"sk-toggleable__control sk-hidden--visually\" id=\"sk-estimator-id-5\" type=\"checkbox\" checked><label for=\"sk-estimator-id-5\" class=\"sk-toggleable__label sk-toggleable__label-arrow\">AdaBoostRegressor</label><div class=\"sk-toggleable__content\"><pre>AdaBoostRegressor(learning_rate=1, n_estimators=100, random_state=1)</pre></div></div></div></div></div>"
      ],
      "text/plain": [
       "AdaBoostRegressor(learning_rate=1, n_estimators=100, random_state=1)"
      ]
     },
     "execution_count": 83,
     "metadata": {},
     "output_type": "execute_result"
    }
   ],
   "source": [
    "best_adaboost.fit(train_X, train_y)"
   ]
  },
  {
   "cell_type": "code",
   "execution_count": 84,
   "metadata": {},
   "outputs": [],
   "source": [
    "pred_y = best_adaboost.predict(test_X)"
   ]
  },
  {
   "cell_type": "code",
   "execution_count": 85,
   "metadata": {},
   "outputs": [
    {
     "name": "stdout",
     "output_type": "stream",
     "text": [
      "rmse 1861.3549194388586\n"
     ]
    },
    {
     "data": {
      "text/plain": [
       "1861.3549194388586"
      ]
     },
     "execution_count": 85,
     "metadata": {},
     "output_type": "execute_result"
    }
   ],
   "source": [
    "rmse(np.exp(pred_y), np.exp(test_y['TARGET_Weighted_RetailPrice']).values)"
   ]
  },
  {
   "cell_type": "code",
   "execution_count": 86,
   "metadata": {},
   "outputs": [
    {
     "data": {
      "text/plain": [
       "0.8431672440084639"
      ]
     },
     "execution_count": 86,
     "metadata": {},
     "output_type": "execute_result"
    }
   ],
   "source": [
    "r2_score(np.exp(pred_y), np.exp(test_y['TARGET_Weighted_RetailPrice']).values)"
   ]
  },
  {
   "cell_type": "code",
   "execution_count": 87,
   "metadata": {},
   "outputs": [],
   "source": [
    "AB_importances = best_adaboost.feature_importances_"
   ]
  },
  {
   "cell_type": "code",
   "execution_count": 88,
   "metadata": {},
   "outputs": [],
   "source": [
    "AB_importances = pd.DataFrame(AB_importances, columns=['importances'], index=feature_names)"
   ]
  },
  {
   "cell_type": "code",
   "execution_count": 89,
   "metadata": {},
   "outputs": [
    {
     "data": {
      "text/html": [
       "<div>\n",
       "<style scoped>\n",
       "    .dataframe tbody tr th:only-of-type {\n",
       "        vertical-align: middle;\n",
       "    }\n",
       "\n",
       "    .dataframe tbody tr th {\n",
       "        vertical-align: top;\n",
       "    }\n",
       "\n",
       "    .dataframe thead th {\n",
       "        text-align: right;\n",
       "    }\n",
       "</style>\n",
       "<table border=\"1\" class=\"dataframe\">\n",
       "  <thead>\n",
       "    <tr style=\"text-align: right;\">\n",
       "      <th></th>\n",
       "      <th>importances</th>\n",
       "    </tr>\n",
       "  </thead>\n",
       "  <tbody>\n",
       "    <tr>\n",
       "      <th>SPEC_published_kerb_weight_kg</th>\n",
       "      <td>0.247131</td>\n",
       "    </tr>\n",
       "    <tr>\n",
       "      <th>MSRP_prevMY_WeightedByVol</th>\n",
       "      <td>0.247096</td>\n",
       "    </tr>\n",
       "    <tr>\n",
       "      <th>SPEC_maximum_torque_Nm</th>\n",
       "      <td>0.084347</td>\n",
       "    </tr>\n",
       "    <tr>\n",
       "      <th>SPEC_length_x_width</th>\n",
       "      <td>0.075067</td>\n",
       "    </tr>\n",
       "    <tr>\n",
       "      <th>SPEC_Steering_plastic</th>\n",
       "      <td>0.050864</td>\n",
       "    </tr>\n",
       "    <tr>\n",
       "      <th>...</th>\n",
       "      <td>...</td>\n",
       "    </tr>\n",
       "    <tr>\n",
       "      <th>SPEC_IIHS_smalloverlapFRDR_Acceptable</th>\n",
       "      <td>0.000000</td>\n",
       "    </tr>\n",
       "    <tr>\n",
       "      <th>SPEC_Dual_clutch_sequential</th>\n",
       "      <td>0.000000</td>\n",
       "    </tr>\n",
       "    <tr>\n",
       "      <th>SPEC_Tinted_glass</th>\n",
       "      <td>0.000000</td>\n",
       "    </tr>\n",
       "    <tr>\n",
       "      <th>SPEC_Electronic_brake_distribution</th>\n",
       "      <td>0.000000</td>\n",
       "    </tr>\n",
       "    <tr>\n",
       "      <th>SPEC_luxurytrim_instrumentpanel_leather</th>\n",
       "      <td>0.000000</td>\n",
       "    </tr>\n",
       "  </tbody>\n",
       "</table>\n",
       "<p>211 rows × 1 columns</p>\n",
       "</div>"
      ],
      "text/plain": [
       "                                         importances\n",
       "SPEC_published_kerb_weight_kg               0.247131\n",
       "MSRP_prevMY_WeightedByVol                   0.247096\n",
       "SPEC_maximum_torque_Nm                      0.084347\n",
       "SPEC_length_x_width                         0.075067\n",
       "SPEC_Steering_plastic                       0.050864\n",
       "...                                              ...\n",
       "SPEC_IIHS_smalloverlapFRDR_Acceptable       0.000000\n",
       "SPEC_Dual_clutch_sequential                 0.000000\n",
       "SPEC_Tinted_glass                           0.000000\n",
       "SPEC_Electronic_brake_distribution          0.000000\n",
       "SPEC_luxurytrim_instrumentpanel_leather     0.000000\n",
       "\n",
       "[211 rows x 1 columns]"
      ]
     },
     "execution_count": 89,
     "metadata": {},
     "output_type": "execute_result"
    }
   ],
   "source": [
    "AB_importances.sort_values(by='importances', ascending=False)"
   ]
  },
  {
   "attachments": {},
   "cell_type": "markdown",
   "metadata": {},
   "source": [
    "#### XGboost result"
   ]
  },
  {
   "cell_type": "code",
   "execution_count": 90,
   "metadata": {},
   "outputs": [],
   "source": [
    "best_xgboost = xgb.XGBRegressor(**result_dict['xgboost_param'])"
   ]
  },
  {
   "cell_type": "code",
   "execution_count": 91,
   "metadata": {},
   "outputs": [
    {
     "data": {
      "text/html": [
       "<style>#sk-container-id-6 {color: black;background-color: white;}#sk-container-id-6 pre{padding: 0;}#sk-container-id-6 div.sk-toggleable {background-color: white;}#sk-container-id-6 label.sk-toggleable__label {cursor: pointer;display: block;width: 100%;margin-bottom: 0;padding: 0.3em;box-sizing: border-box;text-align: center;}#sk-container-id-6 label.sk-toggleable__label-arrow:before {content: \"▸\";float: left;margin-right: 0.25em;color: #696969;}#sk-container-id-6 label.sk-toggleable__label-arrow:hover:before {color: black;}#sk-container-id-6 div.sk-estimator:hover label.sk-toggleable__label-arrow:before {color: black;}#sk-container-id-6 div.sk-toggleable__content {max-height: 0;max-width: 0;overflow: hidden;text-align: left;background-color: #f0f8ff;}#sk-container-id-6 div.sk-toggleable__content pre {margin: 0.2em;color: black;border-radius: 0.25em;background-color: #f0f8ff;}#sk-container-id-6 input.sk-toggleable__control:checked~div.sk-toggleable__content {max-height: 200px;max-width: 100%;overflow: auto;}#sk-container-id-6 input.sk-toggleable__control:checked~label.sk-toggleable__label-arrow:before {content: \"▾\";}#sk-container-id-6 div.sk-estimator input.sk-toggleable__control:checked~label.sk-toggleable__label {background-color: #d4ebff;}#sk-container-id-6 div.sk-label input.sk-toggleable__control:checked~label.sk-toggleable__label {background-color: #d4ebff;}#sk-container-id-6 input.sk-hidden--visually {border: 0;clip: rect(1px 1px 1px 1px);clip: rect(1px, 1px, 1px, 1px);height: 1px;margin: -1px;overflow: hidden;padding: 0;position: absolute;width: 1px;}#sk-container-id-6 div.sk-estimator {font-family: monospace;background-color: #f0f8ff;border: 1px dotted black;border-radius: 0.25em;box-sizing: border-box;margin-bottom: 0.5em;}#sk-container-id-6 div.sk-estimator:hover {background-color: #d4ebff;}#sk-container-id-6 div.sk-parallel-item::after {content: \"\";width: 100%;border-bottom: 1px solid gray;flex-grow: 1;}#sk-container-id-6 div.sk-label:hover label.sk-toggleable__label {background-color: #d4ebff;}#sk-container-id-6 div.sk-serial::before {content: \"\";position: absolute;border-left: 1px solid gray;box-sizing: border-box;top: 0;bottom: 0;left: 50%;z-index: 0;}#sk-container-id-6 div.sk-serial {display: flex;flex-direction: column;align-items: center;background-color: white;padding-right: 0.2em;padding-left: 0.2em;position: relative;}#sk-container-id-6 div.sk-item {position: relative;z-index: 1;}#sk-container-id-6 div.sk-parallel {display: flex;align-items: stretch;justify-content: center;background-color: white;position: relative;}#sk-container-id-6 div.sk-item::before, #sk-container-id-6 div.sk-parallel-item::before {content: \"\";position: absolute;border-left: 1px solid gray;box-sizing: border-box;top: 0;bottom: 0;left: 50%;z-index: -1;}#sk-container-id-6 div.sk-parallel-item {display: flex;flex-direction: column;z-index: 1;position: relative;background-color: white;}#sk-container-id-6 div.sk-parallel-item:first-child::after {align-self: flex-end;width: 50%;}#sk-container-id-6 div.sk-parallel-item:last-child::after {align-self: flex-start;width: 50%;}#sk-container-id-6 div.sk-parallel-item:only-child::after {width: 0;}#sk-container-id-6 div.sk-dashed-wrapped {border: 1px dashed gray;margin: 0 0.4em 0.5em 0.4em;box-sizing: border-box;padding-bottom: 0.4em;background-color: white;}#sk-container-id-6 div.sk-label label {font-family: monospace;font-weight: bold;display: inline-block;line-height: 1.2em;}#sk-container-id-6 div.sk-label-container {text-align: center;}#sk-container-id-6 div.sk-container {/* jupyter's `normalize.less` sets `[hidden] { display: none; }` but bootstrap.min.css set `[hidden] { display: none !important; }` so we also need the `!important` here to be able to override the default hidden behavior on the sphinx rendered scikit-learn.org. See: https://github.com/scikit-learn/scikit-learn/issues/21755 */display: inline-block !important;position: relative;}#sk-container-id-6 div.sk-text-repr-fallback {display: none;}</style><div id=\"sk-container-id-6\" class=\"sk-top-container\"><div class=\"sk-text-repr-fallback\"><pre>XGBRegressor(base_score=None, booster=None, callbacks=None,\n",
       "             colsample_bylevel=None, colsample_bynode=None,\n",
       "             colsample_bytree=None, early_stopping_rounds=None,\n",
       "             enable_categorical=False, eval_metric=None, feature_types=None,\n",
       "             gamma=0.0, gpu_id=None, grow_policy=None, importance_type=None,\n",
       "             interaction_constraints=None, learning_rate=0.1, max_bin=None,\n",
       "             max_cat_threshold=None, max_cat_to_onehot=None,\n",
       "             max_delta_step=None, max_depth=3, max_leaves=None,\n",
       "             min_child_weight=None, missing=nan, monotone_constraints=None,\n",
       "             n_estimators=500, n_jobs=None, num_parallel_tree=None,\n",
       "             predictor=None, random_state=1, ...)</pre><b>In a Jupyter environment, please rerun this cell to show the HTML representation or trust the notebook. <br />On GitHub, the HTML representation is unable to render, please try loading this page with nbviewer.org.</b></div><div class=\"sk-container\" hidden><div class=\"sk-item\"><div class=\"sk-estimator sk-toggleable\"><input class=\"sk-toggleable__control sk-hidden--visually\" id=\"sk-estimator-id-6\" type=\"checkbox\" checked><label for=\"sk-estimator-id-6\" class=\"sk-toggleable__label sk-toggleable__label-arrow\">XGBRegressor</label><div class=\"sk-toggleable__content\"><pre>XGBRegressor(base_score=None, booster=None, callbacks=None,\n",
       "             colsample_bylevel=None, colsample_bynode=None,\n",
       "             colsample_bytree=None, early_stopping_rounds=None,\n",
       "             enable_categorical=False, eval_metric=None, feature_types=None,\n",
       "             gamma=0.0, gpu_id=None, grow_policy=None, importance_type=None,\n",
       "             interaction_constraints=None, learning_rate=0.1, max_bin=None,\n",
       "             max_cat_threshold=None, max_cat_to_onehot=None,\n",
       "             max_delta_step=None, max_depth=3, max_leaves=None,\n",
       "             min_child_weight=None, missing=nan, monotone_constraints=None,\n",
       "             n_estimators=500, n_jobs=None, num_parallel_tree=None,\n",
       "             predictor=None, random_state=1, ...)</pre></div></div></div></div></div>"
      ],
      "text/plain": [
       "XGBRegressor(base_score=None, booster=None, callbacks=None,\n",
       "             colsample_bylevel=None, colsample_bynode=None,\n",
       "             colsample_bytree=None, early_stopping_rounds=None,\n",
       "             enable_categorical=False, eval_metric=None, feature_types=None,\n",
       "             gamma=0.0, gpu_id=None, grow_policy=None, importance_type=None,\n",
       "             interaction_constraints=None, learning_rate=0.1, max_bin=None,\n",
       "             max_cat_threshold=None, max_cat_to_onehot=None,\n",
       "             max_delta_step=None, max_depth=3, max_leaves=None,\n",
       "             min_child_weight=None, missing=nan, monotone_constraints=None,\n",
       "             n_estimators=500, n_jobs=None, num_parallel_tree=None,\n",
       "             predictor=None, random_state=1, ...)"
      ]
     },
     "execution_count": 91,
     "metadata": {},
     "output_type": "execute_result"
    }
   ],
   "source": [
    "best_xgboost.fit(train_X, train_y)"
   ]
  },
  {
   "cell_type": "code",
   "execution_count": 92,
   "metadata": {},
   "outputs": [],
   "source": [
    "pred_y = best_xgboost.predict(test_X)"
   ]
  },
  {
   "cell_type": "code",
   "execution_count": 93,
   "metadata": {},
   "outputs": [
    {
     "name": "stdout",
     "output_type": "stream",
     "text": [
      "rmse 924.9314127560051\n"
     ]
    },
    {
     "data": {
      "text/plain": [
       "924.9314127560051"
      ]
     },
     "execution_count": 93,
     "metadata": {},
     "output_type": "execute_result"
    }
   ],
   "source": [
    "rmse(np.exp(pred_y), np.exp(test_y['TARGET_Weighted_RetailPrice']).values)"
   ]
  },
  {
   "cell_type": "code",
   "execution_count": 94,
   "metadata": {},
   "outputs": [
    {
     "data": {
      "text/plain": [
       "0.9711639387620974"
      ]
     },
     "execution_count": 94,
     "metadata": {},
     "output_type": "execute_result"
    }
   ],
   "source": [
    "r2_score(np.exp(pred_y), np.exp(test_y['TARGET_Weighted_RetailPrice']).values)"
   ]
  },
  {
   "cell_type": "code",
   "execution_count": 95,
   "metadata": {},
   "outputs": [
    {
     "name": "stdout",
     "output_type": "stream",
     "text": [
      "random_forest\n",
      "Best parameter: {'random_state': 1, 'n_estimators': 300, 'min_samples_leaf': 2, 'max_features': 32, 'max_depth': 8}\n",
      "Best Train accuracy: 0.9746160858924879\n",
      "Best Test accuracy: 0.9512092093228174\n",
      "Best CV accuracy: 0.9555621749365655\n",
      "adaboost\n",
      "Best parameter: {'random_state': 1, 'n_estimators': 100, 'learning_rate': 1}\n",
      "Best Train accuracy: 0.918528712350765\n",
      "Best Test accuracy: 0.9055986688919314\n",
      "Best CV accuracy: 0.9140437317329425\n",
      "xgboost\n",
      "Best parameter: {'random_state': 1, 'n_estimators': 500, 'max_depth': 3, 'learning_rate': 0.1, 'gamma': 0.0}\n",
      "Best Train accuracy: 0.9938041515175394\n",
      "Best Test accuracy: 0.9812559652803046\n",
      "Best CV accuracy: 0.9815344131966948\n"
     ]
    }
   ],
   "source": [
    "for model in model_list:\n",
    "    print(model)\n",
    "    print('Best parameter:', result_dict[model + '_param'])\n",
    "    print('Best Train accuracy:',result_dict[model + '_trainacc'])\n",
    "    print('Best Test accuracy:',result_dict[model + '_testacc'])\n",
    "    print('Best CV accuracy:',result_dict[model + '_cvacc'])"
   ]
  },
  {
   "attachments": {},
   "cell_type": "markdown",
   "metadata": {},
   "source": [
    "### Model with reduced variables of Intersections (173 variables)"
   ]
  },
  {
   "cell_type": "code",
   "execution_count": 96,
   "metadata": {},
   "outputs": [],
   "source": [
    "featureimp_variables = list(set(RF_vars).intersection(set(XGB_vars)).intersection(set(AB_vars)))"
   ]
  },
  {
   "cell_type": "code",
   "execution_count": 97,
   "metadata": {},
   "outputs": [
    {
     "data": {
      "text/plain": [
       "173"
      ]
     },
     "execution_count": 97,
     "metadata": {},
     "output_type": "execute_result"
    }
   ],
   "source": [
    "len(featureimp_variables)"
   ]
  },
  {
   "cell_type": "code",
   "execution_count": 98,
   "metadata": {},
   "outputs": [],
   "source": [
    "pd.DataFrame(featureimp_variables).to_csv('variables_intersections_'+model_name+'.csv', index=False)"
   ]
  },
  {
   "cell_type": "code",
   "execution_count": 99,
   "metadata": {},
   "outputs": [],
   "source": [
    "X = df_ml.drop(target, axis=1)"
   ]
  },
  {
   "cell_type": "code",
   "execution_count": 100,
   "metadata": {},
   "outputs": [],
   "source": [
    "X_featureimp = X[featureimp_variables]"
   ]
  },
  {
   "cell_type": "code",
   "execution_count": 101,
   "metadata": {},
   "outputs": [],
   "source": [
    "y = df_ml[[target]]"
   ]
  },
  {
   "cell_type": "code",
   "execution_count": 102,
   "metadata": {},
   "outputs": [],
   "source": [
    "y = np.log(y)"
   ]
  },
  {
   "cell_type": "code",
   "execution_count": 103,
   "metadata": {},
   "outputs": [],
   "source": [
    "train_X, test_X, train_y, test_y = train_test_split(X_featureimp, y, train_size=0.7, test_size=0.3, random_state=42)"
   ]
  },
  {
   "cell_type": "code",
   "execution_count": 104,
   "metadata": {},
   "outputs": [
    {
     "name": "stdout",
     "output_type": "stream",
     "text": [
      "random_forest\n",
      "rsquare 0.9207185037892057\n",
      "rsquare 0.9287722556547534\n",
      "rsquare 0.9327210043608801\n",
      "rsquare 0.9208993960719377\n",
      "rsquare 0.9044133272054112\n",
      "rsquare 0.9135375172849656\n",
      "rsquare 0.9001011832073131\n",
      "rsquare 0.9057303401597172\n",
      "rsquare 0.9066271243711431\n",
      "rsquare 0.8947545145737564\n",
      "rsquare 0.9615391955719338\n",
      "rsquare 0.9631450961608455\n",
      "rsquare 0.9718499183411946\n",
      "rsquare 0.9658615416759581\n",
      "rsquare 0.9566852194213894\n",
      "rsquare 0.9615014396075955\n",
      "rsquare 0.9606640916929925\n",
      "rsquare 0.9618397897287666\n",
      "rsquare 0.9607606495192927\n",
      "rsquare 0.946651579926117\n",
      "rsquare 0.8299291659714746\n",
      "rsquare 0.8493754435023683\n",
      "rsquare 0.8475949721382996\n",
      "rsquare 0.8386649880596819\n",
      "rsquare 0.7795967772939945\n",
      "rsquare 0.8135498648363368\n",
      "rsquare 0.819919994495038\n",
      "rsquare 0.8133293031814232\n",
      "rsquare 0.8069824198568452\n",
      "rsquare 0.799895443806496\n",
      "rsquare 0.9319732456119285\n",
      "rsquare 0.9383192147488999\n",
      "rsquare 0.9494834299861656\n",
      "rsquare 0.9321045931883584\n",
      "rsquare 0.9175311193076946\n",
      "rsquare 0.9230770694567063\n",
      "rsquare 0.9235847441734565\n",
      "rsquare 0.9288358284755539\n",
      "rsquare 0.9242315121547632\n",
      "rsquare 0.9088858508352677\n",
      "rsquare 0.8948038764144648\n",
      "rsquare 0.9102785641850856\n",
      "rsquare 0.9142876100328033\n",
      "rsquare 0.9000953151949121\n",
      "rsquare 0.8799061144545967\n",
      "rsquare 0.8892854001578765\n",
      "rsquare 0.8892449262255814\n",
      "rsquare 0.8854326766304209\n",
      "rsquare 0.8866758431660802\n",
      "rsquare 0.8710011069394863\n",
      "rsquare 0.9306878570762093\n",
      "rsquare 0.9331998458007218\n",
      "rsquare 0.941520235630214\n",
      "rsquare 0.9287489094600081\n",
      "rsquare 0.9097508360259322\n",
      "rsquare 0.9211656710295915\n",
      "rsquare 0.9182198725513963\n",
      "rsquare 0.9142475634398505\n",
      "rsquare 0.9165695911383421\n",
      "rsquare 0.9059241536009943\n",
      "rsquare 0.9349493102730819\n",
      "rsquare 0.9357118867623755\n",
      "rsquare 0.9410863246596267\n",
      "rsquare 0.9336898168271794\n",
      "rsquare 0.9149426795484026\n",
      "rsquare 0.9361605202643586\n",
      "rsquare 0.9237990042131898\n",
      "rsquare 0.9168880945757597\n",
      "rsquare 0.9180523752334379\n",
      "rsquare 0.9128405692303418\n",
      "rsquare 0.9343213512457629\n",
      "rsquare 0.943727896846189\n",
      "rsquare 0.9553818405673394\n",
      "rsquare 0.9394793821053488\n",
      "rsquare 0.9190019900788673\n",
      "rsquare 0.9296054053187145\n",
      "rsquare 0.9339057522121397\n",
      "rsquare 0.9367413847501458\n",
      "rsquare 0.9267068300241624\n",
      "rsquare 0.9202356694105704\n",
      "rsquare 0.9371064099990108\n",
      "rsquare 0.942591609846209\n",
      "rsquare 0.9524089998017603\n",
      "rsquare 0.9385949781816317\n",
      "rsquare 0.9266184909108832\n",
      "rsquare 0.9308643245274951\n",
      "rsquare 0.9275403577293744\n",
      "rsquare 0.9297399598399909\n",
      "rsquare 0.9292515798065449\n",
      "rsquare 0.9139696639355865\n",
      "rsquare 0.9419705231459248\n",
      "rsquare 0.948022781308628\n",
      "rsquare 0.9570601906418652\n",
      "rsquare 0.9434021905940543\n",
      "rsquare 0.9308327975686342\n",
      "rsquare 0.9343678148958526\n",
      "rsquare 0.9389788408878313\n",
      "rsquare 0.9391954109852085\n",
      "rsquare 0.934623887990312\n",
      "rsquare 0.9216690563344606\n",
      "Best CV params {'random_state': 1, 'n_estimators': 300, 'min_samples_leaf': 3, 'max_features': 24, 'max_depth': 10}\n",
      "Best CV Rsquare 0.9610498521646086\n",
      "rsquare 0.9816423498864365\n",
      "Best train Rsquare 0.9816423498864365\n",
      "rsquare 0.956478492178158\n",
      "Test RMSE of best grid search hypers: 0.956478492178158\n",
      "rsquare 0.956478492178158\n",
      "rsquare 0.9816423498864365\n",
      "adaboost\n",
      "rsquare 0.9109099657662817\n",
      "rsquare 0.9257023028379467\n",
      "rsquare 0.9159573773237015\n",
      "rsquare 0.9065756021149193\n",
      "rsquare 0.8979525977451388\n",
      "rsquare 0.9216942045039895\n",
      "rsquare 0.909110806003824\n",
      "rsquare 0.9002331727344896\n",
      "rsquare 0.9127061029088791\n",
      "rsquare 0.9006649941547409\n",
      "rsquare 0.9174961688271395\n",
      "rsquare 0.931914012294836\n",
      "rsquare 0.9134352800504258\n",
      "rsquare 0.9101275167129932\n",
      "rsquare 0.9076166796715447\n",
      "rsquare 0.925431930596713\n",
      "rsquare 0.9085303034253202\n",
      "rsquare 0.9060341859092784\n",
      "rsquare 0.9173447620409898\n",
      "rsquare 0.9027521400382581\n",
      "rsquare 0.8294442728100397\n",
      "rsquare 0.8310966308494855\n",
      "rsquare 0.8353185692118577\n",
      "rsquare 0.8205117166646273\n",
      "rsquare 0.7679948585101518\n",
      "rsquare 0.7960517167529876\n",
      "rsquare 0.7899176629873658\n",
      "rsquare 0.8203637515276045\n",
      "rsquare 0.7897359265823702\n",
      "rsquare 0.8082219953266566\n",
      "rsquare 0.8223657456945523\n",
      "rsquare 0.8230939907566451\n",
      "rsquare 0.8274642665901524\n",
      "rsquare 0.820256345805204\n",
      "rsquare 0.7594810718001249\n",
      "rsquare 0.7918325165800946\n",
      "rsquare 0.7908444263381501\n",
      "rsquare 0.8212360071733849\n",
      "rsquare 0.7891149992413464\n",
      "rsquare 0.807680977710818\n",
      "rsquare 0.8775401375432431\n",
      "rsquare 0.9070794965980575\n",
      "rsquare 0.8956476344177958\n",
      "rsquare 0.8908727264261493\n",
      "rsquare 0.871212185838823\n",
      "rsquare 0.8970786831029052\n",
      "rsquare 0.8833812629631013\n",
      "rsquare 0.8760454904064445\n",
      "rsquare 0.889653951483384\n",
      "rsquare 0.8827176018700195\n",
      "rsquare 0.9039255116805313\n",
      "rsquare 0.9225470885214518\n",
      "rsquare 0.9116639220355481\n",
      "rsquare 0.901813363120335\n",
      "rsquare 0.8902983357911413\n",
      "rsquare 0.9193620277107836\n",
      "rsquare 0.9020761635372444\n",
      "rsquare 0.8966850500981386\n",
      "rsquare 0.9112879703364323\n",
      "rsquare 0.898319059688609\n",
      "rsquare 0.8309543848975662\n",
      "rsquare 0.8278567886065669\n",
      "rsquare 0.838003578231045\n",
      "rsquare 0.8277350202990609\n",
      "rsquare 0.7759516804261943\n",
      "rsquare 0.8035511595663308\n",
      "rsquare 0.7934275578775358\n",
      "rsquare 0.8228866763195547\n",
      "rsquare 0.810871151239118\n",
      "rsquare 0.8146624149982993\n",
      "rsquare 0.8402194493643514\n",
      "rsquare 0.852212973868852\n",
      "rsquare 0.8505897486449526\n",
      "rsquare 0.8454659629974058\n",
      "rsquare 0.8040275988771826\n",
      "rsquare 0.8204909683056135\n",
      "rsquare 0.8225115198333914\n",
      "rsquare 0.8348946748187012\n",
      "rsquare 0.8231635885685085\n",
      "rsquare 0.8300742093240114\n",
      "rsquare 0.8254017018956615\n",
      "rsquare 0.8104343021266006\n",
      "rsquare 0.8320761751030992\n",
      "rsquare 0.822356245123274\n",
      "rsquare 0.7669703796647098\n",
      "rsquare 0.7974312626000959\n",
      "rsquare 0.796753957114178\n",
      "rsquare 0.8218741500672304\n",
      "rsquare 0.7966887842769985\n",
      "rsquare 0.8099937384972922\n",
      "rsquare 0.8342589515681254\n",
      "rsquare 0.8388067394396633\n",
      "rsquare 0.843147954428471\n",
      "rsquare 0.8319261635434356\n",
      "rsquare 0.778860453800085\n",
      "rsquare 0.8019117741811435\n",
      "rsquare 0.8070496177898838\n",
      "rsquare 0.8290594662304007\n",
      "rsquare 0.8123500879628657\n",
      "rsquare 0.8164781119855287\n",
      "Best CV params {'random_state': 1, 'n_estimators': 100, 'learning_rate': 1}\n",
      "Best CV Rsquare 0.9140682979567499\n",
      "rsquare 0.9223731591847103\n",
      "Best train Rsquare 0.9223731591847103\n",
      "rsquare 0.9092857930240532\n",
      "Test RMSE of best grid search hypers: 0.9092857930240532\n",
      "rsquare 0.9092857930240532\n",
      "rsquare 0.9223731591847103\n",
      "xgboost\n",
      "rsquare 0.6647476130731792\n",
      "rsquare 0.6898471666603329\n",
      "rsquare 0.6693863542164848\n",
      "rsquare 0.6752237375025814\n",
      "rsquare 0.6608664750302646\n",
      "rsquare 0.6463369533551382\n",
      "rsquare 0.6757291633878736\n",
      "rsquare 0.6502537548810197\n",
      "rsquare 0.652495970317897\n",
      "rsquare 0.6535084024183432\n",
      "rsquare -228.4072832277854\n",
      "rsquare -257.1926380413329\n",
      "rsquare -225.68660695028186\n",
      "rsquare -223.09666286509744\n",
      "rsquare -246.2920314094939\n",
      "rsquare -212.2504042029045\n",
      "rsquare -241.29094440667453\n",
      "rsquare -229.521246337084\n",
      "rsquare -243.43160721259113\n",
      "rsquare -262.1019384660666\n",
      "rsquare -1847.8145879543843\n",
      "rsquare -2066.6990932887597\n",
      "rsquare -1826.5312234741496\n",
      "rsquare -1804.7412751289874\n",
      "rsquare -1981.4932383617004\n",
      "rsquare -1712.1956619197074\n",
      "rsquare -1954.8100996805235\n",
      "rsquare -1838.6120013913055\n",
      "rsquare -1965.7550759820585\n",
      "rsquare -2103.967134023552\n",
      "rsquare 0.6006678071750848\n",
      "rsquare 0.5767243529714814\n",
      "rsquare 0.6136655165892946\n",
      "rsquare 0.6255432739602832\n",
      "rsquare 0.563657811473213\n",
      "rsquare 0.5831600366753726\n",
      "rsquare 0.625642218380797\n",
      "rsquare 0.5399974621792947\n",
      "rsquare 0.5839750749551591\n",
      "rsquare 0.5415235732264587\n",
      "rsquare 0.7068766094063186\n",
      "rsquare 0.7334607000016431\n",
      "rsquare 0.7167258535394148\n",
      "rsquare 0.7180644097455442\n",
      "rsquare 0.7058959365205885\n",
      "rsquare 0.6890197607483435\n",
      "rsquare 0.7198664334709386\n",
      "rsquare 0.6967682520837433\n",
      "rsquare 0.696518713778361\n",
      "rsquare 0.6988661473482622\n",
      "rsquare -1543.174363221109\n",
      "rsquare -1726.7685107921172\n",
      "rsquare -1525.5507257973738\n",
      "rsquare -1506.8581846665431\n",
      "rsquare -1655.2815672597935\n",
      "rsquare -1430.0685916455777\n",
      "rsquare -1632.562636839391\n",
      "rsquare -1536.712064700251\n",
      "rsquare -1642.1690087008146\n",
      "rsquare -1758.1882152336188\n",
      "rsquare -228.59484912549928\n",
      "rsquare -257.3200565871512\n",
      "rsquare -225.64063324985943\n",
      "rsquare -223.10986184095518\n",
      "rsquare -246.31506300043992\n",
      "rsquare -212.1892097567178\n",
      "rsquare -241.34771202216518\n",
      "rsquare -229.40958113880546\n",
      "rsquare -243.29500822698245\n",
      "rsquare -261.99578252240843\n",
      "rsquare -228.59484912549928\n",
      "rsquare -257.3200565871512\n",
      "rsquare -225.64063324985943\n",
      "rsquare -223.10986184095518\n",
      "rsquare -246.31506300043992\n",
      "rsquare -212.1892097567178\n",
      "rsquare -241.34771202216518\n",
      "rsquare -229.40958113880546\n",
      "rsquare -243.29500822698245\n",
      "rsquare -261.99578252240843\n",
      "rsquare 0.7333362215775565\n",
      "rsquare 0.7585138739526771\n",
      "rsquare 0.7751611423703801\n",
      "rsquare 0.7701908996830156\n",
      "rsquare 0.6698491585888038\n",
      "rsquare 0.7598758651310867\n",
      "rsquare 0.7408049843147351\n",
      "rsquare 0.7323189032128287\n",
      "rsquare 0.6824283663057742\n",
      "rsquare 0.6911876946357011\n",
      "rsquare -1847.831225508789\n",
      "rsquare -2066.717712281014\n",
      "rsquare -1826.5476387344302\n",
      "rsquare -1804.7575652036553\n",
      "rsquare -1981.5110306561821\n",
      "rsquare -1712.2111347137497\n",
      "rsquare -1954.8276989202939\n",
      "rsquare -1838.6285159821014\n",
      "rsquare -1965.7727743554526\n",
      "rsquare -2103.985969143236\n",
      "Best CV params {'random_state': 1, 'n_estimators': 10, 'max_depth': 5, 'learning_rate': 1, 'gamma': 4.0}\n",
      "Best CV Rsquare 0.7313667109772559\n",
      "rsquare 0.7618781582046369\n",
      "Best train Rsquare 0.7618781582046369\n",
      "rsquare 0.7489094122659233\n",
      "Test RMSE of best grid search hypers: 0.7489094122659233\n",
      "rsquare 0.7489094122659233\n",
      "rsquare 0.7618781582046369\n"
     ]
    }
   ],
   "source": [
    "result_dict = {}\n",
    "for model in model_list:\n",
    "    print(model)\n",
    "    result_dict[model + '_param'], \\\n",
    "    result_dict[model + '_cvacc'], \\\n",
    "    result_dict[model + '_testacc'],\\\n",
    "    result_dict[model + '_trainacc'] \\\n",
    "    = RandomsearchRegression(models_dict[model], parameters_dct[model])"
   ]
  },
  {
   "attachments": {},
   "cell_type": "markdown",
   "metadata": {},
   "source": [
    "#### Random Forest result"
   ]
  },
  {
   "cell_type": "code",
   "execution_count": 105,
   "metadata": {},
   "outputs": [],
   "source": [
    "best_randomforest = RandomForestRegressor(**result_dict['random_forest_param'])"
   ]
  },
  {
   "cell_type": "code",
   "execution_count": 106,
   "metadata": {},
   "outputs": [
    {
     "data": {
      "text/html": [
       "<style>#sk-container-id-7 {color: black;background-color: white;}#sk-container-id-7 pre{padding: 0;}#sk-container-id-7 div.sk-toggleable {background-color: white;}#sk-container-id-7 label.sk-toggleable__label {cursor: pointer;display: block;width: 100%;margin-bottom: 0;padding: 0.3em;box-sizing: border-box;text-align: center;}#sk-container-id-7 label.sk-toggleable__label-arrow:before {content: \"▸\";float: left;margin-right: 0.25em;color: #696969;}#sk-container-id-7 label.sk-toggleable__label-arrow:hover:before {color: black;}#sk-container-id-7 div.sk-estimator:hover label.sk-toggleable__label-arrow:before {color: black;}#sk-container-id-7 div.sk-toggleable__content {max-height: 0;max-width: 0;overflow: hidden;text-align: left;background-color: #f0f8ff;}#sk-container-id-7 div.sk-toggleable__content pre {margin: 0.2em;color: black;border-radius: 0.25em;background-color: #f0f8ff;}#sk-container-id-7 input.sk-toggleable__control:checked~div.sk-toggleable__content {max-height: 200px;max-width: 100%;overflow: auto;}#sk-container-id-7 input.sk-toggleable__control:checked~label.sk-toggleable__label-arrow:before {content: \"▾\";}#sk-container-id-7 div.sk-estimator input.sk-toggleable__control:checked~label.sk-toggleable__label {background-color: #d4ebff;}#sk-container-id-7 div.sk-label input.sk-toggleable__control:checked~label.sk-toggleable__label {background-color: #d4ebff;}#sk-container-id-7 input.sk-hidden--visually {border: 0;clip: rect(1px 1px 1px 1px);clip: rect(1px, 1px, 1px, 1px);height: 1px;margin: -1px;overflow: hidden;padding: 0;position: absolute;width: 1px;}#sk-container-id-7 div.sk-estimator {font-family: monospace;background-color: #f0f8ff;border: 1px dotted black;border-radius: 0.25em;box-sizing: border-box;margin-bottom: 0.5em;}#sk-container-id-7 div.sk-estimator:hover {background-color: #d4ebff;}#sk-container-id-7 div.sk-parallel-item::after {content: \"\";width: 100%;border-bottom: 1px solid gray;flex-grow: 1;}#sk-container-id-7 div.sk-label:hover label.sk-toggleable__label {background-color: #d4ebff;}#sk-container-id-7 div.sk-serial::before {content: \"\";position: absolute;border-left: 1px solid gray;box-sizing: border-box;top: 0;bottom: 0;left: 50%;z-index: 0;}#sk-container-id-7 div.sk-serial {display: flex;flex-direction: column;align-items: center;background-color: white;padding-right: 0.2em;padding-left: 0.2em;position: relative;}#sk-container-id-7 div.sk-item {position: relative;z-index: 1;}#sk-container-id-7 div.sk-parallel {display: flex;align-items: stretch;justify-content: center;background-color: white;position: relative;}#sk-container-id-7 div.sk-item::before, #sk-container-id-7 div.sk-parallel-item::before {content: \"\";position: absolute;border-left: 1px solid gray;box-sizing: border-box;top: 0;bottom: 0;left: 50%;z-index: -1;}#sk-container-id-7 div.sk-parallel-item {display: flex;flex-direction: column;z-index: 1;position: relative;background-color: white;}#sk-container-id-7 div.sk-parallel-item:first-child::after {align-self: flex-end;width: 50%;}#sk-container-id-7 div.sk-parallel-item:last-child::after {align-self: flex-start;width: 50%;}#sk-container-id-7 div.sk-parallel-item:only-child::after {width: 0;}#sk-container-id-7 div.sk-dashed-wrapped {border: 1px dashed gray;margin: 0 0.4em 0.5em 0.4em;box-sizing: border-box;padding-bottom: 0.4em;background-color: white;}#sk-container-id-7 div.sk-label label {font-family: monospace;font-weight: bold;display: inline-block;line-height: 1.2em;}#sk-container-id-7 div.sk-label-container {text-align: center;}#sk-container-id-7 div.sk-container {/* jupyter's `normalize.less` sets `[hidden] { display: none; }` but bootstrap.min.css set `[hidden] { display: none !important; }` so we also need the `!important` here to be able to override the default hidden behavior on the sphinx rendered scikit-learn.org. See: https://github.com/scikit-learn/scikit-learn/issues/21755 */display: inline-block !important;position: relative;}#sk-container-id-7 div.sk-text-repr-fallback {display: none;}</style><div id=\"sk-container-id-7\" class=\"sk-top-container\"><div class=\"sk-text-repr-fallback\"><pre>RandomForestRegressor(max_depth=10, max_features=24, min_samples_leaf=3,\n",
       "                      n_estimators=300, random_state=1)</pre><b>In a Jupyter environment, please rerun this cell to show the HTML representation or trust the notebook. <br />On GitHub, the HTML representation is unable to render, please try loading this page with nbviewer.org.</b></div><div class=\"sk-container\" hidden><div class=\"sk-item\"><div class=\"sk-estimator sk-toggleable\"><input class=\"sk-toggleable__control sk-hidden--visually\" id=\"sk-estimator-id-7\" type=\"checkbox\" checked><label for=\"sk-estimator-id-7\" class=\"sk-toggleable__label sk-toggleable__label-arrow\">RandomForestRegressor</label><div class=\"sk-toggleable__content\"><pre>RandomForestRegressor(max_depth=10, max_features=24, min_samples_leaf=3,\n",
       "                      n_estimators=300, random_state=1)</pre></div></div></div></div></div>"
      ],
      "text/plain": [
       "RandomForestRegressor(max_depth=10, max_features=24, min_samples_leaf=3,\n",
       "                      n_estimators=300, random_state=1)"
      ]
     },
     "execution_count": 106,
     "metadata": {},
     "output_type": "execute_result"
    }
   ],
   "source": [
    "best_randomforest.fit(train_X, train_y)"
   ]
  },
  {
   "cell_type": "code",
   "execution_count": 107,
   "metadata": {},
   "outputs": [],
   "source": [
    "pred_y = best_randomforest.predict(test_X)"
   ]
  },
  {
   "cell_type": "code",
   "execution_count": 108,
   "metadata": {},
   "outputs": [
    {
     "name": "stdout",
     "output_type": "stream",
     "text": [
      "rmse 1412.4607136977313\n"
     ]
    },
    {
     "data": {
      "text/plain": [
       "1412.4607136977313"
      ]
     },
     "execution_count": 108,
     "metadata": {},
     "output_type": "execute_result"
    }
   ],
   "source": [
    "rmse(np.exp(pred_y), np.exp(test_y['TARGET_Weighted_RetailPrice']).values)"
   ]
  },
  {
   "cell_type": "code",
   "execution_count": 109,
   "metadata": {},
   "outputs": [
    {
     "data": {
      "text/plain": [
       "0.9196062868965994"
      ]
     },
     "execution_count": 109,
     "metadata": {},
     "output_type": "execute_result"
    }
   ],
   "source": [
    "r2_score(np.exp(pred_y), np.exp(test_y['TARGET_Weighted_RetailPrice']).values)"
   ]
  },
  {
   "cell_type": "code",
   "execution_count": 110,
   "metadata": {},
   "outputs": [],
   "source": [
    "RF_importances = best_randomforest.feature_importances_"
   ]
  },
  {
   "cell_type": "code",
   "execution_count": 111,
   "metadata": {},
   "outputs": [],
   "source": [
    "feature_names = list(X_featureimp.columns)"
   ]
  },
  {
   "cell_type": "code",
   "execution_count": 112,
   "metadata": {},
   "outputs": [],
   "source": [
    "RF_importances = pd.DataFrame(RF_importances, columns=['importances'], index=feature_names)"
   ]
  },
  {
   "cell_type": "code",
   "execution_count": 113,
   "metadata": {},
   "outputs": [
    {
     "data": {
      "text/html": [
       "<div>\n",
       "<style scoped>\n",
       "    .dataframe tbody tr th:only-of-type {\n",
       "        vertical-align: middle;\n",
       "    }\n",
       "\n",
       "    .dataframe tbody tr th {\n",
       "        vertical-align: top;\n",
       "    }\n",
       "\n",
       "    .dataframe thead th {\n",
       "        text-align: right;\n",
       "    }\n",
       "</style>\n",
       "<table border=\"1\" class=\"dataframe\">\n",
       "  <thead>\n",
       "    <tr style=\"text-align: right;\">\n",
       "      <th></th>\n",
       "      <th>importances</th>\n",
       "    </tr>\n",
       "  </thead>\n",
       "  <tbody>\n",
       "    <tr>\n",
       "      <th>SPEC_published_kerb_weight_kg</th>\n",
       "      <td>0.159828</td>\n",
       "    </tr>\n",
       "    <tr>\n",
       "      <th>MSRP_prevMY_WeightedByVol</th>\n",
       "      <td>0.152805</td>\n",
       "    </tr>\n",
       "    <tr>\n",
       "      <th>SPEC_maximum_torque_Nm</th>\n",
       "      <td>0.091933</td>\n",
       "    </tr>\n",
       "    <tr>\n",
       "      <th>SPEC_length_x_width</th>\n",
       "      <td>0.060171</td>\n",
       "    </tr>\n",
       "    <tr>\n",
       "      <th>SPEC_Airconditioningtype_manual</th>\n",
       "      <td>0.043815</td>\n",
       "    </tr>\n",
       "    <tr>\n",
       "      <th>...</th>\n",
       "      <td>...</td>\n",
       "    </tr>\n",
       "    <tr>\n",
       "      <th>SPEC_luxurytrim_centerconsole_wood</th>\n",
       "      <td>0.000025</td>\n",
       "    </tr>\n",
       "    <tr>\n",
       "      <th>SPEC_Headlight_cleaners</th>\n",
       "      <td>0.000018</td>\n",
       "    </tr>\n",
       "    <tr>\n",
       "      <th>SPEC_AC1socket</th>\n",
       "      <td>0.000014</td>\n",
       "    </tr>\n",
       "    <tr>\n",
       "      <th>SPEC_Sport_exhaust_pipe</th>\n",
       "      <td>0.000009</td>\n",
       "    </tr>\n",
       "    <tr>\n",
       "      <th>SPEC_painted_callipers</th>\n",
       "      <td>0.000000</td>\n",
       "    </tr>\n",
       "  </tbody>\n",
       "</table>\n",
       "<p>173 rows × 1 columns</p>\n",
       "</div>"
      ],
      "text/plain": [
       "                                    importances\n",
       "SPEC_published_kerb_weight_kg          0.159828\n",
       "MSRP_prevMY_WeightedByVol              0.152805\n",
       "SPEC_maximum_torque_Nm                 0.091933\n",
       "SPEC_length_x_width                    0.060171\n",
       "SPEC_Airconditioningtype_manual        0.043815\n",
       "...                                         ...\n",
       "SPEC_luxurytrim_centerconsole_wood     0.000025\n",
       "SPEC_Headlight_cleaners                0.000018\n",
       "SPEC_AC1socket                         0.000014\n",
       "SPEC_Sport_exhaust_pipe                0.000009\n",
       "SPEC_painted_callipers                 0.000000\n",
       "\n",
       "[173 rows x 1 columns]"
      ]
     },
     "execution_count": 113,
     "metadata": {},
     "output_type": "execute_result"
    }
   ],
   "source": [
    "RF_importances.sort_values(by='importances', ascending=False)"
   ]
  },
  {
   "attachments": {},
   "cell_type": "markdown",
   "metadata": {},
   "source": [
    "#### Adaboost result"
   ]
  },
  {
   "cell_type": "code",
   "execution_count": 114,
   "metadata": {},
   "outputs": [],
   "source": [
    "best_adaboost= AdaBoostRegressor(**result_dict['adaboost_param'])\n"
   ]
  },
  {
   "cell_type": "code",
   "execution_count": 115,
   "metadata": {},
   "outputs": [
    {
     "data": {
      "text/html": [
       "<style>#sk-container-id-8 {color: black;background-color: white;}#sk-container-id-8 pre{padding: 0;}#sk-container-id-8 div.sk-toggleable {background-color: white;}#sk-container-id-8 label.sk-toggleable__label {cursor: pointer;display: block;width: 100%;margin-bottom: 0;padding: 0.3em;box-sizing: border-box;text-align: center;}#sk-container-id-8 label.sk-toggleable__label-arrow:before {content: \"▸\";float: left;margin-right: 0.25em;color: #696969;}#sk-container-id-8 label.sk-toggleable__label-arrow:hover:before {color: black;}#sk-container-id-8 div.sk-estimator:hover label.sk-toggleable__label-arrow:before {color: black;}#sk-container-id-8 div.sk-toggleable__content {max-height: 0;max-width: 0;overflow: hidden;text-align: left;background-color: #f0f8ff;}#sk-container-id-8 div.sk-toggleable__content pre {margin: 0.2em;color: black;border-radius: 0.25em;background-color: #f0f8ff;}#sk-container-id-8 input.sk-toggleable__control:checked~div.sk-toggleable__content {max-height: 200px;max-width: 100%;overflow: auto;}#sk-container-id-8 input.sk-toggleable__control:checked~label.sk-toggleable__label-arrow:before {content: \"▾\";}#sk-container-id-8 div.sk-estimator input.sk-toggleable__control:checked~label.sk-toggleable__label {background-color: #d4ebff;}#sk-container-id-8 div.sk-label input.sk-toggleable__control:checked~label.sk-toggleable__label {background-color: #d4ebff;}#sk-container-id-8 input.sk-hidden--visually {border: 0;clip: rect(1px 1px 1px 1px);clip: rect(1px, 1px, 1px, 1px);height: 1px;margin: -1px;overflow: hidden;padding: 0;position: absolute;width: 1px;}#sk-container-id-8 div.sk-estimator {font-family: monospace;background-color: #f0f8ff;border: 1px dotted black;border-radius: 0.25em;box-sizing: border-box;margin-bottom: 0.5em;}#sk-container-id-8 div.sk-estimator:hover {background-color: #d4ebff;}#sk-container-id-8 div.sk-parallel-item::after {content: \"\";width: 100%;border-bottom: 1px solid gray;flex-grow: 1;}#sk-container-id-8 div.sk-label:hover label.sk-toggleable__label {background-color: #d4ebff;}#sk-container-id-8 div.sk-serial::before {content: \"\";position: absolute;border-left: 1px solid gray;box-sizing: border-box;top: 0;bottom: 0;left: 50%;z-index: 0;}#sk-container-id-8 div.sk-serial {display: flex;flex-direction: column;align-items: center;background-color: white;padding-right: 0.2em;padding-left: 0.2em;position: relative;}#sk-container-id-8 div.sk-item {position: relative;z-index: 1;}#sk-container-id-8 div.sk-parallel {display: flex;align-items: stretch;justify-content: center;background-color: white;position: relative;}#sk-container-id-8 div.sk-item::before, #sk-container-id-8 div.sk-parallel-item::before {content: \"\";position: absolute;border-left: 1px solid gray;box-sizing: border-box;top: 0;bottom: 0;left: 50%;z-index: -1;}#sk-container-id-8 div.sk-parallel-item {display: flex;flex-direction: column;z-index: 1;position: relative;background-color: white;}#sk-container-id-8 div.sk-parallel-item:first-child::after {align-self: flex-end;width: 50%;}#sk-container-id-8 div.sk-parallel-item:last-child::after {align-self: flex-start;width: 50%;}#sk-container-id-8 div.sk-parallel-item:only-child::after {width: 0;}#sk-container-id-8 div.sk-dashed-wrapped {border: 1px dashed gray;margin: 0 0.4em 0.5em 0.4em;box-sizing: border-box;padding-bottom: 0.4em;background-color: white;}#sk-container-id-8 div.sk-label label {font-family: monospace;font-weight: bold;display: inline-block;line-height: 1.2em;}#sk-container-id-8 div.sk-label-container {text-align: center;}#sk-container-id-8 div.sk-container {/* jupyter's `normalize.less` sets `[hidden] { display: none; }` but bootstrap.min.css set `[hidden] { display: none !important; }` so we also need the `!important` here to be able to override the default hidden behavior on the sphinx rendered scikit-learn.org. See: https://github.com/scikit-learn/scikit-learn/issues/21755 */display: inline-block !important;position: relative;}#sk-container-id-8 div.sk-text-repr-fallback {display: none;}</style><div id=\"sk-container-id-8\" class=\"sk-top-container\"><div class=\"sk-text-repr-fallback\"><pre>AdaBoostRegressor(learning_rate=1, n_estimators=100, random_state=1)</pre><b>In a Jupyter environment, please rerun this cell to show the HTML representation or trust the notebook. <br />On GitHub, the HTML representation is unable to render, please try loading this page with nbviewer.org.</b></div><div class=\"sk-container\" hidden><div class=\"sk-item\"><div class=\"sk-estimator sk-toggleable\"><input class=\"sk-toggleable__control sk-hidden--visually\" id=\"sk-estimator-id-8\" type=\"checkbox\" checked><label for=\"sk-estimator-id-8\" class=\"sk-toggleable__label sk-toggleable__label-arrow\">AdaBoostRegressor</label><div class=\"sk-toggleable__content\"><pre>AdaBoostRegressor(learning_rate=1, n_estimators=100, random_state=1)</pre></div></div></div></div></div>"
      ],
      "text/plain": [
       "AdaBoostRegressor(learning_rate=1, n_estimators=100, random_state=1)"
      ]
     },
     "execution_count": 115,
     "metadata": {},
     "output_type": "execute_result"
    }
   ],
   "source": [
    "best_adaboost.fit(train_X, train_y)"
   ]
  },
  {
   "cell_type": "code",
   "execution_count": 116,
   "metadata": {},
   "outputs": [],
   "source": [
    "pred_y = best_adaboost.predict(test_X)"
   ]
  },
  {
   "cell_type": "code",
   "execution_count": 117,
   "metadata": {},
   "outputs": [
    {
     "name": "stdout",
     "output_type": "stream",
     "text": [
      "rmse 1836.3689494155142\n"
     ]
    },
    {
     "data": {
      "text/plain": [
       "1836.3689494155142"
      ]
     },
     "execution_count": 117,
     "metadata": {},
     "output_type": "execute_result"
    }
   ],
   "source": [
    "rmse(np.exp(pred_y), np.exp(test_y['TARGET_Weighted_RetailPrice']).values)"
   ]
  },
  {
   "cell_type": "code",
   "execution_count": 118,
   "metadata": {},
   "outputs": [
    {
     "data": {
      "text/plain": [
       "0.847160062632713"
      ]
     },
     "execution_count": 118,
     "metadata": {},
     "output_type": "execute_result"
    }
   ],
   "source": [
    "r2_score(np.exp(pred_y), np.exp(test_y['TARGET_Weighted_RetailPrice']).values)"
   ]
  },
  {
   "cell_type": "code",
   "execution_count": 119,
   "metadata": {},
   "outputs": [],
   "source": [
    "AB_importances = best_adaboost.feature_importances_"
   ]
  },
  {
   "cell_type": "code",
   "execution_count": 120,
   "metadata": {},
   "outputs": [],
   "source": [
    "AB_importances = pd.DataFrame(AB_importances, columns=['importances'], index=feature_names)"
   ]
  },
  {
   "cell_type": "code",
   "execution_count": 121,
   "metadata": {},
   "outputs": [
    {
     "data": {
      "text/html": [
       "<div>\n",
       "<style scoped>\n",
       "    .dataframe tbody tr th:only-of-type {\n",
       "        vertical-align: middle;\n",
       "    }\n",
       "\n",
       "    .dataframe tbody tr th {\n",
       "        vertical-align: top;\n",
       "    }\n",
       "\n",
       "    .dataframe thead th {\n",
       "        text-align: right;\n",
       "    }\n",
       "</style>\n",
       "<table border=\"1\" class=\"dataframe\">\n",
       "  <thead>\n",
       "    <tr style=\"text-align: right;\">\n",
       "      <th></th>\n",
       "      <th>importances</th>\n",
       "    </tr>\n",
       "  </thead>\n",
       "  <tbody>\n",
       "    <tr>\n",
       "      <th>SPEC_published_kerb_weight_kg</th>\n",
       "      <td>0.252278</td>\n",
       "    </tr>\n",
       "    <tr>\n",
       "      <th>MSRP_prevMY_WeightedByVol</th>\n",
       "      <td>0.245460</td>\n",
       "    </tr>\n",
       "    <tr>\n",
       "      <th>SPEC_maximum_torque_Nm</th>\n",
       "      <td>0.095942</td>\n",
       "    </tr>\n",
       "    <tr>\n",
       "      <th>SPEC_length_x_width</th>\n",
       "      <td>0.069869</td>\n",
       "    </tr>\n",
       "    <tr>\n",
       "      <th>SPEC_Steering_plastic</th>\n",
       "      <td>0.046017</td>\n",
       "    </tr>\n",
       "    <tr>\n",
       "      <th>...</th>\n",
       "      <td>...</td>\n",
       "    </tr>\n",
       "    <tr>\n",
       "      <th>SPEC_length_mm</th>\n",
       "      <td>0.000000</td>\n",
       "    </tr>\n",
       "    <tr>\n",
       "      <th>SPEC_Airbags_number</th>\n",
       "      <td>0.000000</td>\n",
       "    </tr>\n",
       "    <tr>\n",
       "      <th>SPEC_includes_remote_charge_activation</th>\n",
       "      <td>0.000000</td>\n",
       "    </tr>\n",
       "    <tr>\n",
       "      <th>SPEC_luxurytrim_shiftknob_leather</th>\n",
       "      <td>0.000000</td>\n",
       "    </tr>\n",
       "    <tr>\n",
       "      <th>SPEC_motortorquelbft_max</th>\n",
       "      <td>0.000000</td>\n",
       "    </tr>\n",
       "  </tbody>\n",
       "</table>\n",
       "<p>173 rows × 1 columns</p>\n",
       "</div>"
      ],
      "text/plain": [
       "                                        importances\n",
       "SPEC_published_kerb_weight_kg              0.252278\n",
       "MSRP_prevMY_WeightedByVol                  0.245460\n",
       "SPEC_maximum_torque_Nm                     0.095942\n",
       "SPEC_length_x_width                        0.069869\n",
       "SPEC_Steering_plastic                      0.046017\n",
       "...                                             ...\n",
       "SPEC_length_mm                             0.000000\n",
       "SPEC_Airbags_number                        0.000000\n",
       "SPEC_includes_remote_charge_activation     0.000000\n",
       "SPEC_luxurytrim_shiftknob_leather          0.000000\n",
       "SPEC_motortorquelbft_max                   0.000000\n",
       "\n",
       "[173 rows x 1 columns]"
      ]
     },
     "execution_count": 121,
     "metadata": {},
     "output_type": "execute_result"
    }
   ],
   "source": [
    "AB_importances.sort_values(by='importances', ascending=False)"
   ]
  },
  {
   "attachments": {},
   "cell_type": "markdown",
   "metadata": {},
   "source": [
    "#### XGboost result"
   ]
  },
  {
   "cell_type": "code",
   "execution_count": 122,
   "metadata": {},
   "outputs": [],
   "source": [
    "best_xgboost = xgb.XGBRegressor(**result_dict['xgboost_param'])"
   ]
  },
  {
   "cell_type": "code",
   "execution_count": 123,
   "metadata": {},
   "outputs": [
    {
     "data": {
      "text/html": [
       "<style>#sk-container-id-9 {color: black;background-color: white;}#sk-container-id-9 pre{padding: 0;}#sk-container-id-9 div.sk-toggleable {background-color: white;}#sk-container-id-9 label.sk-toggleable__label {cursor: pointer;display: block;width: 100%;margin-bottom: 0;padding: 0.3em;box-sizing: border-box;text-align: center;}#sk-container-id-9 label.sk-toggleable__label-arrow:before {content: \"▸\";float: left;margin-right: 0.25em;color: #696969;}#sk-container-id-9 label.sk-toggleable__label-arrow:hover:before {color: black;}#sk-container-id-9 div.sk-estimator:hover label.sk-toggleable__label-arrow:before {color: black;}#sk-container-id-9 div.sk-toggleable__content {max-height: 0;max-width: 0;overflow: hidden;text-align: left;background-color: #f0f8ff;}#sk-container-id-9 div.sk-toggleable__content pre {margin: 0.2em;color: black;border-radius: 0.25em;background-color: #f0f8ff;}#sk-container-id-9 input.sk-toggleable__control:checked~div.sk-toggleable__content {max-height: 200px;max-width: 100%;overflow: auto;}#sk-container-id-9 input.sk-toggleable__control:checked~label.sk-toggleable__label-arrow:before {content: \"▾\";}#sk-container-id-9 div.sk-estimator input.sk-toggleable__control:checked~label.sk-toggleable__label {background-color: #d4ebff;}#sk-container-id-9 div.sk-label input.sk-toggleable__control:checked~label.sk-toggleable__label {background-color: #d4ebff;}#sk-container-id-9 input.sk-hidden--visually {border: 0;clip: rect(1px 1px 1px 1px);clip: rect(1px, 1px, 1px, 1px);height: 1px;margin: -1px;overflow: hidden;padding: 0;position: absolute;width: 1px;}#sk-container-id-9 div.sk-estimator {font-family: monospace;background-color: #f0f8ff;border: 1px dotted black;border-radius: 0.25em;box-sizing: border-box;margin-bottom: 0.5em;}#sk-container-id-9 div.sk-estimator:hover {background-color: #d4ebff;}#sk-container-id-9 div.sk-parallel-item::after {content: \"\";width: 100%;border-bottom: 1px solid gray;flex-grow: 1;}#sk-container-id-9 div.sk-label:hover label.sk-toggleable__label {background-color: #d4ebff;}#sk-container-id-9 div.sk-serial::before {content: \"\";position: absolute;border-left: 1px solid gray;box-sizing: border-box;top: 0;bottom: 0;left: 50%;z-index: 0;}#sk-container-id-9 div.sk-serial {display: flex;flex-direction: column;align-items: center;background-color: white;padding-right: 0.2em;padding-left: 0.2em;position: relative;}#sk-container-id-9 div.sk-item {position: relative;z-index: 1;}#sk-container-id-9 div.sk-parallel {display: flex;align-items: stretch;justify-content: center;background-color: white;position: relative;}#sk-container-id-9 div.sk-item::before, #sk-container-id-9 div.sk-parallel-item::before {content: \"\";position: absolute;border-left: 1px solid gray;box-sizing: border-box;top: 0;bottom: 0;left: 50%;z-index: -1;}#sk-container-id-9 div.sk-parallel-item {display: flex;flex-direction: column;z-index: 1;position: relative;background-color: white;}#sk-container-id-9 div.sk-parallel-item:first-child::after {align-self: flex-end;width: 50%;}#sk-container-id-9 div.sk-parallel-item:last-child::after {align-self: flex-start;width: 50%;}#sk-container-id-9 div.sk-parallel-item:only-child::after {width: 0;}#sk-container-id-9 div.sk-dashed-wrapped {border: 1px dashed gray;margin: 0 0.4em 0.5em 0.4em;box-sizing: border-box;padding-bottom: 0.4em;background-color: white;}#sk-container-id-9 div.sk-label label {font-family: monospace;font-weight: bold;display: inline-block;line-height: 1.2em;}#sk-container-id-9 div.sk-label-container {text-align: center;}#sk-container-id-9 div.sk-container {/* jupyter's `normalize.less` sets `[hidden] { display: none; }` but bootstrap.min.css set `[hidden] { display: none !important; }` so we also need the `!important` here to be able to override the default hidden behavior on the sphinx rendered scikit-learn.org. See: https://github.com/scikit-learn/scikit-learn/issues/21755 */display: inline-block !important;position: relative;}#sk-container-id-9 div.sk-text-repr-fallback {display: none;}</style><div id=\"sk-container-id-9\" class=\"sk-top-container\"><div class=\"sk-text-repr-fallback\"><pre>XGBRegressor(base_score=None, booster=None, callbacks=None,\n",
       "             colsample_bylevel=None, colsample_bynode=None,\n",
       "             colsample_bytree=None, early_stopping_rounds=None,\n",
       "             enable_categorical=False, eval_metric=None, feature_types=None,\n",
       "             gamma=4.0, gpu_id=None, grow_policy=None, importance_type=None,\n",
       "             interaction_constraints=None, learning_rate=1, max_bin=None,\n",
       "             max_cat_threshold=None, max_cat_to_onehot=None,\n",
       "             max_delta_step=None, max_depth=5, max_leaves=None,\n",
       "             min_child_weight=None, missing=nan, monotone_constraints=None,\n",
       "             n_estimators=10, n_jobs=None, num_parallel_tree=None,\n",
       "             predictor=None, random_state=1, ...)</pre><b>In a Jupyter environment, please rerun this cell to show the HTML representation or trust the notebook. <br />On GitHub, the HTML representation is unable to render, please try loading this page with nbviewer.org.</b></div><div class=\"sk-container\" hidden><div class=\"sk-item\"><div class=\"sk-estimator sk-toggleable\"><input class=\"sk-toggleable__control sk-hidden--visually\" id=\"sk-estimator-id-9\" type=\"checkbox\" checked><label for=\"sk-estimator-id-9\" class=\"sk-toggleable__label sk-toggleable__label-arrow\">XGBRegressor</label><div class=\"sk-toggleable__content\"><pre>XGBRegressor(base_score=None, booster=None, callbacks=None,\n",
       "             colsample_bylevel=None, colsample_bynode=None,\n",
       "             colsample_bytree=None, early_stopping_rounds=None,\n",
       "             enable_categorical=False, eval_metric=None, feature_types=None,\n",
       "             gamma=4.0, gpu_id=None, grow_policy=None, importance_type=None,\n",
       "             interaction_constraints=None, learning_rate=1, max_bin=None,\n",
       "             max_cat_threshold=None, max_cat_to_onehot=None,\n",
       "             max_delta_step=None, max_depth=5, max_leaves=None,\n",
       "             min_child_weight=None, missing=nan, monotone_constraints=None,\n",
       "             n_estimators=10, n_jobs=None, num_parallel_tree=None,\n",
       "             predictor=None, random_state=1, ...)</pre></div></div></div></div></div>"
      ],
      "text/plain": [
       "XGBRegressor(base_score=None, booster=None, callbacks=None,\n",
       "             colsample_bylevel=None, colsample_bynode=None,\n",
       "             colsample_bytree=None, early_stopping_rounds=None,\n",
       "             enable_categorical=False, eval_metric=None, feature_types=None,\n",
       "             gamma=4.0, gpu_id=None, grow_policy=None, importance_type=None,\n",
       "             interaction_constraints=None, learning_rate=1, max_bin=None,\n",
       "             max_cat_threshold=None, max_cat_to_onehot=None,\n",
       "             max_delta_step=None, max_depth=5, max_leaves=None,\n",
       "             min_child_weight=None, missing=nan, monotone_constraints=None,\n",
       "             n_estimators=10, n_jobs=None, num_parallel_tree=None,\n",
       "             predictor=None, random_state=1, ...)"
      ]
     },
     "execution_count": 123,
     "metadata": {},
     "output_type": "execute_result"
    }
   ],
   "source": [
    "best_xgboost.fit(train_X, train_y)"
   ]
  },
  {
   "cell_type": "code",
   "execution_count": 124,
   "metadata": {},
   "outputs": [],
   "source": [
    "pred_y = best_xgboost.predict(test_X)"
   ]
  },
  {
   "cell_type": "code",
   "execution_count": 125,
   "metadata": {},
   "outputs": [
    {
     "name": "stdout",
     "output_type": "stream",
     "text": [
      "rmse 3012.7891986978266\n"
     ]
    },
    {
     "data": {
      "text/plain": [
       "3012.7891986978266"
      ]
     },
     "execution_count": 125,
     "metadata": {},
     "output_type": "execute_result"
    }
   ],
   "source": [
    "rmse(np.exp(pred_y), np.exp(test_y['TARGET_Weighted_RetailPrice']).values)"
   ]
  },
  {
   "cell_type": "code",
   "execution_count": 126,
   "metadata": {},
   "outputs": [
    {
     "data": {
      "text/plain": [
       "0.617834459190334"
      ]
     },
     "execution_count": 126,
     "metadata": {},
     "output_type": "execute_result"
    }
   ],
   "source": [
    "r2_score(np.exp(pred_y), np.exp(test_y['TARGET_Weighted_RetailPrice']).values)"
   ]
  },
  {
   "cell_type": "code",
   "execution_count": 127,
   "metadata": {},
   "outputs": [
    {
     "name": "stdout",
     "output_type": "stream",
     "text": [
      "random_forest\n",
      "Best parameter: {'random_state': 1, 'n_estimators': 300, 'min_samples_leaf': 3, 'max_features': 24, 'max_depth': 10}\n",
      "Best Train accuracy: 0.9816423498864365\n",
      "Best Test accuracy: 0.956478492178158\n",
      "Best CV accuracy: 0.9610498521646086\n",
      "adaboost\n",
      "Best parameter: {'random_state': 1, 'n_estimators': 100, 'learning_rate': 1}\n",
      "Best Train accuracy: 0.9223731591847103\n",
      "Best Test accuracy: 0.9092857930240532\n",
      "Best CV accuracy: 0.9140682979567499\n",
      "xgboost\n",
      "Best parameter: {'random_state': 1, 'n_estimators': 10, 'max_depth': 5, 'learning_rate': 1, 'gamma': 4.0}\n",
      "Best Train accuracy: 0.7618781582046369\n",
      "Best Test accuracy: 0.7489094122659233\n",
      "Best CV accuracy: 0.7313667109772559\n"
     ]
    }
   ],
   "source": [
    "for model in model_list:\n",
    "    print(model)\n",
    "    print('Best parameter:', result_dict[model + '_param'])\n",
    "    print('Best Train accuracy:',result_dict[model + '_trainacc'])\n",
    "    print('Best Test accuracy:',result_dict[model + '_testacc'])\n",
    "    print('Best CV accuracy:',result_dict[model + '_cvacc'])"
   ]
  },
  {
   "attachments": {},
   "cell_type": "markdown",
   "metadata": {},
   "source": [
    "## MidPrice_Largesize models"
   ]
  },
  {
   "attachments": {},
   "cell_type": "markdown",
   "metadata": {},
   "source": [
    "### Model with Statistically significant variables"
   ]
  },
  {
   "cell_type": "code",
   "execution_count": 338,
   "metadata": {},
   "outputs": [],
   "source": [
    "model_name = 'MidPrice_Largesize'"
   ]
  },
  {
   "cell_type": "code",
   "execution_count": 339,
   "metadata": {},
   "outputs": [],
   "source": [
    "df_ml = pd.read_csv('../../01_Outputs/modeling_'+ model_gen + '/df_model_'+model_name+'.csv').dropna()"
   ]
  },
  {
   "cell_type": "code",
   "execution_count": 340,
   "metadata": {},
   "outputs": [],
   "source": [
    "target = 'TARGET_Weighted_RetailPrice'"
   ]
  },
  {
   "cell_type": "code",
   "execution_count": 341,
   "metadata": {},
   "outputs": [],
   "source": [
    "X = df_ml.drop(target, axis=1)"
   ]
  },
  {
   "cell_type": "code",
   "execution_count": 342,
   "metadata": {},
   "outputs": [],
   "source": [
    "y = df_ml[[target]]"
   ]
  },
  {
   "cell_type": "code",
   "execution_count": 343,
   "metadata": {},
   "outputs": [],
   "source": [
    "y = np.log(y)"
   ]
  },
  {
   "cell_type": "code",
   "execution_count": 344,
   "metadata": {},
   "outputs": [],
   "source": [
    "train_X, test_X, train_y, test_y = train_test_split(X, y, train_size=0.7, test_size=0.3, random_state=42)"
   ]
  },
  {
   "cell_type": "code",
   "execution_count": 345,
   "metadata": {},
   "outputs": [
    {
     "name": "stdout",
     "output_type": "stream",
     "text": [
      "random_forest\n",
      "rsquare 0.7586875775659248\n",
      "rsquare 0.7771619300619801\n",
      "rsquare 0.7180068968513921\n",
      "rsquare 0.7258992310775069\n",
      "rsquare 0.7227773087589513\n",
      "rsquare 0.7348365254903061\n",
      "rsquare 0.7141161689377618\n",
      "rsquare 0.6966585662737521\n",
      "rsquare 0.7157097389861973\n",
      "rsquare 0.7675638851534702\n",
      "rsquare 0.826665642286337\n",
      "rsquare 0.8460375593053483\n",
      "rsquare 0.7987785232269083\n",
      "rsquare 0.8142626800932546\n",
      "rsquare 0.7858475000287617\n",
      "rsquare 0.796935513516424\n",
      "rsquare 0.7737831757860887\n",
      "rsquare 0.7888921329186969\n",
      "rsquare 0.8158473372651021\n",
      "rsquare 0.82547178523751\n",
      "rsquare 0.9451590133458263\n",
      "rsquare 0.9505885328001652\n",
      "rsquare 0.9475414568064893\n",
      "rsquare 0.9463709394269687\n",
      "rsquare 0.9483463317208698\n",
      "rsquare 0.926221863806621\n",
      "rsquare 0.9335039179597218\n",
      "rsquare 0.9439892444079391\n",
      "rsquare 0.9443523848748282\n",
      "rsquare 0.9527169595938233\n",
      "rsquare 0.8877911368248705\n",
      "rsquare 0.9037928391454582\n",
      "rsquare 0.8843800548374389\n",
      "rsquare 0.8879923080648557\n",
      "rsquare 0.8823065295853317\n",
      "rsquare 0.8749188629164566\n",
      "rsquare 0.8695596480879235\n",
      "rsquare 0.8772753823074944\n",
      "rsquare 0.8883598409639291\n",
      "rsquare 0.9012912673896247\n",
      "rsquare 0.8696118416185579\n",
      "rsquare 0.884550640326037\n",
      "rsquare 0.8631672998713069\n",
      "rsquare 0.8675127080692782\n",
      "rsquare 0.8585178796999094\n",
      "rsquare 0.8555973746695436\n",
      "rsquare 0.8406607525442212\n",
      "rsquare 0.8552863536109319\n",
      "rsquare 0.8695681666038493\n",
      "rsquare 0.890064004812688\n",
      "rsquare 0.7959335578110567\n",
      "rsquare 0.8140881737813703\n",
      "rsquare 0.7891378585921118\n",
      "rsquare 0.7973652734176709\n",
      "rsquare 0.80148244289174\n",
      "rsquare 0.7940679144653375\n",
      "rsquare 0.7790677644386825\n",
      "rsquare 0.7694472424590275\n",
      "rsquare 0.7856125808229685\n",
      "rsquare 0.8115841895739393\n",
      "rsquare 0.8989485314959017\n",
      "rsquare 0.9152851461245498\n",
      "rsquare 0.911785226991727\n",
      "rsquare 0.9066077636806154\n",
      "rsquare 0.9003264251714853\n",
      "rsquare 0.8885069680458703\n",
      "rsquare 0.8884037641942788\n",
      "rsquare 0.878366622473356\n",
      "rsquare 0.8996636387871588\n",
      "rsquare 0.9045277614023136\n",
      "rsquare 0.9094329348965924\n",
      "rsquare 0.9190357793747599\n",
      "rsquare 0.9141328730439658\n",
      "rsquare 0.9149393100172288\n",
      "rsquare 0.9077008689583881\n",
      "rsquare 0.90337984876723\n",
      "rsquare 0.8878103612786136\n",
      "rsquare 0.9131863692436903\n",
      "rsquare 0.9101387975778177\n",
      "rsquare 0.9236748659243136\n",
      "rsquare 0.9265407702583272\n",
      "rsquare 0.9361407442799149\n",
      "rsquare 0.9327133114366881\n",
      "rsquare 0.9340261489683301\n",
      "rsquare 0.9289423392213209\n",
      "rsquare 0.9172344655425836\n",
      "rsquare 0.9143573560917757\n",
      "rsquare 0.9215171058818646\n",
      "rsquare 0.9312020529540718\n",
      "rsquare 0.9379333706066743\n",
      "rsquare 0.9328489324192581\n",
      "rsquare 0.9424600700658533\n",
      "rsquare 0.9358775983685804\n",
      "rsquare 0.936653924089424\n",
      "rsquare 0.9324509693978793\n",
      "rsquare 0.9206901389119411\n",
      "rsquare 0.9128041895384486\n",
      "rsquare 0.9276257500502341\n",
      "rsquare 0.9361562984755709\n",
      "rsquare 0.9400812409947138\n",
      "Best CV params {'random_state': 1, 'n_estimators': 300, 'min_samples_leaf': 11, 'max_features': 115, 'max_depth': 10}\n",
      "Best CV Rsquare 0.9438790644743251\n",
      "rsquare 0.9610512633043663\n",
      "Best train Rsquare 0.9610512633043663\n",
      "rsquare 0.9459858176350493\n",
      "Test RMSE of best grid search hypers: 0.9459858176350493\n",
      "rsquare 0.9459858176350493\n",
      "rsquare 0.9610512633043663\n",
      "adaboost\n",
      "rsquare 0.8956780707053946\n",
      "rsquare 0.9161527861683486\n",
      "rsquare 0.8864920375992501\n",
      "rsquare 0.8928747289213325\n",
      "rsquare 0.893798110240324\n",
      "rsquare 0.893907015628056\n",
      "rsquare 0.8954765944149041\n",
      "rsquare 0.8724295540914019\n",
      "rsquare 0.9024965056570053\n",
      "rsquare 0.9081987607354399\n",
      "rsquare 0.7379179403616093\n",
      "rsquare 0.7507353001425969\n",
      "rsquare 0.6502965573920858\n",
      "rsquare 0.6852828248339455\n",
      "rsquare 0.6724363624609035\n",
      "rsquare 0.6696986448732571\n",
      "rsquare 0.6342866886139081\n",
      "rsquare 0.6751013283287504\n",
      "rsquare 0.7111796180704721\n",
      "rsquare 0.703918738593317\n",
      "rsquare 0.7128060640394922\n",
      "rsquare 0.7405645756889865\n",
      "rsquare 0.6510051104660116\n",
      "rsquare 0.6782731725240068\n",
      "rsquare 0.6669078127790615\n",
      "rsquare 0.654356600019175\n",
      "rsquare 0.6302668930307269\n",
      "rsquare 0.6398059523075805\n",
      "rsquare 0.7080408551655657\n",
      "rsquare 0.6926573383837877\n",
      "rsquare 0.8014805056888071\n",
      "rsquare 0.8221168434780628\n",
      "rsquare 0.7825448556122813\n",
      "rsquare 0.7914607664454536\n",
      "rsquare 0.7957304301432988\n",
      "rsquare 0.8155562266676608\n",
      "rsquare 0.8031782757052841\n",
      "rsquare 0.792534800583004\n",
      "rsquare 0.8131287859673682\n",
      "rsquare 0.8232567018663485\n",
      "rsquare 0.7705286549458374\n",
      "rsquare 0.7577219863715522\n",
      "rsquare 0.6569048331405416\n",
      "rsquare 0.7013925535348027\n",
      "rsquare 0.6988480858039997\n",
      "rsquare 0.6781634896227376\n",
      "rsquare 0.6813707243562745\n",
      "rsquare 0.7064643984611455\n",
      "rsquare 0.7230470012791401\n",
      "rsquare 0.7084553211126261\n",
      "rsquare 0.9027787546772853\n",
      "rsquare 0.9235852969909935\n",
      "rsquare 0.8981683412016861\n",
      "rsquare 0.9046651370709486\n",
      "rsquare 0.904316864025465\n",
      "rsquare 0.9020023870303014\n",
      "rsquare 0.9067544112456424\n",
      "rsquare 0.8816784903832466\n",
      "rsquare 0.9089534173533136\n",
      "rsquare 0.9125796058517222\n",
      "rsquare 0.8221156433270397\n",
      "rsquare 0.8449847845799968\n",
      "rsquare 0.8245151112070904\n",
      "rsquare 0.8232817128164405\n",
      "rsquare 0.8248529298657853\n",
      "rsquare 0.8417352587808886\n",
      "rsquare 0.8314852199771009\n",
      "rsquare 0.8041388000473783\n",
      "rsquare 0.8367633525187705\n",
      "rsquare 0.8490116759213686\n",
      "rsquare 0.7287574273223142\n",
      "rsquare 0.7440677517153956\n",
      "rsquare 0.6398716207571122\n",
      "rsquare 0.6746952187374611\n",
      "rsquare 0.6657265089298169\n",
      "rsquare 0.6633025488514123\n",
      "rsquare 0.6316438246748097\n",
      "rsquare 0.6741242535331708\n",
      "rsquare 0.7109015887115528\n",
      "rsquare 0.6971782484003346\n",
      "rsquare 0.8993765530991897\n",
      "rsquare 0.9176672494484346\n",
      "rsquare 0.8933523401128787\n",
      "rsquare 0.8939535568860746\n",
      "rsquare 0.893367764566404\n",
      "rsquare 0.895879017716628\n",
      "rsquare 0.89778091640379\n",
      "rsquare 0.8817655099491859\n",
      "rsquare 0.9064747397500558\n",
      "rsquare 0.9093110629146312\n",
      "rsquare 0.8828219769893069\n",
      "rsquare 0.9055553619283465\n",
      "rsquare 0.8755071512472705\n",
      "rsquare 0.8796002589028128\n",
      "rsquare 0.8824421826099731\n",
      "rsquare 0.8871198218059348\n",
      "rsquare 0.8868941592772274\n",
      "rsquare 0.862144381890771\n",
      "rsquare 0.8940281958344463\n",
      "rsquare 0.9007428169174969\n",
      "Best CV params {'random_state': 1, 'n_estimators': 300, 'learning_rate': 1}\n",
      "Best CV Rsquare 0.9045482705830604\n",
      "rsquare 0.9138673174763491\n",
      "Best train Rsquare 0.9138673174763491\n",
      "rsquare 0.9010155992191401\n",
      "Test RMSE of best grid search hypers: 0.9010155992191401\n",
      "rsquare 0.9010155992191401\n",
      "rsquare 0.9138673174763491\n",
      "xgboost\n",
      "rsquare 0.9684816864963932\n",
      "rsquare 0.9547362871331772\n",
      "rsquare 0.9402179638995252\n",
      "rsquare 0.9558175758026428\n",
      "rsquare 0.9583997218865391\n",
      "rsquare 0.93789599445348\n",
      "rsquare 0.9432827520451635\n",
      "rsquare 0.9529270409093108\n",
      "rsquare 0.9590944942282387\n",
      "rsquare 0.9373166640036269\n",
      "rsquare 0.7683657999231802\n",
      "rsquare 0.7933908375721157\n",
      "rsquare 0.7111060932375008\n",
      "rsquare 0.7020958711561305\n",
      "rsquare 0.7436604413469168\n",
      "rsquare 0.6727310392372599\n",
      "rsquare 0.7136636119925036\n",
      "rsquare 0.7273422104233636\n",
      "rsquare 0.7600464945020534\n",
      "rsquare 0.7587588995334673\n",
      "rsquare 0.9920937086886434\n",
      "rsquare 0.9909552010323479\n",
      "rsquare 0.9907892291193192\n",
      "rsquare 0.9927730561262417\n",
      "rsquare 0.9932914725719986\n",
      "rsquare 0.984265075014426\n",
      "rsquare 0.9861452856210141\n",
      "rsquare 0.9915673603609895\n",
      "rsquare 0.9905707475597114\n",
      "rsquare 0.991345175432602\n",
      "rsquare 0.631809769565217\n",
      "rsquare 0.6626489696970546\n",
      "rsquare 0.5298194881422174\n",
      "rsquare 0.6262215781316389\n",
      "rsquare 0.5331055371217233\n",
      "rsquare 0.5325607621603653\n",
      "rsquare 0.5263345297903885\n",
      "rsquare 0.5326181596177166\n",
      "rsquare 0.5466845230642929\n",
      "rsquare 0.5589548108184272\n",
      "rsquare 0.7178456824961743\n",
      "rsquare 0.7655483271376575\n",
      "rsquare 0.7300110906770788\n",
      "rsquare 0.7731730005512452\n",
      "rsquare 0.6912943174627215\n",
      "rsquare 0.6741186685267421\n",
      "rsquare 0.6563058408190178\n",
      "rsquare 0.7062255011729804\n",
      "rsquare 0.7213147208783142\n",
      "rsquare 0.6755847631219172\n",
      "rsquare 0.6922944314687152\n",
      "rsquare 0.7127803814709259\n",
      "rsquare 0.6515608631104051\n",
      "rsquare 0.6683407679869157\n",
      "rsquare 0.6896751915049643\n",
      "rsquare 0.6409330506378751\n",
      "rsquare 0.6606935952424955\n",
      "rsquare 0.7060581310059095\n",
      "rsquare 0.661588819366383\n",
      "rsquare 0.6882715312728185\n",
      "rsquare -1733.6998643062711\n",
      "rsquare -1731.2733825256673\n",
      "rsquare -2039.5571477658536\n",
      "rsquare -1794.9265959789016\n",
      "rsquare -1987.105122951556\n",
      "rsquare -2126.420961336355\n",
      "rsquare -2123.382510985388\n",
      "rsquare -2397.1878509885623\n",
      "rsquare -1944.3829153041922\n",
      "rsquare -2266.290438855872\n",
      "rsquare 0.4989174101582122\n",
      "rsquare 0.5091547605241482\n",
      "rsquare 0.4284201583089784\n",
      "rsquare 0.44276890849110406\n",
      "rsquare 0.4867796085492886\n",
      "rsquare 0.42632475331308495\n",
      "rsquare 0.47337194378190617\n",
      "rsquare 0.5217015519239041\n",
      "rsquare 0.45789425988609844\n",
      "rsquare 0.4907561008512229\n",
      "rsquare 0.708932470890691\n",
      "rsquare 0.7422301284659567\n",
      "rsquare 0.6349346036162873\n",
      "rsquare 0.7169350392044251\n",
      "rsquare 0.6822167757949057\n",
      "rsquare 0.6483493525426325\n",
      "rsquare 0.6667146128058377\n",
      "rsquare 0.6688127027580109\n",
      "rsquare 0.7122000524951573\n",
      "rsquare 0.7044717067927551\n",
      "rsquare -257.57298886207184\n",
      "rsquare -256.6286421892381\n",
      "rsquare -304.02511042233624\n",
      "rsquare -268.5210255086728\n",
      "rsquare -295.2232841380033\n",
      "rsquare -317.5087810995137\n",
      "rsquare -314.9788800676482\n",
      "rsquare -352.4350842821207\n",
      "rsquare -289.2328118525567\n",
      "rsquare -336.3540754566753\n",
      "Best CV params {'random_state': 1, 'n_estimators': 500, 'max_depth': 7, 'learning_rate': 0.1, 'gamma': 0.0}\n",
      "Best CV Rsquare 0.9903796311527294\n",
      "rsquare 0.9999196034788227\n",
      "Best train Rsquare 0.9999196034788227\n",
      "rsquare 0.9916096576825002\n",
      "Test RMSE of best grid search hypers: 0.9916096576825002\n",
      "rsquare 0.9916096576825002\n",
      "rsquare 0.9999196034788227\n"
     ]
    }
   ],
   "source": [
    "result_dict = {}\n",
    "for model in model_list:\n",
    "    print(model)\n",
    "    result_dict[model + '_param'], \\\n",
    "    result_dict[model + '_cvacc'], \\\n",
    "    result_dict[model + '_testacc'],\\\n",
    "    result_dict[model + '_trainacc'] \\\n",
    "    = RandomsearchRegression(models_dict[model], parameters_dct[model])"
   ]
  },
  {
   "attachments": {},
   "cell_type": "markdown",
   "metadata": {},
   "source": [
    "#### Random Forest result"
   ]
  },
  {
   "cell_type": "code",
   "execution_count": 346,
   "metadata": {},
   "outputs": [],
   "source": [
    "best_randomforest = RandomForestRegressor(**result_dict['random_forest_param'])"
   ]
  },
  {
   "cell_type": "code",
   "execution_count": 347,
   "metadata": {},
   "outputs": [
    {
     "data": {
      "text/html": [
       "<style>#sk-container-id-28 {color: black;background-color: white;}#sk-container-id-28 pre{padding: 0;}#sk-container-id-28 div.sk-toggleable {background-color: white;}#sk-container-id-28 label.sk-toggleable__label {cursor: pointer;display: block;width: 100%;margin-bottom: 0;padding: 0.3em;box-sizing: border-box;text-align: center;}#sk-container-id-28 label.sk-toggleable__label-arrow:before {content: \"▸\";float: left;margin-right: 0.25em;color: #696969;}#sk-container-id-28 label.sk-toggleable__label-arrow:hover:before {color: black;}#sk-container-id-28 div.sk-estimator:hover label.sk-toggleable__label-arrow:before {color: black;}#sk-container-id-28 div.sk-toggleable__content {max-height: 0;max-width: 0;overflow: hidden;text-align: left;background-color: #f0f8ff;}#sk-container-id-28 div.sk-toggleable__content pre {margin: 0.2em;color: black;border-radius: 0.25em;background-color: #f0f8ff;}#sk-container-id-28 input.sk-toggleable__control:checked~div.sk-toggleable__content {max-height: 200px;max-width: 100%;overflow: auto;}#sk-container-id-28 input.sk-toggleable__control:checked~label.sk-toggleable__label-arrow:before {content: \"▾\";}#sk-container-id-28 div.sk-estimator input.sk-toggleable__control:checked~label.sk-toggleable__label {background-color: #d4ebff;}#sk-container-id-28 div.sk-label input.sk-toggleable__control:checked~label.sk-toggleable__label {background-color: #d4ebff;}#sk-container-id-28 input.sk-hidden--visually {border: 0;clip: rect(1px 1px 1px 1px);clip: rect(1px, 1px, 1px, 1px);height: 1px;margin: -1px;overflow: hidden;padding: 0;position: absolute;width: 1px;}#sk-container-id-28 div.sk-estimator {font-family: monospace;background-color: #f0f8ff;border: 1px dotted black;border-radius: 0.25em;box-sizing: border-box;margin-bottom: 0.5em;}#sk-container-id-28 div.sk-estimator:hover {background-color: #d4ebff;}#sk-container-id-28 div.sk-parallel-item::after {content: \"\";width: 100%;border-bottom: 1px solid gray;flex-grow: 1;}#sk-container-id-28 div.sk-label:hover label.sk-toggleable__label {background-color: #d4ebff;}#sk-container-id-28 div.sk-serial::before {content: \"\";position: absolute;border-left: 1px solid gray;box-sizing: border-box;top: 0;bottom: 0;left: 50%;z-index: 0;}#sk-container-id-28 div.sk-serial {display: flex;flex-direction: column;align-items: center;background-color: white;padding-right: 0.2em;padding-left: 0.2em;position: relative;}#sk-container-id-28 div.sk-item {position: relative;z-index: 1;}#sk-container-id-28 div.sk-parallel {display: flex;align-items: stretch;justify-content: center;background-color: white;position: relative;}#sk-container-id-28 div.sk-item::before, #sk-container-id-28 div.sk-parallel-item::before {content: \"\";position: absolute;border-left: 1px solid gray;box-sizing: border-box;top: 0;bottom: 0;left: 50%;z-index: -1;}#sk-container-id-28 div.sk-parallel-item {display: flex;flex-direction: column;z-index: 1;position: relative;background-color: white;}#sk-container-id-28 div.sk-parallel-item:first-child::after {align-self: flex-end;width: 50%;}#sk-container-id-28 div.sk-parallel-item:last-child::after {align-self: flex-start;width: 50%;}#sk-container-id-28 div.sk-parallel-item:only-child::after {width: 0;}#sk-container-id-28 div.sk-dashed-wrapped {border: 1px dashed gray;margin: 0 0.4em 0.5em 0.4em;box-sizing: border-box;padding-bottom: 0.4em;background-color: white;}#sk-container-id-28 div.sk-label label {font-family: monospace;font-weight: bold;display: inline-block;line-height: 1.2em;}#sk-container-id-28 div.sk-label-container {text-align: center;}#sk-container-id-28 div.sk-container {/* jupyter's `normalize.less` sets `[hidden] { display: none; }` but bootstrap.min.css set `[hidden] { display: none !important; }` so we also need the `!important` here to be able to override the default hidden behavior on the sphinx rendered scikit-learn.org. See: https://github.com/scikit-learn/scikit-learn/issues/21755 */display: inline-block !important;position: relative;}#sk-container-id-28 div.sk-text-repr-fallback {display: none;}</style><div id=\"sk-container-id-28\" class=\"sk-top-container\"><div class=\"sk-text-repr-fallback\"><pre>RandomForestRegressor(max_depth=10, max_features=115, min_samples_leaf=11,\n",
       "                      n_estimators=300, random_state=1)</pre><b>In a Jupyter environment, please rerun this cell to show the HTML representation or trust the notebook. <br />On GitHub, the HTML representation is unable to render, please try loading this page with nbviewer.org.</b></div><div class=\"sk-container\" hidden><div class=\"sk-item\"><div class=\"sk-estimator sk-toggleable\"><input class=\"sk-toggleable__control sk-hidden--visually\" id=\"sk-estimator-id-28\" type=\"checkbox\" checked><label for=\"sk-estimator-id-28\" class=\"sk-toggleable__label sk-toggleable__label-arrow\">RandomForestRegressor</label><div class=\"sk-toggleable__content\"><pre>RandomForestRegressor(max_depth=10, max_features=115, min_samples_leaf=11,\n",
       "                      n_estimators=300, random_state=1)</pre></div></div></div></div></div>"
      ],
      "text/plain": [
       "RandomForestRegressor(max_depth=10, max_features=115, min_samples_leaf=11,\n",
       "                      n_estimators=300, random_state=1)"
      ]
     },
     "execution_count": 347,
     "metadata": {},
     "output_type": "execute_result"
    }
   ],
   "source": [
    "best_randomforest.fit(train_X, train_y)"
   ]
  },
  {
   "cell_type": "code",
   "execution_count": 348,
   "metadata": {},
   "outputs": [],
   "source": [
    "pred_y = best_randomforest.predict(test_X)"
   ]
  },
  {
   "cell_type": "code",
   "execution_count": 349,
   "metadata": {},
   "outputs": [
    {
     "name": "stdout",
     "output_type": "stream",
     "text": [
      "rmse 2155.8443064991934\n"
     ]
    },
    {
     "data": {
      "text/plain": [
       "2155.8443064991934"
      ]
     },
     "execution_count": 349,
     "metadata": {},
     "output_type": "execute_result"
    }
   ],
   "source": [
    "rmse(np.exp(pred_y), np.exp(test_y['TARGET_Weighted_RetailPrice']).values)"
   ]
  },
  {
   "cell_type": "code",
   "execution_count": 350,
   "metadata": {},
   "outputs": [
    {
     "data": {
      "text/plain": [
       "0.9259770585546578"
      ]
     },
     "execution_count": 350,
     "metadata": {},
     "output_type": "execute_result"
    }
   ],
   "source": [
    "r2_score(np.exp(pred_y), np.exp(test_y['TARGET_Weighted_RetailPrice']).values)"
   ]
  },
  {
   "cell_type": "code",
   "execution_count": 351,
   "metadata": {},
   "outputs": [],
   "source": [
    "RF_importances = best_randomforest.feature_importances_"
   ]
  },
  {
   "cell_type": "code",
   "execution_count": 352,
   "metadata": {},
   "outputs": [],
   "source": [
    "feature_names = list(X.columns)"
   ]
  },
  {
   "cell_type": "code",
   "execution_count": 353,
   "metadata": {},
   "outputs": [],
   "source": [
    "RF_importances = pd.DataFrame(RF_importances, columns=['importances'], index=feature_names)"
   ]
  },
  {
   "cell_type": "code",
   "execution_count": 354,
   "metadata": {},
   "outputs": [
    {
     "data": {
      "text/html": [
       "<div>\n",
       "<style scoped>\n",
       "    .dataframe tbody tr th:only-of-type {\n",
       "        vertical-align: middle;\n",
       "    }\n",
       "\n",
       "    .dataframe tbody tr th {\n",
       "        vertical-align: top;\n",
       "    }\n",
       "\n",
       "    .dataframe thead th {\n",
       "        text-align: right;\n",
       "    }\n",
       "</style>\n",
       "<table border=\"1\" class=\"dataframe\">\n",
       "  <thead>\n",
       "    <tr style=\"text-align: right;\">\n",
       "      <th></th>\n",
       "      <th>importances</th>\n",
       "    </tr>\n",
       "  </thead>\n",
       "  <tbody>\n",
       "    <tr>\n",
       "      <th>SPEC_FRDRseat_heated</th>\n",
       "      <td>0.121006</td>\n",
       "    </tr>\n",
       "    <tr>\n",
       "      <th>SPEC_FRPGseat_heated</th>\n",
       "      <td>0.111547</td>\n",
       "    </tr>\n",
       "    <tr>\n",
       "      <th>SPEC_compression_ratio</th>\n",
       "      <td>0.076483</td>\n",
       "    </tr>\n",
       "    <tr>\n",
       "      <th>SPEC_LED_lowbeam</th>\n",
       "      <td>0.065533</td>\n",
       "    </tr>\n",
       "    <tr>\n",
       "      <th>SPEC_Number_of_doors32</th>\n",
       "      <td>0.043394</td>\n",
       "    </tr>\n",
       "    <tr>\n",
       "      <th>...</th>\n",
       "      <td>...</td>\n",
       "    </tr>\n",
       "    <tr>\n",
       "      <th>SPEC_Ventilation_system</th>\n",
       "      <td>0.000000</td>\n",
       "    </tr>\n",
       "    <tr>\n",
       "      <th>SPEC_includes_walk_away_locking</th>\n",
       "      <td>0.000000</td>\n",
       "    </tr>\n",
       "    <tr>\n",
       "      <th>SPEC_Cupholder_3rdrow</th>\n",
       "      <td>0.000000</td>\n",
       "    </tr>\n",
       "    <tr>\n",
       "      <th>SPEC_Warranty_electric_systems</th>\n",
       "      <td>0.000000</td>\n",
       "    </tr>\n",
       "    <tr>\n",
       "      <th>SPEC_Doors</th>\n",
       "      <td>0.000000</td>\n",
       "    </tr>\n",
       "  </tbody>\n",
       "</table>\n",
       "<p>249 rows × 1 columns</p>\n",
       "</div>"
      ],
      "text/plain": [
       "                                 importances\n",
       "SPEC_FRDRseat_heated                0.121006\n",
       "SPEC_FRPGseat_heated                0.111547\n",
       "SPEC_compression_ratio              0.076483\n",
       "SPEC_LED_lowbeam                    0.065533\n",
       "SPEC_Number_of_doors32              0.043394\n",
       "...                                      ...\n",
       "SPEC_Ventilation_system             0.000000\n",
       "SPEC_includes_walk_away_locking     0.000000\n",
       "SPEC_Cupholder_3rdrow               0.000000\n",
       "SPEC_Warranty_electric_systems      0.000000\n",
       "SPEC_Doors                          0.000000\n",
       "\n",
       "[249 rows x 1 columns]"
      ]
     },
     "execution_count": 354,
     "metadata": {},
     "output_type": "execute_result"
    }
   ],
   "source": [
    "RF_importances.sort_values(by='importances', ascending=False)"
   ]
  },
  {
   "attachments": {},
   "cell_type": "markdown",
   "metadata": {},
   "source": [
    "#### Adaboost result"
   ]
  },
  {
   "cell_type": "code",
   "execution_count": 355,
   "metadata": {},
   "outputs": [],
   "source": [
    "best_adaboost= AdaBoostRegressor(**result_dict['adaboost_param'])\n"
   ]
  },
  {
   "cell_type": "code",
   "execution_count": 356,
   "metadata": {},
   "outputs": [
    {
     "data": {
      "text/html": [
       "<style>#sk-container-id-29 {color: black;background-color: white;}#sk-container-id-29 pre{padding: 0;}#sk-container-id-29 div.sk-toggleable {background-color: white;}#sk-container-id-29 label.sk-toggleable__label {cursor: pointer;display: block;width: 100%;margin-bottom: 0;padding: 0.3em;box-sizing: border-box;text-align: center;}#sk-container-id-29 label.sk-toggleable__label-arrow:before {content: \"▸\";float: left;margin-right: 0.25em;color: #696969;}#sk-container-id-29 label.sk-toggleable__label-arrow:hover:before {color: black;}#sk-container-id-29 div.sk-estimator:hover label.sk-toggleable__label-arrow:before {color: black;}#sk-container-id-29 div.sk-toggleable__content {max-height: 0;max-width: 0;overflow: hidden;text-align: left;background-color: #f0f8ff;}#sk-container-id-29 div.sk-toggleable__content pre {margin: 0.2em;color: black;border-radius: 0.25em;background-color: #f0f8ff;}#sk-container-id-29 input.sk-toggleable__control:checked~div.sk-toggleable__content {max-height: 200px;max-width: 100%;overflow: auto;}#sk-container-id-29 input.sk-toggleable__control:checked~label.sk-toggleable__label-arrow:before {content: \"▾\";}#sk-container-id-29 div.sk-estimator input.sk-toggleable__control:checked~label.sk-toggleable__label {background-color: #d4ebff;}#sk-container-id-29 div.sk-label input.sk-toggleable__control:checked~label.sk-toggleable__label {background-color: #d4ebff;}#sk-container-id-29 input.sk-hidden--visually {border: 0;clip: rect(1px 1px 1px 1px);clip: rect(1px, 1px, 1px, 1px);height: 1px;margin: -1px;overflow: hidden;padding: 0;position: absolute;width: 1px;}#sk-container-id-29 div.sk-estimator {font-family: monospace;background-color: #f0f8ff;border: 1px dotted black;border-radius: 0.25em;box-sizing: border-box;margin-bottom: 0.5em;}#sk-container-id-29 div.sk-estimator:hover {background-color: #d4ebff;}#sk-container-id-29 div.sk-parallel-item::after {content: \"\";width: 100%;border-bottom: 1px solid gray;flex-grow: 1;}#sk-container-id-29 div.sk-label:hover label.sk-toggleable__label {background-color: #d4ebff;}#sk-container-id-29 div.sk-serial::before {content: \"\";position: absolute;border-left: 1px solid gray;box-sizing: border-box;top: 0;bottom: 0;left: 50%;z-index: 0;}#sk-container-id-29 div.sk-serial {display: flex;flex-direction: column;align-items: center;background-color: white;padding-right: 0.2em;padding-left: 0.2em;position: relative;}#sk-container-id-29 div.sk-item {position: relative;z-index: 1;}#sk-container-id-29 div.sk-parallel {display: flex;align-items: stretch;justify-content: center;background-color: white;position: relative;}#sk-container-id-29 div.sk-item::before, #sk-container-id-29 div.sk-parallel-item::before {content: \"\";position: absolute;border-left: 1px solid gray;box-sizing: border-box;top: 0;bottom: 0;left: 50%;z-index: -1;}#sk-container-id-29 div.sk-parallel-item {display: flex;flex-direction: column;z-index: 1;position: relative;background-color: white;}#sk-container-id-29 div.sk-parallel-item:first-child::after {align-self: flex-end;width: 50%;}#sk-container-id-29 div.sk-parallel-item:last-child::after {align-self: flex-start;width: 50%;}#sk-container-id-29 div.sk-parallel-item:only-child::after {width: 0;}#sk-container-id-29 div.sk-dashed-wrapped {border: 1px dashed gray;margin: 0 0.4em 0.5em 0.4em;box-sizing: border-box;padding-bottom: 0.4em;background-color: white;}#sk-container-id-29 div.sk-label label {font-family: monospace;font-weight: bold;display: inline-block;line-height: 1.2em;}#sk-container-id-29 div.sk-label-container {text-align: center;}#sk-container-id-29 div.sk-container {/* jupyter's `normalize.less` sets `[hidden] { display: none; }` but bootstrap.min.css set `[hidden] { display: none !important; }` so we also need the `!important` here to be able to override the default hidden behavior on the sphinx rendered scikit-learn.org. See: https://github.com/scikit-learn/scikit-learn/issues/21755 */display: inline-block !important;position: relative;}#sk-container-id-29 div.sk-text-repr-fallback {display: none;}</style><div id=\"sk-container-id-29\" class=\"sk-top-container\"><div class=\"sk-text-repr-fallback\"><pre>AdaBoostRegressor(learning_rate=1, n_estimators=300, random_state=1)</pre><b>In a Jupyter environment, please rerun this cell to show the HTML representation or trust the notebook. <br />On GitHub, the HTML representation is unable to render, please try loading this page with nbviewer.org.</b></div><div class=\"sk-container\" hidden><div class=\"sk-item\"><div class=\"sk-estimator sk-toggleable\"><input class=\"sk-toggleable__control sk-hidden--visually\" id=\"sk-estimator-id-29\" type=\"checkbox\" checked><label for=\"sk-estimator-id-29\" class=\"sk-toggleable__label sk-toggleable__label-arrow\">AdaBoostRegressor</label><div class=\"sk-toggleable__content\"><pre>AdaBoostRegressor(learning_rate=1, n_estimators=300, random_state=1)</pre></div></div></div></div></div>"
      ],
      "text/plain": [
       "AdaBoostRegressor(learning_rate=1, n_estimators=300, random_state=1)"
      ]
     },
     "execution_count": 356,
     "metadata": {},
     "output_type": "execute_result"
    }
   ],
   "source": [
    "best_adaboost.fit(train_X, train_y)"
   ]
  },
  {
   "cell_type": "code",
   "execution_count": 357,
   "metadata": {},
   "outputs": [],
   "source": [
    "pred_y = best_adaboost.predict(test_X)"
   ]
  },
  {
   "cell_type": "code",
   "execution_count": 358,
   "metadata": {},
   "outputs": [
    {
     "name": "stdout",
     "output_type": "stream",
     "text": [
      "rmse 2709.59771047066\n"
     ]
    },
    {
     "data": {
      "text/plain": [
       "2709.59771047066"
      ]
     },
     "execution_count": 358,
     "metadata": {},
     "output_type": "execute_result"
    }
   ],
   "source": [
    "rmse(np.exp(pred_y), np.exp(test_y['TARGET_Weighted_RetailPrice']).values)"
   ]
  },
  {
   "cell_type": "code",
   "execution_count": 359,
   "metadata": {},
   "outputs": [
    {
     "data": {
      "text/plain": [
       "0.8684762163426772"
      ]
     },
     "execution_count": 359,
     "metadata": {},
     "output_type": "execute_result"
    }
   ],
   "source": [
    "r2_score(np.exp(pred_y), np.exp(test_y['TARGET_Weighted_RetailPrice']).values)"
   ]
  },
  {
   "cell_type": "code",
   "execution_count": 360,
   "metadata": {},
   "outputs": [],
   "source": [
    "AB_importances = best_adaboost.feature_importances_"
   ]
  },
  {
   "cell_type": "code",
   "execution_count": 361,
   "metadata": {},
   "outputs": [],
   "source": [
    "AB_importances = pd.DataFrame(AB_importances, columns=['importances'], index=feature_names)"
   ]
  },
  {
   "cell_type": "code",
   "execution_count": 362,
   "metadata": {},
   "outputs": [
    {
     "data": {
      "text/html": [
       "<div>\n",
       "<style scoped>\n",
       "    .dataframe tbody tr th:only-of-type {\n",
       "        vertical-align: middle;\n",
       "    }\n",
       "\n",
       "    .dataframe tbody tr th {\n",
       "        vertical-align: top;\n",
       "    }\n",
       "\n",
       "    .dataframe thead th {\n",
       "        text-align: right;\n",
       "    }\n",
       "</style>\n",
       "<table border=\"1\" class=\"dataframe\">\n",
       "  <thead>\n",
       "    <tr style=\"text-align: right;\">\n",
       "      <th></th>\n",
       "      <th>importances</th>\n",
       "    </tr>\n",
       "  </thead>\n",
       "  <tbody>\n",
       "    <tr>\n",
       "      <th>MSRP_prevMY_WeightedByVol</th>\n",
       "      <td>0.103625</td>\n",
       "    </tr>\n",
       "    <tr>\n",
       "      <th>SPEC_subwoofer</th>\n",
       "      <td>0.068719</td>\n",
       "    </tr>\n",
       "    <tr>\n",
       "      <th>SPEC_overall_height_mm</th>\n",
       "      <td>0.063018</td>\n",
       "    </tr>\n",
       "    <tr>\n",
       "      <th>SPEC_Drivenwheels_rear</th>\n",
       "      <td>0.058019</td>\n",
       "    </tr>\n",
       "    <tr>\n",
       "      <th>MACRO_Inflation</th>\n",
       "      <td>0.056868</td>\n",
       "    </tr>\n",
       "    <tr>\n",
       "      <th>...</th>\n",
       "      <td>...</td>\n",
       "    </tr>\n",
       "    <tr>\n",
       "      <th>SPEC_headlight_Xenon</th>\n",
       "      <td>0.000000</td>\n",
       "    </tr>\n",
       "    <tr>\n",
       "      <th>SPEC_Windshield_wipers</th>\n",
       "      <td>0.000000</td>\n",
       "    </tr>\n",
       "    <tr>\n",
       "      <th>SPEC_Steering_alloy</th>\n",
       "      <td>0.000000</td>\n",
       "    </tr>\n",
       "    <tr>\n",
       "      <th>SPEC_Front_seat</th>\n",
       "      <td>0.000000</td>\n",
       "    </tr>\n",
       "    <tr>\n",
       "      <th>SPEC_Doors</th>\n",
       "      <td>0.000000</td>\n",
       "    </tr>\n",
       "  </tbody>\n",
       "</table>\n",
       "<p>249 rows × 1 columns</p>\n",
       "</div>"
      ],
      "text/plain": [
       "                           importances\n",
       "MSRP_prevMY_WeightedByVol     0.103625\n",
       "SPEC_subwoofer                0.068719\n",
       "SPEC_overall_height_mm        0.063018\n",
       "SPEC_Drivenwheels_rear        0.058019\n",
       "MACRO_Inflation               0.056868\n",
       "...                                ...\n",
       "SPEC_headlight_Xenon          0.000000\n",
       "SPEC_Windshield_wipers        0.000000\n",
       "SPEC_Steering_alloy           0.000000\n",
       "SPEC_Front_seat               0.000000\n",
       "SPEC_Doors                    0.000000\n",
       "\n",
       "[249 rows x 1 columns]"
      ]
     },
     "execution_count": 362,
     "metadata": {},
     "output_type": "execute_result"
    }
   ],
   "source": [
    "AB_importances.sort_values(by='importances', ascending=False)"
   ]
  },
  {
   "attachments": {},
   "cell_type": "markdown",
   "metadata": {},
   "source": [
    "#### XGboost result"
   ]
  },
  {
   "cell_type": "code",
   "execution_count": 363,
   "metadata": {},
   "outputs": [],
   "source": [
    "best_xgboost = xgb.XGBRegressor(**result_dict['xgboost_param'])"
   ]
  },
  {
   "cell_type": "code",
   "execution_count": 364,
   "metadata": {},
   "outputs": [
    {
     "data": {
      "text/html": [
       "<style>#sk-container-id-30 {color: black;background-color: white;}#sk-container-id-30 pre{padding: 0;}#sk-container-id-30 div.sk-toggleable {background-color: white;}#sk-container-id-30 label.sk-toggleable__label {cursor: pointer;display: block;width: 100%;margin-bottom: 0;padding: 0.3em;box-sizing: border-box;text-align: center;}#sk-container-id-30 label.sk-toggleable__label-arrow:before {content: \"▸\";float: left;margin-right: 0.25em;color: #696969;}#sk-container-id-30 label.sk-toggleable__label-arrow:hover:before {color: black;}#sk-container-id-30 div.sk-estimator:hover label.sk-toggleable__label-arrow:before {color: black;}#sk-container-id-30 div.sk-toggleable__content {max-height: 0;max-width: 0;overflow: hidden;text-align: left;background-color: #f0f8ff;}#sk-container-id-30 div.sk-toggleable__content pre {margin: 0.2em;color: black;border-radius: 0.25em;background-color: #f0f8ff;}#sk-container-id-30 input.sk-toggleable__control:checked~div.sk-toggleable__content {max-height: 200px;max-width: 100%;overflow: auto;}#sk-container-id-30 input.sk-toggleable__control:checked~label.sk-toggleable__label-arrow:before {content: \"▾\";}#sk-container-id-30 div.sk-estimator input.sk-toggleable__control:checked~label.sk-toggleable__label {background-color: #d4ebff;}#sk-container-id-30 div.sk-label input.sk-toggleable__control:checked~label.sk-toggleable__label {background-color: #d4ebff;}#sk-container-id-30 input.sk-hidden--visually {border: 0;clip: rect(1px 1px 1px 1px);clip: rect(1px, 1px, 1px, 1px);height: 1px;margin: -1px;overflow: hidden;padding: 0;position: absolute;width: 1px;}#sk-container-id-30 div.sk-estimator {font-family: monospace;background-color: #f0f8ff;border: 1px dotted black;border-radius: 0.25em;box-sizing: border-box;margin-bottom: 0.5em;}#sk-container-id-30 div.sk-estimator:hover {background-color: #d4ebff;}#sk-container-id-30 div.sk-parallel-item::after {content: \"\";width: 100%;border-bottom: 1px solid gray;flex-grow: 1;}#sk-container-id-30 div.sk-label:hover label.sk-toggleable__label {background-color: #d4ebff;}#sk-container-id-30 div.sk-serial::before {content: \"\";position: absolute;border-left: 1px solid gray;box-sizing: border-box;top: 0;bottom: 0;left: 50%;z-index: 0;}#sk-container-id-30 div.sk-serial {display: flex;flex-direction: column;align-items: center;background-color: white;padding-right: 0.2em;padding-left: 0.2em;position: relative;}#sk-container-id-30 div.sk-item {position: relative;z-index: 1;}#sk-container-id-30 div.sk-parallel {display: flex;align-items: stretch;justify-content: center;background-color: white;position: relative;}#sk-container-id-30 div.sk-item::before, #sk-container-id-30 div.sk-parallel-item::before {content: \"\";position: absolute;border-left: 1px solid gray;box-sizing: border-box;top: 0;bottom: 0;left: 50%;z-index: -1;}#sk-container-id-30 div.sk-parallel-item {display: flex;flex-direction: column;z-index: 1;position: relative;background-color: white;}#sk-container-id-30 div.sk-parallel-item:first-child::after {align-self: flex-end;width: 50%;}#sk-container-id-30 div.sk-parallel-item:last-child::after {align-self: flex-start;width: 50%;}#sk-container-id-30 div.sk-parallel-item:only-child::after {width: 0;}#sk-container-id-30 div.sk-dashed-wrapped {border: 1px dashed gray;margin: 0 0.4em 0.5em 0.4em;box-sizing: border-box;padding-bottom: 0.4em;background-color: white;}#sk-container-id-30 div.sk-label label {font-family: monospace;font-weight: bold;display: inline-block;line-height: 1.2em;}#sk-container-id-30 div.sk-label-container {text-align: center;}#sk-container-id-30 div.sk-container {/* jupyter's `normalize.less` sets `[hidden] { display: none; }` but bootstrap.min.css set `[hidden] { display: none !important; }` so we also need the `!important` here to be able to override the default hidden behavior on the sphinx rendered scikit-learn.org. See: https://github.com/scikit-learn/scikit-learn/issues/21755 */display: inline-block !important;position: relative;}#sk-container-id-30 div.sk-text-repr-fallback {display: none;}</style><div id=\"sk-container-id-30\" class=\"sk-top-container\"><div class=\"sk-text-repr-fallback\"><pre>XGBRegressor(base_score=None, booster=None, callbacks=None,\n",
       "             colsample_bylevel=None, colsample_bynode=None,\n",
       "             colsample_bytree=None, early_stopping_rounds=None,\n",
       "             enable_categorical=False, eval_metric=None, feature_types=None,\n",
       "             gamma=0.0, gpu_id=None, grow_policy=None, importance_type=None,\n",
       "             interaction_constraints=None, learning_rate=0.1, max_bin=None,\n",
       "             max_cat_threshold=None, max_cat_to_onehot=None,\n",
       "             max_delta_step=None, max_depth=7, max_leaves=None,\n",
       "             min_child_weight=None, missing=nan, monotone_constraints=None,\n",
       "             n_estimators=500, n_jobs=None, num_parallel_tree=None,\n",
       "             predictor=None, random_state=1, ...)</pre><b>In a Jupyter environment, please rerun this cell to show the HTML representation or trust the notebook. <br />On GitHub, the HTML representation is unable to render, please try loading this page with nbviewer.org.</b></div><div class=\"sk-container\" hidden><div class=\"sk-item\"><div class=\"sk-estimator sk-toggleable\"><input class=\"sk-toggleable__control sk-hidden--visually\" id=\"sk-estimator-id-30\" type=\"checkbox\" checked><label for=\"sk-estimator-id-30\" class=\"sk-toggleable__label sk-toggleable__label-arrow\">XGBRegressor</label><div class=\"sk-toggleable__content\"><pre>XGBRegressor(base_score=None, booster=None, callbacks=None,\n",
       "             colsample_bylevel=None, colsample_bynode=None,\n",
       "             colsample_bytree=None, early_stopping_rounds=None,\n",
       "             enable_categorical=False, eval_metric=None, feature_types=None,\n",
       "             gamma=0.0, gpu_id=None, grow_policy=None, importance_type=None,\n",
       "             interaction_constraints=None, learning_rate=0.1, max_bin=None,\n",
       "             max_cat_threshold=None, max_cat_to_onehot=None,\n",
       "             max_delta_step=None, max_depth=7, max_leaves=None,\n",
       "             min_child_weight=None, missing=nan, monotone_constraints=None,\n",
       "             n_estimators=500, n_jobs=None, num_parallel_tree=None,\n",
       "             predictor=None, random_state=1, ...)</pre></div></div></div></div></div>"
      ],
      "text/plain": [
       "XGBRegressor(base_score=None, booster=None, callbacks=None,\n",
       "             colsample_bylevel=None, colsample_bynode=None,\n",
       "             colsample_bytree=None, early_stopping_rounds=None,\n",
       "             enable_categorical=False, eval_metric=None, feature_types=None,\n",
       "             gamma=0.0, gpu_id=None, grow_policy=None, importance_type=None,\n",
       "             interaction_constraints=None, learning_rate=0.1, max_bin=None,\n",
       "             max_cat_threshold=None, max_cat_to_onehot=None,\n",
       "             max_delta_step=None, max_depth=7, max_leaves=None,\n",
       "             min_child_weight=None, missing=nan, monotone_constraints=None,\n",
       "             n_estimators=500, n_jobs=None, num_parallel_tree=None,\n",
       "             predictor=None, random_state=1, ...)"
      ]
     },
     "execution_count": 364,
     "metadata": {},
     "output_type": "execute_result"
    }
   ],
   "source": [
    "best_xgboost.fit(train_X, train_y)"
   ]
  },
  {
   "cell_type": "code",
   "execution_count": 365,
   "metadata": {},
   "outputs": [],
   "source": [
    "pred_y = best_xgboost.predict(test_X)"
   ]
  },
  {
   "cell_type": "code",
   "execution_count": 366,
   "metadata": {},
   "outputs": [
    {
     "name": "stdout",
     "output_type": "stream",
     "text": [
      "rmse 851.7675609280345\n"
     ]
    },
    {
     "data": {
      "text/plain": [
       "851.7675609280345"
      ]
     },
     "execution_count": 366,
     "metadata": {},
     "output_type": "execute_result"
    }
   ],
   "source": [
    "rmse(np.exp(pred_y), np.exp(test_y['TARGET_Weighted_RetailPrice']).values)"
   ]
  },
  {
   "cell_type": "code",
   "execution_count": 367,
   "metadata": {},
   "outputs": [
    {
     "data": {
      "text/plain": [
       "0.9903390373534944"
      ]
     },
     "execution_count": 367,
     "metadata": {},
     "output_type": "execute_result"
    }
   ],
   "source": [
    "r2_score(np.exp(pred_y), np.exp(test_y['TARGET_Weighted_RetailPrice']).values)"
   ]
  },
  {
   "cell_type": "code",
   "execution_count": 368,
   "metadata": {},
   "outputs": [],
   "source": [
    "XGB_importances = best_xgboost.feature_importances_"
   ]
  },
  {
   "cell_type": "code",
   "execution_count": 369,
   "metadata": {},
   "outputs": [],
   "source": [
    "XGB_importances = pd.DataFrame(XGB_importances, columns=['importances'], index=feature_names)"
   ]
  },
  {
   "cell_type": "code",
   "execution_count": 370,
   "metadata": {},
   "outputs": [
    {
     "data": {
      "text/html": [
       "<div>\n",
       "<style scoped>\n",
       "    .dataframe tbody tr th:only-of-type {\n",
       "        vertical-align: middle;\n",
       "    }\n",
       "\n",
       "    .dataframe tbody tr th {\n",
       "        vertical-align: top;\n",
       "    }\n",
       "\n",
       "    .dataframe thead th {\n",
       "        text-align: right;\n",
       "    }\n",
       "</style>\n",
       "<table border=\"1\" class=\"dataframe\">\n",
       "  <thead>\n",
       "    <tr style=\"text-align: right;\">\n",
       "      <th></th>\n",
       "      <th>importances</th>\n",
       "    </tr>\n",
       "  </thead>\n",
       "  <tbody>\n",
       "    <tr>\n",
       "      <th>SPEC_Overtaking_sensor</th>\n",
       "      <td>0.194068</td>\n",
       "    </tr>\n",
       "    <tr>\n",
       "      <th>SPEC_Number_of_doors32</th>\n",
       "      <td>0.119523</td>\n",
       "    </tr>\n",
       "    <tr>\n",
       "      <th>SPEC_subwoofer</th>\n",
       "      <td>0.117568</td>\n",
       "    </tr>\n",
       "    <tr>\n",
       "      <th>SPEC_LED_lowbeam</th>\n",
       "      <td>0.075615</td>\n",
       "    </tr>\n",
       "    <tr>\n",
       "      <th>SPEC_FRDRseat_heated</th>\n",
       "      <td>0.060075</td>\n",
       "    </tr>\n",
       "    <tr>\n",
       "      <th>...</th>\n",
       "      <td>...</td>\n",
       "    </tr>\n",
       "    <tr>\n",
       "      <th>SPEC_Speakers</th>\n",
       "      <td>0.000000</td>\n",
       "    </tr>\n",
       "    <tr>\n",
       "      <th>SPEC_Seating</th>\n",
       "      <td>0.000000</td>\n",
       "    </tr>\n",
       "    <tr>\n",
       "      <th>SPEC_Warranty_paint</th>\n",
       "      <td>0.000000</td>\n",
       "    </tr>\n",
       "    <tr>\n",
       "      <th>SPEC_includes_steering_wheel_heating</th>\n",
       "      <td>0.000000</td>\n",
       "    </tr>\n",
       "    <tr>\n",
       "      <th>SPEC_Doors</th>\n",
       "      <td>0.000000</td>\n",
       "    </tr>\n",
       "  </tbody>\n",
       "</table>\n",
       "<p>249 rows × 1 columns</p>\n",
       "</div>"
      ],
      "text/plain": [
       "                                      importances\n",
       "SPEC_Overtaking_sensor                   0.194068\n",
       "SPEC_Number_of_doors32                   0.119523\n",
       "SPEC_subwoofer                           0.117568\n",
       "SPEC_LED_lowbeam                         0.075615\n",
       "SPEC_FRDRseat_heated                     0.060075\n",
       "...                                           ...\n",
       "SPEC_Speakers                            0.000000\n",
       "SPEC_Seating                             0.000000\n",
       "SPEC_Warranty_paint                      0.000000\n",
       "SPEC_includes_steering_wheel_heating     0.000000\n",
       "SPEC_Doors                               0.000000\n",
       "\n",
       "[249 rows x 1 columns]"
      ]
     },
     "execution_count": 370,
     "metadata": {},
     "output_type": "execute_result"
    }
   ],
   "source": [
    "XGB_importances.sort_values(by='importances', ascending=False)"
   ]
  },
  {
   "cell_type": "code",
   "execution_count": 371,
   "metadata": {},
   "outputs": [],
   "source": [
    "RF_vars = list(RF_importances.sort_values(by='importances', ascending=False)[:200].index)"
   ]
  },
  {
   "cell_type": "code",
   "execution_count": 372,
   "metadata": {},
   "outputs": [],
   "source": [
    "AB_vars = list(AB_importances.sort_values(by='importances', ascending=False)[:200].index)"
   ]
  },
  {
   "cell_type": "code",
   "execution_count": 373,
   "metadata": {},
   "outputs": [],
   "source": [
    "XGB_vars = list(XGB_importances.sort_values(by='importances', ascending=False)[:200].index)"
   ]
  },
  {
   "cell_type": "code",
   "execution_count": 374,
   "metadata": {},
   "outputs": [],
   "source": [
    "intercection1 = set(RF_vars).intersection(set(AB_vars))\n",
    "intercection2 = set(AB_vars).intersection(set(XGB_vars))\n",
    "intercection3 = set(RF_vars).intersection(set(XGB_vars))\n",
    "featureimp_variables = list(intercection1.union(intercection2).union(intercection3))"
   ]
  },
  {
   "cell_type": "code",
   "execution_count": 375,
   "metadata": {},
   "outputs": [],
   "source": [
    "pd.DataFrame(featureimp_variables).to_csv('variables_union'+ model_name +'.csv', index=False)"
   ]
  },
  {
   "cell_type": "code",
   "execution_count": 376,
   "metadata": {},
   "outputs": [
    {
     "data": {
      "text/plain": [
       "211"
      ]
     },
     "execution_count": 376,
     "metadata": {},
     "output_type": "execute_result"
    }
   ],
   "source": [
    "len(featureimp_variables)"
   ]
  },
  {
   "cell_type": "code",
   "execution_count": 377,
   "metadata": {},
   "outputs": [
    {
     "name": "stdout",
     "output_type": "stream",
     "text": [
      "random_forest\n",
      "Best parameter: {'random_state': 1, 'n_estimators': 300, 'min_samples_leaf': 11, 'max_features': 115, 'max_depth': 10}\n",
      "Best Train accuracy: 0.9610512633043663\n",
      "Best Test accuracy: 0.9459858176350493\n",
      "Best CV accuracy: 0.9438790644743251\n",
      "adaboost\n",
      "Best parameter: {'random_state': 1, 'n_estimators': 300, 'learning_rate': 1}\n",
      "Best Train accuracy: 0.9138673174763491\n",
      "Best Test accuracy: 0.9010155992191401\n",
      "Best CV accuracy: 0.9045482705830604\n",
      "xgboost\n",
      "Best parameter: {'random_state': 1, 'n_estimators': 500, 'max_depth': 7, 'learning_rate': 0.1, 'gamma': 0.0}\n",
      "Best Train accuracy: 0.9999196034788227\n",
      "Best Test accuracy: 0.9916096576825002\n",
      "Best CV accuracy: 0.9903796311527294\n"
     ]
    }
   ],
   "source": [
    "for model in model_list:\n",
    "    print(model)\n",
    "    print('Best parameter:', result_dict[model + '_param'])\n",
    "    print('Best Train accuracy:',result_dict[model + '_trainacc'])\n",
    "    print('Best Test accuracy:',result_dict[model + '_testacc'])\n",
    "    print('Best CV accuracy:',result_dict[model + '_cvacc'])"
   ]
  },
  {
   "attachments": {},
   "cell_type": "markdown",
   "metadata": {},
   "source": [
    "### Model with reduced variables Union of Intersections (211 variables)"
   ]
  },
  {
   "cell_type": "code",
   "execution_count": 378,
   "metadata": {},
   "outputs": [],
   "source": [
    "X = df_ml.drop(target, axis=1)"
   ]
  },
  {
   "cell_type": "code",
   "execution_count": 379,
   "metadata": {},
   "outputs": [],
   "source": [
    "X_featureimp = X[featureimp_variables]"
   ]
  },
  {
   "cell_type": "code",
   "execution_count": 380,
   "metadata": {},
   "outputs": [],
   "source": [
    "y = df_ml[[target]]"
   ]
  },
  {
   "cell_type": "code",
   "execution_count": 381,
   "metadata": {},
   "outputs": [],
   "source": [
    "y = np.log(y)"
   ]
  },
  {
   "cell_type": "code",
   "execution_count": 382,
   "metadata": {},
   "outputs": [],
   "source": [
    "train_X, test_X, train_y, test_y = train_test_split(X_featureimp, y, train_size=0.7, test_size=0.3, random_state=42)"
   ]
  },
  {
   "cell_type": "code",
   "execution_count": 383,
   "metadata": {},
   "outputs": [
    {
     "name": "stdout",
     "output_type": "stream",
     "text": [
      "random_forest\n",
      "rsquare 0.943440701105883\n",
      "rsquare 0.9460517615629994\n",
      "rsquare 0.9399032099048894\n",
      "rsquare 0.9434068046113295\n",
      "rsquare 0.9439854260275675\n",
      "rsquare 0.9141942907681234\n",
      "rsquare 0.9200522660894225\n",
      "rsquare 0.9428977313528242\n",
      "rsquare 0.9387624473701937\n",
      "rsquare 0.948594594502377\n",
      "rsquare 0.9500329996291684\n",
      "rsquare 0.953813308206851\n",
      "rsquare 0.951824725280968\n",
      "rsquare 0.9519861765703753\n",
      "rsquare 0.951957858622042\n",
      "rsquare 0.9318403958168465\n",
      "rsquare 0.9359633958136588\n",
      "rsquare 0.9504144037938149\n",
      "rsquare 0.9483562914299344\n",
      "rsquare 0.9580042179915162\n",
      "rsquare 0.7581318398799636\n",
      "rsquare 0.7615730993515996\n",
      "rsquare 0.7115837074514889\n",
      "rsquare 0.7209107148846758\n",
      "rsquare 0.7367952610490436\n",
      "rsquare 0.7230266896695778\n",
      "rsquare 0.7103095977608989\n",
      "rsquare 0.6964943857960031\n",
      "rsquare 0.7334278343884311\n",
      "rsquare 0.7486138820010364\n",
      "rsquare 0.8378378755020476\n",
      "rsquare 0.8427358103725123\n",
      "rsquare 0.7994978599604734\n",
      "rsquare 0.8124243134919389\n",
      "rsquare 0.7896783572451022\n",
      "rsquare 0.7876729377465446\n",
      "rsquare 0.7427854891079355\n",
      "rsquare 0.7961485709477228\n",
      "rsquare 0.8206308556742676\n",
      "rsquare 0.8346281017709957\n",
      "rsquare 0.943171974664184\n",
      "rsquare 0.9442444976248604\n",
      "rsquare 0.9425838061231757\n",
      "rsquare 0.9414907198740615\n",
      "rsquare 0.9438923256367941\n",
      "rsquare 0.9177173022506512\n",
      "rsquare 0.9239135464144909\n",
      "rsquare 0.941508911654929\n",
      "rsquare 0.940119844523001\n",
      "rsquare 0.9484372730219796\n",
      "rsquare 0.9560986446270727\n",
      "rsquare 0.9587649274101975\n",
      "rsquare 0.9592558904082936\n",
      "rsquare 0.9574138467692691\n",
      "rsquare 0.95831213164509\n",
      "rsquare 0.9375760813973203\n",
      "rsquare 0.9405050929332603\n",
      "rsquare 0.9557661523614868\n",
      "rsquare 0.9558813722725793\n",
      "rsquare 0.9583978813672446\n",
      "rsquare 0.9606113860192452\n",
      "rsquare 0.9646844553679075\n",
      "rsquare 0.9625364259639267\n",
      "rsquare 0.9613699880253088\n",
      "rsquare 0.9621488025787018\n",
      "rsquare 0.9504833351549571\n",
      "rsquare 0.9505471759539817\n",
      "rsquare 0.9580205862470044\n",
      "rsquare 0.9602934218919794\n",
      "rsquare 0.9606077684329442\n",
      "rsquare 0.83177630673763\n",
      "rsquare 0.8542219099364876\n",
      "rsquare 0.833520909641393\n",
      "rsquare 0.8378414715969504\n",
      "rsquare 0.8374676945396058\n",
      "rsquare 0.8298050858212532\n",
      "rsquare 0.8228938171583954\n",
      "rsquare 0.8149014547078072\n",
      "rsquare 0.8317597172102196\n",
      "rsquare 0.8452250888791343\n",
      "rsquare 0.8353385432408803\n",
      "rsquare 0.8618376306926511\n",
      "rsquare 0.8418896240090886\n",
      "rsquare 0.8533150736805577\n",
      "rsquare 0.8451336716660358\n",
      "rsquare 0.8318696726662139\n",
      "rsquare 0.8271852426955012\n",
      "rsquare 0.8276726824321062\n",
      "rsquare 0.8414012142294343\n",
      "rsquare 0.8551522171923005\n",
      "rsquare 0.8195074988220006\n",
      "rsquare 0.8379131641888198\n",
      "rsquare 0.8043663949334021\n",
      "rsquare 0.8101688598532477\n",
      "rsquare 0.8064334233716262\n",
      "rsquare 0.8102415048160725\n",
      "rsquare 0.7961233329402543\n",
      "rsquare 0.795149485135575\n",
      "rsquare 0.8068568360480071\n",
      "rsquare 0.8343022216687461\n",
      "Best CV params {'random_state': 1, 'n_estimators': 1000, 'min_samples_leaf': 1, 'max_features': 206, 'max_depth': 9}\n",
      "Best CV Rsquare 0.9591303345635955\n",
      "rsquare 0.979554940045074\n",
      "Best train Rsquare 0.979554940045074\n",
      "rsquare 0.9615248931428138\n",
      "Test RMSE of best grid search hypers: 0.9615248931428138\n",
      "rsquare 0.9615248931428138\n",
      "rsquare 0.979554940045074\n",
      "adaboost\n",
      "rsquare 0.9038678253680132\n",
      "rsquare 0.9230332476152998\n",
      "rsquare 0.9000755764936318\n",
      "rsquare 0.9058971134481633\n",
      "rsquare 0.9047224436004415\n",
      "rsquare 0.9030261522102192\n",
      "rsquare 0.9022260276756876\n",
      "rsquare 0.8808751931260165\n",
      "rsquare 0.9084465665248035\n",
      "rsquare 0.9166306150307428\n",
      "rsquare 0.7128060640394875\n",
      "rsquare 0.7405645756889896\n",
      "rsquare 0.6510051104660035\n",
      "rsquare 0.677978761204923\n",
      "rsquare 0.6669078127790719\n",
      "rsquare 0.6544840299019106\n",
      "rsquare 0.6302668930307229\n",
      "rsquare 0.6398059523075847\n",
      "rsquare 0.7080408551655608\n",
      "rsquare 0.6926573383837744\n",
      "rsquare 0.822858717903174\n",
      "rsquare 0.84238156117112\n",
      "rsquare 0.8220930397141167\n",
      "rsquare 0.8212048207645947\n",
      "rsquare 0.8237140397828409\n",
      "rsquare 0.8388112487467254\n",
      "rsquare 0.8302298151627252\n",
      "rsquare 0.7986474441984198\n",
      "rsquare 0.8347970214603915\n",
      "rsquare 0.8519823529246551\n",
      "rsquare 0.7386719354102647\n",
      "rsquare 0.7507353001425954\n",
      "rsquare 0.6502400953646603\n",
      "rsquare 0.6970161626689881\n",
      "rsquare 0.6761212670277813\n",
      "rsquare 0.6688808694781356\n",
      "rsquare 0.6343860687383838\n",
      "rsquare 0.6757051777428831\n",
      "rsquare 0.7118963588401228\n",
      "rsquare 0.7037479391898378\n",
      "rsquare 0.7106462359846472\n",
      "rsquare 0.7428590125762025\n",
      "rsquare 0.6445061020408405\n",
      "rsquare 0.6706121368821627\n",
      "rsquare 0.6673064737969197\n",
      "rsquare 0.6553530910334604\n",
      "rsquare 0.6281431201459664\n",
      "rsquare 0.6383955005252875\n",
      "rsquare 0.7055435762395377\n",
      "rsquare 0.6922097096205129\n",
      "rsquare 0.7287577818692925\n",
      "rsquare 0.7440525062208025\n",
      "rsquare 0.6399256548584866\n",
      "rsquare 0.6745838290489141\n",
      "rsquare 0.6657432545627859\n",
      "rsquare 0.6632915020890073\n",
      "rsquare 0.6316421520746012\n",
      "rsquare 0.6741295585357969\n",
      "rsquare 0.7108989095371969\n",
      "rsquare 0.6973090828472572\n",
      "rsquare 0.8948197727485068\n",
      "rsquare 0.9159018251310515\n",
      "rsquare 0.8870737935184421\n",
      "rsquare 0.8929696521894137\n",
      "rsquare 0.8947348220112774\n",
      "rsquare 0.8939891721829256\n",
      "rsquare 0.8966913200371248\n",
      "rsquare 0.8737602399726389\n",
      "rsquare 0.9022876240103445\n",
      "rsquare 0.9057825782164645\n",
      "rsquare 0.8968583526700742\n",
      "rsquare 0.9176457569791979\n",
      "rsquare 0.8967165626259934\n",
      "rsquare 0.8977354335449445\n",
      "rsquare 0.8943276853714871\n",
      "rsquare 0.9002443030616589\n",
      "rsquare 0.900780032759011\n",
      "rsquare 0.8723448334985286\n",
      "rsquare 0.90179817066097\n",
      "rsquare 0.9096291026475549\n",
      "rsquare 0.7571088288754304\n",
      "rsquare 0.7487727974227432\n",
      "rsquare 0.6442463134934371\n",
      "rsquare 0.6930482897311079\n",
      "rsquare 0.6678358878679485\n",
      "rsquare 0.6658757322902261\n",
      "rsquare 0.6312453862973528\n",
      "rsquare 0.6733457378479031\n",
      "rsquare 0.7139901273717745\n",
      "rsquare 0.6938117293819623\n",
      "rsquare 0.7572239410415388\n",
      "rsquare 0.7670100412026867\n",
      "rsquare 0.6926208279019017\n",
      "rsquare 0.7144577553758014\n",
      "rsquare 0.7195856473440028\n",
      "rsquare 0.6914697358730489\n",
      "rsquare 0.6448520803558462\n",
      "rsquare 0.6897714378148658\n",
      "rsquare 0.7424634697231948\n",
      "rsquare 0.7386863123474252\n",
      "Best CV params {'random_state': 1, 'n_estimators': 300, 'learning_rate': 1}\n",
      "Best CV Rsquare 0.9048800761093018\n",
      "rsquare 0.9141191081641792\n",
      "Best train Rsquare 0.9141191081641792\n",
      "rsquare 0.9021397206699995\n",
      "Test RMSE of best grid search hypers: 0.9021397206699995\n",
      "rsquare 0.9021397206699995\n",
      "rsquare 0.9141191081641792\n",
      "xgboost\n",
      "rsquare -4.299621804474014\n",
      "rsquare -4.273820407371034\n",
      "rsquare -5.461288855662614\n",
      "rsquare -4.765099907504048\n",
      "rsquare -5.113919470863205\n",
      "rsquare -5.7630664203033675\n",
      "rsquare -5.556656405874294\n",
      "rsquare -5.884493423719468\n",
      "rsquare -5.10072445875072\n",
      "rsquare -5.878639126028376\n",
      "rsquare 0.517710507097514\n",
      "rsquare 0.545857818549828\n",
      "rsquare 0.506544790383266\n",
      "rsquare 0.5069471483185041\n",
      "rsquare 0.5525736319655807\n",
      "rsquare 0.4982531280436928\n",
      "rsquare 0.5126101625222819\n",
      "rsquare 0.49604926483700995\n",
      "rsquare 0.5041115580004962\n",
      "rsquare 0.5328798314649082\n",
      "rsquare -1732.1304475267668\n",
      "rsquare -1729.704249189019\n",
      "rsquare -2037.7124885765431\n",
      "rsquare -1793.3054327185994\n",
      "rsquare -1985.3065417374166\n",
      "rsquare -2124.498658051907\n",
      "rsquare -2121.4583343540858\n",
      "rsquare -2395.0084305389114\n",
      "rsquare -1942.622579473295\n",
      "rsquare -2264.237287660179\n",
      "rsquare -1733.8558731021858\n",
      "rsquare -1731.4295936903366\n",
      "rsquare -2039.7404478331587\n",
      "rsquare -1795.0876922909108\n",
      "rsquare -1987.2835544421046\n",
      "rsquare -2126.611738696434\n",
      "rsquare -2123.573097864966\n",
      "rsquare -2397.404498179168\n",
      "rsquare -1944.557557632592\n",
      "rsquare -2266.494214411192\n",
      "rsquare -286.4541235142155\n",
      "rsquare -285.27484492185454\n",
      "rsquare -338.1057882089279\n",
      "rsquare -298.3789532992587\n",
      "rsquare -328.32959057237684\n",
      "rsquare -352.9501181650253\n",
      "rsquare -350.3422274231081\n",
      "rsquare -392.3655098543405\n",
      "rsquare -321.5329981074309\n",
      "rsquare -374.10119970538017\n",
      "rsquare -2075.530895734379\n",
      "rsquare -2073.116581156492\n",
      "rsquare -2441.3782784190385\n",
      "rsquare -2148.0022807405066\n",
      "rsquare -2378.8554156449422\n",
      "rsquare -2545.0839164046333\n",
      "rsquare -2542.492612864584\n",
      "rsquare -2872.0307681056115\n",
      "rsquare -2327.829731526257\n",
      "rsquare -2713.4757794358716\n",
      "rsquare -283.92648480912624\n",
      "rsquare -282.6782744208141\n",
      "rsquare -335.0769914843164\n",
      "rsquare -295.755783986433\n",
      "rsquare -325.4279087486161\n",
      "rsquare -349.8142805774622\n",
      "rsquare -347.158207604604\n",
      "rsquare -388.67918045380804\n",
      "rsquare -318.59861666669445\n",
      "rsquare -370.7242847301547\n",
      "rsquare -2075.549617157668\n",
      "rsquare -2073.1352772278087\n",
      "rsquare -2441.400228049023\n",
      "rsquare -2148.021594617378\n",
      "rsquare -2378.8768428236317\n",
      "rsquare -2545.106756432182\n",
      "rsquare -2542.515474596998\n",
      "rsquare -2872.0567686738427\n",
      "rsquare -2327.8507042146243\n",
      "rsquare -2713.5002053133762\n",
      "rsquare 0.7225969803001417\n",
      "rsquare 0.7346608641600465\n",
      "rsquare 0.7020135661223891\n",
      "rsquare 0.7234109098056365\n",
      "rsquare 0.727449201823952\n",
      "rsquare 0.7030765829532947\n",
      "rsquare 0.7199725858970616\n",
      "rsquare 0.7015956376094997\n",
      "rsquare 0.7191085277748321\n",
      "rsquare 0.742086655289505\n",
      "rsquare 0.7317648524884457\n",
      "rsquare 0.7373249955577015\n",
      "rsquare 0.7415991895119864\n",
      "rsquare 0.757465936335985\n",
      "rsquare 0.757415283563077\n",
      "rsquare 0.7432234176229755\n",
      "rsquare 0.733887020010155\n",
      "rsquare 0.7245053735356398\n",
      "rsquare 0.7300979800880898\n",
      "rsquare 0.7644767803968795\n",
      "Best CV params {'random_state': 1, 'n_estimators': 300, 'max_depth': 3, 'learning_rate': 0.1, 'gamma': 3.0}\n",
      "Best CV Rsquare 0.7421760829110935\n",
      "rsquare 0.7604755589247267\n",
      "Best train Rsquare 0.7604755589247267\n",
      "rsquare 0.7471472985318601\n",
      "Test RMSE of best grid search hypers: 0.7471472985318601\n",
      "rsquare 0.7471472985318601\n",
      "rsquare 0.7604755589247267\n"
     ]
    }
   ],
   "source": [
    "result_dict = {}\n",
    "for model in model_list:\n",
    "    print(model)\n",
    "    result_dict[model + '_param'], \\\n",
    "    result_dict[model + '_cvacc'], \\\n",
    "    result_dict[model + '_testacc'],\\\n",
    "    result_dict[model + '_trainacc'] \\\n",
    "    = RandomsearchRegression(models_dict[model], parameters_dct[model])"
   ]
  },
  {
   "attachments": {},
   "cell_type": "markdown",
   "metadata": {},
   "source": [
    "#### Random Forest result"
   ]
  },
  {
   "cell_type": "code",
   "execution_count": 384,
   "metadata": {},
   "outputs": [],
   "source": [
    "best_randomforest = RandomForestRegressor(**result_dict['random_forest_param'])"
   ]
  },
  {
   "cell_type": "code",
   "execution_count": 385,
   "metadata": {},
   "outputs": [
    {
     "data": {
      "text/html": [
       "<style>#sk-container-id-31 {color: black;background-color: white;}#sk-container-id-31 pre{padding: 0;}#sk-container-id-31 div.sk-toggleable {background-color: white;}#sk-container-id-31 label.sk-toggleable__label {cursor: pointer;display: block;width: 100%;margin-bottom: 0;padding: 0.3em;box-sizing: border-box;text-align: center;}#sk-container-id-31 label.sk-toggleable__label-arrow:before {content: \"▸\";float: left;margin-right: 0.25em;color: #696969;}#sk-container-id-31 label.sk-toggleable__label-arrow:hover:before {color: black;}#sk-container-id-31 div.sk-estimator:hover label.sk-toggleable__label-arrow:before {color: black;}#sk-container-id-31 div.sk-toggleable__content {max-height: 0;max-width: 0;overflow: hidden;text-align: left;background-color: #f0f8ff;}#sk-container-id-31 div.sk-toggleable__content pre {margin: 0.2em;color: black;border-radius: 0.25em;background-color: #f0f8ff;}#sk-container-id-31 input.sk-toggleable__control:checked~div.sk-toggleable__content {max-height: 200px;max-width: 100%;overflow: auto;}#sk-container-id-31 input.sk-toggleable__control:checked~label.sk-toggleable__label-arrow:before {content: \"▾\";}#sk-container-id-31 div.sk-estimator input.sk-toggleable__control:checked~label.sk-toggleable__label {background-color: #d4ebff;}#sk-container-id-31 div.sk-label input.sk-toggleable__control:checked~label.sk-toggleable__label {background-color: #d4ebff;}#sk-container-id-31 input.sk-hidden--visually {border: 0;clip: rect(1px 1px 1px 1px);clip: rect(1px, 1px, 1px, 1px);height: 1px;margin: -1px;overflow: hidden;padding: 0;position: absolute;width: 1px;}#sk-container-id-31 div.sk-estimator {font-family: monospace;background-color: #f0f8ff;border: 1px dotted black;border-radius: 0.25em;box-sizing: border-box;margin-bottom: 0.5em;}#sk-container-id-31 div.sk-estimator:hover {background-color: #d4ebff;}#sk-container-id-31 div.sk-parallel-item::after {content: \"\";width: 100%;border-bottom: 1px solid gray;flex-grow: 1;}#sk-container-id-31 div.sk-label:hover label.sk-toggleable__label {background-color: #d4ebff;}#sk-container-id-31 div.sk-serial::before {content: \"\";position: absolute;border-left: 1px solid gray;box-sizing: border-box;top: 0;bottom: 0;left: 50%;z-index: 0;}#sk-container-id-31 div.sk-serial {display: flex;flex-direction: column;align-items: center;background-color: white;padding-right: 0.2em;padding-left: 0.2em;position: relative;}#sk-container-id-31 div.sk-item {position: relative;z-index: 1;}#sk-container-id-31 div.sk-parallel {display: flex;align-items: stretch;justify-content: center;background-color: white;position: relative;}#sk-container-id-31 div.sk-item::before, #sk-container-id-31 div.sk-parallel-item::before {content: \"\";position: absolute;border-left: 1px solid gray;box-sizing: border-box;top: 0;bottom: 0;left: 50%;z-index: -1;}#sk-container-id-31 div.sk-parallel-item {display: flex;flex-direction: column;z-index: 1;position: relative;background-color: white;}#sk-container-id-31 div.sk-parallel-item:first-child::after {align-self: flex-end;width: 50%;}#sk-container-id-31 div.sk-parallel-item:last-child::after {align-self: flex-start;width: 50%;}#sk-container-id-31 div.sk-parallel-item:only-child::after {width: 0;}#sk-container-id-31 div.sk-dashed-wrapped {border: 1px dashed gray;margin: 0 0.4em 0.5em 0.4em;box-sizing: border-box;padding-bottom: 0.4em;background-color: white;}#sk-container-id-31 div.sk-label label {font-family: monospace;font-weight: bold;display: inline-block;line-height: 1.2em;}#sk-container-id-31 div.sk-label-container {text-align: center;}#sk-container-id-31 div.sk-container {/* jupyter's `normalize.less` sets `[hidden] { display: none; }` but bootstrap.min.css set `[hidden] { display: none !important; }` so we also need the `!important` here to be able to override the default hidden behavior on the sphinx rendered scikit-learn.org. See: https://github.com/scikit-learn/scikit-learn/issues/21755 */display: inline-block !important;position: relative;}#sk-container-id-31 div.sk-text-repr-fallback {display: none;}</style><div id=\"sk-container-id-31\" class=\"sk-top-container\"><div class=\"sk-text-repr-fallback\"><pre>RandomForestRegressor(max_depth=9, max_features=206, n_estimators=1000,\n",
       "                      random_state=1)</pre><b>In a Jupyter environment, please rerun this cell to show the HTML representation or trust the notebook. <br />On GitHub, the HTML representation is unable to render, please try loading this page with nbviewer.org.</b></div><div class=\"sk-container\" hidden><div class=\"sk-item\"><div class=\"sk-estimator sk-toggleable\"><input class=\"sk-toggleable__control sk-hidden--visually\" id=\"sk-estimator-id-31\" type=\"checkbox\" checked><label for=\"sk-estimator-id-31\" class=\"sk-toggleable__label sk-toggleable__label-arrow\">RandomForestRegressor</label><div class=\"sk-toggleable__content\"><pre>RandomForestRegressor(max_depth=9, max_features=206, n_estimators=1000,\n",
       "                      random_state=1)</pre></div></div></div></div></div>"
      ],
      "text/plain": [
       "RandomForestRegressor(max_depth=9, max_features=206, n_estimators=1000,\n",
       "                      random_state=1)"
      ]
     },
     "execution_count": 385,
     "metadata": {},
     "output_type": "execute_result"
    }
   ],
   "source": [
    "best_randomforest.fit(train_X, train_y)"
   ]
  },
  {
   "cell_type": "code",
   "execution_count": 386,
   "metadata": {},
   "outputs": [],
   "source": [
    "pred_y = best_randomforest.predict(test_X)"
   ]
  },
  {
   "cell_type": "code",
   "execution_count": 387,
   "metadata": {},
   "outputs": [
    {
     "name": "stdout",
     "output_type": "stream",
     "text": [
      "rmse 1690.2167350261723\n"
     ]
    },
    {
     "data": {
      "text/plain": [
       "1690.2167350261723"
      ]
     },
     "execution_count": 387,
     "metadata": {},
     "output_type": "execute_result"
    }
   ],
   "source": [
    "rmse(np.exp(pred_y), np.exp(test_y['TARGET_Weighted_RetailPrice']).values)"
   ]
  },
  {
   "cell_type": "code",
   "execution_count": 388,
   "metadata": {},
   "outputs": [
    {
     "data": {
      "text/plain": [
       "0.9577887508961752"
      ]
     },
     "execution_count": 388,
     "metadata": {},
     "output_type": "execute_result"
    }
   ],
   "source": [
    "r2_score(np.exp(pred_y), np.exp(test_y['TARGET_Weighted_RetailPrice']).values)"
   ]
  },
  {
   "cell_type": "code",
   "execution_count": 389,
   "metadata": {},
   "outputs": [],
   "source": [
    "RF_importances = best_randomforest.feature_importances_"
   ]
  },
  {
   "cell_type": "code",
   "execution_count": 390,
   "metadata": {},
   "outputs": [],
   "source": [
    "feature_names = list(X_featureimp.columns)"
   ]
  },
  {
   "cell_type": "code",
   "execution_count": 391,
   "metadata": {},
   "outputs": [],
   "source": [
    "RF_importances = pd.DataFrame(RF_importances, columns=['importances'], index=feature_names)"
   ]
  },
  {
   "cell_type": "code",
   "execution_count": 392,
   "metadata": {},
   "outputs": [
    {
     "data": {
      "text/html": [
       "<div>\n",
       "<style scoped>\n",
       "    .dataframe tbody tr th:only-of-type {\n",
       "        vertical-align: middle;\n",
       "    }\n",
       "\n",
       "    .dataframe tbody tr th {\n",
       "        vertical-align: top;\n",
       "    }\n",
       "\n",
       "    .dataframe thead th {\n",
       "        text-align: right;\n",
       "    }\n",
       "</style>\n",
       "<table border=\"1\" class=\"dataframe\">\n",
       "  <thead>\n",
       "    <tr style=\"text-align: right;\">\n",
       "      <th></th>\n",
       "      <th>importances</th>\n",
       "    </tr>\n",
       "  </thead>\n",
       "  <tbody>\n",
       "    <tr>\n",
       "      <th>SPEC_FRDRseat_heated</th>\n",
       "      <td>1.496488e-01</td>\n",
       "    </tr>\n",
       "    <tr>\n",
       "      <th>SPEC_FRPGseat_heated</th>\n",
       "      <td>1.454033e-01</td>\n",
       "    </tr>\n",
       "    <tr>\n",
       "      <th>SPEC_compression_ratio</th>\n",
       "      <td>1.249325e-01</td>\n",
       "    </tr>\n",
       "    <tr>\n",
       "      <th>SPEC_overall_height_mm</th>\n",
       "      <td>5.289193e-02</td>\n",
       "    </tr>\n",
       "    <tr>\n",
       "      <th>SPEC_LED_lowbeam</th>\n",
       "      <td>4.057978e-02</td>\n",
       "    </tr>\n",
       "    <tr>\n",
       "      <th>...</th>\n",
       "      <td>...</td>\n",
       "    </tr>\n",
       "    <tr>\n",
       "      <th>SPEC_NHTSA_frontcrash_2</th>\n",
       "      <td>2.856211e-06</td>\n",
       "    </tr>\n",
       "    <tr>\n",
       "      <th>SPEC_includes_air_conditioning</th>\n",
       "      <td>2.617341e-06</td>\n",
       "    </tr>\n",
       "    <tr>\n",
       "      <th>SPEC_ventilated819</th>\n",
       "      <td>2.358256e-06</td>\n",
       "    </tr>\n",
       "    <tr>\n",
       "      <th>SPEC_includes_key</th>\n",
       "      <td>1.162940e-06</td>\n",
       "    </tr>\n",
       "    <tr>\n",
       "      <th>SPEC_MP3_player</th>\n",
       "      <td>7.808138e-07</td>\n",
       "    </tr>\n",
       "  </tbody>\n",
       "</table>\n",
       "<p>211 rows × 1 columns</p>\n",
       "</div>"
      ],
      "text/plain": [
       "                                 importances\n",
       "SPEC_FRDRseat_heated            1.496488e-01\n",
       "SPEC_FRPGseat_heated            1.454033e-01\n",
       "SPEC_compression_ratio          1.249325e-01\n",
       "SPEC_overall_height_mm          5.289193e-02\n",
       "SPEC_LED_lowbeam                4.057978e-02\n",
       "...                                      ...\n",
       "SPEC_NHTSA_frontcrash_2         2.856211e-06\n",
       "SPEC_includes_air_conditioning  2.617341e-06\n",
       "SPEC_ventilated819              2.358256e-06\n",
       "SPEC_includes_key               1.162940e-06\n",
       "SPEC_MP3_player                 7.808138e-07\n",
       "\n",
       "[211 rows x 1 columns]"
      ]
     },
     "execution_count": 392,
     "metadata": {},
     "output_type": "execute_result"
    }
   ],
   "source": [
    "RF_importances.sort_values(by='importances', ascending=False)"
   ]
  },
  {
   "attachments": {},
   "cell_type": "markdown",
   "metadata": {},
   "source": [
    "#### Adaboost result"
   ]
  },
  {
   "cell_type": "code",
   "execution_count": 393,
   "metadata": {},
   "outputs": [],
   "source": [
    "best_adaboost= AdaBoostRegressor(**result_dict['adaboost_param'])\n"
   ]
  },
  {
   "cell_type": "code",
   "execution_count": 394,
   "metadata": {},
   "outputs": [
    {
     "data": {
      "text/html": [
       "<style>#sk-container-id-32 {color: black;background-color: white;}#sk-container-id-32 pre{padding: 0;}#sk-container-id-32 div.sk-toggleable {background-color: white;}#sk-container-id-32 label.sk-toggleable__label {cursor: pointer;display: block;width: 100%;margin-bottom: 0;padding: 0.3em;box-sizing: border-box;text-align: center;}#sk-container-id-32 label.sk-toggleable__label-arrow:before {content: \"▸\";float: left;margin-right: 0.25em;color: #696969;}#sk-container-id-32 label.sk-toggleable__label-arrow:hover:before {color: black;}#sk-container-id-32 div.sk-estimator:hover label.sk-toggleable__label-arrow:before {color: black;}#sk-container-id-32 div.sk-toggleable__content {max-height: 0;max-width: 0;overflow: hidden;text-align: left;background-color: #f0f8ff;}#sk-container-id-32 div.sk-toggleable__content pre {margin: 0.2em;color: black;border-radius: 0.25em;background-color: #f0f8ff;}#sk-container-id-32 input.sk-toggleable__control:checked~div.sk-toggleable__content {max-height: 200px;max-width: 100%;overflow: auto;}#sk-container-id-32 input.sk-toggleable__control:checked~label.sk-toggleable__label-arrow:before {content: \"▾\";}#sk-container-id-32 div.sk-estimator input.sk-toggleable__control:checked~label.sk-toggleable__label {background-color: #d4ebff;}#sk-container-id-32 div.sk-label input.sk-toggleable__control:checked~label.sk-toggleable__label {background-color: #d4ebff;}#sk-container-id-32 input.sk-hidden--visually {border: 0;clip: rect(1px 1px 1px 1px);clip: rect(1px, 1px, 1px, 1px);height: 1px;margin: -1px;overflow: hidden;padding: 0;position: absolute;width: 1px;}#sk-container-id-32 div.sk-estimator {font-family: monospace;background-color: #f0f8ff;border: 1px dotted black;border-radius: 0.25em;box-sizing: border-box;margin-bottom: 0.5em;}#sk-container-id-32 div.sk-estimator:hover {background-color: #d4ebff;}#sk-container-id-32 div.sk-parallel-item::after {content: \"\";width: 100%;border-bottom: 1px solid gray;flex-grow: 1;}#sk-container-id-32 div.sk-label:hover label.sk-toggleable__label {background-color: #d4ebff;}#sk-container-id-32 div.sk-serial::before {content: \"\";position: absolute;border-left: 1px solid gray;box-sizing: border-box;top: 0;bottom: 0;left: 50%;z-index: 0;}#sk-container-id-32 div.sk-serial {display: flex;flex-direction: column;align-items: center;background-color: white;padding-right: 0.2em;padding-left: 0.2em;position: relative;}#sk-container-id-32 div.sk-item {position: relative;z-index: 1;}#sk-container-id-32 div.sk-parallel {display: flex;align-items: stretch;justify-content: center;background-color: white;position: relative;}#sk-container-id-32 div.sk-item::before, #sk-container-id-32 div.sk-parallel-item::before {content: \"\";position: absolute;border-left: 1px solid gray;box-sizing: border-box;top: 0;bottom: 0;left: 50%;z-index: -1;}#sk-container-id-32 div.sk-parallel-item {display: flex;flex-direction: column;z-index: 1;position: relative;background-color: white;}#sk-container-id-32 div.sk-parallel-item:first-child::after {align-self: flex-end;width: 50%;}#sk-container-id-32 div.sk-parallel-item:last-child::after {align-self: flex-start;width: 50%;}#sk-container-id-32 div.sk-parallel-item:only-child::after {width: 0;}#sk-container-id-32 div.sk-dashed-wrapped {border: 1px dashed gray;margin: 0 0.4em 0.5em 0.4em;box-sizing: border-box;padding-bottom: 0.4em;background-color: white;}#sk-container-id-32 div.sk-label label {font-family: monospace;font-weight: bold;display: inline-block;line-height: 1.2em;}#sk-container-id-32 div.sk-label-container {text-align: center;}#sk-container-id-32 div.sk-container {/* jupyter's `normalize.less` sets `[hidden] { display: none; }` but bootstrap.min.css set `[hidden] { display: none !important; }` so we also need the `!important` here to be able to override the default hidden behavior on the sphinx rendered scikit-learn.org. See: https://github.com/scikit-learn/scikit-learn/issues/21755 */display: inline-block !important;position: relative;}#sk-container-id-32 div.sk-text-repr-fallback {display: none;}</style><div id=\"sk-container-id-32\" class=\"sk-top-container\"><div class=\"sk-text-repr-fallback\"><pre>AdaBoostRegressor(learning_rate=1, n_estimators=300, random_state=1)</pre><b>In a Jupyter environment, please rerun this cell to show the HTML representation or trust the notebook. <br />On GitHub, the HTML representation is unable to render, please try loading this page with nbviewer.org.</b></div><div class=\"sk-container\" hidden><div class=\"sk-item\"><div class=\"sk-estimator sk-toggleable\"><input class=\"sk-toggleable__control sk-hidden--visually\" id=\"sk-estimator-id-32\" type=\"checkbox\" checked><label for=\"sk-estimator-id-32\" class=\"sk-toggleable__label sk-toggleable__label-arrow\">AdaBoostRegressor</label><div class=\"sk-toggleable__content\"><pre>AdaBoostRegressor(learning_rate=1, n_estimators=300, random_state=1)</pre></div></div></div></div></div>"
      ],
      "text/plain": [
       "AdaBoostRegressor(learning_rate=1, n_estimators=300, random_state=1)"
      ]
     },
     "execution_count": 394,
     "metadata": {},
     "output_type": "execute_result"
    }
   ],
   "source": [
    "best_adaboost.fit(train_X, train_y)"
   ]
  },
  {
   "cell_type": "code",
   "execution_count": 395,
   "metadata": {},
   "outputs": [],
   "source": [
    "pred_y = best_adaboost.predict(test_X)"
   ]
  },
  {
   "cell_type": "code",
   "execution_count": 396,
   "metadata": {},
   "outputs": [
    {
     "name": "stdout",
     "output_type": "stream",
     "text": [
      "rmse 2694.956778870961\n"
     ]
    },
    {
     "data": {
      "text/plain": [
       "2694.956778870961"
      ]
     },
     "execution_count": 396,
     "metadata": {},
     "output_type": "execute_result"
    }
   ],
   "source": [
    "rmse(np.exp(pred_y), np.exp(test_y['TARGET_Weighted_RetailPrice']).values)"
   ]
  },
  {
   "cell_type": "code",
   "execution_count": 397,
   "metadata": {},
   "outputs": [
    {
     "data": {
      "text/plain": [
       "0.8708650681191593"
      ]
     },
     "execution_count": 397,
     "metadata": {},
     "output_type": "execute_result"
    }
   ],
   "source": [
    "r2_score(np.exp(pred_y), np.exp(test_y['TARGET_Weighted_RetailPrice']).values)"
   ]
  },
  {
   "cell_type": "code",
   "execution_count": 398,
   "metadata": {},
   "outputs": [],
   "source": [
    "AB_importances = best_adaboost.feature_importances_"
   ]
  },
  {
   "cell_type": "code",
   "execution_count": 399,
   "metadata": {},
   "outputs": [],
   "source": [
    "AB_importances = pd.DataFrame(AB_importances, columns=['importances'], index=feature_names)"
   ]
  },
  {
   "cell_type": "code",
   "execution_count": 400,
   "metadata": {},
   "outputs": [
    {
     "data": {
      "text/html": [
       "<div>\n",
       "<style scoped>\n",
       "    .dataframe tbody tr th:only-of-type {\n",
       "        vertical-align: middle;\n",
       "    }\n",
       "\n",
       "    .dataframe tbody tr th {\n",
       "        vertical-align: top;\n",
       "    }\n",
       "\n",
       "    .dataframe thead th {\n",
       "        text-align: right;\n",
       "    }\n",
       "</style>\n",
       "<table border=\"1\" class=\"dataframe\">\n",
       "  <thead>\n",
       "    <tr style=\"text-align: right;\">\n",
       "      <th></th>\n",
       "      <th>importances</th>\n",
       "    </tr>\n",
       "  </thead>\n",
       "  <tbody>\n",
       "    <tr>\n",
       "      <th>MSRP_prevMY_WeightedByVol</th>\n",
       "      <td>0.103426</td>\n",
       "    </tr>\n",
       "    <tr>\n",
       "      <th>SPEC_Drivenwheels_rear</th>\n",
       "      <td>0.060478</td>\n",
       "    </tr>\n",
       "    <tr>\n",
       "      <th>SPEC_subwoofer</th>\n",
       "      <td>0.059657</td>\n",
       "    </tr>\n",
       "    <tr>\n",
       "      <th>SPEC_overall_height_mm</th>\n",
       "      <td>0.058940</td>\n",
       "    </tr>\n",
       "    <tr>\n",
       "      <th>MACRO_Inflation</th>\n",
       "      <td>0.049806</td>\n",
       "    </tr>\n",
       "    <tr>\n",
       "      <th>...</th>\n",
       "      <td>...</td>\n",
       "    </tr>\n",
       "    <tr>\n",
       "      <th>SPEC_Garage_door_opener</th>\n",
       "      <td>0.000000</td>\n",
       "    </tr>\n",
       "    <tr>\n",
       "      <th>SPEC_Underbody_protection</th>\n",
       "      <td>0.000000</td>\n",
       "    </tr>\n",
       "    <tr>\n",
       "      <th>SPEC_Warranty_powertrain___Total</th>\n",
       "      <td>0.000000</td>\n",
       "    </tr>\n",
       "    <tr>\n",
       "      <th>SPEC_Warranty_roadside_assistance</th>\n",
       "      <td>0.000000</td>\n",
       "    </tr>\n",
       "    <tr>\n",
       "      <th>SPEC_Load_restraint</th>\n",
       "      <td>0.000000</td>\n",
       "    </tr>\n",
       "  </tbody>\n",
       "</table>\n",
       "<p>211 rows × 1 columns</p>\n",
       "</div>"
      ],
      "text/plain": [
       "                                   importances\n",
       "MSRP_prevMY_WeightedByVol             0.103426\n",
       "SPEC_Drivenwheels_rear                0.060478\n",
       "SPEC_subwoofer                        0.059657\n",
       "SPEC_overall_height_mm                0.058940\n",
       "MACRO_Inflation                       0.049806\n",
       "...                                        ...\n",
       "SPEC_Garage_door_opener               0.000000\n",
       "SPEC_Underbody_protection             0.000000\n",
       "SPEC_Warranty_powertrain___Total      0.000000\n",
       "SPEC_Warranty_roadside_assistance     0.000000\n",
       "SPEC_Load_restraint                   0.000000\n",
       "\n",
       "[211 rows x 1 columns]"
      ]
     },
     "execution_count": 400,
     "metadata": {},
     "output_type": "execute_result"
    }
   ],
   "source": [
    "AB_importances.sort_values(by='importances', ascending=False)"
   ]
  },
  {
   "attachments": {},
   "cell_type": "markdown",
   "metadata": {},
   "source": [
    "#### XGboost result"
   ]
  },
  {
   "cell_type": "code",
   "execution_count": 401,
   "metadata": {},
   "outputs": [],
   "source": [
    "best_xgboost = xgb.XGBRegressor(**result_dict['xgboost_param'])"
   ]
  },
  {
   "cell_type": "code",
   "execution_count": 402,
   "metadata": {},
   "outputs": [
    {
     "data": {
      "text/html": [
       "<style>#sk-container-id-33 {color: black;background-color: white;}#sk-container-id-33 pre{padding: 0;}#sk-container-id-33 div.sk-toggleable {background-color: white;}#sk-container-id-33 label.sk-toggleable__label {cursor: pointer;display: block;width: 100%;margin-bottom: 0;padding: 0.3em;box-sizing: border-box;text-align: center;}#sk-container-id-33 label.sk-toggleable__label-arrow:before {content: \"▸\";float: left;margin-right: 0.25em;color: #696969;}#sk-container-id-33 label.sk-toggleable__label-arrow:hover:before {color: black;}#sk-container-id-33 div.sk-estimator:hover label.sk-toggleable__label-arrow:before {color: black;}#sk-container-id-33 div.sk-toggleable__content {max-height: 0;max-width: 0;overflow: hidden;text-align: left;background-color: #f0f8ff;}#sk-container-id-33 div.sk-toggleable__content pre {margin: 0.2em;color: black;border-radius: 0.25em;background-color: #f0f8ff;}#sk-container-id-33 input.sk-toggleable__control:checked~div.sk-toggleable__content {max-height: 200px;max-width: 100%;overflow: auto;}#sk-container-id-33 input.sk-toggleable__control:checked~label.sk-toggleable__label-arrow:before {content: \"▾\";}#sk-container-id-33 div.sk-estimator input.sk-toggleable__control:checked~label.sk-toggleable__label {background-color: #d4ebff;}#sk-container-id-33 div.sk-label input.sk-toggleable__control:checked~label.sk-toggleable__label {background-color: #d4ebff;}#sk-container-id-33 input.sk-hidden--visually {border: 0;clip: rect(1px 1px 1px 1px);clip: rect(1px, 1px, 1px, 1px);height: 1px;margin: -1px;overflow: hidden;padding: 0;position: absolute;width: 1px;}#sk-container-id-33 div.sk-estimator {font-family: monospace;background-color: #f0f8ff;border: 1px dotted black;border-radius: 0.25em;box-sizing: border-box;margin-bottom: 0.5em;}#sk-container-id-33 div.sk-estimator:hover {background-color: #d4ebff;}#sk-container-id-33 div.sk-parallel-item::after {content: \"\";width: 100%;border-bottom: 1px solid gray;flex-grow: 1;}#sk-container-id-33 div.sk-label:hover label.sk-toggleable__label {background-color: #d4ebff;}#sk-container-id-33 div.sk-serial::before {content: \"\";position: absolute;border-left: 1px solid gray;box-sizing: border-box;top: 0;bottom: 0;left: 50%;z-index: 0;}#sk-container-id-33 div.sk-serial {display: flex;flex-direction: column;align-items: center;background-color: white;padding-right: 0.2em;padding-left: 0.2em;position: relative;}#sk-container-id-33 div.sk-item {position: relative;z-index: 1;}#sk-container-id-33 div.sk-parallel {display: flex;align-items: stretch;justify-content: center;background-color: white;position: relative;}#sk-container-id-33 div.sk-item::before, #sk-container-id-33 div.sk-parallel-item::before {content: \"\";position: absolute;border-left: 1px solid gray;box-sizing: border-box;top: 0;bottom: 0;left: 50%;z-index: -1;}#sk-container-id-33 div.sk-parallel-item {display: flex;flex-direction: column;z-index: 1;position: relative;background-color: white;}#sk-container-id-33 div.sk-parallel-item:first-child::after {align-self: flex-end;width: 50%;}#sk-container-id-33 div.sk-parallel-item:last-child::after {align-self: flex-start;width: 50%;}#sk-container-id-33 div.sk-parallel-item:only-child::after {width: 0;}#sk-container-id-33 div.sk-dashed-wrapped {border: 1px dashed gray;margin: 0 0.4em 0.5em 0.4em;box-sizing: border-box;padding-bottom: 0.4em;background-color: white;}#sk-container-id-33 div.sk-label label {font-family: monospace;font-weight: bold;display: inline-block;line-height: 1.2em;}#sk-container-id-33 div.sk-label-container {text-align: center;}#sk-container-id-33 div.sk-container {/* jupyter's `normalize.less` sets `[hidden] { display: none; }` but bootstrap.min.css set `[hidden] { display: none !important; }` so we also need the `!important` here to be able to override the default hidden behavior on the sphinx rendered scikit-learn.org. See: https://github.com/scikit-learn/scikit-learn/issues/21755 */display: inline-block !important;position: relative;}#sk-container-id-33 div.sk-text-repr-fallback {display: none;}</style><div id=\"sk-container-id-33\" class=\"sk-top-container\"><div class=\"sk-text-repr-fallback\"><pre>XGBRegressor(base_score=None, booster=None, callbacks=None,\n",
       "             colsample_bylevel=None, colsample_bynode=None,\n",
       "             colsample_bytree=None, early_stopping_rounds=None,\n",
       "             enable_categorical=False, eval_metric=None, feature_types=None,\n",
       "             gamma=3.0, gpu_id=None, grow_policy=None, importance_type=None,\n",
       "             interaction_constraints=None, learning_rate=0.1, max_bin=None,\n",
       "             max_cat_threshold=None, max_cat_to_onehot=None,\n",
       "             max_delta_step=None, max_depth=3, max_leaves=None,\n",
       "             min_child_weight=None, missing=nan, monotone_constraints=None,\n",
       "             n_estimators=300, n_jobs=None, num_parallel_tree=None,\n",
       "             predictor=None, random_state=1, ...)</pre><b>In a Jupyter environment, please rerun this cell to show the HTML representation or trust the notebook. <br />On GitHub, the HTML representation is unable to render, please try loading this page with nbviewer.org.</b></div><div class=\"sk-container\" hidden><div class=\"sk-item\"><div class=\"sk-estimator sk-toggleable\"><input class=\"sk-toggleable__control sk-hidden--visually\" id=\"sk-estimator-id-33\" type=\"checkbox\" checked><label for=\"sk-estimator-id-33\" class=\"sk-toggleable__label sk-toggleable__label-arrow\">XGBRegressor</label><div class=\"sk-toggleable__content\"><pre>XGBRegressor(base_score=None, booster=None, callbacks=None,\n",
       "             colsample_bylevel=None, colsample_bynode=None,\n",
       "             colsample_bytree=None, early_stopping_rounds=None,\n",
       "             enable_categorical=False, eval_metric=None, feature_types=None,\n",
       "             gamma=3.0, gpu_id=None, grow_policy=None, importance_type=None,\n",
       "             interaction_constraints=None, learning_rate=0.1, max_bin=None,\n",
       "             max_cat_threshold=None, max_cat_to_onehot=None,\n",
       "             max_delta_step=None, max_depth=3, max_leaves=None,\n",
       "             min_child_weight=None, missing=nan, monotone_constraints=None,\n",
       "             n_estimators=300, n_jobs=None, num_parallel_tree=None,\n",
       "             predictor=None, random_state=1, ...)</pre></div></div></div></div></div>"
      ],
      "text/plain": [
       "XGBRegressor(base_score=None, booster=None, callbacks=None,\n",
       "             colsample_bylevel=None, colsample_bynode=None,\n",
       "             colsample_bytree=None, early_stopping_rounds=None,\n",
       "             enable_categorical=False, eval_metric=None, feature_types=None,\n",
       "             gamma=3.0, gpu_id=None, grow_policy=None, importance_type=None,\n",
       "             interaction_constraints=None, learning_rate=0.1, max_bin=None,\n",
       "             max_cat_threshold=None, max_cat_to_onehot=None,\n",
       "             max_delta_step=None, max_depth=3, max_leaves=None,\n",
       "             min_child_weight=None, missing=nan, monotone_constraints=None,\n",
       "             n_estimators=300, n_jobs=None, num_parallel_tree=None,\n",
       "             predictor=None, random_state=1, ...)"
      ]
     },
     "execution_count": 402,
     "metadata": {},
     "output_type": "execute_result"
    }
   ],
   "source": [
    "best_xgboost.fit(train_X, train_y)"
   ]
  },
  {
   "cell_type": "code",
   "execution_count": 403,
   "metadata": {},
   "outputs": [],
   "source": [
    "pred_y = best_xgboost.predict(test_X)"
   ]
  },
  {
   "cell_type": "code",
   "execution_count": 404,
   "metadata": {},
   "outputs": [
    {
     "name": "stdout",
     "output_type": "stream",
     "text": [
      "rmse 4500.085846844597\n"
     ]
    },
    {
     "data": {
      "text/plain": [
       "4500.085846844597"
      ]
     },
     "execution_count": 404,
     "metadata": {},
     "output_type": "execute_result"
    }
   ],
   "source": [
    "rmse(np.exp(pred_y), np.exp(test_y['TARGET_Weighted_RetailPrice']).values)"
   ]
  },
  {
   "cell_type": "code",
   "execution_count": 405,
   "metadata": {},
   "outputs": [
    {
     "data": {
      "text/plain": [
       "0.2534498744498124"
      ]
     },
     "execution_count": 405,
     "metadata": {},
     "output_type": "execute_result"
    }
   ],
   "source": [
    "r2_score(np.exp(pred_y), np.exp(test_y['TARGET_Weighted_RetailPrice']).values)"
   ]
  },
  {
   "cell_type": "code",
   "execution_count": 406,
   "metadata": {},
   "outputs": [
    {
     "name": "stdout",
     "output_type": "stream",
     "text": [
      "random_forest\n",
      "Best parameter: {'random_state': 1, 'n_estimators': 1000, 'min_samples_leaf': 1, 'max_features': 206, 'max_depth': 9}\n",
      "Best Train accuracy: 0.979554940045074\n",
      "Best Test accuracy: 0.9615248931428138\n",
      "Best CV accuracy: 0.9591303345635955\n",
      "adaboost\n",
      "Best parameter: {'random_state': 1, 'n_estimators': 300, 'learning_rate': 1}\n",
      "Best Train accuracy: 0.9141191081641792\n",
      "Best Test accuracy: 0.9021397206699995\n",
      "Best CV accuracy: 0.9048800761093018\n",
      "xgboost\n",
      "Best parameter: {'random_state': 1, 'n_estimators': 300, 'max_depth': 3, 'learning_rate': 0.1, 'gamma': 3.0}\n",
      "Best Train accuracy: 0.7604755589247267\n",
      "Best Test accuracy: 0.7471472985318601\n",
      "Best CV accuracy: 0.7421760829110935\n"
     ]
    }
   ],
   "source": [
    "for model in model_list:\n",
    "    print(model)\n",
    "    print('Best parameter:', result_dict[model + '_param'])\n",
    "    print('Best Train accuracy:',result_dict[model + '_trainacc'])\n",
    "    print('Best Test accuracy:',result_dict[model + '_testacc'])\n",
    "    print('Best CV accuracy:',result_dict[model + '_cvacc'])"
   ]
  },
  {
   "attachments": {},
   "cell_type": "markdown",
   "metadata": {},
   "source": [
    "### Model with reduced variables of Intersections (151 variables)"
   ]
  },
  {
   "cell_type": "code",
   "execution_count": 407,
   "metadata": {},
   "outputs": [],
   "source": [
    "featureimp_variables = list(set(RF_vars).intersection(set(XGB_vars)).intersection(set(AB_vars)))"
   ]
  },
  {
   "cell_type": "code",
   "execution_count": 408,
   "metadata": {},
   "outputs": [
    {
     "data": {
      "text/plain": [
       "151"
      ]
     },
     "execution_count": 408,
     "metadata": {},
     "output_type": "execute_result"
    }
   ],
   "source": [
    "len(featureimp_variables)"
   ]
  },
  {
   "cell_type": "code",
   "execution_count": 409,
   "metadata": {},
   "outputs": [],
   "source": [
    "pd.DataFrame(featureimp_variables).to_csv('variables_intersections_'+model_name+'.csv', index=False)"
   ]
  },
  {
   "cell_type": "code",
   "execution_count": 410,
   "metadata": {},
   "outputs": [],
   "source": [
    "X = df_ml.drop(target, axis=1)"
   ]
  },
  {
   "cell_type": "code",
   "execution_count": 411,
   "metadata": {},
   "outputs": [],
   "source": [
    "X_featureimp = X[featureimp_variables]"
   ]
  },
  {
   "cell_type": "code",
   "execution_count": 412,
   "metadata": {},
   "outputs": [],
   "source": [
    "y = df_ml[[target]]"
   ]
  },
  {
   "cell_type": "code",
   "execution_count": 413,
   "metadata": {},
   "outputs": [],
   "source": [
    "y = np.log(y)"
   ]
  },
  {
   "cell_type": "code",
   "execution_count": 414,
   "metadata": {},
   "outputs": [],
   "source": [
    "train_X, test_X, train_y, test_y = train_test_split(X_featureimp, y, train_size=0.7, test_size=0.3, random_state=42)"
   ]
  },
  {
   "cell_type": "code",
   "execution_count": 415,
   "metadata": {},
   "outputs": [
    {
     "name": "stdout",
     "output_type": "stream",
     "text": [
      "random_forest\n",
      "rsquare 0.8713745236565344\n",
      "rsquare 0.8857595640780325\n",
      "rsquare 0.8620157206269956\n",
      "rsquare 0.8676057777580571\n",
      "rsquare 0.8474821229760474\n",
      "rsquare 0.8545044295625057\n",
      "rsquare 0.8126146400383436\n",
      "rsquare 0.8566472981752737\n",
      "rsquare 0.8669151709435496\n",
      "rsquare 0.8835462692905403\n",
      "rsquare 0.9566244883040705\n",
      "rsquare 0.9571138865131215\n",
      "rsquare 0.9581322179618552\n",
      "rsquare 0.9583996312800948\n",
      "rsquare 0.9561395378659006\n",
      "rsquare 0.9354498543817618\n",
      "rsquare 0.938491416958113\n",
      "rsquare 0.9552841114719339\n",
      "rsquare 0.9550631146013979\n",
      "rsquare 0.9576489742160811\n",
      "rsquare 0.9064527015343309\n",
      "rsquare 0.9173728764769394\n",
      "rsquare 0.9068479364721642\n",
      "rsquare 0.9068961907310724\n",
      "rsquare 0.901795217170273\n",
      "rsquare 0.8940931594027245\n",
      "rsquare 0.8877144595377792\n",
      "rsquare 0.8969168537624441\n",
      "rsquare 0.9087790863639763\n",
      "rsquare 0.9196099744065973\n",
      "rsquare 0.8800143858128069\n",
      "rsquare 0.890663773326347\n",
      "rsquare 0.8721538632935204\n",
      "rsquare 0.8750366946789851\n",
      "rsquare 0.8645520675373556\n",
      "rsquare 0.865857112528233\n",
      "rsquare 0.8465495951532331\n",
      "rsquare 0.8612669272854458\n",
      "rsquare 0.8784153091950667\n",
      "rsquare 0.8915680875164887\n",
      "rsquare 0.9457138125626119\n",
      "rsquare 0.9488730427545831\n",
      "rsquare 0.9480628803512318\n",
      "rsquare 0.9488015316036639\n",
      "rsquare 0.9460511023297196\n",
      "rsquare 0.9258670641994403\n",
      "rsquare 0.9234795924445801\n",
      "rsquare 0.9426030735775563\n",
      "rsquare 0.9447753355210933\n",
      "rsquare 0.9483212326521653\n",
      "rsquare 0.9255492025840528\n",
      "rsquare 0.9291939647308786\n",
      "rsquare 0.9233128564247487\n",
      "rsquare 0.9241547391585404\n",
      "rsquare 0.9286471623710709\n",
      "rsquare 0.898238361643472\n",
      "rsquare 0.906055474934312\n",
      "rsquare 0.9272463090556297\n",
      "rsquare 0.9260646801075882\n",
      "rsquare 0.9341212132048389\n",
      "rsquare 0.947839235766379\n",
      "rsquare 0.9535227894111681\n",
      "rsquare 0.9506016378410841\n",
      "rsquare 0.9496824442019088\n",
      "rsquare 0.9481029251843622\n",
      "rsquare 0.9380979283034977\n",
      "rsquare 0.9382229728664562\n",
      "rsquare 0.9427810744335993\n",
      "rsquare 0.9497064160189399\n",
      "rsquare 0.9544558627068478\n",
      "rsquare 0.7887600518082577\n",
      "rsquare 0.8057671367946682\n",
      "rsquare 0.786402920754751\n",
      "rsquare 0.7929989567218398\n",
      "rsquare 0.8008946430244768\n",
      "rsquare 0.7833002002603204\n",
      "rsquare 0.7785858824321901\n",
      "rsquare 0.7691525097593902\n",
      "rsquare 0.7865579634636788\n",
      "rsquare 0.8092202766821381\n",
      "rsquare 0.902384285031657\n",
      "rsquare 0.9146047734787459\n",
      "rsquare 0.893188992693821\n",
      "rsquare 0.9023329622704684\n",
      "rsquare 0.8969606625291783\n",
      "rsquare 0.897805588610267\n",
      "rsquare 0.8843131207658256\n",
      "rsquare 0.8939045932391818\n",
      "rsquare 0.9059068856910291\n",
      "rsquare 0.9109031236172878\n",
      "rsquare 0.8712025456048245\n",
      "rsquare 0.8827100367808001\n",
      "rsquare 0.8574052700733049\n",
      "rsquare 0.870984508090783\n",
      "rsquare 0.852510726473602\n",
      "rsquare 0.844760708610902\n",
      "rsquare 0.8171057591338916\n",
      "rsquare 0.8622239514564283\n",
      "rsquare 0.872131870896512\n",
      "rsquare 0.8860532537447923\n",
      "Best CV params {'random_state': 1, 'n_estimators': 100, 'min_samples_leaf': 4, 'max_features': 190, 'max_depth': 9}\n",
      "Best CV Rsquare 0.952834723355433\n",
      "rsquare 0.973873685080748\n",
      "Best train Rsquare 0.973873685080748\n",
      "rsquare 0.9544264157008165\n",
      "Test RMSE of best grid search hypers: 0.9544264157008165\n",
      "rsquare 0.9544264157008165\n",
      "rsquare 0.973873685080748\n",
      "adaboost\n",
      "rsquare 0.7588766108402514\n",
      "rsquare 0.7543577384206855\n",
      "rsquare 0.6544978732080018\n",
      "rsquare 0.7075746759091243\n",
      "rsquare 0.6839996040614449\n",
      "rsquare 0.6760729919986167\n",
      "rsquare 0.6354932040808521\n",
      "rsquare 0.6787513389385417\n",
      "rsquare 0.7191163947092901\n",
      "rsquare 0.7119056077418795\n",
      "rsquare 0.8982711907157924\n",
      "rsquare 0.9124467566435942\n",
      "rsquare 0.8862785182446782\n",
      "rsquare 0.8980787087854678\n",
      "rsquare 0.9021817554029694\n",
      "rsquare 0.894346613458408\n",
      "rsquare 0.9040172181374779\n",
      "rsquare 0.8748289328993896\n",
      "rsquare 0.9014531212239794\n",
      "rsquare 0.9015529990604738\n",
      "rsquare 0.7197456353891992\n",
      "rsquare 0.7416416687972365\n",
      "rsquare 0.654406321957145\n",
      "rsquare 0.6895360260582697\n",
      "rsquare 0.6707113940024684\n",
      "rsquare 0.6575995131696941\n",
      "rsquare 0.6278254184494865\n",
      "rsquare 0.667461057033777\n",
      "rsquare 0.7068800823416845\n",
      "rsquare 0.6945595609315357\n",
      "rsquare 0.7404099613011017\n",
      "rsquare 0.751019625745607\n",
      "rsquare 0.6463614338133783\n",
      "rsquare 0.7051327165662757\n",
      "rsquare 0.678981807840375\n",
      "rsquare 0.668020711893089\n",
      "rsquare 0.6335666683036937\n",
      "rsquare 0.6851266232837087\n",
      "rsquare 0.7143512155609701\n",
      "rsquare 0.6950192208268975\n",
      "rsquare 0.7568271536811094\n",
      "rsquare 0.7661363291930376\n",
      "rsquare 0.6896511983886091\n",
      "rsquare 0.7140087664696676\n",
      "rsquare 0.7207045895448703\n",
      "rsquare 0.6907603915770401\n",
      "rsquare 0.646215449812011\n",
      "rsquare 0.6896673711456198\n",
      "rsquare 0.7425327942072444\n",
      "rsquare 0.7373001238227197\n",
      "rsquare 0.907076724690971\n",
      "rsquare 0.9235097523342308\n",
      "rsquare 0.9007278382893406\n",
      "rsquare 0.9066926650967173\n",
      "rsquare 0.907641373879698\n",
      "rsquare 0.9001259552428059\n",
      "rsquare 0.9071285472040783\n",
      "rsquare 0.8802218179123205\n",
      "rsquare 0.9118957582662035\n",
      "rsquare 0.9122148145048556\n",
      "rsquare 0.8948199702937941\n",
      "rsquare 0.9162921228923839\n",
      "rsquare 0.8868408090239799\n",
      "rsquare 0.8917817401116319\n",
      "rsquare 0.8959207259874274\n",
      "rsquare 0.8940081818595075\n",
      "rsquare 0.8965373068556742\n",
      "rsquare 0.8730764726419448\n",
      "rsquare 0.9044692876950152\n",
      "rsquare 0.9092581356160812\n",
      "rsquare 0.8199087315502094\n",
      "rsquare 0.8432780526677444\n",
      "rsquare 0.8234035630125488\n",
      "rsquare 0.8229541380764962\n",
      "rsquare 0.8239183864628249\n",
      "rsquare 0.8417843598232104\n",
      "rsquare 0.830360643725677\n",
      "rsquare 0.802121952070017\n",
      "rsquare 0.8371148497779161\n",
      "rsquare 0.8496849859505038\n",
      "rsquare 0.7129486641327292\n",
      "rsquare 0.7405645756889916\n",
      "rsquare 0.6510051104660107\n",
      "rsquare 0.6779787612048891\n",
      "rsquare 0.6669078127790643\n",
      "rsquare 0.6544840299019121\n",
      "rsquare 0.6297491758783547\n",
      "rsquare 0.6398059523075815\n",
      "rsquare 0.7080408551655704\n",
      "rsquare 0.6928503058530882\n",
      "rsquare 0.8819889803383303\n",
      "rsquare 0.9044450257661358\n",
      "rsquare 0.874260778924007\n",
      "rsquare 0.879492913187635\n",
      "rsquare 0.8820982952004378\n",
      "rsquare 0.8858809368799239\n",
      "rsquare 0.8885422420800095\n",
      "rsquare 0.8614814131214614\n",
      "rsquare 0.8936084973297483\n",
      "rsquare 0.9023073998419932\n",
      "Best CV params {'random_state': 1, 'n_estimators': 500, 'learning_rate': 1}\n",
      "Best CV Rsquare 0.9057235247421221\n",
      "rsquare 0.9124096423549846\n",
      "Best train Rsquare 0.9124096423549846\n",
      "rsquare 0.9022792004648054\n",
      "Test RMSE of best grid search hypers: 0.9022792004648054\n",
      "rsquare 0.9022792004648054\n",
      "rsquare 0.9124096423549846\n",
      "xgboost\n",
      "rsquare -1732.1304475267668\n",
      "rsquare -1729.704249189019\n",
      "rsquare -2037.7124885765431\n",
      "rsquare -1793.3054327185994\n",
      "rsquare -1985.3065417374166\n",
      "rsquare -2124.498658051907\n",
      "rsquare -2121.4583343540858\n",
      "rsquare -2395.0084305389114\n",
      "rsquare -1942.622579473295\n",
      "rsquare -2264.237287660179\n",
      "rsquare 0.6750872612871466\n",
      "rsquare 0.7257619885150364\n",
      "rsquare 0.6418144241842211\n",
      "rsquare 0.7163058730214651\n",
      "rsquare 0.6613776779309657\n",
      "rsquare 0.6148769012232749\n",
      "rsquare 0.6231614869330554\n",
      "rsquare 0.6826211877829338\n",
      "rsquare 0.6925286437834157\n",
      "rsquare 0.6620425463013295\n",
      "rsquare -4.594549573795396\n",
      "rsquare -4.520621847763379\n",
      "rsquare -5.7731124470610515\n",
      "rsquare -5.156556159867031\n",
      "rsquare -5.344797433854153\n",
      "rsquare -6.142246473877676\n",
      "rsquare -5.772819700591231\n",
      "rsquare -5.9003284206710225\n",
      "rsquare -5.373349775095326\n",
      "rsquare -6.096989597147809\n",
      "rsquare -4.467656754342242\n",
      "rsquare -4.419780047909129\n",
      "rsquare -5.648955169753293\n",
      "rsquare -5.011255353018731\n",
      "rsquare -5.259789378271144\n",
      "rsquare -6.026671389146157\n",
      "rsquare -5.710851759753502\n",
      "rsquare -5.859578906487058\n",
      "rsquare -5.2721303966113835\n",
      "rsquare -5.986943508812607\n",
      "rsquare -2075.530895734379\n",
      "rsquare -2073.116581156492\n",
      "rsquare -2441.3782784190385\n",
      "rsquare -2148.0022807405066\n",
      "rsquare -2378.8554156449422\n",
      "rsquare -2545.0839164046333\n",
      "rsquare -2542.492612864584\n",
      "rsquare -2872.0307681056115\n",
      "rsquare -2327.829731526257\n",
      "rsquare -2713.4757794358716\n",
      "rsquare -2075.549617157668\n",
      "rsquare -2073.1352772278087\n",
      "rsquare -2441.400228049023\n",
      "rsquare -2148.021594617378\n",
      "rsquare -2378.8768428236317\n",
      "rsquare -2545.106756432182\n",
      "rsquare -2542.515474596998\n",
      "rsquare -2872.0567686738427\n",
      "rsquare -2327.8507042146243\n",
      "rsquare -2713.5002053133762\n",
      "rsquare 0.6285592766034311\n",
      "rsquare 0.6302383771597464\n",
      "rsquare 0.6115980436837414\n",
      "rsquare 0.6299934251506185\n",
      "rsquare 0.6402070942426612\n",
      "rsquare 0.6294571336709865\n",
      "rsquare 0.6327554601226119\n",
      "rsquare 0.6103008744460277\n",
      "rsquare 0.6250070201414568\n",
      "rsquare 0.6492158750342146\n",
      "rsquare -286.5231364143414\n",
      "rsquare -285.2514197938467\n",
      "rsquare -338.13933961309084\n",
      "rsquare -298.4506163555008\n",
      "rsquare -328.4015599235614\n",
      "rsquare -352.99937790203103\n",
      "rsquare -350.31840147896315\n",
      "rsquare -392.22823659809995\n",
      "rsquare -321.48989625014826\n",
      "rsquare -374.1045828938736\n",
      "rsquare -1732.1304475267668\n",
      "rsquare -1729.704249189019\n",
      "rsquare -2037.7124885765431\n",
      "rsquare -1793.3054327185994\n",
      "rsquare -1985.3065417374166\n",
      "rsquare -2124.498658051907\n",
      "rsquare -2121.4583343540858\n",
      "rsquare -2395.0084305389114\n",
      "rsquare -1942.622579473295\n",
      "rsquare -2264.237287660179\n",
      "rsquare 0.5059246922547214\n",
      "rsquare 0.486826317864855\n",
      "rsquare 0.470095617426878\n",
      "rsquare 0.47719317631997726\n",
      "rsquare 0.4922442034450645\n",
      "rsquare 0.5025304887656223\n",
      "rsquare 0.5005724916887141\n",
      "rsquare 0.43856455874682065\n",
      "rsquare 0.47146331783945883\n",
      "rsquare 0.5330409527215824\n",
      "Best CV params {'random_state': 1, 'n_estimators': 300, 'max_depth': 10, 'learning_rate': 1, 'gamma': 5.0}\n",
      "Best CV Rsquare 0.6695577990962842\n",
      "rsquare 0.6747718811679073\n",
      "Best train Rsquare 0.6747718811679073\n",
      "rsquare 0.6287686085640389\n",
      "Test RMSE of best grid search hypers: 0.6287686085640389\n",
      "rsquare 0.6287686085640389\n",
      "rsquare 0.6747718811679073\n"
     ]
    }
   ],
   "source": [
    "result_dict = {}\n",
    "for model in model_list:\n",
    "    print(model)\n",
    "    result_dict[model + '_param'], \\\n",
    "    result_dict[model + '_cvacc'], \\\n",
    "    result_dict[model + '_testacc'],\\\n",
    "    result_dict[model + '_trainacc'] \\\n",
    "    = RandomsearchRegression(models_dict[model], parameters_dct[model])"
   ]
  },
  {
   "attachments": {},
   "cell_type": "markdown",
   "metadata": {},
   "source": [
    "#### Random Forest result"
   ]
  },
  {
   "cell_type": "code",
   "execution_count": 416,
   "metadata": {},
   "outputs": [],
   "source": [
    "best_randomforest = RandomForestRegressor(**result_dict['random_forest_param'])"
   ]
  },
  {
   "cell_type": "code",
   "execution_count": 417,
   "metadata": {},
   "outputs": [
    {
     "data": {
      "text/html": [
       "<style>#sk-container-id-34 {color: black;background-color: white;}#sk-container-id-34 pre{padding: 0;}#sk-container-id-34 div.sk-toggleable {background-color: white;}#sk-container-id-34 label.sk-toggleable__label {cursor: pointer;display: block;width: 100%;margin-bottom: 0;padding: 0.3em;box-sizing: border-box;text-align: center;}#sk-container-id-34 label.sk-toggleable__label-arrow:before {content: \"▸\";float: left;margin-right: 0.25em;color: #696969;}#sk-container-id-34 label.sk-toggleable__label-arrow:hover:before {color: black;}#sk-container-id-34 div.sk-estimator:hover label.sk-toggleable__label-arrow:before {color: black;}#sk-container-id-34 div.sk-toggleable__content {max-height: 0;max-width: 0;overflow: hidden;text-align: left;background-color: #f0f8ff;}#sk-container-id-34 div.sk-toggleable__content pre {margin: 0.2em;color: black;border-radius: 0.25em;background-color: #f0f8ff;}#sk-container-id-34 input.sk-toggleable__control:checked~div.sk-toggleable__content {max-height: 200px;max-width: 100%;overflow: auto;}#sk-container-id-34 input.sk-toggleable__control:checked~label.sk-toggleable__label-arrow:before {content: \"▾\";}#sk-container-id-34 div.sk-estimator input.sk-toggleable__control:checked~label.sk-toggleable__label {background-color: #d4ebff;}#sk-container-id-34 div.sk-label input.sk-toggleable__control:checked~label.sk-toggleable__label {background-color: #d4ebff;}#sk-container-id-34 input.sk-hidden--visually {border: 0;clip: rect(1px 1px 1px 1px);clip: rect(1px, 1px, 1px, 1px);height: 1px;margin: -1px;overflow: hidden;padding: 0;position: absolute;width: 1px;}#sk-container-id-34 div.sk-estimator {font-family: monospace;background-color: #f0f8ff;border: 1px dotted black;border-radius: 0.25em;box-sizing: border-box;margin-bottom: 0.5em;}#sk-container-id-34 div.sk-estimator:hover {background-color: #d4ebff;}#sk-container-id-34 div.sk-parallel-item::after {content: \"\";width: 100%;border-bottom: 1px solid gray;flex-grow: 1;}#sk-container-id-34 div.sk-label:hover label.sk-toggleable__label {background-color: #d4ebff;}#sk-container-id-34 div.sk-serial::before {content: \"\";position: absolute;border-left: 1px solid gray;box-sizing: border-box;top: 0;bottom: 0;left: 50%;z-index: 0;}#sk-container-id-34 div.sk-serial {display: flex;flex-direction: column;align-items: center;background-color: white;padding-right: 0.2em;padding-left: 0.2em;position: relative;}#sk-container-id-34 div.sk-item {position: relative;z-index: 1;}#sk-container-id-34 div.sk-parallel {display: flex;align-items: stretch;justify-content: center;background-color: white;position: relative;}#sk-container-id-34 div.sk-item::before, #sk-container-id-34 div.sk-parallel-item::before {content: \"\";position: absolute;border-left: 1px solid gray;box-sizing: border-box;top: 0;bottom: 0;left: 50%;z-index: -1;}#sk-container-id-34 div.sk-parallel-item {display: flex;flex-direction: column;z-index: 1;position: relative;background-color: white;}#sk-container-id-34 div.sk-parallel-item:first-child::after {align-self: flex-end;width: 50%;}#sk-container-id-34 div.sk-parallel-item:last-child::after {align-self: flex-start;width: 50%;}#sk-container-id-34 div.sk-parallel-item:only-child::after {width: 0;}#sk-container-id-34 div.sk-dashed-wrapped {border: 1px dashed gray;margin: 0 0.4em 0.5em 0.4em;box-sizing: border-box;padding-bottom: 0.4em;background-color: white;}#sk-container-id-34 div.sk-label label {font-family: monospace;font-weight: bold;display: inline-block;line-height: 1.2em;}#sk-container-id-34 div.sk-label-container {text-align: center;}#sk-container-id-34 div.sk-container {/* jupyter's `normalize.less` sets `[hidden] { display: none; }` but bootstrap.min.css set `[hidden] { display: none !important; }` so we also need the `!important` here to be able to override the default hidden behavior on the sphinx rendered scikit-learn.org. See: https://github.com/scikit-learn/scikit-learn/issues/21755 */display: inline-block !important;position: relative;}#sk-container-id-34 div.sk-text-repr-fallback {display: none;}</style><div id=\"sk-container-id-34\" class=\"sk-top-container\"><div class=\"sk-text-repr-fallback\"><pre>RandomForestRegressor(max_depth=9, max_features=190, min_samples_leaf=4,\n",
       "                      random_state=1)</pre><b>In a Jupyter environment, please rerun this cell to show the HTML representation or trust the notebook. <br />On GitHub, the HTML representation is unable to render, please try loading this page with nbviewer.org.</b></div><div class=\"sk-container\" hidden><div class=\"sk-item\"><div class=\"sk-estimator sk-toggleable\"><input class=\"sk-toggleable__control sk-hidden--visually\" id=\"sk-estimator-id-34\" type=\"checkbox\" checked><label for=\"sk-estimator-id-34\" class=\"sk-toggleable__label sk-toggleable__label-arrow\">RandomForestRegressor</label><div class=\"sk-toggleable__content\"><pre>RandomForestRegressor(max_depth=9, max_features=190, min_samples_leaf=4,\n",
       "                      random_state=1)</pre></div></div></div></div></div>"
      ],
      "text/plain": [
       "RandomForestRegressor(max_depth=9, max_features=190, min_samples_leaf=4,\n",
       "                      random_state=1)"
      ]
     },
     "execution_count": 417,
     "metadata": {},
     "output_type": "execute_result"
    }
   ],
   "source": [
    "best_randomforest.fit(train_X, train_y)"
   ]
  },
  {
   "cell_type": "code",
   "execution_count": 418,
   "metadata": {},
   "outputs": [],
   "source": [
    "pred_y = best_randomforest.predict(test_X)"
   ]
  },
  {
   "cell_type": "code",
   "execution_count": 419,
   "metadata": {},
   "outputs": [
    {
     "name": "stdout",
     "output_type": "stream",
     "text": [
      "rmse 1904.7655436723876\n"
     ]
    },
    {
     "data": {
      "text/plain": [
       "1904.7655436723876"
      ]
     },
     "execution_count": 419,
     "metadata": {},
     "output_type": "execute_result"
    }
   ],
   "source": [
    "rmse(np.exp(pred_y), np.exp(test_y['TARGET_Weighted_RetailPrice']).values)"
   ]
  },
  {
   "cell_type": "code",
   "execution_count": 420,
   "metadata": {},
   "outputs": [
    {
     "data": {
      "text/plain": [
       "0.9453122048716706"
      ]
     },
     "execution_count": 420,
     "metadata": {},
     "output_type": "execute_result"
    }
   ],
   "source": [
    "r2_score(np.exp(pred_y), np.exp(test_y['TARGET_Weighted_RetailPrice']).values)"
   ]
  },
  {
   "cell_type": "code",
   "execution_count": 421,
   "metadata": {},
   "outputs": [],
   "source": [
    "RF_importances = best_randomforest.feature_importances_"
   ]
  },
  {
   "cell_type": "code",
   "execution_count": 422,
   "metadata": {},
   "outputs": [],
   "source": [
    "feature_names = list(X_featureimp.columns)"
   ]
  },
  {
   "cell_type": "code",
   "execution_count": 423,
   "metadata": {},
   "outputs": [],
   "source": [
    "RF_importances = pd.DataFrame(RF_importances, columns=['importances'], index=feature_names)"
   ]
  },
  {
   "cell_type": "code",
   "execution_count": 424,
   "metadata": {},
   "outputs": [
    {
     "data": {
      "text/html": [
       "<div>\n",
       "<style scoped>\n",
       "    .dataframe tbody tr th:only-of-type {\n",
       "        vertical-align: middle;\n",
       "    }\n",
       "\n",
       "    .dataframe tbody tr th {\n",
       "        vertical-align: top;\n",
       "    }\n",
       "\n",
       "    .dataframe thead th {\n",
       "        text-align: right;\n",
       "    }\n",
       "</style>\n",
       "<table border=\"1\" class=\"dataframe\">\n",
       "  <thead>\n",
       "    <tr style=\"text-align: right;\">\n",
       "      <th></th>\n",
       "      <th>importances</th>\n",
       "    </tr>\n",
       "  </thead>\n",
       "  <tbody>\n",
       "    <tr>\n",
       "      <th>SPEC_FRDRseat_heated</th>\n",
       "      <td>2.911271e-01</td>\n",
       "    </tr>\n",
       "    <tr>\n",
       "      <th>SPEC_compression_ratio</th>\n",
       "      <td>1.293568e-01</td>\n",
       "    </tr>\n",
       "    <tr>\n",
       "      <th>SPEC_overall_height_mm</th>\n",
       "      <td>6.040262e-02</td>\n",
       "    </tr>\n",
       "    <tr>\n",
       "      <th>SPEC_RRseatbelt_DRPGCenter</th>\n",
       "      <td>5.941867e-02</td>\n",
       "    </tr>\n",
       "    <tr>\n",
       "      <th>SPEC_LED_lowbeam</th>\n",
       "      <td>4.815554e-02</td>\n",
       "    </tr>\n",
       "    <tr>\n",
       "      <th>...</th>\n",
       "      <td>...</td>\n",
       "    </tr>\n",
       "    <tr>\n",
       "      <th>SPEC_Bumper_FRRR</th>\n",
       "      <td>7.198302e-08</td>\n",
       "    </tr>\n",
       "    <tr>\n",
       "      <th>SPEC_Service_interval_indicator</th>\n",
       "      <td>0.000000e+00</td>\n",
       "    </tr>\n",
       "    <tr>\n",
       "      <th>SPEC_Warranty_roadside_assistance</th>\n",
       "      <td>0.000000e+00</td>\n",
       "    </tr>\n",
       "    <tr>\n",
       "      <th>SPEC_includes_phone205</th>\n",
       "      <td>0.000000e+00</td>\n",
       "    </tr>\n",
       "    <tr>\n",
       "      <th>SPEC_includes_air_conditioning</th>\n",
       "      <td>0.000000e+00</td>\n",
       "    </tr>\n",
       "  </tbody>\n",
       "</table>\n",
       "<p>151 rows × 1 columns</p>\n",
       "</div>"
      ],
      "text/plain": [
       "                                    importances\n",
       "SPEC_FRDRseat_heated               2.911271e-01\n",
       "SPEC_compression_ratio             1.293568e-01\n",
       "SPEC_overall_height_mm             6.040262e-02\n",
       "SPEC_RRseatbelt_DRPGCenter         5.941867e-02\n",
       "SPEC_LED_lowbeam                   4.815554e-02\n",
       "...                                         ...\n",
       "SPEC_Bumper_FRRR                   7.198302e-08\n",
       "SPEC_Service_interval_indicator    0.000000e+00\n",
       "SPEC_Warranty_roadside_assistance  0.000000e+00\n",
       "SPEC_includes_phone205             0.000000e+00\n",
       "SPEC_includes_air_conditioning     0.000000e+00\n",
       "\n",
       "[151 rows x 1 columns]"
      ]
     },
     "execution_count": 424,
     "metadata": {},
     "output_type": "execute_result"
    }
   ],
   "source": [
    "RF_importances.sort_values(by='importances', ascending=False)"
   ]
  },
  {
   "attachments": {},
   "cell_type": "markdown",
   "metadata": {},
   "source": [
    "#### Adaboost result"
   ]
  },
  {
   "cell_type": "code",
   "execution_count": 425,
   "metadata": {},
   "outputs": [],
   "source": [
    "best_adaboost= AdaBoostRegressor(**result_dict['adaboost_param'])\n"
   ]
  },
  {
   "cell_type": "code",
   "execution_count": 426,
   "metadata": {},
   "outputs": [
    {
     "data": {
      "text/html": [
       "<style>#sk-container-id-35 {color: black;background-color: white;}#sk-container-id-35 pre{padding: 0;}#sk-container-id-35 div.sk-toggleable {background-color: white;}#sk-container-id-35 label.sk-toggleable__label {cursor: pointer;display: block;width: 100%;margin-bottom: 0;padding: 0.3em;box-sizing: border-box;text-align: center;}#sk-container-id-35 label.sk-toggleable__label-arrow:before {content: \"▸\";float: left;margin-right: 0.25em;color: #696969;}#sk-container-id-35 label.sk-toggleable__label-arrow:hover:before {color: black;}#sk-container-id-35 div.sk-estimator:hover label.sk-toggleable__label-arrow:before {color: black;}#sk-container-id-35 div.sk-toggleable__content {max-height: 0;max-width: 0;overflow: hidden;text-align: left;background-color: #f0f8ff;}#sk-container-id-35 div.sk-toggleable__content pre {margin: 0.2em;color: black;border-radius: 0.25em;background-color: #f0f8ff;}#sk-container-id-35 input.sk-toggleable__control:checked~div.sk-toggleable__content {max-height: 200px;max-width: 100%;overflow: auto;}#sk-container-id-35 input.sk-toggleable__control:checked~label.sk-toggleable__label-arrow:before {content: \"▾\";}#sk-container-id-35 div.sk-estimator input.sk-toggleable__control:checked~label.sk-toggleable__label {background-color: #d4ebff;}#sk-container-id-35 div.sk-label input.sk-toggleable__control:checked~label.sk-toggleable__label {background-color: #d4ebff;}#sk-container-id-35 input.sk-hidden--visually {border: 0;clip: rect(1px 1px 1px 1px);clip: rect(1px, 1px, 1px, 1px);height: 1px;margin: -1px;overflow: hidden;padding: 0;position: absolute;width: 1px;}#sk-container-id-35 div.sk-estimator {font-family: monospace;background-color: #f0f8ff;border: 1px dotted black;border-radius: 0.25em;box-sizing: border-box;margin-bottom: 0.5em;}#sk-container-id-35 div.sk-estimator:hover {background-color: #d4ebff;}#sk-container-id-35 div.sk-parallel-item::after {content: \"\";width: 100%;border-bottom: 1px solid gray;flex-grow: 1;}#sk-container-id-35 div.sk-label:hover label.sk-toggleable__label {background-color: #d4ebff;}#sk-container-id-35 div.sk-serial::before {content: \"\";position: absolute;border-left: 1px solid gray;box-sizing: border-box;top: 0;bottom: 0;left: 50%;z-index: 0;}#sk-container-id-35 div.sk-serial {display: flex;flex-direction: column;align-items: center;background-color: white;padding-right: 0.2em;padding-left: 0.2em;position: relative;}#sk-container-id-35 div.sk-item {position: relative;z-index: 1;}#sk-container-id-35 div.sk-parallel {display: flex;align-items: stretch;justify-content: center;background-color: white;position: relative;}#sk-container-id-35 div.sk-item::before, #sk-container-id-35 div.sk-parallel-item::before {content: \"\";position: absolute;border-left: 1px solid gray;box-sizing: border-box;top: 0;bottom: 0;left: 50%;z-index: -1;}#sk-container-id-35 div.sk-parallel-item {display: flex;flex-direction: column;z-index: 1;position: relative;background-color: white;}#sk-container-id-35 div.sk-parallel-item:first-child::after {align-self: flex-end;width: 50%;}#sk-container-id-35 div.sk-parallel-item:last-child::after {align-self: flex-start;width: 50%;}#sk-container-id-35 div.sk-parallel-item:only-child::after {width: 0;}#sk-container-id-35 div.sk-dashed-wrapped {border: 1px dashed gray;margin: 0 0.4em 0.5em 0.4em;box-sizing: border-box;padding-bottom: 0.4em;background-color: white;}#sk-container-id-35 div.sk-label label {font-family: monospace;font-weight: bold;display: inline-block;line-height: 1.2em;}#sk-container-id-35 div.sk-label-container {text-align: center;}#sk-container-id-35 div.sk-container {/* jupyter's `normalize.less` sets `[hidden] { display: none; }` but bootstrap.min.css set `[hidden] { display: none !important; }` so we also need the `!important` here to be able to override the default hidden behavior on the sphinx rendered scikit-learn.org. See: https://github.com/scikit-learn/scikit-learn/issues/21755 */display: inline-block !important;position: relative;}#sk-container-id-35 div.sk-text-repr-fallback {display: none;}</style><div id=\"sk-container-id-35\" class=\"sk-top-container\"><div class=\"sk-text-repr-fallback\"><pre>AdaBoostRegressor(learning_rate=1, n_estimators=500, random_state=1)</pre><b>In a Jupyter environment, please rerun this cell to show the HTML representation or trust the notebook. <br />On GitHub, the HTML representation is unable to render, please try loading this page with nbviewer.org.</b></div><div class=\"sk-container\" hidden><div class=\"sk-item\"><div class=\"sk-estimator sk-toggleable\"><input class=\"sk-toggleable__control sk-hidden--visually\" id=\"sk-estimator-id-35\" type=\"checkbox\" checked><label for=\"sk-estimator-id-35\" class=\"sk-toggleable__label sk-toggleable__label-arrow\">AdaBoostRegressor</label><div class=\"sk-toggleable__content\"><pre>AdaBoostRegressor(learning_rate=1, n_estimators=500, random_state=1)</pre></div></div></div></div></div>"
      ],
      "text/plain": [
       "AdaBoostRegressor(learning_rate=1, n_estimators=500, random_state=1)"
      ]
     },
     "execution_count": 426,
     "metadata": {},
     "output_type": "execute_result"
    }
   ],
   "source": [
    "best_adaboost.fit(train_X, train_y)"
   ]
  },
  {
   "cell_type": "code",
   "execution_count": 427,
   "metadata": {},
   "outputs": [],
   "source": [
    "pred_y = best_adaboost.predict(test_X)"
   ]
  },
  {
   "cell_type": "code",
   "execution_count": 428,
   "metadata": {},
   "outputs": [
    {
     "name": "stdout",
     "output_type": "stream",
     "text": [
      "rmse 2687.941908244057\n"
     ]
    },
    {
     "data": {
      "text/plain": [
       "2687.941908244057"
      ]
     },
     "execution_count": 428,
     "metadata": {},
     "output_type": "execute_result"
    }
   ],
   "source": [
    "rmse(np.exp(pred_y), np.exp(test_y['TARGET_Weighted_RetailPrice']).values)"
   ]
  },
  {
   "cell_type": "code",
   "execution_count": 429,
   "metadata": {},
   "outputs": [
    {
     "data": {
      "text/plain": [
       "0.873288371220019"
      ]
     },
     "execution_count": 429,
     "metadata": {},
     "output_type": "execute_result"
    }
   ],
   "source": [
    "r2_score(np.exp(pred_y), np.exp(test_y['TARGET_Weighted_RetailPrice']).values)"
   ]
  },
  {
   "cell_type": "code",
   "execution_count": 430,
   "metadata": {},
   "outputs": [],
   "source": [
    "AB_importances = best_adaboost.feature_importances_"
   ]
  },
  {
   "cell_type": "code",
   "execution_count": 431,
   "metadata": {},
   "outputs": [],
   "source": [
    "AB_importances = pd.DataFrame(AB_importances, columns=['importances'], index=feature_names)"
   ]
  },
  {
   "cell_type": "code",
   "execution_count": 432,
   "metadata": {},
   "outputs": [
    {
     "data": {
      "text/html": [
       "<div>\n",
       "<style scoped>\n",
       "    .dataframe tbody tr th:only-of-type {\n",
       "        vertical-align: middle;\n",
       "    }\n",
       "\n",
       "    .dataframe tbody tr th {\n",
       "        vertical-align: top;\n",
       "    }\n",
       "\n",
       "    .dataframe thead th {\n",
       "        text-align: right;\n",
       "    }\n",
       "</style>\n",
       "<table border=\"1\" class=\"dataframe\">\n",
       "  <thead>\n",
       "    <tr style=\"text-align: right;\">\n",
       "      <th></th>\n",
       "      <th>importances</th>\n",
       "    </tr>\n",
       "  </thead>\n",
       "  <tbody>\n",
       "    <tr>\n",
       "      <th>MSRP_prevMY_WeightedByVol</th>\n",
       "      <td>0.107025</td>\n",
       "    </tr>\n",
       "    <tr>\n",
       "      <th>SPEC_Number_of_doors32</th>\n",
       "      <td>0.081292</td>\n",
       "    </tr>\n",
       "    <tr>\n",
       "      <th>SPEC_subwoofer</th>\n",
       "      <td>0.062427</td>\n",
       "    </tr>\n",
       "    <tr>\n",
       "      <th>SPEC_overall_height_mm</th>\n",
       "      <td>0.060543</td>\n",
       "    </tr>\n",
       "    <tr>\n",
       "      <th>MACRO_Inflation</th>\n",
       "      <td>0.048663</td>\n",
       "    </tr>\n",
       "    <tr>\n",
       "      <th>...</th>\n",
       "      <td>...</td>\n",
       "    </tr>\n",
       "    <tr>\n",
       "      <th>SPEC_BelowseatStorage_driver</th>\n",
       "      <td>0.000000</td>\n",
       "    </tr>\n",
       "    <tr>\n",
       "      <th>SPEC_Warranty_roadside_assistance</th>\n",
       "      <td>0.000000</td>\n",
       "    </tr>\n",
       "    <tr>\n",
       "      <th>SPEC_injection_gasoline_direct_injection___multi_point</th>\n",
       "      <td>0.000000</td>\n",
       "    </tr>\n",
       "    <tr>\n",
       "      <th>SPEC_Coming_home_device</th>\n",
       "      <td>0.000000</td>\n",
       "    </tr>\n",
       "    <tr>\n",
       "      <th>SPEC_IIHS_roofstrength_Marginal</th>\n",
       "      <td>0.000000</td>\n",
       "    </tr>\n",
       "  </tbody>\n",
       "</table>\n",
       "<p>151 rows × 1 columns</p>\n",
       "</div>"
      ],
      "text/plain": [
       "                                                    importances\n",
       "MSRP_prevMY_WeightedByVol                              0.107025\n",
       "SPEC_Number_of_doors32                                 0.081292\n",
       "SPEC_subwoofer                                         0.062427\n",
       "SPEC_overall_height_mm                                 0.060543\n",
       "MACRO_Inflation                                        0.048663\n",
       "...                                                         ...\n",
       "SPEC_BelowseatStorage_driver                           0.000000\n",
       "SPEC_Warranty_roadside_assistance                      0.000000\n",
       "SPEC_injection_gasoline_direct_injection___mult...     0.000000\n",
       "SPEC_Coming_home_device                                0.000000\n",
       "SPEC_IIHS_roofstrength_Marginal                        0.000000\n",
       "\n",
       "[151 rows x 1 columns]"
      ]
     },
     "execution_count": 432,
     "metadata": {},
     "output_type": "execute_result"
    }
   ],
   "source": [
    "AB_importances.sort_values(by='importances', ascending=False)"
   ]
  },
  {
   "attachments": {},
   "cell_type": "markdown",
   "metadata": {},
   "source": [
    "#### XGboost result"
   ]
  },
  {
   "cell_type": "code",
   "execution_count": 433,
   "metadata": {},
   "outputs": [],
   "source": [
    "best_xgboost = xgb.XGBRegressor(**result_dict['xgboost_param'])"
   ]
  },
  {
   "cell_type": "code",
   "execution_count": 434,
   "metadata": {},
   "outputs": [
    {
     "data": {
      "text/html": [
       "<style>#sk-container-id-36 {color: black;background-color: white;}#sk-container-id-36 pre{padding: 0;}#sk-container-id-36 div.sk-toggleable {background-color: white;}#sk-container-id-36 label.sk-toggleable__label {cursor: pointer;display: block;width: 100%;margin-bottom: 0;padding: 0.3em;box-sizing: border-box;text-align: center;}#sk-container-id-36 label.sk-toggleable__label-arrow:before {content: \"▸\";float: left;margin-right: 0.25em;color: #696969;}#sk-container-id-36 label.sk-toggleable__label-arrow:hover:before {color: black;}#sk-container-id-36 div.sk-estimator:hover label.sk-toggleable__label-arrow:before {color: black;}#sk-container-id-36 div.sk-toggleable__content {max-height: 0;max-width: 0;overflow: hidden;text-align: left;background-color: #f0f8ff;}#sk-container-id-36 div.sk-toggleable__content pre {margin: 0.2em;color: black;border-radius: 0.25em;background-color: #f0f8ff;}#sk-container-id-36 input.sk-toggleable__control:checked~div.sk-toggleable__content {max-height: 200px;max-width: 100%;overflow: auto;}#sk-container-id-36 input.sk-toggleable__control:checked~label.sk-toggleable__label-arrow:before {content: \"▾\";}#sk-container-id-36 div.sk-estimator input.sk-toggleable__control:checked~label.sk-toggleable__label {background-color: #d4ebff;}#sk-container-id-36 div.sk-label input.sk-toggleable__control:checked~label.sk-toggleable__label {background-color: #d4ebff;}#sk-container-id-36 input.sk-hidden--visually {border: 0;clip: rect(1px 1px 1px 1px);clip: rect(1px, 1px, 1px, 1px);height: 1px;margin: -1px;overflow: hidden;padding: 0;position: absolute;width: 1px;}#sk-container-id-36 div.sk-estimator {font-family: monospace;background-color: #f0f8ff;border: 1px dotted black;border-radius: 0.25em;box-sizing: border-box;margin-bottom: 0.5em;}#sk-container-id-36 div.sk-estimator:hover {background-color: #d4ebff;}#sk-container-id-36 div.sk-parallel-item::after {content: \"\";width: 100%;border-bottom: 1px solid gray;flex-grow: 1;}#sk-container-id-36 div.sk-label:hover label.sk-toggleable__label {background-color: #d4ebff;}#sk-container-id-36 div.sk-serial::before {content: \"\";position: absolute;border-left: 1px solid gray;box-sizing: border-box;top: 0;bottom: 0;left: 50%;z-index: 0;}#sk-container-id-36 div.sk-serial {display: flex;flex-direction: column;align-items: center;background-color: white;padding-right: 0.2em;padding-left: 0.2em;position: relative;}#sk-container-id-36 div.sk-item {position: relative;z-index: 1;}#sk-container-id-36 div.sk-parallel {display: flex;align-items: stretch;justify-content: center;background-color: white;position: relative;}#sk-container-id-36 div.sk-item::before, #sk-container-id-36 div.sk-parallel-item::before {content: \"\";position: absolute;border-left: 1px solid gray;box-sizing: border-box;top: 0;bottom: 0;left: 50%;z-index: -1;}#sk-container-id-36 div.sk-parallel-item {display: flex;flex-direction: column;z-index: 1;position: relative;background-color: white;}#sk-container-id-36 div.sk-parallel-item:first-child::after {align-self: flex-end;width: 50%;}#sk-container-id-36 div.sk-parallel-item:last-child::after {align-self: flex-start;width: 50%;}#sk-container-id-36 div.sk-parallel-item:only-child::after {width: 0;}#sk-container-id-36 div.sk-dashed-wrapped {border: 1px dashed gray;margin: 0 0.4em 0.5em 0.4em;box-sizing: border-box;padding-bottom: 0.4em;background-color: white;}#sk-container-id-36 div.sk-label label {font-family: monospace;font-weight: bold;display: inline-block;line-height: 1.2em;}#sk-container-id-36 div.sk-label-container {text-align: center;}#sk-container-id-36 div.sk-container {/* jupyter's `normalize.less` sets `[hidden] { display: none; }` but bootstrap.min.css set `[hidden] { display: none !important; }` so we also need the `!important` here to be able to override the default hidden behavior on the sphinx rendered scikit-learn.org. See: https://github.com/scikit-learn/scikit-learn/issues/21755 */display: inline-block !important;position: relative;}#sk-container-id-36 div.sk-text-repr-fallback {display: none;}</style><div id=\"sk-container-id-36\" class=\"sk-top-container\"><div class=\"sk-text-repr-fallback\"><pre>XGBRegressor(base_score=None, booster=None, callbacks=None,\n",
       "             colsample_bylevel=None, colsample_bynode=None,\n",
       "             colsample_bytree=None, early_stopping_rounds=None,\n",
       "             enable_categorical=False, eval_metric=None, feature_types=None,\n",
       "             gamma=5.0, gpu_id=None, grow_policy=None, importance_type=None,\n",
       "             interaction_constraints=None, learning_rate=1, max_bin=None,\n",
       "             max_cat_threshold=None, max_cat_to_onehot=None,\n",
       "             max_delta_step=None, max_depth=10, max_leaves=None,\n",
       "             min_child_weight=None, missing=nan, monotone_constraints=None,\n",
       "             n_estimators=300, n_jobs=None, num_parallel_tree=None,\n",
       "             predictor=None, random_state=1, ...)</pre><b>In a Jupyter environment, please rerun this cell to show the HTML representation or trust the notebook. <br />On GitHub, the HTML representation is unable to render, please try loading this page with nbviewer.org.</b></div><div class=\"sk-container\" hidden><div class=\"sk-item\"><div class=\"sk-estimator sk-toggleable\"><input class=\"sk-toggleable__control sk-hidden--visually\" id=\"sk-estimator-id-36\" type=\"checkbox\" checked><label for=\"sk-estimator-id-36\" class=\"sk-toggleable__label sk-toggleable__label-arrow\">XGBRegressor</label><div class=\"sk-toggleable__content\"><pre>XGBRegressor(base_score=None, booster=None, callbacks=None,\n",
       "             colsample_bylevel=None, colsample_bynode=None,\n",
       "             colsample_bytree=None, early_stopping_rounds=None,\n",
       "             enable_categorical=False, eval_metric=None, feature_types=None,\n",
       "             gamma=5.0, gpu_id=None, grow_policy=None, importance_type=None,\n",
       "             interaction_constraints=None, learning_rate=1, max_bin=None,\n",
       "             max_cat_threshold=None, max_cat_to_onehot=None,\n",
       "             max_delta_step=None, max_depth=10, max_leaves=None,\n",
       "             min_child_weight=None, missing=nan, monotone_constraints=None,\n",
       "             n_estimators=300, n_jobs=None, num_parallel_tree=None,\n",
       "             predictor=None, random_state=1, ...)</pre></div></div></div></div></div>"
      ],
      "text/plain": [
       "XGBRegressor(base_score=None, booster=None, callbacks=None,\n",
       "             colsample_bylevel=None, colsample_bynode=None,\n",
       "             colsample_bytree=None, early_stopping_rounds=None,\n",
       "             enable_categorical=False, eval_metric=None, feature_types=None,\n",
       "             gamma=5.0, gpu_id=None, grow_policy=None, importance_type=None,\n",
       "             interaction_constraints=None, learning_rate=1, max_bin=None,\n",
       "             max_cat_threshold=None, max_cat_to_onehot=None,\n",
       "             max_delta_step=None, max_depth=10, max_leaves=None,\n",
       "             min_child_weight=None, missing=nan, monotone_constraints=None,\n",
       "             n_estimators=300, n_jobs=None, num_parallel_tree=None,\n",
       "             predictor=None, random_state=1, ...)"
      ]
     },
     "execution_count": 434,
     "metadata": {},
     "output_type": "execute_result"
    }
   ],
   "source": [
    "best_xgboost.fit(train_X, train_y)"
   ]
  },
  {
   "cell_type": "code",
   "execution_count": 435,
   "metadata": {},
   "outputs": [],
   "source": [
    "pred_y = best_xgboost.predict(test_X)"
   ]
  },
  {
   "cell_type": "code",
   "execution_count": 436,
   "metadata": {},
   "outputs": [
    {
     "name": "stdout",
     "output_type": "stream",
     "text": [
      "rmse 5372.346021077454\n"
     ]
    },
    {
     "data": {
      "text/plain": [
       "5372.346021077454"
      ]
     },
     "execution_count": 436,
     "metadata": {},
     "output_type": "execute_result"
    }
   ],
   "source": [
    "rmse(np.exp(pred_y), np.exp(test_y['TARGET_Weighted_RetailPrice']).values)"
   ]
  },
  {
   "cell_type": "code",
   "execution_count": 437,
   "metadata": {},
   "outputs": [
    {
     "data": {
      "text/plain": [
       "0.48014271519766016"
      ]
     },
     "execution_count": 437,
     "metadata": {},
     "output_type": "execute_result"
    }
   ],
   "source": [
    "r2_score(np.exp(pred_y), np.exp(test_y['TARGET_Weighted_RetailPrice']).values)"
   ]
  },
  {
   "cell_type": "code",
   "execution_count": 438,
   "metadata": {},
   "outputs": [
    {
     "name": "stdout",
     "output_type": "stream",
     "text": [
      "random_forest\n",
      "Best parameter: {'random_state': 1, 'n_estimators': 100, 'min_samples_leaf': 4, 'max_features': 190, 'max_depth': 9}\n",
      "Best Train accuracy: 0.973873685080748\n",
      "Best Test accuracy: 0.9544264157008165\n",
      "Best CV accuracy: 0.952834723355433\n",
      "adaboost\n",
      "Best parameter: {'random_state': 1, 'n_estimators': 500, 'learning_rate': 1}\n",
      "Best Train accuracy: 0.9124096423549846\n",
      "Best Test accuracy: 0.9022792004648054\n",
      "Best CV accuracy: 0.9057235247421221\n",
      "xgboost\n",
      "Best parameter: {'random_state': 1, 'n_estimators': 300, 'max_depth': 10, 'learning_rate': 1, 'gamma': 5.0}\n",
      "Best Train accuracy: 0.6747718811679073\n",
      "Best Test accuracy: 0.6287686085640389\n",
      "Best CV accuracy: 0.6695577990962842\n"
     ]
    }
   ],
   "source": [
    "for model in model_list:\n",
    "    print(model)\n",
    "    print('Best parameter:', result_dict[model + '_param'])\n",
    "    print('Best Train accuracy:',result_dict[model + '_trainacc'])\n",
    "    print('Best Test accuracy:',result_dict[model + '_testacc'])\n",
    "    print('Best CV accuracy:',result_dict[model + '_cvacc'])"
   ]
  },
  {
   "attachments": {},
   "cell_type": "markdown",
   "metadata": {},
   "source": [
    "## MidPrice_Midsize models"
   ]
  },
  {
   "attachments": {},
   "cell_type": "markdown",
   "metadata": {},
   "source": [
    "### Model with Statistically significant variables"
   ]
  },
  {
   "cell_type": "code",
   "execution_count": 641,
   "metadata": {},
   "outputs": [],
   "source": [
    "model_name = 'MidPrice_Midsize'"
   ]
  },
  {
   "cell_type": "code",
   "execution_count": 642,
   "metadata": {},
   "outputs": [],
   "source": [
    "df_ml = pd.read_csv('../../01_Outputs/modeling_'+ model_gen + '/df_model_'+model_name+'.csv').dropna()"
   ]
  },
  {
   "cell_type": "code",
   "execution_count": 643,
   "metadata": {},
   "outputs": [],
   "source": [
    "target = 'TARGET_Weighted_RetailPrice'"
   ]
  },
  {
   "cell_type": "code",
   "execution_count": 644,
   "metadata": {},
   "outputs": [],
   "source": [
    "X = df_ml.drop(target, axis=1)"
   ]
  },
  {
   "cell_type": "code",
   "execution_count": 645,
   "metadata": {},
   "outputs": [],
   "source": [
    "y = df_ml[[target]]"
   ]
  },
  {
   "cell_type": "code",
   "execution_count": 646,
   "metadata": {},
   "outputs": [],
   "source": [
    "y = np.log(y)"
   ]
  },
  {
   "cell_type": "code",
   "execution_count": 647,
   "metadata": {},
   "outputs": [],
   "source": [
    "train_X, test_X, train_y, test_y = train_test_split(X, y, train_size=0.7, test_size=0.3, random_state=42)"
   ]
  },
  {
   "cell_type": "code",
   "execution_count": 648,
   "metadata": {},
   "outputs": [
    {
     "name": "stdout",
     "output_type": "stream",
     "text": [
      "random_forest\n",
      "rsquare 0.9049146182303603\n",
      "rsquare 0.867888476272626\n",
      "rsquare 0.8893545471114964\n",
      "rsquare 0.9034650780588025\n",
      "rsquare 0.9120978794663014\n",
      "rsquare 0.8931891140086403\n",
      "rsquare 0.8912693313296817\n",
      "rsquare 0.8978993767530032\n",
      "rsquare 0.8837229367001297\n",
      "rsquare 0.8855918729825474\n",
      "rsquare 0.9485646165673028\n",
      "rsquare 0.9487902763742699\n",
      "rsquare 0.9484995867824528\n",
      "rsquare 0.9488658778437666\n",
      "rsquare 0.9464174364423855\n",
      "rsquare 0.9414860942789488\n",
      "rsquare 0.9359391481410277\n",
      "rsquare 0.9532847430377094\n",
      "rsquare 0.9428204489968669\n",
      "rsquare 0.9438154973825389\n",
      "rsquare 0.7459478033963822\n",
      "rsquare 0.7646805140959969\n",
      "rsquare 0.7980148132761035\n",
      "rsquare 0.7734964873758421\n",
      "rsquare 0.7674940645557572\n",
      "rsquare 0.7638774504418157\n",
      "rsquare 0.7665822015258\n",
      "rsquare 0.7813306145311418\n",
      "rsquare 0.7524154471033511\n",
      "rsquare 0.7534448646395431\n",
      "rsquare 0.9532456471819909\n",
      "rsquare 0.9403022363831788\n",
      "rsquare 0.9438781343383982\n",
      "rsquare 0.9460390394808463\n",
      "rsquare 0.9532158460083896\n",
      "rsquare 0.9412848956105244\n",
      "rsquare 0.9372283199342027\n",
      "rsquare 0.9453308922095338\n",
      "rsquare 0.9405158364212198\n",
      "rsquare 0.9443739818445258\n",
      "rsquare 0.9443083620540161\n",
      "rsquare 0.9434535703736174\n",
      "rsquare 0.9434101067233478\n",
      "rsquare 0.9446711439854376\n",
      "rsquare 0.9430025420619997\n",
      "rsquare 0.9372864228183637\n",
      "rsquare 0.9306199781853419\n",
      "rsquare 0.9463587755297516\n",
      "rsquare 0.9375275776991724\n",
      "rsquare 0.9398993621489873\n",
      "rsquare 0.9692461965585966\n",
      "rsquare 0.965893853435014\n",
      "rsquare 0.9617572842474565\n",
      "rsquare 0.9649429764814166\n",
      "rsquare 0.9657110938637505\n",
      "rsquare 0.9600858923682802\n",
      "rsquare 0.9573703061084724\n",
      "rsquare 0.9679021679099337\n",
      "rsquare 0.9624393537463091\n",
      "rsquare 0.9633508990027566\n",
      "rsquare 0.8994810911285557\n",
      "rsquare 0.8912852309082591\n",
      "rsquare 0.9031919447844043\n",
      "rsquare 0.9025680694319022\n",
      "rsquare 0.9032362074101163\n",
      "rsquare 0.8925928662191536\n",
      "rsquare 0.8861833652807929\n",
      "rsquare 0.8980025829503768\n",
      "rsquare 0.8913151889076855\n",
      "rsquare 0.9005414935214889\n",
      "rsquare 0.9489252124849772\n",
      "rsquare 0.9372021335105257\n",
      "rsquare 0.939693454251098\n",
      "rsquare 0.9461105919503345\n",
      "rsquare 0.9494509301526646\n",
      "rsquare 0.935749463361081\n",
      "rsquare 0.9341151692236992\n",
      "rsquare 0.9468273339278487\n",
      "rsquare 0.9390160993938411\n",
      "rsquare 0.9370674727085162\n",
      "rsquare 0.8667625982179028\n",
      "rsquare 0.8596718068084767\n",
      "rsquare 0.8779055066858424\n",
      "rsquare 0.8710801417015135\n",
      "rsquare 0.8702764236621511\n",
      "rsquare 0.8611316525167686\n",
      "rsquare 0.8595147476933458\n",
      "rsquare 0.8702175637101943\n",
      "rsquare 0.8594090937269556\n",
      "rsquare 0.8670027549643673\n",
      "rsquare 0.9539735187593812\n",
      "rsquare 0.9468645307277693\n",
      "rsquare 0.946671321463298\n",
      "rsquare 0.9523532709409317\n",
      "rsquare 0.9517492572054665\n",
      "rsquare 0.9435804963912714\n",
      "rsquare 0.9427046441687281\n",
      "rsquare 0.9550031869916316\n",
      "rsquare 0.9470343128386411\n",
      "rsquare 0.9454730891596927\n",
      "Best CV params {'random_state': 1, 'n_estimators': 300, 'min_samples_leaf': 7, 'max_features': 115, 'max_depth': 9}\n",
      "Best CV Rsquare 0.9638700023721987\n",
      "rsquare 0.9784781598413915\n",
      "Best train Rsquare 0.9784781598413915\n",
      "rsquare 0.9659750387475043\n",
      "Test RMSE of best grid search hypers: 0.9659750387475043\n",
      "rsquare 0.9659750387475043\n",
      "rsquare 0.9784781598413915\n",
      "adaboost\n",
      "rsquare 0.8758048189352132\n",
      "rsquare 0.8399663344408718\n",
      "rsquare 0.8719134137198655\n",
      "rsquare 0.8546061451786278\n",
      "rsquare 0.8783856435176401\n",
      "rsquare 0.8573437153722882\n",
      "rsquare 0.8547589683501466\n",
      "rsquare 0.8625700092734988\n",
      "rsquare 0.8696938812506552\n",
      "rsquare 0.8605164535567579\n",
      "rsquare 0.827366981756208\n",
      "rsquare 0.7650519279565189\n",
      "rsquare 0.8231163593581375\n",
      "rsquare 0.8230638088620095\n",
      "rsquare 0.8183992318627072\n",
      "rsquare 0.8088739150661624\n",
      "rsquare 0.8026033026194695\n",
      "rsquare 0.8108878395907406\n",
      "rsquare 0.8122459193559793\n",
      "rsquare 0.7798327500976072\n",
      "rsquare 0.8306747552861953\n",
      "rsquare 0.7909423000884113\n",
      "rsquare 0.8367737482844931\n",
      "rsquare 0.8247594297144463\n",
      "rsquare 0.8238870807563026\n",
      "rsquare 0.820703207973914\n",
      "rsquare 0.811309208950289\n",
      "rsquare 0.8155533980690952\n",
      "rsquare 0.8198238443346503\n",
      "rsquare 0.7838650299919077\n",
      "rsquare 0.8338152528221283\n",
      "rsquare 0.7864598446871555\n",
      "rsquare 0.8399623173700879\n",
      "rsquare 0.8242656753611448\n",
      "rsquare 0.8355955939223331\n",
      "rsquare 0.8233673206004374\n",
      "rsquare 0.8123232970400449\n",
      "rsquare 0.8179496239416091\n",
      "rsquare 0.8194288195653048\n",
      "rsquare 0.7905510424372708\n",
      "rsquare 0.834253527860939\n",
      "rsquare 0.7612391774446724\n",
      "rsquare 0.8319276267556045\n",
      "rsquare 0.8215818332169947\n",
      "rsquare 0.8273976224150162\n",
      "rsquare 0.8273482050429252\n",
      "rsquare 0.8158139503614269\n",
      "rsquare 0.8015398460714045\n",
      "rsquare 0.7871109109406513\n",
      "rsquare 0.8083603159898458\n",
      "rsquare 0.8370403430749752\n",
      "rsquare 0.7887325153423556\n",
      "rsquare 0.8470624436979985\n",
      "rsquare 0.8271690176180176\n",
      "rsquare 0.8334416240026222\n",
      "rsquare 0.8271398328444405\n",
      "rsquare 0.8180509882477197\n",
      "rsquare 0.8276081086887296\n",
      "rsquare 0.8243941784278501\n",
      "rsquare 0.8092527003492883\n",
      "rsquare 0.8539993101583188\n",
      "rsquare 0.8109259914020057\n",
      "rsquare 0.8558398006090197\n",
      "rsquare 0.8380486643801136\n",
      "rsquare 0.8538154311748898\n",
      "rsquare 0.8339420183509997\n",
      "rsquare 0.8376914130963841\n",
      "rsquare 0.8419147420212382\n",
      "rsquare 0.8423836605492824\n",
      "rsquare 0.8317446044497995\n",
      "rsquare 0.9357180632349342\n",
      "rsquare 0.922794450950734\n",
      "rsquare 0.9230902954364892\n",
      "rsquare 0.9290134821103572\n",
      "rsquare 0.9298606467136568\n",
      "rsquare 0.9239411203897484\n",
      "rsquare 0.9091951269595299\n",
      "rsquare 0.9261059277116508\n",
      "rsquare 0.9135315942498557\n",
      "rsquare 0.9187376791997032\n",
      "rsquare 0.9000825050503931\n",
      "rsquare 0.8752220010118307\n",
      "rsquare 0.8900104160986883\n",
      "rsquare 0.8840553492054223\n",
      "rsquare 0.903368663997656\n",
      "rsquare 0.883677114054503\n",
      "rsquare 0.873357354057001\n",
      "rsquare 0.8934049139479886\n",
      "rsquare 0.8836121958674716\n",
      "rsquare 0.8924113934754896\n",
      "rsquare 0.9360295062127053\n",
      "rsquare 0.9176993703694541\n",
      "rsquare 0.9221167020192265\n",
      "rsquare 0.9253927135169595\n",
      "rsquare 0.927831710471474\n",
      "rsquare 0.9215077902629776\n",
      "rsquare 0.9086439052464919\n",
      "rsquare 0.9269650075719412\n",
      "rsquare 0.9133714851968889\n",
      "rsquare 0.9207523864430742\n",
      "Best CV params {'random_state': 1, 'n_estimators': 100, 'learning_rate': 1}\n",
      "Best CV Rsquare 0.9231988386956658\n",
      "rsquare 0.932313889221153\n",
      "Best train Rsquare 0.932313889221153\n",
      "rsquare 0.926792308480659\n",
      "Test RMSE of best grid search hypers: 0.926792308480659\n",
      "rsquare 0.926792308480659\n",
      "rsquare 0.932313889221153\n",
      "xgboost\n",
      "rsquare 0.8323880431711559\n",
      "rsquare 0.7766404526108588\n",
      "rsquare 0.8074757960678525\n",
      "rsquare 0.8147051200815258\n",
      "rsquare 0.7890959598164726\n",
      "rsquare 0.8234766041122727\n",
      "rsquare 0.7964051353721954\n",
      "rsquare 0.8093897456925607\n",
      "rsquare 0.7651263564489829\n",
      "rsquare 0.7930426122772177\n",
      "rsquare -1109.4034781444839\n",
      "rsquare -1515.7105710364642\n",
      "rsquare -1382.6687251543287\n",
      "rsquare -1266.60086877531\n",
      "rsquare -1176.075825933025\n",
      "rsquare -1248.337857268233\n",
      "rsquare -1334.4121530733944\n",
      "rsquare -1612.869799911697\n",
      "rsquare -1326.964996952556\n",
      "rsquare -1381.6563800924896\n",
      "rsquare -1175.5620146706294\n",
      "rsquare -1606.1515350814434\n",
      "rsquare -1465.5761977988313\n",
      "rsquare -1342.3210620536847\n",
      "rsquare -1246.305855518893\n",
      "rsquare -1322.7825491024316\n",
      "rsquare -1414.1097753973772\n",
      "rsquare -1709.208972574261\n",
      "rsquare -1405.9911530780291\n",
      "rsquare -1463.9443067536436\n",
      "rsquare 0.7529777400906262\n",
      "rsquare 0.8033748956439549\n",
      "rsquare 0.7935584696294375\n",
      "rsquare 0.7667856276235674\n",
      "rsquare 0.7675144210559984\n",
      "rsquare 0.7557809924511097\n",
      "rsquare 0.7649454157998846\n",
      "rsquare 0.802219739523924\n",
      "rsquare 0.7693590759207044\n",
      "rsquare 0.7781237841694695\n",
      "rsquare -1154.6182528611412\n",
      "rsquare -1577.5205909586737\n",
      "rsquare -1439.3288604175525\n",
      "rsquare -1318.3498269802694\n",
      "rsquare -1224.072923199526\n",
      "rsquare -1299.2156518134684\n",
      "rsquare -1388.8795941707851\n",
      "rsquare -1678.7105304877189\n",
      "rsquare -1380.9742796873086\n",
      "rsquare -1437.8948110897306\n",
      "rsquare -1175.5620146706294\n",
      "rsquare -1606.1515350814434\n",
      "rsquare -1465.5761977988313\n",
      "rsquare -1342.3210620536847\n",
      "rsquare -1246.305855518893\n",
      "rsquare -1322.7825491024316\n",
      "rsquare -1414.1097753973772\n",
      "rsquare -1709.208972574261\n",
      "rsquare -1405.9911530780291\n",
      "rsquare -1463.9443067536436\n",
      "rsquare 0.7554271389930458\n",
      "rsquare 0.7240292348403243\n",
      "rsquare 0.7449305493200011\n",
      "rsquare 0.7454248624962907\n",
      "rsquare 0.6962229866675856\n",
      "rsquare 0.7338684954198216\n",
      "rsquare 0.7326448453467491\n",
      "rsquare 0.7340066444631675\n",
      "rsquare 0.6991748951622705\n",
      "rsquare 0.7261037617999183\n",
      "rsquare 0.7512031766025332\n",
      "rsquare 0.7231484122927732\n",
      "rsquare 0.7665739425587681\n",
      "rsquare 0.7445213542036003\n",
      "rsquare 0.7351593114897801\n",
      "rsquare 0.7448780648014721\n",
      "rsquare 0.7378455394447943\n",
      "rsquare 0.7404733706056247\n",
      "rsquare 0.7420103115101921\n",
      "rsquare 0.7177956628219507\n",
      "rsquare 0.9894484587315756\n",
      "rsquare 0.9871985576742875\n",
      "rsquare 0.9885131673418226\n",
      "rsquare 0.9849735497496765\n",
      "rsquare 0.9830114322730137\n",
      "rsquare 0.9836723293199403\n",
      "rsquare 0.9830072407061096\n",
      "rsquare 0.988566497943929\n",
      "rsquare 0.9840742409609923\n",
      "rsquare 0.9872841825110811\n",
      "rsquare 0.773906423769661\n",
      "rsquare 0.8213043288118835\n",
      "rsquare 0.8192535121153621\n",
      "rsquare 0.8023738147172813\n",
      "rsquare 0.7926406606941675\n",
      "rsquare 0.7955208585225599\n",
      "rsquare 0.7906449587011111\n",
      "rsquare 0.8266904275926026\n",
      "rsquare 0.7965631448912776\n",
      "rsquare 0.8059302786300722\n",
      "Best CV params {'random_state': 1, 'n_estimators': 500, 'max_depth': 10, 'learning_rate': 0.1, 'gamma': 0.0}\n",
      "Best CV Rsquare 0.9859749657212429\n",
      "rsquare 0.999978902271976\n",
      "Best train Rsquare 0.999978902271976\n",
      "rsquare 0.9894406738193705\n",
      "Test RMSE of best grid search hypers: 0.9894406738193705\n",
      "rsquare 0.9894406738193705\n",
      "rsquare 0.999978902271976\n"
     ]
    }
   ],
   "source": [
    "result_dict = {}\n",
    "for model in model_list:\n",
    "    print(model)\n",
    "    result_dict[model + '_param'], \\\n",
    "    result_dict[model + '_cvacc'], \\\n",
    "    result_dict[model + '_testacc'],\\\n",
    "    result_dict[model + '_trainacc'] \\\n",
    "    = RandomsearchRegression(models_dict[model], parameters_dct[model])"
   ]
  },
  {
   "cell_type": "code",
   "execution_count": 807,
   "metadata": {},
   "outputs": [],
   "source": [
    "# result_dict['random_forest_param'] = {'random_state': 1, 'n_estimators': 300, 'min_samples_leaf': 7, 'max_features': 115, 'max_depth': 9}\n",
    "# result_dict['random_forest_cvacc'] = 0.9638700023721987\n",
    "# result_dict['random_forest_trainacc'] = 0.9784781598413915\n",
    "# result_dict['random_forest_testacc'] = 0.9659750387475043\n",
    "# result_dict['adaboost_param'] = {'random_state': 1, 'n_estimators': 100, 'learning_rate': 1}\n",
    "# result_dict['adaboost_cvacc'] = 0.9231988386956658\n",
    "# result_dict['adaboost_trainacc'] = 0.932313889221153\n",
    "# result_dict['adaboost_testacc'] = 0.926792308480659\n",
    "# result_dict['xgboost_param'] = {'random_state': 1, 'n_estimators': 500, 'max_depth': 10, 'learning_rate': 0.1, 'gamma': 0.0}\n",
    "# result_dict['xgboost_cvacc'] = 0.9859749657212429\n",
    "# result_dict['xgboost_trainacc'] = 0.999978902271976\n",
    "# result_dict['xgboost_testacc'] = 0.9894406738193705"
   ]
  },
  {
   "attachments": {},
   "cell_type": "markdown",
   "metadata": {},
   "source": [
    "#### Random Forest result"
   ]
  },
  {
   "cell_type": "code",
   "execution_count": 649,
   "metadata": {},
   "outputs": [],
   "source": [
    "# best_randomforest = RandomForestRegressor(random_state= 1, n_estimators= 1000, min_samples_leaf= 2, max_features= 100, max_depth= 9)\n",
    "best_randomforest = RandomForestRegressor(**result_dict['random_forest_param'])"
   ]
  },
  {
   "cell_type": "code",
   "execution_count": 650,
   "metadata": {},
   "outputs": [
    {
     "data": {
      "text/html": [
       "<style>#sk-container-id-55 {color: black;background-color: white;}#sk-container-id-55 pre{padding: 0;}#sk-container-id-55 div.sk-toggleable {background-color: white;}#sk-container-id-55 label.sk-toggleable__label {cursor: pointer;display: block;width: 100%;margin-bottom: 0;padding: 0.3em;box-sizing: border-box;text-align: center;}#sk-container-id-55 label.sk-toggleable__label-arrow:before {content: \"▸\";float: left;margin-right: 0.25em;color: #696969;}#sk-container-id-55 label.sk-toggleable__label-arrow:hover:before {color: black;}#sk-container-id-55 div.sk-estimator:hover label.sk-toggleable__label-arrow:before {color: black;}#sk-container-id-55 div.sk-toggleable__content {max-height: 0;max-width: 0;overflow: hidden;text-align: left;background-color: #f0f8ff;}#sk-container-id-55 div.sk-toggleable__content pre {margin: 0.2em;color: black;border-radius: 0.25em;background-color: #f0f8ff;}#sk-container-id-55 input.sk-toggleable__control:checked~div.sk-toggleable__content {max-height: 200px;max-width: 100%;overflow: auto;}#sk-container-id-55 input.sk-toggleable__control:checked~label.sk-toggleable__label-arrow:before {content: \"▾\";}#sk-container-id-55 div.sk-estimator input.sk-toggleable__control:checked~label.sk-toggleable__label {background-color: #d4ebff;}#sk-container-id-55 div.sk-label input.sk-toggleable__control:checked~label.sk-toggleable__label {background-color: #d4ebff;}#sk-container-id-55 input.sk-hidden--visually {border: 0;clip: rect(1px 1px 1px 1px);clip: rect(1px, 1px, 1px, 1px);height: 1px;margin: -1px;overflow: hidden;padding: 0;position: absolute;width: 1px;}#sk-container-id-55 div.sk-estimator {font-family: monospace;background-color: #f0f8ff;border: 1px dotted black;border-radius: 0.25em;box-sizing: border-box;margin-bottom: 0.5em;}#sk-container-id-55 div.sk-estimator:hover {background-color: #d4ebff;}#sk-container-id-55 div.sk-parallel-item::after {content: \"\";width: 100%;border-bottom: 1px solid gray;flex-grow: 1;}#sk-container-id-55 div.sk-label:hover label.sk-toggleable__label {background-color: #d4ebff;}#sk-container-id-55 div.sk-serial::before {content: \"\";position: absolute;border-left: 1px solid gray;box-sizing: border-box;top: 0;bottom: 0;left: 50%;z-index: 0;}#sk-container-id-55 div.sk-serial {display: flex;flex-direction: column;align-items: center;background-color: white;padding-right: 0.2em;padding-left: 0.2em;position: relative;}#sk-container-id-55 div.sk-item {position: relative;z-index: 1;}#sk-container-id-55 div.sk-parallel {display: flex;align-items: stretch;justify-content: center;background-color: white;position: relative;}#sk-container-id-55 div.sk-item::before, #sk-container-id-55 div.sk-parallel-item::before {content: \"\";position: absolute;border-left: 1px solid gray;box-sizing: border-box;top: 0;bottom: 0;left: 50%;z-index: -1;}#sk-container-id-55 div.sk-parallel-item {display: flex;flex-direction: column;z-index: 1;position: relative;background-color: white;}#sk-container-id-55 div.sk-parallel-item:first-child::after {align-self: flex-end;width: 50%;}#sk-container-id-55 div.sk-parallel-item:last-child::after {align-self: flex-start;width: 50%;}#sk-container-id-55 div.sk-parallel-item:only-child::after {width: 0;}#sk-container-id-55 div.sk-dashed-wrapped {border: 1px dashed gray;margin: 0 0.4em 0.5em 0.4em;box-sizing: border-box;padding-bottom: 0.4em;background-color: white;}#sk-container-id-55 div.sk-label label {font-family: monospace;font-weight: bold;display: inline-block;line-height: 1.2em;}#sk-container-id-55 div.sk-label-container {text-align: center;}#sk-container-id-55 div.sk-container {/* jupyter's `normalize.less` sets `[hidden] { display: none; }` but bootstrap.min.css set `[hidden] { display: none !important; }` so we also need the `!important` here to be able to override the default hidden behavior on the sphinx rendered scikit-learn.org. See: https://github.com/scikit-learn/scikit-learn/issues/21755 */display: inline-block !important;position: relative;}#sk-container-id-55 div.sk-text-repr-fallback {display: none;}</style><div id=\"sk-container-id-55\" class=\"sk-top-container\"><div class=\"sk-text-repr-fallback\"><pre>RandomForestRegressor(max_depth=9, max_features=115, min_samples_leaf=7,\n",
       "                      n_estimators=300, random_state=1)</pre><b>In a Jupyter environment, please rerun this cell to show the HTML representation or trust the notebook. <br />On GitHub, the HTML representation is unable to render, please try loading this page with nbviewer.org.</b></div><div class=\"sk-container\" hidden><div class=\"sk-item\"><div class=\"sk-estimator sk-toggleable\"><input class=\"sk-toggleable__control sk-hidden--visually\" id=\"sk-estimator-id-55\" type=\"checkbox\" checked><label for=\"sk-estimator-id-55\" class=\"sk-toggleable__label sk-toggleable__label-arrow\">RandomForestRegressor</label><div class=\"sk-toggleable__content\"><pre>RandomForestRegressor(max_depth=9, max_features=115, min_samples_leaf=7,\n",
       "                      n_estimators=300, random_state=1)</pre></div></div></div></div></div>"
      ],
      "text/plain": [
       "RandomForestRegressor(max_depth=9, max_features=115, min_samples_leaf=7,\n",
       "                      n_estimators=300, random_state=1)"
      ]
     },
     "execution_count": 650,
     "metadata": {},
     "output_type": "execute_result"
    }
   ],
   "source": [
    "best_randomforest.fit(train_X, train_y)"
   ]
  },
  {
   "cell_type": "code",
   "execution_count": 651,
   "metadata": {},
   "outputs": [],
   "source": [
    "pred_y = best_randomforest.predict(test_X)"
   ]
  },
  {
   "cell_type": "code",
   "execution_count": 652,
   "metadata": {},
   "outputs": [
    {
     "name": "stdout",
     "output_type": "stream",
     "text": [
      "rmse 2928.788341044708\n"
     ]
    },
    {
     "data": {
      "text/plain": [
       "2928.788341044708"
      ]
     },
     "execution_count": 652,
     "metadata": {},
     "output_type": "execute_result"
    }
   ],
   "source": [
    "rmse(np.exp(pred_y), np.exp(test_y['TARGET_Weighted_RetailPrice']).values)"
   ]
  },
  {
   "cell_type": "code",
   "execution_count": 653,
   "metadata": {},
   "outputs": [
    {
     "data": {
      "text/plain": [
       "0.938159212727088"
      ]
     },
     "execution_count": 653,
     "metadata": {},
     "output_type": "execute_result"
    }
   ],
   "source": [
    "r2_score(np.exp(pred_y), np.exp(test_y['TARGET_Weighted_RetailPrice']).values)"
   ]
  },
  {
   "cell_type": "code",
   "execution_count": 654,
   "metadata": {},
   "outputs": [],
   "source": [
    "RF_importances = best_randomforest.feature_importances_"
   ]
  },
  {
   "cell_type": "code",
   "execution_count": 655,
   "metadata": {},
   "outputs": [],
   "source": [
    "feature_names = list(X.columns)"
   ]
  },
  {
   "cell_type": "code",
   "execution_count": 656,
   "metadata": {},
   "outputs": [],
   "source": [
    "RF_importances = pd.DataFrame(RF_importances, columns=['importances'], index=feature_names)"
   ]
  },
  {
   "cell_type": "code",
   "execution_count": 657,
   "metadata": {},
   "outputs": [
    {
     "data": {
      "text/html": [
       "<div>\n",
       "<style scoped>\n",
       "    .dataframe tbody tr th:only-of-type {\n",
       "        vertical-align: middle;\n",
       "    }\n",
       "\n",
       "    .dataframe tbody tr th {\n",
       "        vertical-align: top;\n",
       "    }\n",
       "\n",
       "    .dataframe thead th {\n",
       "        text-align: right;\n",
       "    }\n",
       "</style>\n",
       "<table border=\"1\" class=\"dataframe\">\n",
       "  <thead>\n",
       "    <tr style=\"text-align: right;\">\n",
       "      <th></th>\n",
       "      <th>importances</th>\n",
       "    </tr>\n",
       "  </thead>\n",
       "  <tbody>\n",
       "    <tr>\n",
       "      <th>MSRP_prevMY_WeightedByVol</th>\n",
       "      <td>0.331630</td>\n",
       "    </tr>\n",
       "    <tr>\n",
       "      <th>SPEC_maximum_torque_Nm</th>\n",
       "      <td>0.161801</td>\n",
       "    </tr>\n",
       "    <tr>\n",
       "      <th>SPEC_rain_sensor</th>\n",
       "      <td>0.131148</td>\n",
       "    </tr>\n",
       "    <tr>\n",
       "      <th>SPEC_doormirror_autodimming</th>\n",
       "      <td>0.070328</td>\n",
       "    </tr>\n",
       "    <tr>\n",
       "      <th>SPEC_Steering_plastic</th>\n",
       "      <td>0.058865</td>\n",
       "    </tr>\n",
       "    <tr>\n",
       "      <th>...</th>\n",
       "      <td>...</td>\n",
       "    </tr>\n",
       "    <tr>\n",
       "      <th>SPEC_Charges</th>\n",
       "      <td>0.000000</td>\n",
       "    </tr>\n",
       "    <tr>\n",
       "      <th>SPEC_FRPGseat_lumbar_manual</th>\n",
       "      <td>0.000000</td>\n",
       "    </tr>\n",
       "    <tr>\n",
       "      <th>SPEC_Charging_connector</th>\n",
       "      <td>0.000000</td>\n",
       "    </tr>\n",
       "    <tr>\n",
       "      <th>SPEC_IIHS_roofstrength_Marginal</th>\n",
       "      <td>0.000000</td>\n",
       "    </tr>\n",
       "    <tr>\n",
       "      <th>SPEC_luxurytrim_centerconsole_suede</th>\n",
       "      <td>0.000000</td>\n",
       "    </tr>\n",
       "  </tbody>\n",
       "</table>\n",
       "<p>232 rows × 1 columns</p>\n",
       "</div>"
      ],
      "text/plain": [
       "                                     importances\n",
       "MSRP_prevMY_WeightedByVol               0.331630\n",
       "SPEC_maximum_torque_Nm                  0.161801\n",
       "SPEC_rain_sensor                        0.131148\n",
       "SPEC_doormirror_autodimming             0.070328\n",
       "SPEC_Steering_plastic                   0.058865\n",
       "...                                          ...\n",
       "SPEC_Charges                            0.000000\n",
       "SPEC_FRPGseat_lumbar_manual             0.000000\n",
       "SPEC_Charging_connector                 0.000000\n",
       "SPEC_IIHS_roofstrength_Marginal         0.000000\n",
       "SPEC_luxurytrim_centerconsole_suede     0.000000\n",
       "\n",
       "[232 rows x 1 columns]"
      ]
     },
     "execution_count": 657,
     "metadata": {},
     "output_type": "execute_result"
    }
   ],
   "source": [
    "RF_importances.sort_values(by='importances', ascending=False)"
   ]
  },
  {
   "attachments": {},
   "cell_type": "markdown",
   "metadata": {},
   "source": [
    "#### Adaboost result"
   ]
  },
  {
   "cell_type": "code",
   "execution_count": 658,
   "metadata": {},
   "outputs": [],
   "source": [
    "# best_adaboost= AdaBoostRegressor(random_state=1, n_estimators=100, learning_rate=1)\n",
    "best_adaboost= AdaBoostRegressor(**result_dict['adaboost_param'])\n"
   ]
  },
  {
   "cell_type": "code",
   "execution_count": 659,
   "metadata": {},
   "outputs": [
    {
     "data": {
      "text/html": [
       "<style>#sk-container-id-56 {color: black;background-color: white;}#sk-container-id-56 pre{padding: 0;}#sk-container-id-56 div.sk-toggleable {background-color: white;}#sk-container-id-56 label.sk-toggleable__label {cursor: pointer;display: block;width: 100%;margin-bottom: 0;padding: 0.3em;box-sizing: border-box;text-align: center;}#sk-container-id-56 label.sk-toggleable__label-arrow:before {content: \"▸\";float: left;margin-right: 0.25em;color: #696969;}#sk-container-id-56 label.sk-toggleable__label-arrow:hover:before {color: black;}#sk-container-id-56 div.sk-estimator:hover label.sk-toggleable__label-arrow:before {color: black;}#sk-container-id-56 div.sk-toggleable__content {max-height: 0;max-width: 0;overflow: hidden;text-align: left;background-color: #f0f8ff;}#sk-container-id-56 div.sk-toggleable__content pre {margin: 0.2em;color: black;border-radius: 0.25em;background-color: #f0f8ff;}#sk-container-id-56 input.sk-toggleable__control:checked~div.sk-toggleable__content {max-height: 200px;max-width: 100%;overflow: auto;}#sk-container-id-56 input.sk-toggleable__control:checked~label.sk-toggleable__label-arrow:before {content: \"▾\";}#sk-container-id-56 div.sk-estimator input.sk-toggleable__control:checked~label.sk-toggleable__label {background-color: #d4ebff;}#sk-container-id-56 div.sk-label input.sk-toggleable__control:checked~label.sk-toggleable__label {background-color: #d4ebff;}#sk-container-id-56 input.sk-hidden--visually {border: 0;clip: rect(1px 1px 1px 1px);clip: rect(1px, 1px, 1px, 1px);height: 1px;margin: -1px;overflow: hidden;padding: 0;position: absolute;width: 1px;}#sk-container-id-56 div.sk-estimator {font-family: monospace;background-color: #f0f8ff;border: 1px dotted black;border-radius: 0.25em;box-sizing: border-box;margin-bottom: 0.5em;}#sk-container-id-56 div.sk-estimator:hover {background-color: #d4ebff;}#sk-container-id-56 div.sk-parallel-item::after {content: \"\";width: 100%;border-bottom: 1px solid gray;flex-grow: 1;}#sk-container-id-56 div.sk-label:hover label.sk-toggleable__label {background-color: #d4ebff;}#sk-container-id-56 div.sk-serial::before {content: \"\";position: absolute;border-left: 1px solid gray;box-sizing: border-box;top: 0;bottom: 0;left: 50%;z-index: 0;}#sk-container-id-56 div.sk-serial {display: flex;flex-direction: column;align-items: center;background-color: white;padding-right: 0.2em;padding-left: 0.2em;position: relative;}#sk-container-id-56 div.sk-item {position: relative;z-index: 1;}#sk-container-id-56 div.sk-parallel {display: flex;align-items: stretch;justify-content: center;background-color: white;position: relative;}#sk-container-id-56 div.sk-item::before, #sk-container-id-56 div.sk-parallel-item::before {content: \"\";position: absolute;border-left: 1px solid gray;box-sizing: border-box;top: 0;bottom: 0;left: 50%;z-index: -1;}#sk-container-id-56 div.sk-parallel-item {display: flex;flex-direction: column;z-index: 1;position: relative;background-color: white;}#sk-container-id-56 div.sk-parallel-item:first-child::after {align-self: flex-end;width: 50%;}#sk-container-id-56 div.sk-parallel-item:last-child::after {align-self: flex-start;width: 50%;}#sk-container-id-56 div.sk-parallel-item:only-child::after {width: 0;}#sk-container-id-56 div.sk-dashed-wrapped {border: 1px dashed gray;margin: 0 0.4em 0.5em 0.4em;box-sizing: border-box;padding-bottom: 0.4em;background-color: white;}#sk-container-id-56 div.sk-label label {font-family: monospace;font-weight: bold;display: inline-block;line-height: 1.2em;}#sk-container-id-56 div.sk-label-container {text-align: center;}#sk-container-id-56 div.sk-container {/* jupyter's `normalize.less` sets `[hidden] { display: none; }` but bootstrap.min.css set `[hidden] { display: none !important; }` so we also need the `!important` here to be able to override the default hidden behavior on the sphinx rendered scikit-learn.org. See: https://github.com/scikit-learn/scikit-learn/issues/21755 */display: inline-block !important;position: relative;}#sk-container-id-56 div.sk-text-repr-fallback {display: none;}</style><div id=\"sk-container-id-56\" class=\"sk-top-container\"><div class=\"sk-text-repr-fallback\"><pre>AdaBoostRegressor(learning_rate=1, n_estimators=100, random_state=1)</pre><b>In a Jupyter environment, please rerun this cell to show the HTML representation or trust the notebook. <br />On GitHub, the HTML representation is unable to render, please try loading this page with nbviewer.org.</b></div><div class=\"sk-container\" hidden><div class=\"sk-item\"><div class=\"sk-estimator sk-toggleable\"><input class=\"sk-toggleable__control sk-hidden--visually\" id=\"sk-estimator-id-56\" type=\"checkbox\" checked><label for=\"sk-estimator-id-56\" class=\"sk-toggleable__label sk-toggleable__label-arrow\">AdaBoostRegressor</label><div class=\"sk-toggleable__content\"><pre>AdaBoostRegressor(learning_rate=1, n_estimators=100, random_state=1)</pre></div></div></div></div></div>"
      ],
      "text/plain": [
       "AdaBoostRegressor(learning_rate=1, n_estimators=100, random_state=1)"
      ]
     },
     "execution_count": 659,
     "metadata": {},
     "output_type": "execute_result"
    }
   ],
   "source": [
    "best_adaboost.fit(train_X, train_y)"
   ]
  },
  {
   "cell_type": "code",
   "execution_count": 660,
   "metadata": {},
   "outputs": [],
   "source": [
    "pred_y = best_adaboost.predict(test_X)"
   ]
  },
  {
   "cell_type": "code",
   "execution_count": 661,
   "metadata": {},
   "outputs": [
    {
     "name": "stdout",
     "output_type": "stream",
     "text": [
      "rmse 3644.3757703734836\n"
     ]
    },
    {
     "data": {
      "text/plain": [
       "3644.3757703734836"
      ]
     },
     "execution_count": 661,
     "metadata": {},
     "output_type": "execute_result"
    }
   ],
   "source": [
    "rmse(np.exp(pred_y), np.exp(test_y['TARGET_Weighted_RetailPrice']).values)"
   ]
  },
  {
   "cell_type": "code",
   "execution_count": 662,
   "metadata": {},
   "outputs": [
    {
     "data": {
      "text/plain": [
       "0.9005628528838405"
      ]
     },
     "execution_count": 662,
     "metadata": {},
     "output_type": "execute_result"
    }
   ],
   "source": [
    "r2_score(np.exp(pred_y), np.exp(test_y['TARGET_Weighted_RetailPrice']).values)"
   ]
  },
  {
   "cell_type": "code",
   "execution_count": 663,
   "metadata": {},
   "outputs": [],
   "source": [
    "AB_importances = best_adaboost.feature_importances_"
   ]
  },
  {
   "cell_type": "code",
   "execution_count": 664,
   "metadata": {},
   "outputs": [],
   "source": [
    "AB_importances = pd.DataFrame(AB_importances, columns=['importances'], index=feature_names)"
   ]
  },
  {
   "cell_type": "code",
   "execution_count": 665,
   "metadata": {},
   "outputs": [
    {
     "data": {
      "text/html": [
       "<div>\n",
       "<style scoped>\n",
       "    .dataframe tbody tr th:only-of-type {\n",
       "        vertical-align: middle;\n",
       "    }\n",
       "\n",
       "    .dataframe tbody tr th {\n",
       "        vertical-align: top;\n",
       "    }\n",
       "\n",
       "    .dataframe thead th {\n",
       "        text-align: right;\n",
       "    }\n",
       "</style>\n",
       "<table border=\"1\" class=\"dataframe\">\n",
       "  <thead>\n",
       "    <tr style=\"text-align: right;\">\n",
       "      <th></th>\n",
       "      <th>importances</th>\n",
       "    </tr>\n",
       "  </thead>\n",
       "  <tbody>\n",
       "    <tr>\n",
       "      <th>MSRP_prevMY_WeightedByVol</th>\n",
       "      <td>0.264434</td>\n",
       "    </tr>\n",
       "    <tr>\n",
       "      <th>SPEC_maximum_torque_Nm</th>\n",
       "      <td>0.221885</td>\n",
       "    </tr>\n",
       "    <tr>\n",
       "      <th>SPEC_rain_sensor</th>\n",
       "      <td>0.115119</td>\n",
       "    </tr>\n",
       "    <tr>\n",
       "      <th>SPEC_wheelrim_width_inch</th>\n",
       "      <td>0.112921</td>\n",
       "    </tr>\n",
       "    <tr>\n",
       "      <th>SPEC_doormirror_autodimming</th>\n",
       "      <td>0.082064</td>\n",
       "    </tr>\n",
       "    <tr>\n",
       "      <th>...</th>\n",
       "      <td>...</td>\n",
       "    </tr>\n",
       "    <tr>\n",
       "      <th>SPEC_holder</th>\n",
       "      <td>0.000000</td>\n",
       "    </tr>\n",
       "    <tr>\n",
       "      <th>SPEC_doormirror_color_chrome</th>\n",
       "      <td>0.000000</td>\n",
       "    </tr>\n",
       "    <tr>\n",
       "      <th>NCBS_OVERALL_Power_And_Pickup</th>\n",
       "      <td>0.000000</td>\n",
       "    </tr>\n",
       "    <tr>\n",
       "      <th>SPEC_virtualassist_Siri</th>\n",
       "      <td>0.000000</td>\n",
       "    </tr>\n",
       "    <tr>\n",
       "      <th>SPEC_Ambient_lighting_wrap_around</th>\n",
       "      <td>0.000000</td>\n",
       "    </tr>\n",
       "  </tbody>\n",
       "</table>\n",
       "<p>232 rows × 1 columns</p>\n",
       "</div>"
      ],
      "text/plain": [
       "                                   importances\n",
       "MSRP_prevMY_WeightedByVol             0.264434\n",
       "SPEC_maximum_torque_Nm                0.221885\n",
       "SPEC_rain_sensor                      0.115119\n",
       "SPEC_wheelrim_width_inch              0.112921\n",
       "SPEC_doormirror_autodimming           0.082064\n",
       "...                                        ...\n",
       "SPEC_holder                           0.000000\n",
       "SPEC_doormirror_color_chrome          0.000000\n",
       "NCBS_OVERALL_Power_And_Pickup         0.000000\n",
       "SPEC_virtualassist_Siri               0.000000\n",
       "SPEC_Ambient_lighting_wrap_around     0.000000\n",
       "\n",
       "[232 rows x 1 columns]"
      ]
     },
     "execution_count": 665,
     "metadata": {},
     "output_type": "execute_result"
    }
   ],
   "source": [
    "AB_importances.sort_values(by='importances', ascending=False)"
   ]
  },
  {
   "attachments": {},
   "cell_type": "markdown",
   "metadata": {},
   "source": [
    "#### XGboost result"
   ]
  },
  {
   "cell_type": "code",
   "execution_count": 666,
   "metadata": {},
   "outputs": [],
   "source": [
    "# best_xgboost = xgb.XGBRegressor(random_state=1, n_estimators=500,max_depth=7, learning_rate=1, gamma=0)\n",
    "best_xgboost = xgb.XGBRegressor(**result_dict['xgboost_param'])"
   ]
  },
  {
   "cell_type": "code",
   "execution_count": 667,
   "metadata": {},
   "outputs": [
    {
     "data": {
      "text/html": [
       "<style>#sk-container-id-57 {color: black;background-color: white;}#sk-container-id-57 pre{padding: 0;}#sk-container-id-57 div.sk-toggleable {background-color: white;}#sk-container-id-57 label.sk-toggleable__label {cursor: pointer;display: block;width: 100%;margin-bottom: 0;padding: 0.3em;box-sizing: border-box;text-align: center;}#sk-container-id-57 label.sk-toggleable__label-arrow:before {content: \"▸\";float: left;margin-right: 0.25em;color: #696969;}#sk-container-id-57 label.sk-toggleable__label-arrow:hover:before {color: black;}#sk-container-id-57 div.sk-estimator:hover label.sk-toggleable__label-arrow:before {color: black;}#sk-container-id-57 div.sk-toggleable__content {max-height: 0;max-width: 0;overflow: hidden;text-align: left;background-color: #f0f8ff;}#sk-container-id-57 div.sk-toggleable__content pre {margin: 0.2em;color: black;border-radius: 0.25em;background-color: #f0f8ff;}#sk-container-id-57 input.sk-toggleable__control:checked~div.sk-toggleable__content {max-height: 200px;max-width: 100%;overflow: auto;}#sk-container-id-57 input.sk-toggleable__control:checked~label.sk-toggleable__label-arrow:before {content: \"▾\";}#sk-container-id-57 div.sk-estimator input.sk-toggleable__control:checked~label.sk-toggleable__label {background-color: #d4ebff;}#sk-container-id-57 div.sk-label input.sk-toggleable__control:checked~label.sk-toggleable__label {background-color: #d4ebff;}#sk-container-id-57 input.sk-hidden--visually {border: 0;clip: rect(1px 1px 1px 1px);clip: rect(1px, 1px, 1px, 1px);height: 1px;margin: -1px;overflow: hidden;padding: 0;position: absolute;width: 1px;}#sk-container-id-57 div.sk-estimator {font-family: monospace;background-color: #f0f8ff;border: 1px dotted black;border-radius: 0.25em;box-sizing: border-box;margin-bottom: 0.5em;}#sk-container-id-57 div.sk-estimator:hover {background-color: #d4ebff;}#sk-container-id-57 div.sk-parallel-item::after {content: \"\";width: 100%;border-bottom: 1px solid gray;flex-grow: 1;}#sk-container-id-57 div.sk-label:hover label.sk-toggleable__label {background-color: #d4ebff;}#sk-container-id-57 div.sk-serial::before {content: \"\";position: absolute;border-left: 1px solid gray;box-sizing: border-box;top: 0;bottom: 0;left: 50%;z-index: 0;}#sk-container-id-57 div.sk-serial {display: flex;flex-direction: column;align-items: center;background-color: white;padding-right: 0.2em;padding-left: 0.2em;position: relative;}#sk-container-id-57 div.sk-item {position: relative;z-index: 1;}#sk-container-id-57 div.sk-parallel {display: flex;align-items: stretch;justify-content: center;background-color: white;position: relative;}#sk-container-id-57 div.sk-item::before, #sk-container-id-57 div.sk-parallel-item::before {content: \"\";position: absolute;border-left: 1px solid gray;box-sizing: border-box;top: 0;bottom: 0;left: 50%;z-index: -1;}#sk-container-id-57 div.sk-parallel-item {display: flex;flex-direction: column;z-index: 1;position: relative;background-color: white;}#sk-container-id-57 div.sk-parallel-item:first-child::after {align-self: flex-end;width: 50%;}#sk-container-id-57 div.sk-parallel-item:last-child::after {align-self: flex-start;width: 50%;}#sk-container-id-57 div.sk-parallel-item:only-child::after {width: 0;}#sk-container-id-57 div.sk-dashed-wrapped {border: 1px dashed gray;margin: 0 0.4em 0.5em 0.4em;box-sizing: border-box;padding-bottom: 0.4em;background-color: white;}#sk-container-id-57 div.sk-label label {font-family: monospace;font-weight: bold;display: inline-block;line-height: 1.2em;}#sk-container-id-57 div.sk-label-container {text-align: center;}#sk-container-id-57 div.sk-container {/* jupyter's `normalize.less` sets `[hidden] { display: none; }` but bootstrap.min.css set `[hidden] { display: none !important; }` so we also need the `!important` here to be able to override the default hidden behavior on the sphinx rendered scikit-learn.org. See: https://github.com/scikit-learn/scikit-learn/issues/21755 */display: inline-block !important;position: relative;}#sk-container-id-57 div.sk-text-repr-fallback {display: none;}</style><div id=\"sk-container-id-57\" class=\"sk-top-container\"><div class=\"sk-text-repr-fallback\"><pre>XGBRegressor(base_score=None, booster=None, callbacks=None,\n",
       "             colsample_bylevel=None, colsample_bynode=None,\n",
       "             colsample_bytree=None, early_stopping_rounds=None,\n",
       "             enable_categorical=False, eval_metric=None, feature_types=None,\n",
       "             gamma=0.0, gpu_id=None, grow_policy=None, importance_type=None,\n",
       "             interaction_constraints=None, learning_rate=0.1, max_bin=None,\n",
       "             max_cat_threshold=None, max_cat_to_onehot=None,\n",
       "             max_delta_step=None, max_depth=10, max_leaves=None,\n",
       "             min_child_weight=None, missing=nan, monotone_constraints=None,\n",
       "             n_estimators=500, n_jobs=None, num_parallel_tree=None,\n",
       "             predictor=None, random_state=1, ...)</pre><b>In a Jupyter environment, please rerun this cell to show the HTML representation or trust the notebook. <br />On GitHub, the HTML representation is unable to render, please try loading this page with nbviewer.org.</b></div><div class=\"sk-container\" hidden><div class=\"sk-item\"><div class=\"sk-estimator sk-toggleable\"><input class=\"sk-toggleable__control sk-hidden--visually\" id=\"sk-estimator-id-57\" type=\"checkbox\" checked><label for=\"sk-estimator-id-57\" class=\"sk-toggleable__label sk-toggleable__label-arrow\">XGBRegressor</label><div class=\"sk-toggleable__content\"><pre>XGBRegressor(base_score=None, booster=None, callbacks=None,\n",
       "             colsample_bylevel=None, colsample_bynode=None,\n",
       "             colsample_bytree=None, early_stopping_rounds=None,\n",
       "             enable_categorical=False, eval_metric=None, feature_types=None,\n",
       "             gamma=0.0, gpu_id=None, grow_policy=None, importance_type=None,\n",
       "             interaction_constraints=None, learning_rate=0.1, max_bin=None,\n",
       "             max_cat_threshold=None, max_cat_to_onehot=None,\n",
       "             max_delta_step=None, max_depth=10, max_leaves=None,\n",
       "             min_child_weight=None, missing=nan, monotone_constraints=None,\n",
       "             n_estimators=500, n_jobs=None, num_parallel_tree=None,\n",
       "             predictor=None, random_state=1, ...)</pre></div></div></div></div></div>"
      ],
      "text/plain": [
       "XGBRegressor(base_score=None, booster=None, callbacks=None,\n",
       "             colsample_bylevel=None, colsample_bynode=None,\n",
       "             colsample_bytree=None, early_stopping_rounds=None,\n",
       "             enable_categorical=False, eval_metric=None, feature_types=None,\n",
       "             gamma=0.0, gpu_id=None, grow_policy=None, importance_type=None,\n",
       "             interaction_constraints=None, learning_rate=0.1, max_bin=None,\n",
       "             max_cat_threshold=None, max_cat_to_onehot=None,\n",
       "             max_delta_step=None, max_depth=10, max_leaves=None,\n",
       "             min_child_weight=None, missing=nan, monotone_constraints=None,\n",
       "             n_estimators=500, n_jobs=None, num_parallel_tree=None,\n",
       "             predictor=None, random_state=1, ...)"
      ]
     },
     "execution_count": 667,
     "metadata": {},
     "output_type": "execute_result"
    }
   ],
   "source": [
    "best_xgboost.fit(train_X, train_y)"
   ]
  },
  {
   "cell_type": "code",
   "execution_count": 668,
   "metadata": {},
   "outputs": [],
   "source": [
    "pred_y = best_xgboost.predict(test_X)"
   ]
  },
  {
   "cell_type": "code",
   "execution_count": 669,
   "metadata": {},
   "outputs": [
    {
     "name": "stdout",
     "output_type": "stream",
     "text": [
      "rmse 1772.551063889767\n"
     ]
    },
    {
     "data": {
      "text/plain": [
       "1772.551063889767"
      ]
     },
     "execution_count": 669,
     "metadata": {},
     "output_type": "execute_result"
    }
   ],
   "source": [
    "rmse(np.exp(pred_y), np.exp(test_y['TARGET_Weighted_RetailPrice']).values)"
   ]
  },
  {
   "cell_type": "code",
   "execution_count": 670,
   "metadata": {},
   "outputs": [
    {
     "data": {
      "text/plain": [
       "0.9793232388890497"
      ]
     },
     "execution_count": 670,
     "metadata": {},
     "output_type": "execute_result"
    }
   ],
   "source": [
    "r2_score(np.exp(pred_y), np.exp(test_y['TARGET_Weighted_RetailPrice']).values)"
   ]
  },
  {
   "cell_type": "code",
   "execution_count": 671,
   "metadata": {},
   "outputs": [],
   "source": [
    "XGB_importances = best_xgboost.feature_importances_"
   ]
  },
  {
   "cell_type": "code",
   "execution_count": 672,
   "metadata": {},
   "outputs": [],
   "source": [
    "XGB_importances = pd.DataFrame(XGB_importances, columns=['importances'], index=feature_names)"
   ]
  },
  {
   "cell_type": "code",
   "execution_count": 673,
   "metadata": {},
   "outputs": [
    {
     "data": {
      "text/html": [
       "<div>\n",
       "<style scoped>\n",
       "    .dataframe tbody tr th:only-of-type {\n",
       "        vertical-align: middle;\n",
       "    }\n",
       "\n",
       "    .dataframe tbody tr th {\n",
       "        vertical-align: top;\n",
       "    }\n",
       "\n",
       "    .dataframe thead th {\n",
       "        text-align: right;\n",
       "    }\n",
       "</style>\n",
       "<table border=\"1\" class=\"dataframe\">\n",
       "  <thead>\n",
       "    <tr style=\"text-align: right;\">\n",
       "      <th></th>\n",
       "      <th>importances</th>\n",
       "    </tr>\n",
       "  </thead>\n",
       "  <tbody>\n",
       "    <tr>\n",
       "      <th>SPEC_doormirrorPGside_tiltforreverse</th>\n",
       "      <td>0.179242</td>\n",
       "    </tr>\n",
       "    <tr>\n",
       "      <th>SPEC_maximum_torque_Nm</th>\n",
       "      <td>0.095743</td>\n",
       "    </tr>\n",
       "    <tr>\n",
       "      <th>SPEC_rain_sensor</th>\n",
       "      <td>0.088282</td>\n",
       "    </tr>\n",
       "    <tr>\n",
       "      <th>SPEC_FRPGseat_lumbar_electric</th>\n",
       "      <td>0.079981</td>\n",
       "    </tr>\n",
       "    <tr>\n",
       "      <th>SPEC_doormirror_autodimming</th>\n",
       "      <td>0.069675</td>\n",
       "    </tr>\n",
       "    <tr>\n",
       "      <th>...</th>\n",
       "      <td>...</td>\n",
       "    </tr>\n",
       "    <tr>\n",
       "      <th>SPEC_high_power_charger</th>\n",
       "      <td>0.000000</td>\n",
       "    </tr>\n",
       "    <tr>\n",
       "      <th>SPEC_Mode_3_charging_cable</th>\n",
       "      <td>0.000000</td>\n",
       "    </tr>\n",
       "    <tr>\n",
       "      <th>SPEC_variable_valve_timing_camshaft</th>\n",
       "      <td>0.000000</td>\n",
       "    </tr>\n",
       "    <tr>\n",
       "      <th>SPEC_entertainmentscreen_num</th>\n",
       "      <td>0.000000</td>\n",
       "    </tr>\n",
       "    <tr>\n",
       "      <th>SPEC_wheelrim_diameter_inch</th>\n",
       "      <td>0.000000</td>\n",
       "    </tr>\n",
       "  </tbody>\n",
       "</table>\n",
       "<p>232 rows × 1 columns</p>\n",
       "</div>"
      ],
      "text/plain": [
       "                                      importances\n",
       "SPEC_doormirrorPGside_tiltforreverse     0.179242\n",
       "SPEC_maximum_torque_Nm                   0.095743\n",
       "SPEC_rain_sensor                         0.088282\n",
       "SPEC_FRPGseat_lumbar_electric            0.079981\n",
       "SPEC_doormirror_autodimming              0.069675\n",
       "...                                           ...\n",
       "SPEC_high_power_charger                  0.000000\n",
       "SPEC_Mode_3_charging_cable               0.000000\n",
       "SPEC_variable_valve_timing_camshaft      0.000000\n",
       "SPEC_entertainmentscreen_num             0.000000\n",
       "SPEC_wheelrim_diameter_inch              0.000000\n",
       "\n",
       "[232 rows x 1 columns]"
      ]
     },
     "execution_count": 673,
     "metadata": {},
     "output_type": "execute_result"
    }
   ],
   "source": [
    "XGB_importances.sort_values(by='importances', ascending=False)"
   ]
  },
  {
   "cell_type": "code",
   "execution_count": 674,
   "metadata": {},
   "outputs": [],
   "source": [
    "RF_vars = list(RF_importances.sort_values(by='importances', ascending=False)[:200].index)"
   ]
  },
  {
   "cell_type": "code",
   "execution_count": 675,
   "metadata": {},
   "outputs": [],
   "source": [
    "AB_vars = list(AB_importances.sort_values(by='importances', ascending=False)[:200].index)"
   ]
  },
  {
   "cell_type": "code",
   "execution_count": 676,
   "metadata": {},
   "outputs": [],
   "source": [
    "XGB_vars = list(XGB_importances.sort_values(by='importances', ascending=False)[:200].index)"
   ]
  },
  {
   "cell_type": "code",
   "execution_count": 809,
   "metadata": {},
   "outputs": [],
   "source": [
    "intercection1 = set(RF_vars).intersection(set(AB_vars))\n",
    "intercection2 = set(AB_vars).intersection(set(XGB_vars))\n",
    "intercection3 = set(RF_vars).intersection(set(XGB_vars))\n",
    "featureimp_variables = list(intercection1.union(intercection2).union(intercection3))"
   ]
  },
  {
   "cell_type": "code",
   "execution_count": 810,
   "metadata": {},
   "outputs": [],
   "source": [
    "pd.DataFrame(featureimp_variables).to_csv('variables_union'+ model_name +'.csv', index=False)"
   ]
  },
  {
   "cell_type": "code",
   "execution_count": 744,
   "metadata": {},
   "outputs": [
    {
     "data": {
      "text/plain": [
       "212"
      ]
     },
     "execution_count": 744,
     "metadata": {},
     "output_type": "execute_result"
    }
   ],
   "source": [
    "len(featureimp_variables)"
   ]
  },
  {
   "cell_type": "code",
   "execution_count": 808,
   "metadata": {},
   "outputs": [
    {
     "name": "stdout",
     "output_type": "stream",
     "text": [
      "random_forest\n",
      "Best parameter: {'random_state': 1, 'n_estimators': 300, 'min_samples_leaf': 7, 'max_features': 115, 'max_depth': 9}\n",
      "Best Train accuracy: 0.9784781598413915\n",
      "Best Test accuracy: 0.9659750387475043\n",
      "Best CV accuracy: 0.9638700023721987\n",
      "adaboost\n",
      "Best parameter: {'random_state': 1, 'n_estimators': 100, 'learning_rate': 1}\n",
      "Best Train accuracy: 0.932313889221153\n",
      "Best Test accuracy: 0.926792308480659\n",
      "Best CV accuracy: 0.9231988386956658\n",
      "xgboost\n",
      "Best parameter: {'random_state': 1, 'n_estimators': 500, 'max_depth': 10, 'learning_rate': 0.1, 'gamma': 0.0}\n",
      "Best Train accuracy: 0.999978902271976\n",
      "Best Test accuracy: 0.9894406738193705\n",
      "Best CV accuracy: 0.9859749657212429\n"
     ]
    }
   ],
   "source": [
    "for model in model_list:\n",
    "    print(model)\n",
    "    print('Best parameter:', result_dict[model + '_param'])\n",
    "    print('Best Train accuracy:',result_dict[model + '_trainacc'])\n",
    "    print('Best Test accuracy:',result_dict[model + '_testacc'])\n",
    "    print('Best CV accuracy:',result_dict[model + '_cvacc'])"
   ]
  },
  {
   "attachments": {},
   "cell_type": "markdown",
   "metadata": {},
   "source": [
    "### Model with reduced variables Union of Intersections (203 variables)"
   ]
  },
  {
   "cell_type": "code",
   "execution_count": 811,
   "metadata": {},
   "outputs": [],
   "source": [
    "X = df_ml.drop(target, axis=1)"
   ]
  },
  {
   "cell_type": "code",
   "execution_count": 812,
   "metadata": {},
   "outputs": [],
   "source": [
    "X_featureimp = X[featureimp_variables]"
   ]
  },
  {
   "cell_type": "code",
   "execution_count": 813,
   "metadata": {},
   "outputs": [],
   "source": [
    "y = df_ml[[target]]"
   ]
  },
  {
   "cell_type": "code",
   "execution_count": 814,
   "metadata": {},
   "outputs": [],
   "source": [
    "y = np.log(y)"
   ]
  },
  {
   "cell_type": "code",
   "execution_count": 815,
   "metadata": {},
   "outputs": [],
   "source": [
    "train_X, test_X, train_y, test_y = train_test_split(X_featureimp, y, train_size=0.7, test_size=0.3, random_state=42)"
   ]
  },
  {
   "cell_type": "code",
   "execution_count": 816,
   "metadata": {},
   "outputs": [
    {
     "name": "stdout",
     "output_type": "stream",
     "text": [
      "random_forest\n",
      "rsquare 0.9253540788345953\n",
      "rsquare 0.9011410556151109\n",
      "rsquare 0.9149797742176713\n",
      "rsquare 0.9226891021784205\n",
      "rsquare 0.9226111923630774\n",
      "rsquare 0.9082456093890711\n",
      "rsquare 0.9066802843020785\n",
      "rsquare 0.925882421299076\n",
      "rsquare 0.9104947790042829\n",
      "rsquare 0.9048998778768472\n",
      "rsquare 0.93210863394491\n",
      "rsquare 0.9074984157036255\n",
      "rsquare 0.9203936417730478\n",
      "rsquare 0.9268963957938755\n",
      "rsquare 0.9293138751776319\n",
      "rsquare 0.9139823250433067\n",
      "rsquare 0.9136684124656765\n",
      "rsquare 0.9255190759419111\n",
      "rsquare 0.9169655432381687\n",
      "rsquare 0.9118234953079478\n",
      "rsquare 0.861365775941681\n",
      "rsquare 0.858812462436688\n",
      "rsquare 0.874043266988419\n",
      "rsquare 0.8700473366256003\n",
      "rsquare 0.8705903675937925\n",
      "rsquare 0.8564249842072753\n",
      "rsquare 0.8567461795650398\n",
      "rsquare 0.8682760763123047\n",
      "rsquare 0.8581282655569534\n",
      "rsquare 0.8655881152327809\n",
      "rsquare 0.9467250714689738\n",
      "rsquare 0.9340284579960233\n",
      "rsquare 0.9377682201329698\n",
      "rsquare 0.9447810063489485\n",
      "rsquare 0.9462986758314677\n",
      "rsquare 0.9334779870967839\n",
      "rsquare 0.9321168391239636\n",
      "rsquare 0.9451552564474622\n",
      "rsquare 0.9373001505660219\n",
      "rsquare 0.9334450478939257\n",
      "rsquare 0.9525007431753543\n",
      "rsquare 0.9506687143642014\n",
      "rsquare 0.9492742539612549\n",
      "rsquare 0.9511429626839726\n",
      "rsquare 0.9509941678677617\n",
      "rsquare 0.9446065014165468\n",
      "rsquare 0.9386974113040826\n",
      "rsquare 0.9543838315872443\n",
      "rsquare 0.9446500220023478\n",
      "rsquare 0.9465384502020672\n",
      "rsquare 0.9591346072364098\n",
      "rsquare 0.9473931256709794\n",
      "rsquare 0.95118946065542\n",
      "rsquare 0.9516401846816049\n",
      "rsquare 0.956315930926878\n",
      "rsquare 0.9442225421557631\n",
      "rsquare 0.9475225201490741\n",
      "rsquare 0.9546873162500129\n",
      "rsquare 0.9523775742677121\n",
      "rsquare 0.94912069667181\n",
      "rsquare 0.8499639755679413\n",
      "rsquare 0.8508990120249998\n",
      "rsquare 0.8667261203246848\n",
      "rsquare 0.8633406859784591\n",
      "rsquare 0.8586823943234632\n",
      "rsquare 0.8494663732306986\n",
      "rsquare 0.8492510624710641\n",
      "rsquare 0.8598182571290185\n",
      "rsquare 0.8495098367922775\n",
      "rsquare 0.8593529336835997\n",
      "rsquare 0.9080842723081566\n",
      "rsquare 0.8865123066676316\n",
      "rsquare 0.9055668091408187\n",
      "rsquare 0.91123291464251\n",
      "rsquare 0.9070812129841894\n",
      "rsquare 0.8903553896747254\n",
      "rsquare 0.8947055105801967\n",
      "rsquare 0.9095721295382291\n",
      "rsquare 0.8967789170341978\n",
      "rsquare 0.891987536283627\n",
      "rsquare 0.9547213270252947\n",
      "rsquare 0.948200345847492\n",
      "rsquare 0.9500420403745092\n",
      "rsquare 0.9558704407308122\n",
      "rsquare 0.9493865788021819\n",
      "rsquare 0.9455708681087844\n",
      "rsquare 0.9469273080761125\n",
      "rsquare 0.9579248529864782\n",
      "rsquare 0.9479232027037086\n",
      "rsquare 0.9452783221768551\n",
      "rsquare 0.9441064193778358\n",
      "rsquare 0.9456545614142399\n",
      "rsquare 0.9463380590964074\n",
      "rsquare 0.9444230174809579\n",
      "rsquare 0.9432240895940815\n",
      "rsquare 0.9383229986860022\n",
      "rsquare 0.9310223436484855\n",
      "rsquare 0.9486748033162541\n",
      "rsquare 0.9386056330490516\n",
      "rsquare 0.9400174804888045\n",
      "Best CV params {'random_state': 1, 'n_estimators': 10, 'min_samples_leaf': 10, 'max_features': 175, 'max_depth': 8}\n",
      "Best CV Rsquare 0.9513603958665666\n",
      "rsquare 0.9681359618819058\n",
      "Best train Rsquare 0.9681359618819058\n",
      "rsquare 0.952076594985604\n",
      "Test RMSE of best grid search hypers: 0.952076594985604\n",
      "rsquare 0.952076594985604\n",
      "rsquare 0.9681359618819058\n",
      "adaboost\n",
      "rsquare 0.8338152528221268\n",
      "rsquare 0.7864598446871507\n",
      "rsquare 0.8399623173700879\n",
      "rsquare 0.8242656753611429\n",
      "rsquare 0.8355955939223308\n",
      "rsquare 0.8233673206004399\n",
      "rsquare 0.8123232970400449\n",
      "rsquare 0.8179496239416056\n",
      "rsquare 0.8194288195653027\n",
      "rsquare 0.7905510424372717\n",
      "rsquare 0.9383557858115846\n",
      "rsquare 0.9282631616276992\n",
      "rsquare 0.9292095275590418\n",
      "rsquare 0.9314561028923583\n",
      "rsquare 0.9351862601727229\n",
      "rsquare 0.9294977805657837\n",
      "rsquare 0.916947966580165\n",
      "rsquare 0.932790812152789\n",
      "rsquare 0.9204568071871538\n",
      "rsquare 0.9250261168208984\n",
      "rsquare 0.8303031119430242\n",
      "rsquare 0.7887498064616884\n",
      "rsquare 0.8330764064892318\n",
      "rsquare 0.8264264313749273\n",
      "rsquare 0.832665865910326\n",
      "rsquare 0.8254624259610914\n",
      "rsquare 0.8132897007586549\n",
      "rsquare 0.8150122047017727\n",
      "rsquare 0.8236439360215361\n",
      "rsquare 0.7925847956247972\n",
      "rsquare 0.8758048189352153\n",
      "rsquare 0.8411400073526969\n",
      "rsquare 0.8714355195153196\n",
      "rsquare 0.8546061451786294\n",
      "rsquare 0.8783856435176398\n",
      "rsquare 0.8572583349068453\n",
      "rsquare 0.8547589683501495\n",
      "rsquare 0.8625700092735\n",
      "rsquare 0.869693881250654\n",
      "rsquare 0.8605164535567591\n",
      "rsquare 0.8571022781649738\n",
      "rsquare 0.8123089792122583\n",
      "rsquare 0.8565731598656043\n",
      "rsquare 0.8423307437143315\n",
      "rsquare 0.8494590371865848\n",
      "rsquare 0.8347816087567386\n",
      "rsquare 0.8385495110660599\n",
      "rsquare 0.843084430921453\n",
      "rsquare 0.8442411582654356\n",
      "rsquare 0.8280800304892136\n",
      "rsquare 0.830737759128723\n",
      "rsquare 0.7684201898050392\n",
      "rsquare 0.8215998418413414\n",
      "rsquare 0.818223622932974\n",
      "rsquare 0.8216032461591508\n",
      "rsquare 0.822332027871171\n",
      "rsquare 0.8095891758087068\n",
      "rsquare 0.8057820157199866\n",
      "rsquare 0.8110852169199507\n",
      "rsquare 0.7798809398651261\n",
      "rsquare 0.8306747552861983\n",
      "rsquare 0.7909423000884157\n",
      "rsquare 0.8367737482844924\n",
      "rsquare 0.824759429714444\n",
      "rsquare 0.8238870807563025\n",
      "rsquare 0.8207032079739126\n",
      "rsquare 0.8113092089502888\n",
      "rsquare 0.8155533980690932\n",
      "rsquare 0.8198238443346503\n",
      "rsquare 0.7838650299919026\n",
      "rsquare 0.8352790002350229\n",
      "rsquare 0.7910857765148938\n",
      "rsquare 0.8410665221838638\n",
      "rsquare 0.8252932326116256\n",
      "rsquare 0.8348970850566304\n",
      "rsquare 0.8236362101640524\n",
      "rsquare 0.8135246054024884\n",
      "rsquare 0.819282177450923\n",
      "rsquare 0.8223959822290662\n",
      "rsquare 0.7938617177965467\n",
      "rsquare 0.8971748411543785\n",
      "rsquare 0.8767138105654054\n",
      "rsquare 0.8867869008320908\n",
      "rsquare 0.8843950946117617\n",
      "rsquare 0.9033419484970476\n",
      "rsquare 0.8837359099948303\n",
      "rsquare 0.8744631491985645\n",
      "rsquare 0.8939752661769866\n",
      "rsquare 0.879216084065186\n",
      "rsquare 0.8909509184863749\n",
      "rsquare 0.9391936890187632\n",
      "rsquare 0.926133700525256\n",
      "rsquare 0.9289819581481713\n",
      "rsquare 0.930874164451152\n",
      "rsquare 0.9358060331543954\n",
      "rsquare 0.9292264721681766\n",
      "rsquare 0.9174802159036677\n",
      "rsquare 0.9336996539429725\n",
      "rsquare 0.9193932340127899\n",
      "rsquare 0.9245870277430054\n",
      "Best CV params {'random_state': 1, 'n_estimators': 500, 'learning_rate': 1}\n",
      "Best CV Rsquare 0.9287190321370197\n",
      "rsquare 0.9347796799407382\n",
      "Best train Rsquare 0.9347796799407382\n",
      "rsquare 0.930135211820272\n",
      "Test RMSE of best grid search hypers: 0.930135211820272\n",
      "rsquare 0.930135211820272\n",
      "rsquare 0.9347796799407382\n",
      "xgboost\n",
      "rsquare 0.8709005643929689\n",
      "rsquare 0.8296597806784276\n",
      "rsquare 0.8659898880145067\n",
      "rsquare 0.8747127100779537\n",
      "rsquare 0.8822904075012591\n",
      "rsquare 0.8720085819606446\n",
      "rsquare 0.8490548631567476\n",
      "rsquare 0.8617993407651229\n",
      "rsquare 0.8662318451595243\n",
      "rsquare 0.856083548137371\n",
      "rsquare -1065.9601777970863\n",
      "rsquare -1456.4007350443476\n",
      "rsquare -1328.2582851920918\n",
      "rsquare -1216.8738318982585\n",
      "rsquare -1129.9680492740497\n",
      "rsquare -1199.444890017308\n",
      "rsquare -1282.0856359284398\n",
      "rsquare -1549.517019962476\n",
      "rsquare -1275.0518584032557\n",
      "rsquare -1327.6160044562057\n",
      "rsquare 0.7512031766025332\n",
      "rsquare 0.7231484122927732\n",
      "rsquare 0.7665739425587681\n",
      "rsquare 0.7445213542036003\n",
      "rsquare 0.7351593114897801\n",
      "rsquare 0.7448780648014721\n",
      "rsquare 0.7378455394447943\n",
      "rsquare 0.7404733706056247\n",
      "rsquare 0.7420103115101921\n",
      "rsquare 0.7177956628219507\n",
      "rsquare 0.8321093033776313\n",
      "rsquare 0.8639534190479699\n",
      "rsquare 0.8623226484357844\n",
      "rsquare 0.8552319983563879\n",
      "rsquare 0.8473606203312797\n",
      "rsquare 0.8400203030863005\n",
      "rsquare 0.8380761566885343\n",
      "rsquare 0.8597908738029973\n",
      "rsquare 0.8436516674704052\n",
      "rsquare 0.852011941884136\n",
      "rsquare -159.29017266527046\n",
      "rsquare -218.26078560727186\n",
      "rsquare -196.98204495394276\n",
      "rsquare -180.7877949181608\n",
      "rsquare -168.3498957293981\n",
      "rsquare -178.97455453245013\n",
      "rsquare -191.7744519102831\n",
      "rsquare -230.6570890687665\n",
      "rsquare -190.9090928884801\n",
      "rsquare -198.85603877559885\n",
      "rsquare -964.5926121042925\n",
      "rsquare -1318.157699716012\n",
      "rsquare -1201.701509145549\n",
      "rsquare -1100.87614688424\n",
      "rsquare -1022.541766985915\n",
      "rsquare -1085.3212897078042\n",
      "rsquare -1160.1681218429742\n",
      "rsquare -1401.8322090437002\n",
      "rsquare -1153.799012630302\n",
      "rsquare -1201.5310254138474\n",
      "rsquare 0.8293465505231712\n",
      "rsquare 0.8653323666026231\n",
      "rsquare 0.866277200660143\n",
      "rsquare 0.8509646255498058\n",
      "rsquare 0.8416501010718098\n",
      "rsquare 0.8364607734803464\n",
      "rsquare 0.8365444661447773\n",
      "rsquare 0.8620509393629658\n",
      "rsquare 0.8449791327492382\n",
      "rsquare 0.855964439009355\n",
      "rsquare -159.2953870250504\n",
      "rsquare -218.2561146570914\n",
      "rsquare -196.93338417723282\n",
      "rsquare -180.7851654905389\n",
      "rsquare -168.34097222853885\n",
      "rsquare -179.00266540719224\n",
      "rsquare -191.76651877173373\n",
      "rsquare -230.67872022748668\n",
      "rsquare -190.92612127800393\n",
      "rsquare -198.88464619761726\n",
      "rsquare 0.9861305893572216\n",
      "rsquare 0.9836075491572155\n",
      "rsquare 0.9836619933709142\n",
      "rsquare 0.9827788720354352\n",
      "rsquare 0.9825687050810225\n",
      "rsquare 0.979543414582843\n",
      "rsquare 0.9765764660577805\n",
      "rsquare 0.9840229885832991\n",
      "rsquare 0.9821183490857601\n",
      "rsquare 0.9825017329989207\n",
      "rsquare 0.8460664605252224\n",
      "rsquare 0.7830963926723208\n",
      "rsquare 0.8067161852154285\n",
      "rsquare 0.8452783881581336\n",
      "rsquare 0.8376990098277695\n",
      "rsquare 0.8420657008990498\n",
      "rsquare 0.8132645002509293\n",
      "rsquare 0.8138045695947285\n",
      "rsquare 0.8056535848039286\n",
      "rsquare 0.7973903708777915\n",
      "Best CV params {'random_state': 1, 'n_estimators': 1000, 'max_depth': 7, 'learning_rate': 0.01, 'gamma': 0.0}\n",
      "Best CV Rsquare 0.9823510660310413\n",
      "rsquare 0.9945219460844\n",
      "Best train Rsquare 0.9945219460844\n",
      "rsquare 0.9830810311371754\n",
      "Test RMSE of best grid search hypers: 0.9830810311371754\n",
      "rsquare 0.9830810311371754\n",
      "rsquare 0.9945219460844\n"
     ]
    }
   ],
   "source": [
    "result_dict = {}\n",
    "for model in model_list:\n",
    "    print(model)\n",
    "    result_dict[model + '_param'], \\\n",
    "    result_dict[model + '_cvacc'], \\\n",
    "    result_dict[model + '_testacc'],\\\n",
    "    result_dict[model + '_trainacc'] \\\n",
    "    = RandomsearchRegression(models_dict[model], parameters_dct[model])"
   ]
  },
  {
   "attachments": {},
   "cell_type": "markdown",
   "metadata": {},
   "source": [
    "#### Random Forest result"
   ]
  },
  {
   "cell_type": "code",
   "execution_count": 817,
   "metadata": {},
   "outputs": [],
   "source": [
    "best_randomforest = RandomForestRegressor(**result_dict['random_forest_param'])\n",
    "# best_randomforest = RandomForestRegressor(****result_dict['random_forest_param'])"
   ]
  },
  {
   "cell_type": "code",
   "execution_count": 818,
   "metadata": {},
   "outputs": [
    {
     "data": {
      "text/html": [
       "<style>#sk-container-id-70 {color: black;background-color: white;}#sk-container-id-70 pre{padding: 0;}#sk-container-id-70 div.sk-toggleable {background-color: white;}#sk-container-id-70 label.sk-toggleable__label {cursor: pointer;display: block;width: 100%;margin-bottom: 0;padding: 0.3em;box-sizing: border-box;text-align: center;}#sk-container-id-70 label.sk-toggleable__label-arrow:before {content: \"▸\";float: left;margin-right: 0.25em;color: #696969;}#sk-container-id-70 label.sk-toggleable__label-arrow:hover:before {color: black;}#sk-container-id-70 div.sk-estimator:hover label.sk-toggleable__label-arrow:before {color: black;}#sk-container-id-70 div.sk-toggleable__content {max-height: 0;max-width: 0;overflow: hidden;text-align: left;background-color: #f0f8ff;}#sk-container-id-70 div.sk-toggleable__content pre {margin: 0.2em;color: black;border-radius: 0.25em;background-color: #f0f8ff;}#sk-container-id-70 input.sk-toggleable__control:checked~div.sk-toggleable__content {max-height: 200px;max-width: 100%;overflow: auto;}#sk-container-id-70 input.sk-toggleable__control:checked~label.sk-toggleable__label-arrow:before {content: \"▾\";}#sk-container-id-70 div.sk-estimator input.sk-toggleable__control:checked~label.sk-toggleable__label {background-color: #d4ebff;}#sk-container-id-70 div.sk-label input.sk-toggleable__control:checked~label.sk-toggleable__label {background-color: #d4ebff;}#sk-container-id-70 input.sk-hidden--visually {border: 0;clip: rect(1px 1px 1px 1px);clip: rect(1px, 1px, 1px, 1px);height: 1px;margin: -1px;overflow: hidden;padding: 0;position: absolute;width: 1px;}#sk-container-id-70 div.sk-estimator {font-family: monospace;background-color: #f0f8ff;border: 1px dotted black;border-radius: 0.25em;box-sizing: border-box;margin-bottom: 0.5em;}#sk-container-id-70 div.sk-estimator:hover {background-color: #d4ebff;}#sk-container-id-70 div.sk-parallel-item::after {content: \"\";width: 100%;border-bottom: 1px solid gray;flex-grow: 1;}#sk-container-id-70 div.sk-label:hover label.sk-toggleable__label {background-color: #d4ebff;}#sk-container-id-70 div.sk-serial::before {content: \"\";position: absolute;border-left: 1px solid gray;box-sizing: border-box;top: 0;bottom: 0;left: 50%;z-index: 0;}#sk-container-id-70 div.sk-serial {display: flex;flex-direction: column;align-items: center;background-color: white;padding-right: 0.2em;padding-left: 0.2em;position: relative;}#sk-container-id-70 div.sk-item {position: relative;z-index: 1;}#sk-container-id-70 div.sk-parallel {display: flex;align-items: stretch;justify-content: center;background-color: white;position: relative;}#sk-container-id-70 div.sk-item::before, #sk-container-id-70 div.sk-parallel-item::before {content: \"\";position: absolute;border-left: 1px solid gray;box-sizing: border-box;top: 0;bottom: 0;left: 50%;z-index: -1;}#sk-container-id-70 div.sk-parallel-item {display: flex;flex-direction: column;z-index: 1;position: relative;background-color: white;}#sk-container-id-70 div.sk-parallel-item:first-child::after {align-self: flex-end;width: 50%;}#sk-container-id-70 div.sk-parallel-item:last-child::after {align-self: flex-start;width: 50%;}#sk-container-id-70 div.sk-parallel-item:only-child::after {width: 0;}#sk-container-id-70 div.sk-dashed-wrapped {border: 1px dashed gray;margin: 0 0.4em 0.5em 0.4em;box-sizing: border-box;padding-bottom: 0.4em;background-color: white;}#sk-container-id-70 div.sk-label label {font-family: monospace;font-weight: bold;display: inline-block;line-height: 1.2em;}#sk-container-id-70 div.sk-label-container {text-align: center;}#sk-container-id-70 div.sk-container {/* jupyter's `normalize.less` sets `[hidden] { display: none; }` but bootstrap.min.css set `[hidden] { display: none !important; }` so we also need the `!important` here to be able to override the default hidden behavior on the sphinx rendered scikit-learn.org. See: https://github.com/scikit-learn/scikit-learn/issues/21755 */display: inline-block !important;position: relative;}#sk-container-id-70 div.sk-text-repr-fallback {display: none;}</style><div id=\"sk-container-id-70\" class=\"sk-top-container\"><div class=\"sk-text-repr-fallback\"><pre>RandomForestRegressor(max_depth=8, max_features=175, min_samples_leaf=10,\n",
       "                      n_estimators=10, random_state=1)</pre><b>In a Jupyter environment, please rerun this cell to show the HTML representation or trust the notebook. <br />On GitHub, the HTML representation is unable to render, please try loading this page with nbviewer.org.</b></div><div class=\"sk-container\" hidden><div class=\"sk-item\"><div class=\"sk-estimator sk-toggleable\"><input class=\"sk-toggleable__control sk-hidden--visually\" id=\"sk-estimator-id-70\" type=\"checkbox\" checked><label for=\"sk-estimator-id-70\" class=\"sk-toggleable__label sk-toggleable__label-arrow\">RandomForestRegressor</label><div class=\"sk-toggleable__content\"><pre>RandomForestRegressor(max_depth=8, max_features=175, min_samples_leaf=10,\n",
       "                      n_estimators=10, random_state=1)</pre></div></div></div></div></div>"
      ],
      "text/plain": [
       "RandomForestRegressor(max_depth=8, max_features=175, min_samples_leaf=10,\n",
       "                      n_estimators=10, random_state=1)"
      ]
     },
     "execution_count": 818,
     "metadata": {},
     "output_type": "execute_result"
    }
   ],
   "source": [
    "best_randomforest.fit(train_X, train_y)"
   ]
  },
  {
   "cell_type": "code",
   "execution_count": 819,
   "metadata": {},
   "outputs": [],
   "source": [
    "pred_y = best_randomforest.predict(test_X)"
   ]
  },
  {
   "cell_type": "code",
   "execution_count": 820,
   "metadata": {},
   "outputs": [
    {
     "name": "stdout",
     "output_type": "stream",
     "text": [
      "rmse 3288.2839631238444\n"
     ]
    },
    {
     "data": {
      "text/plain": [
       "3288.2839631238444"
      ]
     },
     "execution_count": 820,
     "metadata": {},
     "output_type": "execute_result"
    }
   ],
   "source": [
    "rmse(np.exp(pred_y), np.exp(test_y['TARGET_Weighted_RetailPrice']).values)"
   ]
  },
  {
   "cell_type": "code",
   "execution_count": 821,
   "metadata": {},
   "outputs": [
    {
     "data": {
      "text/plain": [
       "0.9223449662601872"
      ]
     },
     "execution_count": 821,
     "metadata": {},
     "output_type": "execute_result"
    }
   ],
   "source": [
    "r2_score(np.exp(pred_y), np.exp(test_y['TARGET_Weighted_RetailPrice']).values)"
   ]
  },
  {
   "cell_type": "code",
   "execution_count": 822,
   "metadata": {},
   "outputs": [],
   "source": [
    "RF_importances = best_randomforest.feature_importances_"
   ]
  },
  {
   "cell_type": "code",
   "execution_count": 823,
   "metadata": {},
   "outputs": [],
   "source": [
    "feature_names = list(X_featureimp.columns)"
   ]
  },
  {
   "cell_type": "code",
   "execution_count": 824,
   "metadata": {},
   "outputs": [],
   "source": [
    "RF_importances = pd.DataFrame(RF_importances, columns=['importances'], index=feature_names)"
   ]
  },
  {
   "cell_type": "code",
   "execution_count": 825,
   "metadata": {},
   "outputs": [
    {
     "data": {
      "text/html": [
       "<div>\n",
       "<style scoped>\n",
       "    .dataframe tbody tr th:only-of-type {\n",
       "        vertical-align: middle;\n",
       "    }\n",
       "\n",
       "    .dataframe tbody tr th {\n",
       "        vertical-align: top;\n",
       "    }\n",
       "\n",
       "    .dataframe thead th {\n",
       "        text-align: right;\n",
       "    }\n",
       "</style>\n",
       "<table border=\"1\" class=\"dataframe\">\n",
       "  <thead>\n",
       "    <tr style=\"text-align: right;\">\n",
       "      <th></th>\n",
       "      <th>importances</th>\n",
       "    </tr>\n",
       "  </thead>\n",
       "  <tbody>\n",
       "    <tr>\n",
       "      <th>MSRP_prevMY_WeightedByVol</th>\n",
       "      <td>0.475512</td>\n",
       "    </tr>\n",
       "    <tr>\n",
       "      <th>SPEC_maximum_torque_Nm</th>\n",
       "      <td>0.192060</td>\n",
       "    </tr>\n",
       "    <tr>\n",
       "      <th>SPEC_rain_sensor</th>\n",
       "      <td>0.095926</td>\n",
       "    </tr>\n",
       "    <tr>\n",
       "      <th>SPEC_Steering_plastic</th>\n",
       "      <td>0.089903</td>\n",
       "    </tr>\n",
       "    <tr>\n",
       "      <th>SPEC_tire_diameter_inch</th>\n",
       "      <td>0.024645</td>\n",
       "    </tr>\n",
       "    <tr>\n",
       "      <th>...</th>\n",
       "      <td>...</td>\n",
       "    </tr>\n",
       "    <tr>\n",
       "      <th>SPEC_Readinglight_RR</th>\n",
       "      <td>0.000000</td>\n",
       "    </tr>\n",
       "    <tr>\n",
       "      <th>SPEC_Panoramic_roof</th>\n",
       "      <td>0.000000</td>\n",
       "    </tr>\n",
       "    <tr>\n",
       "      <th>SPEC_includes_phone</th>\n",
       "      <td>0.000000</td>\n",
       "    </tr>\n",
       "    <tr>\n",
       "      <th>SPEC_USB_charging_port</th>\n",
       "      <td>0.000000</td>\n",
       "    </tr>\n",
       "    <tr>\n",
       "      <th>SPEC_runflattire</th>\n",
       "      <td>0.000000</td>\n",
       "    </tr>\n",
       "  </tbody>\n",
       "</table>\n",
       "<p>212 rows × 1 columns</p>\n",
       "</div>"
      ],
      "text/plain": [
       "                           importances\n",
       "MSRP_prevMY_WeightedByVol     0.475512\n",
       "SPEC_maximum_torque_Nm        0.192060\n",
       "SPEC_rain_sensor              0.095926\n",
       "SPEC_Steering_plastic         0.089903\n",
       "SPEC_tire_diameter_inch       0.024645\n",
       "...                                ...\n",
       "SPEC_Readinglight_RR          0.000000\n",
       "SPEC_Panoramic_roof           0.000000\n",
       "SPEC_includes_phone           0.000000\n",
       "SPEC_USB_charging_port        0.000000\n",
       "SPEC_runflattire              0.000000\n",
       "\n",
       "[212 rows x 1 columns]"
      ]
     },
     "execution_count": 825,
     "metadata": {},
     "output_type": "execute_result"
    }
   ],
   "source": [
    "RF_importances.sort_values(by='importances', ascending=False)"
   ]
  },
  {
   "attachments": {},
   "cell_type": "markdown",
   "metadata": {},
   "source": [
    "#### Adaboost result"
   ]
  },
  {
   "cell_type": "code",
   "execution_count": 826,
   "metadata": {},
   "outputs": [],
   "source": [
    "best_adaboost= AdaBoostRegressor(**result_dict['adaboost_param'])\n"
   ]
  },
  {
   "cell_type": "code",
   "execution_count": 827,
   "metadata": {},
   "outputs": [
    {
     "data": {
      "text/html": [
       "<style>#sk-container-id-71 {color: black;background-color: white;}#sk-container-id-71 pre{padding: 0;}#sk-container-id-71 div.sk-toggleable {background-color: white;}#sk-container-id-71 label.sk-toggleable__label {cursor: pointer;display: block;width: 100%;margin-bottom: 0;padding: 0.3em;box-sizing: border-box;text-align: center;}#sk-container-id-71 label.sk-toggleable__label-arrow:before {content: \"▸\";float: left;margin-right: 0.25em;color: #696969;}#sk-container-id-71 label.sk-toggleable__label-arrow:hover:before {color: black;}#sk-container-id-71 div.sk-estimator:hover label.sk-toggleable__label-arrow:before {color: black;}#sk-container-id-71 div.sk-toggleable__content {max-height: 0;max-width: 0;overflow: hidden;text-align: left;background-color: #f0f8ff;}#sk-container-id-71 div.sk-toggleable__content pre {margin: 0.2em;color: black;border-radius: 0.25em;background-color: #f0f8ff;}#sk-container-id-71 input.sk-toggleable__control:checked~div.sk-toggleable__content {max-height: 200px;max-width: 100%;overflow: auto;}#sk-container-id-71 input.sk-toggleable__control:checked~label.sk-toggleable__label-arrow:before {content: \"▾\";}#sk-container-id-71 div.sk-estimator input.sk-toggleable__control:checked~label.sk-toggleable__label {background-color: #d4ebff;}#sk-container-id-71 div.sk-label input.sk-toggleable__control:checked~label.sk-toggleable__label {background-color: #d4ebff;}#sk-container-id-71 input.sk-hidden--visually {border: 0;clip: rect(1px 1px 1px 1px);clip: rect(1px, 1px, 1px, 1px);height: 1px;margin: -1px;overflow: hidden;padding: 0;position: absolute;width: 1px;}#sk-container-id-71 div.sk-estimator {font-family: monospace;background-color: #f0f8ff;border: 1px dotted black;border-radius: 0.25em;box-sizing: border-box;margin-bottom: 0.5em;}#sk-container-id-71 div.sk-estimator:hover {background-color: #d4ebff;}#sk-container-id-71 div.sk-parallel-item::after {content: \"\";width: 100%;border-bottom: 1px solid gray;flex-grow: 1;}#sk-container-id-71 div.sk-label:hover label.sk-toggleable__label {background-color: #d4ebff;}#sk-container-id-71 div.sk-serial::before {content: \"\";position: absolute;border-left: 1px solid gray;box-sizing: border-box;top: 0;bottom: 0;left: 50%;z-index: 0;}#sk-container-id-71 div.sk-serial {display: flex;flex-direction: column;align-items: center;background-color: white;padding-right: 0.2em;padding-left: 0.2em;position: relative;}#sk-container-id-71 div.sk-item {position: relative;z-index: 1;}#sk-container-id-71 div.sk-parallel {display: flex;align-items: stretch;justify-content: center;background-color: white;position: relative;}#sk-container-id-71 div.sk-item::before, #sk-container-id-71 div.sk-parallel-item::before {content: \"\";position: absolute;border-left: 1px solid gray;box-sizing: border-box;top: 0;bottom: 0;left: 50%;z-index: -1;}#sk-container-id-71 div.sk-parallel-item {display: flex;flex-direction: column;z-index: 1;position: relative;background-color: white;}#sk-container-id-71 div.sk-parallel-item:first-child::after {align-self: flex-end;width: 50%;}#sk-container-id-71 div.sk-parallel-item:last-child::after {align-self: flex-start;width: 50%;}#sk-container-id-71 div.sk-parallel-item:only-child::after {width: 0;}#sk-container-id-71 div.sk-dashed-wrapped {border: 1px dashed gray;margin: 0 0.4em 0.5em 0.4em;box-sizing: border-box;padding-bottom: 0.4em;background-color: white;}#sk-container-id-71 div.sk-label label {font-family: monospace;font-weight: bold;display: inline-block;line-height: 1.2em;}#sk-container-id-71 div.sk-label-container {text-align: center;}#sk-container-id-71 div.sk-container {/* jupyter's `normalize.less` sets `[hidden] { display: none; }` but bootstrap.min.css set `[hidden] { display: none !important; }` so we also need the `!important` here to be able to override the default hidden behavior on the sphinx rendered scikit-learn.org. See: https://github.com/scikit-learn/scikit-learn/issues/21755 */display: inline-block !important;position: relative;}#sk-container-id-71 div.sk-text-repr-fallback {display: none;}</style><div id=\"sk-container-id-71\" class=\"sk-top-container\"><div class=\"sk-text-repr-fallback\"><pre>AdaBoostRegressor(learning_rate=1, n_estimators=500, random_state=1)</pre><b>In a Jupyter environment, please rerun this cell to show the HTML representation or trust the notebook. <br />On GitHub, the HTML representation is unable to render, please try loading this page with nbviewer.org.</b></div><div class=\"sk-container\" hidden><div class=\"sk-item\"><div class=\"sk-estimator sk-toggleable\"><input class=\"sk-toggleable__control sk-hidden--visually\" id=\"sk-estimator-id-71\" type=\"checkbox\" checked><label for=\"sk-estimator-id-71\" class=\"sk-toggleable__label sk-toggleable__label-arrow\">AdaBoostRegressor</label><div class=\"sk-toggleable__content\"><pre>AdaBoostRegressor(learning_rate=1, n_estimators=500, random_state=1)</pre></div></div></div></div></div>"
      ],
      "text/plain": [
       "AdaBoostRegressor(learning_rate=1, n_estimators=500, random_state=1)"
      ]
     },
     "execution_count": 827,
     "metadata": {},
     "output_type": "execute_result"
    }
   ],
   "source": [
    "best_adaboost.fit(train_X, train_y)"
   ]
  },
  {
   "cell_type": "code",
   "execution_count": 828,
   "metadata": {},
   "outputs": [],
   "source": [
    "pred_y = best_adaboost.predict(test_X)"
   ]
  },
  {
   "cell_type": "code",
   "execution_count": 829,
   "metadata": {},
   "outputs": [
    {
     "name": "stdout",
     "output_type": "stream",
     "text": [
      "rmse 3607.227848504977\n"
     ]
    },
    {
     "data": {
      "text/plain": [
       "3607.227848504977"
      ]
     },
     "execution_count": 829,
     "metadata": {},
     "output_type": "execute_result"
    }
   ],
   "source": [
    "rmse(np.exp(pred_y), np.exp(test_y['TARGET_Weighted_RetailPrice']).values)"
   ]
  },
  {
   "cell_type": "code",
   "execution_count": 830,
   "metadata": {},
   "outputs": [
    {
     "data": {
      "text/plain": [
       "0.9063269867131358"
      ]
     },
     "execution_count": 830,
     "metadata": {},
     "output_type": "execute_result"
    }
   ],
   "source": [
    "r2_score(np.exp(pred_y), np.exp(test_y['TARGET_Weighted_RetailPrice']).values)"
   ]
  },
  {
   "cell_type": "code",
   "execution_count": 831,
   "metadata": {},
   "outputs": [],
   "source": [
    "AB_importances = best_adaboost.feature_importances_"
   ]
  },
  {
   "cell_type": "code",
   "execution_count": 832,
   "metadata": {},
   "outputs": [],
   "source": [
    "AB_importances = pd.DataFrame(AB_importances, columns=['importances'], index=feature_names)"
   ]
  },
  {
   "cell_type": "code",
   "execution_count": 833,
   "metadata": {},
   "outputs": [
    {
     "data": {
      "text/html": [
       "<div>\n",
       "<style scoped>\n",
       "    .dataframe tbody tr th:only-of-type {\n",
       "        vertical-align: middle;\n",
       "    }\n",
       "\n",
       "    .dataframe tbody tr th {\n",
       "        vertical-align: top;\n",
       "    }\n",
       "\n",
       "    .dataframe thead th {\n",
       "        text-align: right;\n",
       "    }\n",
       "</style>\n",
       "<table border=\"1\" class=\"dataframe\">\n",
       "  <thead>\n",
       "    <tr style=\"text-align: right;\">\n",
       "      <th></th>\n",
       "      <th>importances</th>\n",
       "    </tr>\n",
       "  </thead>\n",
       "  <tbody>\n",
       "    <tr>\n",
       "      <th>MSRP_prevMY_WeightedByVol</th>\n",
       "      <td>0.254651</td>\n",
       "    </tr>\n",
       "    <tr>\n",
       "      <th>SPEC_maximum_torque_Nm</th>\n",
       "      <td>0.231389</td>\n",
       "    </tr>\n",
       "    <tr>\n",
       "      <th>SPEC_wheelrim_width_inch</th>\n",
       "      <td>0.115204</td>\n",
       "    </tr>\n",
       "    <tr>\n",
       "      <th>SPEC_rain_sensor</th>\n",
       "      <td>0.098251</td>\n",
       "    </tr>\n",
       "    <tr>\n",
       "      <th>SPEC_doormirror_autodimming</th>\n",
       "      <td>0.087616</td>\n",
       "    </tr>\n",
       "    <tr>\n",
       "      <th>...</th>\n",
       "      <td>...</td>\n",
       "    </tr>\n",
       "    <tr>\n",
       "      <th>SPEC_Readinglight_RR</th>\n",
       "      <td>0.000000</td>\n",
       "    </tr>\n",
       "    <tr>\n",
       "      <th>SPEC_Disc_player</th>\n",
       "      <td>0.000000</td>\n",
       "    </tr>\n",
       "    <tr>\n",
       "      <th>SPEC_Readinglight_FR</th>\n",
       "      <td>0.000000</td>\n",
       "    </tr>\n",
       "    <tr>\n",
       "      <th>SPEC_sunshade</th>\n",
       "      <td>0.000000</td>\n",
       "    </tr>\n",
       "    <tr>\n",
       "      <th>SPEC_runflattire</th>\n",
       "      <td>0.000000</td>\n",
       "    </tr>\n",
       "  </tbody>\n",
       "</table>\n",
       "<p>212 rows × 1 columns</p>\n",
       "</div>"
      ],
      "text/plain": [
       "                             importances\n",
       "MSRP_prevMY_WeightedByVol       0.254651\n",
       "SPEC_maximum_torque_Nm          0.231389\n",
       "SPEC_wheelrim_width_inch        0.115204\n",
       "SPEC_rain_sensor                0.098251\n",
       "SPEC_doormirror_autodimming     0.087616\n",
       "...                                  ...\n",
       "SPEC_Readinglight_RR            0.000000\n",
       "SPEC_Disc_player                0.000000\n",
       "SPEC_Readinglight_FR            0.000000\n",
       "SPEC_sunshade                   0.000000\n",
       "SPEC_runflattire                0.000000\n",
       "\n",
       "[212 rows x 1 columns]"
      ]
     },
     "execution_count": 833,
     "metadata": {},
     "output_type": "execute_result"
    }
   ],
   "source": [
    "AB_importances.sort_values(by='importances', ascending=False)"
   ]
  },
  {
   "attachments": {},
   "cell_type": "markdown",
   "metadata": {},
   "source": [
    "#### XGboost result"
   ]
  },
  {
   "cell_type": "code",
   "execution_count": 834,
   "metadata": {},
   "outputs": [],
   "source": [
    "best_xgboost = xgb.XGBRegressor(**result_dict['xgboost_param'])"
   ]
  },
  {
   "cell_type": "code",
   "execution_count": 835,
   "metadata": {},
   "outputs": [
    {
     "data": {
      "text/html": [
       "<style>#sk-container-id-72 {color: black;background-color: white;}#sk-container-id-72 pre{padding: 0;}#sk-container-id-72 div.sk-toggleable {background-color: white;}#sk-container-id-72 label.sk-toggleable__label {cursor: pointer;display: block;width: 100%;margin-bottom: 0;padding: 0.3em;box-sizing: border-box;text-align: center;}#sk-container-id-72 label.sk-toggleable__label-arrow:before {content: \"▸\";float: left;margin-right: 0.25em;color: #696969;}#sk-container-id-72 label.sk-toggleable__label-arrow:hover:before {color: black;}#sk-container-id-72 div.sk-estimator:hover label.sk-toggleable__label-arrow:before {color: black;}#sk-container-id-72 div.sk-toggleable__content {max-height: 0;max-width: 0;overflow: hidden;text-align: left;background-color: #f0f8ff;}#sk-container-id-72 div.sk-toggleable__content pre {margin: 0.2em;color: black;border-radius: 0.25em;background-color: #f0f8ff;}#sk-container-id-72 input.sk-toggleable__control:checked~div.sk-toggleable__content {max-height: 200px;max-width: 100%;overflow: auto;}#sk-container-id-72 input.sk-toggleable__control:checked~label.sk-toggleable__label-arrow:before {content: \"▾\";}#sk-container-id-72 div.sk-estimator input.sk-toggleable__control:checked~label.sk-toggleable__label {background-color: #d4ebff;}#sk-container-id-72 div.sk-label input.sk-toggleable__control:checked~label.sk-toggleable__label {background-color: #d4ebff;}#sk-container-id-72 input.sk-hidden--visually {border: 0;clip: rect(1px 1px 1px 1px);clip: rect(1px, 1px, 1px, 1px);height: 1px;margin: -1px;overflow: hidden;padding: 0;position: absolute;width: 1px;}#sk-container-id-72 div.sk-estimator {font-family: monospace;background-color: #f0f8ff;border: 1px dotted black;border-radius: 0.25em;box-sizing: border-box;margin-bottom: 0.5em;}#sk-container-id-72 div.sk-estimator:hover {background-color: #d4ebff;}#sk-container-id-72 div.sk-parallel-item::after {content: \"\";width: 100%;border-bottom: 1px solid gray;flex-grow: 1;}#sk-container-id-72 div.sk-label:hover label.sk-toggleable__label {background-color: #d4ebff;}#sk-container-id-72 div.sk-serial::before {content: \"\";position: absolute;border-left: 1px solid gray;box-sizing: border-box;top: 0;bottom: 0;left: 50%;z-index: 0;}#sk-container-id-72 div.sk-serial {display: flex;flex-direction: column;align-items: center;background-color: white;padding-right: 0.2em;padding-left: 0.2em;position: relative;}#sk-container-id-72 div.sk-item {position: relative;z-index: 1;}#sk-container-id-72 div.sk-parallel {display: flex;align-items: stretch;justify-content: center;background-color: white;position: relative;}#sk-container-id-72 div.sk-item::before, #sk-container-id-72 div.sk-parallel-item::before {content: \"\";position: absolute;border-left: 1px solid gray;box-sizing: border-box;top: 0;bottom: 0;left: 50%;z-index: -1;}#sk-container-id-72 div.sk-parallel-item {display: flex;flex-direction: column;z-index: 1;position: relative;background-color: white;}#sk-container-id-72 div.sk-parallel-item:first-child::after {align-self: flex-end;width: 50%;}#sk-container-id-72 div.sk-parallel-item:last-child::after {align-self: flex-start;width: 50%;}#sk-container-id-72 div.sk-parallel-item:only-child::after {width: 0;}#sk-container-id-72 div.sk-dashed-wrapped {border: 1px dashed gray;margin: 0 0.4em 0.5em 0.4em;box-sizing: border-box;padding-bottom: 0.4em;background-color: white;}#sk-container-id-72 div.sk-label label {font-family: monospace;font-weight: bold;display: inline-block;line-height: 1.2em;}#sk-container-id-72 div.sk-label-container {text-align: center;}#sk-container-id-72 div.sk-container {/* jupyter's `normalize.less` sets `[hidden] { display: none; }` but bootstrap.min.css set `[hidden] { display: none !important; }` so we also need the `!important` here to be able to override the default hidden behavior on the sphinx rendered scikit-learn.org. See: https://github.com/scikit-learn/scikit-learn/issues/21755 */display: inline-block !important;position: relative;}#sk-container-id-72 div.sk-text-repr-fallback {display: none;}</style><div id=\"sk-container-id-72\" class=\"sk-top-container\"><div class=\"sk-text-repr-fallback\"><pre>XGBRegressor(base_score=None, booster=None, callbacks=None,\n",
       "             colsample_bylevel=None, colsample_bynode=None,\n",
       "             colsample_bytree=None, early_stopping_rounds=None,\n",
       "             enable_categorical=False, eval_metric=None, feature_types=None,\n",
       "             gamma=0.0, gpu_id=None, grow_policy=None, importance_type=None,\n",
       "             interaction_constraints=None, learning_rate=0.01, max_bin=None,\n",
       "             max_cat_threshold=None, max_cat_to_onehot=None,\n",
       "             max_delta_step=None, max_depth=7, max_leaves=None,\n",
       "             min_child_weight=None, missing=nan, monotone_constraints=None,\n",
       "             n_estimators=1000, n_jobs=None, num_parallel_tree=None,\n",
       "             predictor=None, random_state=1, ...)</pre><b>In a Jupyter environment, please rerun this cell to show the HTML representation or trust the notebook. <br />On GitHub, the HTML representation is unable to render, please try loading this page with nbviewer.org.</b></div><div class=\"sk-container\" hidden><div class=\"sk-item\"><div class=\"sk-estimator sk-toggleable\"><input class=\"sk-toggleable__control sk-hidden--visually\" id=\"sk-estimator-id-72\" type=\"checkbox\" checked><label for=\"sk-estimator-id-72\" class=\"sk-toggleable__label sk-toggleable__label-arrow\">XGBRegressor</label><div class=\"sk-toggleable__content\"><pre>XGBRegressor(base_score=None, booster=None, callbacks=None,\n",
       "             colsample_bylevel=None, colsample_bynode=None,\n",
       "             colsample_bytree=None, early_stopping_rounds=None,\n",
       "             enable_categorical=False, eval_metric=None, feature_types=None,\n",
       "             gamma=0.0, gpu_id=None, grow_policy=None, importance_type=None,\n",
       "             interaction_constraints=None, learning_rate=0.01, max_bin=None,\n",
       "             max_cat_threshold=None, max_cat_to_onehot=None,\n",
       "             max_delta_step=None, max_depth=7, max_leaves=None,\n",
       "             min_child_weight=None, missing=nan, monotone_constraints=None,\n",
       "             n_estimators=1000, n_jobs=None, num_parallel_tree=None,\n",
       "             predictor=None, random_state=1, ...)</pre></div></div></div></div></div>"
      ],
      "text/plain": [
       "XGBRegressor(base_score=None, booster=None, callbacks=None,\n",
       "             colsample_bylevel=None, colsample_bynode=None,\n",
       "             colsample_bytree=None, early_stopping_rounds=None,\n",
       "             enable_categorical=False, eval_metric=None, feature_types=None,\n",
       "             gamma=0.0, gpu_id=None, grow_policy=None, importance_type=None,\n",
       "             interaction_constraints=None, learning_rate=0.01, max_bin=None,\n",
       "             max_cat_threshold=None, max_cat_to_onehot=None,\n",
       "             max_delta_step=None, max_depth=7, max_leaves=None,\n",
       "             min_child_weight=None, missing=nan, monotone_constraints=None,\n",
       "             n_estimators=1000, n_jobs=None, num_parallel_tree=None,\n",
       "             predictor=None, random_state=1, ...)"
      ]
     },
     "execution_count": 835,
     "metadata": {},
     "output_type": "execute_result"
    }
   ],
   "source": [
    "best_xgboost.fit(train_X, train_y)"
   ]
  },
  {
   "cell_type": "code",
   "execution_count": 836,
   "metadata": {},
   "outputs": [],
   "source": [
    "pred_y = best_xgboost.predict(test_X)"
   ]
  },
  {
   "cell_type": "code",
   "execution_count": 837,
   "metadata": {},
   "outputs": [
    {
     "name": "stdout",
     "output_type": "stream",
     "text": [
      "rmse 2265.017705772356\n"
     ]
    },
    {
     "data": {
      "text/plain": [
       "2265.017705772356"
      ]
     },
     "execution_count": 837,
     "metadata": {},
     "output_type": "execute_result"
    }
   ],
   "source": [
    "rmse(np.exp(pred_y), np.exp(test_y['TARGET_Weighted_RetailPrice']).values)"
   ]
  },
  {
   "cell_type": "code",
   "execution_count": 838,
   "metadata": {},
   "outputs": [
    {
     "data": {
      "text/plain": [
       "0.965438449382139"
      ]
     },
     "execution_count": 838,
     "metadata": {},
     "output_type": "execute_result"
    }
   ],
   "source": [
    "r2_score(np.exp(pred_y), np.exp(test_y['TARGET_Weighted_RetailPrice']).values)"
   ]
  },
  {
   "cell_type": "code",
   "execution_count": 839,
   "metadata": {},
   "outputs": [
    {
     "name": "stdout",
     "output_type": "stream",
     "text": [
      "random_forest\n",
      "Best parameter: {'random_state': 1, 'n_estimators': 10, 'min_samples_leaf': 10, 'max_features': 175, 'max_depth': 8}\n",
      "Best Train accuracy: 0.9681359618819058\n",
      "Best Test accuracy: 0.952076594985604\n",
      "Best CV accuracy: 0.9513603958665666\n",
      "adaboost\n",
      "Best parameter: {'random_state': 1, 'n_estimators': 500, 'learning_rate': 1}\n",
      "Best Train accuracy: 0.9347796799407382\n",
      "Best Test accuracy: 0.930135211820272\n",
      "Best CV accuracy: 0.9287190321370197\n",
      "xgboost\n",
      "Best parameter: {'random_state': 1, 'n_estimators': 1000, 'max_depth': 7, 'learning_rate': 0.01, 'gamma': 0.0}\n",
      "Best Train accuracy: 0.9945219460844\n",
      "Best Test accuracy: 0.9830810311371754\n",
      "Best CV accuracy: 0.9823510660310413\n"
     ]
    }
   ],
   "source": [
    "for model in model_list:\n",
    "    print(model)\n",
    "    print('Best parameter:', result_dict[model + '_param'])\n",
    "    print('Best Train accuracy:',result_dict[model + '_trainacc'])\n",
    "    print('Best Test accuracy:',result_dict[model + '_testacc'])\n",
    "    print('Best CV accuracy:',result_dict[model + '_cvacc'])"
   ]
  },
  {
   "attachments": {},
   "cell_type": "markdown",
   "metadata": {},
   "source": [
    "### Model with reduced variables of Intersections (109 variables)"
   ]
  },
  {
   "cell_type": "code",
   "execution_count": 840,
   "metadata": {},
   "outputs": [],
   "source": [
    "featureimp_variables = list(set(RF_vars).intersection(set(XGB_vars)).intersection(set(AB_vars)))"
   ]
  },
  {
   "cell_type": "code",
   "execution_count": 841,
   "metadata": {},
   "outputs": [
    {
     "data": {
      "text/plain": [
       "158"
      ]
     },
     "execution_count": 841,
     "metadata": {},
     "output_type": "execute_result"
    }
   ],
   "source": [
    "len(featureimp_variables)"
   ]
  },
  {
   "cell_type": "code",
   "execution_count": 842,
   "metadata": {},
   "outputs": [],
   "source": [
    "pd.DataFrame(featureimp_variables).to_csv('variables_intersections_'+model_name+'.csv', index=False)"
   ]
  },
  {
   "cell_type": "code",
   "execution_count": 843,
   "metadata": {},
   "outputs": [],
   "source": [
    "X = df_ml.drop(target, axis=1)"
   ]
  },
  {
   "cell_type": "code",
   "execution_count": 844,
   "metadata": {},
   "outputs": [],
   "source": [
    "X_featureimp = X[featureimp_variables]"
   ]
  },
  {
   "cell_type": "code",
   "execution_count": 845,
   "metadata": {},
   "outputs": [],
   "source": [
    "y = df_ml[[target]]"
   ]
  },
  {
   "cell_type": "code",
   "execution_count": 846,
   "metadata": {},
   "outputs": [],
   "source": [
    "y = np.log(y)"
   ]
  },
  {
   "cell_type": "code",
   "execution_count": 847,
   "metadata": {},
   "outputs": [],
   "source": [
    "train_X, test_X, train_y, test_y = train_test_split(X_featureimp, y, train_size=0.7, test_size=0.3, random_state=42)"
   ]
  },
  {
   "cell_type": "code",
   "execution_count": 848,
   "metadata": {},
   "outputs": [
    {
     "name": "stdout",
     "output_type": "stream",
     "text": [
      "random_forest\n",
      "rsquare 0.9489669739735879\n",
      "rsquare 0.9311805486644842\n",
      "rsquare 0.9433987329394563\n",
      "rsquare 0.9491648580194392\n",
      "rsquare 0.9477262614668084\n",
      "rsquare 0.9371684009477568\n",
      "rsquare 0.9413366124303879\n",
      "rsquare 0.9487443797778631\n",
      "rsquare 0.9391846663679932\n",
      "rsquare 0.9442312370926897\n",
      "rsquare 0.8213032349655282\n",
      "rsquare 0.8308311074607272\n",
      "rsquare 0.8564658985630662\n",
      "rsquare 0.8411260677457129\n",
      "rsquare 0.8320325154524032\n",
      "rsquare 0.8251992918128831\n",
      "rsquare 0.8261280080346195\n",
      "rsquare 0.8403921106953018\n",
      "rsquare 0.8217386363449019\n",
      "rsquare 0.8250209476827916\n",
      "rsquare 0.9283304327024131\n",
      "rsquare 0.9165637431112224\n",
      "rsquare 0.9232139986414936\n",
      "rsquare 0.9258560930705775\n",
      "rsquare 0.9281077155444807\n",
      "rsquare 0.9144397933503137\n",
      "rsquare 0.911149956709875\n",
      "rsquare 0.9217004884475882\n",
      "rsquare 0.9153260252580565\n",
      "rsquare 0.9208544528306248\n",
      "rsquare 0.9425562703459023\n",
      "rsquare 0.9369282764103212\n",
      "rsquare 0.9377819151292754\n",
      "rsquare 0.9424918774140034\n",
      "rsquare 0.9425607458767067\n",
      "rsquare 0.9307821138316831\n",
      "rsquare 0.9270834575342685\n",
      "rsquare 0.9443637067838655\n",
      "rsquare 0.9328554673693147\n",
      "rsquare 0.9345501483934432\n",
      "rsquare 0.9529465928462101\n",
      "rsquare 0.943937937625555\n",
      "rsquare 0.9479994498066739\n",
      "rsquare 0.9538570735163452\n",
      "rsquare 0.946459361962691\n",
      "rsquare 0.9432985941761617\n",
      "rsquare 0.9437834624115384\n",
      "rsquare 0.956368349446228\n",
      "rsquare 0.9450200802134523\n",
      "rsquare 0.9441819718220094\n",
      "rsquare 0.9245016197794812\n",
      "rsquare 0.9232308758005705\n",
      "rsquare 0.9280401313644013\n",
      "rsquare 0.9294507560485622\n",
      "rsquare 0.923910768366168\n",
      "rsquare 0.9173888699640487\n",
      "rsquare 0.9139277076960839\n",
      "rsquare 0.924503323772894\n",
      "rsquare 0.9166511294704162\n",
      "rsquare 0.920082914985277\n",
      "rsquare 0.9603736626273773\n",
      "rsquare 0.9567020480413868\n",
      "rsquare 0.953424893067958\n",
      "rsquare 0.9589441387888993\n",
      "rsquare 0.9573314749712827\n",
      "rsquare 0.9511845083415117\n",
      "rsquare 0.9523772332083426\n",
      "rsquare 0.9611657669800183\n",
      "rsquare 0.9551977671387488\n",
      "rsquare 0.9533908521288066\n",
      "rsquare 0.9467010973043228\n",
      "rsquare 0.9449282548094458\n",
      "rsquare 0.9452304909690751\n",
      "rsquare 0.9464412812910155\n",
      "rsquare 0.946529710398622\n",
      "rsquare 0.9367723777863373\n",
      "rsquare 0.9366390728472034\n",
      "rsquare 0.9494104757122562\n",
      "rsquare 0.9397402991432853\n",
      "rsquare 0.9401600061128386\n",
      "rsquare 0.9531337385924847\n",
      "rsquare 0.9463869531897084\n",
      "rsquare 0.9471320000072585\n",
      "rsquare 0.9538938759498277\n",
      "rsquare 0.9510934577708126\n",
      "rsquare 0.9435713070884086\n",
      "rsquare 0.9441103302401932\n",
      "rsquare 0.9545905758755523\n",
      "rsquare 0.9461170856784716\n",
      "rsquare 0.9434485250843428\n",
      "rsquare 0.8865141727513326\n",
      "rsquare 0.881961157312053\n",
      "rsquare 0.8974769944003899\n",
      "rsquare 0.8921852587034456\n",
      "rsquare 0.8936648525396758\n",
      "rsquare 0.8778575851886316\n",
      "rsquare 0.878645158577973\n",
      "rsquare 0.88050449669797\n",
      "rsquare 0.8789900774183942\n",
      "rsquare 0.8859704905734406\n",
      "Best CV params {'random_state': 1, 'n_estimators': 100, 'min_samples_leaf': 10, 'max_features': 123, 'max_depth': 8}\n",
      "Best CV Rsquare 0.9560092345294333\n",
      "rsquare 0.9699538216826193\n",
      "Best train Rsquare 0.9699538216826193\n",
      "rsquare 0.9568053928861208\n",
      "Test RMSE of best grid search hypers: 0.9568053928861208\n",
      "rsquare 0.9568053928861208\n",
      "rsquare 0.9699538216826193\n",
      "adaboost\n",
      "rsquare 0.8487806456087105\n",
      "rsquare 0.7938928592645982\n",
      "rsquare 0.8399546923868307\n",
      "rsquare 0.8339268007231334\n",
      "rsquare 0.855546986846316\n",
      "rsquare 0.8211754882868362\n",
      "rsquare 0.8271564467760947\n",
      "rsquare 0.8243346504754333\n",
      "rsquare 0.8435225776397212\n",
      "rsquare 0.8213432173339976\n",
      "rsquare 0.8572847725230963\n",
      "rsquare 0.8123089792122578\n",
      "rsquare 0.8565731598656084\n",
      "rsquare 0.8427908441322165\n",
      "rsquare 0.8494145754733708\n",
      "rsquare 0.834781608756739\n",
      "rsquare 0.8385495110660579\n",
      "rsquare 0.8430844309214539\n",
      "rsquare 0.8442411582654362\n",
      "rsquare 0.8280800304892152\n",
      "rsquare 0.8846855414673777\n",
      "rsquare 0.8592882124134643\n",
      "rsquare 0.878571049502489\n",
      "rsquare 0.8657210815566986\n",
      "rsquare 0.8871526939470981\n",
      "rsquare 0.8679534992317891\n",
      "rsquare 0.8629866602309418\n",
      "rsquare 0.8750818590343198\n",
      "rsquare 0.8745105658490929\n",
      "rsquare 0.8769982711379947\n",
      "rsquare 0.8370403430749774\n",
      "rsquare 0.7887325153423562\n",
      "rsquare 0.8470624436979993\n",
      "rsquare 0.827169017618015\n",
      "rsquare 0.8334416240026209\n",
      "rsquare 0.827139832844441\n",
      "rsquare 0.8180509882477193\n",
      "rsquare 0.8276081086887277\n",
      "rsquare 0.8243941784278512\n",
      "rsquare 0.8092527003492882\n",
      "rsquare 0.9370297081674474\n",
      "rsquare 0.9265438961529644\n",
      "rsquare 0.9261276057261019\n",
      "rsquare 0.9319899996391293\n",
      "rsquare 0.9335791760128896\n",
      "rsquare 0.928308456111\n",
      "rsquare 0.9146091018703808\n",
      "rsquare 0.9340207351078131\n",
      "rsquare 0.9188492169049037\n",
      "rsquare 0.9260875713803814\n",
      "rsquare 0.8539993101583185\n",
      "rsquare 0.810925991402003\n",
      "rsquare 0.85583980060902\n",
      "rsquare 0.8380486643801193\n",
      "rsquare 0.8538154311748872\n",
      "rsquare 0.8339420183509991\n",
      "rsquare 0.8376914130963878\n",
      "rsquare 0.8419147420212387\n",
      "rsquare 0.8423836605492819\n",
      "rsquare 0.8317446044497979\n",
      "rsquare 0.8439941527394735\n",
      "rsquare 0.7974506098258195\n",
      "rsquare 0.8481000033900835\n",
      "rsquare 0.830435934088068\n",
      "rsquare 0.8399054127570759\n",
      "rsquare 0.830442292357416\n",
      "rsquare 0.8252019169622525\n",
      "rsquare 0.8332948775458858\n",
      "rsquare 0.8330702541916017\n",
      "rsquare 0.814024428404681\n",
      "rsquare 0.8273669817562146\n",
      "rsquare 0.7650519279565162\n",
      "rsquare 0.8231163593581363\n",
      "rsquare 0.8230638088620119\n",
      "rsquare 0.8183992318627049\n",
      "rsquare 0.8088739150661614\n",
      "rsquare 0.8026033026194699\n",
      "rsquare 0.8108878395907331\n",
      "rsquare 0.8122459193559771\n",
      "rsquare 0.7798327500976019\n",
      "rsquare 0.9313351827682104\n",
      "rsquare 0.9144210916193447\n",
      "rsquare 0.9181294174714695\n",
      "rsquare 0.920504599729966\n",
      "rsquare 0.9258950195368855\n",
      "rsquare 0.9142716175860722\n",
      "rsquare 0.9031406291249384\n",
      "rsquare 0.9222091947231986\n",
      "rsquare 0.9101211182254377\n",
      "rsquare 0.9182474080503232\n",
      "rsquare 0.8306747552861964\n",
      "rsquare 0.7909423000884126\n",
      "rsquare 0.8367737482844935\n",
      "rsquare 0.8247594297144447\n",
      "rsquare 0.8238870807563061\n",
      "rsquare 0.8207032079739143\n",
      "rsquare 0.8113092089502876\n",
      "rsquare 0.8155533980690969\n",
      "rsquare 0.8198238443346482\n",
      "rsquare 0.7838650299919088\n",
      "Best CV params {'random_state': 1, 'n_estimators': 300, 'learning_rate': 1}\n",
      "Best CV Rsquare 0.9277145467073012\n",
      "rsquare 0.9326866078251143\n",
      "Best train Rsquare 0.9326866078251143\n",
      "rsquare 0.9270737426821674\n",
      "Test RMSE of best grid search hypers: 0.9270737426821674\n",
      "rsquare 0.9270737426821674\n",
      "rsquare 0.9326866078251143\n",
      "xgboost\n",
      "rsquare 0.833970128191851\n",
      "rsquare 0.7950527969141756\n",
      "rsquare 0.8340282157516123\n",
      "rsquare 0.8262238428775228\n",
      "rsquare 0.8315833514633908\n",
      "rsquare 0.8239771323489853\n",
      "rsquare 0.7971719042378596\n",
      "rsquare 0.816948786893159\n",
      "rsquare 0.8196310210626857\n",
      "rsquare 0.7927546087482786\n",
      "rsquare 0.7512031766025332\n",
      "rsquare 0.7231484122927732\n",
      "rsquare 0.7665739425587681\n",
      "rsquare 0.7445213542036003\n",
      "rsquare 0.7351593114897801\n",
      "rsquare 0.7448780648014721\n",
      "rsquare 0.7378455394447943\n",
      "rsquare 0.7404733706056247\n",
      "rsquare 0.7420103115101921\n",
      "rsquare 0.7177956628219507\n",
      "rsquare 0.7554271389930458\n",
      "rsquare 0.7240292348403243\n",
      "rsquare 0.7449305493200011\n",
      "rsquare 0.7454248624962907\n",
      "rsquare 0.6962229866675856\n",
      "rsquare 0.7338684954198216\n",
      "rsquare 0.7326448453467491\n",
      "rsquare 0.7340066444631675\n",
      "rsquare 0.6991748951622705\n",
      "rsquare 0.7261037617999183\n",
      "rsquare 0.7167788891814327\n",
      "rsquare 0.6811481819693204\n",
      "rsquare 0.7449305493200011\n",
      "rsquare 0.7008883294794689\n",
      "rsquare 0.6962229866675856\n",
      "rsquare 0.7053740117259284\n",
      "rsquare 0.7218686476577745\n",
      "rsquare 0.6957854865955085\n",
      "rsquare 0.6991748951622705\n",
      "rsquare 0.6826694175437544\n",
      "rsquare 0.7803210954941036\n",
      "rsquare 0.8260164533510959\n",
      "rsquare 0.8250650813384421\n",
      "rsquare 0.8063847914940063\n",
      "rsquare 0.7932138700887303\n",
      "rsquare 0.7956693626068049\n",
      "rsquare 0.7907029529034273\n",
      "rsquare 0.8214935490206855\n",
      "rsquare 0.794741781502394\n",
      "rsquare 0.805128545840609\n",
      "rsquare -143.18646402050408\n",
      "rsquare -196.33471756232714\n",
      "rsquare -176.89414655943915\n",
      "rsquare -162.5034492820584\n",
      "rsquare -151.4391053335314\n",
      "rsquare -160.95343676143062\n",
      "rsquare -172.38362589472501\n",
      "rsquare -207.2738467519538\n",
      "rsquare -171.71389106356867\n",
      "rsquare -178.8878274437862\n",
      "rsquare -1109.4034781444839\n",
      "rsquare -1515.7105710364642\n",
      "rsquare -1382.6687251543287\n",
      "rsquare -1266.60086877531\n",
      "rsquare -1176.075825933025\n",
      "rsquare -1248.337857268233\n",
      "rsquare -1334.4121530733944\n",
      "rsquare -1612.869799911697\n",
      "rsquare -1326.964996952556\n",
      "rsquare -1381.6563800924896\n",
      "rsquare -963.68546371774\n",
      "rsquare -1316.6552807791547\n",
      "rsquare -1200.2358085113287\n",
      "rsquare -1099.8162079402634\n",
      "rsquare -1021.439355676102\n",
      "rsquare -1084.3427548090601\n",
      "rsquare -1158.904221285361\n",
      "rsquare -1400.556464885259\n",
      "rsquare -1152.8415437627814\n",
      "rsquare -1200.4038742466412\n",
      "rsquare -433.48379756199074\n",
      "rsquare -592.7986001535947\n",
      "rsquare -538.4699622658055\n",
      "rsquare -493.6259273431304\n",
      "rsquare -458.9448406769482\n",
      "rsquare -487.502157155745\n",
      "rsquare -521.4842699643793\n",
      "rsquare -629.0804159051071\n",
      "rsquare -518.677478619656\n",
      "rsquare -540.3958942977918\n",
      "rsquare -963.6692799926835\n",
      "rsquare -1316.781993976788\n",
      "rsquare -1200.3480359206287\n",
      "rsquare -1099.7811072846584\n",
      "rsquare -1021.4691724519573\n",
      "rsquare -1084.3115629130873\n",
      "rsquare -1158.9695101563323\n",
      "rsquare -1400.4848295239233\n",
      "rsquare -1152.7230263194706\n",
      "rsquare -1200.394023280822\n",
      "Best CV params {'random_state': 1, 'n_estimators': 1000, 'max_depth': 7, 'learning_rate': 1, 'gamma': 3.0}\n",
      "Best CV Rsquare 0.8171341788489521\n",
      "rsquare 0.8449191750464555\n",
      "Best train Rsquare 0.8449191750464555\n",
      "rsquare 0.8392477344436297\n",
      "Test RMSE of best grid search hypers: 0.8392477344436297\n",
      "rsquare 0.8392477344436297\n",
      "rsquare 0.8449191750464555\n"
     ]
    }
   ],
   "source": [
    "result_dict = {}\n",
    "for model in model_list:\n",
    "    print(model)\n",
    "    result_dict[model + '_param'], \\\n",
    "    result_dict[model + '_cvacc'], \\\n",
    "    result_dict[model + '_testacc'],\\\n",
    "    result_dict[model + '_trainacc'] \\\n",
    "    = RandomsearchRegression(models_dict[model], parameters_dct[model])"
   ]
  },
  {
   "attachments": {},
   "cell_type": "markdown",
   "metadata": {},
   "source": [
    "#### Random Forest result"
   ]
  },
  {
   "cell_type": "code",
   "execution_count": 849,
   "metadata": {},
   "outputs": [],
   "source": [
    "# best_randomforest = RandomForestRegressor(random_state= 1, n_estimators= 300, min_samples_leaf= 8, max_features= 26, max_depth= 10)\n",
    "best_randomforest = RandomForestRegressor(**result_dict['random_forest_param'])"
   ]
  },
  {
   "cell_type": "code",
   "execution_count": 850,
   "metadata": {},
   "outputs": [
    {
     "data": {
      "text/html": [
       "<style>#sk-container-id-73 {color: black;background-color: white;}#sk-container-id-73 pre{padding: 0;}#sk-container-id-73 div.sk-toggleable {background-color: white;}#sk-container-id-73 label.sk-toggleable__label {cursor: pointer;display: block;width: 100%;margin-bottom: 0;padding: 0.3em;box-sizing: border-box;text-align: center;}#sk-container-id-73 label.sk-toggleable__label-arrow:before {content: \"▸\";float: left;margin-right: 0.25em;color: #696969;}#sk-container-id-73 label.sk-toggleable__label-arrow:hover:before {color: black;}#sk-container-id-73 div.sk-estimator:hover label.sk-toggleable__label-arrow:before {color: black;}#sk-container-id-73 div.sk-toggleable__content {max-height: 0;max-width: 0;overflow: hidden;text-align: left;background-color: #f0f8ff;}#sk-container-id-73 div.sk-toggleable__content pre {margin: 0.2em;color: black;border-radius: 0.25em;background-color: #f0f8ff;}#sk-container-id-73 input.sk-toggleable__control:checked~div.sk-toggleable__content {max-height: 200px;max-width: 100%;overflow: auto;}#sk-container-id-73 input.sk-toggleable__control:checked~label.sk-toggleable__label-arrow:before {content: \"▾\";}#sk-container-id-73 div.sk-estimator input.sk-toggleable__control:checked~label.sk-toggleable__label {background-color: #d4ebff;}#sk-container-id-73 div.sk-label input.sk-toggleable__control:checked~label.sk-toggleable__label {background-color: #d4ebff;}#sk-container-id-73 input.sk-hidden--visually {border: 0;clip: rect(1px 1px 1px 1px);clip: rect(1px, 1px, 1px, 1px);height: 1px;margin: -1px;overflow: hidden;padding: 0;position: absolute;width: 1px;}#sk-container-id-73 div.sk-estimator {font-family: monospace;background-color: #f0f8ff;border: 1px dotted black;border-radius: 0.25em;box-sizing: border-box;margin-bottom: 0.5em;}#sk-container-id-73 div.sk-estimator:hover {background-color: #d4ebff;}#sk-container-id-73 div.sk-parallel-item::after {content: \"\";width: 100%;border-bottom: 1px solid gray;flex-grow: 1;}#sk-container-id-73 div.sk-label:hover label.sk-toggleable__label {background-color: #d4ebff;}#sk-container-id-73 div.sk-serial::before {content: \"\";position: absolute;border-left: 1px solid gray;box-sizing: border-box;top: 0;bottom: 0;left: 50%;z-index: 0;}#sk-container-id-73 div.sk-serial {display: flex;flex-direction: column;align-items: center;background-color: white;padding-right: 0.2em;padding-left: 0.2em;position: relative;}#sk-container-id-73 div.sk-item {position: relative;z-index: 1;}#sk-container-id-73 div.sk-parallel {display: flex;align-items: stretch;justify-content: center;background-color: white;position: relative;}#sk-container-id-73 div.sk-item::before, #sk-container-id-73 div.sk-parallel-item::before {content: \"\";position: absolute;border-left: 1px solid gray;box-sizing: border-box;top: 0;bottom: 0;left: 50%;z-index: -1;}#sk-container-id-73 div.sk-parallel-item {display: flex;flex-direction: column;z-index: 1;position: relative;background-color: white;}#sk-container-id-73 div.sk-parallel-item:first-child::after {align-self: flex-end;width: 50%;}#sk-container-id-73 div.sk-parallel-item:last-child::after {align-self: flex-start;width: 50%;}#sk-container-id-73 div.sk-parallel-item:only-child::after {width: 0;}#sk-container-id-73 div.sk-dashed-wrapped {border: 1px dashed gray;margin: 0 0.4em 0.5em 0.4em;box-sizing: border-box;padding-bottom: 0.4em;background-color: white;}#sk-container-id-73 div.sk-label label {font-family: monospace;font-weight: bold;display: inline-block;line-height: 1.2em;}#sk-container-id-73 div.sk-label-container {text-align: center;}#sk-container-id-73 div.sk-container {/* jupyter's `normalize.less` sets `[hidden] { display: none; }` but bootstrap.min.css set `[hidden] { display: none !important; }` so we also need the `!important` here to be able to override the default hidden behavior on the sphinx rendered scikit-learn.org. See: https://github.com/scikit-learn/scikit-learn/issues/21755 */display: inline-block !important;position: relative;}#sk-container-id-73 div.sk-text-repr-fallback {display: none;}</style><div id=\"sk-container-id-73\" class=\"sk-top-container\"><div class=\"sk-text-repr-fallback\"><pre>RandomForestRegressor(max_depth=8, max_features=123, min_samples_leaf=10,\n",
       "                      random_state=1)</pre><b>In a Jupyter environment, please rerun this cell to show the HTML representation or trust the notebook. <br />On GitHub, the HTML representation is unable to render, please try loading this page with nbviewer.org.</b></div><div class=\"sk-container\" hidden><div class=\"sk-item\"><div class=\"sk-estimator sk-toggleable\"><input class=\"sk-toggleable__control sk-hidden--visually\" id=\"sk-estimator-id-73\" type=\"checkbox\" checked><label for=\"sk-estimator-id-73\" class=\"sk-toggleable__label sk-toggleable__label-arrow\">RandomForestRegressor</label><div class=\"sk-toggleable__content\"><pre>RandomForestRegressor(max_depth=8, max_features=123, min_samples_leaf=10,\n",
       "                      random_state=1)</pre></div></div></div></div></div>"
      ],
      "text/plain": [
       "RandomForestRegressor(max_depth=8, max_features=123, min_samples_leaf=10,\n",
       "                      random_state=1)"
      ]
     },
     "execution_count": 850,
     "metadata": {},
     "output_type": "execute_result"
    }
   ],
   "source": [
    "best_randomforest.fit(train_X, train_y)"
   ]
  },
  {
   "cell_type": "code",
   "execution_count": 851,
   "metadata": {},
   "outputs": [],
   "source": [
    "pred_y = best_randomforest.predict(test_X)"
   ]
  },
  {
   "cell_type": "code",
   "execution_count": 852,
   "metadata": {},
   "outputs": [
    {
     "name": "stdout",
     "output_type": "stream",
     "text": [
      "rmse 3155.349266763844\n"
     ]
    },
    {
     "data": {
      "text/plain": [
       "3155.349266763844"
      ]
     },
     "execution_count": 852,
     "metadata": {},
     "output_type": "execute_result"
    }
   ],
   "source": [
    "rmse(np.exp(pred_y), np.exp(test_y['TARGET_Weighted_RetailPrice']).values)"
   ]
  },
  {
   "cell_type": "code",
   "execution_count": 853,
   "metadata": {},
   "outputs": [
    {
     "data": {
      "text/plain": [
       "0.9285779859025909"
      ]
     },
     "execution_count": 853,
     "metadata": {},
     "output_type": "execute_result"
    }
   ],
   "source": [
    "r2_score(np.exp(pred_y), np.exp(test_y['TARGET_Weighted_RetailPrice']).values)"
   ]
  },
  {
   "cell_type": "code",
   "execution_count": 854,
   "metadata": {},
   "outputs": [],
   "source": [
    "RF_importances = best_randomforest.feature_importances_"
   ]
  },
  {
   "cell_type": "code",
   "execution_count": 855,
   "metadata": {},
   "outputs": [],
   "source": [
    "feature_names = list(X_featureimp.columns)"
   ]
  },
  {
   "cell_type": "code",
   "execution_count": 856,
   "metadata": {},
   "outputs": [],
   "source": [
    "RF_importances = pd.DataFrame(RF_importances, columns=['importances'], index=feature_names)"
   ]
  },
  {
   "cell_type": "code",
   "execution_count": 857,
   "metadata": {},
   "outputs": [
    {
     "data": {
      "text/html": [
       "<div>\n",
       "<style scoped>\n",
       "    .dataframe tbody tr th:only-of-type {\n",
       "        vertical-align: middle;\n",
       "    }\n",
       "\n",
       "    .dataframe tbody tr th {\n",
       "        vertical-align: top;\n",
       "    }\n",
       "\n",
       "    .dataframe thead th {\n",
       "        text-align: right;\n",
       "    }\n",
       "</style>\n",
       "<table border=\"1\" class=\"dataframe\">\n",
       "  <thead>\n",
       "    <tr style=\"text-align: right;\">\n",
       "      <th></th>\n",
       "      <th>importances</th>\n",
       "    </tr>\n",
       "  </thead>\n",
       "  <tbody>\n",
       "    <tr>\n",
       "      <th>MSRP_prevMY_WeightedByVol</th>\n",
       "      <td>0.456188</td>\n",
       "    </tr>\n",
       "    <tr>\n",
       "      <th>SPEC_maximum_torque_Nm</th>\n",
       "      <td>0.175433</td>\n",
       "    </tr>\n",
       "    <tr>\n",
       "      <th>SPEC_rain_sensor</th>\n",
       "      <td>0.103619</td>\n",
       "    </tr>\n",
       "    <tr>\n",
       "      <th>SPEC_Steering_plastic</th>\n",
       "      <td>0.079548</td>\n",
       "    </tr>\n",
       "    <tr>\n",
       "      <th>SPEC_tire_diameter_inch</th>\n",
       "      <td>0.026247</td>\n",
       "    </tr>\n",
       "    <tr>\n",
       "      <th>...</th>\n",
       "      <td>...</td>\n",
       "    </tr>\n",
       "    <tr>\n",
       "      <th>SPEC_FRPGseat_height_manual</th>\n",
       "      <td>0.000000</td>\n",
       "    </tr>\n",
       "    <tr>\n",
       "      <th>SPEC_Electric_driven_wheels</th>\n",
       "      <td>0.000000</td>\n",
       "    </tr>\n",
       "    <tr>\n",
       "      <th>SPEC_Seatmaterial_vinyl</th>\n",
       "      <td>0.000000</td>\n",
       "    </tr>\n",
       "    <tr>\n",
       "      <th>SPEC_electricBlind</th>\n",
       "      <td>0.000000</td>\n",
       "    </tr>\n",
       "    <tr>\n",
       "      <th>SPEC_parkingassist_auto</th>\n",
       "      <td>0.000000</td>\n",
       "    </tr>\n",
       "  </tbody>\n",
       "</table>\n",
       "<p>158 rows × 1 columns</p>\n",
       "</div>"
      ],
      "text/plain": [
       "                             importances\n",
       "MSRP_prevMY_WeightedByVol       0.456188\n",
       "SPEC_maximum_torque_Nm          0.175433\n",
       "SPEC_rain_sensor                0.103619\n",
       "SPEC_Steering_plastic           0.079548\n",
       "SPEC_tire_diameter_inch         0.026247\n",
       "...                                  ...\n",
       "SPEC_FRPGseat_height_manual     0.000000\n",
       "SPEC_Electric_driven_wheels     0.000000\n",
       "SPEC_Seatmaterial_vinyl         0.000000\n",
       "SPEC_electricBlind              0.000000\n",
       "SPEC_parkingassist_auto         0.000000\n",
       "\n",
       "[158 rows x 1 columns]"
      ]
     },
     "execution_count": 857,
     "metadata": {},
     "output_type": "execute_result"
    }
   ],
   "source": [
    "RF_importances.sort_values(by='importances', ascending=False)"
   ]
  },
  {
   "attachments": {},
   "cell_type": "markdown",
   "metadata": {},
   "source": [
    "#### Adaboost result"
   ]
  },
  {
   "cell_type": "code",
   "execution_count": 858,
   "metadata": {},
   "outputs": [],
   "source": [
    "# best_adaboost= AdaBoostRegressor(random_state=1, n_estimators=500, learning_rate=1)\n",
    "best_adaboost= AdaBoostRegressor(**result_dict['adaboost_param'])"
   ]
  },
  {
   "cell_type": "code",
   "execution_count": 859,
   "metadata": {},
   "outputs": [
    {
     "data": {
      "text/html": [
       "<style>#sk-container-id-74 {color: black;background-color: white;}#sk-container-id-74 pre{padding: 0;}#sk-container-id-74 div.sk-toggleable {background-color: white;}#sk-container-id-74 label.sk-toggleable__label {cursor: pointer;display: block;width: 100%;margin-bottom: 0;padding: 0.3em;box-sizing: border-box;text-align: center;}#sk-container-id-74 label.sk-toggleable__label-arrow:before {content: \"▸\";float: left;margin-right: 0.25em;color: #696969;}#sk-container-id-74 label.sk-toggleable__label-arrow:hover:before {color: black;}#sk-container-id-74 div.sk-estimator:hover label.sk-toggleable__label-arrow:before {color: black;}#sk-container-id-74 div.sk-toggleable__content {max-height: 0;max-width: 0;overflow: hidden;text-align: left;background-color: #f0f8ff;}#sk-container-id-74 div.sk-toggleable__content pre {margin: 0.2em;color: black;border-radius: 0.25em;background-color: #f0f8ff;}#sk-container-id-74 input.sk-toggleable__control:checked~div.sk-toggleable__content {max-height: 200px;max-width: 100%;overflow: auto;}#sk-container-id-74 input.sk-toggleable__control:checked~label.sk-toggleable__label-arrow:before {content: \"▾\";}#sk-container-id-74 div.sk-estimator input.sk-toggleable__control:checked~label.sk-toggleable__label {background-color: #d4ebff;}#sk-container-id-74 div.sk-label input.sk-toggleable__control:checked~label.sk-toggleable__label {background-color: #d4ebff;}#sk-container-id-74 input.sk-hidden--visually {border: 0;clip: rect(1px 1px 1px 1px);clip: rect(1px, 1px, 1px, 1px);height: 1px;margin: -1px;overflow: hidden;padding: 0;position: absolute;width: 1px;}#sk-container-id-74 div.sk-estimator {font-family: monospace;background-color: #f0f8ff;border: 1px dotted black;border-radius: 0.25em;box-sizing: border-box;margin-bottom: 0.5em;}#sk-container-id-74 div.sk-estimator:hover {background-color: #d4ebff;}#sk-container-id-74 div.sk-parallel-item::after {content: \"\";width: 100%;border-bottom: 1px solid gray;flex-grow: 1;}#sk-container-id-74 div.sk-label:hover label.sk-toggleable__label {background-color: #d4ebff;}#sk-container-id-74 div.sk-serial::before {content: \"\";position: absolute;border-left: 1px solid gray;box-sizing: border-box;top: 0;bottom: 0;left: 50%;z-index: 0;}#sk-container-id-74 div.sk-serial {display: flex;flex-direction: column;align-items: center;background-color: white;padding-right: 0.2em;padding-left: 0.2em;position: relative;}#sk-container-id-74 div.sk-item {position: relative;z-index: 1;}#sk-container-id-74 div.sk-parallel {display: flex;align-items: stretch;justify-content: center;background-color: white;position: relative;}#sk-container-id-74 div.sk-item::before, #sk-container-id-74 div.sk-parallel-item::before {content: \"\";position: absolute;border-left: 1px solid gray;box-sizing: border-box;top: 0;bottom: 0;left: 50%;z-index: -1;}#sk-container-id-74 div.sk-parallel-item {display: flex;flex-direction: column;z-index: 1;position: relative;background-color: white;}#sk-container-id-74 div.sk-parallel-item:first-child::after {align-self: flex-end;width: 50%;}#sk-container-id-74 div.sk-parallel-item:last-child::after {align-self: flex-start;width: 50%;}#sk-container-id-74 div.sk-parallel-item:only-child::after {width: 0;}#sk-container-id-74 div.sk-dashed-wrapped {border: 1px dashed gray;margin: 0 0.4em 0.5em 0.4em;box-sizing: border-box;padding-bottom: 0.4em;background-color: white;}#sk-container-id-74 div.sk-label label {font-family: monospace;font-weight: bold;display: inline-block;line-height: 1.2em;}#sk-container-id-74 div.sk-label-container {text-align: center;}#sk-container-id-74 div.sk-container {/* jupyter's `normalize.less` sets `[hidden] { display: none; }` but bootstrap.min.css set `[hidden] { display: none !important; }` so we also need the `!important` here to be able to override the default hidden behavior on the sphinx rendered scikit-learn.org. See: https://github.com/scikit-learn/scikit-learn/issues/21755 */display: inline-block !important;position: relative;}#sk-container-id-74 div.sk-text-repr-fallback {display: none;}</style><div id=\"sk-container-id-74\" class=\"sk-top-container\"><div class=\"sk-text-repr-fallback\"><pre>AdaBoostRegressor(learning_rate=1, n_estimators=300, random_state=1)</pre><b>In a Jupyter environment, please rerun this cell to show the HTML representation or trust the notebook. <br />On GitHub, the HTML representation is unable to render, please try loading this page with nbviewer.org.</b></div><div class=\"sk-container\" hidden><div class=\"sk-item\"><div class=\"sk-estimator sk-toggleable\"><input class=\"sk-toggleable__control sk-hidden--visually\" id=\"sk-estimator-id-74\" type=\"checkbox\" checked><label for=\"sk-estimator-id-74\" class=\"sk-toggleable__label sk-toggleable__label-arrow\">AdaBoostRegressor</label><div class=\"sk-toggleable__content\"><pre>AdaBoostRegressor(learning_rate=1, n_estimators=300, random_state=1)</pre></div></div></div></div></div>"
      ],
      "text/plain": [
       "AdaBoostRegressor(learning_rate=1, n_estimators=300, random_state=1)"
      ]
     },
     "execution_count": 859,
     "metadata": {},
     "output_type": "execute_result"
    }
   ],
   "source": [
    "best_adaboost.fit(train_X, train_y)"
   ]
  },
  {
   "cell_type": "code",
   "execution_count": 860,
   "metadata": {},
   "outputs": [],
   "source": [
    "pred_y = best_adaboost.predict(test_X)"
   ]
  },
  {
   "cell_type": "code",
   "execution_count": 861,
   "metadata": {},
   "outputs": [
    {
     "name": "stdout",
     "output_type": "stream",
     "text": [
      "rmse 3692.2586128396833\n"
     ]
    },
    {
     "data": {
      "text/plain": [
       "3692.2586128396833"
      ]
     },
     "execution_count": 861,
     "metadata": {},
     "output_type": "execute_result"
    }
   ],
   "source": [
    "rmse(np.exp(pred_y), np.exp(test_y['TARGET_Weighted_RetailPrice']).values)"
   ]
  },
  {
   "cell_type": "code",
   "execution_count": 862,
   "metadata": {},
   "outputs": [
    {
     "data": {
      "text/plain": [
       "0.9019730636878942"
      ]
     },
     "execution_count": 862,
     "metadata": {},
     "output_type": "execute_result"
    }
   ],
   "source": [
    "r2_score(np.exp(pred_y), np.exp(test_y['TARGET_Weighted_RetailPrice']).values)"
   ]
  },
  {
   "cell_type": "code",
   "execution_count": 863,
   "metadata": {},
   "outputs": [],
   "source": [
    "AB_importances = best_adaboost.feature_importances_"
   ]
  },
  {
   "cell_type": "code",
   "execution_count": 864,
   "metadata": {},
   "outputs": [],
   "source": [
    "AB_importances = pd.DataFrame(AB_importances, columns=['importances'], index=feature_names)"
   ]
  },
  {
   "cell_type": "code",
   "execution_count": 865,
   "metadata": {},
   "outputs": [
    {
     "data": {
      "text/html": [
       "<div>\n",
       "<style scoped>\n",
       "    .dataframe tbody tr th:only-of-type {\n",
       "        vertical-align: middle;\n",
       "    }\n",
       "\n",
       "    .dataframe tbody tr th {\n",
       "        vertical-align: top;\n",
       "    }\n",
       "\n",
       "    .dataframe thead th {\n",
       "        text-align: right;\n",
       "    }\n",
       "</style>\n",
       "<table border=\"1\" class=\"dataframe\">\n",
       "  <thead>\n",
       "    <tr style=\"text-align: right;\">\n",
       "      <th></th>\n",
       "      <th>importances</th>\n",
       "    </tr>\n",
       "  </thead>\n",
       "  <tbody>\n",
       "    <tr>\n",
       "      <th>MSRP_prevMY_WeightedByVol</th>\n",
       "      <td>0.251276</td>\n",
       "    </tr>\n",
       "    <tr>\n",
       "      <th>SPEC_maximum_torque_Nm</th>\n",
       "      <td>0.243009</td>\n",
       "    </tr>\n",
       "    <tr>\n",
       "      <th>SPEC_wheelrim_width_inch</th>\n",
       "      <td>0.118695</td>\n",
       "    </tr>\n",
       "    <tr>\n",
       "      <th>SPEC_rain_sensor</th>\n",
       "      <td>0.099355</td>\n",
       "    </tr>\n",
       "    <tr>\n",
       "      <th>SPEC_doormirror_autodimming</th>\n",
       "      <td>0.092091</td>\n",
       "    </tr>\n",
       "    <tr>\n",
       "      <th>...</th>\n",
       "      <td>...</td>\n",
       "    </tr>\n",
       "    <tr>\n",
       "      <th>SPEC_entertainmentscreen_touchscreen</th>\n",
       "      <td>0.000000</td>\n",
       "    </tr>\n",
       "    <tr>\n",
       "      <th>SPEC_painted_callipers</th>\n",
       "      <td>0.000000</td>\n",
       "    </tr>\n",
       "    <tr>\n",
       "      <th>SPEC_luxurytrim_centerconsole_gloss</th>\n",
       "      <td>0.000000</td>\n",
       "    </tr>\n",
       "    <tr>\n",
       "      <th>SPEC_Antenna</th>\n",
       "      <td>0.000000</td>\n",
       "    </tr>\n",
       "    <tr>\n",
       "      <th>SPEC_Sunroof_electric</th>\n",
       "      <td>0.000000</td>\n",
       "    </tr>\n",
       "  </tbody>\n",
       "</table>\n",
       "<p>158 rows × 1 columns</p>\n",
       "</div>"
      ],
      "text/plain": [
       "                                      importances\n",
       "MSRP_prevMY_WeightedByVol                0.251276\n",
       "SPEC_maximum_torque_Nm                   0.243009\n",
       "SPEC_wheelrim_width_inch                 0.118695\n",
       "SPEC_rain_sensor                         0.099355\n",
       "SPEC_doormirror_autodimming              0.092091\n",
       "...                                           ...\n",
       "SPEC_entertainmentscreen_touchscreen     0.000000\n",
       "SPEC_painted_callipers                   0.000000\n",
       "SPEC_luxurytrim_centerconsole_gloss      0.000000\n",
       "SPEC_Antenna                             0.000000\n",
       "SPEC_Sunroof_electric                    0.000000\n",
       "\n",
       "[158 rows x 1 columns]"
      ]
     },
     "execution_count": 865,
     "metadata": {},
     "output_type": "execute_result"
    }
   ],
   "source": [
    "AB_importances.sort_values(by='importances', ascending=False)"
   ]
  },
  {
   "attachments": {},
   "cell_type": "markdown",
   "metadata": {},
   "source": [
    "#### XGboost result"
   ]
  },
  {
   "cell_type": "code",
   "execution_count": 866,
   "metadata": {},
   "outputs": [],
   "source": [
    "# best_xgboost = xgb.XGBRegressor(random_state=1, n_estimators=100, max_depth=5, learning_rate=0.1, gamma=0)\n",
    "best_xgboost = xgb.XGBRegressor(**result_dict['xgboost_param'])"
   ]
  },
  {
   "cell_type": "code",
   "execution_count": 867,
   "metadata": {},
   "outputs": [
    {
     "data": {
      "text/html": [
       "<style>#sk-container-id-75 {color: black;background-color: white;}#sk-container-id-75 pre{padding: 0;}#sk-container-id-75 div.sk-toggleable {background-color: white;}#sk-container-id-75 label.sk-toggleable__label {cursor: pointer;display: block;width: 100%;margin-bottom: 0;padding: 0.3em;box-sizing: border-box;text-align: center;}#sk-container-id-75 label.sk-toggleable__label-arrow:before {content: \"▸\";float: left;margin-right: 0.25em;color: #696969;}#sk-container-id-75 label.sk-toggleable__label-arrow:hover:before {color: black;}#sk-container-id-75 div.sk-estimator:hover label.sk-toggleable__label-arrow:before {color: black;}#sk-container-id-75 div.sk-toggleable__content {max-height: 0;max-width: 0;overflow: hidden;text-align: left;background-color: #f0f8ff;}#sk-container-id-75 div.sk-toggleable__content pre {margin: 0.2em;color: black;border-radius: 0.25em;background-color: #f0f8ff;}#sk-container-id-75 input.sk-toggleable__control:checked~div.sk-toggleable__content {max-height: 200px;max-width: 100%;overflow: auto;}#sk-container-id-75 input.sk-toggleable__control:checked~label.sk-toggleable__label-arrow:before {content: \"▾\";}#sk-container-id-75 div.sk-estimator input.sk-toggleable__control:checked~label.sk-toggleable__label {background-color: #d4ebff;}#sk-container-id-75 div.sk-label input.sk-toggleable__control:checked~label.sk-toggleable__label {background-color: #d4ebff;}#sk-container-id-75 input.sk-hidden--visually {border: 0;clip: rect(1px 1px 1px 1px);clip: rect(1px, 1px, 1px, 1px);height: 1px;margin: -1px;overflow: hidden;padding: 0;position: absolute;width: 1px;}#sk-container-id-75 div.sk-estimator {font-family: monospace;background-color: #f0f8ff;border: 1px dotted black;border-radius: 0.25em;box-sizing: border-box;margin-bottom: 0.5em;}#sk-container-id-75 div.sk-estimator:hover {background-color: #d4ebff;}#sk-container-id-75 div.sk-parallel-item::after {content: \"\";width: 100%;border-bottom: 1px solid gray;flex-grow: 1;}#sk-container-id-75 div.sk-label:hover label.sk-toggleable__label {background-color: #d4ebff;}#sk-container-id-75 div.sk-serial::before {content: \"\";position: absolute;border-left: 1px solid gray;box-sizing: border-box;top: 0;bottom: 0;left: 50%;z-index: 0;}#sk-container-id-75 div.sk-serial {display: flex;flex-direction: column;align-items: center;background-color: white;padding-right: 0.2em;padding-left: 0.2em;position: relative;}#sk-container-id-75 div.sk-item {position: relative;z-index: 1;}#sk-container-id-75 div.sk-parallel {display: flex;align-items: stretch;justify-content: center;background-color: white;position: relative;}#sk-container-id-75 div.sk-item::before, #sk-container-id-75 div.sk-parallel-item::before {content: \"\";position: absolute;border-left: 1px solid gray;box-sizing: border-box;top: 0;bottom: 0;left: 50%;z-index: -1;}#sk-container-id-75 div.sk-parallel-item {display: flex;flex-direction: column;z-index: 1;position: relative;background-color: white;}#sk-container-id-75 div.sk-parallel-item:first-child::after {align-self: flex-end;width: 50%;}#sk-container-id-75 div.sk-parallel-item:last-child::after {align-self: flex-start;width: 50%;}#sk-container-id-75 div.sk-parallel-item:only-child::after {width: 0;}#sk-container-id-75 div.sk-dashed-wrapped {border: 1px dashed gray;margin: 0 0.4em 0.5em 0.4em;box-sizing: border-box;padding-bottom: 0.4em;background-color: white;}#sk-container-id-75 div.sk-label label {font-family: monospace;font-weight: bold;display: inline-block;line-height: 1.2em;}#sk-container-id-75 div.sk-label-container {text-align: center;}#sk-container-id-75 div.sk-container {/* jupyter's `normalize.less` sets `[hidden] { display: none; }` but bootstrap.min.css set `[hidden] { display: none !important; }` so we also need the `!important` here to be able to override the default hidden behavior on the sphinx rendered scikit-learn.org. See: https://github.com/scikit-learn/scikit-learn/issues/21755 */display: inline-block !important;position: relative;}#sk-container-id-75 div.sk-text-repr-fallback {display: none;}</style><div id=\"sk-container-id-75\" class=\"sk-top-container\"><div class=\"sk-text-repr-fallback\"><pre>XGBRegressor(base_score=None, booster=None, callbacks=None,\n",
       "             colsample_bylevel=None, colsample_bynode=None,\n",
       "             colsample_bytree=None, early_stopping_rounds=None,\n",
       "             enable_categorical=False, eval_metric=None, feature_types=None,\n",
       "             gamma=3.0, gpu_id=None, grow_policy=None, importance_type=None,\n",
       "             interaction_constraints=None, learning_rate=1, max_bin=None,\n",
       "             max_cat_threshold=None, max_cat_to_onehot=None,\n",
       "             max_delta_step=None, max_depth=7, max_leaves=None,\n",
       "             min_child_weight=None, missing=nan, monotone_constraints=None,\n",
       "             n_estimators=1000, n_jobs=None, num_parallel_tree=None,\n",
       "             predictor=None, random_state=1, ...)</pre><b>In a Jupyter environment, please rerun this cell to show the HTML representation or trust the notebook. <br />On GitHub, the HTML representation is unable to render, please try loading this page with nbviewer.org.</b></div><div class=\"sk-container\" hidden><div class=\"sk-item\"><div class=\"sk-estimator sk-toggleable\"><input class=\"sk-toggleable__control sk-hidden--visually\" id=\"sk-estimator-id-75\" type=\"checkbox\" checked><label for=\"sk-estimator-id-75\" class=\"sk-toggleable__label sk-toggleable__label-arrow\">XGBRegressor</label><div class=\"sk-toggleable__content\"><pre>XGBRegressor(base_score=None, booster=None, callbacks=None,\n",
       "             colsample_bylevel=None, colsample_bynode=None,\n",
       "             colsample_bytree=None, early_stopping_rounds=None,\n",
       "             enable_categorical=False, eval_metric=None, feature_types=None,\n",
       "             gamma=3.0, gpu_id=None, grow_policy=None, importance_type=None,\n",
       "             interaction_constraints=None, learning_rate=1, max_bin=None,\n",
       "             max_cat_threshold=None, max_cat_to_onehot=None,\n",
       "             max_delta_step=None, max_depth=7, max_leaves=None,\n",
       "             min_child_weight=None, missing=nan, monotone_constraints=None,\n",
       "             n_estimators=1000, n_jobs=None, num_parallel_tree=None,\n",
       "             predictor=None, random_state=1, ...)</pre></div></div></div></div></div>"
      ],
      "text/plain": [
       "XGBRegressor(base_score=None, booster=None, callbacks=None,\n",
       "             colsample_bylevel=None, colsample_bynode=None,\n",
       "             colsample_bytree=None, early_stopping_rounds=None,\n",
       "             enable_categorical=False, eval_metric=None, feature_types=None,\n",
       "             gamma=3.0, gpu_id=None, grow_policy=None, importance_type=None,\n",
       "             interaction_constraints=None, learning_rate=1, max_bin=None,\n",
       "             max_cat_threshold=None, max_cat_to_onehot=None,\n",
       "             max_delta_step=None, max_depth=7, max_leaves=None,\n",
       "             min_child_weight=None, missing=nan, monotone_constraints=None,\n",
       "             n_estimators=1000, n_jobs=None, num_parallel_tree=None,\n",
       "             predictor=None, random_state=1, ...)"
      ]
     },
     "execution_count": 867,
     "metadata": {},
     "output_type": "execute_result"
    }
   ],
   "source": [
    "best_xgboost.fit(train_X, train_y)"
   ]
  },
  {
   "cell_type": "code",
   "execution_count": 868,
   "metadata": {},
   "outputs": [],
   "source": [
    "pred_y = best_xgboost.predict(test_X)"
   ]
  },
  {
   "cell_type": "code",
   "execution_count": 869,
   "metadata": {},
   "outputs": [
    {
     "name": "stdout",
     "output_type": "stream",
     "text": [
      "rmse 5457.460809571232\n"
     ]
    },
    {
     "data": {
      "text/plain": [
       "5457.460809571232"
      ]
     },
     "execution_count": 869,
     "metadata": {},
     "output_type": "execute_result"
    }
   ],
   "source": [
    "rmse(np.exp(pred_y), np.exp(test_y['TARGET_Weighted_RetailPrice']).values)"
   ]
  },
  {
   "cell_type": "code",
   "execution_count": 870,
   "metadata": {},
   "outputs": [
    {
     "data": {
      "text/plain": [
       "0.7851917856751724"
      ]
     },
     "execution_count": 870,
     "metadata": {},
     "output_type": "execute_result"
    }
   ],
   "source": [
    "r2_score(np.exp(pred_y), np.exp(test_y['TARGET_Weighted_RetailPrice']).values)"
   ]
  },
  {
   "cell_type": "code",
   "execution_count": 871,
   "metadata": {},
   "outputs": [
    {
     "name": "stdout",
     "output_type": "stream",
     "text": [
      "random_forest\n",
      "Best parameter: {'random_state': 1, 'n_estimators': 100, 'min_samples_leaf': 10, 'max_features': 123, 'max_depth': 8}\n",
      "Best Train accuracy: 0.9699538216826193\n",
      "Best Test accuracy: 0.9568053928861208\n",
      "Best CV accuracy: 0.9560092345294333\n",
      "adaboost\n",
      "Best parameter: {'random_state': 1, 'n_estimators': 300, 'learning_rate': 1}\n",
      "Best Train accuracy: 0.9326866078251143\n",
      "Best Test accuracy: 0.9270737426821674\n",
      "Best CV accuracy: 0.9277145467073012\n",
      "xgboost\n",
      "Best parameter: {'random_state': 1, 'n_estimators': 1000, 'max_depth': 7, 'learning_rate': 1, 'gamma': 3.0}\n",
      "Best Train accuracy: 0.8449191750464555\n",
      "Best Test accuracy: 0.8392477344436297\n",
      "Best CV accuracy: 0.8171341788489521\n"
     ]
    }
   ],
   "source": [
    "for model in model_list:\n",
    "    print(model)\n",
    "    print('Best parameter:', result_dict[model + '_param'])\n",
    "    print('Best Train accuracy:',result_dict[model + '_trainacc'])\n",
    "    print('Best Test accuracy:',result_dict[model + '_testacc'])\n",
    "    print('Best CV accuracy:',result_dict[model + '_cvacc'])"
   ]
  }
 ],
 "metadata": {
  "kernelspec": {
   "display_name": "NLP_env",
   "language": "python",
   "name": "python3"
  },
  "language_info": {
   "codemirror_mode": {
    "name": "ipython",
    "version": 3
   },
   "file_extension": ".py",
   "mimetype": "text/x-python",
   "name": "python",
   "nbconvert_exporter": "python",
   "pygments_lexer": "ipython3",
   "version": "3.8.16"
  },
  "orig_nbformat": 4
 },
 "nbformat": 4,
 "nbformat_minor": 2
}
