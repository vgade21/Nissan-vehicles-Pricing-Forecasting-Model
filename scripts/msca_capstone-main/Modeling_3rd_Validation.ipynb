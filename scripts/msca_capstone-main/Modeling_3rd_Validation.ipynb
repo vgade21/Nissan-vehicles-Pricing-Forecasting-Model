{
 "cells": [
  {
   "cell_type": "code",
   "execution_count": 1,
   "metadata": {},
   "outputs": [],
   "source": [
    "import pandas as pd\n",
    "import seaborn as sns\n",
    "import matplotlib.pyplot as plt\n",
    "import numpy as np\n",
    "import pandas as pd \n",
    "import statsmodels.formula.api as smf \n",
    "import statsmodels.api as sm \n",
    "from sklearn.model_selection import train_test_split \n",
    "import itertools\n",
    "%matplotlib inline\n",
    "import numpy as np\n",
    "from scipy import stats\n",
    "import seaborn as sns\n",
    "from sklearn.ensemble import RandomForestRegressor\n",
    "from sklearn.ensemble import AdaBoostRegressor\n",
    "import warnings\n",
    "warnings.filterwarnings(\"ignore\")\n",
    "from sklearn.preprocessing import StandardScaler\n",
    "from sklearn.linear_model import LinearRegression\n",
    "from sklearn.svm import SVR, LinearSVR\n",
    "from sklearn.tree import DecisionTreeRegressor\n",
    "from sklearn.ensemble import RandomForestRegressor\n",
    "from sklearn.linear_model import SGDRegressor\n",
    "from sklearn.metrics import mean_absolute_error #MAE\n",
    "from sklearn.metrics import mean_squared_error #MSE\n",
    "from sklearn.metrics import make_scorer, r2_score\n",
    "import xgboost as xgb\n",
    "from hyperopt import STATUS_OK, Trials, fmin, hp, tpe"
   ]
  },
  {
   "cell_type": "code",
   "execution_count": 2,
   "metadata": {},
   "outputs": [],
   "source": [
    "def rmse(y_true,y_pred):\n",
    "    rmse = np.sqrt(mean_squared_error(y_true,y_pred))\n",
    "    print('rmse',rmse)\n",
    "    return rmse"
   ]
  },
  {
   "cell_type": "code",
   "execution_count": 3,
   "metadata": {},
   "outputs": [],
   "source": [
    "df_clean = pd.read_csv('../01_Outputs/df_clean.csv')"
   ]
  },
  {
   "cell_type": "code",
   "execution_count": 4,
   "metadata": {},
   "outputs": [],
   "source": [
    "category_table = pd.read_csv('../01_Outputs/Segment_CategoryTable.csv')"
   ]
  },
  {
   "cell_type": "code",
   "execution_count": 5,
   "metadata": {},
   "outputs": [],
   "source": [
    "df_clean = pd.merge(df_clean, category_table, on='Segment_Name', how='left')"
   ]
  },
  {
   "cell_type": "code",
   "execution_count": 6,
   "metadata": {},
   "outputs": [],
   "source": [
    "df_clean['SPEC_length_x_width'] = df_clean['SPEC_overall_length_mm'] * df_clean['SPEC_overall_width_mm']\n",
    "df_clean['SPEC_MYMakeModel'] = df_clean['PROFILE_Model_year'].astype(str) + '_' + df_clean['PROFILE_Make'] + '_' + df_clean['PROFILE_Model']\n",
    "df_clean = df_clean[~(df_clean['Segment_Name']=='SPORTS/PERFORMANCE')]\n",
    "df_clean = df_clean[df_clean['SPEC_Enginetype_BEV']!=1]"
   ]
  },
  {
   "cell_type": "code",
   "execution_count": 7,
   "metadata": {},
   "outputs": [],
   "source": [
    "df_modelgen = pd.read_csv('ModelChangeTiming.csv')"
   ]
  },
  {
   "cell_type": "code",
   "execution_count": 8,
   "metadata": {},
   "outputs": [],
   "source": [
    "df_modelgen['SPEC_MYMakeModel'] = df_modelgen['PROFILE_Model_year'].astype(str) + '_' + df_modelgen['PROFILE_Make'] + '_' + df_modelgen['PROFILE_Model']\n"
   ]
  },
  {
   "cell_type": "code",
   "execution_count": 9,
   "metadata": {},
   "outputs": [],
   "source": [
    "df_pop = df_clean[['PROFILE_Make', 'PROFILE_Model', 'PROFILE_Model_year', 'PROFILE_Version_name','TARGET_Volume', 'TARGET_Weighted_RetailPrice','PROFILE_Body_type', 'CATEGORY']]"
   ]
  },
  {
   "cell_type": "code",
   "execution_count": 10,
   "metadata": {},
   "outputs": [],
   "source": [
    "df_pop['Highest_vol'] = df_pop.groupby(['PROFILE_Make', 'PROFILE_Model','PROFILE_Body_type', 'PROFILE_Model_year'])['TARGET_Volume'].transform('max')\n",
    "df_pop['MostPopGrade'] = df_pop['Highest_vol'] == df_pop['TARGET_Volume']\n",
    "df_pop['SPEC_MYMakeModel'] = df_pop['PROFILE_Model_year'].astype(str) + '_' + df_pop['PROFILE_Make'] + '_' + df_pop['PROFILE_Model']"
   ]
  },
  {
   "cell_type": "code",
   "execution_count": 11,
   "metadata": {},
   "outputs": [],
   "source": [
    "df_pop = pd.merge(df_pop, df_modelgen[['SPEC_MYMakeModel', 'SPEC_Model generation', 'FullModelChange']], on='SPEC_MYMakeModel', how='left')"
   ]
  },
  {
   "cell_type": "code",
   "execution_count": 12,
   "metadata": {},
   "outputs": [],
   "source": [
    "df_pop['SPEC_MYMakeModel'] = df_pop['PROFILE_Model_year'].astype(str) + '_' + df_pop['PROFILE_Make'] + '_' + df_pop['PROFILE_Model'] + '_' + df_pop['PROFILE_Body_type'] "
   ]
  },
  {
   "attachments": {},
   "cell_type": "markdown",
   "metadata": {},
   "source": [
    "## Weighted MSRP Pattern(Same MSRP growing rate for all grades)"
   ]
  },
  {
   "cell_type": "code",
   "execution_count": 13,
   "metadata": {},
   "outputs": [],
   "source": [
    "df_temp = df_pop[['SPEC_MYMakeModel','PROFILE_Model_year','PROFILE_Make','PROFILE_Model','PROFILE_Body_type','TARGET_Volume','TARGET_Weighted_RetailPrice', 'SPEC_Model generation', 'FullModelChange']]\n",
    "df_temp['Volume_x_price'] = df_temp['TARGET_Volume'] * df_temp['TARGET_Weighted_RetailPrice']\n",
    "df_temp['Volume_byMYModel'] = df_temp.groupby('SPEC_MYMakeModel')['TARGET_Volume'].transform('sum')\n",
    "df_temp['Volume_index'] = df_temp['Volume_x_price'] / df_temp['Volume_byMYModel']\n",
    "df_temp['MSRP_WeightedByVol'] = df_temp.groupby('SPEC_MYMakeModel')['Volume_index'].transform('sum')\n",
    "df_featureeng = df_temp.groupby(['PROFILE_Model_year',\\\n",
    "                                 'PROFILE_Make','PROFILE_Model','SPEC_MYMakeModel','SPEC_Model generation', 'FullModelChange','PROFILE_Body_type'])\\\n",
    "                                 [['MSRP_WeightedByVol']].mean().reset_index()"
   ]
  },
  {
   "cell_type": "code",
   "execution_count": 14,
   "metadata": {},
   "outputs": [],
   "source": [
    "df_featureeng['MY_max'] = df_featureeng.groupby(['PROFILE_Make','PROFILE_Model','PROFILE_Body_type' ,'SPEC_Model generation'])['PROFILE_Model_year'].transform('max')\n",
    "df_featureeng['MY_min'] = df_featureeng.groupby(['PROFILE_Make','PROFILE_Model','PROFILE_Body_type' ,'SPEC_Model generation'])['PROFILE_Model_year'].transform('min')"
   ]
  },
  {
   "cell_type": "code",
   "execution_count": 15,
   "metadata": {},
   "outputs": [],
   "source": [
    "df_featureeng = df_featureeng.sort_values(by=['PROFILE_Make', 'PROFILE_Model', 'PROFILE_Body_type', 'PROFILE_Model_year'], ascending=[True, True, True, True])"
   ]
  },
  {
   "cell_type": "code",
   "execution_count": 16,
   "metadata": {},
   "outputs": [],
   "source": [
    "df_featureeng['MY_max_price'] = df_featureeng.apply(lambda x: x['MSRP_WeightedByVol'] if x['MY_max'] == x['PROFILE_Model_year'] else 0, axis=1)\n",
    "df_featureeng['MY_min_price'] = df_featureeng.apply(lambda x: x['MSRP_WeightedByVol'] if x['MY_min'] == x['PROFILE_Model_year'] else 0, axis=1)"
   ]
  },
  {
   "cell_type": "code",
   "execution_count": 17,
   "metadata": {},
   "outputs": [],
   "source": [
    "df_featureeng['MY_max_price'] = df_featureeng.groupby(['PROFILE_Make','PROFILE_Model', 'SPEC_Model generation'])['MY_max_price'].transform('max')\n",
    "df_featureeng['MY_min_price'] = df_featureeng.groupby(['PROFILE_Make','PROFILE_Model', 'SPEC_Model generation'])['MY_min_price'].transform('max')"
   ]
  },
  {
   "cell_type": "code",
   "execution_count": 18,
   "metadata": {},
   "outputs": [],
   "source": [
    "df_featureeng['Years_Modelchange'] = df_featureeng['MY_max'] - df_featureeng['MY_min']"
   ]
  },
  {
   "cell_type": "code",
   "execution_count": 19,
   "metadata": {},
   "outputs": [],
   "source": [
    "df_featureeng['pricingup_rate'] = ((df_featureeng['MY_max_price'] - df_featureeng['MY_min_price'])/df_featureeng['MY_min_price'])/df_featureeng['Years_Modelchange']"
   ]
  },
  {
   "cell_type": "code",
   "execution_count": 20,
   "metadata": {},
   "outputs": [],
   "source": [
    "df_featureeng = df_featureeng[df_featureeng['Years_Modelchange'] >2]"
   ]
  },
  {
   "cell_type": "code",
   "execution_count": 21,
   "metadata": {},
   "outputs": [],
   "source": [
    "df_weighted = pd.merge(df_pop, df_featureeng[['SPEC_MYMakeModel', 'pricingup_rate']], on='SPEC_MYMakeModel', how='left')"
   ]
  },
  {
   "cell_type": "code",
   "execution_count": 22,
   "metadata": {},
   "outputs": [
    {
     "data": {
      "text/plain": [
       "12693"
      ]
     },
     "execution_count": 22,
     "metadata": {},
     "output_type": "execute_result"
    }
   ],
   "source": [
    "len(df_weighted)"
   ]
  },
  {
   "cell_type": "code",
   "execution_count": 23,
   "metadata": {},
   "outputs": [],
   "source": [
    "df_weighted['Forecasted_MSRP'] = 0\n",
    "for i in range(len(df_weighted)):\n",
    "    if df_weighted['FullModelChange'][i] == 1:\n",
    "        try:\n",
    "            Make = df_weighted['PROFILE_Make'][i]\n",
    "            Model = df_weighted['PROFILE_Model'][i]\n",
    "            ModelYear = df_weighted['PROFILE_Model_year'][i]\n",
    "            Version = df_weighted['PROFILE_Version_name'][i]\n",
    "            df_weighted['Forecasted_MSRP'][i] = df_weighted[(df_weighted['PROFILE_Make']==Make)&(df_weighted['PROFILE_Model']==Model)&\\\n",
    "                    (df_weighted['PROFILE_Version_name']==Version)&(df_weighted['PROFILE_Model_year']==ModelYear-1)]['TARGET_Weighted_RetailPrice'] *\\\n",
    "                (1 + df_weighted[(df_weighted['PROFILE_Make']==Make)&(df_weighted['PROFILE_Model']==Model)&\\\n",
    "                    (df_weighted['PROFILE_Version_name']==Version)&(df_weighted['PROFILE_Model_year']==ModelYear-1)]['pricingup_rate'])\n",
    "        except:\n",
    "            pass\n"
   ]
  },
  {
   "attachments": {},
   "cell_type": "markdown",
   "metadata": {},
   "source": [
    "### Not possible to forecast because of the missing data point / Inconsistent grade structures"
   ]
  },
  {
   "cell_type": "code",
   "execution_count": 24,
   "metadata": {},
   "outputs": [
    {
     "data": {
      "text/plain": [
       "0.6682738669238187"
      ]
     },
     "execution_count": 24,
     "metadata": {},
     "output_type": "execute_result"
    }
   ],
   "source": [
    "len(df_weighted[(df_weighted['FullModelChange']==1)&(df_weighted['Forecasted_MSRP']==0)]) / len(df_weighted[df_weighted['FullModelChange']==1])"
   ]
  },
  {
   "attachments": {},
   "cell_type": "markdown",
   "metadata": {},
   "source": [
    "### Calculate RMSE"
   ]
  },
  {
   "cell_type": "code",
   "execution_count": 25,
   "metadata": {},
   "outputs": [],
   "source": [
    "df_weighted_MidPrice_Midsize = df_weighted[df_weighted['CATEGORY'] =='MidPrice_Midsize']\n",
    "df_weighted_LowPrice_Smallsize = df_weighted[df_weighted['CATEGORY'] =='LowPrice_Smallsize']\n",
    "df_weighted_MidPrice_Largesize = df_weighted[df_weighted['CATEGORY'] =='MidPrice_Largesize']"
   ]
  },
  {
   "cell_type": "code",
   "execution_count": 26,
   "metadata": {},
   "outputs": [
    {
     "name": "stdout",
     "output_type": "stream",
     "text": [
      "rmse 4883.14353004708\n"
     ]
    },
    {
     "data": {
      "text/plain": [
       "4883.14353004708"
      ]
     },
     "execution_count": 26,
     "metadata": {},
     "output_type": "execute_result"
    }
   ],
   "source": [
    "df_weighted_MidPrice_Midsize = df_weighted_MidPrice_Midsize[df_weighted_MidPrice_Midsize['Forecasted_MSRP']>0]\n",
    "rmse(df_weighted_MidPrice_Midsize['Forecasted_MSRP'], df_weighted_MidPrice_Midsize['TARGET_Weighted_RetailPrice'])"
   ]
  },
  {
   "cell_type": "code",
   "execution_count": 27,
   "metadata": {},
   "outputs": [
    {
     "name": "stdout",
     "output_type": "stream",
     "text": [
      "rmse 1569.208921947637\n"
     ]
    },
    {
     "data": {
      "text/plain": [
       "1569.208921947637"
      ]
     },
     "execution_count": 27,
     "metadata": {},
     "output_type": "execute_result"
    }
   ],
   "source": [
    "df_weighted_LowPrice_Smallsize = df_weighted_LowPrice_Smallsize[df_weighted_LowPrice_Smallsize['Forecasted_MSRP']>0]\n",
    "rmse(df_weighted_LowPrice_Smallsize['Forecasted_MSRP'], df_weighted_LowPrice_Smallsize['TARGET_Weighted_RetailPrice'])"
   ]
  },
  {
   "cell_type": "code",
   "execution_count": 28,
   "metadata": {},
   "outputs": [
    {
     "name": "stdout",
     "output_type": "stream",
     "text": [
      "rmse 1207.0634290842845\n"
     ]
    },
    {
     "data": {
      "text/plain": [
       "1207.0634290842845"
      ]
     },
     "execution_count": 28,
     "metadata": {},
     "output_type": "execute_result"
    }
   ],
   "source": [
    "df_weighted_MidPrice_Largesize = df_weighted_MidPrice_Largesize[df_weighted_MidPrice_Largesize['Forecasted_MSRP']>0]\n",
    "rmse(df_weighted_MidPrice_Largesize['Forecasted_MSRP'], df_weighted_MidPrice_Largesize['TARGET_Weighted_RetailPrice'])\n"
   ]
  },
  {
   "attachments": {},
   "cell_type": "markdown",
   "metadata": {},
   "source": [
    "# Using Past model's evaluation data"
   ]
  },
  {
   "attachments": {},
   "cell_type": "markdown",
   "metadata": {},
   "source": [
    "### Prepare the same data set as ML modeling"
   ]
  },
  {
   "cell_type": "code",
   "execution_count": 29,
   "metadata": {},
   "outputs": [],
   "source": [
    "df_temp = df_clean[['SPEC_MYMakeModel','PROFILE_Model_year','PROFILE_Make','PROFILE_Model','TARGET_Volume','TARGET_Weighted_RetailPrice', 'RV_12mo','RV_36mo', 'RV_60mo']]\n",
    "df_temp['Volume_x_price'] = df_temp['TARGET_Volume'] * df_temp['TARGET_Weighted_RetailPrice']\n",
    "df_temp['Volume_byMYModel'] = df_temp.groupby('SPEC_MYMakeModel')['TARGET_Volume'].transform('sum')\n",
    "df_temp['Volume_index'] = df_temp['Volume_x_price'] / df_temp['Volume_byMYModel']\n",
    "df_temp['MSRP_WeightedByVol'] = df_temp.groupby('SPEC_MYMakeModel')['Volume_index'].transform('sum')\n",
    "\n",
    "df_temp['Volume_x_RV_12mo'] = df_temp['TARGET_Volume'] * df_temp['RV_12mo']\n",
    "df_temp['Volume_index'] = df_temp['Volume_x_RV_12mo'] / df_temp['Volume_byMYModel']\n",
    "df_temp['RV_12mo_WeightedByVol'] = df_temp.groupby('SPEC_MYMakeModel')['Volume_index'].transform('sum')\n",
    "\n",
    "df_temp['Volume_x_RV_36mo'] = df_temp['TARGET_Volume'] * df_temp['RV_36mo']\n",
    "df_temp['Volume_index'] = df_temp['Volume_x_RV_36mo'] / df_temp['Volume_byMYModel']\n",
    "df_temp['RV_36mo_WeightedByVol'] = df_temp.groupby('SPEC_MYMakeModel')['Volume_index'].transform('sum')\n",
    "\n",
    "df_temp['Volume_x_RV_60mo'] = df_temp['TARGET_Volume'] * df_temp['RV_60mo']\n",
    "df_temp['Volume_index'] = df_temp['Volume_x_RV_60mo'] / df_temp['Volume_byMYModel']\n",
    "df_temp['RV_60mo_WeightedByVol'] = df_temp.groupby('SPEC_MYMakeModel')['Volume_index'].transform('sum')"
   ]
  },
  {
   "cell_type": "code",
   "execution_count": 30,
   "metadata": {},
   "outputs": [],
   "source": [
    "df_featureeng = df_temp.groupby(['PROFILE_Model_year',\\\n",
    "                                 'PROFILE_Make','PROFILE_Model','SPEC_MYMakeModel'])\\\n",
    "[['MSRP_WeightedByVol', 'RV_12mo_WeightedByVol', 'RV_36mo_WeightedByVol', 'RV_60mo_WeightedByVol']].mean().reset_index()"
   ]
  },
  {
   "cell_type": "code",
   "execution_count": 31,
   "metadata": {},
   "outputs": [],
   "source": [
    "df_featureeng = df_featureeng.sort_values(by=['PROFILE_Model', 'PROFILE_Model_year'], ascending=[1,1]).reset_index()"
   ]
  },
  {
   "cell_type": "code",
   "execution_count": 32,
   "metadata": {},
   "outputs": [],
   "source": [
    "grouped = df_featureeng.groupby('PROFILE_Model')\n",
    "df_featureeng['MSRP_prevMY_WeightedByVol'] = grouped['MSRP_WeightedByVol'].shift(1)\n",
    "df_featureeng['MSRP_prevMY_WeightedByVol'] = \\\n",
    "    df_featureeng.apply(lambda x: x['MSRP_WeightedByVol'] \\\n",
    "                        if pd.isna(x['MSRP_prevMY_WeightedByVol']) else x['MSRP_prevMY_WeightedByVol'],axis=1)"
   ]
  },
  {
   "cell_type": "code",
   "execution_count": 33,
   "metadata": {},
   "outputs": [],
   "source": [
    "df_featureeng['RV_12mo_prevMY_WeightedByVol'] = grouped['RV_12mo_WeightedByVol'].shift(1)\n",
    "df_featureeng['RV_12mo_prevMY_WeightedByVol'] = \\\n",
    "    df_featureeng.apply(lambda x: x['RV_12mo_WeightedByVol'] \\\n",
    "                        if pd.isna(x['RV_12mo_prevMY_WeightedByVol']) else x['RV_12mo_prevMY_WeightedByVol'],axis=1)"
   ]
  },
  {
   "cell_type": "code",
   "execution_count": 34,
   "metadata": {},
   "outputs": [],
   "source": [
    "df_featureeng['RV_36mo_prevMY_WeightedByVol'] = grouped['RV_36mo_WeightedByVol'].shift(1)\n",
    "df_featureeng['RV_36mo_prevMY_WeightedByVol'] = \\\n",
    "    df_featureeng.apply(lambda x: x['RV_36mo_WeightedByVol'] \\\n",
    "                        if pd.isna(x['RV_36mo_prevMY_WeightedByVol']) else x['RV_36mo_prevMY_WeightedByVol'],axis=1)"
   ]
  },
  {
   "cell_type": "code",
   "execution_count": 35,
   "metadata": {},
   "outputs": [],
   "source": [
    "df_featureeng['RV_60mo_prevMY_WeightedByVol'] = grouped['RV_60mo_WeightedByVol'].shift(1)\n",
    "df_featureeng['RV_60mo_prevMY_WeightedByVol'] = \\\n",
    "    df_featureeng.apply(lambda x: x['RV_60mo_WeightedByVol'] \\\n",
    "                        if pd.isna(x['RV_60mo_prevMY_WeightedByVol']) else x['RV_60mo_prevMY_WeightedByVol'],axis=1)"
   ]
  },
  {
   "cell_type": "code",
   "execution_count": 36,
   "metadata": {},
   "outputs": [],
   "source": [
    "df_clean = pd.merge(df_clean, df_featureeng[['SPEC_MYMakeModel', 'MSRP_prevMY_WeightedByVol',\n",
    "                                  'RV_12mo_prevMY_WeightedByVol']], on='SPEC_MYMakeModel', how='left')"
   ]
  },
  {
   "attachments": {},
   "cell_type": "markdown",
   "metadata": {},
   "source": [
    "# Give the 2 years before values as assumption to forecast future MSRP"
   ]
  },
  {
   "cell_type": "code",
   "execution_count": 37,
   "metadata": {},
   "outputs": [],
   "source": [
    "df_weighted['SPEC_MYMakeModelVersion'] = df_weighted['PROFILE_Model_year'].astype(str) + '_' + df_weighted['PROFILE_Make'] + '_' + df_weighted['PROFILE_Model']+'_'+ df_weighted['PROFILE_Body_type']  + '_' + df_weighted['PROFILE_Version_name']\n",
    "df_clean['SPEC_MYMakeModelVersion'] = df_clean['PROFILE_Model_year'].astype(str) + '_' + df_clean['PROFILE_Make'] + '_' + df_clean['PROFILE_Model']+'_'+ df_clean['PROFILE_Body_type']  + '_' + df_clean['PROFILE_Version_name']"
   ]
  },
  {
   "cell_type": "code",
   "execution_count": 38,
   "metadata": {},
   "outputs": [],
   "source": [
    "forecasted_models = df_weighted[df_weighted['Forecasted_MSRP']>0]['SPEC_MYMakeModelVersion'].tolist()"
   ]
  },
  {
   "cell_type": "code",
   "execution_count": 39,
   "metadata": {},
   "outputs": [],
   "source": [
    "df_clean['FLAG_Forecasted'] = df_clean['SPEC_MYMakeModelVersion'].apply(lambda x: 1 if x in forecasted_models else 0)"
   ]
  },
  {
   "cell_type": "code",
   "execution_count": 40,
   "metadata": {},
   "outputs": [],
   "source": [
    "df_clean = pd.concat([df_clean, df_weighted[['SPEC_Model generation']]],axis=1)"
   ]
  },
  {
   "cell_type": "code",
   "execution_count": 41,
   "metadata": {},
   "outputs": [],
   "source": [
    "df_clean['SPEC_MYMakeModel_gen'] = df_clean['SPEC_MYMakeModel'] + '_' + df_clean['SPEC_Model generation'].astype(str)"
   ]
  },
  {
   "cell_type": "code",
   "execution_count": 42,
   "metadata": {},
   "outputs": [],
   "source": [
    "backup = df_clean.copy()"
   ]
  },
  {
   "cell_type": "code",
   "execution_count": 64,
   "metadata": {},
   "outputs": [],
   "source": [
    "df_clean = backup.copy()"
   ]
  },
  {
   "cell_type": "code",
   "execution_count": 65,
   "metadata": {},
   "outputs": [
    {
     "name": "stdout",
     "output_type": "stream",
     "text": [
      "965\n",
      "2019_BMW_SERIES 3_7\n",
      "Success:  2019_BMW_SERIES 3_7\n",
      "966\n",
      "2019_BMW_SERIES 3_7\n",
      "Success:  2019_BMW_SERIES 3_7\n",
      "967\n",
      "2019_BMW_SERIES 3_7\n",
      "Success:  2019_BMW_SERIES 3_7\n",
      "968\n",
      "2019_BMW_SERIES 3_7\n",
      "Success:  2019_BMW_SERIES 3_7\n",
      "969\n",
      "2019_BMW_SERIES 3_7\n",
      "Success:  2019_BMW_SERIES 3_7\n",
      "1173\n",
      "2021_BMW_SERIES 4_2\n",
      "Success:  2021_BMW_SERIES 4_2\n",
      "1409\n",
      "2020_BMW_X3_3\n",
      "Success:  2020_BMW_X3_3\n",
      "1411\n",
      "2020_BMW_X3_3\n",
      "Success:  2020_BMW_X3_3\n",
      "1414\n",
      "2020_BMW_X3_3\n",
      "Success:  2020_BMW_X3_3\n",
      "1447\n",
      "2019_BMW_X4_2\n",
      "Success:  2019_BMW_X4_2\n",
      "1525\n",
      "2019_BMW_X5_4\n",
      "Success:  2019_BMW_X5_4\n",
      "1526\n",
      "2019_BMW_X5_4\n",
      "Success:  2019_BMW_X5_4\n",
      "1610\n",
      "2021_CADILLAC_ESCALADE_5\n",
      "Success:  2021_CADILLAC_ESCALADE_5\n",
      "1611\n",
      "2021_CADILLAC_ESCALADE_5\n",
      "Success:  2021_CADILLAC_ESCALADE_5\n",
      "1612\n",
      "2021_CADILLAC_ESCALADE_5\n",
      "Success:  2021_CADILLAC_ESCALADE_5\n",
      "1613\n",
      "2021_CADILLAC_ESCALADE_5\n",
      "Success:  2021_CADILLAC_ESCALADE_5\n",
      "2766\n",
      "2021_CHEVROLET_TAHOE_5\n",
      "Success:  2021_CHEVROLET_TAHOE_5\n",
      "2767\n",
      "2021_CHEVROLET_TAHOE_5\n",
      "Success:  2021_CHEVROLET_TAHOE_5\n",
      "2768\n",
      "2021_CHEVROLET_TAHOE_5\n",
      "Success:  2021_CHEVROLET_TAHOE_5\n",
      "2769\n",
      "2021_CHEVROLET_TAHOE_5\n",
      "Success:  2021_CHEVROLET_TAHOE_5\n",
      "2770\n",
      "2021_CHEVROLET_TAHOE_5\n",
      "Success:  2021_CHEVROLET_TAHOE_5\n",
      "2771\n",
      "2021_CHEVROLET_TAHOE_5\n",
      "Success:  2021_CHEVROLET_TAHOE_5\n",
      "2825\n",
      "2018_CHEVROLET_TRAVERSE_2\n",
      "Success:  2018_CHEVROLET_TRAVERSE_2\n",
      "2826\n",
      "2018_CHEVROLET_TRAVERSE_2\n",
      "Success:  2018_CHEVROLET_TRAVERSE_2\n",
      "2833\n",
      "2018_CHEVROLET_TRAVERSE_2\n",
      "Success:  2018_CHEVROLET_TRAVERSE_2\n",
      "2834\n",
      "2018_CHEVROLET_TRAVERSE_2\n",
      "Success:  2018_CHEVROLET_TRAVERSE_2\n",
      "2835\n",
      "2018_CHEVROLET_TRAVERSE_2\n",
      "Success:  2018_CHEVROLET_TRAVERSE_2\n",
      "2836\n",
      "2018_CHEVROLET_TRAVERSE_2\n",
      "Success:  2018_CHEVROLET_TRAVERSE_2\n",
      "3157\n",
      "2020_FORD_ESCAPE_4\n",
      "Success:  2020_FORD_ESCAPE_4\n",
      "3158\n",
      "2020_FORD_ESCAPE_4\n",
      "Success:  2020_FORD_ESCAPE_4\n",
      "3159\n",
      "2020_FORD_ESCAPE_4\n",
      "Success:  2020_FORD_ESCAPE_4\n",
      "3160\n",
      "2020_FORD_ESCAPE_4\n",
      "Success:  2020_FORD_ESCAPE_4\n",
      "3163\n",
      "2020_FORD_ESCAPE_4\n",
      "Success:  2020_FORD_ESCAPE_4\n",
      "3432\n",
      "2020_FORD_EXPLORER_6\n",
      "Success:  2020_FORD_EXPLORER_6\n",
      "3433\n",
      "2020_FORD_EXPLORER_6\n",
      "Success:  2020_FORD_EXPLORER_6\n",
      "3754\n",
      "2021_FORD_F-150_14\n",
      "Success:  2021_FORD_F-150_14\n",
      "3755\n",
      "2021_FORD_F-150_14\n",
      "Success:  2021_FORD_F-150_14\n",
      "3756\n",
      "2021_FORD_F-150_14\n",
      "Success:  2021_FORD_F-150_14\n",
      "3757\n",
      "2021_FORD_F-150_14\n",
      "Success:  2021_FORD_F-150_14\n",
      "3759\n",
      "2021_FORD_F-150_14\n",
      "Success:  2021_FORD_F-150_14\n",
      "3760\n",
      "2021_FORD_F-150_14\n",
      "Success:  2021_FORD_F-150_14\n",
      "3761\n",
      "2021_FORD_F-150_14\n",
      "Success:  2021_FORD_F-150_14\n",
      "3762\n",
      "2021_FORD_F-150_14\n",
      "Success:  2021_FORD_F-150_14\n",
      "3763\n",
      "2021_FORD_F-150_14\n",
      "Success:  2021_FORD_F-150_14\n",
      "3764\n",
      "2021_FORD_F-150_14\n",
      "Success:  2021_FORD_F-150_14\n",
      "3765\n",
      "2021_FORD_F-150_14\n",
      "Success:  2021_FORD_F-150_14\n",
      "3766\n",
      "2021_FORD_F-150_14\n",
      "Success:  2021_FORD_F-150_14\n",
      "3767\n",
      "2021_FORD_F-150_14\n",
      "Success:  2021_FORD_F-150_14\n",
      "3768\n",
      "2021_FORD_F-150_14\n",
      "Success:  2021_FORD_F-150_14\n",
      "3769\n",
      "2021_FORD_F-150_14\n",
      "Success:  2021_FORD_F-150_14\n",
      "3770\n",
      "2021_FORD_F-150_14\n",
      "Success:  2021_FORD_F-150_14\n",
      "3771\n",
      "2021_FORD_F-150_14\n",
      "Success:  2021_FORD_F-150_14\n",
      "3772\n",
      "2021_FORD_F-150_14\n",
      "Success:  2021_FORD_F-150_14\n",
      "3773\n",
      "2021_FORD_F-150_14\n",
      "Success:  2021_FORD_F-150_14\n",
      "3774\n",
      "2021_FORD_F-150_14\n",
      "Success:  2021_FORD_F-150_14\n",
      "3775\n",
      "2021_FORD_F-150_14\n",
      "Success:  2021_FORD_F-150_14\n",
      "3776\n",
      "2021_FORD_F-150_14\n",
      "Success:  2021_FORD_F-150_14\n",
      "3777\n",
      "2021_FORD_F-150_14\n",
      "Success:  2021_FORD_F-150_14\n",
      "3778\n",
      "2021_FORD_F-150_14\n",
      "Success:  2021_FORD_F-150_14\n",
      "3779\n",
      "2021_FORD_F-150_14\n",
      "Success:  2021_FORD_F-150_14\n",
      "3780\n",
      "2021_FORD_F-150_14\n",
      "Success:  2021_FORD_F-150_14\n",
      "3781\n",
      "2021_FORD_F-150_14\n",
      "Success:  2021_FORD_F-150_14\n",
      "3782\n",
      "2021_FORD_F-150_14\n",
      "Success:  2021_FORD_F-150_14\n",
      "3783\n",
      "2021_FORD_F-150_14\n",
      "Success:  2021_FORD_F-150_14\n",
      "3784\n",
      "2021_FORD_F-150_14\n",
      "Success:  2021_FORD_F-150_14\n",
      "3785\n",
      "2021_FORD_F-150_14\n",
      "Success:  2021_FORD_F-150_14\n",
      "3786\n",
      "2021_FORD_F-150_14\n",
      "Success:  2021_FORD_F-150_14\n",
      "3787\n",
      "2021_FORD_F-150_14\n",
      "Success:  2021_FORD_F-150_14\n",
      "3788\n",
      "2021_FORD_F-150_14\n",
      "Success:  2021_FORD_F-150_14\n",
      "3789\n",
      "2021_FORD_F-150_14\n",
      "Success:  2021_FORD_F-150_14\n",
      "3790\n",
      "2021_FORD_F-150_14\n",
      "Success:  2021_FORD_F-150_14\n",
      "3791\n",
      "2021_FORD_F-150_14\n",
      "Success:  2021_FORD_F-150_14\n",
      "3792\n",
      "2021_FORD_F-150_14\n",
      "Success:  2021_FORD_F-150_14\n",
      "3793\n",
      "2021_FORD_F-150_14\n",
      "Success:  2021_FORD_F-150_14\n",
      "3794\n",
      "2021_FORD_F-150_14\n",
      "Success:  2021_FORD_F-150_14\n",
      "3795\n",
      "2021_FORD_F-150_14\n",
      "Success:  2021_FORD_F-150_14\n",
      "3796\n",
      "2021_FORD_F-150_14\n",
      "Success:  2021_FORD_F-150_14\n",
      "5323\n",
      "2019_GMC_SIERRA 1500_4\n",
      "Success:  2019_GMC_SIERRA 1500_4\n",
      "5324\n",
      "2019_GMC_SIERRA 1500_4\n",
      "Success:  2019_GMC_SIERRA 1500_4\n",
      "5325\n",
      "2019_GMC_SIERRA 1500_4\n",
      "Success:  2019_GMC_SIERRA 1500_4\n",
      "5326\n",
      "2019_GMC_SIERRA 1500_4\n",
      "Success:  2019_GMC_SIERRA 1500_4\n",
      "5327\n",
      "2019_GMC_SIERRA 1500_4\n",
      "Success:  2019_GMC_SIERRA 1500_4\n",
      "5328\n",
      "2019_GMC_SIERRA 1500_4\n",
      "Success:  2019_GMC_SIERRA 1500_4\n",
      "5329\n",
      "2019_GMC_SIERRA 1500_4\n",
      "Success:  2019_GMC_SIERRA 1500_4\n",
      "5330\n",
      "2019_GMC_SIERRA 1500_4\n",
      "Success:  2019_GMC_SIERRA 1500_4\n",
      "5331\n",
      "2019_GMC_SIERRA 1500_4\n",
      "Success:  2019_GMC_SIERRA 1500_4\n",
      "5332\n",
      "2019_GMC_SIERRA 1500_4\n",
      "Success:  2019_GMC_SIERRA 1500_4\n",
      "5339\n",
      "2019_GMC_SIERRA 1500_4\n",
      "Success:  2019_GMC_SIERRA 1500_4\n",
      "5340\n",
      "2019_GMC_SIERRA 1500_4\n",
      "Success:  2019_GMC_SIERRA 1500_4\n",
      "5341\n",
      "2019_GMC_SIERRA 1500_4\n",
      "Success:  2019_GMC_SIERRA 1500_4\n",
      "5342\n",
      "2019_GMC_SIERRA 1500_4\n",
      "Success:  2019_GMC_SIERRA 1500_4\n",
      "5343\n",
      "2019_GMC_SIERRA 1500_4\n",
      "Success:  2019_GMC_SIERRA 1500_4\n",
      "5344\n",
      "2019_GMC_SIERRA 1500_4\n",
      "Success:  2019_GMC_SIERRA 1500_4\n",
      "5345\n",
      "2019_GMC_SIERRA 1500_4\n",
      "Success:  2019_GMC_SIERRA 1500_4\n",
      "5346\n",
      "2019_GMC_SIERRA 1500_4\n",
      "Success:  2019_GMC_SIERRA 1500_4\n",
      "5347\n",
      "2019_GMC_SIERRA 1500_4\n",
      "Success:  2019_GMC_SIERRA 1500_4\n",
      "5348\n",
      "2019_GMC_SIERRA 1500_4\n",
      "Success:  2019_GMC_SIERRA 1500_4\n",
      "5349\n",
      "2019_GMC_SIERRA 1500_4\n",
      "Success:  2019_GMC_SIERRA 1500_4\n",
      "5350\n",
      "2019_GMC_SIERRA 1500_4\n",
      "Success:  2019_GMC_SIERRA 1500_4\n",
      "5351\n",
      "2019_GMC_SIERRA 1500_4\n",
      "Success:  2019_GMC_SIERRA 1500_4\n",
      "5352\n",
      "2019_GMC_SIERRA 1500_4\n",
      "Success:  2019_GMC_SIERRA 1500_4\n",
      "5504\n",
      "2021_GMC_YUKON_5\n",
      "Success:  2021_GMC_YUKON_5\n",
      "5505\n",
      "2021_GMC_YUKON_5\n",
      "Success:  2021_GMC_YUKON_5\n",
      "5506\n",
      "2021_GMC_YUKON_5\n",
      "Success:  2021_GMC_YUKON_5\n",
      "5507\n",
      "2021_GMC_YUKON_5\n",
      "Success:  2021_GMC_YUKON_5\n",
      "5508\n",
      "2021_GMC_YUKON_5\n",
      "Success:  2021_GMC_YUKON_5\n",
      "5509\n",
      "2021_GMC_YUKON_5\n",
      "Success:  2021_GMC_YUKON_5\n",
      "5637\n",
      "2018_HONDA_ACCORD_10\n",
      "Success:  2018_HONDA_ACCORD_10\n",
      "5639\n",
      "2018_HONDA_ACCORD_10\n",
      "Success:  2018_HONDA_ACCORD_10\n",
      "5641\n",
      "2018_HONDA_ACCORD_10\n",
      "Success:  2018_HONDA_ACCORD_10\n",
      "5886\n",
      "2022_HONDA_CIVIC_11\n",
      "Success:  2022_HONDA_CIVIC_11\n",
      "5889\n",
      "2022_HONDA_CIVIC_11\n",
      "Success:  2022_HONDA_CIVIC_11\n",
      "5890\n",
      "2022_HONDA_CIVIC_11\n",
      "Success:  2022_HONDA_CIVIC_11\n",
      "5891\n",
      "2022_HONDA_CIVIC_11\n",
      "Success:  2022_HONDA_CIVIC_11\n",
      "5892\n",
      "2022_HONDA_CIVIC_11\n",
      "Success:  2022_HONDA_CIVIC_11\n",
      "5893\n",
      "2022_HONDA_CIVIC_11\n",
      "Success:  2022_HONDA_CIVIC_11\n",
      "5895\n",
      "2022_HONDA_CIVIC_11\n",
      "Success:  2022_HONDA_CIVIC_11\n",
      "5896\n",
      "2022_HONDA_CIVIC_11\n",
      "Success:  2022_HONDA_CIVIC_11\n",
      "6003\n",
      "2023_HONDA_CR-V_6\n",
      "Success:  2023_HONDA_CR-V_6\n",
      "6004\n",
      "2023_HONDA_CR-V_6\n",
      "Success:  2023_HONDA_CR-V_6\n",
      "6005\n",
      "2023_HONDA_CR-V_6\n",
      "Success:  2023_HONDA_CR-V_6\n",
      "6006\n",
      "2023_HONDA_CR-V_6\n",
      "Success:  2023_HONDA_CR-V_6\n",
      "6277\n",
      "2023_HONDA_PILOT_4\n",
      "Success:  2023_HONDA_PILOT_4\n",
      "6280\n",
      "2023_HONDA_PILOT_4\n",
      "Success:  2023_HONDA_PILOT_4\n",
      "6281\n",
      "2023_HONDA_PILOT_4\n",
      "Success:  2023_HONDA_PILOT_4\n",
      "6282\n",
      "2023_HONDA_PILOT_4\n",
      "Success:  2023_HONDA_PILOT_4\n",
      "6283\n",
      "2023_HONDA_PILOT_4\n",
      "Success:  2023_HONDA_PILOT_4\n",
      "6284\n",
      "2023_HONDA_PILOT_4\n",
      "Success:  2023_HONDA_PILOT_4\n",
      "6285\n",
      "2023_HONDA_PILOT_4\n",
      "Success:  2023_HONDA_PILOT_4\n",
      "6286\n",
      "2023_HONDA_PILOT_4\n",
      "Success:  2023_HONDA_PILOT_4\n",
      "6460\n",
      "2021_HYUNDAI_ELANTRA_7\n",
      "Success:  2021_HYUNDAI_ELANTRA_7\n",
      "6461\n",
      "2021_HYUNDAI_ELANTRA_7\n",
      "Success:  2021_HYUNDAI_ELANTRA_7\n",
      "6462\n",
      "2021_HYUNDAI_ELANTRA_7\n",
      "Success:  2021_HYUNDAI_ELANTRA_7\n",
      "6744\n",
      "2020_HYUNDAI_SONATA_7\n",
      "Success:  2020_HYUNDAI_SONATA_7\n",
      "7550\n",
      "2018_KIA_RIO_4\n",
      "Success:  2018_KIA_RIO_4\n",
      "7552\n",
      "2018_KIA_RIO_4\n",
      "Success:  2018_KIA_RIO_4\n",
      "7554\n",
      "2018_KIA_RIO_4\n",
      "Success:  2018_KIA_RIO_4\n",
      "7555\n",
      "2018_KIA_RIO_4\n",
      "Success:  2018_KIA_RIO_4\n",
      "7556\n",
      "2018_KIA_RIO_4\n",
      "Success:  2018_KIA_RIO_4\n",
      "7785\n",
      "2020_LAND ROVER_RANGE ROVER EVOQUE_2\n",
      "Success:  2020_LAND ROVER_RANGE ROVER EVOQUE_2\n",
      "8067\n",
      "2020_LEXUS_RX_4\n",
      "Success:  2020_LEXUS_RX_4\n",
      "8068\n",
      "2020_LEXUS_RX_4\n",
      "Success:  2020_LEXUS_RX_4\n",
      "8069\n",
      "2020_LEXUS_RX_4\n",
      "Success:  2020_LEXUS_RX_4\n",
      "8070\n",
      "2020_LEXUS_RX_4\n",
      "Success:  2020_LEXUS_RX_4\n",
      "8073\n",
      "2020_LEXUS_RX_4\n",
      "Success:  2020_LEXUS_RX_4\n",
      "8074\n",
      "2020_LEXUS_RX_4\n",
      "Success:  2020_LEXUS_RX_4\n",
      "8075\n",
      "2020_LEXUS_RX_4\n",
      "Success:  2020_LEXUS_RX_4\n",
      "8076\n",
      "2020_LEXUS_RX_4\n",
      "Success:  2020_LEXUS_RX_4\n",
      "8077\n",
      "2020_LEXUS_RX_4\n",
      "Success:  2020_LEXUS_RX_4\n",
      "8079\n",
      "2020_LEXUS_RX_4\n",
      "Success:  2020_LEXUS_RX_4\n",
      "8875\n",
      "2019_MERCEDES_SPRINTER_3\n",
      "Success:  2019_MERCEDES_SPRINTER_3\n",
      "8876\n",
      "2019_MERCEDES_SPRINTER_3\n",
      "Success:  2019_MERCEDES_SPRINTER_3\n",
      "8881\n",
      "2019_MERCEDES_SPRINTER_3\n",
      "Success:  2019_MERCEDES_SPRINTER_3\n",
      "8882\n",
      "2019_MERCEDES_SPRINTER_3\n",
      "Success:  2019_MERCEDES_SPRINTER_3\n",
      "8883\n",
      "2019_MERCEDES_SPRINTER_3\n",
      "Success:  2019_MERCEDES_SPRINTER_3\n",
      "8884\n",
      "2019_MERCEDES_SPRINTER_3\n",
      "Success:  2019_MERCEDES_SPRINTER_3\n",
      "8885\n",
      "2019_MERCEDES_SPRINTER_3\n",
      "Success:  2019_MERCEDES_SPRINTER_3\n",
      "8894\n",
      "2019_MERCEDES_SPRINTER_3\n",
      "Success:  2019_MERCEDES_SPRINTER_3\n",
      "8895\n",
      "2019_MERCEDES_SPRINTER_3\n",
      "Success:  2019_MERCEDES_SPRINTER_3\n",
      "8897\n",
      "2019_MERCEDES_SPRINTER_3\n",
      "Success:  2019_MERCEDES_SPRINTER_3\n",
      "8898\n",
      "2019_MERCEDES_SPRINTER_3\n",
      "Success:  2019_MERCEDES_SPRINTER_3\n",
      "9101\n",
      "2019_NISSAN_ALTIMA_6\n",
      "Success:  2019_NISSAN_ALTIMA_6\n",
      "9103\n",
      "2019_NISSAN_ALTIMA_6\n",
      "Success:  2019_NISSAN_ALTIMA_6\n",
      "9105\n",
      "2019_NISSAN_ALTIMA_6\n",
      "Success:  2019_NISSAN_ALTIMA_6\n",
      "9107\n",
      "2019_NISSAN_ALTIMA_6\n",
      "Success:  2019_NISSAN_ALTIMA_6\n",
      "9335\n",
      "2022_NISSAN_FRONTIER_3\n",
      "Success:  2022_NISSAN_FRONTIER_3\n",
      "9337\n",
      "2022_NISSAN_FRONTIER_3\n",
      "Success:  2022_NISSAN_FRONTIER_3\n",
      "9338\n",
      "2022_NISSAN_FRONTIER_3\n",
      "Success:  2022_NISSAN_FRONTIER_3\n",
      "9339\n",
      "2022_NISSAN_FRONTIER_3\n",
      "Success:  2022_NISSAN_FRONTIER_3\n",
      "9340\n",
      "2022_NISSAN_FRONTIER_3\n",
      "Success:  2022_NISSAN_FRONTIER_3\n",
      "9341\n",
      "2022_NISSAN_FRONTIER_3\n",
      "Success:  2022_NISSAN_FRONTIER_3\n",
      "9342\n",
      "2022_NISSAN_FRONTIER_3\n",
      "Success:  2022_NISSAN_FRONTIER_3\n",
      "9343\n",
      "2022_NISSAN_FRONTIER_3\n",
      "Success:  2022_NISSAN_FRONTIER_3\n",
      "9344\n",
      "2022_NISSAN_FRONTIER_3\n",
      "Success:  2022_NISSAN_FRONTIER_3\n",
      "9345\n",
      "2022_NISSAN_FRONTIER_3\n",
      "Success:  2022_NISSAN_FRONTIER_3\n",
      "9346\n",
      "2022_NISSAN_FRONTIER_3\n",
      "Success:  2022_NISSAN_FRONTIER_3\n",
      "9816\n",
      "2021_NISSAN_ROGUE_3\n",
      "Success:  2021_NISSAN_ROGUE_3\n",
      "9817\n",
      "2021_NISSAN_ROGUE_3\n",
      "Success:  2021_NISSAN_ROGUE_3\n",
      "9818\n",
      "2021_NISSAN_ROGUE_3\n",
      "Success:  2021_NISSAN_ROGUE_3\n",
      "9819\n",
      "2021_NISSAN_ROGUE_3\n",
      "Success:  2021_NISSAN_ROGUE_3\n",
      "9820\n",
      "2021_NISSAN_ROGUE_3\n",
      "Success:  2021_NISSAN_ROGUE_3\n",
      "9821\n",
      "2021_NISSAN_ROGUE_3\n",
      "Success:  2021_NISSAN_ROGUE_3\n",
      "10182\n",
      "2020_NISSAN_VERSA_3\n",
      "Success:  2020_NISSAN_VERSA_3\n",
      "10185\n",
      "2020_NISSAN_VERSA_3\n",
      "Success:  2020_NISSAN_VERSA_3\n",
      "10781\n",
      "2020_RAM_RAM 1500_5\n",
      "Success:  2020_RAM_RAM 1500_5\n",
      "10782\n",
      "2020_RAM_RAM 1500_5\n",
      "Success:  2020_RAM_RAM 1500_5\n",
      "10783\n",
      "2020_RAM_RAM 1500_5\n",
      "Success:  2020_RAM_RAM 1500_5\n",
      "10784\n",
      "2020_RAM_RAM 1500_5\n",
      "Success:  2020_RAM_RAM 1500_5\n",
      "10785\n",
      "2020_RAM_RAM 1500_5\n",
      "Success:  2020_RAM_RAM 1500_5\n",
      "10786\n",
      "2020_RAM_RAM 1500_5\n",
      "Success:  2020_RAM_RAM 1500_5\n",
      "10787\n",
      "2020_RAM_RAM 1500_5\n",
      "Success:  2020_RAM_RAM 1500_5\n",
      "10788\n",
      "2020_RAM_RAM 1500_5\n",
      "Success:  2020_RAM_RAM 1500_5\n",
      "10789\n",
      "2020_RAM_RAM 1500_5\n",
      "Success:  2020_RAM_RAM 1500_5\n",
      "10790\n",
      "2020_RAM_RAM 1500_5\n",
      "Success:  2020_RAM_RAM 1500_5\n",
      "10791\n",
      "2020_RAM_RAM 1500_5\n",
      "Success:  2020_RAM_RAM 1500_5\n",
      "10792\n",
      "2020_RAM_RAM 1500_5\n",
      "Success:  2020_RAM_RAM 1500_5\n",
      "10793\n",
      "2020_RAM_RAM 1500_5\n",
      "Success:  2020_RAM_RAM 1500_5\n",
      "10794\n",
      "2020_RAM_RAM 1500_5\n",
      "Success:  2020_RAM_RAM 1500_5\n",
      "10795\n",
      "2020_RAM_RAM 1500_5\n",
      "Success:  2020_RAM_RAM 1500_5\n",
      "10796\n",
      "2020_RAM_RAM 1500_5\n",
      "Success:  2020_RAM_RAM 1500_5\n",
      "10797\n",
      "2020_RAM_RAM 1500_5\n",
      "Success:  2020_RAM_RAM 1500_5\n",
      "10798\n",
      "2020_RAM_RAM 1500_5\n",
      "Success:  2020_RAM_RAM 1500_5\n",
      "10799\n",
      "2020_RAM_RAM 1500_5\n",
      "Success:  2020_RAM_RAM 1500_5\n",
      "10800\n",
      "2020_RAM_RAM 1500_5\n",
      "Success:  2020_RAM_RAM 1500_5\n",
      "10801\n",
      "2020_RAM_RAM 1500_5\n",
      "Success:  2020_RAM_RAM 1500_5\n",
      "10802\n",
      "2020_RAM_RAM 1500_5\n",
      "Success:  2020_RAM_RAM 1500_5\n",
      "10803\n",
      "2020_RAM_RAM 1500_5\n",
      "Success:  2020_RAM_RAM 1500_5\n",
      "10804\n",
      "2020_RAM_RAM 1500_5\n",
      "Success:  2020_RAM_RAM 1500_5\n",
      "10805\n",
      "2020_RAM_RAM 1500_5\n",
      "Success:  2020_RAM_RAM 1500_5\n",
      "10806\n",
      "2020_RAM_RAM 1500_5\n",
      "Success:  2020_RAM_RAM 1500_5\n",
      "10807\n",
      "2020_RAM_RAM 1500_5\n",
      "Success:  2020_RAM_RAM 1500_5\n",
      "10809\n",
      "2020_RAM_RAM 1500_5\n",
      "Success:  2020_RAM_RAM 1500_5\n",
      "10810\n",
      "2020_RAM_RAM 1500_5\n",
      "Success:  2020_RAM_RAM 1500_5\n",
      "10811\n",
      "2020_RAM_RAM 1500_5\n",
      "Success:  2020_RAM_RAM 1500_5\n",
      "10812\n",
      "2020_RAM_RAM 1500_5\n",
      "Success:  2020_RAM_RAM 1500_5\n",
      "10813\n",
      "2020_RAM_RAM 1500_5\n",
      "Success:  2020_RAM_RAM 1500_5\n",
      "10814\n",
      "2020_RAM_RAM 1500_5\n",
      "Success:  2020_RAM_RAM 1500_5\n",
      "10815\n",
      "2020_RAM_RAM 1500_5\n",
      "Success:  2020_RAM_RAM 1500_5\n",
      "10816\n",
      "2020_RAM_RAM 1500_5\n",
      "Success:  2020_RAM_RAM 1500_5\n",
      "10817\n",
      "2020_RAM_RAM 1500_5\n",
      "Success:  2020_RAM_RAM 1500_5\n",
      "10818\n",
      "2020_RAM_RAM 1500_5\n",
      "Success:  2020_RAM_RAM 1500_5\n",
      "10819\n",
      "2020_RAM_RAM 1500_5\n",
      "Success:  2020_RAM_RAM 1500_5\n",
      "10820\n",
      "2020_RAM_RAM 1500_5\n",
      "Success:  2020_RAM_RAM 1500_5\n",
      "10821\n",
      "2020_RAM_RAM 1500_5\n",
      "Success:  2020_RAM_RAM 1500_5\n",
      "10822\n",
      "2020_RAM_RAM 1500_5\n",
      "Success:  2020_RAM_RAM 1500_5\n",
      "10823\n",
      "2020_RAM_RAM 1500_5\n",
      "Success:  2020_RAM_RAM 1500_5\n",
      "10824\n",
      "2020_RAM_RAM 1500_5\n",
      "Success:  2020_RAM_RAM 1500_5\n",
      "10825\n",
      "2020_RAM_RAM 1500_5\n",
      "Success:  2020_RAM_RAM 1500_5\n",
      "10826\n",
      "2020_RAM_RAM 1500_5\n",
      "Success:  2020_RAM_RAM 1500_5\n",
      "11172\n",
      "2020_SUBARU_LEGACY_6\n",
      "Success:  2020_SUBARU_LEGACY_6\n",
      "11173\n",
      "2020_SUBARU_LEGACY_6\n",
      "Success:  2020_SUBARU_LEGACY_6\n",
      "11174\n",
      "2020_SUBARU_LEGACY_6\n",
      "Success:  2020_SUBARU_LEGACY_6\n",
      "11175\n",
      "2020_SUBARU_LEGACY_6\n",
      "Success:  2020_SUBARU_LEGACY_6\n",
      "11213\n",
      "2018_SUBARU_XV_2\n",
      "Success:  2018_SUBARU_XV_2\n",
      "11215\n",
      "2018_SUBARU_XV_2\n",
      "Success:  2018_SUBARU_XV_2\n",
      "11216\n",
      "2018_SUBARU_XV_2\n",
      "Success:  2018_SUBARU_XV_2\n",
      "11217\n",
      "2018_SUBARU_XV_2\n",
      "Success:  2018_SUBARU_XV_2\n",
      "11358\n",
      "2018_TOYOTA_CAMRY_8\n",
      "Success:  2018_TOYOTA_CAMRY_8\n",
      "11359\n",
      "2018_TOYOTA_CAMRY_8\n",
      "Success:  2018_TOYOTA_CAMRY_8\n",
      "11360\n",
      "2018_TOYOTA_CAMRY_8\n",
      "Success:  2018_TOYOTA_CAMRY_8\n",
      "11361\n",
      "2018_TOYOTA_CAMRY_8\n",
      "Success:  2018_TOYOTA_CAMRY_8\n",
      "11362\n",
      "2018_TOYOTA_CAMRY_8\n",
      "Success:  2018_TOYOTA_CAMRY_8\n",
      "11363\n",
      "2018_TOYOTA_CAMRY_8\n",
      "Success:  2018_TOYOTA_CAMRY_8\n",
      "11364\n",
      "2018_TOYOTA_CAMRY_8\n",
      "Success:  2018_TOYOTA_CAMRY_8\n",
      "11365\n",
      "2018_TOYOTA_CAMRY_8\n",
      "Success:  2018_TOYOTA_CAMRY_8\n",
      "11366\n",
      "2018_TOYOTA_CAMRY_8\n",
      "Success:  2018_TOYOTA_CAMRY_8\n",
      "11509\n",
      "2020_TOYOTA_COROLLA_12\n",
      "Success:  2020_TOYOTA_COROLLA_12\n",
      "11510\n",
      "2020_TOYOTA_COROLLA_12\n",
      "Success:  2020_TOYOTA_COROLLA_12\n",
      "11511\n",
      "2020_TOYOTA_COROLLA_12\n",
      "Success:  2020_TOYOTA_COROLLA_12\n",
      "11664\n",
      "2020_TOYOTA_HIGHLANDER_4\n",
      "Success:  2020_TOYOTA_HIGHLANDER_4\n",
      "11665\n",
      "2020_TOYOTA_HIGHLANDER_4\n",
      "Success:  2020_TOYOTA_HIGHLANDER_4\n",
      "11666\n",
      "2020_TOYOTA_HIGHLANDER_4\n",
      "Success:  2020_TOYOTA_HIGHLANDER_4\n",
      "11667\n",
      "2020_TOYOTA_HIGHLANDER_4\n",
      "Success:  2020_TOYOTA_HIGHLANDER_4\n",
      "11670\n",
      "2020_TOYOTA_HIGHLANDER_4\n",
      "Success:  2020_TOYOTA_HIGHLANDER_4\n",
      "11671\n",
      "2020_TOYOTA_HIGHLANDER_4\n",
      "Success:  2020_TOYOTA_HIGHLANDER_4\n",
      "11895\n",
      "2019_TOYOTA_RAV4_5\n",
      "Success:  2019_TOYOTA_RAV4_5\n",
      "11897\n",
      "2019_TOYOTA_RAV4_5\n",
      "Success:  2019_TOYOTA_RAV4_5\n",
      "11900\n",
      "2019_TOYOTA_RAV4_5\n",
      "Success:  2019_TOYOTA_RAV4_5\n",
      "11901\n",
      "2019_TOYOTA_RAV4_5\n",
      "Success:  2019_TOYOTA_RAV4_5\n",
      "11902\n",
      "2019_TOYOTA_RAV4_5\n",
      "Success:  2019_TOYOTA_RAV4_5\n",
      "11903\n",
      "2019_TOYOTA_RAV4_5\n",
      "Success:  2019_TOYOTA_RAV4_5\n",
      "11904\n",
      "2019_TOYOTA_RAV4_5\n",
      "Success:  2019_TOYOTA_RAV4_5\n",
      "11905\n",
      "2019_TOYOTA_RAV4_5\n",
      "Success:  2019_TOYOTA_RAV4_5\n",
      "12677\n",
      "2019_TOYOTA_YARIS_5\n",
      "Success:  2019_TOYOTA_YARIS_5\n"
     ]
    }
   ],
   "source": [
    "prevyear_items = ['Edmunds','NCBS', 'OAO','RV', 'Inventory']\n",
    "items_dct = {}\n",
    "for item_large in prevyear_items:\n",
    "    items_dct[item_large] = []\n",
    "    for item_small in df_clean.filter(like=item_large).columns:\n",
    "        df_clean['MY_Average_' + item_small] = df_clean.groupby(['SPEC_MYMakeModel_gen'])[item_small].transform('mean')\n",
    "        items_dct[item_large].append(item_small)\n",
    "for i in range(len(df_clean)):\n",
    "    if df_clean['FLAG_Forecasted'][i] == True:\n",
    "        print(i)\n",
    "        Make = df_clean['PROFILE_Make'][i]\n",
    "        Model = df_clean['PROFILE_Model'][i]\n",
    "        ModelYear = df_clean['PROFILE_Model_year'][i]\n",
    "        Version = df_clean['PROFILE_Version_name'][i]\n",
    "        print(df_clean['SPEC_MYMakeModel_gen'][i])\n",
    "        try:\n",
    "            df_clean['MSRP_prevMY_WeightedByVol'][i] = df_clean[(df_clean['PROFILE_Make']==Make)&(df_clean['PROFILE_Model']==Model)&\\\n",
    "                    (df_clean['PROFILE_Model_year']==ModelYear-1)]['MSRP_prevMY_WeightedByVol'].reset_index(drop=True)[0]\n",
    "\n",
    "            for item_large in prevyear_items:\n",
    "                for item_small in items_dct[item_large]:\n",
    "                    df_clean[item_small][i] = \\\n",
    "                    df_clean[(df_clean['PROFILE_Make']==Make)&(df_clean['PROFILE_Model']==Model)&\\\n",
    "                        (df_clean['PROFILE_Model_year']==ModelYear-2)]['MY_Average_' + item_small].reset_index(drop=True)[0]\n",
    "            print('Success: ', df_clean['SPEC_MYMakeModel_gen'][i])\n",
    "        except:\n",
    "            df_clean['FLAG_Forecasted'][i] = False\n",
    "            print('Failure')\n",
    "df_clean = df_clean.drop(list(df_clean.filter(like='MY_Average').columns), axis=1)"
   ]
  },
  {
   "cell_type": "code",
   "execution_count": null,
   "metadata": {},
   "outputs": [],
   "source": [
    "df_clean = df_clean.rename(columns={'SPEC_duration_months1007':'SPEC_Warranty_wholevehicle_duration_Months',\n",
    "                                    'SPEC_duration_months1010':'SPEC_Warranty_powertrain_duration_Months',\n",
    "                                    'SPEC_duration_months1013':'SPEC_Warranty_anticorrosion_duration_Months',\n",
    "                                    'SPEC_duration_months1016':'SPEC_Warranty_paint_duration_Months',\n",
    "                                    'SPEC_distance_km1008':'SPEC_Warranty_wholevehicle_distance_km',\n",
    "                                    'SPEC_distance_km1011':'SPEC_Warranty_powertrain_distance_km',\n",
    "                                    'SPEC_distance_km1014':'SPEC_Warranty_anticorrosion_distance_km',\n",
    "                                    'SPEC_distance_km1017':'SPEC_Warranty_paint_distance_km'})"
   ]
  },
  {
   "cell_type": "code",
   "execution_count": 66,
   "metadata": {},
   "outputs": [],
   "source": [
    "df_model_HighPrice = df_clean[df_clean['CATEGORY'] =='HighPrice'].drop('CATEGORY', axis=1)\n",
    "df_model_MidPrice_Midsize = df_clean[df_clean['CATEGORY'] =='MidPrice_Midsize'].drop('CATEGORY', axis=1)\n",
    "df_model_LowPrice_Smallsize = df_clean[df_clean['CATEGORY'] =='LowPrice_Smallsize'].drop('CATEGORY', axis=1)\n",
    "df_model_MidPrice_Largesize = df_clean[df_clean['CATEGORY'] =='MidPrice_Largesize'].drop('CATEGORY', axis=1)"
   ]
  },
  {
   "attachments": {},
   "cell_type": "markdown",
   "metadata": {},
   "source": [
    "# Machine Learning Evaluation"
   ]
  },
  {
   "attachments": {},
   "cell_type": "markdown",
   "metadata": {},
   "source": [
    "## LowPrice Small size models"
   ]
  },
  {
   "cell_type": "code",
   "execution_count": 126,
   "metadata": {},
   "outputs": [],
   "source": [
    "model_name = 'LowPrice_Smallsize'"
   ]
  },
  {
   "cell_type": "code",
   "execution_count": 127,
   "metadata": {},
   "outputs": [],
   "source": [
    "target = 'TARGET_Weighted_RetailPrice'"
   ]
  },
  {
   "cell_type": "code",
   "execution_count": 128,
   "metadata": {},
   "outputs": [],
   "source": [
    "features = pd.read_csv('../Modeling/Modeling_3rd_EVseparation/variables_union'+ model_name +'.csv')"
   ]
  },
  {
   "cell_type": "code",
   "execution_count": 129,
   "metadata": {},
   "outputs": [],
   "source": [
    "df_test = df_model_LowPrice_Smallsize[df_model_LowPrice_Smallsize['FLAG_Forecasted']==True]"
   ]
  },
  {
   "cell_type": "code",
   "execution_count": 130,
   "metadata": {},
   "outputs": [],
   "source": [
    "df_train = df_model_LowPrice_Smallsize[df_model_LowPrice_Smallsize['FLAG_Forecasted']==False]"
   ]
  },
  {
   "cell_type": "code",
   "execution_count": 131,
   "metadata": {},
   "outputs": [],
   "source": [
    "test_y = df_test[[target]]"
   ]
  },
  {
   "cell_type": "code",
   "execution_count": 132,
   "metadata": {},
   "outputs": [],
   "source": [
    "test_X = df_test[features['0'].str.replace('SPEC_distance_km1011', 'SPEC_Warranty_powertrain_distance_km').values]"
   ]
  },
  {
   "cell_type": "code",
   "execution_count": 133,
   "metadata": {},
   "outputs": [],
   "source": [
    "train_X = df_train[features['0'].str.replace('SPEC_distance_km1011', 'SPEC_Warranty_powertrain_distance_km').values]"
   ]
  },
  {
   "cell_type": "code",
   "execution_count": 134,
   "metadata": {},
   "outputs": [],
   "source": [
    "train_y = df_train[[target]]\n",
    "train_y = np.log(train_y)"
   ]
  },
  {
   "cell_type": "code",
   "execution_count": 139,
   "metadata": {},
   "outputs": [],
   "source": [
    "model = xgb.XGBRegressor(**{'random_state': 1, 'n_estimators': 500, 'max_depth': 3, 'learning_rate': 0.1, 'gamma': 0.0})"
   ]
  },
  {
   "cell_type": "code",
   "execution_count": 140,
   "metadata": {},
   "outputs": [
    {
     "data": {
      "text/html": [
       "<style>#sk-container-id-6 {color: black;background-color: white;}#sk-container-id-6 pre{padding: 0;}#sk-container-id-6 div.sk-toggleable {background-color: white;}#sk-container-id-6 label.sk-toggleable__label {cursor: pointer;display: block;width: 100%;margin-bottom: 0;padding: 0.3em;box-sizing: border-box;text-align: center;}#sk-container-id-6 label.sk-toggleable__label-arrow:before {content: \"▸\";float: left;margin-right: 0.25em;color: #696969;}#sk-container-id-6 label.sk-toggleable__label-arrow:hover:before {color: black;}#sk-container-id-6 div.sk-estimator:hover label.sk-toggleable__label-arrow:before {color: black;}#sk-container-id-6 div.sk-toggleable__content {max-height: 0;max-width: 0;overflow: hidden;text-align: left;background-color: #f0f8ff;}#sk-container-id-6 div.sk-toggleable__content pre {margin: 0.2em;color: black;border-radius: 0.25em;background-color: #f0f8ff;}#sk-container-id-6 input.sk-toggleable__control:checked~div.sk-toggleable__content {max-height: 200px;max-width: 100%;overflow: auto;}#sk-container-id-6 input.sk-toggleable__control:checked~label.sk-toggleable__label-arrow:before {content: \"▾\";}#sk-container-id-6 div.sk-estimator input.sk-toggleable__control:checked~label.sk-toggleable__label {background-color: #d4ebff;}#sk-container-id-6 div.sk-label input.sk-toggleable__control:checked~label.sk-toggleable__label {background-color: #d4ebff;}#sk-container-id-6 input.sk-hidden--visually {border: 0;clip: rect(1px 1px 1px 1px);clip: rect(1px, 1px, 1px, 1px);height: 1px;margin: -1px;overflow: hidden;padding: 0;position: absolute;width: 1px;}#sk-container-id-6 div.sk-estimator {font-family: monospace;background-color: #f0f8ff;border: 1px dotted black;border-radius: 0.25em;box-sizing: border-box;margin-bottom: 0.5em;}#sk-container-id-6 div.sk-estimator:hover {background-color: #d4ebff;}#sk-container-id-6 div.sk-parallel-item::after {content: \"\";width: 100%;border-bottom: 1px solid gray;flex-grow: 1;}#sk-container-id-6 div.sk-label:hover label.sk-toggleable__label {background-color: #d4ebff;}#sk-container-id-6 div.sk-serial::before {content: \"\";position: absolute;border-left: 1px solid gray;box-sizing: border-box;top: 0;bottom: 0;left: 50%;z-index: 0;}#sk-container-id-6 div.sk-serial {display: flex;flex-direction: column;align-items: center;background-color: white;padding-right: 0.2em;padding-left: 0.2em;position: relative;}#sk-container-id-6 div.sk-item {position: relative;z-index: 1;}#sk-container-id-6 div.sk-parallel {display: flex;align-items: stretch;justify-content: center;background-color: white;position: relative;}#sk-container-id-6 div.sk-item::before, #sk-container-id-6 div.sk-parallel-item::before {content: \"\";position: absolute;border-left: 1px solid gray;box-sizing: border-box;top: 0;bottom: 0;left: 50%;z-index: -1;}#sk-container-id-6 div.sk-parallel-item {display: flex;flex-direction: column;z-index: 1;position: relative;background-color: white;}#sk-container-id-6 div.sk-parallel-item:first-child::after {align-self: flex-end;width: 50%;}#sk-container-id-6 div.sk-parallel-item:last-child::after {align-self: flex-start;width: 50%;}#sk-container-id-6 div.sk-parallel-item:only-child::after {width: 0;}#sk-container-id-6 div.sk-dashed-wrapped {border: 1px dashed gray;margin: 0 0.4em 0.5em 0.4em;box-sizing: border-box;padding-bottom: 0.4em;background-color: white;}#sk-container-id-6 div.sk-label label {font-family: monospace;font-weight: bold;display: inline-block;line-height: 1.2em;}#sk-container-id-6 div.sk-label-container {text-align: center;}#sk-container-id-6 div.sk-container {/* jupyter's `normalize.less` sets `[hidden] { display: none; }` but bootstrap.min.css set `[hidden] { display: none !important; }` so we also need the `!important` here to be able to override the default hidden behavior on the sphinx rendered scikit-learn.org. See: https://github.com/scikit-learn/scikit-learn/issues/21755 */display: inline-block !important;position: relative;}#sk-container-id-6 div.sk-text-repr-fallback {display: none;}</style><div id=\"sk-container-id-6\" class=\"sk-top-container\"><div class=\"sk-text-repr-fallback\"><pre>XGBRegressor(base_score=None, booster=None, callbacks=None,\n",
       "             colsample_bylevel=None, colsample_bynode=None,\n",
       "             colsample_bytree=None, early_stopping_rounds=None,\n",
       "             enable_categorical=False, eval_metric=None, feature_types=None,\n",
       "             gamma=0.0, gpu_id=None, grow_policy=None, importance_type=None,\n",
       "             interaction_constraints=None, learning_rate=0.1, max_bin=None,\n",
       "             max_cat_threshold=None, max_cat_to_onehot=None,\n",
       "             max_delta_step=None, max_depth=3, max_leaves=None,\n",
       "             min_child_weight=None, missing=nan, monotone_constraints=None,\n",
       "             n_estimators=500, n_jobs=None, num_parallel_tree=None,\n",
       "             predictor=None, random_state=1, ...)</pre><b>In a Jupyter environment, please rerun this cell to show the HTML representation or trust the notebook. <br />On GitHub, the HTML representation is unable to render, please try loading this page with nbviewer.org.</b></div><div class=\"sk-container\" hidden><div class=\"sk-item\"><div class=\"sk-estimator sk-toggleable\"><input class=\"sk-toggleable__control sk-hidden--visually\" id=\"sk-estimator-id-6\" type=\"checkbox\" checked><label for=\"sk-estimator-id-6\" class=\"sk-toggleable__label sk-toggleable__label-arrow\">XGBRegressor</label><div class=\"sk-toggleable__content\"><pre>XGBRegressor(base_score=None, booster=None, callbacks=None,\n",
       "             colsample_bylevel=None, colsample_bynode=None,\n",
       "             colsample_bytree=None, early_stopping_rounds=None,\n",
       "             enable_categorical=False, eval_metric=None, feature_types=None,\n",
       "             gamma=0.0, gpu_id=None, grow_policy=None, importance_type=None,\n",
       "             interaction_constraints=None, learning_rate=0.1, max_bin=None,\n",
       "             max_cat_threshold=None, max_cat_to_onehot=None,\n",
       "             max_delta_step=None, max_depth=3, max_leaves=None,\n",
       "             min_child_weight=None, missing=nan, monotone_constraints=None,\n",
       "             n_estimators=500, n_jobs=None, num_parallel_tree=None,\n",
       "             predictor=None, random_state=1, ...)</pre></div></div></div></div></div>"
      ],
      "text/plain": [
       "XGBRegressor(base_score=None, booster=None, callbacks=None,\n",
       "             colsample_bylevel=None, colsample_bynode=None,\n",
       "             colsample_bytree=None, early_stopping_rounds=None,\n",
       "             enable_categorical=False, eval_metric=None, feature_types=None,\n",
       "             gamma=0.0, gpu_id=None, grow_policy=None, importance_type=None,\n",
       "             interaction_constraints=None, learning_rate=0.1, max_bin=None,\n",
       "             max_cat_threshold=None, max_cat_to_onehot=None,\n",
       "             max_delta_step=None, max_depth=3, max_leaves=None,\n",
       "             min_child_weight=None, missing=nan, monotone_constraints=None,\n",
       "             n_estimators=500, n_jobs=None, num_parallel_tree=None,\n",
       "             predictor=None, random_state=1, ...)"
      ]
     },
     "execution_count": 140,
     "metadata": {},
     "output_type": "execute_result"
    }
   ],
   "source": [
    "model.fit(train_X, train_y)"
   ]
  },
  {
   "cell_type": "code",
   "execution_count": 141,
   "metadata": {},
   "outputs": [],
   "source": [
    "pred_y = model.predict(test_X)"
   ]
  },
  {
   "cell_type": "code",
   "execution_count": 142,
   "metadata": {},
   "outputs": [
    {
     "name": "stdout",
     "output_type": "stream",
     "text": [
      "rmse 1015.6262577332475\n"
     ]
    },
    {
     "data": {
      "text/plain": [
       "1015.6262577332475"
      ]
     },
     "execution_count": 142,
     "metadata": {},
     "output_type": "execute_result"
    }
   ],
   "source": [
    "rmse(np.exp(pred_y), test_y['TARGET_Weighted_RetailPrice'])"
   ]
  },
  {
   "cell_type": "code",
   "execution_count": 144,
   "metadata": {},
   "outputs": [
    {
     "data": {
      "text/plain": [
       "array([27676.771, 28268.035, 29767.152, 30979.668, 36376.785, 25866.27 ,\n",
       "       31329.754, 34973.207, 26660.719, 29306.047, 29301.66 , 28183.672,\n",
       "       23499.86 , 24185.643, 24373.846, 24601.938, 29213.488, 30433.766,\n",
       "       32832.926, 33277.723, 23775.871, 20268.098, 20052.438, 17944.863,\n",
       "       15428.79 , 17904.06 , 14334.193, 15336.165, 24273.334, 30372.762,\n",
       "       26176.59 , 29074.354, 26104.27 , 27436.676, 31989.14 , 33975.547,\n",
       "       26888.662, 28646.754, 15603.917, 17542.951, 24058.932, 30173.266,\n",
       "       26015.248, 27586.201, 21233.006, 25559.75 , 23071.258, 23606.71 ,\n",
       "       23811.496, 27885.57 , 25601.59 , 28861.275, 27921.068, 32113.578,\n",
       "       28607.305, 33905.37 , 34242.28 , 19526.17 , 19598.574, 21948.23 ,\n",
       "       29029.193, 34673.12 , 24069.535, 25196.453, 32089.79 , 32827.32 ,\n",
       "       27036.387, 27345.38 , 16377.189], dtype=float32)"
      ]
     },
     "execution_count": 144,
     "metadata": {},
     "output_type": "execute_result"
    }
   ],
   "source": [
    "np.exp(pred_y)"
   ]
  },
  {
   "cell_type": "code",
   "execution_count": 145,
   "metadata": {},
   "outputs": [
    {
     "data": {
      "text/plain": [
       "3157     27099.109589\n",
       "3158     28599.109589\n",
       "3159     29259.109589\n",
       "3160     30759.109589\n",
       "3163     36715.000000\n",
       "             ...     \n",
       "11902    33575.089180\n",
       "11903    34975.089180\n",
       "11904    27375.089180\n",
       "11905    28775.089180\n",
       "12677    15499.315068\n",
       "Name: TARGET_Weighted_RetailPrice, Length: 69, dtype: float64"
      ]
     },
     "execution_count": 145,
     "metadata": {},
     "output_type": "execute_result"
    }
   ],
   "source": [
    "test_y['TARGET_Weighted_RetailPrice']"
   ]
  },
  {
   "attachments": {},
   "cell_type": "markdown",
   "metadata": {},
   "source": [
    "## MidPrice_Largesize"
   ]
  },
  {
   "cell_type": "code",
   "execution_count": 183,
   "metadata": {},
   "outputs": [],
   "source": [
    "model_name = 'MidPrice_Largesize'"
   ]
  },
  {
   "cell_type": "code",
   "execution_count": 184,
   "metadata": {},
   "outputs": [],
   "source": [
    "target = 'TARGET_Weighted_RetailPrice'\n",
    "model_gen = '3rd'"
   ]
  },
  {
   "cell_type": "code",
   "execution_count": 185,
   "metadata": {},
   "outputs": [],
   "source": [
    "features = pd.read_csv('../01_Outputs/modeling_'+ model_gen + '/df_model_'+model_name+'.csv').dropna()"
   ]
  },
  {
   "cell_type": "code",
   "execution_count": 186,
   "metadata": {},
   "outputs": [],
   "source": [
    "features = features.rename(columns={'SPEC_duration_months1007':'SPEC_Warranty_wholevehicle_duration_Months',\n",
    "                                    'SPEC_duration_months1010':'SPEC_Warranty_powertrain_duration_Months',\n",
    "                                    'SPEC_duration_months1013':'SPEC_Warranty_anticorrosion_duration_Months',\n",
    "                                    'SPEC_duration_months1016':'SPEC_Warranty_paint_duration_Months',\n",
    "                                    'SPEC_distance_km1008':'SPEC_Warranty_wholevehicle_distance_km',\n",
    "                                    'SPEC_distance_km1011':'SPEC_Warranty_powertrain_distance_km',\n",
    "                                    'SPEC_distance_km1014':'SPEC_Warranty_anticorrosion_distance_km',\n",
    "                                    'SPEC_distance_km1017':'SPEC_Warranty_paint_distance_km'})"
   ]
  },
  {
   "cell_type": "code",
   "execution_count": 187,
   "metadata": {},
   "outputs": [],
   "source": [
    "features = features.columns"
   ]
  },
  {
   "cell_type": "code",
   "execution_count": 188,
   "metadata": {},
   "outputs": [],
   "source": [
    "df_test = df_model_LowPrice_Smallsize[df_model_LowPrice_Smallsize['FLAG_Forecasted']==True]"
   ]
  },
  {
   "cell_type": "code",
   "execution_count": 189,
   "metadata": {},
   "outputs": [],
   "source": [
    "df_train = df_model_LowPrice_Smallsize[df_model_LowPrice_Smallsize['FLAG_Forecasted']==False]"
   ]
  },
  {
   "cell_type": "code",
   "execution_count": 190,
   "metadata": {},
   "outputs": [],
   "source": [
    "test_y = df_test[[target]]"
   ]
  },
  {
   "cell_type": "code",
   "execution_count": 191,
   "metadata": {},
   "outputs": [],
   "source": [
    "test_X = df_test[features].drop(target, axis=1)"
   ]
  },
  {
   "cell_type": "code",
   "execution_count": 192,
   "metadata": {},
   "outputs": [],
   "source": [
    "train_X = df_train[features].drop(target, axis=1)"
   ]
  },
  {
   "cell_type": "code",
   "execution_count": 193,
   "metadata": {},
   "outputs": [],
   "source": [
    "train_y = df_train[[target]]\n",
    "train_y = np.log(train_y)"
   ]
  },
  {
   "cell_type": "code",
   "execution_count": 194,
   "metadata": {},
   "outputs": [],
   "source": [
    "model = xgb.XGBRegressor(**{'random_state': 1, 'n_estimators': 500, 'max_depth': 7, 'learning_rate': 0.1, 'gamma': 0.0})"
   ]
  },
  {
   "cell_type": "code",
   "execution_count": 195,
   "metadata": {},
   "outputs": [
    {
     "data": {
      "text/html": [
       "<style>#sk-container-id-9 {color: black;background-color: white;}#sk-container-id-9 pre{padding: 0;}#sk-container-id-9 div.sk-toggleable {background-color: white;}#sk-container-id-9 label.sk-toggleable__label {cursor: pointer;display: block;width: 100%;margin-bottom: 0;padding: 0.3em;box-sizing: border-box;text-align: center;}#sk-container-id-9 label.sk-toggleable__label-arrow:before {content: \"▸\";float: left;margin-right: 0.25em;color: #696969;}#sk-container-id-9 label.sk-toggleable__label-arrow:hover:before {color: black;}#sk-container-id-9 div.sk-estimator:hover label.sk-toggleable__label-arrow:before {color: black;}#sk-container-id-9 div.sk-toggleable__content {max-height: 0;max-width: 0;overflow: hidden;text-align: left;background-color: #f0f8ff;}#sk-container-id-9 div.sk-toggleable__content pre {margin: 0.2em;color: black;border-radius: 0.25em;background-color: #f0f8ff;}#sk-container-id-9 input.sk-toggleable__control:checked~div.sk-toggleable__content {max-height: 200px;max-width: 100%;overflow: auto;}#sk-container-id-9 input.sk-toggleable__control:checked~label.sk-toggleable__label-arrow:before {content: \"▾\";}#sk-container-id-9 div.sk-estimator input.sk-toggleable__control:checked~label.sk-toggleable__label {background-color: #d4ebff;}#sk-container-id-9 div.sk-label input.sk-toggleable__control:checked~label.sk-toggleable__label {background-color: #d4ebff;}#sk-container-id-9 input.sk-hidden--visually {border: 0;clip: rect(1px 1px 1px 1px);clip: rect(1px, 1px, 1px, 1px);height: 1px;margin: -1px;overflow: hidden;padding: 0;position: absolute;width: 1px;}#sk-container-id-9 div.sk-estimator {font-family: monospace;background-color: #f0f8ff;border: 1px dotted black;border-radius: 0.25em;box-sizing: border-box;margin-bottom: 0.5em;}#sk-container-id-9 div.sk-estimator:hover {background-color: #d4ebff;}#sk-container-id-9 div.sk-parallel-item::after {content: \"\";width: 100%;border-bottom: 1px solid gray;flex-grow: 1;}#sk-container-id-9 div.sk-label:hover label.sk-toggleable__label {background-color: #d4ebff;}#sk-container-id-9 div.sk-serial::before {content: \"\";position: absolute;border-left: 1px solid gray;box-sizing: border-box;top: 0;bottom: 0;left: 50%;z-index: 0;}#sk-container-id-9 div.sk-serial {display: flex;flex-direction: column;align-items: center;background-color: white;padding-right: 0.2em;padding-left: 0.2em;position: relative;}#sk-container-id-9 div.sk-item {position: relative;z-index: 1;}#sk-container-id-9 div.sk-parallel {display: flex;align-items: stretch;justify-content: center;background-color: white;position: relative;}#sk-container-id-9 div.sk-item::before, #sk-container-id-9 div.sk-parallel-item::before {content: \"\";position: absolute;border-left: 1px solid gray;box-sizing: border-box;top: 0;bottom: 0;left: 50%;z-index: -1;}#sk-container-id-9 div.sk-parallel-item {display: flex;flex-direction: column;z-index: 1;position: relative;background-color: white;}#sk-container-id-9 div.sk-parallel-item:first-child::after {align-self: flex-end;width: 50%;}#sk-container-id-9 div.sk-parallel-item:last-child::after {align-self: flex-start;width: 50%;}#sk-container-id-9 div.sk-parallel-item:only-child::after {width: 0;}#sk-container-id-9 div.sk-dashed-wrapped {border: 1px dashed gray;margin: 0 0.4em 0.5em 0.4em;box-sizing: border-box;padding-bottom: 0.4em;background-color: white;}#sk-container-id-9 div.sk-label label {font-family: monospace;font-weight: bold;display: inline-block;line-height: 1.2em;}#sk-container-id-9 div.sk-label-container {text-align: center;}#sk-container-id-9 div.sk-container {/* jupyter's `normalize.less` sets `[hidden] { display: none; }` but bootstrap.min.css set `[hidden] { display: none !important; }` so we also need the `!important` here to be able to override the default hidden behavior on the sphinx rendered scikit-learn.org. See: https://github.com/scikit-learn/scikit-learn/issues/21755 */display: inline-block !important;position: relative;}#sk-container-id-9 div.sk-text-repr-fallback {display: none;}</style><div id=\"sk-container-id-9\" class=\"sk-top-container\"><div class=\"sk-text-repr-fallback\"><pre>XGBRegressor(base_score=None, booster=None, callbacks=None,\n",
       "             colsample_bylevel=None, colsample_bynode=None,\n",
       "             colsample_bytree=None, early_stopping_rounds=None,\n",
       "             enable_categorical=False, eval_metric=None, feature_types=None,\n",
       "             gamma=0.0, gpu_id=None, grow_policy=None, importance_type=None,\n",
       "             interaction_constraints=None, learning_rate=0.1, max_bin=None,\n",
       "             max_cat_threshold=None, max_cat_to_onehot=None,\n",
       "             max_delta_step=None, max_depth=7, max_leaves=None,\n",
       "             min_child_weight=None, missing=nan, monotone_constraints=None,\n",
       "             n_estimators=500, n_jobs=None, num_parallel_tree=None,\n",
       "             predictor=None, random_state=1, ...)</pre><b>In a Jupyter environment, please rerun this cell to show the HTML representation or trust the notebook. <br />On GitHub, the HTML representation is unable to render, please try loading this page with nbviewer.org.</b></div><div class=\"sk-container\" hidden><div class=\"sk-item\"><div class=\"sk-estimator sk-toggleable\"><input class=\"sk-toggleable__control sk-hidden--visually\" id=\"sk-estimator-id-9\" type=\"checkbox\" checked><label for=\"sk-estimator-id-9\" class=\"sk-toggleable__label sk-toggleable__label-arrow\">XGBRegressor</label><div class=\"sk-toggleable__content\"><pre>XGBRegressor(base_score=None, booster=None, callbacks=None,\n",
       "             colsample_bylevel=None, colsample_bynode=None,\n",
       "             colsample_bytree=None, early_stopping_rounds=None,\n",
       "             enable_categorical=False, eval_metric=None, feature_types=None,\n",
       "             gamma=0.0, gpu_id=None, grow_policy=None, importance_type=None,\n",
       "             interaction_constraints=None, learning_rate=0.1, max_bin=None,\n",
       "             max_cat_threshold=None, max_cat_to_onehot=None,\n",
       "             max_delta_step=None, max_depth=7, max_leaves=None,\n",
       "             min_child_weight=None, missing=nan, monotone_constraints=None,\n",
       "             n_estimators=500, n_jobs=None, num_parallel_tree=None,\n",
       "             predictor=None, random_state=1, ...)</pre></div></div></div></div></div>"
      ],
      "text/plain": [
       "XGBRegressor(base_score=None, booster=None, callbacks=None,\n",
       "             colsample_bylevel=None, colsample_bynode=None,\n",
       "             colsample_bytree=None, early_stopping_rounds=None,\n",
       "             enable_categorical=False, eval_metric=None, feature_types=None,\n",
       "             gamma=0.0, gpu_id=None, grow_policy=None, importance_type=None,\n",
       "             interaction_constraints=None, learning_rate=0.1, max_bin=None,\n",
       "             max_cat_threshold=None, max_cat_to_onehot=None,\n",
       "             max_delta_step=None, max_depth=7, max_leaves=None,\n",
       "             min_child_weight=None, missing=nan, monotone_constraints=None,\n",
       "             n_estimators=500, n_jobs=None, num_parallel_tree=None,\n",
       "             predictor=None, random_state=1, ...)"
      ]
     },
     "execution_count": 195,
     "metadata": {},
     "output_type": "execute_result"
    }
   ],
   "source": [
    "model.fit(train_X, train_y)"
   ]
  },
  {
   "cell_type": "code",
   "execution_count": 196,
   "metadata": {},
   "outputs": [],
   "source": [
    "pred_y = model.predict(test_X)"
   ]
  },
  {
   "cell_type": "code",
   "execution_count": 197,
   "metadata": {},
   "outputs": [
    {
     "name": "stdout",
     "output_type": "stream",
     "text": [
      "rmse 833.4500390031344\n"
     ]
    },
    {
     "data": {
      "text/plain": [
       "833.4500390031344"
      ]
     },
     "execution_count": 197,
     "metadata": {},
     "output_type": "execute_result"
    }
   ],
   "source": [
    "rmse(np.exp(pred_y), test_y['TARGET_Weighted_RetailPrice'])"
   ]
  },
  {
   "cell_type": "code",
   "execution_count": 198,
   "metadata": {},
   "outputs": [
    {
     "data": {
      "text/plain": [
       "array([27273.81 , 27283.02 , 30449.936, 30434.316, 37325.516, 25422.422,\n",
       "       30755.531, 34818.957, 26377.064, 29019.754, 28974.54 , 27906.215,\n",
       "       21799.537, 22735.22 , 23901.432, 24388.05 , 30287.143, 30143.037,\n",
       "       32770.547, 33014.5  , 24127.52 , 20190.697, 20345.852, 17333.164,\n",
       "       14887.231, 17426.479, 14696.695, 14864.392, 24478.975, 30536.072,\n",
       "       26384.94 , 28351.053, 26698.885, 28113.527, 33167.97 , 34421.312,\n",
       "       27257.74 , 28966.887, 15821.281, 17585.582, 22870.984, 30280.385,\n",
       "       25699.145, 27909.861, 22009.709, 26041.684, 23029.424, 23367.291,\n",
       "       24418.516, 28545.143, 25567.21 , 29714.398, 28834.314, 32544.252,\n",
       "       29217.752, 33473.727, 34407.82 , 19293.145, 19581.928, 22531.826,\n",
       "       30430.486, 35169.203, 26145.678, 27011.98 , 33137.742, 33984.2  ,\n",
       "       27440.654, 28259.166, 15630.815], dtype=float32)"
      ]
     },
     "execution_count": 198,
     "metadata": {},
     "output_type": "execute_result"
    }
   ],
   "source": [
    "np.exp(pred_y)"
   ]
  },
  {
   "cell_type": "code",
   "execution_count": 199,
   "metadata": {},
   "outputs": [
    {
     "data": {
      "text/plain": [
       "3157     27099.109589\n",
       "3158     28599.109589\n",
       "3159     29259.109589\n",
       "3160     30759.109589\n",
       "3163     36715.000000\n",
       "             ...     \n",
       "11902    33575.089180\n",
       "11903    34975.089180\n",
       "11904    27375.089180\n",
       "11905    28775.089180\n",
       "12677    15499.315068\n",
       "Name: TARGET_Weighted_RetailPrice, Length: 69, dtype: float64"
      ]
     },
     "execution_count": 199,
     "metadata": {},
     "output_type": "execute_result"
    }
   ],
   "source": [
    "test_y['TARGET_Weighted_RetailPrice']"
   ]
  },
  {
   "attachments": {},
   "cell_type": "markdown",
   "metadata": {},
   "source": [
    "## MidPrice_Midsize"
   ]
  },
  {
   "cell_type": "code",
   "execution_count": 200,
   "metadata": {},
   "outputs": [],
   "source": [
    "model_name = 'MidPrice_Midsize'"
   ]
  },
  {
   "cell_type": "code",
   "execution_count": 201,
   "metadata": {},
   "outputs": [],
   "source": [
    "target = 'TARGET_Weighted_RetailPrice'\n",
    "model_gen = '3rd'"
   ]
  },
  {
   "cell_type": "code",
   "execution_count": 202,
   "metadata": {},
   "outputs": [],
   "source": [
    "features = pd.read_csv('../01_Outputs/modeling_'+ model_gen + '/df_model_'+model_name+'.csv').dropna()"
   ]
  },
  {
   "cell_type": "code",
   "execution_count": 203,
   "metadata": {},
   "outputs": [],
   "source": [
    "features = features.rename(columns={'SPEC_duration_months1007':'SPEC_Warranty_wholevehicle_duration_Months',\n",
    "                                    'SPEC_duration_months1010':'SPEC_Warranty_powertrain_duration_Months',\n",
    "                                    'SPEC_duration_months1013':'SPEC_Warranty_anticorrosion_duration_Months',\n",
    "                                    'SPEC_duration_months1016':'SPEC_Warranty_paint_duration_Months',\n",
    "                                    'SPEC_distance_km1008':'SPEC_Warranty_wholevehicle_distance_km',\n",
    "                                    'SPEC_distance_km1011':'SPEC_Warranty_powertrain_distance_km',\n",
    "                                    'SPEC_distance_km1014':'SPEC_Warranty_anticorrosion_distance_km',\n",
    "                                    'SPEC_distance_km1017':'SPEC_Warranty_paint_distance_km'})"
   ]
  },
  {
   "cell_type": "code",
   "execution_count": 204,
   "metadata": {},
   "outputs": [],
   "source": [
    "features = features.columns"
   ]
  },
  {
   "cell_type": "code",
   "execution_count": 205,
   "metadata": {},
   "outputs": [],
   "source": [
    "df_test = df_model_LowPrice_Smallsize[df_model_LowPrice_Smallsize['FLAG_Forecasted']==True]"
   ]
  },
  {
   "cell_type": "code",
   "execution_count": 206,
   "metadata": {},
   "outputs": [],
   "source": [
    "df_train = df_model_LowPrice_Smallsize[df_model_LowPrice_Smallsize['FLAG_Forecasted']==False]"
   ]
  },
  {
   "cell_type": "code",
   "execution_count": 207,
   "metadata": {},
   "outputs": [],
   "source": [
    "test_y = df_test[[target]]"
   ]
  },
  {
   "cell_type": "code",
   "execution_count": 208,
   "metadata": {},
   "outputs": [],
   "source": [
    "test_X = df_test[features].drop(target, axis=1)"
   ]
  },
  {
   "cell_type": "code",
   "execution_count": 209,
   "metadata": {},
   "outputs": [],
   "source": [
    "train_X = df_train[features].drop(target, axis=1)"
   ]
  },
  {
   "cell_type": "code",
   "execution_count": 210,
   "metadata": {},
   "outputs": [],
   "source": [
    "train_y = df_train[[target]]\n",
    "train_y = np.log(train_y)"
   ]
  },
  {
   "cell_type": "code",
   "execution_count": 211,
   "metadata": {},
   "outputs": [],
   "source": [
    "model = xgb.XGBRegressor(**{'random_state': 1, 'n_estimators': 500, 'max_depth': 10, 'learning_rate': 0.1, 'gamma': 0.0})"
   ]
  },
  {
   "cell_type": "code",
   "execution_count": 212,
   "metadata": {},
   "outputs": [
    {
     "data": {
      "text/html": [
       "<style>#sk-container-id-10 {color: black;background-color: white;}#sk-container-id-10 pre{padding: 0;}#sk-container-id-10 div.sk-toggleable {background-color: white;}#sk-container-id-10 label.sk-toggleable__label {cursor: pointer;display: block;width: 100%;margin-bottom: 0;padding: 0.3em;box-sizing: border-box;text-align: center;}#sk-container-id-10 label.sk-toggleable__label-arrow:before {content: \"▸\";float: left;margin-right: 0.25em;color: #696969;}#sk-container-id-10 label.sk-toggleable__label-arrow:hover:before {color: black;}#sk-container-id-10 div.sk-estimator:hover label.sk-toggleable__label-arrow:before {color: black;}#sk-container-id-10 div.sk-toggleable__content {max-height: 0;max-width: 0;overflow: hidden;text-align: left;background-color: #f0f8ff;}#sk-container-id-10 div.sk-toggleable__content pre {margin: 0.2em;color: black;border-radius: 0.25em;background-color: #f0f8ff;}#sk-container-id-10 input.sk-toggleable__control:checked~div.sk-toggleable__content {max-height: 200px;max-width: 100%;overflow: auto;}#sk-container-id-10 input.sk-toggleable__control:checked~label.sk-toggleable__label-arrow:before {content: \"▾\";}#sk-container-id-10 div.sk-estimator input.sk-toggleable__control:checked~label.sk-toggleable__label {background-color: #d4ebff;}#sk-container-id-10 div.sk-label input.sk-toggleable__control:checked~label.sk-toggleable__label {background-color: #d4ebff;}#sk-container-id-10 input.sk-hidden--visually {border: 0;clip: rect(1px 1px 1px 1px);clip: rect(1px, 1px, 1px, 1px);height: 1px;margin: -1px;overflow: hidden;padding: 0;position: absolute;width: 1px;}#sk-container-id-10 div.sk-estimator {font-family: monospace;background-color: #f0f8ff;border: 1px dotted black;border-radius: 0.25em;box-sizing: border-box;margin-bottom: 0.5em;}#sk-container-id-10 div.sk-estimator:hover {background-color: #d4ebff;}#sk-container-id-10 div.sk-parallel-item::after {content: \"\";width: 100%;border-bottom: 1px solid gray;flex-grow: 1;}#sk-container-id-10 div.sk-label:hover label.sk-toggleable__label {background-color: #d4ebff;}#sk-container-id-10 div.sk-serial::before {content: \"\";position: absolute;border-left: 1px solid gray;box-sizing: border-box;top: 0;bottom: 0;left: 50%;z-index: 0;}#sk-container-id-10 div.sk-serial {display: flex;flex-direction: column;align-items: center;background-color: white;padding-right: 0.2em;padding-left: 0.2em;position: relative;}#sk-container-id-10 div.sk-item {position: relative;z-index: 1;}#sk-container-id-10 div.sk-parallel {display: flex;align-items: stretch;justify-content: center;background-color: white;position: relative;}#sk-container-id-10 div.sk-item::before, #sk-container-id-10 div.sk-parallel-item::before {content: \"\";position: absolute;border-left: 1px solid gray;box-sizing: border-box;top: 0;bottom: 0;left: 50%;z-index: -1;}#sk-container-id-10 div.sk-parallel-item {display: flex;flex-direction: column;z-index: 1;position: relative;background-color: white;}#sk-container-id-10 div.sk-parallel-item:first-child::after {align-self: flex-end;width: 50%;}#sk-container-id-10 div.sk-parallel-item:last-child::after {align-self: flex-start;width: 50%;}#sk-container-id-10 div.sk-parallel-item:only-child::after {width: 0;}#sk-container-id-10 div.sk-dashed-wrapped {border: 1px dashed gray;margin: 0 0.4em 0.5em 0.4em;box-sizing: border-box;padding-bottom: 0.4em;background-color: white;}#sk-container-id-10 div.sk-label label {font-family: monospace;font-weight: bold;display: inline-block;line-height: 1.2em;}#sk-container-id-10 div.sk-label-container {text-align: center;}#sk-container-id-10 div.sk-container {/* jupyter's `normalize.less` sets `[hidden] { display: none; }` but bootstrap.min.css set `[hidden] { display: none !important; }` so we also need the `!important` here to be able to override the default hidden behavior on the sphinx rendered scikit-learn.org. See: https://github.com/scikit-learn/scikit-learn/issues/21755 */display: inline-block !important;position: relative;}#sk-container-id-10 div.sk-text-repr-fallback {display: none;}</style><div id=\"sk-container-id-10\" class=\"sk-top-container\"><div class=\"sk-text-repr-fallback\"><pre>XGBRegressor(base_score=None, booster=None, callbacks=None,\n",
       "             colsample_bylevel=None, colsample_bynode=None,\n",
       "             colsample_bytree=None, early_stopping_rounds=None,\n",
       "             enable_categorical=False, eval_metric=None, feature_types=None,\n",
       "             gamma=0.0, gpu_id=None, grow_policy=None, importance_type=None,\n",
       "             interaction_constraints=None, learning_rate=0.1, max_bin=None,\n",
       "             max_cat_threshold=None, max_cat_to_onehot=None,\n",
       "             max_delta_step=None, max_depth=10, max_leaves=None,\n",
       "             min_child_weight=None, missing=nan, monotone_constraints=None,\n",
       "             n_estimators=500, n_jobs=None, num_parallel_tree=None,\n",
       "             predictor=None, random_state=1, ...)</pre><b>In a Jupyter environment, please rerun this cell to show the HTML representation or trust the notebook. <br />On GitHub, the HTML representation is unable to render, please try loading this page with nbviewer.org.</b></div><div class=\"sk-container\" hidden><div class=\"sk-item\"><div class=\"sk-estimator sk-toggleable\"><input class=\"sk-toggleable__control sk-hidden--visually\" id=\"sk-estimator-id-10\" type=\"checkbox\" checked><label for=\"sk-estimator-id-10\" class=\"sk-toggleable__label sk-toggleable__label-arrow\">XGBRegressor</label><div class=\"sk-toggleable__content\"><pre>XGBRegressor(base_score=None, booster=None, callbacks=None,\n",
       "             colsample_bylevel=None, colsample_bynode=None,\n",
       "             colsample_bytree=None, early_stopping_rounds=None,\n",
       "             enable_categorical=False, eval_metric=None, feature_types=None,\n",
       "             gamma=0.0, gpu_id=None, grow_policy=None, importance_type=None,\n",
       "             interaction_constraints=None, learning_rate=0.1, max_bin=None,\n",
       "             max_cat_threshold=None, max_cat_to_onehot=None,\n",
       "             max_delta_step=None, max_depth=10, max_leaves=None,\n",
       "             min_child_weight=None, missing=nan, monotone_constraints=None,\n",
       "             n_estimators=500, n_jobs=None, num_parallel_tree=None,\n",
       "             predictor=None, random_state=1, ...)</pre></div></div></div></div></div>"
      ],
      "text/plain": [
       "XGBRegressor(base_score=None, booster=None, callbacks=None,\n",
       "             colsample_bylevel=None, colsample_bynode=None,\n",
       "             colsample_bytree=None, early_stopping_rounds=None,\n",
       "             enable_categorical=False, eval_metric=None, feature_types=None,\n",
       "             gamma=0.0, gpu_id=None, grow_policy=None, importance_type=None,\n",
       "             interaction_constraints=None, learning_rate=0.1, max_bin=None,\n",
       "             max_cat_threshold=None, max_cat_to_onehot=None,\n",
       "             max_delta_step=None, max_depth=10, max_leaves=None,\n",
       "             min_child_weight=None, missing=nan, monotone_constraints=None,\n",
       "             n_estimators=500, n_jobs=None, num_parallel_tree=None,\n",
       "             predictor=None, random_state=1, ...)"
      ]
     },
     "execution_count": 212,
     "metadata": {},
     "output_type": "execute_result"
    }
   ],
   "source": [
    "model.fit(train_X, train_y)"
   ]
  },
  {
   "cell_type": "code",
   "execution_count": 213,
   "metadata": {},
   "outputs": [],
   "source": [
    "pred_y = model.predict(test_X)"
   ]
  },
  {
   "cell_type": "code",
   "execution_count": 214,
   "metadata": {},
   "outputs": [
    {
     "name": "stdout",
     "output_type": "stream",
     "text": [
      "rmse 856.3473873435446\n"
     ]
    },
    {
     "data": {
      "text/plain": [
       "856.3473873435446"
      ]
     },
     "execution_count": 214,
     "metadata": {},
     "output_type": "execute_result"
    }
   ],
   "source": [
    "rmse(np.exp(pred_y), test_y['TARGET_Weighted_RetailPrice'])"
   ]
  },
  {
   "cell_type": "code",
   "execution_count": 215,
   "metadata": {},
   "outputs": [
    {
     "data": {
      "text/plain": [
       "array([27157.531, 28332.89 , 28241.762, 30131.254, 35325.44 , 25690.445,\n",
       "       30888.098, 33928.63 , 25456.266, 28685.932, 28216.457, 28006.38 ,\n",
       "       21043.572, 22560.059, 23344.617, 23636.043, 30025.234, 31461.045,\n",
       "       32337.771, 33146.402, 25803.098, 19496.547, 20617.275, 18412.613,\n",
       "       15325.9  , 18386.627, 14447.21 , 15215.236, 24035.287, 30056.75 ,\n",
       "       25557.824, 26977.637, 26293.857, 26951.1  , 30151.29 , 32884.098,\n",
       "       27324.473, 28894.82 , 16378.985, 17243.67 , 22873.078, 30003.195,\n",
       "       24911.932, 27008.09 , 21671.064, 25881.84 , 22567.44 , 23285.184,\n",
       "       24262.387, 28341.998, 25607.133, 30145.51 , 28190.957, 32536.62 ,\n",
       "       28989.383, 33545.598, 34201.453, 19006.117, 19456.816, 22516.81 ,\n",
       "       29997.387, 34802.754, 25192.418, 26506.148, 32111.74 , 34601.277,\n",
       "       27257.947, 28310.77 , 15882.978], dtype=float32)"
      ]
     },
     "execution_count": 215,
     "metadata": {},
     "output_type": "execute_result"
    }
   ],
   "source": [
    "np.exp(pred_y)"
   ]
  },
  {
   "cell_type": "code",
   "execution_count": 216,
   "metadata": {},
   "outputs": [
    {
     "data": {
      "text/plain": [
       "3157     27099.109589\n",
       "3158     28599.109589\n",
       "3159     29259.109589\n",
       "3160     30759.109589\n",
       "3163     36715.000000\n",
       "             ...     \n",
       "11902    33575.089180\n",
       "11903    34975.089180\n",
       "11904    27375.089180\n",
       "11905    28775.089180\n",
       "12677    15499.315068\n",
       "Name: TARGET_Weighted_RetailPrice, Length: 69, dtype: float64"
      ]
     },
     "execution_count": 216,
     "metadata": {},
     "output_type": "execute_result"
    }
   ],
   "source": [
    "test_y['TARGET_Weighted_RetailPrice']"
   ]
  },
  {
   "cell_type": "code",
   "execution_count": 220,
   "metadata": {},
   "outputs": [],
   "source": [
    "XGB_importances = model.feature_importances_\n",
    "XGB_importances = pd.DataFrame(XGB_importances, columns=['importances'], index=test_X.columns)"
   ]
  },
  {
   "cell_type": "code",
   "execution_count": 224,
   "metadata": {},
   "outputs": [
    {
     "data": {
      "text/plain": [
       "232"
      ]
     },
     "execution_count": 224,
     "metadata": {},
     "output_type": "execute_result"
    }
   ],
   "source": [
    "len(test_X.columns)"
   ]
  },
  {
   "cell_type": "code",
   "execution_count": null,
   "metadata": {},
   "outputs": [],
   "source": []
  }
 ],
 "metadata": {
  "kernelspec": {
   "display_name": "NLP_env",
   "language": "python",
   "name": "python3"
  },
  "language_info": {
   "codemirror_mode": {
    "name": "ipython",
    "version": 3
   },
   "file_extension": ".py",
   "mimetype": "text/x-python",
   "name": "python",
   "nbconvert_exporter": "python",
   "pygments_lexer": "ipython3",
   "version": "3.8.16"
  },
  "orig_nbformat": 4
 },
 "nbformat": 4,
 "nbformat_minor": 2
}
